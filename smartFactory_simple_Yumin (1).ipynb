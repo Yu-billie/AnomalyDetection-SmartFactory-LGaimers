{
  "nbformat": 4,
  "nbformat_minor": 0,
  "metadata": {
    "colab": {
      "provenance": [],
      "toc_visible": true
    },
    "kernelspec": {
      "name": "python3",
      "display_name": "Python 3"
    },
    "language_info": {
      "name": "python"
    },
    "accelerator": "GPU",
    "gpuClass": "standard"
  },
  "cells": [
    {
      "cell_type": "markdown",
      "source": [
        "LG AI hackathon Smart Factory\n",
        "[대회 링크](https://dacon.io/competitions/official/236055/overview/description)"
      ],
      "metadata": {
        "id": "7Nq-Y7oIvUIC"
      }
    },
    {
      "cell_type": "markdown",
      "source": [
        "# Data Description\n",
        "\n",
        "**1. train.csv [파일]**\n",
        "- PRODUCT_ID : 제품의 고유 ID\n",
        "- Y_Class : 제품 품질 상태(Target) \n",
        "    - 0 : 적정 기준 미달 (부적합)\n",
        "    - 1 : 적합\n",
        "    - 2 : 적정 기준 초과 (부적합)\n",
        "- Y_Quality : 제품 품질 관련 정량적 수치\n",
        "- TIMESTAMP : 제품이 공정에 들어간 시각\n",
        "- LINE : 제품이 들어간 공정 LINE 종류 ('T050304', 'T050307', 'T100304', 'T100306', 'T010306', 'T010305' 존재)\n",
        "- PRODUCT_CODE : 제품의 CODE 번호 ('A_31', 'T_31', 'O_31' 존재)\n",
        "- X_1 ~ X_2875 : 공정 과정에서 추출되어 비식별화된 변수\n",
        "- 06.13.2022~09.08.2022 DATA\n",
        "\n",
        "\n",
        "\n",
        "**2. test.csv [파일]**\n",
        "- PRODUCT_ID : 제품의 고유 ID\n",
        "- TIMESTAMP : 제품이 공정에 들어간 시각\n",
        "- LINE : 제품이 들어간 공정 LINE 종류 ('T050304', 'T050307', 'T100304', 'T100306', 'T010306', 'T010305' 존재)\n",
        "- PRODUCT_CODE : 제품의 CODE 번호 ('A_31', 'T_31', 'O_31' 존재)\n",
        "- X_1 ~ X_2875 : 공정 과정에서 추출되어 비식별화된 변수\n",
        "- 09.09.2022~11.05.2022 DATA \n",
        "\n",
        "**3. sample_submission.csv [파일] - 제출 양식**\n",
        "- PRODUCT_ID : 제품의 고유 ID\n",
        "- Y_Class : 예측한 제품 품질 상태\n",
        "    - 0 : 적정 기준 미달 (부적합)\n",
        "    - 1 : 적합\n",
        "    - 2 : 적정 기준 초과 (부적합)\n",
        "\n",
        "- 실제 공정 과정에서의 데이터로, 보안상의 이유로 일부 변수가 비식별화 처리 되었습니다. (X변수)\n",
        "- 'LINE', 'PRODUCT_CODE'는 Train / Test 모두 동일한 종류가 존재합니다."
      ],
      "metadata": {
        "id": "AQlbReiWmbvJ"
      }
    },
    {
      "cell_type": "markdown",
      "source": [
        "## DATA LEAKAGE - RULE \n",
        "1. 대표적인 Data Leakage에 해당하는 사례\n",
        "    - Label Encoding 시 Test 데이터로부터 Encoder를 fit 시키는 경우\n",
        "    - Scaler 사용 시 Test 데이터로부터 Scaler를 fit 시키는 경우\n",
        "    Test 데이터에 대한 결측치 보간 시 Test 데이터의 통계 정보(평균, 최빈값 등)를 사용하는 경우\n",
        "    - 파생변수를 생성할 시 2개 이상의 Test 데이터들의 정보를 활용할 경우\n",
        "    - Test 데이터들의 이동 평균을 활용하는 경우\n",
        "    - Test 데이터들을 모델 학습에 활용하는 경우 (이번 해커톤에서는 Pseudo-Labeling도 허용하지 않습니다)\n",
        "    - Test 데이터에 pandas의 get_dummies() 함수를 적용하는 경우\n",
        "        - (=) Test DATA로 Encoder를 fitting 한 것과 같으므로\n",
        "        - ==> Encoder를 Train data로 fitting 한 후, Test data에 Transform (GOOD)  \n",
        "    - Test 데이터의 index 정보 혹은 row 개수 정보를 활용하는 경우\n",
        "    - Test 데이터로부터 EDA를 진행한 결과(인사이트)를 전처리, 모델 학습에 적용하는 경우\n",
        "    - 이 밖의 Test 데이터들의 정보를 모델 학습에 활용하는 모든 경우\n",
        "\n",
        "\n",
        "2. 대표적인 Data Leakage에 해당하지 않는 사례\n",
        "    - 독립적인 샘플(행(row)) 내에서의 모든 연산 혹은 파생 변수 생성\n",
        "        - 예를 들어, Test['C'] = Test['A'] + Test['B']와 같이 독립적인 샘플 내에서 A Column과 B Column을 더한 새로운 파생 변수 C Column을 생성하는 경우\n",
        "    - Train 데이터의 통계 정보를 Test 데이터에 적용하여 전처리하는 경우 혹은 파생 변수를 생성하는 경우\n",
        "    - Test 데이터의 결측치를 Train 데이터의 통계 정보를 바탕으로 보간하는 경우 \n"
      ],
      "metadata": {
        "id": "WcRYcvVrk-xf"
      }
    },
    {
      "cell_type": "markdown",
      "source": [
        "# MODULE IMPORT"
      ],
      "metadata": {
        "id": "7c9x-uVynqst"
      }
    },
    {
      "cell_type": "code",
      "source": [
        "import pandas as pd\n",
        "import random\n",
        "import os\n",
        "import numpy as np\n",
        "import matplotlib.pyplot as plt \n",
        "import seaborn as sns\n",
        "\n",
        "from sklearn.preprocessing import LabelEncoder\n",
        "from sklearn.ensemble import RandomForestClassifier\n",
        "\n",
        "from sklearn.model_selection import train_test_split \n",
        "from sklearn.metrics import accuracy_score, classification_report, f1_score\n",
        "\n",
        "import tensorflow as tf \n",
        "\n",
        "# warning message delete \n",
        "import warnings\n",
        "warnings.simplefilter(action=\"ignore\", category=FutureWarning)\n",
        "\n",
        "# google drive mount\n",
        "from google.colab import drive\n",
        "drive.mount('/content/drive')\n",
        "\n",
        "def seed_everything(seed):\n",
        "    random.seed(seed)\n",
        "    os.environ['PYTHONHASHSEED'] = str(seed)\n",
        "    np.random.seed(seed)\n",
        "seed_everything(37) "
      ],
      "metadata": {
        "id": "N524BAv7ohSr",
        "colab": {
          "base_uri": "https://localhost:8080/"
        },
        "outputId": "a80d8b7e-58d6-4b02-cfd4-d92839febfe0"
      },
      "execution_count": 1,
      "outputs": [
        {
          "output_type": "stream",
          "name": "stdout",
          "text": [
            "Mounted at /content/drive\n"
          ]
        }
      ]
    },
    {
      "cell_type": "markdown",
      "source": [
        "# 0.Data Load"
      ],
      "metadata": {
        "id": "RYf_ZaTJ9vgg"
      }
    },
    {
      "cell_type": "code",
      "source": [
        "train_df = pd.read_csv('/content/drive/MyDrive/train.csv')\n",
        "train_df = train_df.drop(columns=['PRODUCT_ID', 'TIMESTAMP'])"
      ],
      "metadata": {
        "id": "kLBoulM6u2Fb"
      },
      "execution_count": 19,
      "outputs": []
    },
    {
      "cell_type": "code",
      "source": [
        "test_df = pd.read_csv('/content/drive/MyDrive/test.csv')\n",
        "test_df = test_df.drop(columns=['PRODUCT_ID','TIMESTAMP'])"
      ],
      "metadata": {
        "id": "vOExaTnZCvnk"
      },
      "execution_count": 20,
      "outputs": []
    },
    {
      "cell_type": "markdown",
      "source": [
        "# 1.Preprocessing"
      ],
      "metadata": {
        "id": "tZ1zuCbwEzul"
      }
    },
    {
      "cell_type": "code",
      "source": [
        "train_df.fillna(0, inplace=True)\n",
        "test_df.fillna(0, inplace=True)"
      ],
      "metadata": {
        "id": "DfBC_b8LE1wD"
      },
      "execution_count": 21,
      "outputs": []
    },
    {
      "cell_type": "code",
      "source": [
        "# Merge \n",
        "col = ['LINE', 'PRODUCT_CODE']\n",
        "train_df['line_pcode'] = train_df[col].apply(lambda row: ':'.join(row.values), axis=1)\n",
        "train_df = train_df.drop(columns=['LINE', 'PRODUCT_CODE'])\n",
        "\n",
        "# Label Encoding \n",
        "from sklearn.preprocessing import LabelEncoder\n",
        "qual_col = ['line_pcode']\n",
        "\n",
        "for i in qual_col:\n",
        "    le = LabelEncoder()\n",
        "    le = le.fit(train_df[i])\n",
        "    train_df[i] = le.transform(train_df[i])\n",
        "    \n",
        "print('Done.')\n"
      ],
      "metadata": {
        "id": "wWsCTcAI7gsq",
        "colab": {
          "base_uri": "https://localhost:8080/"
        },
        "outputId": "ba0e6f71-1ce7-4e39-dc2e-1980e6f545df"
      },
      "execution_count": 22,
      "outputs": [
        {
          "output_type": "stream",
          "name": "stdout",
          "text": [
            "Done.\n"
          ]
        }
      ]
    },
    {
      "cell_type": "code",
      "source": [
        "# Merge \n",
        "col = ['LINE', 'PRODUCT_CODE']\n",
        "test_df['line_pcode'] = test_df[col].apply(lambda row: ':'.join(row.values), axis=1)\n",
        "test_df = test_df.drop(columns=['LINE', 'PRODUCT_CODE'])\n",
        "\n",
        "# Label Encoding \n",
        "for i in qual_col:\n",
        "    for label in np.unique(test_df[i]): \n",
        "        if label not in le.classes_: \n",
        "            le.classes_ = np.append(le.classes_, label)\n",
        "    test_df[i] = le.transform(test_df[i])  # CAUTION: DO NOT fit test_df (only fit train_df) \n",
        "print('Done.')"
      ],
      "metadata": {
        "id": "nT3nx4o7B085",
        "colab": {
          "base_uri": "https://localhost:8080/"
        },
        "outputId": "6d361ba4-2f35-4606-dcb9-d7784f902290"
      },
      "execution_count": 23,
      "outputs": [
        {
          "output_type": "stream",
          "name": "stdout",
          "text": [
            "Done.\n"
          ]
        }
      ]
    },
    {
      "cell_type": "markdown",
      "source": [
        "# 2.Modeling_ML"
      ],
      "metadata": {
        "id": "7GodRp6O-5TM"
      }
    },
    {
      "cell_type": "code",
      "source": [
        "X_train = train_df.drop(columns=['Y_Class'])\n",
        "y_train = train_df['Y_Class']\n",
        "test_x = test_df"
      ],
      "metadata": {
        "id": "74w733Mk-N36"
      },
      "execution_count": 24,
      "outputs": []
    },
    {
      "cell_type": "code",
      "execution_count": 25,
      "metadata": {
        "id": "ZgdDmu73y4ij",
        "outputId": "38a3cb57-5d0d-4966-f62c-60f1319d7d65",
        "colab": {
          "base_uri": "https://localhost:8080/"
        }
      },
      "outputs": [
        {
          "output_type": "stream",
          "name": "stdout",
          "text": [
            "1    0.680602\n",
            "2    0.172241\n",
            "0    0.147157\n",
            "Name: Y_Class, dtype: float64 \n",
            "\n",
            "----------------------------------------------\n",
            "\n",
            "Over-Sampling 전:\n",
            " 1    407\n",
            "2    103\n",
            "0     88\n",
            "Name: Y_Class, dtype: int64 \n",
            "\n",
            "Over-Sampling 후 Train X: (1221, 2877)\n",
            "Over-Sampling 후 Train Y: (1221,) \n",
            "\n",
            "Over-Sampling 후 '2':407\n",
            "Over-Sampling 후 '1':407\n",
            "Over-Sampling 후 '0':407\n"
          ]
        }
      ],
      "source": [
        "# OverSampling for Y_Class 0, 2 \n",
        "from imblearn.over_sampling import SMOTE\n",
        "\n",
        "# 목표변수 빈도 확인\n",
        "print(y_train.value_counts(1),\"\\n\")\n",
        "\n",
        "# Over-sampling 설정\n",
        "sm = SMOTE(sampling_strategy='auto')\n",
        "\n",
        "# train데이터를 이용한 Over-sampling\n",
        "x_resampled, y_resampled = sm.fit_resample(X_train, y_train)\n",
        "\n",
        "# 결과 확인\n",
        "print('----------------------------------------------\\n')\n",
        "print('Over-Sampling 전:\\n', y_train.value_counts(),\"\\n\")\n",
        "print('Over-Sampling 후 Train X: {}'.format(x_resampled.shape))\n",
        "print('Over-Sampling 후 Train Y: {} \\n'.format(y_resampled.shape))\n",
        "print(\"Over-Sampling 후 '2':{}\".format(sum(y_resampled==2)))\n",
        "print(\"Over-Sampling 후 '1':{}\".format(sum(y_resampled==1)))\n",
        "print(\"Over-Sampling 후 '0':{}\".format(sum(y_resampled==0)))\n",
        "\n",
        "# 데이터 결합\n",
        "train_df = pd.concat([x_resampled,y_resampled], axis=1)"
      ]
    },
    {
      "cell_type": "code",
      "source": [
        "X_train = train_df.drop(columns=['Y_Class','Y_Quality'])\n",
        "y_train = train_df['Y_Quality']\n",
        "\n",
        "test_x = test_df"
      ],
      "metadata": {
        "id": "mtzzkA9n_flg"
      },
      "execution_count": 26,
      "outputs": []
    },
    {
      "cell_type": "code",
      "source": [
        "test_x.isnull().sum().sum()"
      ],
      "metadata": {
        "colab": {
          "base_uri": "https://localhost:8080/"
        },
        "outputId": "ac673981-fd06-4355-f4c7-c56a8accb9c1",
        "id": "TTEMi25a_fli"
      },
      "execution_count": 27,
      "outputs": [
        {
          "output_type": "execute_result",
          "data": {
            "text/plain": [
              "0"
            ]
          },
          "metadata": {},
          "execution_count": 27
        }
      ]
    },
    {
      "cell_type": "markdown",
      "source": [
        "## Y_Quality 예측"
      ],
      "metadata": {
        "id": "Aveyf4DbuLHD"
      }
    },
    {
      "cell_type": "code",
      "source": [
        "from sklearn.ensemble import GradientBoostingRegressor\n",
        "\n",
        "GBR_model = GradientBoostingRegressor(random_state=37).fit(X_train, y_train) \n",
        "print('Done.') "
      ],
      "metadata": {
        "id": "U7pCY5HPsv4Q",
        "colab": {
          "base_uri": "https://localhost:8080/"
        },
        "outputId": "756781f1-549a-404c-d40b-ceca40abda19"
      },
      "execution_count": 28,
      "outputs": [
        {
          "output_type": "stream",
          "name": "stdout",
          "text": [
            "Done.\n"
          ]
        }
      ]
    },
    {
      "cell_type": "code",
      "source": [
        "preds=GBR_model.predict(test_x)  \n",
        "print('Done.')"
      ],
      "metadata": {
        "id": "N08krIFjsv-M",
        "colab": {
          "base_uri": "https://localhost:8080/"
        },
        "outputId": "5276cf8c-3cb6-427d-e46c-704828bf4dac"
      },
      "execution_count": 29,
      "outputs": [
        {
          "output_type": "stream",
          "name": "stdout",
          "text": [
            "Done.\n"
          ]
        }
      ]
    },
    {
      "cell_type": "code",
      "source": [
        "test_x['Y_Quality'] = preds\n",
        "test_x  "
      ],
      "metadata": {
        "id": "ykSx7MEFswDT",
        "colab": {
          "base_uri": "https://localhost:8080/",
          "height": 488
        },
        "outputId": "7986982d-8071-4aab-fa47-a8d65e1c4635"
      },
      "execution_count": 30,
      "outputs": [
        {
          "output_type": "execute_result",
          "data": {
            "text/plain": [
              "     X_1   X_2  X_3   X_4   X_5  X_6   X_7   X_8   X_9  X_10  ...  X_2868  \\\n",
              "0    2.0  94.0  0.0  45.0  10.0  0.0  51.0  10.0  52.0   2.0  ...     0.0   \n",
              "1    2.0  93.0  0.0  45.0  11.0  0.0  45.0  10.0  31.0   2.0  ...     0.0   \n",
              "2    2.0  95.0  0.0  45.0  11.0  0.0  45.0  10.0  31.0   2.0  ...     0.0   \n",
              "3    0.0   0.0  0.0   0.0   0.0  0.0   0.0   0.0   0.0   0.0  ...     0.0   \n",
              "4    0.0   0.0  0.0   0.0   0.0  0.0   0.0   0.0   0.0   0.0  ...     0.0   \n",
              "..   ...   ...  ...   ...   ...  ...   ...   ...   ...   ...  ...     ...   \n",
              "305  2.0  91.0  0.0  45.0  10.0  0.0  51.0  10.0  52.0   2.0  ...     0.0   \n",
              "306  2.0  96.0  0.0  45.0  11.0  0.0  45.0  10.0  31.0   2.0  ...     0.0   \n",
              "307  2.0  91.0  0.0  45.0  10.0  0.0  50.0  10.0  52.0   2.0  ...     0.0   \n",
              "308  2.0  95.0  0.0  45.0  10.0  0.0  51.0  10.0  52.0   2.0  ...     0.0   \n",
              "309  2.0  87.0  0.0  45.0  10.0  0.0  51.0  10.0  52.0   2.0  ...     0.0   \n",
              "\n",
              "     X_2869  X_2870  X_2871  X_2872  X_2873  X_2874  X_2875  line_pcode  \\\n",
              "0       0.0     0.0     0.0     0.0     0.0     0.0     0.0           7   \n",
              "1       0.0     0.0     0.0     0.0     0.0     0.0     0.0           5   \n",
              "2       0.0     0.0     0.0     0.0     0.0     0.0     0.0           5   \n",
              "3       0.0     0.0     0.0     0.0     0.0     0.0     0.0           0   \n",
              "4       0.0     0.0     0.0     0.0     0.0     0.0     0.0           1   \n",
              "..      ...     ...     ...     ...     ...     ...     ...         ...   \n",
              "305     0.0     0.0     0.0     0.0     0.0     0.0     0.0           7   \n",
              "306     0.0     0.0     0.0     0.0     0.0     0.0     0.0           5   \n",
              "307     0.0     0.0     0.0     0.0     0.0     0.0     0.0           7   \n",
              "308     0.0     0.0     0.0     0.0     0.0     0.0     0.0           7   \n",
              "309     0.0     0.0     0.0     0.0     0.0     0.0     0.0           7   \n",
              "\n",
              "     Y_Quality  \n",
              "0     0.529662  \n",
              "1     0.533127  \n",
              "2     0.531676  \n",
              "3     0.524341  \n",
              "4     0.532908  \n",
              "..         ...  \n",
              "305   0.526756  \n",
              "306   0.525750  \n",
              "307   0.528474  \n",
              "308   0.528166  \n",
              "309   0.527877  \n",
              "\n",
              "[310 rows x 2877 columns]"
            ],
            "text/html": [
              "\n",
              "  <div id=\"df-cf3713f2-0d48-4524-9a3c-8973881e9995\">\n",
              "    <div class=\"colab-df-container\">\n",
              "      <div>\n",
              "<style scoped>\n",
              "    .dataframe tbody tr th:only-of-type {\n",
              "        vertical-align: middle;\n",
              "    }\n",
              "\n",
              "    .dataframe tbody tr th {\n",
              "        vertical-align: top;\n",
              "    }\n",
              "\n",
              "    .dataframe thead th {\n",
              "        text-align: right;\n",
              "    }\n",
              "</style>\n",
              "<table border=\"1\" class=\"dataframe\">\n",
              "  <thead>\n",
              "    <tr style=\"text-align: right;\">\n",
              "      <th></th>\n",
              "      <th>X_1</th>\n",
              "      <th>X_2</th>\n",
              "      <th>X_3</th>\n",
              "      <th>X_4</th>\n",
              "      <th>X_5</th>\n",
              "      <th>X_6</th>\n",
              "      <th>X_7</th>\n",
              "      <th>X_8</th>\n",
              "      <th>X_9</th>\n",
              "      <th>X_10</th>\n",
              "      <th>...</th>\n",
              "      <th>X_2868</th>\n",
              "      <th>X_2869</th>\n",
              "      <th>X_2870</th>\n",
              "      <th>X_2871</th>\n",
              "      <th>X_2872</th>\n",
              "      <th>X_2873</th>\n",
              "      <th>X_2874</th>\n",
              "      <th>X_2875</th>\n",
              "      <th>line_pcode</th>\n",
              "      <th>Y_Quality</th>\n",
              "    </tr>\n",
              "  </thead>\n",
              "  <tbody>\n",
              "    <tr>\n",
              "      <th>0</th>\n",
              "      <td>2.0</td>\n",
              "      <td>94.0</td>\n",
              "      <td>0.0</td>\n",
              "      <td>45.0</td>\n",
              "      <td>10.0</td>\n",
              "      <td>0.0</td>\n",
              "      <td>51.0</td>\n",
              "      <td>10.0</td>\n",
              "      <td>52.0</td>\n",
              "      <td>2.0</td>\n",
              "      <td>...</td>\n",
              "      <td>0.0</td>\n",
              "      <td>0.0</td>\n",
              "      <td>0.0</td>\n",
              "      <td>0.0</td>\n",
              "      <td>0.0</td>\n",
              "      <td>0.0</td>\n",
              "      <td>0.0</td>\n",
              "      <td>0.0</td>\n",
              "      <td>7</td>\n",
              "      <td>0.529662</td>\n",
              "    </tr>\n",
              "    <tr>\n",
              "      <th>1</th>\n",
              "      <td>2.0</td>\n",
              "      <td>93.0</td>\n",
              "      <td>0.0</td>\n",
              "      <td>45.0</td>\n",
              "      <td>11.0</td>\n",
              "      <td>0.0</td>\n",
              "      <td>45.0</td>\n",
              "      <td>10.0</td>\n",
              "      <td>31.0</td>\n",
              "      <td>2.0</td>\n",
              "      <td>...</td>\n",
              "      <td>0.0</td>\n",
              "      <td>0.0</td>\n",
              "      <td>0.0</td>\n",
              "      <td>0.0</td>\n",
              "      <td>0.0</td>\n",
              "      <td>0.0</td>\n",
              "      <td>0.0</td>\n",
              "      <td>0.0</td>\n",
              "      <td>5</td>\n",
              "      <td>0.533127</td>\n",
              "    </tr>\n",
              "    <tr>\n",
              "      <th>2</th>\n",
              "      <td>2.0</td>\n",
              "      <td>95.0</td>\n",
              "      <td>0.0</td>\n",
              "      <td>45.0</td>\n",
              "      <td>11.0</td>\n",
              "      <td>0.0</td>\n",
              "      <td>45.0</td>\n",
              "      <td>10.0</td>\n",
              "      <td>31.0</td>\n",
              "      <td>2.0</td>\n",
              "      <td>...</td>\n",
              "      <td>0.0</td>\n",
              "      <td>0.0</td>\n",
              "      <td>0.0</td>\n",
              "      <td>0.0</td>\n",
              "      <td>0.0</td>\n",
              "      <td>0.0</td>\n",
              "      <td>0.0</td>\n",
              "      <td>0.0</td>\n",
              "      <td>5</td>\n",
              "      <td>0.531676</td>\n",
              "    </tr>\n",
              "    <tr>\n",
              "      <th>3</th>\n",
              "      <td>0.0</td>\n",
              "      <td>0.0</td>\n",
              "      <td>0.0</td>\n",
              "      <td>0.0</td>\n",
              "      <td>0.0</td>\n",
              "      <td>0.0</td>\n",
              "      <td>0.0</td>\n",
              "      <td>0.0</td>\n",
              "      <td>0.0</td>\n",
              "      <td>0.0</td>\n",
              "      <td>...</td>\n",
              "      <td>0.0</td>\n",
              "      <td>0.0</td>\n",
              "      <td>0.0</td>\n",
              "      <td>0.0</td>\n",
              "      <td>0.0</td>\n",
              "      <td>0.0</td>\n",
              "      <td>0.0</td>\n",
              "      <td>0.0</td>\n",
              "      <td>0</td>\n",
              "      <td>0.524341</td>\n",
              "    </tr>\n",
              "    <tr>\n",
              "      <th>4</th>\n",
              "      <td>0.0</td>\n",
              "      <td>0.0</td>\n",
              "      <td>0.0</td>\n",
              "      <td>0.0</td>\n",
              "      <td>0.0</td>\n",
              "      <td>0.0</td>\n",
              "      <td>0.0</td>\n",
              "      <td>0.0</td>\n",
              "      <td>0.0</td>\n",
              "      <td>0.0</td>\n",
              "      <td>...</td>\n",
              "      <td>0.0</td>\n",
              "      <td>0.0</td>\n",
              "      <td>0.0</td>\n",
              "      <td>0.0</td>\n",
              "      <td>0.0</td>\n",
              "      <td>0.0</td>\n",
              "      <td>0.0</td>\n",
              "      <td>0.0</td>\n",
              "      <td>1</td>\n",
              "      <td>0.532908</td>\n",
              "    </tr>\n",
              "    <tr>\n",
              "      <th>...</th>\n",
              "      <td>...</td>\n",
              "      <td>...</td>\n",
              "      <td>...</td>\n",
              "      <td>...</td>\n",
              "      <td>...</td>\n",
              "      <td>...</td>\n",
              "      <td>...</td>\n",
              "      <td>...</td>\n",
              "      <td>...</td>\n",
              "      <td>...</td>\n",
              "      <td>...</td>\n",
              "      <td>...</td>\n",
              "      <td>...</td>\n",
              "      <td>...</td>\n",
              "      <td>...</td>\n",
              "      <td>...</td>\n",
              "      <td>...</td>\n",
              "      <td>...</td>\n",
              "      <td>...</td>\n",
              "      <td>...</td>\n",
              "      <td>...</td>\n",
              "    </tr>\n",
              "    <tr>\n",
              "      <th>305</th>\n",
              "      <td>2.0</td>\n",
              "      <td>91.0</td>\n",
              "      <td>0.0</td>\n",
              "      <td>45.0</td>\n",
              "      <td>10.0</td>\n",
              "      <td>0.0</td>\n",
              "      <td>51.0</td>\n",
              "      <td>10.0</td>\n",
              "      <td>52.0</td>\n",
              "      <td>2.0</td>\n",
              "      <td>...</td>\n",
              "      <td>0.0</td>\n",
              "      <td>0.0</td>\n",
              "      <td>0.0</td>\n",
              "      <td>0.0</td>\n",
              "      <td>0.0</td>\n",
              "      <td>0.0</td>\n",
              "      <td>0.0</td>\n",
              "      <td>0.0</td>\n",
              "      <td>7</td>\n",
              "      <td>0.526756</td>\n",
              "    </tr>\n",
              "    <tr>\n",
              "      <th>306</th>\n",
              "      <td>2.0</td>\n",
              "      <td>96.0</td>\n",
              "      <td>0.0</td>\n",
              "      <td>45.0</td>\n",
              "      <td>11.0</td>\n",
              "      <td>0.0</td>\n",
              "      <td>45.0</td>\n",
              "      <td>10.0</td>\n",
              "      <td>31.0</td>\n",
              "      <td>2.0</td>\n",
              "      <td>...</td>\n",
              "      <td>0.0</td>\n",
              "      <td>0.0</td>\n",
              "      <td>0.0</td>\n",
              "      <td>0.0</td>\n",
              "      <td>0.0</td>\n",
              "      <td>0.0</td>\n",
              "      <td>0.0</td>\n",
              "      <td>0.0</td>\n",
              "      <td>5</td>\n",
              "      <td>0.525750</td>\n",
              "    </tr>\n",
              "    <tr>\n",
              "      <th>307</th>\n",
              "      <td>2.0</td>\n",
              "      <td>91.0</td>\n",
              "      <td>0.0</td>\n",
              "      <td>45.0</td>\n",
              "      <td>10.0</td>\n",
              "      <td>0.0</td>\n",
              "      <td>50.0</td>\n",
              "      <td>10.0</td>\n",
              "      <td>52.0</td>\n",
              "      <td>2.0</td>\n",
              "      <td>...</td>\n",
              "      <td>0.0</td>\n",
              "      <td>0.0</td>\n",
              "      <td>0.0</td>\n",
              "      <td>0.0</td>\n",
              "      <td>0.0</td>\n",
              "      <td>0.0</td>\n",
              "      <td>0.0</td>\n",
              "      <td>0.0</td>\n",
              "      <td>7</td>\n",
              "      <td>0.528474</td>\n",
              "    </tr>\n",
              "    <tr>\n",
              "      <th>308</th>\n",
              "      <td>2.0</td>\n",
              "      <td>95.0</td>\n",
              "      <td>0.0</td>\n",
              "      <td>45.0</td>\n",
              "      <td>10.0</td>\n",
              "      <td>0.0</td>\n",
              "      <td>51.0</td>\n",
              "      <td>10.0</td>\n",
              "      <td>52.0</td>\n",
              "      <td>2.0</td>\n",
              "      <td>...</td>\n",
              "      <td>0.0</td>\n",
              "      <td>0.0</td>\n",
              "      <td>0.0</td>\n",
              "      <td>0.0</td>\n",
              "      <td>0.0</td>\n",
              "      <td>0.0</td>\n",
              "      <td>0.0</td>\n",
              "      <td>0.0</td>\n",
              "      <td>7</td>\n",
              "      <td>0.528166</td>\n",
              "    </tr>\n",
              "    <tr>\n",
              "      <th>309</th>\n",
              "      <td>2.0</td>\n",
              "      <td>87.0</td>\n",
              "      <td>0.0</td>\n",
              "      <td>45.0</td>\n",
              "      <td>10.0</td>\n",
              "      <td>0.0</td>\n",
              "      <td>51.0</td>\n",
              "      <td>10.0</td>\n",
              "      <td>52.0</td>\n",
              "      <td>2.0</td>\n",
              "      <td>...</td>\n",
              "      <td>0.0</td>\n",
              "      <td>0.0</td>\n",
              "      <td>0.0</td>\n",
              "      <td>0.0</td>\n",
              "      <td>0.0</td>\n",
              "      <td>0.0</td>\n",
              "      <td>0.0</td>\n",
              "      <td>0.0</td>\n",
              "      <td>7</td>\n",
              "      <td>0.527877</td>\n",
              "    </tr>\n",
              "  </tbody>\n",
              "</table>\n",
              "<p>310 rows × 2877 columns</p>\n",
              "</div>\n",
              "      <button class=\"colab-df-convert\" onclick=\"convertToInteractive('df-cf3713f2-0d48-4524-9a3c-8973881e9995')\"\n",
              "              title=\"Convert this dataframe to an interactive table.\"\n",
              "              style=\"display:none;\">\n",
              "        \n",
              "  <svg xmlns=\"http://www.w3.org/2000/svg\" height=\"24px\"viewBox=\"0 0 24 24\"\n",
              "       width=\"24px\">\n",
              "    <path d=\"M0 0h24v24H0V0z\" fill=\"none\"/>\n",
              "    <path d=\"M18.56 5.44l.94 2.06.94-2.06 2.06-.94-2.06-.94-.94-2.06-.94 2.06-2.06.94zm-11 1L8.5 8.5l.94-2.06 2.06-.94-2.06-.94L8.5 2.5l-.94 2.06-2.06.94zm10 10l.94 2.06.94-2.06 2.06-.94-2.06-.94-.94-2.06-.94 2.06-2.06.94z\"/><path d=\"M17.41 7.96l-1.37-1.37c-.4-.4-.92-.59-1.43-.59-.52 0-1.04.2-1.43.59L10.3 9.45l-7.72 7.72c-.78.78-.78 2.05 0 2.83L4 21.41c.39.39.9.59 1.41.59.51 0 1.02-.2 1.41-.59l7.78-7.78 2.81-2.81c.8-.78.8-2.07 0-2.86zM5.41 20L4 18.59l7.72-7.72 1.47 1.35L5.41 20z\"/>\n",
              "  </svg>\n",
              "      </button>\n",
              "      \n",
              "  <style>\n",
              "    .colab-df-container {\n",
              "      display:flex;\n",
              "      flex-wrap:wrap;\n",
              "      gap: 12px;\n",
              "    }\n",
              "\n",
              "    .colab-df-convert {\n",
              "      background-color: #E8F0FE;\n",
              "      border: none;\n",
              "      border-radius: 50%;\n",
              "      cursor: pointer;\n",
              "      display: none;\n",
              "      fill: #1967D2;\n",
              "      height: 32px;\n",
              "      padding: 0 0 0 0;\n",
              "      width: 32px;\n",
              "    }\n",
              "\n",
              "    .colab-df-convert:hover {\n",
              "      background-color: #E2EBFA;\n",
              "      box-shadow: 0px 1px 2px rgba(60, 64, 67, 0.3), 0px 1px 3px 1px rgba(60, 64, 67, 0.15);\n",
              "      fill: #174EA6;\n",
              "    }\n",
              "\n",
              "    [theme=dark] .colab-df-convert {\n",
              "      background-color: #3B4455;\n",
              "      fill: #D2E3FC;\n",
              "    }\n",
              "\n",
              "    [theme=dark] .colab-df-convert:hover {\n",
              "      background-color: #434B5C;\n",
              "      box-shadow: 0px 1px 3px 1px rgba(0, 0, 0, 0.15);\n",
              "      filter: drop-shadow(0px 1px 2px rgba(0, 0, 0, 0.3));\n",
              "      fill: #FFFFFF;\n",
              "    }\n",
              "  </style>\n",
              "\n",
              "      <script>\n",
              "        const buttonEl =\n",
              "          document.querySelector('#df-cf3713f2-0d48-4524-9a3c-8973881e9995 button.colab-df-convert');\n",
              "        buttonEl.style.display =\n",
              "          google.colab.kernel.accessAllowed ? 'block' : 'none';\n",
              "\n",
              "        async function convertToInteractive(key) {\n",
              "          const element = document.querySelector('#df-cf3713f2-0d48-4524-9a3c-8973881e9995');\n",
              "          const dataTable =\n",
              "            await google.colab.kernel.invokeFunction('convertToInteractive',\n",
              "                                                     [key], {});\n",
              "          if (!dataTable) return;\n",
              "\n",
              "          const docLinkHtml = 'Like what you see? Visit the ' +\n",
              "            '<a target=\"_blank\" href=https://colab.research.google.com/notebooks/data_table.ipynb>data table notebook</a>'\n",
              "            + ' to learn more about interactive tables.';\n",
              "          element.innerHTML = '';\n",
              "          dataTable['output_type'] = 'display_data';\n",
              "          await google.colab.output.renderOutput(dataTable, element);\n",
              "          const docLink = document.createElement('div');\n",
              "          docLink.innerHTML = docLinkHtml;\n",
              "          element.appendChild(docLink);\n",
              "        }\n",
              "      </script>\n",
              "    </div>\n",
              "  </div>\n",
              "  "
            ]
          },
          "metadata": {},
          "execution_count": 30
        }
      ]
    },
    {
      "cell_type": "code",
      "source": [
        "sns.countplot(x=preds);"
      ],
      "metadata": {
        "colab": {
          "base_uri": "https://localhost:8080/",
          "height": 265
        },
        "id": "bP9e3szwGvDU",
        "outputId": "975ce053-5329-49c3-8672-61920b9c65e1"
      },
      "execution_count": 31,
      "outputs": [
        {
          "output_type": "display_data",
          "data": {
            "text/plain": [
              "<Figure size 432x288 with 1 Axes>"
            ],
            "image/png": "[encoded data removed]"
          },
          "metadata": {
            "needs_background": "light"
          }
        }
      ]
    },
    {
      "cell_type": "markdown",
      "source": [
        "## 다시 Y_Class 예측"
      ],
      "metadata": {
        "id": "UgNEMkg7uGNe"
      }
    },
    {
      "cell_type": "code",
      "source": [
        "# X_train = train_df\n",
        "X_train = train_df.drop(columns=['Y_Class'])\n",
        "X_train = pd.DataFrame(train_df['Y_Quality'])\n",
        "y_train = train_df['Y_Class']"
      ],
      "metadata": {
        "id": "XyiKQJUeuHOu"
      },
      "execution_count": 32,
      "outputs": []
    },
    {
      "cell_type": "code",
      "source": [
        "X_train.isnull().sum()"
      ],
      "metadata": {
        "colab": {
          "base_uri": "https://localhost:8080/"
        },
        "id": "WV4E6K-JyShA",
        "outputId": "9a9e496a-d19c-440c-ea23-f0e3db2b9338"
      },
      "execution_count": 33,
      "outputs": [
        {
          "output_type": "execute_result",
          "data": {
            "text/plain": [
              "Y_Quality    0\n",
              "dtype: int64"
            ]
          },
          "metadata": {},
          "execution_count": 33
        }
      ]
    },
    {
      "cell_type": "code",
      "source": [
        "from sklearn.ensemble import GradientBoostingClassifier\n",
        "\n",
        "GBC_model =  GradientBoostingClassifier(random_state=37).fit(X_train, y_train)\n",
        "print('Done.')"
      ],
      "metadata": {
        "colab": {
          "base_uri": "https://localhost:8080/"
        },
        "id": "ov8uVwu2uHfF",
        "outputId": "3f8f4174-f05b-44f9-cced-7df4fa5ac146"
      },
      "execution_count": 34,
      "outputs": [
        {
          "output_type": "stream",
          "name": "stdout",
          "text": [
            "Done.\n"
          ]
        }
      ]
    },
    {
      "cell_type": "code",
      "source": [
        "test_x\n",
        "# test_x = test_x.drop(columns=['LINE//','PRODUCT_CODE'])\n",
        "# test_x = test_x['Y_Quality']  \n",
        "test_x = pd.DataFrame(test_x, columns=['Y_Quality'])\n",
        "# test_x = test_x['Y_Quality']"
      ],
      "metadata": {
        "id": "b4_T3w6sv3SA"
      },
      "execution_count": 35,
      "outputs": []
    },
    {
      "cell_type": "code",
      "source": [
        "test_x.isnull().sum()"
      ],
      "metadata": {
        "colab": {
          "base_uri": "https://localhost:8080/"
        },
        "id": "UNOiP_f83OEB",
        "outputId": "33c55e40-10ea-435c-cdf4-5eba0cd53a61"
      },
      "execution_count": 36,
      "outputs": [
        {
          "output_type": "execute_result",
          "data": {
            "text/plain": [
              "Y_Quality    0\n",
              "dtype: int64"
            ]
          },
          "metadata": {},
          "execution_count": 36
        }
      ]
    },
    {
      "cell_type": "code",
      "source": [
        "preds = GBC_model.predict(test_x)  \n",
        "print('Done.')   "
      ],
      "metadata": {
        "colab": {
          "base_uri": "https://localhost:8080/"
        },
        "id": "mncvR7m1wE-3",
        "outputId": "efd71957-4096-4e0c-b163-600ea36f0811"
      },
      "execution_count": 37,
      "outputs": [
        {
          "output_type": "stream",
          "name": "stdout",
          "text": [
            "Done.\n"
          ]
        }
      ]
    },
    {
      "cell_type": "code",
      "source": [
        "preds"
      ],
      "metadata": {
        "colab": {
          "base_uri": "https://localhost:8080/"
        },
        "id": "GVailz2p8_VT",
        "outputId": "87c07bf5-5fde-4392-d986-a26243af0682"
      },
      "execution_count": 38,
      "outputs": [
        {
          "output_type": "execute_result",
          "data": {
            "text/plain": [
              "array([1, 1, 1, 0, 1, 1, 1, 0, 0, 2, 1, 1, 2, 1, 0, 0, 1, 1, 1, 1, 0, 1,\n",
              "       0, 0, 1, 0, 1, 0, 0, 1, 0, 1, 0, 1, 1, 0, 1, 0, 2, 0, 1, 1, 1, 1,\n",
              "       1, 1, 1, 0, 1, 0, 1, 0, 1, 1, 1, 1, 1, 1, 0, 1, 1, 1, 1, 1, 0, 0,\n",
              "       0, 1, 1, 1, 1, 0, 1, 1, 1, 1, 1, 1, 2, 1, 1, 1, 2, 2, 1, 1, 0, 1,\n",
              "       0, 0, 1, 1, 1, 2, 1, 2, 1, 2, 1, 2, 1, 2, 1, 2, 1, 1, 2, 1, 2, 1,\n",
              "       1, 1, 1, 2, 1, 1, 1, 0, 1, 2, 1, 1, 2, 2, 1, 1, 2, 1, 1, 1, 1, 1,\n",
              "       1, 1, 1, 2, 1, 2, 2, 1, 1, 0, 0, 1, 2, 2, 1, 2, 1, 1, 1, 2, 1, 1,\n",
              "       1, 1, 1, 1, 2, 1, 2, 2, 1, 2, 1, 1, 1, 1, 1, 2, 1, 1, 2, 1, 1, 1,\n",
              "       2, 2, 1, 2, 2, 1, 1, 2, 1, 1, 1, 2, 1, 2, 1, 2, 1, 1, 1, 1, 1, 1,\n",
              "       1, 1, 1, 1, 1, 1, 2, 1, 1, 1, 1, 1, 1, 1, 1, 1, 1, 1, 1, 1, 1, 1,\n",
              "       1, 1, 1, 1, 1, 1, 1, 1, 1, 1, 1, 1, 1, 1, 1, 1, 1, 1, 1, 1, 1, 1,\n",
              "       1, 1, 1, 1, 1, 1, 1, 2, 1, 1, 1, 1, 1, 1, 1, 0, 1, 1, 2, 1, 1, 2,\n",
              "       1, 1, 1, 1, 1, 1, 1, 1, 1, 1, 1, 1, 1, 1, 1, 1, 1, 1, 1, 2, 1, 1,\n",
              "       1, 1, 1, 1, 1, 1, 1, 1, 0, 1, 0, 1, 1, 1, 1, 1, 1, 1, 1, 1, 1, 1,\n",
              "       1, 1])"
            ]
          },
          "metadata": {},
          "execution_count": 38
        }
      ]
    },
    {
      "cell_type": "code",
      "source": [
        "sns.countplot(x=preds);"
      ],
      "metadata": {
        "colab": {
          "base_uri": "https://localhost:8080/",
          "height": 265
        },
        "id": "5ajeXCsP9Awa",
        "outputId": "9d28d630-229e-4e1c-d974-d9eb05908c5e"
      },
      "execution_count": 39,
      "outputs": [
        {
          "output_type": "display_data",
          "data": {
            "text/plain": [
              "<Figure size 432x288 with 1 Axes>"
            ],
            "image/png": "[encoded data removed]"
          },
          "metadata": {
            "needs_background": "light"
          }
        }
      ]
    },
    {
      "cell_type": "code",
      "source": [
        "submit = pd.read_csv('/content/drive/MyDrive/sample_submission.csv')  \n",
        "\n",
        "submit['Y_Class'] = preds \n",
        "submit.to_csv('smartFactory_submission.csv', index=False)  "
      ],
      "metadata": {
        "id": "zAzbAiHOj1CW"
      },
      "execution_count": 40,
      "outputs": []
    },
    {
      "cell_type": "code",
      "source": [],
      "metadata": {
        "id": "tFejWB5ktGP3"
      },
      "execution_count": null,
      "outputs": []
    },
    {
      "cell_type": "code",
      "source": [],
      "metadata": {
        "id": "OekK8FUNtGVy"
      },
      "execution_count": null,
      "outputs": []
    },
    {
      "cell_type": "code",
      "source": [],
      "metadata": {
        "id": "N9UhOSaxtGbk"
      },
      "execution_count": null,
      "outputs": []
    },
    {
      "cell_type": "code",
      "source": [],
      "metadata": {
        "id": "Wpo8mC2UtGwp"
      },
      "execution_count": null,
      "outputs": []
    },
    {
      "cell_type": "markdown",
      "source": [
        "## 2.2 LGBM"
      ],
      "metadata": {
        "id": "tDwqd38J9J_o"
      }
    },
    {
      "cell_type": "code",
      "source": [
        "# X_train = train_df\n",
        "X_train = train_df.drop(columns=['Y_Class', 'Y_Quality'])\n",
        "y_train = train_df[ 'Y_Quality']\n",
        "\n",
        "X_train\n",
        "\n",
        "X_train, X_test, y_train, y_test = train_test_split(X_train, y_train, \n",
        "                                                    test_size=0.2,\n",
        "                                                    random_state=2023)\n"
      ],
      "metadata": {
        "id": "KFN1bugBdlhh"
      },
      "execution_count": null,
      "outputs": []
    },
    {
      "cell_type": "code",
      "source": [
        "# hyperparameter - sensitive to setting\n",
        "## ==> setting is recommended.\n",
        "from lightgbm import LGBMRegressor\n",
        "\n",
        "LGBM_model = LGBMRegressor()\n",
        "LGBM_model.fit(X_train, y_train) \n",
        "\n",
        "LGBM_predict = tf.cast(LGBM_model.predict(X_test) > 0.5, \n",
        "                       dtype = tf.float32) \n",
        "\n",
        "print('Accuracy = ', accuracy_score(LGBM_predict, y_test))\n",
        "print('Test Report = \\n', classification_report(LGBM_predict, y_test))"
      ],
      "metadata": {
        "colab": {
          "base_uri": "https://localhost:8080/",
          "height": 363
        },
        "id": "zkR1yc5gb9DT",
        "outputId": "e6dc4d89-eebd-4bc0-e89a-4361598f0bb1"
      },
      "execution_count": null,
      "outputs": [
        {
          "output_type": "error",
          "ename": "ValueError",
          "evalue": "ignored",
          "traceback": [
            "\u001b[0;31m---------------------------------------------------------------------------\u001b[0m",
            "\u001b[0;31mValueError\u001b[0m                                Traceback (most recent call last)",
            "\u001b[0;32m<ipython-input-93-1709eabcc725>\u001b[0m in \u001b[0;36m<module>\u001b[0;34m\u001b[0m\n\u001b[1;32m      9\u001b[0m                        dtype = tf.float32)\n\u001b[1;32m     10\u001b[0m \u001b[0;34m\u001b[0m\u001b[0m\n\u001b[0;32m---> 11\u001b[0;31m \u001b[0mprint\u001b[0m\u001b[0;34m(\u001b[0m\u001b[0;34m'Accuracy = '\u001b[0m\u001b[0;34m,\u001b[0m \u001b[0maccuracy_score\u001b[0m\u001b[0;34m(\u001b[0m\u001b[0mLGBM_predict\u001b[0m\u001b[0;34m,\u001b[0m \u001b[0my_test\u001b[0m\u001b[0;34m)\u001b[0m\u001b[0;34m)\u001b[0m\u001b[0;34m\u001b[0m\u001b[0;34m\u001b[0m\u001b[0m\n\u001b[0m\u001b[1;32m     12\u001b[0m \u001b[0mprint\u001b[0m\u001b[0;34m(\u001b[0m\u001b[0;34m'Test Report = \\n'\u001b[0m\u001b[0;34m,\u001b[0m \u001b[0mclassification_report\u001b[0m\u001b[0;34m(\u001b[0m\u001b[0mLGBM_predict\u001b[0m\u001b[0;34m,\u001b[0m \u001b[0my_test\u001b[0m\u001b[0;34m)\u001b[0m\u001b[0;34m)\u001b[0m\u001b[0;34m\u001b[0m\u001b[0;34m\u001b[0m\u001b[0m\n",
            "\u001b[0;32m/usr/local/lib/python3.8/dist-packages/sklearn/metrics/_classification.py\u001b[0m in \u001b[0;36maccuracy_score\u001b[0;34m(y_true, y_pred, normalize, sample_weight)\u001b[0m\n\u001b[1;32m    209\u001b[0m \u001b[0;34m\u001b[0m\u001b[0m\n\u001b[1;32m    210\u001b[0m     \u001b[0;31m# Compute accuracy for each possible representation\u001b[0m\u001b[0;34m\u001b[0m\u001b[0;34m\u001b[0m\u001b[0;34m\u001b[0m\u001b[0m\n\u001b[0;32m--> 211\u001b[0;31m     \u001b[0my_type\u001b[0m\u001b[0;34m,\u001b[0m \u001b[0my_true\u001b[0m\u001b[0;34m,\u001b[0m \u001b[0my_pred\u001b[0m \u001b[0;34m=\u001b[0m \u001b[0m_check_targets\u001b[0m\u001b[0;34m(\u001b[0m\u001b[0my_true\u001b[0m\u001b[0;34m,\u001b[0m \u001b[0my_pred\u001b[0m\u001b[0;34m)\u001b[0m\u001b[0;34m\u001b[0m\u001b[0;34m\u001b[0m\u001b[0m\n\u001b[0m\u001b[1;32m    212\u001b[0m     \u001b[0mcheck_consistent_length\u001b[0m\u001b[0;34m(\u001b[0m\u001b[0my_true\u001b[0m\u001b[0;34m,\u001b[0m \u001b[0my_pred\u001b[0m\u001b[0;34m,\u001b[0m \u001b[0msample_weight\u001b[0m\u001b[0;34m)\u001b[0m\u001b[0;34m\u001b[0m\u001b[0;34m\u001b[0m\u001b[0m\n\u001b[1;32m    213\u001b[0m     \u001b[0;32mif\u001b[0m \u001b[0my_type\u001b[0m\u001b[0;34m.\u001b[0m\u001b[0mstartswith\u001b[0m\u001b[0;34m(\u001b[0m\u001b[0;34m\"multilabel\"\u001b[0m\u001b[0;34m)\u001b[0m\u001b[0;34m:\u001b[0m\u001b[0;34m\u001b[0m\u001b[0;34m\u001b[0m\u001b[0m\n",
            "\u001b[0;32m/usr/local/lib/python3.8/dist-packages/sklearn/metrics/_classification.py\u001b[0m in \u001b[0;36m_check_targets\u001b[0;34m(y_true, y_pred)\u001b[0m\n\u001b[1;32m     91\u001b[0m \u001b[0;34m\u001b[0m\u001b[0m\n\u001b[1;32m     92\u001b[0m     \u001b[0;32mif\u001b[0m \u001b[0mlen\u001b[0m\u001b[0;34m(\u001b[0m\u001b[0my_type\u001b[0m\u001b[0;34m)\u001b[0m \u001b[0;34m>\u001b[0m \u001b[0;36m1\u001b[0m\u001b[0;34m:\u001b[0m\u001b[0;34m\u001b[0m\u001b[0;34m\u001b[0m\u001b[0m\n\u001b[0;32m---> 93\u001b[0;31m         raise ValueError(\n\u001b[0m\u001b[1;32m     94\u001b[0m             \"Classification metrics can't handle a mix of {0} and {1} targets\".format(\n\u001b[1;32m     95\u001b[0m                 \u001b[0mtype_true\u001b[0m\u001b[0;34m,\u001b[0m \u001b[0mtype_pred\u001b[0m\u001b[0;34m\u001b[0m\u001b[0;34m\u001b[0m\u001b[0m\n",
            "\u001b[0;31mValueError\u001b[0m: Classification metrics can't handle a mix of binary and continuous targets"
          ]
        }
      ]
    },
    {
      "cell_type": "code",
      "source": [
        "test_x"
      ],
      "metadata": {
        "id": "NYVZCLOYhc8R"
      },
      "execution_count": null,
      "outputs": []
    },
    {
      "cell_type": "code",
      "source": [
        "# test_x = np.array(test_df, dtype=np.float32)\n",
        "selected_model = LGBM_model \n",
        "\n",
        "preds = selected_model.predict(X_test)  \n",
        "preds"
      ],
      "metadata": {
        "id": "KoaYYU4cW-BK"
      },
      "execution_count": null,
      "outputs": []
    },
    {
      "cell_type": "code",
      "source": [
        "sns.countplot(x=preds);"
      ],
      "metadata": {
        "id": "tnCYxu30eM6R"
      },
      "execution_count": null,
      "outputs": []
    },
    {
      "cell_type": "code",
      "source": [],
      "metadata": {
        "id": "gWwKvwMiizn4"
      },
      "execution_count": null,
      "outputs": []
    },
    {
      "cell_type": "code",
      "source": [
        "# X_train = train_df\n",
        "X_train = train_df.drop(columns=['Y_Class'])\n",
        "y_train = train_df['Y_Class']"
      ],
      "metadata": {
        "id": "LwGlb3aMi3QC"
      },
      "execution_count": null,
      "outputs": []
    },
    {
      "cell_type": "code",
      "source": [
        "X_train = pd.DataFrame(train_df['Y_Quality'])\n",
        "y_train = train_df['Y_Class']   "
      ],
      "metadata": {
        "id": "lB4kcG3ti3QC"
      },
      "execution_count": null,
      "outputs": []
    },
    {
      "cell_type": "code",
      "source": [
        "# hyperparameter - sensitive to setting\n",
        "## ==> setting is recommended.\n",
        "from lightgbm import LGBMClassifier\n",
        "\n",
        "LGBM_model = LGBMClassifier()\n",
        "LGBM_model.fit(X_train, y_train) \n",
        "\n",
        "LGBM_predict = tf.cast(LGBM_model.predict(X_test) > 0.5, \n",
        "                       dtype = tf.float32)\n",
        "\n",
        "print('Accuracy = ', accuracy_score(LGBM_predict, y_test))\n",
        "print('Test Report = \\n', classification_report(LGBM_predict, y_test))"
      ],
      "metadata": {
        "id": "Wj20sRCfiwi6"
      },
      "execution_count": null,
      "outputs": []
    },
    {
      "cell_type": "code",
      "source": [],
      "metadata": {
        "id": "5DJpEAaaity-"
      },
      "execution_count": null,
      "outputs": []
    },
    {
      "cell_type": "markdown",
      "source": [
        "## 2.3 XGBoost"
      ],
      "metadata": {
        "id": "WOGzYAlUfOsh"
      }
    },
    {
      "cell_type": "code",
      "source": [],
      "metadata": {
        "id": "ePm6VW7CfO65"
      },
      "execution_count": null,
      "outputs": []
    },
    {
      "cell_type": "code",
      "source": [
        "# hyperparameter setting isn't needed. \n",
        "from xgboost import XGBClassifier\n",
        "\n",
        "Xgboost_model = XGBClassifier()\n",
        "Xgboost_model.fit(X_train, y_train, eval_metric='aucpr')\n",
        "\n",
        "Xg_predict = tf.cast(Xgboost_model.predict(X_test) > 0.5, \n",
        "                     dtype = tf.float32)\n",
        "\n",
        "print('Accuracy = ', accuracy_score(Xg_predict, y_test))\n",
        "print('Test Report = \\n', classification_report(Xg_predict, y_test))"
      ],
      "metadata": {
        "id": "Zr2sMkCVbHVC"
      },
      "execution_count": null,
      "outputs": []
    },
    {
      "cell_type": "code",
      "source": [],
      "metadata": {
        "id": "aXeh36DbfO_c"
      },
      "execution_count": null,
      "outputs": []
    },
    {
      "cell_type": "code",
      "source": [
        "# test_x = np.array(test_df, dtype=np.float32)\n",
        "selected_model = Xgboost_model \n",
        "\n",
        "preds = test_x['Y_Quality']  \n",
        "preds"
      ],
      "metadata": {
        "id": "dW2Sratzfbc-"
      },
      "execution_count": null,
      "outputs": []
    },
    {
      "cell_type": "code",
      "source": [
        "sns.countplot(x=preds);"
      ],
      "metadata": {
        "id": "xF15aG3LfbdA"
      },
      "execution_count": null,
      "outputs": []
    },
    {
      "cell_type": "markdown",
      "source": [
        "## 2.4 RF"
      ],
      "metadata": {
        "id": "jS4OYoNhclGW"
      }
    },
    {
      "cell_type": "code",
      "source": [],
      "metadata": {
        "id": "vX3cInMfguQY"
      },
      "execution_count": null,
      "outputs": []
    },
    {
      "cell_type": "markdown",
      "source": [
        "## 2.1 Random Forest"
      ],
      "metadata": {
        "id": "CTdljE99teLX"
      }
    },
    {
      "cell_type": "code",
      "source": [
        "X = train_df.drop(columns=['Y_Quality', 'Y_Class'])\n",
        "y = train_df[['Y_Quality']]"
      ],
      "metadata": {
        "id": "wn_Zsv5E8sfn"
      },
      "execution_count": null,
      "outputs": []
    },
    {
      "cell_type": "code",
      "source": [
        "\n",
        "X_train, X_test, y_train, y_test = train_test_split(X, y,\n",
        "                                                  test_size=0.3,\n",
        "                                                  random_state=37)"
      ],
      "metadata": {
        "id": "Ye7HGX9nCJT5"
      },
      "execution_count": null,
      "outputs": []
    },
    {
      "cell_type": "code",
      "source": [
        "y_train"
      ],
      "metadata": {
        "colab": {
          "base_uri": "https://localhost:8080/",
          "height": 424
        },
        "id": "AOlcQ7iC6lu9",
        "outputId": "bf8b01fc-c26f-4793-d011-a32d3794f065"
      },
      "execution_count": null,
      "outputs": [
        {
          "output_type": "execute_result",
          "data": {
            "text/plain": [
              "     Y_Quality\n",
              "48    0.533273\n",
              "72    0.538095\n",
              "494   0.534827\n",
              "30    0.528646\n",
              "32    0.548592\n",
              "..         ...\n",
              "451   0.530294\n",
              "22    0.517719\n",
              "437   0.526906\n",
              "251   0.529097\n",
              "363   0.515892\n",
              "\n",
              "[418 rows x 1 columns]"
            ],
            "text/html": [
              "\n",
              "  <div id=\"df-c535e8f0-3ff2-4f5b-9931-1cc4858da16e\">\n",
              "    <div class=\"colab-df-container\">\n",
              "      <div>\n",
              "<style scoped>\n",
              "    .dataframe tbody tr th:only-of-type {\n",
              "        vertical-align: middle;\n",
              "    }\n",
              "\n",
              "    .dataframe tbody tr th {\n",
              "        vertical-align: top;\n",
              "    }\n",
              "\n",
              "    .dataframe thead th {\n",
              "        text-align: right;\n",
              "    }\n",
              "</style>\n",
              "<table border=\"1\" class=\"dataframe\">\n",
              "  <thead>\n",
              "    <tr style=\"text-align: right;\">\n",
              "      <th></th>\n",
              "      <th>Y_Quality</th>\n",
              "    </tr>\n",
              "  </thead>\n",
              "  <tbody>\n",
              "    <tr>\n",
              "      <th>48</th>\n",
              "      <td>0.533273</td>\n",
              "    </tr>\n",
              "    <tr>\n",
              "      <th>72</th>\n",
              "      <td>0.538095</td>\n",
              "    </tr>\n",
              "    <tr>\n",
              "      <th>494</th>\n",
              "      <td>0.534827</td>\n",
              "    </tr>\n",
              "    <tr>\n",
              "      <th>30</th>\n",
              "      <td>0.528646</td>\n",
              "    </tr>\n",
              "    <tr>\n",
              "      <th>32</th>\n",
              "      <td>0.548592</td>\n",
              "    </tr>\n",
              "    <tr>\n",
              "      <th>...</th>\n",
              "      <td>...</td>\n",
              "    </tr>\n",
              "    <tr>\n",
              "      <th>451</th>\n",
              "      <td>0.530294</td>\n",
              "    </tr>\n",
              "    <tr>\n",
              "      <th>22</th>\n",
              "      <td>0.517719</td>\n",
              "    </tr>\n",
              "    <tr>\n",
              "      <th>437</th>\n",
              "      <td>0.526906</td>\n",
              "    </tr>\n",
              "    <tr>\n",
              "      <th>251</th>\n",
              "      <td>0.529097</td>\n",
              "    </tr>\n",
              "    <tr>\n",
              "      <th>363</th>\n",
              "      <td>0.515892</td>\n",
              "    </tr>\n",
              "  </tbody>\n",
              "</table>\n",
              "<p>418 rows × 1 columns</p>\n",
              "</div>\n",
              "      <button class=\"colab-df-convert\" onclick=\"convertToInteractive('df-c535e8f0-3ff2-4f5b-9931-1cc4858da16e')\"\n",
              "              title=\"Convert this dataframe to an interactive table.\"\n",
              "              style=\"display:none;\">\n",
              "        \n",
              "  <svg xmlns=\"http://www.w3.org/2000/svg\" height=\"24px\"viewBox=\"0 0 24 24\"\n",
              "       width=\"24px\">\n",
              "    <path d=\"M0 0h24v24H0V0z\" fill=\"none\"/>\n",
              "    <path d=\"M18.56 5.44l.94 2.06.94-2.06 2.06-.94-2.06-.94-.94-2.06-.94 2.06-2.06.94zm-11 1L8.5 8.5l.94-2.06 2.06-.94-2.06-.94L8.5 2.5l-.94 2.06-2.06.94zm10 10l.94 2.06.94-2.06 2.06-.94-2.06-.94-.94-2.06-.94 2.06-2.06.94z\"/><path d=\"M17.41 7.96l-1.37-1.37c-.4-.4-.92-.59-1.43-.59-.52 0-1.04.2-1.43.59L10.3 9.45l-7.72 7.72c-.78.78-.78 2.05 0 2.83L4 21.41c.39.39.9.59 1.41.59.51 0 1.02-.2 1.41-.59l7.78-7.78 2.81-2.81c.8-.78.8-2.07 0-2.86zM5.41 20L4 18.59l7.72-7.72 1.47 1.35L5.41 20z\"/>\n",
              "  </svg>\n",
              "      </button>\n",
              "      \n",
              "  <style>\n",
              "    .colab-df-container {\n",
              "      display:flex;\n",
              "      flex-wrap:wrap;\n",
              "      gap: 12px;\n",
              "    }\n",
              "\n",
              "    .colab-df-convert {\n",
              "      background-color: #E8F0FE;\n",
              "      border: none;\n",
              "      border-radius: 50%;\n",
              "      cursor: pointer;\n",
              "      display: none;\n",
              "      fill: #1967D2;\n",
              "      height: 32px;\n",
              "      padding: 0 0 0 0;\n",
              "      width: 32px;\n",
              "    }\n",
              "\n",
              "    .colab-df-convert:hover {\n",
              "      background-color: #E2EBFA;\n",
              "      box-shadow: 0px 1px 2px rgba(60, 64, 67, 0.3), 0px 1px 3px 1px rgba(60, 64, 67, 0.15);\n",
              "      fill: #174EA6;\n",
              "    }\n",
              "\n",
              "    [theme=dark] .colab-df-convert {\n",
              "      background-color: #3B4455;\n",
              "      fill: #D2E3FC;\n",
              "    }\n",
              "\n",
              "    [theme=dark] .colab-df-convert:hover {\n",
              "      background-color: #434B5C;\n",
              "      box-shadow: 0px 1px 3px 1px rgba(0, 0, 0, 0.15);\n",
              "      filter: drop-shadow(0px 1px 2px rgba(0, 0, 0, 0.3));\n",
              "      fill: #FFFFFF;\n",
              "    }\n",
              "  </style>\n",
              "\n",
              "      <script>\n",
              "        const buttonEl =\n",
              "          document.querySelector('#df-c535e8f0-3ff2-4f5b-9931-1cc4858da16e button.colab-df-convert');\n",
              "        buttonEl.style.display =\n",
              "          google.colab.kernel.accessAllowed ? 'block' : 'none';\n",
              "\n",
              "        async function convertToInteractive(key) {\n",
              "          const element = document.querySelector('#df-c535e8f0-3ff2-4f5b-9931-1cc4858da16e');\n",
              "          const dataTable =\n",
              "            await google.colab.kernel.invokeFunction('convertToInteractive',\n",
              "                                                     [key], {});\n",
              "          if (!dataTable) return;\n",
              "\n",
              "          const docLinkHtml = 'Like what you see? Visit the ' +\n",
              "            '<a target=\"_blank\" href=https://colab.research.google.com/notebooks/data_table.ipynb>data table notebook</a>'\n",
              "            + ' to learn more about interactive tables.';\n",
              "          element.innerHTML = '';\n",
              "          dataTable['output_type'] = 'display_data';\n",
              "          await google.colab.output.renderOutput(dataTable, element);\n",
              "          const docLink = document.createElement('div');\n",
              "          docLink.innerHTML = docLinkHtml;\n",
              "          element.appendChild(docLink);\n",
              "        }\n",
              "      </script>\n",
              "    </div>\n",
              "  </div>\n",
              "  "
            ]
          },
          "metadata": {},
          "execution_count": 131
        }
      ]
    },
    {
      "cell_type": "code",
      "source": [
        "from sklearn.ensemble import RandomForestRegressor\n",
        "\n",
        "RF_model = RandomForestRegressor(n_estimators = 10,\n",
        "                                            oob_score=False)\n",
        "RF_fitted = RF_model.fit(X_train, y_train)\n",
        "preds = tf.cast(RF_fitted.predict(X_test) > 0.5, \n",
        "                     dtype = tf.float32)\n",
        "\n",
        "# print('Accuracy = ', accuracy_score(RF_predict, y_test))\n",
        "# print(\"Test Report = \\n\", classification_report(RF_predict, y_test))"
      ],
      "metadata": {
        "id": "6NU83x3q-YAO",
        "colab": {
          "base_uri": "https://localhost:8080/"
        },
        "outputId": "49e99e02-c3f0-443f-b158-5fb71b69c053"
      },
      "execution_count": null,
      "outputs": [
        {
          "output_type": "stream",
          "name": "stderr",
          "text": [
            "<ipython-input-132-8cbca3e2ef17>:5: DataConversionWarning: A column-vector y was passed when a 1d array was expected. Please change the shape of y to (n_samples,), for example using ravel().\n",
            "  RF_fitted = RF_model.fit(X_train, y_train)\n"
          ]
        }
      ]
    },
    {
      "cell_type": "code",
      "source": [
        "print(RF_fitted.score(X_train, y_train))\n",
        "print(RF_fitted.score(X_test, y_test))"
      ],
      "metadata": {
        "colab": {
          "base_uri": "https://localhost:8080/"
        },
        "id": "NusO0ggVBZ1i",
        "outputId": "b7488833-b428-4f3e-c34e-7a8ae0e357fb"
      },
      "execution_count": null,
      "outputs": [
        {
          "output_type": "stream",
          "name": "stdout",
          "text": [
            "0.908770671112057\n",
            "0.4940122172033936\n"
          ]
        }
      ]
    },
    {
      "cell_type": "code",
      "source": [],
      "metadata": {
        "id": "grkSLiFf-Ht5"
      },
      "execution_count": null,
      "outputs": []
    },
    {
      "cell_type": "code",
      "source": [],
      "metadata": {
        "id": "samQfNa3ExTK"
      },
      "execution_count": null,
      "outputs": []
    },
    {
      "cell_type": "code",
      "source": [
        "# X_train = train_df\n",
        "X_train = train_df.drop(columns=['Y_Class'])\n",
        "X_train = pd.DataFrame(train_df['Y_Quality'])\n",
        "y_train = train_df['Y_Class']"
      ],
      "metadata": {
        "id": "UP6A5NUUA48X"
      },
      "execution_count": null,
      "outputs": []
    },
    {
      "cell_type": "code",
      "source": [
        "X_train.isnull().sum()"
      ],
      "metadata": {
        "colab": {
          "base_uri": "https://localhost:8080/"
        },
        "outputId": "ee323a36-265a-4dfa-cc53-d316c98652fa",
        "id": "AnXF3qjhcmr8"
      },
      "execution_count": null,
      "outputs": [
        {
          "output_type": "execute_result",
          "data": {
            "text/plain": [
              "Y_Quality    0\n",
              "dtype: int64"
            ]
          },
          "metadata": {},
          "execution_count": 155
        }
      ]
    },
    {
      "cell_type": "code",
      "source": [
        "from sklearn.ensemble import GradientBoostingClassifier\n",
        "\n",
        "GBC_model =  GradientBoostingClassifier(random_state=37).fit(X_train, y_train)\n",
        "print('Done.')"
      ],
      "metadata": {
        "colab": {
          "base_uri": "https://localhost:8080/"
        },
        "outputId": "71846bca-8548-4f13-9353-6caf939aae5f",
        "id": "s14AkzOuA48Z"
      },
      "execution_count": null,
      "outputs": [
        {
          "output_type": "stream",
          "name": "stdout",
          "text": [
            "Done.\n"
          ]
        }
      ]
    },
    {
      "cell_type": "code",
      "source": [
        "test_x\n",
        "# test_x = test_x.drop(columns=['LINE//','PRODUCT_CODE'])\n",
        "# test_x = test_x['Y_Quality']  \n",
        "test_x = pd.DataFrame(test_x, columns=['Y_Quality'])\n",
        "# test_x = test_x['Y_Quality']"
      ],
      "metadata": {
        "id": "5PURiVZ4cmr8"
      },
      "execution_count": null,
      "outputs": []
    },
    {
      "cell_type": "code",
      "source": [
        "test_x.isnull().sum()"
      ],
      "metadata": {
        "colab": {
          "base_uri": "https://localhost:8080/"
        },
        "outputId": "7cb450e9-813a-4b7e-da73-c39a97a3eb61",
        "id": "cE0LqYbXcmr9"
      },
      "execution_count": null,
      "outputs": [
        {
          "output_type": "execute_result",
          "data": {
            "text/plain": [
              "Y_Quality    0\n",
              "dtype: int64"
            ]
          },
          "metadata": {},
          "execution_count": 158
        }
      ]
    },
    {
      "cell_type": "code",
      "source": [
        "preds = GBC_model.predict(test_x)  \n",
        "print('Done.')   "
      ],
      "metadata": {
        "colab": {
          "base_uri": "https://localhost:8080/"
        },
        "outputId": "de421847-558f-48cc-f8f1-fee6c00b33f6",
        "id": "78FJ_QCIA48Z"
      },
      "execution_count": null,
      "outputs": [
        {
          "output_type": "stream",
          "name": "stdout",
          "text": [
            "Done.\n"
          ]
        }
      ]
    },
    {
      "cell_type": "code",
      "source": [
        "preds"
      ],
      "metadata": {
        "colab": {
          "base_uri": "https://localhost:8080/"
        },
        "outputId": "5eb9b6b1-7151-416c-de18-300e949b6e52",
        "id": "KM0yYXivA48a"
      },
      "execution_count": null,
      "outputs": [
        {
          "output_type": "execute_result",
          "data": {
            "text/plain": [
              "array(['1', '1', '1', '0', '0', '0', '0', '2', '2', '0', '0', '0', '0',\n",
              "       '1', '2', '1', '1', '1', '1', '1', '1', '1', '1', '1', '1', '1',\n",
              "       '1', '1', '1', '1', '1', '1', '1', '1', '1', '2', '1', '0', '0',\n",
              "       '0', '0', '2', '2', '1', '1', '1', '1', '1', '1', '1', '1', '1',\n",
              "       '2', '2', '2', '1', '1', '1', '1', '1', '1', '2', '1', '1', '2',\n",
              "       '2', '2', '1', '1', '1', '1', '0', '0', '1', '1', '1', '1', '1',\n",
              "       '1', '0', '1', '1', '1', '1', '1', '1', '0', '0', '0', '0', '1',\n",
              "       '1', '1', '1', '1', '1', '1', '1', '1', '1', '1', '1', '1', '1',\n",
              "       '1', '1', '1', '1', '1', '0', '1', '1', '1', '1', '0', '0', '0',\n",
              "       '0', '1', '1', '1', '1', '1', '1', '1', '1', '1', '1', '0', '0',\n",
              "       '1', '1', '1', '1', '1', '1', '1', '1', '1', '1', '1', '0', '0',\n",
              "       '1', '1', '1', '1', '1', '1', '1', '1', '1', '1', '1', '1', '1',\n",
              "       '1', '1', '1', '1', '1', '1', '1', '1', '1', '1', '1', '1', '1',\n",
              "       '1', '1', '1', '1', '1', '1', '1', '1', '1', '1', '1', '1', '1',\n",
              "       '1', '1', '1', '1', '1', '1', '1', '1', '1', '1', '1', '1', '1',\n",
              "       '1', '1', '1', '1', '1', '1', '1', '1', '1', '1', '1', '1', '1',\n",
              "       '1', '1', '1', '1', '1', '1', '1', '1', '1', '1', '1', '1', '1',\n",
              "       '1', '1', '1', '1', '1', '1', '1', '1', '1', '1', '1', '1', '1',\n",
              "       '1', '1', '1', '1', '1', '1', '1', '1', '1', '1', '1', '1', '1',\n",
              "       '1', '1', '1', '1', '1', '1', '1', '1', '1', '1', '1', '1', '1',\n",
              "       '1', '1', '1', '1', '1', '1', '1', '1', '1', '1', '1', '1', '1',\n",
              "       '1', '1', '1', '1', '1', '1', '1', '1', '1', '1', '1', '1', '1',\n",
              "       '1', '1', '1', '1', '1', '1', '1', '1', '1', '1', '1', '1', '1',\n",
              "       '1', '1', '1', '1', '1', '1', '1', '1', '1', '1', '1'],\n",
              "      dtype=object)"
            ]
          },
          "metadata": {},
          "execution_count": 160
        }
      ]
    },
    {
      "cell_type": "code",
      "source": [
        "sns.countplot(x=preds, order=['0','1','2']);"
      ],
      "metadata": {
        "colab": {
          "base_uri": "https://localhost:8080/",
          "height": 265
        },
        "outputId": "e413ede9-b0a6-4700-8f1c-e32cf41afe03",
        "id": "uKShnOj5A48a"
      },
      "execution_count": null,
      "outputs": [
        {
          "output_type": "display_data",
          "data": {
            "text/plain": [
              "<Figure size 432x288 with 1 Axes>"
            ],
            "image/png": "[encoded data removed]"
          },
          "metadata": {
            "needs_background": "light"
          }
        }
      ]
    }
  ]
}