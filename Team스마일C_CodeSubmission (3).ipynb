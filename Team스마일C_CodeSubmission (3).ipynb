{
  "cells": [
    {
      "cell_type": "markdown",
      "id": "ZJBm2amd3Lb5",
      "metadata": {
        "id": "ZJBm2amd3Lb5"
      },
      "source": [
        "# 팀 스마일C 코드 제출\n",
        "* 팀원: 정우섭, 김유민, 김유진, 장동언, 황정묵\n",
        "* PRIVATE SCORE: 0.65887 \n",
        "* PRIVATE RANKING: 36"
      ]
    },
    {
      "cell_type": "markdown",
      "id": "CwuGPDTVMXHe",
      "metadata": {
        "id": "CwuGPDTVMXHe"
      },
      "source": [
        "# 개발 환경\n",
        "* OS : Windows11\n",
        "* python: 3.10.10\n",
        "* 라이브러리 버전 : requirements.txt 참조"
      ]
    },
    {
      "cell_type": "markdown",
      "id": "QIfodgpc3HP6",
      "metadata": {
        "id": "QIfodgpc3HP6"
      },
      "source": [
        "# 0.Data Load\n",
        "1. install packages\n",
        "2. import libraries and csv data files"
      ]
    },
    {
      "cell_type": "code",
      "execution_count": 1,
      "id": "6ab709fe",
      "metadata": {
        "colab": {
          "base_uri": "https://localhost:8080/"
        },
        "id": "6ab709fe",
        "outputId": "5ae49d2a-d294-456c-91d5-f33e87bc10c1"
      },
      "outputs": [
        {
          "output_type": "stream",
          "name": "stdout",
          "text": [
            "Looking in indexes: https://pypi.org/simple, https://us-python.pkg.dev/colab-wheels/public/simple/\n",
            "Requirement already satisfied: catboost in /usr/local/lib/python3.8/dist-packages (1.1.1)\n",
            "Requirement already satisfied: numpy>=1.16.0 in /usr/local/lib/python3.8/dist-packages (from catboost) (1.22.4)\n",
            "Requirement already satisfied: plotly in /usr/local/lib/python3.8/dist-packages (from catboost) (5.5.0)\n",
            "Requirement already satisfied: pandas>=0.24.0 in /usr/local/lib/python3.8/dist-packages (from catboost) (1.3.5)\n",
            "Requirement already satisfied: six in /usr/local/lib/python3.8/dist-packages (from catboost) (1.15.0)\n",
            "Requirement already satisfied: matplotlib in /usr/local/lib/python3.8/dist-packages (from catboost) (3.5.3)\n",
            "Requirement already satisfied: graphviz in /usr/local/lib/python3.8/dist-packages (from catboost) (0.10.1)\n",
            "Requirement already satisfied: scipy in /usr/local/lib/python3.8/dist-packages (from catboost) (1.10.1)\n",
            "Requirement already satisfied: pytz>=2017.3 in /usr/local/lib/python3.8/dist-packages (from pandas>=0.24.0->catboost) (2022.7.1)\n",
            "Requirement already satisfied: python-dateutil>=2.7.3 in /usr/local/lib/python3.8/dist-packages (from pandas>=0.24.0->catboost) (2.8.2)\n",
            "Requirement already satisfied: pillow>=6.2.0 in /usr/local/lib/python3.8/dist-packages (from matplotlib->catboost) (8.4.0)\n",
            "Requirement already satisfied: packaging>=20.0 in /usr/local/lib/python3.8/dist-packages (from matplotlib->catboost) (23.0)\n",
            "Requirement already satisfied: fonttools>=4.22.0 in /usr/local/lib/python3.8/dist-packages (from matplotlib->catboost) (4.38.0)\n",
            "Requirement already satisfied: kiwisolver>=1.0.1 in /usr/local/lib/python3.8/dist-packages (from matplotlib->catboost) (1.4.4)\n",
            "Requirement already satisfied: cycler>=0.10 in /usr/local/lib/python3.8/dist-packages (from matplotlib->catboost) (0.11.0)\n",
            "Requirement already satisfied: pyparsing>=2.2.1 in /usr/local/lib/python3.8/dist-packages (from matplotlib->catboost) (3.0.9)\n",
            "Requirement already satisfied: tenacity>=6.2.0 in /usr/local/lib/python3.8/dist-packages (from plotly->catboost) (8.2.2)\n",
            "Looking in indexes: https://pypi.org/simple, https://us-python.pkg.dev/colab-wheels/public/simple/\n",
            "Requirement already satisfied: lightgbm in /usr/local/lib/python3.8/dist-packages (2.2.3)\n",
            "Requirement already satisfied: scikit-learn in /usr/local/lib/python3.8/dist-packages (from lightgbm) (1.2.1)\n",
            "Requirement already satisfied: scipy in /usr/local/lib/python3.8/dist-packages (from lightgbm) (1.10.1)\n",
            "Requirement already satisfied: numpy in /usr/local/lib/python3.8/dist-packages (from lightgbm) (1.22.4)\n",
            "Requirement already satisfied: joblib>=1.1.1 in /usr/local/lib/python3.8/dist-packages (from scikit-learn->lightgbm) (1.2.0)\n",
            "Requirement already satisfied: threadpoolctl>=2.0.0 in /usr/local/lib/python3.8/dist-packages (from scikit-learn->lightgbm) (3.1.0)\n",
            "Looking in indexes: https://pypi.org/simple, https://us-python.pkg.dev/colab-wheels/public/simple/\n",
            "Requirement already satisfied: optuna in /usr/local/lib/python3.8/dist-packages (3.1.0)\n",
            "Requirement already satisfied: tqdm in /usr/local/lib/python3.8/dist-packages (from optuna) (4.64.1)\n",
            "Requirement already satisfied: sqlalchemy>=1.3.0 in /usr/local/lib/python3.8/dist-packages (from optuna) (1.4.46)\n",
            "Requirement already satisfied: PyYAML in /usr/local/lib/python3.8/dist-packages (from optuna) (6.0)\n",
            "Requirement already satisfied: packaging>=20.0 in /usr/local/lib/python3.8/dist-packages (from optuna) (23.0)\n",
            "Requirement already satisfied: colorlog in /usr/local/lib/python3.8/dist-packages (from optuna) (6.7.0)\n",
            "Requirement already satisfied: numpy in /usr/local/lib/python3.8/dist-packages (from optuna) (1.22.4)\n",
            "Requirement already satisfied: cmaes>=0.9.1 in /usr/local/lib/python3.8/dist-packages (from optuna) (0.9.1)\n",
            "Requirement already satisfied: alembic>=1.5.0 in /usr/local/lib/python3.8/dist-packages (from optuna) (1.10.1)\n",
            "Requirement already satisfied: typing-extensions>=4 in /usr/local/lib/python3.8/dist-packages (from alembic>=1.5.0->optuna) (4.5.0)\n",
            "Requirement already satisfied: importlib-metadata in /usr/local/lib/python3.8/dist-packages (from alembic>=1.5.0->optuna) (6.0.0)\n",
            "Requirement already satisfied: importlib-resources in /usr/local/lib/python3.8/dist-packages (from alembic>=1.5.0->optuna) (5.12.0)\n",
            "Requirement already satisfied: Mako in /usr/local/lib/python3.8/dist-packages (from alembic>=1.5.0->optuna) (1.2.4)\n",
            "Requirement already satisfied: greenlet!=0.4.17 in /usr/local/lib/python3.8/dist-packages (from sqlalchemy>=1.3.0->optuna) (2.0.2)\n",
            "Requirement already satisfied: zipp>=0.5 in /usr/local/lib/python3.8/dist-packages (from importlib-metadata->alembic>=1.5.0->optuna) (3.15.0)\n",
            "Requirement already satisfied: MarkupSafe>=0.9.2 in /usr/local/lib/python3.8/dist-packages (from Mako->alembic>=1.5.0->optuna) (2.1.2)\n",
            "Looking in indexes: https://pypi.org/simple, https://us-python.pkg.dev/colab-wheels/public/simple/\n",
            "Requirement already satisfied: xgboost in /usr/local/lib/python3.8/dist-packages (1.7.4)\n",
            "Requirement already satisfied: scipy in /usr/local/lib/python3.8/dist-packages (from xgboost) (1.10.1)\n",
            "Requirement already satisfied: numpy in /usr/local/lib/python3.8/dist-packages (from xgboost) (1.22.4)\n",
            "Looking in indexes: https://pypi.org/simple, https://us-python.pkg.dev/colab-wheels/public/simple/\n",
            "Requirement already satisfied: torch in /usr/local/lib/python3.8/dist-packages (1.13.1+cu116)\n",
            "Requirement already satisfied: typing-extensions in /usr/local/lib/python3.8/dist-packages (from torch) (4.5.0)\n"
          ]
        }
      ],
      "source": [
        "!pip install catboost\n",
        "!pip install lightgbm\n",
        "!pip install optuna \n",
        "!pip install xgboost\n",
        "!pip install torch"
      ]
    },
    {
      "cell_type": "code",
      "execution_count": 2,
      "id": "94682a80",
      "metadata": {
        "id": "94682a80"
      },
      "outputs": [],
      "source": [
        "import pandas as pd\n",
        "import random\n",
        "import os\n",
        "import numpy as np\n",
        "import matplotlib.pyplot as plt   \n",
        "import seaborn as sns \n",
        "\n",
        "# model evaluation, preprocessing \n",
        "import sklearn\n",
        "from sklearn import preprocessing, metrics\n",
        "from sklearn.preprocessing import LabelEncoder, OneHotEncoder, StandardScaler, MinMaxScaler\n",
        "from sklearn.model_selection import train_test_split, KFold, cross_validate\n",
        "from sklearn.metrics import accuracy_score, classification_report, f1_score, roc_auc_score, log_loss\n",
        "\n",
        "# sequential model modeling \n",
        "import tensorflow as tf\n",
        "from tensorflow import keras\n",
        "from keras import regularizers\n",
        "from keras.models import Sequential\n",
        "from keras.layers import Dense,Dropout, Activation\n",
        "from keras import backend as K \n",
        "from keras import regularizers\n",
        "from keras.layers import Dense,Dropout, Activation, BatchNormalization, Conv2D, Flatten  \n",
        "from keras import optimizers, metrics, callbacks\n",
        "from keras.backend import clear_session\n",
        "\n",
        "# optuna Hyper-params tuning\n",
        "import optuna\n",
        "from optuna import Trial\n",
        "from optuna.samplers import TPESampler\n",
        "from optuna.visualization import plot_optimization_history, plot_param_importances, plot_parallel_coordinate, plot_contour\n",
        "\n",
        "# ML classification models \n",
        "from lightgbm import LGBMClassifier\n",
        "from catboost import CatBoostClassifier\n",
        "from sklearn.ensemble import BaggingClassifier, GradientBoostingClassifier, RandomForestClassifier\n",
        "from sklearn.tree import DecisionTreeClassifier\n",
        "from sklearn.linear_model import RidgeClassifierCV\n",
        "from xgboost import XGBClassifier\n",
        "\n",
        "# Google Drive mount\n",
        "# from google.colab import drive \n",
        "# drive.mount('/content/drive')"
      ]
    },
    {
      "cell_type": "code",
      "execution_count": 3,
      "id": "0AdADLxT1DoQ",
      "metadata": {
        "colab": {
          "base_uri": "https://localhost:8080/"
        },
        "id": "0AdADLxT1DoQ",
        "outputId": "7b9f31d5-8b0e-4318-9fba-c21b74580e55"
      },
      "outputs": [
        {
          "output_type": "stream",
          "name": "stdout",
          "text": [
            "37\n"
          ]
        }
      ],
      "source": [
        "# seed fixing for reproduction \n",
        "import torch \n",
        "import random as rn \n",
        "\n",
        "def seed_everything(seed):\n",
        "    random.seed(seed)\n",
        "    os.environ['PYTHONHASHSEED'] = str(seed)\n",
        "    np.random.seed(seed)\n",
        "seed_everything(37) # Seed 고정\n",
        "seed_num=37\n",
        "\n",
        "def seed_everything(seed):\n",
        "    random.seed(seed)\n",
        "    os.environ['PYTHONHASHSEED'] = str(seed)\n",
        "    np.random.seed(seed)\n",
        "    torch.manual_seed(seed)\n",
        "    torch.cuda.manual_seed(seed)  # type: ignore\n",
        "    torch.backends.cudnn.deterministic = True  # type: ignore\n",
        "    torch.backends.cudnn.benchmark = True  # type: ignore\n",
        "seed_everything(37)\n",
        "seed_num=37\n",
        "seed=37\n",
        "\n",
        "np.random.seed(seed_num)\n",
        "rn.seed(seed_num) \n",
        "tf.random.set_seed(seed_num)\n",
        "session_conf = tf.compat.v1.ConfigProto(intra_op_parallelism_threads=1, inter_op_parallelism_threads=1)\n",
        "sess = tf.compat.v1.Session(config=session_conf)\n",
        "K.set_session(sess)\n",
        "\n",
        "class config:   \n",
        "    seed = 37  \n",
        "    device = \"cuda:0\"            \n",
        "\n",
        "def seed_everything(seed: int = 37):\n",
        "    random.seed(seed)\n",
        "    np.random.seed(seed)\n",
        "    os.environ[\"PYTHONHASHSEED\"] = str(seed)\n",
        "    tf.random.set_seed(seed)\n",
        "seed_everything(config.seed)\n",
        "tf.random.set_seed(37) # tensorflow global seed \n",
        "print(config.seed)     "
      ]
    },
    {
      "cell_type": "code",
      "execution_count": 4,
      "id": "lQROx2fcxIW7",
      "metadata": {
        "id": "lQROx2fcxIW7"
      },
      "outputs": [],
      "source": [
        "train_df = pd.read_csv('./train.csv')\n",
        "test_df = pd.read_csv('./test.csv')\n",
        "submit = pd.read_csv('./sample_submission.csv')\n",
        "\n",
        "train_x = train_df.drop(columns=['PRODUCT_ID', 'TIMESTAMP', 'Y_Class','Y_Quality'])\n",
        "train_y = train_df['Y_Class']\n",
        "test_x = test_df.drop(columns=['PRODUCT_ID', 'TIMESTAMP'])   "
      ]
    },
    {
      "cell_type": "markdown",
      "id": "wqkW_3EbQxj1",
      "metadata": {
        "id": "wqkW_3EbQxj1"
      },
      "source": [
        "# 1.Data & Features"
      ]
    },
    {
      "cell_type": "markdown",
      "id": "ZK3O2Kd24yP_",
      "metadata": {
        "id": "ZK3O2Kd24yP_"
      },
      "source": [
        "## 1.1 EDA\n",
        "1. feature correlation heatmaps\n",
        "2. feature importance\n",
        "3. feature distribution plots"
      ]
    },
    {
      "cell_type": "code",
      "execution_count": 5,
      "id": "E1vfXTKcK9Dt",
      "metadata": {
        "colab": {
          "base_uri": "https://localhost:8080/",
          "height": 632
        },
        "id": "E1vfXTKcK9Dt",
        "outputId": "3ffda486-467e-401f-b145-807476ec9804"
      },
      "outputs": [
        {
          "output_type": "display_data",
          "data": {
            "text/plain": [
              "<Figure size 1080x720 with 2 Axes>"
            ],
            "image/png": "[encoded data removed]"
          },
          "metadata": {
            "needs_background": "light"
          }
        }
      ],
      "source": [
        "# random 20 features list (모두 NaN인 컬럼 제외하고, 랜덤 20개 feature의 상관관계 히트맵)\n",
        "Xs = train_df.iloc[:,4:].columns\n",
        "null_count = train_df.isnull().sum().to_dict()\n",
        "cols = pd.DataFrame({i for i in null_count if null_count[i]<250 and i in Xs})\n",
        "cols_name = list(cols[0])  # not_all_NAN features name in list \n",
        "\n",
        "import random\n",
        "a = ['Y_Quality']\n",
        "for i in range(20):\n",
        "    num = random.randint(1,2875)\n",
        "    a.append(cols_name[i])\n",
        "\n",
        "# heatmap: `random X features` and `Y_Quality` correlation\n",
        "corr = train_df[a].corr()  # correlation matrix\n",
        "fig, ax = plt.subplots(figsize=(15,10))\n",
        "sns.heatmap(corr, annot=True, fmt='.2f', cmap='Blues', linewidths=2);"
      ]
    },
    {
      "cell_type": "code",
      "execution_count": 6,
      "id": "lLsOtCgTSvRA",
      "metadata": {
        "colab": {
          "base_uri": "https://localhost:8080/",
          "height": 592
        },
        "id": "lLsOtCgTSvRA",
        "outputId": "c3ef8cef-f652-49a8-8090-83530522bbc3"
      },
      "outputs": [
        {
          "output_type": "display_data",
          "data": {
            "text/plain": [
              "<Figure size 720x720 with 1 Axes>"
            ],
            "image/png": "[encoded data removed]"
          },
          "metadata": {
            "needs_background": "light"
          }
        }
      ],
      "source": [
        "# feature 중요도\n",
        "import matplotlib.pyplot as plt\n",
        "import seaborn as sns\n",
        "from sklearn.ensemble import RandomForestRegressor\n",
        "\n",
        "qual_col = ['LINE', 'PRODUCT_CODE']\n",
        "for i in qual_col:\n",
        "    le = LabelEncoder()\n",
        "    le = le.fit(train_x[i])\n",
        "    train_x[i] = le.transform(train_x[i])\n",
        "    for label in np.unique(test_x[i]):\n",
        "        if label not in le.classes_:\n",
        "            le.classes_ = np.append(le.classes_, label)\n",
        "    test_x[i] = le.transform(test_x[i])\n",
        "\n",
        "train_x = train_x.fillna(0)\n",
        "test_x = test_x.fillna(0)\n",
        "X_train, X_test, y_train, y_test=train_test_split(train_x,train_y,test_size=0.3,random_state=seed_num)\n",
        "\n",
        "%matplotlib inline\n",
        "RF = RandomForestRegressor(random_state=0, max_depth=5, min_samples_leaf=8, min_samples_split=8,n_estimators=200)\n",
        "RF.fit(X_train, y_train)\n",
        "ftr_importances_values = RF.feature_importances_\n",
        "ftr_importances = pd.Series(ftr_importances_values, index=X_train.columns)\n",
        "ftr_top = ftr_importances.sort_values(ascending=False)[:20]\n",
        " \n",
        "plt.figure(figsize=(10, 10))\n",
        "sns.barplot(x=ftr_top, y=ftr_top.index)\n",
        "plt.show()      "
      ]
    },
    {
      "cell_type": "code",
      "execution_count": 7,
      "id": "GdugZkQrSvJS",
      "metadata": {
        "colab": {
          "base_uri": "https://localhost:8080/",
          "height": 393
        },
        "id": "GdugZkQrSvJS",
        "outputId": "f279cade-9eca-41d3-8857-7871620c97d9"
      },
      "outputs": [
        {
          "output_type": "execute_result",
          "data": {
            "text/plain": [
              "             LINE  PRODUCT_CODE         X_1        X_2    X_3         X_4  \\\n",
              "count  598.000000    598.000000  598.000000  598.00000  598.0  598.000000   \n",
              "mean     3.214047      1.157191    1.406355   55.51505    0.0   26.262542   \n",
              "std      1.703579      0.983298    4.655332   47.03581    0.0   22.201747   \n",
              "min      0.000000      0.000000    0.000000    0.00000    0.0    0.000000   \n",
              "25%      2.000000      0.000000    0.000000    0.00000    0.0    0.000000   \n",
              "50%      4.000000      2.000000    2.000000   91.00000    0.0   45.000000   \n",
              "75%      5.000000      2.000000    2.000000   95.00000    0.0   45.000000   \n",
              "max      5.000000      2.000000  103.000000  102.00000    0.0   45.000000   \n",
              "\n",
              "              X_5    X_6         X_7         X_8  ...      X_2866      X_2867  \\\n",
              "count  598.000000  598.0  598.000000  598.000000  ...  598.000000  598.000000   \n",
              "mean     6.065217    0.0   28.481605    5.864548  ...    8.496204    8.964498   \n",
              "std      5.140970    0.0   24.308159    4.960485  ...   19.189554   20.294317   \n",
              "min      0.000000    0.0    0.000000    0.000000  ...    0.000000    0.000000   \n",
              "25%      0.000000    0.0    0.000000    0.000000  ...    0.000000    0.000000   \n",
              "50%     10.000000    0.0   45.000000   10.000000  ...    0.000000    0.000000   \n",
              "75%     10.000000    0.0   50.000000   10.000000  ...    0.000000    0.000000   \n",
              "max     11.000000    0.0   62.000000   11.000000  ...   60.240000   68.660000   \n",
              "\n",
              "           X_2868      X_2869      X_2870      X_2871  X_2872  X_2873  X_2874  \\\n",
              "count  598.000000  598.000000  598.000000  598.000000   598.0   598.0   598.0   \n",
              "mean     8.295351    8.638763   11.145435    0.165552     0.0     0.0     0.0   \n",
              "std     18.755287   19.632753   24.961071    0.371989     0.0     0.0     0.0   \n",
              "min      0.000000    0.000000    0.000000    0.000000     0.0     0.0     0.0   \n",
              "25%      0.000000    0.000000    0.000000    0.000000     0.0     0.0     0.0   \n",
              "50%      0.000000    0.000000    0.000000    0.000000     0.0     0.0     0.0   \n",
              "75%      0.000000    0.000000    0.000000    0.000000     0.0     0.0     0.0   \n",
              "max     60.410000   59.930000   79.750000    1.000000     0.0     0.0     0.0   \n",
              "\n",
              "       X_2875  \n",
              "count   598.0  \n",
              "mean      0.0  \n",
              "std       0.0  \n",
              "min       0.0  \n",
              "25%       0.0  \n",
              "50%       0.0  \n",
              "75%       0.0  \n",
              "max       0.0  \n",
              "\n",
              "[8 rows x 2877 columns]"
            ],
            "text/html": [
              "\n",
              "  <div id=\"df-84a015bb-e25e-4bb3-a679-e0160fedc519\">\n",
              "    <div class=\"colab-df-container\">\n",
              "      <div>\n",
              "<style scoped>\n",
              "    .dataframe tbody tr th:only-of-type {\n",
              "        vertical-align: middle;\n",
              "    }\n",
              "\n",
              "    .dataframe tbody tr th {\n",
              "        vertical-align: top;\n",
              "    }\n",
              "\n",
              "    .dataframe thead th {\n",
              "        text-align: right;\n",
              "    }\n",
              "</style>\n",
              "<table border=\"1\" class=\"dataframe\">\n",
              "  <thead>\n",
              "    <tr style=\"text-align: right;\">\n",
              "      <th></th>\n",
              "      <th>LINE</th>\n",
              "      <th>PRODUCT_CODE</th>\n",
              "      <th>X_1</th>\n",
              "      <th>X_2</th>\n",
              "      <th>X_3</th>\n",
              "      <th>X_4</th>\n",
              "      <th>X_5</th>\n",
              "      <th>X_6</th>\n",
              "      <th>X_7</th>\n",
              "      <th>X_8</th>\n",
              "      <th>...</th>\n",
              "      <th>X_2866</th>\n",
              "      <th>X_2867</th>\n",
              "      <th>X_2868</th>\n",
              "      <th>X_2869</th>\n",
              "      <th>X_2870</th>\n",
              "      <th>X_2871</th>\n",
              "      <th>X_2872</th>\n",
              "      <th>X_2873</th>\n",
              "      <th>X_2874</th>\n",
              "      <th>X_2875</th>\n",
              "    </tr>\n",
              "  </thead>\n",
              "  <tbody>\n",
              "    <tr>\n",
              "      <th>count</th>\n",
              "      <td>598.000000</td>\n",
              "      <td>598.000000</td>\n",
              "      <td>598.000000</td>\n",
              "      <td>598.00000</td>\n",
              "      <td>598.0</td>\n",
              "      <td>598.000000</td>\n",
              "      <td>598.000000</td>\n",
              "      <td>598.0</td>\n",
              "      <td>598.000000</td>\n",
              "      <td>598.000000</td>\n",
              "      <td>...</td>\n",
              "      <td>598.000000</td>\n",
              "      <td>598.000000</td>\n",
              "      <td>598.000000</td>\n",
              "      <td>598.000000</td>\n",
              "      <td>598.000000</td>\n",
              "      <td>598.000000</td>\n",
              "      <td>598.0</td>\n",
              "      <td>598.0</td>\n",
              "      <td>598.0</td>\n",
              "      <td>598.0</td>\n",
              "    </tr>\n",
              "    <tr>\n",
              "      <th>mean</th>\n",
              "      <td>3.214047</td>\n",
              "      <td>1.157191</td>\n",
              "      <td>1.406355</td>\n",
              "      <td>55.51505</td>\n",
              "      <td>0.0</td>\n",
              "      <td>26.262542</td>\n",
              "      <td>6.065217</td>\n",
              "      <td>0.0</td>\n",
              "      <td>28.481605</td>\n",
              "      <td>5.864548</td>\n",
              "      <td>...</td>\n",
              "      <td>8.496204</td>\n",
              "      <td>8.964498</td>\n",
              "      <td>8.295351</td>\n",
              "      <td>8.638763</td>\n",
              "      <td>11.145435</td>\n",
              "      <td>0.165552</td>\n",
              "      <td>0.0</td>\n",
              "      <td>0.0</td>\n",
              "      <td>0.0</td>\n",
              "      <td>0.0</td>\n",
              "    </tr>\n",
              "    <tr>\n",
              "      <th>std</th>\n",
              "      <td>1.703579</td>\n",
              "      <td>0.983298</td>\n",
              "      <td>4.655332</td>\n",
              "      <td>47.03581</td>\n",
              "      <td>0.0</td>\n",
              "      <td>22.201747</td>\n",
              "      <td>5.140970</td>\n",
              "      <td>0.0</td>\n",
              "      <td>24.308159</td>\n",
              "      <td>4.960485</td>\n",
              "      <td>...</td>\n",
              "      <td>19.189554</td>\n",
              "      <td>20.294317</td>\n",
              "      <td>18.755287</td>\n",
              "      <td>19.632753</td>\n",
              "      <td>24.961071</td>\n",
              "      <td>0.371989</td>\n",
              "      <td>0.0</td>\n",
              "      <td>0.0</td>\n",
              "      <td>0.0</td>\n",
              "      <td>0.0</td>\n",
              "    </tr>\n",
              "    <tr>\n",
              "      <th>min</th>\n",
              "      <td>0.000000</td>\n",
              "      <td>0.000000</td>\n",
              "      <td>0.000000</td>\n",
              "      <td>0.00000</td>\n",
              "      <td>0.0</td>\n",
              "      <td>0.000000</td>\n",
              "      <td>0.000000</td>\n",
              "      <td>0.0</td>\n",
              "      <td>0.000000</td>\n",
              "      <td>0.000000</td>\n",
              "      <td>...</td>\n",
              "      <td>0.000000</td>\n",
              "      <td>0.000000</td>\n",
              "      <td>0.000000</td>\n",
              "      <td>0.000000</td>\n",
              "      <td>0.000000</td>\n",
              "      <td>0.000000</td>\n",
              "      <td>0.0</td>\n",
              "      <td>0.0</td>\n",
              "      <td>0.0</td>\n",
              "      <td>0.0</td>\n",
              "    </tr>\n",
              "    <tr>\n",
              "      <th>25%</th>\n",
              "      <td>2.000000</td>\n",
              "      <td>0.000000</td>\n",
              "      <td>0.000000</td>\n",
              "      <td>0.00000</td>\n",
              "      <td>0.0</td>\n",
              "      <td>0.000000</td>\n",
              "      <td>0.000000</td>\n",
              "      <td>0.0</td>\n",
              "      <td>0.000000</td>\n",
              "      <td>0.000000</td>\n",
              "      <td>...</td>\n",
              "      <td>0.000000</td>\n",
              "      <td>0.000000</td>\n",
              "      <td>0.000000</td>\n",
              "      <td>0.000000</td>\n",
              "      <td>0.000000</td>\n",
              "      <td>0.000000</td>\n",
              "      <td>0.0</td>\n",
              "      <td>0.0</td>\n",
              "      <td>0.0</td>\n",
              "      <td>0.0</td>\n",
              "    </tr>\n",
              "    <tr>\n",
              "      <th>50%</th>\n",
              "      <td>4.000000</td>\n",
              "      <td>2.000000</td>\n",
              "      <td>2.000000</td>\n",
              "      <td>91.00000</td>\n",
              "      <td>0.0</td>\n",
              "      <td>45.000000</td>\n",
              "      <td>10.000000</td>\n",
              "      <td>0.0</td>\n",
              "      <td>45.000000</td>\n",
              "      <td>10.000000</td>\n",
              "      <td>...</td>\n",
              "      <td>0.000000</td>\n",
              "      <td>0.000000</td>\n",
              "      <td>0.000000</td>\n",
              "      <td>0.000000</td>\n",
              "      <td>0.000000</td>\n",
              "      <td>0.000000</td>\n",
              "      <td>0.0</td>\n",
              "      <td>0.0</td>\n",
              "      <td>0.0</td>\n",
              "      <td>0.0</td>\n",
              "    </tr>\n",
              "    <tr>\n",
              "      <th>75%</th>\n",
              "      <td>5.000000</td>\n",
              "      <td>2.000000</td>\n",
              "      <td>2.000000</td>\n",
              "      <td>95.00000</td>\n",
              "      <td>0.0</td>\n",
              "      <td>45.000000</td>\n",
              "      <td>10.000000</td>\n",
              "      <td>0.0</td>\n",
              "      <td>50.000000</td>\n",
              "      <td>10.000000</td>\n",
              "      <td>...</td>\n",
              "      <td>0.000000</td>\n",
              "      <td>0.000000</td>\n",
              "      <td>0.000000</td>\n",
              "      <td>0.000000</td>\n",
              "      <td>0.000000</td>\n",
              "      <td>0.000000</td>\n",
              "      <td>0.0</td>\n",
              "      <td>0.0</td>\n",
              "      <td>0.0</td>\n",
              "      <td>0.0</td>\n",
              "    </tr>\n",
              "    <tr>\n",
              "      <th>max</th>\n",
              "      <td>5.000000</td>\n",
              "      <td>2.000000</td>\n",
              "      <td>103.000000</td>\n",
              "      <td>102.00000</td>\n",
              "      <td>0.0</td>\n",
              "      <td>45.000000</td>\n",
              "      <td>11.000000</td>\n",
              "      <td>0.0</td>\n",
              "      <td>62.000000</td>\n",
              "      <td>11.000000</td>\n",
              "      <td>...</td>\n",
              "      <td>60.240000</td>\n",
              "      <td>68.660000</td>\n",
              "      <td>60.410000</td>\n",
              "      <td>59.930000</td>\n",
              "      <td>79.750000</td>\n",
              "      <td>1.000000</td>\n",
              "      <td>0.0</td>\n",
              "      <td>0.0</td>\n",
              "      <td>0.0</td>\n",
              "      <td>0.0</td>\n",
              "    </tr>\n",
              "  </tbody>\n",
              "</table>\n",
              "<p>8 rows × 2877 columns</p>\n",
              "</div>\n",
              "      <button class=\"colab-df-convert\" onclick=\"convertToInteractive('df-84a015bb-e25e-4bb3-a679-e0160fedc519')\"\n",
              "              title=\"Convert this dataframe to an interactive table.\"\n",
              "              style=\"display:none;\">\n",
              "        \n",
              "  <svg xmlns=\"http://www.w3.org/2000/svg\" height=\"24px\"viewBox=\"0 0 24 24\"\n",
              "       width=\"24px\">\n",
              "    <path d=\"M0 0h24v24H0V0z\" fill=\"none\"/>\n",
              "    <path d=\"M18.56 5.44l.94 2.06.94-2.06 2.06-.94-2.06-.94-.94-2.06-.94 2.06-2.06.94zm-11 1L8.5 8.5l.94-2.06 2.06-.94-2.06-.94L8.5 2.5l-.94 2.06-2.06.94zm10 10l.94 2.06.94-2.06 2.06-.94-2.06-.94-.94-2.06-.94 2.06-2.06.94z\"/><path d=\"M17.41 7.96l-1.37-1.37c-.4-.4-.92-.59-1.43-.59-.52 0-1.04.2-1.43.59L10.3 9.45l-7.72 7.72c-.78.78-.78 2.05 0 2.83L4 21.41c.39.39.9.59 1.41.59.51 0 1.02-.2 1.41-.59l7.78-7.78 2.81-2.81c.8-.78.8-2.07 0-2.86zM5.41 20L4 18.59l7.72-7.72 1.47 1.35L5.41 20z\"/>\n",
              "  </svg>\n",
              "      </button>\n",
              "      \n",
              "  <style>\n",
              "    .colab-df-container {\n",
              "      display:flex;\n",
              "      flex-wrap:wrap;\n",
              "      gap: 12px;\n",
              "    }\n",
              "\n",
              "    .colab-df-convert {\n",
              "      background-color: #E8F0FE;\n",
              "      border: none;\n",
              "      border-radius: 50%;\n",
              "      cursor: pointer;\n",
              "      display: none;\n",
              "      fill: #1967D2;\n",
              "      height: 32px;\n",
              "      padding: 0 0 0 0;\n",
              "      width: 32px;\n",
              "    }\n",
              "\n",
              "    .colab-df-convert:hover {\n",
              "      background-color: #E2EBFA;\n",
              "      box-shadow: 0px 1px 2px rgba(60, 64, 67, 0.3), 0px 1px 3px 1px rgba(60, 64, 67, 0.15);\n",
              "      fill: #174EA6;\n",
              "    }\n",
              "\n",
              "    [theme=dark] .colab-df-convert {\n",
              "      background-color: #3B4455;\n",
              "      fill: #D2E3FC;\n",
              "    }\n",
              "\n",
              "    [theme=dark] .colab-df-convert:hover {\n",
              "      background-color: #434B5C;\n",
              "      box-shadow: 0px 1px 3px 1px rgba(0, 0, 0, 0.15);\n",
              "      filter: drop-shadow(0px 1px 2px rgba(0, 0, 0, 0.3));\n",
              "      fill: #FFFFFF;\n",
              "    }\n",
              "  </style>\n",
              "\n",
              "      <script>\n",
              "        const buttonEl =\n",
              "          document.querySelector('#df-84a015bb-e25e-4bb3-a679-e0160fedc519 button.colab-df-convert');\n",
              "        buttonEl.style.display =\n",
              "          google.colab.kernel.accessAllowed ? 'block' : 'none';\n",
              "\n",
              "        async function convertToInteractive(key) {\n",
              "          const element = document.querySelector('#df-84a015bb-e25e-4bb3-a679-e0160fedc519');\n",
              "          const dataTable =\n",
              "            await google.colab.kernel.invokeFunction('convertToInteractive',\n",
              "                                                     [key], {});\n",
              "          if (!dataTable) return;\n",
              "\n",
              "          const docLinkHtml = 'Like what you see? Visit the ' +\n",
              "            '<a target=\"_blank\" href=https://colab.research.google.com/notebooks/data_table.ipynb>data table notebook</a>'\n",
              "            + ' to learn more about interactive tables.';\n",
              "          element.innerHTML = '';\n",
              "          dataTable['output_type'] = 'display_data';\n",
              "          await google.colab.output.renderOutput(dataTable, element);\n",
              "          const docLink = document.createElement('div');\n",
              "          docLink.innerHTML = docLinkHtml;\n",
              "          element.appendChild(docLink);\n",
              "        }\n",
              "      </script>\n",
              "    </div>\n",
              "  </div>\n",
              "  "
            ]
          },
          "metadata": {},
          "execution_count": 7
        }
      ],
      "source": [
        "# feature distribution \n",
        "train_x.describe()    "
      ]
    },
    {
      "cell_type": "code",
      "execution_count": 8,
      "id": "fceMKvgyg2Kg",
      "metadata": {
        "colab": {
          "base_uri": "https://localhost:8080/",
          "height": 298
        },
        "id": "fceMKvgyg2Kg",
        "outputId": "cfe8b375-9b9d-467c-ca2f-a63977779048"
      },
      "outputs": [
        {
          "output_type": "execute_result",
          "data": {
            "text/plain": [
              "<AxesSubplot:xlabel='X_592', ylabel='Count'>"
            ]
          },
          "metadata": {},
          "execution_count": 8
        },
        {
          "output_type": "display_data",
          "data": {
            "text/plain": [
              "<Figure size 432x288 with 1 Axes>"
            ],
            "image/png": "[encoded data removed]"
          },
          "metadata": {
            "needs_background": "light"
          }
        }
      ],
      "source": [
        "# feature histogram with KDE (밀도그래프) \n",
        "# 임의의 feature에 대한 histplot + 밀도 곡선 출력\n",
        "num = random.randint(1,2875)\n",
        "sns.histplot(train_x[f'X_{num}'], kde=True);"
      ]
    },
    {
      "cell_type": "code",
      "execution_count": 9,
      "id": "xskVkfufSvDg",
      "metadata": {
        "colab": {
          "base_uri": "https://localhost:8080/",
          "height": 700
        },
        "id": "xskVkfufSvDg",
        "outputId": "5051a35a-9870-4206-8155-06b4f1021970"
      },
      "outputs": [
        {
          "output_type": "display_data",
          "data": {
            "text/plain": [
              "<Figure size 1152x864 with 20 Axes>"
            ],
            "image/png": "[encoded data removed]"
          },
          "metadata": {
            "needs_background": "light"
          }
        }
      ],
      "source": [
        "# visualize random 20 features distribution \n",
        "# imbalanced feature distribution (NO Gaussian distribution shape) --> MinMaxscaler\n",
        "fig, axes = plt.subplots(5,4,figsize=(16,12))\n",
        "ax= axes.flatten()\n",
        "\n",
        "for i in range(20): \n",
        "    num = random.randint(1,2875)\n",
        "    ax[i].hist(train_x[f'X_{num}']);    "
      ]
    },
    {
      "cell_type": "markdown",
      "id": "xuPOUxQ7Su9m",
      "metadata": {
        "id": "xuPOUxQ7Su9m"
      },
      "source": [
        "## 1.2 Preprocessing\n",
        "1. Label Encoding: categorical values `LINE`, `PRODUCT_CODE`\n",
        "2. Missing values: fillna(0) \n",
        "3. scaling: StandardScaler"
      ]
    },
    {
      "cell_type": "code",
      "execution_count": 10,
      "id": "kZ1PM_Zrtzph",
      "metadata": {
        "id": "kZ1PM_Zrtzph"
      },
      "outputs": [],
      "source": [
        "train_df = pd.read_csv('./train.csv')\n",
        "test_df = pd.read_csv('./test.csv')\n",
        "submit = pd.read_csv('./sample_submission.csv')\n",
        "\n",
        "train_x = train_df.drop(columns=['PRODUCT_ID', 'TIMESTAMP', 'Y_Class','Y_Quality'])\n",
        "train_y = train_df['Y_Class']\n",
        "test_x = test_df.drop(columns=['PRODUCT_ID', 'TIMESTAMP'])   "
      ]
    },
    {
      "cell_type": "code",
      "execution_count": 11,
      "id": "3AbGp2rBuxuW",
      "metadata": {
        "id": "3AbGp2rBuxuW"
      },
      "outputs": [],
      "source": [
        "# 1) qualitative to quantitative\n",
        "qual_col = ['LINE', 'PRODUCT_CODE']\n",
        "for i in qual_col:\n",
        "    le = LabelEncoder()    # one-hot encoding (X): get_dummies(test_df) is not allowed (data leakage)   \n",
        "    le = le.fit(train_x[i])\n",
        "    train_x[i] = le.transform(train_x[i])\n",
        "    for label in np.unique(test_x[i]): \n",
        "        if label not in le.classes_: \n",
        "            le.classes_ = np.append(le.classes_, label)\n",
        "    test_x[i] = le.transform(test_x[i]) \n"
      ]
    },
    {
      "cell_type": "code",
      "execution_count": 12,
      "id": "GZ72F04guy3o",
      "metadata": {
        "id": "GZ72F04guy3o"
      },
      "outputs": [],
      "source": [
        "# 2) Missing Values \n",
        "train_x = train_x.fillna(0)\n",
        "test_x = test_x.fillna(0)"
      ]
    },
    {
      "cell_type": "code",
      "execution_count": 13,
      "id": "c66d3bf4",
      "metadata": {
        "id": "c66d3bf4"
      },
      "outputs": [],
      "source": [
        "# 3) MinMaxscaling: only `X_???` values (continuous)\n",
        "Xs = train_x.select_dtypes(include=float).iloc[:,1:].columns.tolist()\n",
        "scaler = MinMaxScaler().fit(train_x.loc[:, Xs])\n",
        "train_x.loc[:, Xs] = scaler.transform(train_x.loc[:, Xs])\n",
        "test_x.loc[:, Xs] = scaler.transform(test_x.loc[:, Xs])\n",
        "\n",
        "X_train, X_test, y_train, y_test=train_test_split(train_x,train_y,test_size=0.3,random_state=seed_num)"
      ]
    },
    {
      "cell_type": "markdown",
      "id": "hIoaatyGu9Zq",
      "metadata": {
        "id": "hIoaatyGu9Zq"
      },
      "source": [
        "# 2.Modeling"
      ]
    },
    {
      "cell_type": "markdown",
      "id": "GQGMvepMJy87",
      "metadata": {
        "id": "GQGMvepMJy87"
      },
      "source": [
        "## 2.1 ML models\n",
        "- 여러 Machine Learning Classifier 모델들의 test set Accuracy score 도출 \n",
        "    - Ensemble에서 각 모델의 weight(가중치) 정하기 위한 근거로 사용하기 위함\n",
        "1. RandomForestClassifier\n",
        "2. GradientboostingClassifier\n",
        "3. XGBClassifier\n",
        "4. LGBMClassifier\n",
        "5. CatboostClassifier\n",
        "6. RidgeClassifier\n",
        "7. BaggingClassifier"
      ]
    },
    {
      "cell_type": "code",
      "execution_count": 14,
      "id": "m61QOAHA8lvG",
      "metadata": {
        "id": "m61QOAHA8lvG"
      },
      "outputs": [],
      "source": [
        "from catboost import CatBoostClassifier\n",
        "from sklearn.ensemble import GradientBoostingClassifier\n",
        "from sklearn.ensemble import StackingClassifier\n",
        "from sklearn.linear_model import LogisticRegression\n",
        "from sklearn.ensemble import RandomForestClassifier\n",
        "\n",
        "models = [\n",
        "    RandomForestClassifier(random_state=seed_num), \n",
        "    GradientBoostingClassifier(random_state=seed_num),      \n",
        "    XGBClassifier(random_state=seed_num),\n",
        "    LGBMClassifier(objective='multiclass', random_state=seed_num),\n",
        "    CatBoostClassifier(objective='MultiClass',\n",
        "                                   task_type='GPU',\n",
        "                                   one_hot_max_size=2, random_seed=seed_num,\n",
        "                                   iterations=4000, verbose=False,\n",
        "                                   learning_rate=0.05\n",
        "                                   ),\n",
        "    RidgeClassifierCV(),  # RidgeClassifier: no seed setting argument  \n",
        "    BaggingClassifier(random_state=seed_num)]"
      ]
    },
    {
      "cell_type": "code",
      "execution_count": 15,
      "id": "qfV3aJaS8lvI",
      "metadata": {
        "colab": {
          "base_uri": "https://localhost:8080/"
        },
        "id": "qfV3aJaS8lvI",
        "outputId": "246b41fa-4dc9-4502-fd22-50881ce5b9d3"
      },
      "outputs": [
        {
          "output_type": "stream",
          "name": "stdout",
          "text": [
            "{'RF': 0.7888888888888889, 'GBC': 0.8111111111111111, 'XGB': 0.7722222222222223, 'LGBM': 0.7888888888888889, 'Catboost': 0.8166666666666667, 'Ridge': 0.7611111111111111, 'Bagging': 0.75}\n"
          ]
        }
      ],
      "source": [
        "# find weights for each model \n",
        "model_list = ['RF', 'GBC', 'XGB', 'LGBM', 'Catboost', 'Ridge', 'Bagging']\n",
        "i=0\n",
        "model_acc = {}\n",
        "\n",
        "for model in models:  \n",
        "    if i == 4: \n",
        "        preds = model.fit(X_train, y_train).predict(X_test)\n",
        "        preds = preds.reshape(1,180)\n",
        "        preds = list(preds[0])\n",
        "    else: \n",
        "        preds = model.fit(X_train, y_train).predict(X_test)\n",
        "\n",
        "    globals()[f'preds_{model_list[i]}'] = preds   # set variable name for each model prediction results  \n",
        "  \n",
        "    score = sklearn.metrics.accuracy_score(y_test, preds)\n",
        "    model_acc[model_list[i]] = score\n",
        "    i += 1   \n",
        "\n",
        "print(model_acc)   "
      ]
    },
    {
      "cell_type": "code",
      "execution_count": 16,
      "id": "PihsvBmKhfOd",
      "metadata": {
        "colab": {
          "base_uri": "https://localhost:8080/",
          "height": 499
        },
        "id": "PihsvBmKhfOd",
        "outputId": "9549cee4-8afc-4584-ee6c-613c45f39a70"
      },
      "outputs": [
        {
          "output_type": "display_data",
          "data": {
            "text/plain": [
              "<Figure size 1008x576 with 1 Axes>"
            ],
            "image/png": "[encoded data removed]"
          },
          "metadata": {
            "needs_background": "light"
          }
        }
      ],
      "source": [
        "# ML models accuracy comparison plot \n",
        "model_name = list(model_acc.keys())\n",
        "model_acc = list(model_acc.values())\n",
        "acc_dic = {'model': model_name, 'acc': model_acc}\n",
        "acc_df = pd.DataFrame(acc_dic)\n",
        "acc_df = acc_df.set_index('model')\n",
        "\n",
        "acc_df.plot(kind='barh', figsize=(14,8),\n",
        "            title='Model Comparison - accuracy score');"
      ]
    },
    {
      "cell_type": "markdown",
      "id": "_KIk0bpq4IHj",
      "metadata": {
        "id": "_KIk0bpq4IHj"
      },
      "source": [
        "## 2.2 Sequential MLP \n",
        "* Deep Learning Modeling: Sequential MLP model"
      ]
    },
    {
      "cell_type": "code",
      "execution_count": 17,
      "id": "8wlnknVPi0NX",
      "metadata": {
        "id": "8wlnknVPi0NX"
      },
      "outputs": [],
      "source": [
        "import torch.nn as nn \n",
        "import torch.nn.functional as F \n",
        "\n",
        "class MultilayerPerceptron(nn.Module):\n",
        "    def __init__(self, input_dim, hidden_dim1, hidden_dim2, hidden_dim3, output_dim):\n",
        "        \"\"\"\n",
        "        parameters: \n",
        "            input_dim (int): 입력 벡터 크기\n",
        "            hidden_dim1 (int): 첫 번째 Linear 층의 출력 크기\n",
        "            hidden_dim2 (int): 두 번째 Linear 층의 출력 크기 \n",
        "            output_dim (int): 세 번째 Linear 층의 출력 크기 \n",
        "        \"\"\"\n",
        "        super(MultilayerPerceptron, self).__init__()\n",
        "        self.fc1 = nn.Linear(input_dim, hidden_dim1)\n",
        "        self.fc2 = nn.Linear(hidden_dim1, hidden_dim2)\n",
        "        self.fc3 = nn.Linear(hidden_dim2, hidden_dim3)\n",
        "        self.fc4 = nn.Linear(hidden_dim3, output_dim)\n",
        "\n",
        "    def forward(self, x_in, apply_softmax=False):\n",
        "        \"\"\"\n",
        "        MLP의 정방향 계산 \n",
        "\n",
        "        parameters:\n",
        "            x_in (torch.Tensor): 입력 데이터 텐서\n",
        "                x_in.shape는 (batch, input_dim)\n",
        "            apply_softmax (multiclasses): softmax activation function \n",
        "        return: \n",
        "            result Tensor\n",
        "            tesnor.shape: (batch, output_dim)\n",
        "        \"\"\"\n",
        "        intermediate1 = F.relu(self.fc1(x_in))   # activation function\n",
        "        intermediate2 = F.relu(self.fc2(intermediate1))   # activation function\n",
        "        intermediate3 = F.relu(self.fc3(intermediate2))   # activation function\n",
        "        output = self.fc4(intermediate3)    \n",
        "\n",
        "\n",
        "        if apply_softmax: \n",
        "            output = F.softmax(output, dim=1)   # output layer: softmax activation function\n",
        "        return output "
      ]
    },
    {
      "cell_type": "code",
      "execution_count": 18,
      "id": "Fp5qXV02kPeC",
      "metadata": {
        "colab": {
          "base_uri": "https://localhost:8080/"
        },
        "id": "Fp5qXV02kPeC",
        "outputId": "ac72f7cd-7844-4213-d5bf-7d097aae2b34"
      },
      "outputs": [
        {
          "output_type": "stream",
          "name": "stdout",
          "text": [
            "MultilayerPerceptron(\n",
            "  (fc1): Linear(in_features=2877, out_features=1024, bias=True)\n",
            "  (fc2): Linear(in_features=1024, out_features=512, bias=True)\n",
            "  (fc3): Linear(in_features=512, out_features=256, bias=True)\n",
            "  (fc4): Linear(in_features=256, out_features=3, bias=True)\n",
            ")\n",
            "Type: torch.FloatTensor\n",
            "shape: torch.Size([256, 3])\n"
          ]
        }
      ],
      "source": [
        "def describe(x): \n",
        "    print(f'Type: {x.type()}')\n",
        "    print(f'shape: {x.shape}')\n",
        "    # print(f'value: {x}') \n",
        "\n",
        "batch_size = 256 \n",
        "input_dim = train_x.shape[-1]\n",
        "hidden_dim1 = 1024\n",
        "hidden_dim2 = 512\n",
        "hidden_dim3 = 256\n",
        "output_dim = 3 \n",
        "\n",
        "# model design \n",
        "mlp = MultilayerPerceptron(input_dim, hidden_dim1, hidden_dim2, hidden_dim3, output_dim)\n",
        "print(mlp)\n",
        "x_input = torch.rand(batch_size, input_dim)\n",
        "y_output = mlp(x_input, apply_softmax=True)  # result: probabilities format \n",
        "a = y_output\n",
        "describe(y_output)"
      ]
    },
    {
      "cell_type": "code",
      "execution_count": 19,
      "id": "FLHA36Z1iEhW",
      "metadata": {
        "colab": {
          "base_uri": "https://localhost:8080/",
          "height": 265
        },
        "id": "FLHA36Z1iEhW",
        "outputId": "bf1fe567-2d8c-4f1b-aeaf-c6b1a9502b83"
      },
      "outputs": [
        {
          "output_type": "display_data",
          "data": {
            "text/plain": [
              "<Figure size 432x288 with 1 Axes>"
            ],
            "image/png": "[encoded data removed]"
          },
          "metadata": {
            "needs_background": "light"
          }
        }
      ],
      "source": [
        "prediction=[]\n",
        "\n",
        "for i in a: \n",
        "    i = list(i)\n",
        "    prediction.append(i.index(max(i)))\n",
        "\n",
        "sns.countplot(x=prediction);    "
      ]
    },
    {
      "cell_type": "markdown",
      "id": "7f3d392b",
      "metadata": {
        "id": "7f3d392b"
      },
      "source": [
        "# 3.Params Optimization\n",
        "1. Optuna\n",
        "2. GridSearch "
      ]
    },
    {
      "cell_type": "markdown",
      "id": "5ee4390b",
      "metadata": {
        "id": "5ee4390b"
      },
      "source": [
        "## 3.1 GradientBoosting\n",
        "1. Optuna\n",
        "    - hyperparameters auto optimization"
      ]
    },
    {
      "cell_type": "code",
      "execution_count": 20,
      "id": "29dc0524",
      "metadata": {
        "id": "29dc0524"
      },
      "outputs": [],
      "source": [
        "def objective(trial, X, y, cv, scoring):\n",
        "  params = {\n",
        "    \"n_estimators\": trial.suggest_int(\"n_estimators\", 100, 5000, step = 100),\n",
        "    \"learning_rate\": trial.suggest_float(\"learning_rate\", 1e-4, 0.3, log = True),\n",
        "    \"max_depth\": trial.suggest_int(\"max_depth\", 3, 9),\n",
        "    \"subsample\": trial.suggest_float(\"subsample\", 0.5, 0.9, step = 0.1),\n",
        "    \"max_features\": trial.suggest_categorical(\"max_features\", [\"auto\", \"sqrt\", \"log2\"]),\n",
        "    \"random_state\": 42,\n",
        "    }\n",
        "  # Perform cross validation\n",
        "  gb_class = GradientBoostingClassifier(**params)\n",
        "\n",
        "  # Compute scores\n",
        "  scores = cross_validate(gb_class, X, y, cv = cv, scoring = scoring, n_jobs = -1)\n",
        "  accuracy = scores[\"test_score\"].mean()\n",
        "\n",
        "  return accuracy"
      ]
    },
    {
      "cell_type": "markdown",
      "id": "0c65d30f",
      "metadata": {
        "id": "0c65d30f"
      },
      "source": [
        "- Optimization for params\n",
        "\n",
        "    - K-Fold, trials = 10"
      ]
    },
    {
      "cell_type": "code",
      "execution_count": null,
      "id": "4d11262c",
      "metadata": {
        "id": "4d11262c"
      },
      "outputs": [],
      "source": [
        "study = optuna.create_study(direction = \"maximize\")\n",
        "\n",
        "kf = sklearn.model_selection.StratifiedKFold(n_splits=5, shuffle=True, random_state=37)\n",
        "\n",
        "func = lambda trial: objective(trial, X_train, y_train, \n",
        "                               cv = kf, scoring = \"accuracy\")\n",
        "\n",
        "# %%time\n",
        "# Start optimizing with 100 trials\n",
        "study.optimize(func, n_trials = 10)\n",
        "\n",
        "print(f\"The highest accuracy reached by this study: {(study.best_value) * 100}%.\")\n",
        "print(\"Best params:\")\n",
        "for key, value in study.best_params.items():\n",
        "    print(f\"\\t{key}: {value}\")    "
      ]
    },
    {
      "cell_type": "code",
      "execution_count": 22,
      "id": "7d5b7e95",
      "metadata": {
        "colab": {
          "base_uri": "https://localhost:8080/"
        },
        "id": "7d5b7e95",
        "outputId": "fc259818-065b-4190-9dc9-f302d207994a"
      },
      "outputs": [
        {
          "output_type": "stream",
          "name": "stdout",
          "text": [
            "              precision    recall  f1-score   support\n",
            "\n",
            "           0       0.69      0.43      0.53        21\n",
            "           1       0.82      0.97      0.89       131\n",
            "           2       1.00      0.43      0.60        28\n",
            "\n",
            "    accuracy                           0.82       180\n",
            "   macro avg       0.84      0.61      0.67       180\n",
            "weighted avg       0.83      0.82      0.80       180\n",
            "\n",
            "\n",
            " Optuna :  0.8222222222222222\n"
          ]
        }
      ],
      "source": [
        "import imblearn\n",
        "import warnings  # delete future warning message \n",
        "warnings.simplefilter(action=\"ignore\", category=FutureWarning)\n",
        "\n",
        "params= {'n_estimators': 1200, 'learning_rate': 0.009147154102399788, \n",
        "        'max_depth': 9, 'subsample': 0.8, 'max_features': 'auto'}\n",
        "GBC =  GradientBoostingClassifier(random_state=37, **params,                              \n",
        "                                  ).fit(X_train, y_train)\n",
        "preds = GBC.predict(X_test)\n",
        "\n",
        "print(classification_report(y_test, preds))\n",
        "print(\"\\n Optuna : \", accuracy_score(y_test, preds))"
      ]
    },
    {
      "cell_type": "code",
      "execution_count": 23,
      "id": "8f76630f",
      "metadata": {
        "colab": {
          "base_uri": "https://localhost:8080/",
          "height": 542
        },
        "id": "8f76630f",
        "outputId": "46108346-18b2-4bf4-b6cf-a80b322fd742"
      },
      "outputs": [
        {
          "output_type": "display_data",
          "data": {
            "text/html": [
              "<html>\n",
              "<head><meta charset=\"utf-8\" /></head>\n",
              "<body>\n",
              "    <div>            <script src=\"https://cdnjs.cloudflare.com/ajax/libs/mathjax/2.7.5/MathJax.js?config=TeX-AMS-MML_SVG\"></script><script type=\"text/javascript\">if (window.MathJax) {MathJax.Hub.Config({SVG: {font: \"STIX-Web\"}});}</script>                <script type=\"text/javascript\">window.PlotlyConfig = {MathJaxConfig: 'local'};</script>\n",
              "        <script src=\"https://cdn.plot.ly/plotly-2.8.3.min.js\"></script>                <div id=\"6b6b74d4-eaad-4f62-86ce-4afb55d57211\" class=\"plotly-graph-div\" style=\"height:525px; width:100%;\"></div>            <script type=\"text/javascript\">                                    window.PLOTLYENV=window.PLOTLYENV || {};                                    if (document.getElementById(\"6b6b74d4-eaad-4f62-86ce-4afb55d57211\")) {                    Plotly.newPlot(                        \"6b6b74d4-eaad-4f62-86ce-4afb55d57211\",                        [{\"cliponaxis\":false,\"hovertemplate\":[\"n_estimators (IntDistribution): 0.06185435794162368<extra></extra>\",\"subsample (FloatDistribution): 0.08938925777857858<extra></extra>\",\"max_features (CategoricalDistribution): 0.2349051286782993<extra></extra>\",\"max_depth (IntDistribution): 0.2568466741835776<extra></extra>\",\"learning_rate (FloatDistribution): 0.35700458141792074<extra></extra>\"],\"marker\":{\"color\":\"rgb(66,146,198)\"},\"orientation\":\"h\",\"text\":[\"0.06\",\"0.09\",\"0.23\",\"0.26\",\"0.36\"],\"textposition\":\"outside\",\"x\":[0.06185435794162368,0.08938925777857858,0.2349051286782993,0.2568466741835776,0.35700458141792074],\"y\":[\"n_estimators\",\"subsample\",\"max_features\",\"max_depth\",\"learning_rate\"],\"type\":\"bar\"}],                        {\"showlegend\":false,\"title\":{\"text\":\"Hyperparameter Importances\"},\"xaxis\":{\"title\":{\"text\":\"Importance for Objective Value\"}},\"yaxis\":{\"title\":{\"text\":\"Hyperparameter\"}},\"template\":{\"data\":{\"bar\":[{\"error_x\":{\"color\":\"#2a3f5f\"},\"error_y\":{\"color\":\"#2a3f5f\"},\"marker\":{\"line\":{\"color\":\"#E5ECF6\",\"width\":0.5},\"pattern\":{\"fillmode\":\"overlay\",\"size\":10,\"solidity\":0.2}},\"type\":\"bar\"}],\"barpolar\":[{\"marker\":{\"line\":{\"color\":\"#E5ECF6\",\"width\":0.5},\"pattern\":{\"fillmode\":\"overlay\",\"size\":10,\"solidity\":0.2}},\"type\":\"barpolar\"}],\"carpet\":[{\"aaxis\":{\"endlinecolor\":\"#2a3f5f\",\"gridcolor\":\"white\",\"linecolor\":\"white\",\"minorgridcolor\":\"white\",\"startlinecolor\":\"#2a3f5f\"},\"baxis\":{\"endlinecolor\":\"#2a3f5f\",\"gridcolor\":\"white\",\"linecolor\":\"white\",\"minorgridcolor\":\"white\",\"startlinecolor\":\"#2a3f5f\"},\"type\":\"carpet\"}],\"choropleth\":[{\"colorbar\":{\"outlinewidth\":0,\"ticks\":\"\"},\"type\":\"choropleth\"}],\"contour\":[{\"colorbar\":{\"outlinewidth\":0,\"ticks\":\"\"},\"colorscale\":[[0.0,\"#0d0887\"],[0.1111111111111111,\"#46039f\"],[0.2222222222222222,\"#7201a8\"],[0.3333333333333333,\"#9c179e\"],[0.4444444444444444,\"#bd3786\"],[0.5555555555555556,\"#d8576b\"],[0.6666666666666666,\"#ed7953\"],[0.7777777777777778,\"#fb9f3a\"],[0.8888888888888888,\"#fdca26\"],[1.0,\"#f0f921\"]],\"type\":\"contour\"}],\"contourcarpet\":[{\"colorbar\":{\"outlinewidth\":0,\"ticks\":\"\"},\"type\":\"contourcarpet\"}],\"heatmap\":[{\"colorbar\":{\"outlinewidth\":0,\"ticks\":\"\"},\"colorscale\":[[0.0,\"#0d0887\"],[0.1111111111111111,\"#46039f\"],[0.2222222222222222,\"#7201a8\"],[0.3333333333333333,\"#9c179e\"],[0.4444444444444444,\"#bd3786\"],[0.5555555555555556,\"#d8576b\"],[0.6666666666666666,\"#ed7953\"],[0.7777777777777778,\"#fb9f3a\"],[0.8888888888888888,\"#fdca26\"],[1.0,\"#f0f921\"]],\"type\":\"heatmap\"}],\"heatmapgl\":[{\"colorbar\":{\"outlinewidth\":0,\"ticks\":\"\"},\"colorscale\":[[0.0,\"#0d0887\"],[0.1111111111111111,\"#46039f\"],[0.2222222222222222,\"#7201a8\"],[0.3333333333333333,\"#9c179e\"],[0.4444444444444444,\"#bd3786\"],[0.5555555555555556,\"#d8576b\"],[0.6666666666666666,\"#ed7953\"],[0.7777777777777778,\"#fb9f3a\"],[0.8888888888888888,\"#fdca26\"],[1.0,\"#f0f921\"]],\"type\":\"heatmapgl\"}],\"histogram\":[{\"marker\":{\"pattern\":{\"fillmode\":\"overlay\",\"size\":10,\"solidity\":0.2}},\"type\":\"histogram\"}],\"histogram2d\":[{\"colorbar\":{\"outlinewidth\":0,\"ticks\":\"\"},\"colorscale\":[[0.0,\"#0d0887\"],[0.1111111111111111,\"#46039f\"],[0.2222222222222222,\"#7201a8\"],[0.3333333333333333,\"#9c179e\"],[0.4444444444444444,\"#bd3786\"],[0.5555555555555556,\"#d8576b\"],[0.6666666666666666,\"#ed7953\"],[0.7777777777777778,\"#fb9f3a\"],[0.8888888888888888,\"#fdca26\"],[1.0,\"#f0f921\"]],\"type\":\"histogram2d\"}],\"histogram2dcontour\":[{\"colorbar\":{\"outlinewidth\":0,\"ticks\":\"\"},\"colorscale\":[[0.0,\"#0d0887\"],[0.1111111111111111,\"#46039f\"],[0.2222222222222222,\"#7201a8\"],[0.3333333333333333,\"#9c179e\"],[0.4444444444444444,\"#bd3786\"],[0.5555555555555556,\"#d8576b\"],[0.6666666666666666,\"#ed7953\"],[0.7777777777777778,\"#fb9f3a\"],[0.8888888888888888,\"#fdca26\"],[1.0,\"#f0f921\"]],\"type\":\"histogram2dcontour\"}],\"mesh3d\":[{\"colorbar\":{\"outlinewidth\":0,\"ticks\":\"\"},\"type\":\"mesh3d\"}],\"parcoords\":[{\"line\":{\"colorbar\":{\"outlinewidth\":0,\"ticks\":\"\"}},\"type\":\"parcoords\"}],\"pie\":[{\"automargin\":true,\"type\":\"pie\"}],\"scatter\":[{\"marker\":{\"colorbar\":{\"outlinewidth\":0,\"ticks\":\"\"}},\"type\":\"scatter\"}],\"scatter3d\":[{\"line\":{\"colorbar\":{\"outlinewidth\":0,\"ticks\":\"\"}},\"marker\":{\"colorbar\":{\"outlinewidth\":0,\"ticks\":\"\"}},\"type\":\"scatter3d\"}],\"scattercarpet\":[{\"marker\":{\"colorbar\":{\"outlinewidth\":0,\"ticks\":\"\"}},\"type\":\"scattercarpet\"}],\"scattergeo\":[{\"marker\":{\"colorbar\":{\"outlinewidth\":0,\"ticks\":\"\"}},\"type\":\"scattergeo\"}],\"scattergl\":[{\"marker\":{\"colorbar\":{\"outlinewidth\":0,\"ticks\":\"\"}},\"type\":\"scattergl\"}],\"scattermapbox\":[{\"marker\":{\"colorbar\":{\"outlinewidth\":0,\"ticks\":\"\"}},\"type\":\"scattermapbox\"}],\"scatterpolar\":[{\"marker\":{\"colorbar\":{\"outlinewidth\":0,\"ticks\":\"\"}},\"type\":\"scatterpolar\"}],\"scatterpolargl\":[{\"marker\":{\"colorbar\":{\"outlinewidth\":0,\"ticks\":\"\"}},\"type\":\"scatterpolargl\"}],\"scatterternary\":[{\"marker\":{\"colorbar\":{\"outlinewidth\":0,\"ticks\":\"\"}},\"type\":\"scatterternary\"}],\"surface\":[{\"colorbar\":{\"outlinewidth\":0,\"ticks\":\"\"},\"colorscale\":[[0.0,\"#0d0887\"],[0.1111111111111111,\"#46039f\"],[0.2222222222222222,\"#7201a8\"],[0.3333333333333333,\"#9c179e\"],[0.4444444444444444,\"#bd3786\"],[0.5555555555555556,\"#d8576b\"],[0.6666666666666666,\"#ed7953\"],[0.7777777777777778,\"#fb9f3a\"],[0.8888888888888888,\"#fdca26\"],[1.0,\"#f0f921\"]],\"type\":\"surface\"}],\"table\":[{\"cells\":{\"fill\":{\"color\":\"#EBF0F8\"},\"line\":{\"color\":\"white\"}},\"header\":{\"fill\":{\"color\":\"#C8D4E3\"},\"line\":{\"color\":\"white\"}},\"type\":\"table\"}]},\"layout\":{\"annotationdefaults\":{\"arrowcolor\":\"#2a3f5f\",\"arrowhead\":0,\"arrowwidth\":1},\"autotypenumbers\":\"strict\",\"coloraxis\":{\"colorbar\":{\"outlinewidth\":0,\"ticks\":\"\"}},\"colorscale\":{\"diverging\":[[0,\"#8e0152\"],[0.1,\"#c51b7d\"],[0.2,\"#de77ae\"],[0.3,\"#f1b6da\"],[0.4,\"#fde0ef\"],[0.5,\"#f7f7f7\"],[0.6,\"#e6f5d0\"],[0.7,\"#b8e186\"],[0.8,\"#7fbc41\"],[0.9,\"#4d9221\"],[1,\"#276419\"]],\"sequential\":[[0.0,\"#0d0887\"],[0.1111111111111111,\"#46039f\"],[0.2222222222222222,\"#7201a8\"],[0.3333333333333333,\"#9c179e\"],[0.4444444444444444,\"#bd3786\"],[0.5555555555555556,\"#d8576b\"],[0.6666666666666666,\"#ed7953\"],[0.7777777777777778,\"#fb9f3a\"],[0.8888888888888888,\"#fdca26\"],[1.0,\"#f0f921\"]],\"sequentialminus\":[[0.0,\"#0d0887\"],[0.1111111111111111,\"#46039f\"],[0.2222222222222222,\"#7201a8\"],[0.3333333333333333,\"#9c179e\"],[0.4444444444444444,\"#bd3786\"],[0.5555555555555556,\"#d8576b\"],[0.6666666666666666,\"#ed7953\"],[0.7777777777777778,\"#fb9f3a\"],[0.8888888888888888,\"#fdca26\"],[1.0,\"#f0f921\"]]},\"colorway\":[\"#636efa\",\"#EF553B\",\"#00cc96\",\"#ab63fa\",\"#FFA15A\",\"#19d3f3\",\"#FF6692\",\"#B6E880\",\"#FF97FF\",\"#FECB52\"],\"font\":{\"color\":\"#2a3f5f\"},\"geo\":{\"bgcolor\":\"white\",\"lakecolor\":\"white\",\"landcolor\":\"#E5ECF6\",\"showlakes\":true,\"showland\":true,\"subunitcolor\":\"white\"},\"hoverlabel\":{\"align\":\"left\"},\"hovermode\":\"closest\",\"mapbox\":{\"style\":\"light\"},\"paper_bgcolor\":\"white\",\"plot_bgcolor\":\"#E5ECF6\",\"polar\":{\"angularaxis\":{\"gridcolor\":\"white\",\"linecolor\":\"white\",\"ticks\":\"\"},\"bgcolor\":\"#E5ECF6\",\"radialaxis\":{\"gridcolor\":\"white\",\"linecolor\":\"white\",\"ticks\":\"\"}},\"scene\":{\"xaxis\":{\"backgroundcolor\":\"#E5ECF6\",\"gridcolor\":\"white\",\"gridwidth\":2,\"linecolor\":\"white\",\"showbackground\":true,\"ticks\":\"\",\"zerolinecolor\":\"white\"},\"yaxis\":{\"backgroundcolor\":\"#E5ECF6\",\"gridcolor\":\"white\",\"gridwidth\":2,\"linecolor\":\"white\",\"showbackground\":true,\"ticks\":\"\",\"zerolinecolor\":\"white\"},\"zaxis\":{\"backgroundcolor\":\"#E5ECF6\",\"gridcolor\":\"white\",\"gridwidth\":2,\"linecolor\":\"white\",\"showbackground\":true,\"ticks\":\"\",\"zerolinecolor\":\"white\"}},\"shapedefaults\":{\"line\":{\"color\":\"#2a3f5f\"}},\"ternary\":{\"aaxis\":{\"gridcolor\":\"white\",\"linecolor\":\"white\",\"ticks\":\"\"},\"baxis\":{\"gridcolor\":\"white\",\"linecolor\":\"white\",\"ticks\":\"\"},\"bgcolor\":\"#E5ECF6\",\"caxis\":{\"gridcolor\":\"white\",\"linecolor\":\"white\",\"ticks\":\"\"}},\"title\":{\"x\":0.05},\"xaxis\":{\"automargin\":true,\"gridcolor\":\"white\",\"linecolor\":\"white\",\"ticks\":\"\",\"title\":{\"standoff\":15},\"zerolinecolor\":\"white\",\"zerolinewidth\":2},\"yaxis\":{\"automargin\":true,\"gridcolor\":\"white\",\"linecolor\":\"white\",\"ticks\":\"\",\"title\":{\"standoff\":15},\"zerolinecolor\":\"white\",\"zerolinewidth\":2}}}},                        {\"responsive\": true}                    ).then(function(){\n",
              "                            \n",
              "var gd = document.getElementById('6b6b74d4-eaad-4f62-86ce-4afb55d57211');\n",
              "var x = new MutationObserver(function (mutations, observer) {{\n",
              "        var display = window.getComputedStyle(gd).display;\n",
              "        if (!display || display === 'none') {{\n",
              "            console.log([gd, 'removed!']);\n",
              "            Plotly.purge(gd);\n",
              "            observer.disconnect();\n",
              "        }}\n",
              "}});\n",
              "\n",
              "// Listen for the removal of the full notebook cells\n",
              "var notebookContainer = gd.closest('#notebook-container');\n",
              "if (notebookContainer) {{\n",
              "    x.observe(notebookContainer, {childList: true});\n",
              "}}\n",
              "\n",
              "// Listen for the clearing of the current output cell\n",
              "var outputEl = gd.closest('.output');\n",
              "if (outputEl) {{\n",
              "    x.observe(outputEl, {childList: true});\n",
              "}}\n",
              "\n",
              "                        })                };                            </script>        </div>\n",
              "</body>\n",
              "</html>"
            ]
          },
          "metadata": {}
        }
      ],
      "source": [
        "from optuna.visualization import plot_optimization_history\n",
        "from optuna.visualization import plot_param_importances\n",
        "from optuna.visualization import plot_parallel_coordinate\n",
        "from optuna.visualization import plot_contour\n",
        "plot_param_importances(study)"
      ]
    },
    {
      "cell_type": "markdown",
      "id": "38703a67",
      "metadata": {
        "id": "38703a67"
      },
      "source": [
        "### 3.1.1 GridSearch\n",
        "\n",
        "- hyperparameter optimization"
      ]
    },
    {
      "cell_type": "code",
      "execution_count": null,
      "id": "f34d37d8",
      "metadata": {
        "id": "f34d37d8"
      },
      "outputs": [],
      "source": [
        "# from sklearn.model_selection import GridSearchCV\n",
        "\n",
        "# estimator = GradientBoostingClassifier(random_state = 37)\n",
        "\n",
        "# param_grid = {\n",
        "#             'n_estimators' : [n_estimators for n_estimators in range(100, 5000, 100)],\n",
        "#             'learning_rate' : [lr * 0.0001 for lr in range(1, 10)],\n",
        "#             'max_depth' : [depth for depth in range(3, 9)],\n",
        "#             'subsample' : [subsample * 0.1 for subsample in range(5, 9, 1)],\n",
        "#             'max_features' : ['auto', 'sqrt', 'log2']\n",
        "#             }\n",
        "\n",
        "# # scoring = 'r2' -> 결정계수로 scoring\n",
        "# grid_GBC = GridSearchCV(estimator, param_grid, scoring = 'r2', n_jobs = -1)\n",
        "# grid_GBC.fit(train_x, train_y)\n",
        "\n",
        "# print('best estimator model: \\n{}'.format(grid_GBC.best_estimator_))\n",
        "# print('\\nbest parameter: \\n{}'.format(grid_GBC.best_params_))\n",
        "# print(\"\\nbest score: \\n{}\".format(grid_GBC.best_score_.round(3)))"
      ]
    },
    {
      "cell_type": "code",
      "execution_count": null,
      "id": "7f8add53",
      "metadata": {
        "id": "7f8add53"
      },
      "outputs": [],
      "source": [
        "# # GridSearch best parameter \n",
        "# import imblearn\n",
        "\n",
        "# params= {'n_estimators': 1200, 'learning_rate': 0.009147154102399788, \n",
        "#         'max_depth': 9, 'subsample': 0.8, 'max_features': 'auto'}\n",
        "# GBC =  GradientBoostingClassifier(random_state=37, **params,                              \n",
        "#                                   ).fit(X_train, y_train)\n",
        "# preds = GBC.predict(X_test)\n",
        "\n",
        "# print(classification_report(y_test, preds))\n",
        "# print(\"\\n Grid : \", accuracy_score(y_test, preds))"
      ]
    },
    {
      "cell_type": "markdown",
      "id": "-V0IZDs6_S3f",
      "metadata": {
        "id": "-V0IZDs6_S3f"
      },
      "source": [
        "## 3.2 CatBoost\n",
        "1. optuna \n",
        "    - hyperparameters auto optimization"
      ]
    },
    {
      "cell_type": "code",
      "execution_count": 57,
      "id": "4ea05433",
      "metadata": {
        "id": "4ea05433"
      },
      "outputs": [],
      "source": [
        "def objective(trial):\n",
        "    model = CatBoostClassifier(\n",
        "        iterations=trial.suggest_int(\"iterations\", 100, 1000),\n",
        "        learning_rate=trial.suggest_float(\"learning_rate\", 1e-3, 1e-1, log=True),\n",
        "        depth=trial.suggest_int(\"depth\", 4, 10),\n",
        "        l2_leaf_reg=trial.suggest_float(\"l2_leaf_reg\", 1e-8, 100.0, log=True),\n",
        "        bootstrap_type=trial.suggest_categorical(\"bootstrap_type\", [\"Bayesian\"]),\n",
        "        random_strength=trial.suggest_float(\"random_strength\", 1e-8, 10.0, log=True),\n",
        "        bagging_temperature=trial.suggest_float(\"bagging_temperature\", 0.0, 10.0),\n",
        "        od_type=trial.suggest_categorical(\"od_type\", [\"IncToDec\", \"Iter\"]),\n",
        "        od_wait=trial.suggest_int(\"od_wait\", 10, 50),\n",
        "        verbose=False\n",
        "    )\n",
        "    model.fit(X_train, y_train)\n",
        "    y_pred = model.predict(X_test)\n",
        "    return f1_score(y_test, y_pred, average='macro')\n",
        "     \n",
        "# hyper-parameter tuning with OPTUNA  \n",
        "optuna.logging.set_verbosity(optuna.logging.WARNING)\n",
        "\n",
        "sampler = TPESampler(seed=37)\n",
        "study = optuna.create_study(study_name=\"catboost\", direction=\"maximize\", sampler=sampler)\n",
        "study.optimize(objective, n_trials=10)  "
      ]
    },
    {
      "cell_type": "code",
      "execution_count": 58,
      "id": "a8ffdb51",
      "metadata": {
        "colab": {
          "base_uri": "https://localhost:8080/"
        },
        "id": "a8ffdb51",
        "outputId": "5ae3cb4c-e3eb-45fa-8503-59f9c2514767"
      },
      "outputs": [
        {
          "output_type": "stream",
          "name": "stdout",
          "text": [
            "Number of trials:  10\n",
            "Best trial:\n",
            "  Value:  0.5929126858885749\n",
            "  Params:  {'iterations': 857, 'learning_rate': 0.07097207730593516, 'depth': 8, 'l2_leaf_reg': 0.00012090525126196811, 'bootstrap_type': 'Bayesian', 'random_strength': 5.359110894800412, 'bagging_temperature': 0.7137022569955509, 'od_type': 'IncToDec', 'od_wait': 42}\n"
          ]
        }
      ],
      "source": [
        "print(\"Number of trials: \", len(study.trials))\n",
        "print(\"Best trial:\")\n",
        "trial = study.best_trial\n",
        "print(\"  Value: \", trial.value)\n",
        "print(\"  Params: \",trial.params)\n",
        "\n",
        "model = CatBoostClassifier(**trial.params, verbose=False, random_state = 37)\n",
        "model.fit(X_train, y_train)\n",
        "y_pred = model.predict(X_test)\n"
      ]
    },
    {
      "cell_type": "code",
      "execution_count": 59,
      "id": "1942cb67",
      "metadata": {
        "colab": {
          "base_uri": "https://localhost:8080/"
        },
        "id": "1942cb67",
        "outputId": "728fbe02-65ce-4407-eff8-2c211498e5ae"
      },
      "outputs": [
        {
          "output_type": "stream",
          "name": "stdout",
          "text": [
            "              precision    recall  f1-score   support\n",
            "\n",
            "           0       0.67      0.38      0.48        21\n",
            "           1       0.80      0.97      0.88       131\n",
            "           2       1.00      0.32      0.49        28\n",
            "\n",
            "    accuracy                           0.80       180\n",
            "   macro avg       0.82      0.56      0.62       180\n",
            "weighted avg       0.81      0.80      0.77       180\n",
            "\n",
            "\n",
            " Optuna :  0.8\n"
          ]
        }
      ],
      "source": [
        "params=  {'iterations': 857, 'learning_rate': 0.07097207730593516, 'depth': 8, \n",
        "        'l2_leaf_reg': 0.00012090525126196811, 'bootstrap_type': 'Bayesian', \n",
        "        'random_strength': 5.359110894800412, 'bagging_temperature': 0.7137022569955509, \n",
        "        'od_type': 'IncToDec', 'od_wait': 42}\n",
        "CBC = CatBoostClassifier(**params, verbose=False, random_state=37)\n",
        "CBC.fit(X_train, y_train)\n",
        "preds_CBC = CBC.predict(X_test)\n",
        "\n",
        "print(classification_report(y_test, preds_CBC))\n",
        "print(\"\\n Optuna : \", accuracy_score(y_test, preds_CBC))"
      ]
    },
    {
      "cell_type": "code",
      "execution_count": 60,
      "id": "eACiKQAXwMSW",
      "metadata": {
        "id": "eACiKQAXwMSW"
      },
      "outputs": [],
      "source": [
        "from optuna.visualization import plot_optimization_history\n",
        "from optuna.visualization import plot_param_importances\n",
        "from optuna.visualization import plot_parallel_coordinate\n",
        "from optuna.visualization import plot_contour"
      ]
    },
    {
      "cell_type": "code",
      "execution_count": 61,
      "id": "b30ec99b",
      "metadata": {
        "colab": {
          "base_uri": "https://localhost:8080/",
          "height": 562
        },
        "id": "b30ec99b",
        "outputId": "b1a69824-e144-4672-fa94-7c3f552435e4"
      },
      "outputs": [
        {
          "output_type": "display_data",
          "data": {
            "text/html": [
              "<html>\n",
              "<head><meta charset=\"utf-8\" /></head>\n",
              "<body>\n",
              "    <div>            <script src=\"https://cdnjs.cloudflare.com/ajax/libs/mathjax/2.7.5/MathJax.js?config=TeX-AMS-MML_SVG\"></script><script type=\"text/javascript\">if (window.MathJax) {MathJax.Hub.Config({SVG: {font: \"STIX-Web\"}});}</script>                <script type=\"text/javascript\">window.PlotlyConfig = {MathJaxConfig: 'local'};</script>\n",
              "        <script src=\"https://cdn.plot.ly/plotly-2.8.3.min.js\"></script>                <div id=\"9d12407e-4652-4cc7-98b0-067fb6142492\" class=\"plotly-graph-div\" style=\"height:525px; width:100%;\"></div>            <script type=\"text/javascript\">                                    window.PLOTLYENV=window.PLOTLYENV || {};                                    if (document.getElementById(\"9d12407e-4652-4cc7-98b0-067fb6142492\")) {                    Plotly.newPlot(                        \"9d12407e-4652-4cc7-98b0-067fb6142492\",                        [{\"cliponaxis\":false,\"hovertemplate\":[\"bootstrap_type (CategoricalDistribution): 0.0<extra></extra>\",\"l2_leaf_reg (FloatDistribution): 9.024638568999363e-05<extra></extra>\",\"od_type (CategoricalDistribution): 0.030970166188247526<extra></extra>\",\"random_strength (FloatDistribution): 0.03631278478927394<extra></extra>\",\"od_wait (IntDistribution): 0.045988634459278706<extra></extra>\",\"depth (IntDistribution): 0.04674443534591977<extra></extra>\",\"iterations (IntDistribution): 0.06428422639481277<extra></extra>\",\"learning_rate (FloatDistribution): 0.22554183163707894<extra></extra>\",\"bagging_temperature (FloatDistribution): 0.5500676747996984<extra></extra>\"],\"marker\":{\"color\":\"rgb(66,146,198)\"},\"orientation\":\"h\",\"text\":[\"<0.01\",\"<0.01\",\"0.03\",\"0.04\",\"0.05\",\"0.05\",\"0.06\",\"0.23\",\"0.55\"],\"textposition\":\"outside\",\"x\":[0.0,9.024638568999363e-05,0.030970166188247526,0.03631278478927394,0.045988634459278706,0.04674443534591977,0.06428422639481277,0.22554183163707894,0.5500676747996984],\"y\":[\"bootstrap_type\",\"l2_leaf_reg\",\"od_type\",\"random_strength\",\"od_wait\",\"depth\",\"iterations\",\"learning_rate\",\"bagging_temperature\"],\"type\":\"bar\"}],                        {\"showlegend\":false,\"title\":{\"text\":\"Hyperparameter Importances\"},\"xaxis\":{\"title\":{\"text\":\"Importance for Objective Value\"}},\"yaxis\":{\"title\":{\"text\":\"Hyperparameter\"}},\"template\":{\"data\":{\"bar\":[{\"error_x\":{\"color\":\"#2a3f5f\"},\"error_y\":{\"color\":\"#2a3f5f\"},\"marker\":{\"line\":{\"color\":\"#E5ECF6\",\"width\":0.5},\"pattern\":{\"fillmode\":\"overlay\",\"size\":10,\"solidity\":0.2}},\"type\":\"bar\"}],\"barpolar\":[{\"marker\":{\"line\":{\"color\":\"#E5ECF6\",\"width\":0.5},\"pattern\":{\"fillmode\":\"overlay\",\"size\":10,\"solidity\":0.2}},\"type\":\"barpolar\"}],\"carpet\":[{\"aaxis\":{\"endlinecolor\":\"#2a3f5f\",\"gridcolor\":\"white\",\"linecolor\":\"white\",\"minorgridcolor\":\"white\",\"startlinecolor\":\"#2a3f5f\"},\"baxis\":{\"endlinecolor\":\"#2a3f5f\",\"gridcolor\":\"white\",\"linecolor\":\"white\",\"minorgridcolor\":\"white\",\"startlinecolor\":\"#2a3f5f\"},\"type\":\"carpet\"}],\"choropleth\":[{\"colorbar\":{\"outlinewidth\":0,\"ticks\":\"\"},\"type\":\"choropleth\"}],\"contour\":[{\"colorbar\":{\"outlinewidth\":0,\"ticks\":\"\"},\"colorscale\":[[0.0,\"#0d0887\"],[0.1111111111111111,\"#46039f\"],[0.2222222222222222,\"#7201a8\"],[0.3333333333333333,\"#9c179e\"],[0.4444444444444444,\"#bd3786\"],[0.5555555555555556,\"#d8576b\"],[0.6666666666666666,\"#ed7953\"],[0.7777777777777778,\"#fb9f3a\"],[0.8888888888888888,\"#fdca26\"],[1.0,\"#f0f921\"]],\"type\":\"contour\"}],\"contourcarpet\":[{\"colorbar\":{\"outlinewidth\":0,\"ticks\":\"\"},\"type\":\"contourcarpet\"}],\"heatmap\":[{\"colorbar\":{\"outlinewidth\":0,\"ticks\":\"\"},\"colorscale\":[[0.0,\"#0d0887\"],[0.1111111111111111,\"#46039f\"],[0.2222222222222222,\"#7201a8\"],[0.3333333333333333,\"#9c179e\"],[0.4444444444444444,\"#bd3786\"],[0.5555555555555556,\"#d8576b\"],[0.6666666666666666,\"#ed7953\"],[0.7777777777777778,\"#fb9f3a\"],[0.8888888888888888,\"#fdca26\"],[1.0,\"#f0f921\"]],\"type\":\"heatmap\"}],\"heatmapgl\":[{\"colorbar\":{\"outlinewidth\":0,\"ticks\":\"\"},\"colorscale\":[[0.0,\"#0d0887\"],[0.1111111111111111,\"#46039f\"],[0.2222222222222222,\"#7201a8\"],[0.3333333333333333,\"#9c179e\"],[0.4444444444444444,\"#bd3786\"],[0.5555555555555556,\"#d8576b\"],[0.6666666666666666,\"#ed7953\"],[0.7777777777777778,\"#fb9f3a\"],[0.8888888888888888,\"#fdca26\"],[1.0,\"#f0f921\"]],\"type\":\"heatmapgl\"}],\"histogram\":[{\"marker\":{\"pattern\":{\"fillmode\":\"overlay\",\"size\":10,\"solidity\":0.2}},\"type\":\"histogram\"}],\"histogram2d\":[{\"colorbar\":{\"outlinewidth\":0,\"ticks\":\"\"},\"colorscale\":[[0.0,\"#0d0887\"],[0.1111111111111111,\"#46039f\"],[0.2222222222222222,\"#7201a8\"],[0.3333333333333333,\"#9c179e\"],[0.4444444444444444,\"#bd3786\"],[0.5555555555555556,\"#d8576b\"],[0.6666666666666666,\"#ed7953\"],[0.7777777777777778,\"#fb9f3a\"],[0.8888888888888888,\"#fdca26\"],[1.0,\"#f0f921\"]],\"type\":\"histogram2d\"}],\"histogram2dcontour\":[{\"colorbar\":{\"outlinewidth\":0,\"ticks\":\"\"},\"colorscale\":[[0.0,\"#0d0887\"],[0.1111111111111111,\"#46039f\"],[0.2222222222222222,\"#7201a8\"],[0.3333333333333333,\"#9c179e\"],[0.4444444444444444,\"#bd3786\"],[0.5555555555555556,\"#d8576b\"],[0.6666666666666666,\"#ed7953\"],[0.7777777777777778,\"#fb9f3a\"],[0.8888888888888888,\"#fdca26\"],[1.0,\"#f0f921\"]],\"type\":\"histogram2dcontour\"}],\"mesh3d\":[{\"colorbar\":{\"outlinewidth\":0,\"ticks\":\"\"},\"type\":\"mesh3d\"}],\"parcoords\":[{\"line\":{\"colorbar\":{\"outlinewidth\":0,\"ticks\":\"\"}},\"type\":\"parcoords\"}],\"pie\":[{\"automargin\":true,\"type\":\"pie\"}],\"scatter\":[{\"marker\":{\"colorbar\":{\"outlinewidth\":0,\"ticks\":\"\"}},\"type\":\"scatter\"}],\"scatter3d\":[{\"line\":{\"colorbar\":{\"outlinewidth\":0,\"ticks\":\"\"}},\"marker\":{\"colorbar\":{\"outlinewidth\":0,\"ticks\":\"\"}},\"type\":\"scatter3d\"}],\"scattercarpet\":[{\"marker\":{\"colorbar\":{\"outlinewidth\":0,\"ticks\":\"\"}},\"type\":\"scattercarpet\"}],\"scattergeo\":[{\"marker\":{\"colorbar\":{\"outlinewidth\":0,\"ticks\":\"\"}},\"type\":\"scattergeo\"}],\"scattergl\":[{\"marker\":{\"colorbar\":{\"outlinewidth\":0,\"ticks\":\"\"}},\"type\":\"scattergl\"}],\"scattermapbox\":[{\"marker\":{\"colorbar\":{\"outlinewidth\":0,\"ticks\":\"\"}},\"type\":\"scattermapbox\"}],\"scatterpolar\":[{\"marker\":{\"colorbar\":{\"outlinewidth\":0,\"ticks\":\"\"}},\"type\":\"scatterpolar\"}],\"scatterpolargl\":[{\"marker\":{\"colorbar\":{\"outlinewidth\":0,\"ticks\":\"\"}},\"type\":\"scatterpolargl\"}],\"scatterternary\":[{\"marker\":{\"colorbar\":{\"outlinewidth\":0,\"ticks\":\"\"}},\"type\":\"scatterternary\"}],\"surface\":[{\"colorbar\":{\"outlinewidth\":0,\"ticks\":\"\"},\"colorscale\":[[0.0,\"#0d0887\"],[0.1111111111111111,\"#46039f\"],[0.2222222222222222,\"#7201a8\"],[0.3333333333333333,\"#9c179e\"],[0.4444444444444444,\"#bd3786\"],[0.5555555555555556,\"#d8576b\"],[0.6666666666666666,\"#ed7953\"],[0.7777777777777778,\"#fb9f3a\"],[0.8888888888888888,\"#fdca26\"],[1.0,\"#f0f921\"]],\"type\":\"surface\"}],\"table\":[{\"cells\":{\"fill\":{\"color\":\"#EBF0F8\"},\"line\":{\"color\":\"white\"}},\"header\":{\"fill\":{\"color\":\"#C8D4E3\"},\"line\":{\"color\":\"white\"}},\"type\":\"table\"}]},\"layout\":{\"annotationdefaults\":{\"arrowcolor\":\"#2a3f5f\",\"arrowhead\":0,\"arrowwidth\":1},\"autotypenumbers\":\"strict\",\"coloraxis\":{\"colorbar\":{\"outlinewidth\":0,\"ticks\":\"\"}},\"colorscale\":{\"diverging\":[[0,\"#8e0152\"],[0.1,\"#c51b7d\"],[0.2,\"#de77ae\"],[0.3,\"#f1b6da\"],[0.4,\"#fde0ef\"],[0.5,\"#f7f7f7\"],[0.6,\"#e6f5d0\"],[0.7,\"#b8e186\"],[0.8,\"#7fbc41\"],[0.9,\"#4d9221\"],[1,\"#276419\"]],\"sequential\":[[0.0,\"#0d0887\"],[0.1111111111111111,\"#46039f\"],[0.2222222222222222,\"#7201a8\"],[0.3333333333333333,\"#9c179e\"],[0.4444444444444444,\"#bd3786\"],[0.5555555555555556,\"#d8576b\"],[0.6666666666666666,\"#ed7953\"],[0.7777777777777778,\"#fb9f3a\"],[0.8888888888888888,\"#fdca26\"],[1.0,\"#f0f921\"]],\"sequentialminus\":[[0.0,\"#0d0887\"],[0.1111111111111111,\"#46039f\"],[0.2222222222222222,\"#7201a8\"],[0.3333333333333333,\"#9c179e\"],[0.4444444444444444,\"#bd3786\"],[0.5555555555555556,\"#d8576b\"],[0.6666666666666666,\"#ed7953\"],[0.7777777777777778,\"#fb9f3a\"],[0.8888888888888888,\"#fdca26\"],[1.0,\"#f0f921\"]]},\"colorway\":[\"#636efa\",\"#EF553B\",\"#00cc96\",\"#ab63fa\",\"#FFA15A\",\"#19d3f3\",\"#FF6692\",\"#B6E880\",\"#FF97FF\",\"#FECB52\"],\"font\":{\"color\":\"#2a3f5f\"},\"geo\":{\"bgcolor\":\"white\",\"lakecolor\":\"white\",\"landcolor\":\"#E5ECF6\",\"showlakes\":true,\"showland\":true,\"subunitcolor\":\"white\"},\"hoverlabel\":{\"align\":\"left\"},\"hovermode\":\"closest\",\"mapbox\":{\"style\":\"light\"},\"paper_bgcolor\":\"white\",\"plot_bgcolor\":\"#E5ECF6\",\"polar\":{\"angularaxis\":{\"gridcolor\":\"white\",\"linecolor\":\"white\",\"ticks\":\"\"},\"bgcolor\":\"#E5ECF6\",\"radialaxis\":{\"gridcolor\":\"white\",\"linecolor\":\"white\",\"ticks\":\"\"}},\"scene\":{\"xaxis\":{\"backgroundcolor\":\"#E5ECF6\",\"gridcolor\":\"white\",\"gridwidth\":2,\"linecolor\":\"white\",\"showbackground\":true,\"ticks\":\"\",\"zerolinecolor\":\"white\"},\"yaxis\":{\"backgroundcolor\":\"#E5ECF6\",\"gridcolor\":\"white\",\"gridwidth\":2,\"linecolor\":\"white\",\"showbackground\":true,\"ticks\":\"\",\"zerolinecolor\":\"white\"},\"zaxis\":{\"backgroundcolor\":\"#E5ECF6\",\"gridcolor\":\"white\",\"gridwidth\":2,\"linecolor\":\"white\",\"showbackground\":true,\"ticks\":\"\",\"zerolinecolor\":\"white\"}},\"shapedefaults\":{\"line\":{\"color\":\"#2a3f5f\"}},\"ternary\":{\"aaxis\":{\"gridcolor\":\"white\",\"linecolor\":\"white\",\"ticks\":\"\"},\"baxis\":{\"gridcolor\":\"white\",\"linecolor\":\"white\",\"ticks\":\"\"},\"bgcolor\":\"#E5ECF6\",\"caxis\":{\"gridcolor\":\"white\",\"linecolor\":\"white\",\"ticks\":\"\"}},\"title\":{\"x\":0.05},\"xaxis\":{\"automargin\":true,\"gridcolor\":\"white\",\"linecolor\":\"white\",\"ticks\":\"\",\"title\":{\"standoff\":15},\"zerolinecolor\":\"white\",\"zerolinewidth\":2},\"yaxis\":{\"automargin\":true,\"gridcolor\":\"white\",\"linecolor\":\"white\",\"ticks\":\"\",\"title\":{\"standoff\":15},\"zerolinecolor\":\"white\",\"zerolinewidth\":2}}}},                        {\"responsive\": true}                    ).then(function(){\n",
              "                            \n",
              "var gd = document.getElementById('9d12407e-4652-4cc7-98b0-067fb6142492');\n",
              "var x = new MutationObserver(function (mutations, observer) {{\n",
              "        var display = window.getComputedStyle(gd).display;\n",
              "        if (!display || display === 'none') {{\n",
              "            console.log([gd, 'removed!']);\n",
              "            Plotly.purge(gd);\n",
              "            observer.disconnect();\n",
              "        }}\n",
              "}});\n",
              "\n",
              "// Listen for the removal of the full notebook cells\n",
              "var notebookContainer = gd.closest('#notebook-container');\n",
              "if (notebookContainer) {{\n",
              "    x.observe(notebookContainer, {childList: true});\n",
              "}}\n",
              "\n",
              "// Listen for the clearing of the current output cell\n",
              "var outputEl = gd.closest('.output');\n",
              "if (outputEl) {{\n",
              "    x.observe(outputEl, {childList: true});\n",
              "}}\n",
              "\n",
              "                        })                };                            </script>        </div>\n",
              "</body>\n",
              "</html>"
            ]
          },
          "metadata": {}
        }
      ],
      "source": [
        "plot_param_importances(study)"
      ]
    },
    {
      "cell_type": "markdown",
      "id": "458a5890",
      "metadata": {
        "id": "458a5890"
      },
      "source": [
        "### 3.2.1 GridSearch\n",
        "\n",
        "- hyperparameter optimization"
      ]
    },
    {
      "cell_type": "code",
      "execution_count": null,
      "id": "c06e0929",
      "metadata": {
        "id": "c06e0929"
      },
      "outputs": [],
      "source": [
        "# from sklearn.model_selection import GridSearchCV\n",
        "\n",
        "# estimator = CatBoostClassifier(random_state = 37)\n",
        "\n",
        "# param_grid = {\n",
        "#             'iterataions' : [iter for iter in range(100, 1000, 100)],\n",
        "#             'learning_rate' : [lr * 0.0001 for lr in range(1, 10)],\n",
        "#             'depth' : [depth for depth in range(4, 10)],\n",
        "#             'l2_leaf_reg' : [leaf * 0.0000001 for leaf in range(1, 100, 10)],\n",
        "#             'bootstrap_type' : ['Bayesian'],\n",
        "#             'random_strength' : [strength * 0.1 for strength in range(1, 100, 10)],\n",
        "#             'bagging_temperature' : [bag * 0.1 for bag in range(1, 10)],\n",
        "#             'od_type' : ['IncToDec', 'Iter'],\n",
        "#             'od_wait' : [wait for wait in range(10, 50, 4)]\n",
        "#             }\n",
        "\n",
        "# # scoring = 'r2' -> 결정계수로 scoring\n",
        "# grid_CBC = GridSearchCV(estimator, param_grid, scoring = 'r2', n_jobs = -1)\n",
        "# grid_CBC.fit(X_train, y_train)\n",
        "\n",
        "# print('best estimator model: \\n{}'.format(grid_CBC.best_estimator_))\n",
        "# print('\\nbest parameter: \\n{}'.format(grid_CBC.best_params_))\n",
        "# print(\"\\nbest score: \\n{}\".format(grid_CBC.best_score_.round(3)))"
      ]
    },
    {
      "cell_type": "code",
      "execution_count": null,
      "id": "092912ed",
      "metadata": {
        "id": "092912ed"
      },
      "outputs": [],
      "source": [
        "# params=  {'iterations': 857, 'learning_rate': 0.07097207730593516, 'depth': 8, \n",
        "#         'l2_leaf_reg': 0.00012090525126196811, 'bootstrap_type': 'Bayesian', \n",
        "#         'random_strength': 5.359110894800412, 'bagging_temperature': 0.7137022569955509, \n",
        "#         'od_type': 'IncToDec', 'od_wait': 42}\n",
        "# CBC = CatBoostClassifier(**params, verbose=False, random_state=37)\n",
        "# CBC.fit(X_train, y_train)\n",
        "# preds_CBC = CBC.predict(X_test)\n",
        "\n",
        "# print(classification_report(y_test, preds_CBC))\n",
        "# print(\"\\n Grid : \", accuracy_score(y_test, preds_CBC))"
      ]
    },
    {
      "cell_type": "markdown",
      "metadata": {
        "id": "o8N-QHuIvNN3"
      },
      "source": [
        "# 4.Ensemble"
      ],
      "id": "o8N-QHuIvNN3"
    },
    {
      "cell_type": "markdown",
      "metadata": {
        "id": "2fe15f1a"
      },
      "source": [
        "## 4.1 VotingClassifier\n",
        "1. 3-ensemble Modle\n",
        "2. Cross-Validation 구축 후 성능 검증"
      ],
      "id": "2fe15f1a"
    },
    {
      "cell_type": "code",
      "execution_count": 39,
      "metadata": {
        "id": "Vm8q0p4Hyzg2"
      },
      "outputs": [],
      "source": [
        "models = [\n",
        "    # test set accuracy 1위(0.8166) \n",
        "    CatBoostClassifier(verbose=False, random_seed=seed_num),\n",
        "    # test set accuracy 5위(0.7722)\n",
        "    XGBClassifier(random_state=seed_num),\n",
        "    # test set accuracy 2위(0.8111) \n",
        "    GradientBoostingClassifier(random_state=seed_num)]\n",
        "\n",
        "fit = [x.fit(train_x, train_y) for x in models]    "
      ],
      "id": "Vm8q0p4Hyzg2"
    },
    {
      "cell_type": "code",
      "execution_count": 40,
      "metadata": {
        "colab": {
          "base_uri": "https://localhost:8080/",
          "height": 265
        },
        "id": "0bcafdb3",
        "outputId": "5a174ae2-b6ed-4b89-9db3-65abfebfdc80"
      },
      "outputs": [
        {
          "output_type": "display_data",
          "data": {
            "text/plain": [
              "<Figure size 432x288 with 1 Axes>"
            ],
            "image/png": "[encoded data removed]"
          },
          "metadata": {
            "needs_background": "light"
          }
        }
      ],
      "source": [
        "def prediction(models, test, mode=None, weights=None):\n",
        "    if mode == \"hard\":\n",
        "        preds = np.asarray([x.predict(test).reshape(-1) for x in models]).T\n",
        "        res = np.apply_along_axis(\n",
        "            lambda x: np.argmax(np.bincount(x, weights=weights)),\n",
        "            axis=1,\n",
        "            arr=preds\n",
        "        )\n",
        "    elif mode == \"soft\":  \n",
        "        preds = np.asarray([x.predict_proba(test) for x in models])\n",
        "        res = np.zeros(preds[0].shape)\n",
        "        for pred, weight in zip(preds, weights):\n",
        "            res = res + pred*weight\n",
        "        res = np.argmax(preds, axis=0) \n",
        "    else:\n",
        "        res = models[0].predict(test)\n",
        "    return res\n",
        "\n",
        "preds = prediction(models, test_x, 'hard', [2,1,2] )\n",
        "\n",
        "sns.countplot(x=preds);   "
      ],
      "id": "0bcafdb3"
    },
    {
      "cell_type": "markdown",
      "metadata": {
        "id": "KUOHpt3z847x"
      },
      "source": [
        "## 4.2 Validation Score\n",
        "1. train.csv에서 split된 test set accuracy 100% 검증"
      ],
      "id": "KUOHpt3z847x"
    },
    {
      "cell_type": "code",
      "execution_count": 47,
      "metadata": {
        "id": "Z3UesEBQ1r8z"
      },
      "outputs": [],
      "source": [
        "cbc = CatBoostClassifier(verbose=False, random_seed=seed_num)  \n",
        "xgb = XGBClassifier(random_state=seed_num) \n",
        "gbc = GradientBoostingClassifier(random_state=seed_num) \n",
        "voting_model = sklearn.ensemble.VotingClassifier(estimators=[\n",
        "                ('CatBoostClassifier', cbc),\n",
        "                ('XGBClassifier', xgb),\n",
        "                ('GradientBoostingClassifier', gbc)], \n",
        "                voting='hard', weights=[2,1,2])"
      ],
      "id": "Z3UesEBQ1r8z"
    },
    {
      "cell_type": "code",
      "execution_count": 48,
      "metadata": {
        "colab": {
          "base_uri": "https://localhost:8080/"
        },
        "id": "TgLWsUI2A25b",
        "outputId": "70c0de76-d1cf-4807-a994-95bd7c207c82"
      },
      "outputs": [
        {
          "output_type": "execute_result",
          "data": {
            "text/plain": [
              "1.0"
            ]
          },
          "metadata": {},
          "execution_count": 48
        }
      ],
      "source": [
        "val_preds = prediction(models, X_test, 'hard', [2,1,2])\n",
        "val_score= sklearn.metrics.accuracy_score(y_test, val_preds)\n",
        "val_score  "
      ],
      "id": "TgLWsUI2A25b"
    },
    {
      "cell_type": "markdown",
      "id": "zbNtWowN78mX",
      "metadata": {
        "id": "zbNtWowN78mX"
      },
      "source": [
        "# 5.Submit"
      ]
    },
    {
      "cell_type": "code",
      "execution_count": 46,
      "id": "YQHmg0PCJetf",
      "metadata": {
        "id": "YQHmg0PCJetf"
      },
      "outputs": [],
      "source": [
        "submit = pd.read_csv('./sample_submission.csv')\n",
        "submit['Y_Class'] = preds\n",
        "\n",
        "submit.to_csv('smartFactorySubmission.csv', index=False)"
      ]
    },
    {
      "cell_type": "markdown",
      "id": "utf4-GCG5REy",
      "metadata": {
        "id": "utf4-GCG5REy"
      },
      "source": [
        "# 6.References\n",
        "PPT에 기재하였습니다\n"
      ]
    },
    {
      "cell_type": "markdown",
      "source": [
        "# THE END"
      ],
      "metadata": {
        "id": "f5sg6EQYMj_P"
      },
      "id": "f5sg6EQYMj_P"
    }
  ],
  "metadata": {
    "accelerator": "GPU",
    "colab": {
      "machine_shape": "hm",
      "provenance": [],
      "toc_visible": true
    },
    "gpuClass": "standard",
    "kernelspec": {
      "display_name": "Python 3 (ipykernel)",
      "language": "python",
      "name": "python3"
    },
    "language_info": {
      "codemirror_mode": {
        "name": "ipython",
        "version": 3
      },
      "file_extension": ".py",
      "mimetype": "text/x-python",
      "name": "python",
      "nbconvert_exporter": "python",
      "pygments_lexer": "ipython3",
      "version": "3.9.13"
    }
  },
  "nbformat": 4,
  "nbformat_minor": 5
}