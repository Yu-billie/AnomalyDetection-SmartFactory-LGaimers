{
  "cells": [
    {
      "cell_type": "markdown",
      "source": [
        "# Setup"
      ],
      "metadata": {
        "id": "zrHSs3fQqYSV"
      },
      "id": "zrHSs3fQqYSV"
    },
    {
      "cell_type": "code",
      "execution_count": 4,
      "id": "94682a80",
      "metadata": {
        "colab": {
          "base_uri": "https://localhost:8080/"
        },
        "id": "94682a80",
        "outputId": "f402873b-86e1-49c0-88d9-a89fccf6b96d"
      },
      "outputs": [
        {
          "output_type": "stream",
          "name": "stdout",
          "text": [
            "Mounted at /content/drive\n"
          ]
        }
      ],
      "source": [
        "import pandas as pd\n",
        "import random\n",
        "import os\n",
        "import numpy as np\n",
        "import matplotlib.pyplot as plt   \n",
        "import matplotlib.patches as mpathces \n",
        "import seaborn as sns \n",
        "\n",
        "# sklearn \n",
        "from sklearn.preprocessing import LabelEncoder\n",
        "from sklearn.model_selection import train_test_split\n",
        "from sklearn.metrics import accuracy_score, classification_report, f1_score\n",
        "from sklearn.preprocessing import StandardScaler\n",
        "\n",
        "# sequential model modeling \n",
        "import tensorflow as tf\n",
        "from keras import regularizers\n",
        "from keras.models import Sequential\n",
        "from keras.layers import Dense,Dropout, Activation, BatchNormalization \n",
        "from keras import optimizers, metrics, callbacks\n",
        "\n",
        "# GoodleDrive mount\n",
        "from google.colab import drive   \n",
        "drive.mount('/content/drive')"
      ]
    },
    {
      "cell_type": "markdown",
      "source": [
        "# 0.Data Load"
      ],
      "metadata": {
        "id": "1Eq5tN4RkxOO"
      },
      "id": "1Eq5tN4RkxOO"
    },
    {
      "cell_type": "markdown",
      "id": "wqkW_3EbQxj1",
      "metadata": {
        "id": "wqkW_3EbQxj1"
      },
      "source": [
        "# 1.Pre-processing\n",
        "1. Label Encoding: categorical values `LINE`, `PRODUCT_CODE`\n",
        "2. Missing values: fillna(0) \n",
        "3. scaling: StandardScaler"
      ]
    },
    {
      "cell_type": "code",
      "execution_count": 77,
      "id": "c66d3bf4",
      "metadata": {
        "colab": {
          "base_uri": "https://localhost:8080/"
        },
        "id": "c66d3bf4",
        "outputId": "7e4c9c7e-380f-4241-cae2-193461a8a9c0"
      },
      "outputs": [
        {
          "output_type": "stream",
          "name": "stdout",
          "text": [
            "Done.\n"
          ]
        }
      ],
      "source": [
        "train_df = pd.read_csv('/content/drive/MyDrive/train.csv')\n",
        "test_df = pd.read_csv('/content/drive/MyDrive/test.csv')\n",
        "submit = pd.read_csv('/content/drive/MyDrive/sample_submission.csv')\n",
        "\n",
        "train_x = train_df.drop(columns=['PRODUCT_ID', 'TIMESTAMP', 'Y_Class','Y_Quality'])\n",
        "train_y = train_df['Y_Class']\n",
        "test_x = test_df.drop(columns=['PRODUCT_ID', 'TIMESTAMP'])   \n",
        "\n",
        "# 1) qualitative to quantitative\n",
        "qual_col = ['LINE', 'PRODUCT_CODE']\n",
        "for i in qual_col:\n",
        "    le = LabelEncoder()    # TRY one-hot encoding \n",
        "    le = le.fit(train_x[i])\n",
        "    train_x[i] = le.transform(train_x[i])\n",
        "    for label in np.unique(test_x[i]): \n",
        "        if label not in le.classes_: \n",
        "            le.classes_ = np.append(le.classes_, label)\n",
        "    test_x[i] = le.transform(test_x[i]) \n",
        "\n",
        "# 2) Missing Values \n",
        "train_x = train_x.fillna(0)\n",
        "test_x = test_x.fillna(0)\n",
        "\n",
        "# 3) scaling: only `X_???` values (continuous)\n",
        "Xs = train_x.select_dtypes(include=float).iloc[:,1:].columns.tolist()\n",
        "scaler = StandardScaler().fit(train_x.loc[:, Xs])\n",
        "train_x.loc[:, Xs] = scaler.transform(train_x.loc[:, Xs])\n",
        "test_x.loc[:, Xs] = scaler.transform(test_x.loc[:, Xs])\n",
        "print('Done.')  \n",
        "\n",
        "X_train, X_test, y_train, y_test = train_test_split(train_x, train_y, test_size=0.3, random_state=37)  "
      ]
    },
    {
      "cell_type": "code",
      "source": [
        "model = Sequential([\n",
        "        # Input layer: ReLU (decide input size according to dimension)\n",
        "        Dense(512, activation='relu', input_shape=(train_x.shape[-1],)),\n",
        "\n",
        "        # layer2: softmax  (output layer)\n",
        "        Dense(3, activation='softmax')\n",
        "        ])\n",
        "\n",
        "model.compile(\n",
        "    optimizer = optimizers.Adam(1e-4),\n",
        "    # optimizer='adam',\n",
        "                   loss='sparse_categorical_crossentropy',  # tow or more label classes (`Y_Class`: 0,1,2)\n",
        "                   metrics=['accuracy'])\n",
        "\n",
        "# EarlyStopping \n",
        "## callback: during eopch, save the parameter that provided BEST PERFORMANCE \n",
        "# callbacks = [callbacks.ModelCheckpoint('epoch.h5')]\n",
        "        \n",
        "history = model.fit(train_x, train_y,\n",
        "                    epochs=10,\n",
        "                    batch_size=54,  # batch size: 2^x && half of data size(598/2) \n",
        "                    validation_split=0.2,\n",
        "                    # callbacks=callbacks\n",
        "                    )   "
      ],
      "metadata": {
        "colab": {
          "base_uri": "https://localhost:8080/"
        },
        "id": "c4S8Io-q7CCA",
        "outputId": "ed5f82a5-27f6-4bc5-c427-937a3699cefa"
      },
      "id": "c4S8Io-q7CCA",
      "execution_count": 86,
      "outputs": [
        {
          "output_type": "stream",
          "name": "stdout",
          "text": [
            "Epoch 1/10\n",
            "9/9 [==============================] - 1s 26ms/step - loss: 1.0249 - accuracy: 0.6318 - val_loss: 1.2370 - val_accuracy: 0.6167\n",
            "Epoch 2/10\n",
            "9/9 [==============================] - 0s 7ms/step - loss: 0.8132 - accuracy: 0.6632 - val_loss: 0.9532 - val_accuracy: 0.6833\n",
            "Epoch 3/10\n",
            "9/9 [==============================] - 0s 6ms/step - loss: 0.6965 - accuracy: 0.7594 - val_loss: 1.0432 - val_accuracy: 0.6250\n",
            "Epoch 4/10\n",
            "9/9 [==============================] - 0s 6ms/step - loss: 0.6459 - accuracy: 0.7741 - val_loss: 0.9852 - val_accuracy: 0.6250\n",
            "Epoch 5/10\n",
            "9/9 [==============================] - 0s 6ms/step - loss: 0.6109 - accuracy: 0.7845 - val_loss: 0.9487 - val_accuracy: 0.6167\n",
            "Epoch 6/10\n",
            "9/9 [==============================] - 0s 6ms/step - loss: 0.5975 - accuracy: 0.7678 - val_loss: 1.0415 - val_accuracy: 0.6250\n",
            "Epoch 7/10\n",
            "9/9 [==============================] - 0s 6ms/step - loss: 0.5818 - accuracy: 0.7887 - val_loss: 0.9745 - val_accuracy: 0.6917\n",
            "Epoch 8/10\n",
            "9/9 [==============================] - 0s 7ms/step - loss: 0.5562 - accuracy: 0.7824 - val_loss: 1.0007 - val_accuracy: 0.6333\n",
            "Epoch 9/10\n",
            "9/9 [==============================] - 0s 7ms/step - loss: 0.5510 - accuracy: 0.7782 - val_loss: 1.0016 - val_accuracy: 0.6167\n",
            "Epoch 10/10\n",
            "9/9 [==============================] - 0s 6ms/step - loss: 0.5571 - accuracy: 0.7908 - val_loss: 0.9910 - val_accuracy: 0.6500\n"
          ]
        }
      ]
    },
    {
      "cell_type": "code",
      "execution_count": 90,
      "id": "57a8de60",
      "metadata": {
        "id": "57a8de60",
        "scrolled": true,
        "colab": {
          "base_uri": "https://localhost:8080/"
        },
        "outputId": "adae2293-2faf-4558-8a86-a8a013fa8137"
      },
      "outputs": [
        {
          "output_type": "stream",
          "name": "stdout",
          "text": [
            "10/10 [==============================] - 0s 2ms/step\n"
          ]
        },
        {
          "output_type": "execute_result",
          "data": {
            "text/plain": [
              "[1,\n",
              " 1,\n",
              " 1,\n",
              " 1,\n",
              " 1,\n",
              " 1,\n",
              " 1,\n",
              " 0,\n",
              " 0,\n",
              " 1,\n",
              " 1,\n",
              " 1,\n",
              " 1,\n",
              " 0,\n",
              " 2,\n",
              " 1,\n",
              " 1,\n",
              " 1,\n",
              " 1,\n",
              " 1,\n",
              " 1,\n",
              " 1,\n",
              " 1,\n",
              " 1,\n",
              " 1,\n",
              " 1,\n",
              " 1,\n",
              " 1,\n",
              " 1,\n",
              " 1,\n",
              " 1,\n",
              " 1,\n",
              " 1,\n",
              " 1,\n",
              " 1,\n",
              " 0,\n",
              " 2,\n",
              " 1,\n",
              " 1,\n",
              " 1,\n",
              " 1,\n",
              " 0,\n",
              " 0,\n",
              " 1,\n",
              " 1,\n",
              " 1,\n",
              " 1,\n",
              " 1,\n",
              " 1,\n",
              " 1,\n",
              " 1,\n",
              " 1,\n",
              " 1,\n",
              " 0,\n",
              " 0,\n",
              " 1,\n",
              " 1,\n",
              " 1,\n",
              " 1,\n",
              " 1,\n",
              " 1,\n",
              " 0,\n",
              " 2,\n",
              " 0,\n",
              " 0,\n",
              " 0,\n",
              " 0,\n",
              " 1,\n",
              " 1,\n",
              " 1,\n",
              " 1,\n",
              " 1,\n",
              " 1,\n",
              " 1,\n",
              " 1,\n",
              " 1,\n",
              " 1,\n",
              " 1,\n",
              " 1,\n",
              " 1,\n",
              " 1,\n",
              " 1,\n",
              " 1,\n",
              " 1,\n",
              " 1,\n",
              " 1,\n",
              " 1,\n",
              " 1,\n",
              " 1,\n",
              " 1,\n",
              " 1,\n",
              " 1,\n",
              " 1,\n",
              " 1,\n",
              " 1,\n",
              " 1,\n",
              " 1,\n",
              " 1,\n",
              " 1,\n",
              " 1,\n",
              " 1,\n",
              " 1,\n",
              " 1,\n",
              " 1,\n",
              " 1,\n",
              " 1,\n",
              " 1,\n",
              " 1,\n",
              " 1,\n",
              " 2,\n",
              " 1,\n",
              " 1,\n",
              " 1,\n",
              " 1,\n",
              " 1,\n",
              " 1,\n",
              " 1,\n",
              " 1,\n",
              " 1,\n",
              " 1,\n",
              " 1,\n",
              " 1,\n",
              " 1,\n",
              " 1,\n",
              " 1,\n",
              " 1,\n",
              " 1,\n",
              " 1,\n",
              " 1,\n",
              " 1,\n",
              " 1,\n",
              " 1,\n",
              " 1,\n",
              " 1,\n",
              " 1,\n",
              " 1,\n",
              " 1,\n",
              " 1,\n",
              " 1,\n",
              " 1,\n",
              " 1,\n",
              " 1,\n",
              " 1,\n",
              " 1,\n",
              " 1,\n",
              " 1,\n",
              " 1,\n",
              " 1,\n",
              " 1,\n",
              " 1,\n",
              " 1,\n",
              " 1,\n",
              " 1,\n",
              " 1,\n",
              " 1,\n",
              " 1,\n",
              " 1,\n",
              " 1,\n",
              " 1,\n",
              " 1,\n",
              " 1,\n",
              " 1,\n",
              " 1,\n",
              " 1,\n",
              " 1,\n",
              " 1,\n",
              " 1,\n",
              " 1,\n",
              " 1,\n",
              " 1,\n",
              " 1,\n",
              " 1,\n",
              " 1,\n",
              " 1,\n",
              " 1,\n",
              " 1,\n",
              " 1,\n",
              " 1,\n",
              " 1,\n",
              " 1,\n",
              " 1,\n",
              " 1,\n",
              " 1,\n",
              " 1,\n",
              " 1,\n",
              " 1,\n",
              " 1,\n",
              " 1,\n",
              " 1,\n",
              " 1,\n",
              " 1,\n",
              " 1,\n",
              " 1,\n",
              " 1,\n",
              " 1,\n",
              " 1,\n",
              " 1,\n",
              " 1,\n",
              " 1,\n",
              " 1,\n",
              " 1,\n",
              " 1,\n",
              " 1,\n",
              " 1,\n",
              " 1,\n",
              " 1,\n",
              " 1,\n",
              " 1,\n",
              " 1,\n",
              " 1,\n",
              " 1,\n",
              " 1,\n",
              " 1,\n",
              " 1,\n",
              " 1,\n",
              " 1,\n",
              " 1,\n",
              " 1,\n",
              " 1,\n",
              " 1,\n",
              " 1,\n",
              " 1,\n",
              " 1,\n",
              " 1,\n",
              " 1,\n",
              " 1,\n",
              " 1,\n",
              " 1,\n",
              " 1,\n",
              " 1,\n",
              " 1,\n",
              " 1,\n",
              " 1,\n",
              " 1,\n",
              " 1,\n",
              " 1,\n",
              " 1,\n",
              " 1,\n",
              " 1,\n",
              " 1,\n",
              " 1,\n",
              " 1,\n",
              " 1,\n",
              " 1,\n",
              " 1,\n",
              " 1,\n",
              " 1,\n",
              " 1,\n",
              " 1,\n",
              " 1,\n",
              " 1,\n",
              " 1,\n",
              " 1,\n",
              " 1,\n",
              " 0,\n",
              " 0,\n",
              " 1,\n",
              " 1,\n",
              " 1,\n",
              " 1,\n",
              " 1,\n",
              " 1,\n",
              " 1,\n",
              " 0,\n",
              " 1,\n",
              " 1,\n",
              " 1,\n",
              " 1,\n",
              " 1,\n",
              " 1,\n",
              " 1,\n",
              " 1,\n",
              " 1,\n",
              " 1,\n",
              " 1,\n",
              " 1,\n",
              " 1,\n",
              " 1,\n",
              " 1,\n",
              " 1,\n",
              " 0,\n",
              " 0,\n",
              " 0,\n",
              " 0,\n",
              " 0,\n",
              " 0,\n",
              " 0,\n",
              " 1,\n",
              " 1,\n",
              " 1,\n",
              " 1,\n",
              " 1,\n",
              " 0,\n",
              " 0,\n",
              " 1,\n",
              " 1,\n",
              " 1,\n",
              " 1,\n",
              " 1,\n",
              " 1,\n",
              " 1,\n",
              " 1,\n",
              " 1,\n",
              " 1,\n",
              " 1,\n",
              " 1,\n",
              " 1,\n",
              " 1,\n",
              " 1,\n",
              " 1]"
            ]
          },
          "metadata": {},
          "execution_count": 90
        }
      ],
      "source": [
        "# a = pd.DataFrame(test_x)\n",
        "preds = model.predict(test_x)\n",
        "a=[]\n",
        "for i in preds: \n",
        "    i = list(i)\n",
        "    a.append(i.index(max(i)))\n",
        "a\n",
        "# preds   "
      ]
    },
    {
      "cell_type": "code",
      "execution_count": 91,
      "id": "b687c6a1",
      "metadata": {
        "id": "b687c6a1",
        "colab": {
          "base_uri": "https://localhost:8080/",
          "height": 265
        },
        "outputId": "0fb8784a-dd42-40c6-c9c6-3fc536646573"
      },
      "outputs": [
        {
          "output_type": "display_data",
          "data": {
            "text/plain": [
              "<Figure size 432x288 with 1 Axes>"
            ],
            "image/png": "[encoded data removed]"
          },
          "metadata": {
            "needs_background": "light"
          }
        }
      ],
      "source": [
        "submit = pd.read_csv('/content/drive/MyDrive/sample_submission.csv')\n",
        "submit['Y_Class'] = a\n",
        "\n",
        "submit.to_csv('smartFactory_submission.csv', index=False)\n",
        "sns.countplot(x=a);  "
      ]
    },
    {
      "cell_type": "code",
      "execution_count": 89,
      "id": "f5a8c473",
      "metadata": {
        "colab": {
          "base_uri": "https://localhost:8080/",
          "height": 295
        },
        "id": "f5a8c473",
        "outputId": "460fe44e-5ce0-40c9-9262-3996668cc089"
      },
      "outputs": [
        {
          "output_type": "display_data",
          "data": {
            "text/plain": [
              "<Figure size 1008x288 with 2 Axes>"
            ],
            "image/png": "[encoded data removed]"
          },
          "metadata": {
            "needs_background": "light"
          }
        }
      ],
      "source": [
        "epochs = range(1, len(history.history[\"loss\"]) + 1)\n",
        "\n",
        "fig, axes = plt.subplots(1,2,figsize=(14,4))\n",
        "ax= axes.flatten()\n",
        "a, b = ax[0], ax[1]\n",
        "\n",
        "a.plot(epochs, history.history[\"loss\"], \"bo\", label=\"Training loss\")\n",
        "a.plot(epochs, history.history[\"val_loss\"], \"b\", label=\"Validation loss\")\n",
        "a.set_title(\"Training and validation loss\")\n",
        "a.set_xlabel(\"Epochs\")\n",
        "a.set_ylabel(\"Loss\")\n",
        "a.legend()   \n",
        "\n",
        "b.plot(epochs, history.history[\"accuracy\"], \"bo\", label=\"Training accuracy\")\n",
        "b.plot(epochs, history.history[\"val_accuracy\"], \"b\", label=\"Validation accuracy\")\n",
        "b.set_title(\"Training and validation accuracy\")\n",
        "b.set_xlabel(\"Epochs\")\n",
        "b.set_ylabel(\"Accuracy\")\n",
        "b.legend();"
      ]
    },
    {
      "cell_type": "markdown",
      "source": [
        "# 4.Submit"
      ],
      "metadata": {
        "id": "UGXZF-80lBAP"
      },
      "id": "UGXZF-80lBAP"
    },
    {
      "cell_type": "markdown",
      "source": [
        "# THE END"
      ],
      "metadata": {
        "id": "20a97788"
      },
      "id": "20a97788"
    },
    {
      "cell_type": "code",
      "execution_count": null,
      "id": "369e67a9",
      "metadata": {
        "id": "369e67a9"
      },
      "outputs": [],
      "source": []
    }
  ],
  "metadata": {
    "accelerator": "GPU",
    "colab": {
      "provenance": [],
      "machine_shape": "hm"
    },
    "gpuClass": "premium",
    "kernelspec": {
      "display_name": "Python 3 (ipykernel)",
      "language": "python",
      "name": "python3"
    },
    "language_info": {
      "codemirror_mode": {
        "name": "ipython",
        "version": 3
      },
      "file_extension": ".py",
      "mimetype": "text/x-python",
      "name": "python",
      "nbconvert_exporter": "python",
      "pygments_lexer": "ipython3",
      "version": "3.9.7"
    }
  },
  "nbformat": 4,
  "nbformat_minor": 5
}