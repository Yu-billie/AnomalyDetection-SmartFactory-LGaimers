{
  "cells": [
    {
      "cell_type": "markdown",
      "source": [
        "# 팀 스마일C 코드 제출\n",
        "* 팀원: 정우섭, 김유민, 김유진, 장동언, 황정묵\n",
        "* PRIVATE SCORE: 0.65887 \n",
        "* PRIVATE RANKING: 36"
      ],
      "metadata": {
        "id": "ZJBm2amd3Lb5"
      },
      "id": "ZJBm2amd3Lb5"
    },
    {
      "cell_type": "markdown",
      "source": [
        "# 0.Data Load"
      ],
      "metadata": {
        "id": "QIfodgpc3HP6"
      },
      "id": "QIfodgpc3HP6"
    },
    {
      "cell_type": "code",
      "execution_count": null,
      "id": "6ab709fe",
      "metadata": {
        "colab": {
          "base_uri": "https://localhost:8080/"
        },
        "id": "6ab709fe",
        "outputId": "c66c8b0f-97bf-4544-8835-eff5e8995a9d"
      },
      "outputs": [
        {
          "output_type": "stream",
          "name": "stdout",
          "text": [
            "Looking in indexes: https://pypi.org/simple, https://us-python.pkg.dev/colab-wheels/public/simple/\n",
            "Collecting catboost\n",
            "  Downloading catboost-1.1.1-cp38-none-manylinux1_x86_64.whl (76.6 MB)\n",
            "\u001b[2K     \u001b[90m━━━━━━━━━━━━━━━━━━━━━━━━━━━━━━━━━━━━━━━━\u001b[0m \u001b[32m76.6/76.6 MB\u001b[0m \u001b[31m20.6 MB/s\u001b[0m eta \u001b[36m0:00:00\u001b[0m\n",
            "\u001b[?25hRequirement already satisfied: pandas>=0.24.0 in /usr/local/lib/python3.8/dist-packages (from catboost) (1.3.5)\n",
            "Requirement already satisfied: six in /usr/local/lib/python3.8/dist-packages (from catboost) (1.15.0)\n",
            "Requirement already satisfied: matplotlib in /usr/local/lib/python3.8/dist-packages (from catboost) (3.5.3)\n",
            "Requirement already satisfied: numpy>=1.16.0 in /usr/local/lib/python3.8/dist-packages (from catboost) (1.22.4)\n",
            "Requirement already satisfied: scipy in /usr/local/lib/python3.8/dist-packages (from catboost) (1.7.3)\n",
            "Requirement already satisfied: plotly in /usr/local/lib/python3.8/dist-packages (from catboost) (5.5.0)\n",
            "Requirement already satisfied: graphviz in /usr/local/lib/python3.8/dist-packages (from catboost) (0.10.1)\n",
            "Requirement already satisfied: python-dateutil>=2.7.3 in /usr/local/lib/python3.8/dist-packages (from pandas>=0.24.0->catboost) (2.8.2)\n",
            "Requirement already satisfied: pytz>=2017.3 in /usr/local/lib/python3.8/dist-packages (from pandas>=0.24.0->catboost) (2022.7.1)\n",
            "Requirement already satisfied: kiwisolver>=1.0.1 in /usr/local/lib/python3.8/dist-packages (from matplotlib->catboost) (1.4.4)\n",
            "Requirement already satisfied: cycler>=0.10 in /usr/local/lib/python3.8/dist-packages (from matplotlib->catboost) (0.11.0)\n",
            "Requirement already satisfied: packaging>=20.0 in /usr/local/lib/python3.8/dist-packages (from matplotlib->catboost) (23.0)\n",
            "Requirement already satisfied: pyparsing>=2.2.1 in /usr/local/lib/python3.8/dist-packages (from matplotlib->catboost) (3.0.9)\n",
            "Requirement already satisfied: pillow>=6.2.0 in /usr/local/lib/python3.8/dist-packages (from matplotlib->catboost) (8.4.0)\n",
            "Requirement already satisfied: fonttools>=4.22.0 in /usr/local/lib/python3.8/dist-packages (from matplotlib->catboost) (4.38.0)\n",
            "Requirement already satisfied: tenacity>=6.2.0 in /usr/local/lib/python3.8/dist-packages (from plotly->catboost) (8.2.1)\n",
            "Installing collected packages: catboost\n",
            "Successfully installed catboost-1.1.1\n",
            "Looking in indexes: https://pypi.org/simple, https://us-python.pkg.dev/colab-wheels/public/simple/\n",
            "Requirement already satisfied: lightgbm in /usr/local/lib/python3.8/dist-packages (2.2.3)\n",
            "Requirement already satisfied: scipy in /usr/local/lib/python3.8/dist-packages (from lightgbm) (1.7.3)\n",
            "Requirement already satisfied: numpy in /usr/local/lib/python3.8/dist-packages (from lightgbm) (1.22.4)\n",
            "Requirement already satisfied: scikit-learn in /usr/local/lib/python3.8/dist-packages (from lightgbm) (1.0.2)\n",
            "Requirement already satisfied: joblib>=0.11 in /usr/local/lib/python3.8/dist-packages (from scikit-learn->lightgbm) (1.2.0)\n",
            "Requirement already satisfied: threadpoolctl>=2.0.0 in /usr/local/lib/python3.8/dist-packages (from scikit-learn->lightgbm) (3.1.0)\n",
            "Looking in indexes: https://pypi.org/simple, https://us-python.pkg.dev/colab-wheels/public/simple/\n",
            "Collecting optuna\n",
            "  Downloading optuna-3.1.0-py3-none-any.whl (365 kB)\n",
            "\u001b[2K     \u001b[90m━━━━━━━━━━━━━━━━━━━━━━━━━━━━━━━━━━━━━━━\u001b[0m \u001b[32m365.3/365.3 KB\u001b[0m \u001b[31m1.2 MB/s\u001b[0m eta \u001b[36m0:00:00\u001b[0m\n",
            "\u001b[?25hRequirement already satisfied: tqdm in /usr/local/lib/python3.8/dist-packages (from optuna) (4.64.1)\n",
            "Collecting colorlog\n",
            "  Downloading colorlog-6.7.0-py2.py3-none-any.whl (11 kB)\n",
            "Requirement already satisfied: packaging>=20.0 in /usr/local/lib/python3.8/dist-packages (from optuna) (23.0)\n",
            "Requirement already satisfied: numpy in /usr/local/lib/python3.8/dist-packages (from optuna) (1.22.4)\n",
            "Requirement already satisfied: sqlalchemy>=1.3.0 in /usr/local/lib/python3.8/dist-packages (from optuna) (1.4.46)\n",
            "Collecting cmaes>=0.9.1\n",
            "  Downloading cmaes-0.9.1-py3-none-any.whl (21 kB)\n",
            "Collecting alembic>=1.5.0\n",
            "  Downloading alembic-1.9.4-py3-none-any.whl (210 kB)\n",
            "\u001b[2K     \u001b[90m━━━━━━━━━━━━━━━━━━━━━━━━━━━━━━━━━━━━━━\u001b[0m \u001b[32m210.5/210.5 KB\u001b[0m \u001b[31m28.4 MB/s\u001b[0m eta \u001b[36m0:00:00\u001b[0m\n",
            "\u001b[?25hRequirement already satisfied: PyYAML in /usr/local/lib/python3.8/dist-packages (from optuna) (6.0)\n",
            "Collecting Mako\n",
            "  Downloading Mako-1.2.4-py3-none-any.whl (78 kB)\n",
            "\u001b[2K     \u001b[90m━━━━━━━━━━━━━━━━━━━━━━━━━━━━━━━━━━━━━━━━\u001b[0m \u001b[32m78.7/78.7 KB\u001b[0m \u001b[31m11.9 MB/s\u001b[0m eta \u001b[36m0:00:00\u001b[0m\n",
            "\u001b[?25hRequirement already satisfied: importlib-resources in /usr/local/lib/python3.8/dist-packages (from alembic>=1.5.0->optuna) (5.12.0)\n",
            "Requirement already satisfied: importlib-metadata in /usr/local/lib/python3.8/dist-packages (from alembic>=1.5.0->optuna) (6.0.0)\n",
            "Requirement already satisfied: greenlet!=0.4.17 in /usr/local/lib/python3.8/dist-packages (from sqlalchemy>=1.3.0->optuna) (2.0.2)\n",
            "Requirement already satisfied: zipp>=0.5 in /usr/local/lib/python3.8/dist-packages (from importlib-metadata->alembic>=1.5.0->optuna) (3.15.0)\n",
            "Requirement already satisfied: MarkupSafe>=0.9.2 in /usr/local/lib/python3.8/dist-packages (from Mako->alembic>=1.5.0->optuna) (2.1.2)\n",
            "Installing collected packages: Mako, colorlog, cmaes, alembic, optuna\n",
            "Successfully installed Mako-1.2.4 alembic-1.9.4 cmaes-0.9.1 colorlog-6.7.0 optuna-3.1.0\n"
          ]
        }
      ],
      "source": [
        "!pip install catboost\n",
        "!pip install lightgbm\n",
        "!pip install optuna "
      ]
    },
    {
      "cell_type": "code",
      "execution_count": null,
      "id": "94682a80",
      "metadata": {
        "colab": {
          "base_uri": "https://localhost:8080/"
        },
        "id": "94682a80",
        "outputId": "f94d142b-771a-42df-d745-1dd16b924160"
      },
      "outputs": [
        {
          "output_type": "stream",
          "name": "stdout",
          "text": [
            "Drive already mounted at /content/drive; to attempt to forcibly remount, call drive.mount(\"/content/drive\", force_remount=True).\n"
          ]
        }
      ],
      "source": [
        "import pandas as pd\n",
        "import random\n",
        "import os\n",
        "import numpy as np\n",
        "import matplotlib.pyplot as plt   \n",
        "import seaborn as sns \n",
        "\n",
        "import sklearn\n",
        "from sklearn import preprocessing, metrics\n",
        "from sklearn.preprocessing import LabelEncoder\n",
        "from sklearn.preprocessing import OneHotEncoder\n",
        "from sklearn.model_selection import train_test_split\n",
        "from sklearn.metrics import f1_score\n",
        "from sklearn.metrics import accuracy_score, classification_report, f1_score, roc_auc_score, log_loss\n",
        "from sklearn.model_selection import KFold, cross_validate\n",
        "\n",
        "\n",
        "import tensorflow as tf\n",
        "from tensorflow.keras import regularizers\n",
        "from keras.models import Sequential\n",
        "from keras.layers import Dense,Dropout, Activation\n",
        "\n",
        "from sklearn.metrics import f1_score\n",
        "from sklearn.preprocessing import StandardScaler\n",
        "from sklearn.preprocessing import MinMaxScaler\n",
        "\n",
        "from catboost import CatBoostClassifier\n",
        "\n",
        "import optuna\n",
        "from optuna.samplers import TPESampler\n",
        "from optuna import Trial\n",
        "\n",
        "from sklearn.metrics import f1_score\n",
        "from lightgbm import LGBMClassifier\n",
        "from catboost import CatBoostClassifier\n",
        "from sklearn.ensemble import BaggingClassifier, GradientBoostingClassifier, RandomForestClassifier\n",
        "from sklearn.tree import DecisionTreeClassifier\n",
        "from sklearn.linear_model import RidgeClassifierCV\n",
        "from xgboost import XGBClassifier\n",
        "\n",
        "# sequential model modeling \n",
        "import tensorflow as tf\n",
        "from tensorflow import keras \n",
        "from keras import backend as K \n",
        "from keras import regularizers\n",
        "from keras.models import Sequential\n",
        "from keras.layers import Dense,Dropout, Activation, BatchNormalization, Conv2D, Flatten  \n",
        "from keras import optimizers, metrics, callbacks\n",
        "from tensorflow.keras.backend import clear_session\n",
        "\n",
        "import optuna\n",
        "from optuna.visualization import plot_optimization_history\n",
        "from optuna.visualization import plot_param_importances\n",
        "from optuna.visualization import plot_parallel_coordinate\n",
        "from optuna.visualization import plot_contour\n",
        "\n",
        "def seed_everything(seed):\n",
        "    random.seed(seed)\n",
        "    os.environ['PYTHONHASHSEED'] = str(seed)\n",
        "    np.random.seed(seed)\n",
        "seed_everything(37) # Seed 고정\n",
        "seed_num=37\n",
        "\n",
        "from google.colab import drive # GoogleDrive mount\n",
        "drive.mount('/content/drive')\n"
      ]
    },
    {
      "cell_type": "markdown",
      "id": "wqkW_3EbQxj1",
      "metadata": {
        "id": "wqkW_3EbQxj1"
      },
      "source": [
        "# 1.preprocessing\n",
        "1. Label Encoding: categorical values `LINE`, `PRODUCT_CODE`\n",
        "2. Missing values: fillna(0) \n",
        "3. scaling: StandardScaler"
      ]
    },
    {
      "cell_type": "code",
      "source": [
        "train_df = pd.read_csv('/content/drive/MyDrive/train.csv')\n",
        "test_df = pd.read_csv('/content/drive/MyDrive/test.csv')\n",
        "submit = pd.read_csv('/content/drive/MyDrive/sample_submission.csv')\n",
        "\n",
        "train_x = train_df.drop(columns=['PRODUCT_ID', 'TIMESTAMP', 'Y_Class','Y_Quality'])\n",
        "train_y = train_df['Y_Class']\n",
        "test_x = test_df.drop(columns=['PRODUCT_ID', 'TIMESTAMP'])   "
      ],
      "metadata": {
        "id": "kZ1PM_Zrtzph"
      },
      "id": "kZ1PM_Zrtzph",
      "execution_count": null,
      "outputs": []
    },
    {
      "cell_type": "code",
      "source": [
        "# 1) qualitative to quantitative\n",
        "qual_col = ['LINE', 'PRODUCT_CODE']\n",
        "for i in qual_col:\n",
        "    le = LabelEncoder()    # one-hot encoding (X): get_dummies(test_df) is not allowed (data leakage)   \n",
        "    le = le.fit(train_x[i])\n",
        "    train_x[i] = le.transform(train_x[i])\n",
        "    for label in np.unique(test_x[i]): \n",
        "        if label not in le.classes_: \n",
        "            le.classes_ = np.append(le.classes_, label)\n",
        "    test_x[i] = le.transform(test_x[i]) \n"
      ],
      "metadata": {
        "id": "3AbGp2rBuxuW"
      },
      "id": "3AbGp2rBuxuW",
      "execution_count": null,
      "outputs": []
    },
    {
      "cell_type": "code",
      "source": [
        "# 2) Missing Values \n",
        "train_x = train_x.fillna(0)\n",
        "test_x = test_x.fillna(0)\n"
      ],
      "metadata": {
        "id": "GZ72F04guy3o"
      },
      "id": "GZ72F04guy3o",
      "execution_count": null,
      "outputs": []
    },
    {
      "cell_type": "code",
      "execution_count": null,
      "metadata": {
        "id": "c66d3bf4"
      },
      "outputs": [],
      "source": [
        "# 3) MinMaxscaling: only `X_???` values (continuous)\n",
        "from sklearn.preprocessing import StandardScaler\n",
        "Xs = train_x.select_dtypes(include=float).iloc[:,1:].columns.tolist()\n",
        "scaler = MinMaxScaler().fit(train_x.loc[:, Xs])\n",
        "train_x.loc[:, Xs] = scaler.transform(train_x.loc[:, Xs])\n",
        "test_x.loc[:, Xs] = scaler.transform(test_x.loc[:, Xs])\n",
        "\n",
        "X_train, X_test, y_train, y_test=train_test_split(train_x,train_y,\n",
        "                                                  test_size=0.3,random_state=seed_num)"
      ],
      "id": "c66d3bf4"
    },
    {
      "cell_type": "code",
      "source": [
        "# histogram imbalance distribution --> MinMaxscaling \n"
      ],
      "metadata": {
        "id": "iA9G_a4s4yFG"
      },
      "id": "iA9G_a4s4yFG",
      "execution_count": null,
      "outputs": []
    },
    {
      "cell_type": "markdown",
      "source": [
        "## 1.1 EDA"
      ],
      "metadata": {
        "id": "ZK3O2Kd24yP_"
      },
      "id": "ZK3O2Kd24yP_"
    },
    {
      "cell_type": "code",
      "source": [
        "# random 20 features list (모두 NaN인 컬럼 제외하고, 랜덤 20개 feature의 상관관계 히트맵)\n",
        "Xs = train_df.iloc[:,4:].columns\n",
        "null_count = train_df.isnull().sum().to_dict()\n",
        "cols = pd.DataFrame({i for i in null_count if null_count[i]<250 and i in Xs})\n",
        "cols_name = list(cols[0])  # not_all_NAN features name in list \n",
        "\n",
        "import random\n",
        "a = ['Y_Quality']\n",
        "for i in range(20):\n",
        "    num = random.randint(1,2875)\n",
        "    a.append(cols_name[i])\n",
        "\n",
        "# heatmap: `random X features` and `Y_Quality` correlation \n",
        "corr = train_df[a].corr()  # correlation matrix\n",
        "fig, ax = plt.subplots(figsize=(15,10))\n",
        "sns.heatmap(corr, annot=True, fmt='.2f', cmap='Blues', linewidths=2);"
      ],
      "metadata": {
        "id": "E1vfXTKcK9Dt",
        "colab": {
          "base_uri": "https://localhost:8080/",
          "height": 632
        },
        "outputId": "d99bd6fa-de72-4da8-fffd-07bb2c85a44b"
      },
      "execution_count": null,
      "outputs": [
        {
          "output_type": "display_data",
          "data": {
            "text/plain": [
              "<Figure size 1080x720 with 2 Axes>"
            ],
            "image/png": "[encoded data removed]"
          },
          "metadata": {
            "needs_background": "light"
          }
        }
      ],
      "id": "E1vfXTKcK9Dt"
    },
    {
      "cell_type": "code",
      "source": [
        "# feature 중요도 \n",
        "import matplotlib.pyplot as plt \n",
        "import seaborn as sns\n",
        "from sklearn.ensemble import RandomForestRegressor\n",
        "\n",
        "%matplotlib inline\n",
        "rf_run = RandomForestRegressor(random_state=0, max_depth=5, min_samples_leaf=8, min_samples_split=8,n_estimators=200)\n",
        "rf_run.fit(X_train, y_train)  \n",
        "ftr_importances_values = rf_run.feature_importances_\n",
        "ftr_importances = pd.Series(ftr_importances_values, index=X_train.columns)\n",
        "ftr_top = ftr_importances.sort_values(ascending=False)[:20]\n",
        " \n",
        "plt.figure(figsize=(10, 10))\n",
        "sns.barplot(x=ftr_top, y=ftr_top.index)\n",
        "plt.show()"
      ],
      "metadata": {
        "colab": {
          "base_uri": "https://localhost:8080/",
          "height": 592
        },
        "id": "lLsOtCgTSvRA",
        "outputId": "3b53834f-4af7-49cf-da2c-f5003f63c8b8"
      },
      "execution_count": null,
      "outputs": [
        {
          "output_type": "display_data",
          "data": {
            "text/plain": [
              "<Figure size 720x720 with 1 Axes>"
            ],
            "image/png": "[encoded data removed]"
          },
          "metadata": {
            "needs_background": "light"
          }
        }
      ],
      "id": "lLsOtCgTSvRA"
    },
    {
      "cell_type": "code",
      "source": [
        "x=train_x.loc[:,['X_1834','X_1945','X_256','X_248','X_258','X_373','X_131','X_2841']]\n",
        "y=train_y\n",
        "from sklearn.model_selection import train_test_split\n",
        "X_train, X_test, y_train, y_test = train_test_split(x, y, test_size=0.3)\n",
        "from sklearn.tree import DecisionTreeClassifier\n",
        "import sklearn.model_selection as ms\n",
        "\n",
        "model = GradientBoostingClassifier(random_state=37).fit(X_train, y_train)\n",
        "print('Done.')\n",
        "y_pred = model.predict(X_test)\n",
        "# test_x = test_x.drop(columns=['LINE', 'PRODUCT_CODE'])\n",
        "\n",
        "test_x=test_x.loc[:,['X_1834','X_1945','X_256','X_248','X_258','X_373','X_131','X_2841']]\n",
        "preds = model.predict(test_x)\n",
        "sns.countplot(x=preds); \n",
        "# preds.value_counts()"
      ],
      "metadata": {
        "colab": {
          "base_uri": "https://localhost:8080/",
          "height": 282
        },
        "id": "cAqWZJ7NSva4",
        "outputId": "7d690f08-13de-4aae-839b-83ef7a8a413c"
      },
      "execution_count": null,
      "outputs": [
        {
          "output_type": "stream",
          "name": "stdout",
          "text": [
            "Done.\n"
          ]
        },
        {
          "output_type": "display_data",
          "data": {
            "text/plain": [
              "<Figure size 432x288 with 1 Axes>"
            ],
            "image/png": "[encoded data removed]"
          },
          "metadata": {
            "needs_background": "light"
          }
        }
      ],
      "id": "cAqWZJ7NSva4"
    },
    {
      "cell_type": "code",
      "source": [
        "train_x.describe()"
      ],
      "metadata": {
        "id": "GdugZkQrSvJS",
        "colab": {
          "base_uri": "https://localhost:8080/",
          "height": 330
        },
        "outputId": "80ae912f-9494-47ef-bcbf-e4914cbcc95a"
      },
      "execution_count": null,
      "outputs": [
        {
          "output_type": "execute_result",
          "data": {
            "text/plain": [
              "             LINE  PRODUCT_CODE         X_1         X_2    X_3         X_4  \\\n",
              "count  598.000000    598.000000  598.000000  598.000000  598.0  598.000000   \n",
              "mean     3.214047      1.157191    1.406355    0.544265    0.0    0.583612   \n",
              "std      1.703579      0.983298    4.655332    0.461135    0.0    0.493372   \n",
              "min      0.000000      0.000000    0.000000    0.000000    0.0    0.000000   \n",
              "25%      2.000000      0.000000    0.000000    0.000000    0.0    0.000000   \n",
              "50%      4.000000      2.000000    2.000000    0.892157    0.0    1.000000   \n",
              "75%      5.000000      2.000000    2.000000    0.931373    0.0    1.000000   \n",
              "max      5.000000      2.000000  103.000000    1.000000    0.0    1.000000   \n",
              "\n",
              "              X_5    X_6         X_7         X_8  ...      X_2866      X_2867  \\\n",
              "count  598.000000  598.0  598.000000  598.000000  ...  598.000000  598.000000   \n",
              "mean     0.551383    0.0    0.459381    0.533141  ...    0.141039    0.130564   \n",
              "std      0.467361    0.0    0.392067    0.450953  ...    0.318552    0.295577   \n",
              "min      0.000000    0.0    0.000000    0.000000  ...    0.000000    0.000000   \n",
              "25%      0.000000    0.0    0.000000    0.000000  ...    0.000000    0.000000   \n",
              "50%      0.909091    0.0    0.725806    0.909091  ...    0.000000    0.000000   \n",
              "75%      0.909091    0.0    0.806452    0.909091  ...    0.000000    0.000000   \n",
              "max      1.000000    0.0    1.000000    1.000000  ...    1.000000    1.000000   \n",
              "\n",
              "           X_2868      X_2869      X_2870      X_2871  X_2872  X_2873  X_2874  \\\n",
              "count  598.000000  598.000000  598.000000  598.000000   598.0   598.0   598.0   \n",
              "mean     0.137318    0.144148    0.139755    0.165552     0.0     0.0     0.0   \n",
              "std      0.310467    0.327595    0.312991    0.371989     0.0     0.0     0.0   \n",
              "min      0.000000    0.000000    0.000000    0.000000     0.0     0.0     0.0   \n",
              "25%      0.000000    0.000000    0.000000    0.000000     0.0     0.0     0.0   \n",
              "50%      0.000000    0.000000    0.000000    0.000000     0.0     0.0     0.0   \n",
              "75%      0.000000    0.000000    0.000000    0.000000     0.0     0.0     0.0   \n",
              "max      1.000000    1.000000    1.000000    1.000000     0.0     0.0     0.0   \n",
              "\n",
              "       X_2875  \n",
              "count   598.0  \n",
              "mean      0.0  \n",
              "std       0.0  \n",
              "min       0.0  \n",
              "25%       0.0  \n",
              "50%       0.0  \n",
              "75%       0.0  \n",
              "max       0.0  \n",
              "\n",
              "[8 rows x 2877 columns]"
            ],
            "text/html": [
              "\n",
              "  <div id=\"df-c6b46a05-9205-489c-86bc-021409db7a8b\">\n",
              "    <div class=\"colab-df-container\">\n",
              "      <div>\n",
              "<style scoped>\n",
              "    .dataframe tbody tr th:only-of-type {\n",
              "        vertical-align: middle;\n",
              "    }\n",
              "\n",
              "    .dataframe tbody tr th {\n",
              "        vertical-align: top;\n",
              "    }\n",
              "\n",
              "    .dataframe thead th {\n",
              "        text-align: right;\n",
              "    }\n",
              "</style>\n",
              "<table border=\"1\" class=\"dataframe\">\n",
              "  <thead>\n",
              "    <tr style=\"text-align: right;\">\n",
              "      <th></th>\n",
              "      <th>LINE</th>\n",
              "      <th>PRODUCT_CODE</th>\n",
              "      <th>X_1</th>\n",
              "      <th>X_2</th>\n",
              "      <th>X_3</th>\n",
              "      <th>X_4</th>\n",
              "      <th>X_5</th>\n",
              "      <th>X_6</th>\n",
              "      <th>X_7</th>\n",
              "      <th>X_8</th>\n",
              "      <th>...</th>\n",
              "      <th>X_2866</th>\n",
              "      <th>X_2867</th>\n",
              "      <th>X_2868</th>\n",
              "      <th>X_2869</th>\n",
              "      <th>X_2870</th>\n",
              "      <th>X_2871</th>\n",
              "      <th>X_2872</th>\n",
              "      <th>X_2873</th>\n",
              "      <th>X_2874</th>\n",
              "      <th>X_2875</th>\n",
              "    </tr>\n",
              "  </thead>\n",
              "  <tbody>\n",
              "    <tr>\n",
              "      <th>count</th>\n",
              "      <td>598.000000</td>\n",
              "      <td>598.000000</td>\n",
              "      <td>598.000000</td>\n",
              "      <td>598.000000</td>\n",
              "      <td>598.0</td>\n",
              "      <td>598.000000</td>\n",
              "      <td>598.000000</td>\n",
              "      <td>598.0</td>\n",
              "      <td>598.000000</td>\n",
              "      <td>598.000000</td>\n",
              "      <td>...</td>\n",
              "      <td>598.000000</td>\n",
              "      <td>598.000000</td>\n",
              "      <td>598.000000</td>\n",
              "      <td>598.000000</td>\n",
              "      <td>598.000000</td>\n",
              "      <td>598.000000</td>\n",
              "      <td>598.0</td>\n",
              "      <td>598.0</td>\n",
              "      <td>598.0</td>\n",
              "      <td>598.0</td>\n",
              "    </tr>\n",
              "    <tr>\n",
              "      <th>mean</th>\n",
              "      <td>3.214047</td>\n",
              "      <td>1.157191</td>\n",
              "      <td>1.406355</td>\n",
              "      <td>0.544265</td>\n",
              "      <td>0.0</td>\n",
              "      <td>0.583612</td>\n",
              "      <td>0.551383</td>\n",
              "      <td>0.0</td>\n",
              "      <td>0.459381</td>\n",
              "      <td>0.533141</td>\n",
              "      <td>...</td>\n",
              "      <td>0.141039</td>\n",
              "      <td>0.130564</td>\n",
              "      <td>0.137318</td>\n",
              "      <td>0.144148</td>\n",
              "      <td>0.139755</td>\n",
              "      <td>0.165552</td>\n",
              "      <td>0.0</td>\n",
              "      <td>0.0</td>\n",
              "      <td>0.0</td>\n",
              "      <td>0.0</td>\n",
              "    </tr>\n",
              "    <tr>\n",
              "      <th>std</th>\n",
              "      <td>1.703579</td>\n",
              "      <td>0.983298</td>\n",
              "      <td>4.655332</td>\n",
              "      <td>0.461135</td>\n",
              "      <td>0.0</td>\n",
              "      <td>0.493372</td>\n",
              "      <td>0.467361</td>\n",
              "      <td>0.0</td>\n",
              "      <td>0.392067</td>\n",
              "      <td>0.450953</td>\n",
              "      <td>...</td>\n",
              "      <td>0.318552</td>\n",
              "      <td>0.295577</td>\n",
              "      <td>0.310467</td>\n",
              "      <td>0.327595</td>\n",
              "      <td>0.312991</td>\n",
              "      <td>0.371989</td>\n",
              "      <td>0.0</td>\n",
              "      <td>0.0</td>\n",
              "      <td>0.0</td>\n",
              "      <td>0.0</td>\n",
              "    </tr>\n",
              "    <tr>\n",
              "      <th>min</th>\n",
              "      <td>0.000000</td>\n",
              "      <td>0.000000</td>\n",
              "      <td>0.000000</td>\n",
              "      <td>0.000000</td>\n",
              "      <td>0.0</td>\n",
              "      <td>0.000000</td>\n",
              "      <td>0.000000</td>\n",
              "      <td>0.0</td>\n",
              "      <td>0.000000</td>\n",
              "      <td>0.000000</td>\n",
              "      <td>...</td>\n",
              "      <td>0.000000</td>\n",
              "      <td>0.000000</td>\n",
              "      <td>0.000000</td>\n",
              "      <td>0.000000</td>\n",
              "      <td>0.000000</td>\n",
              "      <td>0.000000</td>\n",
              "      <td>0.0</td>\n",
              "      <td>0.0</td>\n",
              "      <td>0.0</td>\n",
              "      <td>0.0</td>\n",
              "    </tr>\n",
              "    <tr>\n",
              "      <th>25%</th>\n",
              "      <td>2.000000</td>\n",
              "      <td>0.000000</td>\n",
              "      <td>0.000000</td>\n",
              "      <td>0.000000</td>\n",
              "      <td>0.0</td>\n",
              "      <td>0.000000</td>\n",
              "      <td>0.000000</td>\n",
              "      <td>0.0</td>\n",
              "      <td>0.000000</td>\n",
              "      <td>0.000000</td>\n",
              "      <td>...</td>\n",
              "      <td>0.000000</td>\n",
              "      <td>0.000000</td>\n",
              "      <td>0.000000</td>\n",
              "      <td>0.000000</td>\n",
              "      <td>0.000000</td>\n",
              "      <td>0.000000</td>\n",
              "      <td>0.0</td>\n",
              "      <td>0.0</td>\n",
              "      <td>0.0</td>\n",
              "      <td>0.0</td>\n",
              "    </tr>\n",
              "    <tr>\n",
              "      <th>50%</th>\n",
              "      <td>4.000000</td>\n",
              "      <td>2.000000</td>\n",
              "      <td>2.000000</td>\n",
              "      <td>0.892157</td>\n",
              "      <td>0.0</td>\n",
              "      <td>1.000000</td>\n",
              "      <td>0.909091</td>\n",
              "      <td>0.0</td>\n",
              "      <td>0.725806</td>\n",
              "      <td>0.909091</td>\n",
              "      <td>...</td>\n",
              "      <td>0.000000</td>\n",
              "      <td>0.000000</td>\n",
              "      <td>0.000000</td>\n",
              "      <td>0.000000</td>\n",
              "      <td>0.000000</td>\n",
              "      <td>0.000000</td>\n",
              "      <td>0.0</td>\n",
              "      <td>0.0</td>\n",
              "      <td>0.0</td>\n",
              "      <td>0.0</td>\n",
              "    </tr>\n",
              "    <tr>\n",
              "      <th>75%</th>\n",
              "      <td>5.000000</td>\n",
              "      <td>2.000000</td>\n",
              "      <td>2.000000</td>\n",
              "      <td>0.931373</td>\n",
              "      <td>0.0</td>\n",
              "      <td>1.000000</td>\n",
              "      <td>0.909091</td>\n",
              "      <td>0.0</td>\n",
              "      <td>0.806452</td>\n",
              "      <td>0.909091</td>\n",
              "      <td>...</td>\n",
              "      <td>0.000000</td>\n",
              "      <td>0.000000</td>\n",
              "      <td>0.000000</td>\n",
              "      <td>0.000000</td>\n",
              "      <td>0.000000</td>\n",
              "      <td>0.000000</td>\n",
              "      <td>0.0</td>\n",
              "      <td>0.0</td>\n",
              "      <td>0.0</td>\n",
              "      <td>0.0</td>\n",
              "    </tr>\n",
              "    <tr>\n",
              "      <th>max</th>\n",
              "      <td>5.000000</td>\n",
              "      <td>2.000000</td>\n",
              "      <td>103.000000</td>\n",
              "      <td>1.000000</td>\n",
              "      <td>0.0</td>\n",
              "      <td>1.000000</td>\n",
              "      <td>1.000000</td>\n",
              "      <td>0.0</td>\n",
              "      <td>1.000000</td>\n",
              "      <td>1.000000</td>\n",
              "      <td>...</td>\n",
              "      <td>1.000000</td>\n",
              "      <td>1.000000</td>\n",
              "      <td>1.000000</td>\n",
              "      <td>1.000000</td>\n",
              "      <td>1.000000</td>\n",
              "      <td>1.000000</td>\n",
              "      <td>0.0</td>\n",
              "      <td>0.0</td>\n",
              "      <td>0.0</td>\n",
              "      <td>0.0</td>\n",
              "    </tr>\n",
              "  </tbody>\n",
              "</table>\n",
              "<p>8 rows × 2877 columns</p>\n",
              "</div>\n",
              "      <button class=\"colab-df-convert\" onclick=\"convertToInteractive('df-c6b46a05-9205-489c-86bc-021409db7a8b')\"\n",
              "              title=\"Convert this dataframe to an interactive table.\"\n",
              "              style=\"display:none;\">\n",
              "        \n",
              "  <svg xmlns=\"http://www.w3.org/2000/svg\" height=\"24px\"viewBox=\"0 0 24 24\"\n",
              "       width=\"24px\">\n",
              "    <path d=\"M0 0h24v24H0V0z\" fill=\"none\"/>\n",
              "    <path d=\"M18.56 5.44l.94 2.06.94-2.06 2.06-.94-2.06-.94-.94-2.06-.94 2.06-2.06.94zm-11 1L8.5 8.5l.94-2.06 2.06-.94-2.06-.94L8.5 2.5l-.94 2.06-2.06.94zm10 10l.94 2.06.94-2.06 2.06-.94-2.06-.94-.94-2.06-.94 2.06-2.06.94z\"/><path d=\"M17.41 7.96l-1.37-1.37c-.4-.4-.92-.59-1.43-.59-.52 0-1.04.2-1.43.59L10.3 9.45l-7.72 7.72c-.78.78-.78 2.05 0 2.83L4 21.41c.39.39.9.59 1.41.59.51 0 1.02-.2 1.41-.59l7.78-7.78 2.81-2.81c.8-.78.8-2.07 0-2.86zM5.41 20L4 18.59l7.72-7.72 1.47 1.35L5.41 20z\"/>\n",
              "  </svg>\n",
              "      </button>\n",
              "      \n",
              "  <style>\n",
              "    .colab-df-container {\n",
              "      display:flex;\n",
              "      flex-wrap:wrap;\n",
              "      gap: 12px;\n",
              "    }\n",
              "\n",
              "    .colab-df-convert {\n",
              "      background-color: #E8F0FE;\n",
              "      border: none;\n",
              "      border-radius: 50%;\n",
              "      cursor: pointer;\n",
              "      display: none;\n",
              "      fill: #1967D2;\n",
              "      height: 32px;\n",
              "      padding: 0 0 0 0;\n",
              "      width: 32px;\n",
              "    }\n",
              "\n",
              "    .colab-df-convert:hover {\n",
              "      background-color: #E2EBFA;\n",
              "      box-shadow: 0px 1px 2px rgba(60, 64, 67, 0.3), 0px 1px 3px 1px rgba(60, 64, 67, 0.15);\n",
              "      fill: #174EA6;\n",
              "    }\n",
              "\n",
              "    [theme=dark] .colab-df-convert {\n",
              "      background-color: #3B4455;\n",
              "      fill: #D2E3FC;\n",
              "    }\n",
              "\n",
              "    [theme=dark] .colab-df-convert:hover {\n",
              "      background-color: #434B5C;\n",
              "      box-shadow: 0px 1px 3px 1px rgba(0, 0, 0, 0.15);\n",
              "      filter: drop-shadow(0px 1px 2px rgba(0, 0, 0, 0.3));\n",
              "      fill: #FFFFFF;\n",
              "    }\n",
              "  </style>\n",
              "\n",
              "      <script>\n",
              "        const buttonEl =\n",
              "          document.querySelector('#df-c6b46a05-9205-489c-86bc-021409db7a8b button.colab-df-convert');\n",
              "        buttonEl.style.display =\n",
              "          google.colab.kernel.accessAllowed ? 'block' : 'none';\n",
              "\n",
              "        async function convertToInteractive(key) {\n",
              "          const element = document.querySelector('#df-c6b46a05-9205-489c-86bc-021409db7a8b');\n",
              "          const dataTable =\n",
              "            await google.colab.kernel.invokeFunction('convertToInteractive',\n",
              "                                                     [key], {});\n",
              "          if (!dataTable) return;\n",
              "\n",
              "          const docLinkHtml = 'Like what you see? Visit the ' +\n",
              "            '<a target=\"_blank\" href=https://colab.research.google.com/notebooks/data_table.ipynb>data table notebook</a>'\n",
              "            + ' to learn more about interactive tables.';\n",
              "          element.innerHTML = '';\n",
              "          dataTable['output_type'] = 'display_data';\n",
              "          await google.colab.output.renderOutput(dataTable, element);\n",
              "          const docLink = document.createElement('div');\n",
              "          docLink.innerHTML = docLinkHtml;\n",
              "          element.appendChild(docLink);\n",
              "        }\n",
              "      </script>\n",
              "    </div>\n",
              "  </div>\n",
              "  "
            ]
          },
          "metadata": {},
          "execution_count": 44
        }
      ],
      "id": "GdugZkQrSvJS"
    },
    {
      "cell_type": "code",
      "source": [],
      "metadata": {
        "id": "xskVkfufSvDg"
      },
      "execution_count": null,
      "outputs": [],
      "id": "xskVkfufSvDg"
    },
    {
      "cell_type": "code",
      "source": [],
      "metadata": {
        "id": "xuPOUxQ7Su9m"
      },
      "execution_count": null,
      "outputs": [],
      "id": "xuPOUxQ7Su9m"
    },
    {
      "cell_type": "markdown",
      "source": [
        "# 2.Modeling"
      ],
      "metadata": {
        "id": "hIoaatyGu9Zq"
      },
      "id": "hIoaatyGu9Zq"
    },
    {
      "cell_type": "markdown",
      "source": [
        "## 2.1 ML models"
      ],
      "metadata": {
        "id": "GQGMvepMJy87"
      },
      "id": "GQGMvepMJy87"
    },
    {
      "cell_type": "code",
      "source": [
        "from catboost import CatBoostClassifier\n",
        "from sklearn.ensemble import GradientBoostingClassifier\n",
        "from sklearn.ensemble import StackingClassifier\n",
        "from sklearn.linear_model import LogisticRegression\n",
        "from sklearn.ensemble import RandomForestClassifier\n",
        "\n",
        "models = [\n",
        "    RandomForestClassifier(random_state=seed_num), \n",
        "    GradientBoostingClassifier(random_state=seed_num),   # GBC: no tuning is the best \n",
        "    XGBClassifier(random_state=seed_num),\n",
        "    LGBMClassifier(objective='multiclass', random_state=seed_num),\n",
        "    CatBoostClassifier(objective='MultiClass',\n",
        "                                   task_type='GPU',\n",
        "                                   one_hot_max_size=2, random_seed=seed_num,\n",
        "                                   iterations=4000, verbose=False,\n",
        "                                   learning_rate=0.05\n",
        "                                   ),\n",
        "    RidgeClassifierCV(),  # RidgeClassifier: no seed setting argument  \n",
        "    BaggingClassifier(random_state=seed_num)]\n",
        "\n",
        "models"
      ],
      "metadata": {
        "colab": {
          "base_uri": "https://localhost:8080/"
        },
        "id": "m61QOAHA8lvG",
        "outputId": "063acd63-405d-4512-e524-3a36fc2a594e"
      },
      "execution_count": null,
      "outputs": [
        {
          "output_type": "execute_result",
          "data": {
            "text/plain": [
              "[RandomForestClassifier(random_state=37),\n",
              " GradientBoostingClassifier(random_state=37),\n",
              " XGBClassifier(base_score=None, booster=None, callbacks=None,\n",
              "               colsample_bylevel=None, colsample_bynode=None,\n",
              "               colsample_bytree=None, early_stopping_rounds=None,\n",
              "               enable_categorical=False, eval_metric=None, feature_types=None,\n",
              "               gamma=None, gpu_id=None, grow_policy=None, importance_type=None,\n",
              "               interaction_constraints=None, learning_rate=None, max_bin=None,\n",
              "               max_cat_threshold=None, max_cat_to_onehot=None,\n",
              "               max_delta_step=None, max_depth=None, max_leaves=None,\n",
              "               min_child_weight=None, missing=nan, monotone_constraints=None,\n",
              "               n_estimators=100, n_jobs=None, num_parallel_tree=None,\n",
              "               predictor=None, random_state=37, ...),\n",
              " LGBMClassifier(objective='multiclass', random_state=37),\n",
              " <catboost.core.CatBoostClassifier at 0x7f2cce12d3d0>,\n",
              " RidgeClassifierCV(alphas=array([ 0.1,  1. , 10. ])),\n",
              " BaggingClassifier(random_state=37)]"
            ]
          },
          "metadata": {},
          "execution_count": 13
        }
      ],
      "id": "m61QOAHA8lvG"
    },
    {
      "cell_type": "code",
      "source": [
        "# find weights for each model \n",
        "model_list = ['RF', 'GBC', 'XGB', 'LGBM', 'Catboost', 'Ridge', 'Bagging']\n",
        "i=0\n",
        "\n",
        "for model in models: \n",
        "        \n",
        "    if i == 4: \n",
        "        preds = model.fit(X_train, y_train).predict(X_test)\n",
        "        preds = preds.reshape(1,180)\n",
        "        preds = list(preds[0])\n",
        "    else: \n",
        "        preds = model.fit(X_train, y_train).predict(X_test)\n",
        "\n",
        "    globals()[f'preds_{model_list[i]}'] = preds   # set variable name for each model prediction results  \n",
        "  \n",
        "    score = sklearn.metrics.accuracy_score(y_test, preds)\n",
        "    i += 1\n",
        "    print(f'{model} accuracy: \\n', score)\n",
        "#   print(model,  globals()[f'preds_{model_list[i]}'])   shell script???????? .sh     \n"
      ],
      "metadata": {
        "colab": {
          "base_uri": "https://localhost:8080/"
        },
        "outputId": "88ebd909-28fd-466d-ac3a-4ded53fe2207",
        "id": "qfV3aJaS8lvI"
      },
      "execution_count": null,
      "outputs": [
        {
          "output_type": "stream",
          "name": "stdout",
          "text": [
            "RandomForestClassifier(random_state=37) accuracy: \n",
            " 0.7888888888888889\n",
            "GradientBoostingClassifier(random_state=37) accuracy: \n",
            " 0.8\n",
            "XGBClassifier(base_score=None, booster=None, callbacks=None,\n",
            "              colsample_bylevel=None, colsample_bynode=None,\n",
            "              colsample_bytree=None, early_stopping_rounds=None,\n",
            "              enable_categorical=False, eval_metric=None, feature_types=None,\n",
            "              gamma=None, gpu_id=None, grow_policy=None, importance_type=None,\n",
            "              interaction_constraints=None, learning_rate=None, max_bin=None,\n",
            "              max_cat_threshold=None, max_cat_to_onehot=None,\n",
            "              max_delta_step=None, max_depth=None, max_leaves=None,\n",
            "              min_child_weight=None, missing=nan, monotone_constraints=None,\n",
            "              n_estimators=100, n_jobs=None, num_parallel_tree=None,\n",
            "              objective='multi:softprob', predictor=None, ...) accuracy: \n",
            " 0.7722222222222223\n",
            "LGBMClassifier(objective='multiclass', random_state=37) accuracy: \n",
            " 0.7888888888888889\n",
            "<catboost.core.CatBoostClassifier object at 0x7f2cce12d3d0> accuracy: \n",
            " 0.8166666666666667\n",
            "RidgeClassifierCV(alphas=array([ 0.1,  1. , 10. ])) accuracy: \n",
            " 0.7611111111111111\n",
            "BaggingClassifier(random_state=37) accuracy: \n",
            " 0.75\n"
          ]
        }
      ],
      "id": "qfV3aJaS8lvI"
    },
    {
      "cell_type": "markdown",
      "source": [
        "## 2.2 sequential MLP \n",
        "* torch code can make the same result --> TRY!!! "
      ],
      "metadata": {
        "id": "_KIk0bpq4IHj"
      },
      "id": "_KIk0bpq4IHj"
    },
    {
      "cell_type": "code",
      "source": [
        "model = Sequential([\n",
        "    # Input layer: ReLU (decide input size according to dimension)\n",
        "    Dense(2056, \n",
        "          activation='relu', input_shape=(train_x.shape[-1],)),    \n",
        "    # BatchNormalization(), \n",
        "    Dropout(0.3), \n",
        "\n",
        "\n",
        "\n",
        "\n",
        "    # Output layer: softmax \n",
        "    Dense(3, activation='softmax')  \n",
        "    ])\n",
        "# model.save('sequential')\n",
        "# CUDA   torch code ㅠㅠㅠㅠ \n",
        "model.summary()\n",
        "model.compile(optimizer = optimizers.Adam(1e-3),  # default learning rate=1e-3 \n",
        "            loss='sparse_categorical_crossentropy',  # tow or more label classes (`Y_Class`: 0,1,2)\n",
        "            metrics=['accuracy'])\n",
        "\n",
        "history = model.fit(train_x, train_y, \n",
        "                    epochs=5,\n",
        "                    batch_size=256,  # batch size: 2^x && half of data size(598/2) \n",
        "                    validation_split=0.2,\n",
        "                    )   \n",
        "\n",
        "preds = model.predict(test_x) \n"
      ],
      "metadata": {
        "colab": {
          "base_uri": "https://localhost:8080/"
        },
        "id": "0n3ShShET8kG",
        "outputId": "9229ef77-044f-445c-8498-4dd81509cdc8"
      },
      "execution_count": null,
      "outputs": [
        {
          "output_type": "stream",
          "name": "stdout",
          "text": [
            "Model: \"sequential_1\"\n",
            "_________________________________________________________________\n",
            " Layer (type)                Output Shape              Param #   \n",
            "=================================================================\n",
            " dense_2 (Dense)             (None, 512)               1473536   \n",
            "                                                                 \n",
            " dropout_1 (Dropout)         (None, 512)               0         \n",
            "                                                                 \n",
            " dense_3 (Dense)             (None, 3)                 1539      \n",
            "                                                                 \n",
            "=================================================================\n",
            "Total params: 1,475,075\n",
            "Trainable params: 1,475,075\n",
            "Non-trainable params: 0\n",
            "_________________________________________________________________\n",
            "Epoch 1/5\n",
            "6/6 [==============================] - 1s 45ms/step - loss: 1.8346 - accuracy: 0.5858 - val_loss: 1.9028 - val_accuracy: 0.6250\n",
            "Epoch 2/5\n",
            "6/6 [==============================] - 0s 10ms/step - loss: 1.1745 - accuracy: 0.6632 - val_loss: 1.3163 - val_accuracy: 0.6167\n",
            "Epoch 3/5\n",
            "6/6 [==============================] - 0s 11ms/step - loss: 0.8698 - accuracy: 0.6904 - val_loss: 0.8561 - val_accuracy: 0.6833\n",
            "Epoch 4/5\n",
            "6/6 [==============================] - 0s 11ms/step - loss: 0.7587 - accuracy: 0.6925 - val_loss: 1.0302 - val_accuracy: 0.6167\n",
            "Epoch 5/5\n",
            "6/6 [==============================] - 0s 13ms/step - loss: 0.7504 - accuracy: 0.7113 - val_loss: 0.9521 - val_accuracy: 0.6250\n",
            "10/10 [==============================] - 0s 2ms/step\n"
          ]
        }
      ],
      "id": "0n3ShShET8kG"
    },
    {
      "cell_type": "code",
      "execution_count": null,
      "metadata": {
        "colab": {
          "base_uri": "https://localhost:8080/",
          "height": 265
        },
        "outputId": "df1ce02b-47aa-469a-b602-759afdd9b1bd",
        "id": "FLHA36Z1iEhW"
      },
      "outputs": [
        {
          "output_type": "display_data",
          "data": {
            "text/plain": [
              "<Figure size 432x288 with 1 Axes>"
            ],
            "image/png": "[encoded data removed]"
          },
          "metadata": {
            "needs_background": "light"
          }
        }
      ],
      "source": [
        "a=[]\n",
        "\n",
        "for i in preds: \n",
        "    i = list(i)\n",
        "    a.append(i.index(max(i)))\n",
        "\n",
        "sns.countplot(x=a);    "
      ],
      "id": "FLHA36Z1iEhW"
    },
    {
      "cell_type": "code",
      "execution_count": null,
      "metadata": {
        "id": "k1KBJb0mIYUI"
      },
      "outputs": [],
      "source": [
        "submit = pd.read_csv('/content/drive/MyDrive/sample_submission.csv')\n",
        "submit['Y_Class'] = a\n",
        "\n",
        "submit.to_csv('LReluDO3b80ep5LR1e3-ANN-smartFactorySubmission.csv', index=False)"
      ],
      "id": "k1KBJb0mIYUI"
    },
    {
      "cell_type": "code",
      "execution_count": null,
      "metadata": {
        "colab": {
          "base_uri": "https://localhost:8080/",
          "height": 295
        },
        "id": "f5a8c473",
        "outputId": "fcd7e3ac-a62a-4577-db75-1845d8d40c27"
      },
      "outputs": [
        {
          "output_type": "display_data",
          "data": {
            "text/plain": [
              "<Figure size 1008x288 with 2 Axes>"
            ],
            "image/png": "[encoded data removed]"
          },
          "metadata": {
            "needs_background": "light"
          }
        }
      ],
      "source": [
        "epochs = range(1, len(history.history[\"loss\"]) + 1)\n",
        "\n",
        "fig, axes = plt.subplots(1,2,figsize=(14,4))\n",
        "ax= axes.flatten()\n",
        "a, b = ax[0], ax[1]\n",
        "\n",
        "a.plot(epochs, history.history[\"loss\"], \"bo\", label=\"Training loss\")\n",
        "a.plot(epochs, history.history[\"val_loss\"], \"b\", label=\"Validation loss\")\n",
        "a.set_title(\"Training and validation loss\")\n",
        "a.set_xlabel(\"Epochs\")\n",
        "a.set_ylabel(\"Loss\")\n",
        "a.legend()   \n",
        "\n",
        "b.plot(epochs, history.history[\"accuracy\"], \"bo\", label=\"Training accuracy\")\n",
        "b.plot(epochs, history.history[\"val_accuracy\"], \"b\", label=\"Validation accuracy\")\n",
        "b.set_title(\"Training and validation accuracy\")\n",
        "b.set_xlabel(\"Epochs\")\n",
        "b.set_ylabel(\"Accuracy\")\n",
        "b.legend();"
      ],
      "id": "f5a8c473"
    },
    {
      "cell_type": "code",
      "source": [],
      "metadata": {
        "id": "1Rro4p8r4ITC"
      },
      "id": "1Rro4p8r4ITC",
      "execution_count": null,
      "outputs": []
    },
    {
      "cell_type": "markdown",
      "source": [
        "# 3.Params Optimization\n",
        "1. GridSearch \n",
        "2. Optuna\n",
        "3. RandomizedSearchCV"
      ],
      "metadata": {
        "id": "wE74J0d04SNc"
      },
      "id": "wE74J0d04SNc"
    },
    {
      "cell_type": "markdown",
      "source": [
        "## 3.1 GBC"
      ],
      "metadata": {
        "id": "Fn79mJ8rn4Jn"
      },
      "id": "Fn79mJ8rn4Jn"
    },
    {
      "cell_type": "code",
      "source": [
        "gb_class = GradientBoostingClassifier(random_state = 37) \n",
        "\n",
        "kf = KFold(n_splits=5, shuffle=True, random_state=37)\n",
        "# kf = sklearn.model_selection.StratifiedKFoldKFold(n_splits=5, shuffle=True, random_state=37)\n",
        "\n",
        "# stratified --> too many Class 0, Class 2 over-predicted \n",
        "# non-stratified --> training score 77.0 \n",
        "\n",
        "scores = cross_validate(gb_class, X_train, y_train, \n",
        "                        cv = kf, scoring = \"accuracy\", \n",
        "                        return_train_score = True, n_jobs = -1) "
      ],
      "metadata": {
        "id": "zHCvGdc9H067"
      },
      "execution_count": null,
      "outputs": [],
      "id": "zHCvGdc9H067"
    },
    {
      "cell_type": "code",
      "source": [
        "print(scores) \n",
        "scoring = scores['test_score'].mean()\n",
        "print(f'Best Accuracy: {round(scoring, 2)*100}')  "
      ],
      "metadata": {
        "colab": {
          "base_uri": "https://localhost:8080/"
        },
        "id": "Vsgw8TQrtpmQ",
        "outputId": "03b83fa8-64e3-462c-a62d-2beac0fc54e6"
      },
      "execution_count": null,
      "outputs": [
        {
          "output_type": "stream",
          "name": "stdout",
          "text": [
            "{'fit_time': array([41.62663841, 41.74060178, 37.6939764 , 37.52241993, 24.01014924]), 'score_time': array([0.03269506, 0.03415394, 0.03555298, 0.0340457 , 0.0192306 ]), 'test_score': array([0.78333333, 0.79166667, 0.775     , 0.78991597, 0.73109244]), 'train_score': array([1.        , 0.9958159 , 1.        , 1.        , 0.99791232])}\n",
            "Best Accuracy: 77.0\n"
          ]
        }
      ],
      "id": "Vsgw8TQrtpmQ"
    },
    {
      "cell_type": "code",
      "source": [
        "def objective(trial, X, y, cv, scoring):\n",
        "  \"\"\"\n",
        "  An objective function to tune hyperparameters of Gradient Boosting Classifier.\n",
        "  Args:\n",
        "    trial: an Optuna trial\n",
        "    X: DataFrame object, features\n",
        "    y: Series object, Labels\n",
        "    cv: k folds to cross-validate\n",
        "    scoring: String, evaluation metric\n",
        "  Return:\n",
        "    Mean test accuracy\n",
        "  \"\"\"\n",
        "\n",
        "  params = {\n",
        "    \"n_estimators\": trial.suggest_int(\"n_estimators\", 100, 5000, step = 100),\n",
        "    \"learning_rate\": trial.suggest_float(\"learning_rate\", 1e-4, 0.3, log = True),\n",
        "    \"max_depth\": trial.suggest_int(\"max_depth\", 3, 9),\n",
        "    \"subsample\": trial.suggest_float(\"subsample\", 0.5, 0.9, step = 0.1),\n",
        "    \"max_features\": trial.suggest_categorical(\"max_features\", [\"auto\", \"sqrt\", \"log2\"]),\n",
        "    \"random_state\": 42,\n",
        "    }\n",
        "  # Perform cross validation\n",
        "  gb_class = GradientBoostingClassifier(**params)\n",
        "\n",
        "  # Compute scores\n",
        "  scores = cross_validate(gb_class, X, y, cv = cv, scoring = scoring, n_jobs = -1)\n",
        "  accuracy = scores[\"test_score\"].mean()\n",
        "\n",
        "  return accuracy"
      ],
      "metadata": {
        "id": "p3-9ibAcp96Q"
      },
      "execution_count": null,
      "outputs": [],
      "id": "p3-9ibAcp96Q"
    },
    {
      "cell_type": "code",
      "source": [
        "study = optuna.create_study(direction = \"maximize\")\n",
        "\n",
        "kf = sklearn.model_selection.StratifiedKFold(n_splits=5, shuffle=True, random_state=37)\n",
        "\n",
        "func = lambda trial: objective(trial, X_train, y_train, \n",
        "                               cv = kf, scoring = \"accuracy\")\n",
        "\n",
        "# %%time\n",
        "# Start optimizing with 100 trials\n",
        "study.optimize(func, n_trials = 10)\n",
        "\n",
        "print(f\"The highest accuracy reached by this study: {(study.best_value) * 100}%.\")\n",
        "print(\"Best params:\")\n",
        "for key, value in study.best_params.items():\n",
        "    print(f\"\\t{key}: {value}\")    "
      ],
      "metadata": {
        "colab": {
          "base_uri": "https://localhost:8080/",
          "height": 869
        },
        "id": "gerDxJOEt9hE",
        "outputId": "d8e2b20e-5fc2-4552-ff67-d760f8ec790b"
      },
      "execution_count": null,
      "outputs": [
        {
          "output_type": "stream",
          "name": "stderr",
          "text": [
            "\u001b[32m[I 2023-02-23 23:40:00,843]\u001b[0m A new study created in memory with name: no-name-ed8b6a39-0289-437f-844d-22d3bdfaf955\u001b[0m\n",
            "\u001b[32m[I 2023-02-23 23:43:04,778]\u001b[0m Trial 0 finished with value: 0.7608263305322129 and parameters: {'n_estimators': 4700, 'learning_rate': 0.0005668195633865373, 'max_depth': 6, 'subsample': 0.9, 'max_features': 'log2'}. Best is trial 0 with value: 0.7608263305322129.\u001b[0m\n",
            "\u001b[32m[I 2023-02-23 23:48:01,267]\u001b[0m Trial 1 finished with value: 0.8026050420168067 and parameters: {'n_estimators': 200, 'learning_rate': 0.21851112508358236, 'max_depth': 6, 'subsample': 0.7, 'max_features': 'auto'}. Best is trial 1 with value: 0.8026050420168067.\u001b[0m\n",
            "\u001b[32m[I 2023-02-23 23:49:11,431]\u001b[0m Trial 2 finished with value: 0.79593837535014 and parameters: {'n_estimators': 3400, 'learning_rate': 0.09944316159185719, 'max_depth': 9, 'subsample': 0.9, 'max_features': 'sqrt'}. Best is trial 1 with value: 0.8026050420168067.\u001b[0m\n",
            "\u001b[32m[I 2023-02-23 23:50:10,982]\u001b[0m Trial 3 finished with value: 0.7925630252100839 and parameters: {'n_estimators': 1700, 'learning_rate': 0.021821242865568646, 'max_depth': 4, 'subsample': 0.6, 'max_features': 'sqrt'}. Best is trial 1 with value: 0.8026050420168067.\u001b[0m\n",
            "\u001b[33m[W 2023-02-24 00:44:01,212]\u001b[0m Trial 4 failed with parameters: {'n_estimators': 3900, 'learning_rate': 0.00015343398793601584, 'max_depth': 6, 'subsample': 0.8, 'max_features': 'auto'} because of the following error: KeyboardInterrupt().\u001b[0m\n",
            "Traceback (most recent call last):\n",
            "  File \"/usr/local/lib/python3.8/dist-packages/optuna/study/_optimize.py\", line 200, in _run_trial\n",
            "    value_or_values = func(trial)\n",
            "  File \"<ipython-input-89-03e1837b5db3>\", line 5, in <lambda>\n",
            "    func = lambda trial: objective(trial, X_train, y_train,\n",
            "  File \"<ipython-input-88-8a203aa46cbb>\", line 26, in objective\n",
            "    scores = cross_validate(gb_class, X, y, cv = cv, scoring = scoring, n_jobs = -1)\n",
            "  File \"/usr/local/lib/python3.8/dist-packages/sklearn/model_selection/_validation.py\", line 267, in cross_validate\n",
            "    results = parallel(\n",
            "  File \"/usr/local/lib/python3.8/dist-packages/joblib/parallel.py\", line 1098, in __call__\n",
            "    self.retrieve()\n",
            "  File \"/usr/local/lib/python3.8/dist-packages/joblib/parallel.py\", line 975, in retrieve\n",
            "    self._output.extend(job.get(timeout=self.timeout))\n",
            "  File \"/usr/local/lib/python3.8/dist-packages/joblib/_parallel_backends.py\", line 567, in wrap_future_result\n",
            "    return future.result(timeout=timeout)\n",
            "  File \"/usr/lib/python3.8/concurrent/futures/_base.py\", line 439, in result\n",
            "    self._condition.wait(timeout)\n",
            "  File \"/usr/lib/python3.8/threading.py\", line 302, in wait\n",
            "    waiter.acquire()\n",
            "KeyboardInterrupt\n",
            "\u001b[33m[W 2023-02-24 00:44:01,217]\u001b[0m Trial 4 failed with value None.\u001b[0m\n"
          ]
        },
        {
          "output_type": "error",
          "ename": "KeyboardInterrupt",
          "evalue": "ignored",
          "traceback": [
            "\u001b[0;31m---------------------------------------------------------------------------\u001b[0m",
            "\u001b[0;31mKeyboardInterrupt\u001b[0m                         Traceback (most recent call last)",
            "\u001b[0;32m<ipython-input-89-03e1837b5db3>\u001b[0m in \u001b[0;36m<module>\u001b[0;34m\u001b[0m\n\u001b[1;32m      8\u001b[0m \u001b[0;31m# %%time\u001b[0m\u001b[0;34m\u001b[0m\u001b[0;34m\u001b[0m\u001b[0;34m\u001b[0m\u001b[0m\n\u001b[1;32m      9\u001b[0m \u001b[0;31m# Start optimizing with 100 trials\u001b[0m\u001b[0;34m\u001b[0m\u001b[0;34m\u001b[0m\u001b[0;34m\u001b[0m\u001b[0m\n\u001b[0;32m---> 10\u001b[0;31m \u001b[0mstudy\u001b[0m\u001b[0;34m.\u001b[0m\u001b[0moptimize\u001b[0m\u001b[0;34m(\u001b[0m\u001b[0mfunc\u001b[0m\u001b[0;34m,\u001b[0m \u001b[0mn_trials\u001b[0m \u001b[0;34m=\u001b[0m \u001b[0;36m10\u001b[0m\u001b[0;34m)\u001b[0m\u001b[0;34m\u001b[0m\u001b[0;34m\u001b[0m\u001b[0m\n\u001b[0m\u001b[1;32m     11\u001b[0m \u001b[0;34m\u001b[0m\u001b[0m\n\u001b[1;32m     12\u001b[0m \u001b[0mprint\u001b[0m\u001b[0;34m(\u001b[0m\u001b[0;34mf\"The highest accuracy reached by this study: {(study.best_value) * 100}%.\"\u001b[0m\u001b[0;34m)\u001b[0m\u001b[0;34m\u001b[0m\u001b[0;34m\u001b[0m\u001b[0m\n",
            "\u001b[0;32m/usr/local/lib/python3.8/dist-packages/optuna/study/study.py\u001b[0m in \u001b[0;36moptimize\u001b[0;34m(self, func, n_trials, timeout, n_jobs, catch, callbacks, gc_after_trial, show_progress_bar)\u001b[0m\n\u001b[1;32m    423\u001b[0m         \"\"\"\n\u001b[1;32m    424\u001b[0m \u001b[0;34m\u001b[0m\u001b[0m\n\u001b[0;32m--> 425\u001b[0;31m         _optimize(\n\u001b[0m\u001b[1;32m    426\u001b[0m             \u001b[0mstudy\u001b[0m\u001b[0;34m=\u001b[0m\u001b[0mself\u001b[0m\u001b[0;34m,\u001b[0m\u001b[0;34m\u001b[0m\u001b[0;34m\u001b[0m\u001b[0m\n\u001b[1;32m    427\u001b[0m             \u001b[0mfunc\u001b[0m\u001b[0;34m=\u001b[0m\u001b[0mfunc\u001b[0m\u001b[0;34m,\u001b[0m\u001b[0;34m\u001b[0m\u001b[0;34m\u001b[0m\u001b[0m\n",
            "\u001b[0;32m/usr/local/lib/python3.8/dist-packages/optuna/study/_optimize.py\u001b[0m in \u001b[0;36m_optimize\u001b[0;34m(study, func, n_trials, timeout, n_jobs, catch, callbacks, gc_after_trial, show_progress_bar)\u001b[0m\n\u001b[1;32m     64\u001b[0m     \u001b[0;32mtry\u001b[0m\u001b[0;34m:\u001b[0m\u001b[0;34m\u001b[0m\u001b[0;34m\u001b[0m\u001b[0m\n\u001b[1;32m     65\u001b[0m         \u001b[0;32mif\u001b[0m \u001b[0mn_jobs\u001b[0m \u001b[0;34m==\u001b[0m \u001b[0;36m1\u001b[0m\u001b[0;34m:\u001b[0m\u001b[0;34m\u001b[0m\u001b[0;34m\u001b[0m\u001b[0m\n\u001b[0;32m---> 66\u001b[0;31m             _optimize_sequential(\n\u001b[0m\u001b[1;32m     67\u001b[0m                 \u001b[0mstudy\u001b[0m\u001b[0;34m,\u001b[0m\u001b[0;34m\u001b[0m\u001b[0;34m\u001b[0m\u001b[0m\n\u001b[1;32m     68\u001b[0m                 \u001b[0mfunc\u001b[0m\u001b[0;34m,\u001b[0m\u001b[0;34m\u001b[0m\u001b[0;34m\u001b[0m\u001b[0m\n",
            "\u001b[0;32m/usr/local/lib/python3.8/dist-packages/optuna/study/_optimize.py\u001b[0m in \u001b[0;36m_optimize_sequential\u001b[0;34m(study, func, n_trials, timeout, catch, callbacks, gc_after_trial, reseed_sampler_rng, time_start, progress_bar)\u001b[0m\n\u001b[1;32m    161\u001b[0m \u001b[0;34m\u001b[0m\u001b[0m\n\u001b[1;32m    162\u001b[0m         \u001b[0;32mtry\u001b[0m\u001b[0;34m:\u001b[0m\u001b[0;34m\u001b[0m\u001b[0;34m\u001b[0m\u001b[0m\n\u001b[0;32m--> 163\u001b[0;31m             \u001b[0mfrozen_trial\u001b[0m \u001b[0;34m=\u001b[0m \u001b[0m_run_trial\u001b[0m\u001b[0;34m(\u001b[0m\u001b[0mstudy\u001b[0m\u001b[0;34m,\u001b[0m \u001b[0mfunc\u001b[0m\u001b[0;34m,\u001b[0m \u001b[0mcatch\u001b[0m\u001b[0;34m)\u001b[0m\u001b[0;34m\u001b[0m\u001b[0;34m\u001b[0m\u001b[0m\n\u001b[0m\u001b[1;32m    164\u001b[0m         \u001b[0;32mfinally\u001b[0m\u001b[0;34m:\u001b[0m\u001b[0;34m\u001b[0m\u001b[0;34m\u001b[0m\u001b[0m\n\u001b[1;32m    165\u001b[0m             \u001b[0;31m# The following line mitigates memory problems that can be occurred in some\u001b[0m\u001b[0;34m\u001b[0m\u001b[0;34m\u001b[0m\u001b[0;34m\u001b[0m\u001b[0m\n",
            "\u001b[0;32m/usr/local/lib/python3.8/dist-packages/optuna/study/_optimize.py\u001b[0m in \u001b[0;36m_run_trial\u001b[0;34m(study, func, catch)\u001b[0m\n\u001b[1;32m    249\u001b[0m         \u001b[0;32mand\u001b[0m \u001b[0;32mnot\u001b[0m \u001b[0misinstance\u001b[0m\u001b[0;34m(\u001b[0m\u001b[0mfunc_err\u001b[0m\u001b[0;34m,\u001b[0m \u001b[0mcatch\u001b[0m\u001b[0;34m)\u001b[0m\u001b[0;34m\u001b[0m\u001b[0;34m\u001b[0m\u001b[0m\n\u001b[1;32m    250\u001b[0m     ):\n\u001b[0;32m--> 251\u001b[0;31m         \u001b[0;32mraise\u001b[0m \u001b[0mfunc_err\u001b[0m\u001b[0;34m\u001b[0m\u001b[0;34m\u001b[0m\u001b[0m\n\u001b[0m\u001b[1;32m    252\u001b[0m     \u001b[0;32mreturn\u001b[0m \u001b[0mfrozen_trial\u001b[0m\u001b[0;34m\u001b[0m\u001b[0;34m\u001b[0m\u001b[0m\n\u001b[1;32m    253\u001b[0m \u001b[0;34m\u001b[0m\u001b[0m\n",
            "\u001b[0;32m/usr/local/lib/python3.8/dist-packages/optuna/study/_optimize.py\u001b[0m in \u001b[0;36m_run_trial\u001b[0;34m(study, func, catch)\u001b[0m\n\u001b[1;32m    198\u001b[0m     \u001b[0;32mwith\u001b[0m \u001b[0mget_heartbeat_thread\u001b[0m\u001b[0;34m(\u001b[0m\u001b[0mtrial\u001b[0m\u001b[0;34m.\u001b[0m\u001b[0m_trial_id\u001b[0m\u001b[0;34m,\u001b[0m \u001b[0mstudy\u001b[0m\u001b[0;34m.\u001b[0m\u001b[0m_storage\u001b[0m\u001b[0;34m)\u001b[0m\u001b[0;34m:\u001b[0m\u001b[0;34m\u001b[0m\u001b[0;34m\u001b[0m\u001b[0m\n\u001b[1;32m    199\u001b[0m         \u001b[0;32mtry\u001b[0m\u001b[0;34m:\u001b[0m\u001b[0;34m\u001b[0m\u001b[0;34m\u001b[0m\u001b[0m\n\u001b[0;32m--> 200\u001b[0;31m             \u001b[0mvalue_or_values\u001b[0m \u001b[0;34m=\u001b[0m \u001b[0mfunc\u001b[0m\u001b[0;34m(\u001b[0m\u001b[0mtrial\u001b[0m\u001b[0;34m)\u001b[0m\u001b[0;34m\u001b[0m\u001b[0;34m\u001b[0m\u001b[0m\n\u001b[0m\u001b[1;32m    201\u001b[0m         \u001b[0;32mexcept\u001b[0m \u001b[0mexceptions\u001b[0m\u001b[0;34m.\u001b[0m\u001b[0mTrialPruned\u001b[0m \u001b[0;32mas\u001b[0m \u001b[0me\u001b[0m\u001b[0;34m:\u001b[0m\u001b[0;34m\u001b[0m\u001b[0;34m\u001b[0m\u001b[0m\n\u001b[1;32m    202\u001b[0m             \u001b[0;31m# TODO(mamu): Handle multi-objective cases.\u001b[0m\u001b[0;34m\u001b[0m\u001b[0;34m\u001b[0m\u001b[0;34m\u001b[0m\u001b[0m\n",
            "\u001b[0;32m<ipython-input-89-03e1837b5db3>\u001b[0m in \u001b[0;36m<lambda>\u001b[0;34m(trial)\u001b[0m\n\u001b[1;32m      3\u001b[0m \u001b[0mkf\u001b[0m \u001b[0;34m=\u001b[0m \u001b[0msklearn\u001b[0m\u001b[0;34m.\u001b[0m\u001b[0mmodel_selection\u001b[0m\u001b[0;34m.\u001b[0m\u001b[0mStratifiedKFold\u001b[0m\u001b[0;34m(\u001b[0m\u001b[0mn_splits\u001b[0m\u001b[0;34m=\u001b[0m\u001b[0;36m5\u001b[0m\u001b[0;34m,\u001b[0m \u001b[0mshuffle\u001b[0m\u001b[0;34m=\u001b[0m\u001b[0;32mTrue\u001b[0m\u001b[0;34m,\u001b[0m \u001b[0mrandom_state\u001b[0m\u001b[0;34m=\u001b[0m\u001b[0;36m37\u001b[0m\u001b[0;34m)\u001b[0m\u001b[0;34m\u001b[0m\u001b[0;34m\u001b[0m\u001b[0m\n\u001b[1;32m      4\u001b[0m \u001b[0;34m\u001b[0m\u001b[0m\n\u001b[0;32m----> 5\u001b[0;31m func = lambda trial: objective(trial, X_train, y_train, \n\u001b[0m\u001b[1;32m      6\u001b[0m                                cv = kf, scoring = \"accuracy\")\n\u001b[1;32m      7\u001b[0m \u001b[0;34m\u001b[0m\u001b[0m\n",
            "\u001b[0;32m<ipython-input-88-8a203aa46cbb>\u001b[0m in \u001b[0;36mobjective\u001b[0;34m(trial, X, y, cv, scoring)\u001b[0m\n\u001b[1;32m     24\u001b[0m \u001b[0;34m\u001b[0m\u001b[0m\n\u001b[1;32m     25\u001b[0m   \u001b[0;31m# Compute scores\u001b[0m\u001b[0;34m\u001b[0m\u001b[0;34m\u001b[0m\u001b[0;34m\u001b[0m\u001b[0m\n\u001b[0;32m---> 26\u001b[0;31m   \u001b[0mscores\u001b[0m \u001b[0;34m=\u001b[0m \u001b[0mcross_validate\u001b[0m\u001b[0;34m(\u001b[0m\u001b[0mgb_class\u001b[0m\u001b[0;34m,\u001b[0m \u001b[0mX\u001b[0m\u001b[0;34m,\u001b[0m \u001b[0my\u001b[0m\u001b[0;34m,\u001b[0m \u001b[0mcv\u001b[0m \u001b[0;34m=\u001b[0m \u001b[0mcv\u001b[0m\u001b[0;34m,\u001b[0m \u001b[0mscoring\u001b[0m \u001b[0;34m=\u001b[0m \u001b[0mscoring\u001b[0m\u001b[0;34m,\u001b[0m \u001b[0mn_jobs\u001b[0m \u001b[0;34m=\u001b[0m \u001b[0;34m-\u001b[0m\u001b[0;36m1\u001b[0m\u001b[0;34m)\u001b[0m\u001b[0;34m\u001b[0m\u001b[0;34m\u001b[0m\u001b[0m\n\u001b[0m\u001b[1;32m     27\u001b[0m   \u001b[0maccuracy\u001b[0m \u001b[0;34m=\u001b[0m \u001b[0mscores\u001b[0m\u001b[0;34m[\u001b[0m\u001b[0;34m\"test_score\"\u001b[0m\u001b[0;34m]\u001b[0m\u001b[0;34m.\u001b[0m\u001b[0mmean\u001b[0m\u001b[0;34m(\u001b[0m\u001b[0;34m)\u001b[0m\u001b[0;34m\u001b[0m\u001b[0;34m\u001b[0m\u001b[0m\n\u001b[1;32m     28\u001b[0m \u001b[0;34m\u001b[0m\u001b[0m\n",
            "\u001b[0;32m/usr/local/lib/python3.8/dist-packages/sklearn/model_selection/_validation.py\u001b[0m in \u001b[0;36mcross_validate\u001b[0;34m(estimator, X, y, groups, scoring, cv, n_jobs, verbose, fit_params, pre_dispatch, return_train_score, return_estimator, error_score)\u001b[0m\n\u001b[1;32m    265\u001b[0m     \u001b[0;31m# independent, and that it is pickle-able.\u001b[0m\u001b[0;34m\u001b[0m\u001b[0;34m\u001b[0m\u001b[0;34m\u001b[0m\u001b[0m\n\u001b[1;32m    266\u001b[0m     \u001b[0mparallel\u001b[0m \u001b[0;34m=\u001b[0m \u001b[0mParallel\u001b[0m\u001b[0;34m(\u001b[0m\u001b[0mn_jobs\u001b[0m\u001b[0;34m=\u001b[0m\u001b[0mn_jobs\u001b[0m\u001b[0;34m,\u001b[0m \u001b[0mverbose\u001b[0m\u001b[0;34m=\u001b[0m\u001b[0mverbose\u001b[0m\u001b[0;34m,\u001b[0m \u001b[0mpre_dispatch\u001b[0m\u001b[0;34m=\u001b[0m\u001b[0mpre_dispatch\u001b[0m\u001b[0;34m)\u001b[0m\u001b[0;34m\u001b[0m\u001b[0;34m\u001b[0m\u001b[0m\n\u001b[0;32m--> 267\u001b[0;31m     results = parallel(\n\u001b[0m\u001b[1;32m    268\u001b[0m         delayed(_fit_and_score)(\n\u001b[1;32m    269\u001b[0m             \u001b[0mclone\u001b[0m\u001b[0;34m(\u001b[0m\u001b[0mestimator\u001b[0m\u001b[0;34m)\u001b[0m\u001b[0;34m,\u001b[0m\u001b[0;34m\u001b[0m\u001b[0;34m\u001b[0m\u001b[0m\n",
            "\u001b[0;32m/usr/local/lib/python3.8/dist-packages/joblib/parallel.py\u001b[0m in \u001b[0;36m__call__\u001b[0;34m(self, iterable)\u001b[0m\n\u001b[1;32m   1096\u001b[0m \u001b[0;34m\u001b[0m\u001b[0m\n\u001b[1;32m   1097\u001b[0m             \u001b[0;32mwith\u001b[0m \u001b[0mself\u001b[0m\u001b[0;34m.\u001b[0m\u001b[0m_backend\u001b[0m\u001b[0;34m.\u001b[0m\u001b[0mretrieval_context\u001b[0m\u001b[0;34m(\u001b[0m\u001b[0;34m)\u001b[0m\u001b[0;34m:\u001b[0m\u001b[0;34m\u001b[0m\u001b[0;34m\u001b[0m\u001b[0m\n\u001b[0;32m-> 1098\u001b[0;31m                 \u001b[0mself\u001b[0m\u001b[0;34m.\u001b[0m\u001b[0mretrieve\u001b[0m\u001b[0;34m(\u001b[0m\u001b[0;34m)\u001b[0m\u001b[0;34m\u001b[0m\u001b[0;34m\u001b[0m\u001b[0m\n\u001b[0m\u001b[1;32m   1099\u001b[0m             \u001b[0;31m# Make sure that we get a last message telling us we are done\u001b[0m\u001b[0;34m\u001b[0m\u001b[0;34m\u001b[0m\u001b[0;34m\u001b[0m\u001b[0m\n\u001b[1;32m   1100\u001b[0m             \u001b[0melapsed_time\u001b[0m \u001b[0;34m=\u001b[0m \u001b[0mtime\u001b[0m\u001b[0;34m.\u001b[0m\u001b[0mtime\u001b[0m\u001b[0;34m(\u001b[0m\u001b[0;34m)\u001b[0m \u001b[0;34m-\u001b[0m \u001b[0mself\u001b[0m\u001b[0;34m.\u001b[0m\u001b[0m_start_time\u001b[0m\u001b[0;34m\u001b[0m\u001b[0;34m\u001b[0m\u001b[0m\n",
            "\u001b[0;32m/usr/local/lib/python3.8/dist-packages/joblib/parallel.py\u001b[0m in \u001b[0;36mretrieve\u001b[0;34m(self)\u001b[0m\n\u001b[1;32m    973\u001b[0m             \u001b[0;32mtry\u001b[0m\u001b[0;34m:\u001b[0m\u001b[0;34m\u001b[0m\u001b[0;34m\u001b[0m\u001b[0m\n\u001b[1;32m    974\u001b[0m                 \u001b[0;32mif\u001b[0m \u001b[0mgetattr\u001b[0m\u001b[0;34m(\u001b[0m\u001b[0mself\u001b[0m\u001b[0;34m.\u001b[0m\u001b[0m_backend\u001b[0m\u001b[0;34m,\u001b[0m \u001b[0;34m'supports_timeout'\u001b[0m\u001b[0;34m,\u001b[0m \u001b[0;32mFalse\u001b[0m\u001b[0;34m)\u001b[0m\u001b[0;34m:\u001b[0m\u001b[0;34m\u001b[0m\u001b[0;34m\u001b[0m\u001b[0m\n\u001b[0;32m--> 975\u001b[0;31m                     \u001b[0mself\u001b[0m\u001b[0;34m.\u001b[0m\u001b[0m_output\u001b[0m\u001b[0;34m.\u001b[0m\u001b[0mextend\u001b[0m\u001b[0;34m(\u001b[0m\u001b[0mjob\u001b[0m\u001b[0;34m.\u001b[0m\u001b[0mget\u001b[0m\u001b[0;34m(\u001b[0m\u001b[0mtimeout\u001b[0m\u001b[0;34m=\u001b[0m\u001b[0mself\u001b[0m\u001b[0;34m.\u001b[0m\u001b[0mtimeout\u001b[0m\u001b[0;34m)\u001b[0m\u001b[0;34m)\u001b[0m\u001b[0;34m\u001b[0m\u001b[0;34m\u001b[0m\u001b[0m\n\u001b[0m\u001b[1;32m    976\u001b[0m                 \u001b[0;32melse\u001b[0m\u001b[0;34m:\u001b[0m\u001b[0;34m\u001b[0m\u001b[0;34m\u001b[0m\u001b[0m\n\u001b[1;32m    977\u001b[0m                     \u001b[0mself\u001b[0m\u001b[0;34m.\u001b[0m\u001b[0m_output\u001b[0m\u001b[0;34m.\u001b[0m\u001b[0mextend\u001b[0m\u001b[0;34m(\u001b[0m\u001b[0mjob\u001b[0m\u001b[0;34m.\u001b[0m\u001b[0mget\u001b[0m\u001b[0;34m(\u001b[0m\u001b[0;34m)\u001b[0m\u001b[0;34m)\u001b[0m\u001b[0;34m\u001b[0m\u001b[0;34m\u001b[0m\u001b[0m\n",
            "\u001b[0;32m/usr/local/lib/python3.8/dist-packages/joblib/_parallel_backends.py\u001b[0m in \u001b[0;36mwrap_future_result\u001b[0;34m(future, timeout)\u001b[0m\n\u001b[1;32m    565\u001b[0m         AsyncResults.get from multiprocessing.\"\"\"\n\u001b[1;32m    566\u001b[0m         \u001b[0;32mtry\u001b[0m\u001b[0;34m:\u001b[0m\u001b[0;34m\u001b[0m\u001b[0;34m\u001b[0m\u001b[0m\n\u001b[0;32m--> 567\u001b[0;31m             \u001b[0;32mreturn\u001b[0m \u001b[0mfuture\u001b[0m\u001b[0;34m.\u001b[0m\u001b[0mresult\u001b[0m\u001b[0;34m(\u001b[0m\u001b[0mtimeout\u001b[0m\u001b[0;34m=\u001b[0m\u001b[0mtimeout\u001b[0m\u001b[0;34m)\u001b[0m\u001b[0;34m\u001b[0m\u001b[0;34m\u001b[0m\u001b[0m\n\u001b[0m\u001b[1;32m    568\u001b[0m         \u001b[0;32mexcept\u001b[0m \u001b[0mCfTimeoutError\u001b[0m \u001b[0;32mas\u001b[0m \u001b[0me\u001b[0m\u001b[0;34m:\u001b[0m\u001b[0;34m\u001b[0m\u001b[0;34m\u001b[0m\u001b[0m\n\u001b[1;32m    569\u001b[0m             \u001b[0;32mraise\u001b[0m \u001b[0mTimeoutError\u001b[0m \u001b[0;32mfrom\u001b[0m \u001b[0me\u001b[0m\u001b[0;34m\u001b[0m\u001b[0;34m\u001b[0m\u001b[0m\n",
            "\u001b[0;32m/usr/lib/python3.8/concurrent/futures/_base.py\u001b[0m in \u001b[0;36mresult\u001b[0;34m(self, timeout)\u001b[0m\n\u001b[1;32m    437\u001b[0m                     \u001b[0;32mreturn\u001b[0m \u001b[0mself\u001b[0m\u001b[0;34m.\u001b[0m\u001b[0m__get_result\u001b[0m\u001b[0;34m(\u001b[0m\u001b[0;34m)\u001b[0m\u001b[0;34m\u001b[0m\u001b[0;34m\u001b[0m\u001b[0m\n\u001b[1;32m    438\u001b[0m \u001b[0;34m\u001b[0m\u001b[0m\n\u001b[0;32m--> 439\u001b[0;31m                 \u001b[0mself\u001b[0m\u001b[0;34m.\u001b[0m\u001b[0m_condition\u001b[0m\u001b[0;34m.\u001b[0m\u001b[0mwait\u001b[0m\u001b[0;34m(\u001b[0m\u001b[0mtimeout\u001b[0m\u001b[0;34m)\u001b[0m\u001b[0;34m\u001b[0m\u001b[0;34m\u001b[0m\u001b[0m\n\u001b[0m\u001b[1;32m    440\u001b[0m \u001b[0;34m\u001b[0m\u001b[0m\n\u001b[1;32m    441\u001b[0m                 \u001b[0;32mif\u001b[0m \u001b[0mself\u001b[0m\u001b[0;34m.\u001b[0m\u001b[0m_state\u001b[0m \u001b[0;32min\u001b[0m \u001b[0;34m[\u001b[0m\u001b[0mCANCELLED\u001b[0m\u001b[0;34m,\u001b[0m \u001b[0mCANCELLED_AND_NOTIFIED\u001b[0m\u001b[0;34m]\u001b[0m\u001b[0;34m:\u001b[0m\u001b[0;34m\u001b[0m\u001b[0;34m\u001b[0m\u001b[0m\n",
            "\u001b[0;32m/usr/lib/python3.8/threading.py\u001b[0m in \u001b[0;36mwait\u001b[0;34m(self, timeout)\u001b[0m\n\u001b[1;32m    300\u001b[0m         \u001b[0;32mtry\u001b[0m\u001b[0;34m:\u001b[0m    \u001b[0;31m# restore state no matter what (e.g., KeyboardInterrupt)\u001b[0m\u001b[0;34m\u001b[0m\u001b[0;34m\u001b[0m\u001b[0m\n\u001b[1;32m    301\u001b[0m             \u001b[0;32mif\u001b[0m \u001b[0mtimeout\u001b[0m \u001b[0;32mis\u001b[0m \u001b[0;32mNone\u001b[0m\u001b[0;34m:\u001b[0m\u001b[0;34m\u001b[0m\u001b[0;34m\u001b[0m\u001b[0m\n\u001b[0;32m--> 302\u001b[0;31m                 \u001b[0mwaiter\u001b[0m\u001b[0;34m.\u001b[0m\u001b[0macquire\u001b[0m\u001b[0;34m(\u001b[0m\u001b[0;34m)\u001b[0m\u001b[0;34m\u001b[0m\u001b[0;34m\u001b[0m\u001b[0m\n\u001b[0m\u001b[1;32m    303\u001b[0m                 \u001b[0mgotit\u001b[0m \u001b[0;34m=\u001b[0m \u001b[0;32mTrue\u001b[0m\u001b[0;34m\u001b[0m\u001b[0;34m\u001b[0m\u001b[0m\n\u001b[1;32m    304\u001b[0m             \u001b[0;32melse\u001b[0m\u001b[0;34m:\u001b[0m\u001b[0;34m\u001b[0m\u001b[0;34m\u001b[0m\u001b[0m\n",
            "\u001b[0;31mKeyboardInterrupt\u001b[0m: "
          ]
        }
      ],
      "id": "gerDxJOEt9hE"
    },
    {
      "cell_type": "code",
      "source": [
        "import imblearn\n",
        "\n",
        "# Trial 8 finished with value: 0.7976750700280112 and \n",
        "# param = {'n_estimators': 2500, 'learning_rate': 0.24437231062646464, 'max_depth': 7, 'subsample': 0.9, 'max_features': 'sqrt'}\n",
        "\n",
        "# value: 0.7926050420168067 \n",
        "param= {'n_estimators': 1400, 'learning_rate': 0.007793231258605556, 'max_depth': 6, 'subsample': 0.8, 'max_features': 'sqrt'}\n",
        "\n",
        "GBC =  GradientBoostingClassifier(random_state=37, **param,                              \n",
        "                                  ).fit(train_x, train_y)\n",
        "preds = GBC.predict(test_x)\n",
        "sns.countplot(x=preds);\n",
        "preds"
      ],
      "metadata": {
        "colab": {
          "base_uri": "https://localhost:8080/",
          "height": 525
        },
        "id": "S4zxDMJ4YGGd",
        "outputId": "996ee95b-34b7-4777-9d4e-f809f1c57065"
      },
      "execution_count": null,
      "outputs": [
        {
          "output_type": "execute_result",
          "data": {
            "text/plain": [
              "array([1, 1, 1, 1, 1, 1, 1, 0, 0, 1, 1, 1, 1, 0, 0, 1, 1, 1, 1, 1, 1, 1,\n",
              "       1, 1, 1, 1, 1, 1, 1, 1, 1, 1, 1, 1, 1, 0, 0, 0, 1, 0, 0, 0, 0, 1,\n",
              "       1, 1, 1, 1, 1, 1, 1, 1, 0, 1, 1, 1, 1, 1, 1, 1, 1, 0, 0, 0, 0, 0,\n",
              "       0, 1, 1, 1, 1, 0, 1, 1, 1, 1, 1, 1, 1, 1, 1, 1, 1, 1, 1, 1, 0, 1,\n",
              "       0, 1, 1, 1, 1, 1, 1, 1, 1, 1, 1, 1, 1, 1, 1, 1, 1, 1, 1, 1, 1, 1,\n",
              "       1, 1, 1, 1, 1, 1, 1, 1, 1, 1, 1, 1, 1, 1, 1, 1, 1, 1, 1, 0, 0, 0,\n",
              "       0, 1, 1, 1, 1, 1, 1, 1, 1, 1, 1, 1, 1, 1, 1, 1, 1, 1, 1, 1, 1, 1,\n",
              "       1, 1, 1, 1, 1, 1, 1, 2, 1, 1, 1, 1, 1, 1, 1, 1, 1, 1, 1, 1, 1, 1,\n",
              "       1, 1, 1, 1, 1, 1, 1, 1, 1, 1, 1, 1, 1, 1, 1, 1, 1, 1, 1, 1, 1, 1,\n",
              "       1, 1, 1, 1, 1, 1, 1, 1, 1, 1, 1, 1, 1, 1, 1, 1, 1, 1, 1, 1, 1, 1,\n",
              "       1, 1, 1, 1, 1, 1, 1, 1, 1, 1, 1, 1, 1, 1, 1, 1, 1, 1, 1, 1, 1, 1,\n",
              "       1, 1, 1, 1, 1, 1, 0, 0, 0, 0, 0, 0, 0, 0, 1, 1, 1, 1, 2, 1, 1, 1,\n",
              "       1, 1, 1, 1, 1, 1, 1, 1, 1, 1, 1, 1, 1, 1, 1, 1, 0, 1, 1, 1, 0, 0,\n",
              "       0, 1, 1, 1, 1, 1, 0, 1, 1, 1, 1, 1, 1, 1, 1, 1, 1, 1, 1, 1, 1, 1,\n",
              "       1, 1])"
            ]
          },
          "metadata": {},
          "execution_count": 30
        },
        {
          "output_type": "display_data",
          "data": {
            "text/plain": [
              "<Figure size 432x288 with 1 Axes>"
            ],
            "image/png": "[encoded data removed]"
          },
          "metadata": {
            "needs_background": "light"
          }
        }
      ],
      "id": "S4zxDMJ4YGGd"
    },
    {
      "cell_type": "code",
      "source": [
        "# Best is trial 0 with value: 0.8026750700280111.\n",
        "params= {'n_estimators': 4700, 'learning_rate': 0.007080906403563565, 'max_depth': 4, 'subsample': 0.8, 'max_features': 'sqrt'}\n",
        "\n",
        "GBC =  GradientBoostingClassifier(random_state=37,\n",
        "                                  **params,                              \n",
        "                                  ).fit(train_x, train_y)\n",
        "preds = GBC.predict(test_x)\n",
        "sns.countplot(x=preds);\n",
        "preds"
      ],
      "metadata": {
        "colab": {
          "base_uri": "https://localhost:8080/",
          "height": 525
        },
        "id": "DbxqiKTwSsO2",
        "outputId": "4aeb79a1-1ad9-4b6b-b28e-6d87c09418ab"
      },
      "execution_count": null,
      "outputs": [
        {
          "output_type": "execute_result",
          "data": {
            "text/plain": [
              "array([1, 1, 1, 1, 1, 1, 1, 0, 0, 1, 1, 1, 1, 0, 0, 1, 1, 1, 1, 1, 1, 1,\n",
              "       1, 1, 1, 1, 1, 1, 1, 1, 1, 1, 1, 1, 1, 0, 0, 0, 2, 0, 0, 0, 0, 1,\n",
              "       0, 1, 1, 1, 1, 1, 1, 1, 0, 0, 1, 1, 1, 1, 1, 1, 1, 0, 0, 0, 0, 0,\n",
              "       0, 1, 1, 1, 1, 0, 1, 1, 1, 1, 1, 1, 2, 1, 1, 1, 1, 1, 1, 1, 0, 1,\n",
              "       0, 1, 1, 1, 1, 1, 1, 1, 1, 1, 1, 1, 1, 1, 1, 1, 1, 1, 1, 1, 1, 1,\n",
              "       1, 1, 1, 1, 1, 1, 1, 1, 1, 1, 1, 1, 1, 1, 1, 1, 1, 1, 1, 0, 0, 0,\n",
              "       0, 1, 1, 1, 1, 1, 1, 1, 1, 0, 0, 1, 1, 2, 1, 2, 1, 1, 1, 1, 1, 1,\n",
              "       1, 1, 1, 1, 1, 1, 2, 2, 1, 1, 1, 1, 1, 1, 1, 1, 1, 1, 1, 1, 1, 1,\n",
              "       1, 1, 1, 1, 1, 1, 1, 1, 1, 1, 1, 1, 1, 1, 1, 1, 1, 1, 1, 1, 1, 1,\n",
              "       1, 1, 1, 1, 1, 1, 1, 1, 1, 1, 1, 1, 1, 1, 1, 1, 1, 1, 1, 1, 1, 1,\n",
              "       1, 1, 1, 1, 1, 1, 1, 1, 1, 1, 1, 1, 1, 1, 1, 1, 1, 1, 1, 1, 1, 1,\n",
              "       1, 1, 1, 1, 1, 1, 0, 0, 0, 0, 0, 0, 0, 0, 1, 1, 1, 1, 2, 1, 1, 1,\n",
              "       1, 1, 1, 1, 1, 1, 1, 1, 1, 1, 1, 1, 1, 1, 1, 1, 0, 1, 1, 0, 0, 0,\n",
              "       0, 1, 1, 1, 1, 1, 0, 1, 1, 1, 1, 1, 1, 1, 1, 1, 1, 1, 1, 1, 1, 1,\n",
              "       1, 1])"
            ]
          },
          "metadata": {},
          "execution_count": 23
        },
        {
          "output_type": "display_data",
          "data": {
            "text/plain": [
              "<Figure size 432x288 with 1 Axes>"
            ],
            "image/png": "[encoded data removed]"
          },
          "metadata": {
            "needs_background": "light"
          }
        }
      ],
      "id": "DbxqiKTwSsO2"
    },
    {
      "cell_type": "code",
      "execution_count": null,
      "metadata": {
        "id": "HLeS0rZUO_q_"
      },
      "outputs": [],
      "source": [
        "submit = pd.read_csv('/content/drive/MyDrive/sample_submission.csv')\n",
        "submit['Y_Class'] = preds\n",
        "\n",
        "submit.to_csv('GBCoptuna-smartFactorySubmission.csv', index=False)"
      ],
      "id": "HLeS0rZUO_q_"
    },
    {
      "cell_type": "code",
      "execution_count": null,
      "metadata": {
        "id": "e7f4ff7b"
      },
      "outputs": [],
      "source": [
        "def objective(trial):\n",
        "    model = CatBoostClassifier(\n",
        "        iterations=trial.suggest_int(\"iterations\", 100, 1000),\n",
        "        learning_rate=trial.suggest_float(\"learning_rate\", 1e-3, 1e-1, log=True),\n",
        "        depth=trial.suggest_int(\"depth\", 4, 10),\n",
        "        l2_leaf_reg=trial.suggest_float(\"l2_leaf_reg\", 1e-8, 100.0, log=True),\n",
        "        bootstrap_type=trial.suggest_categorical(\"bootstrap_type\", [\"Bayesian\"]),\n",
        "        random_strength=trial.suggest_float(\"random_strength\", 1e-8, 10.0, log=True),\n",
        "        bagging_temperature=trial.suggest_float(\"bagging_temperature\", 0.0, 10.0),\n",
        "        od_type=trial.suggest_categorical(\"od_type\", [\"IncToDec\", \"Iter\"]),\n",
        "        od_wait=trial.suggest_int(\"od_wait\", 10, 50),\n",
        "        verbose=False\n",
        "    )\n",
        "    model.fit(X_train, y_train)\n",
        "    y_pred = model.predict(X_test)\n",
        "    return f1_score(y_test, y_pred, average='macro')\n",
        "     \n",
        "# hyper-parameter tuning with OPTUNA  \n",
        "optuna.logging.set_verbosity(optuna.logging.WARNING)\n",
        "\n",
        "sampler = TPESampler(seed=37)\n",
        "study = optuna.create_study(study_name=\"catboost\", direction=\"maximize\", sampler=sampler)\n",
        "study.optimize(objective, n_trials=10)  "
      ],
      "id": "e7f4ff7b"
    },
    {
      "cell_type": "code",
      "execution_count": null,
      "metadata": {
        "id": "4ee90ada"
      },
      "outputs": [],
      "source": [
        "print(\"Number of trials: \", len(study.trials))\n",
        "print(\"Best trial:\")\n",
        "trial = study.best_trial\n",
        "print(\"  Value: \", trial.value)\n",
        "print(\"  Params: \",trial.params)\n",
        "\n",
        "model = CatBoostClassifier(**trial.params, verbose=False, random_state = 37)\n",
        "model.fit(X_train, y_train)\n",
        "y_pred = model.predict(X_test)\n"
      ],
      "id": "4ee90ada"
    },
    {
      "cell_type": "code",
      "source": [
        "params=  {'iterations': 857, 'learning_rate': 0.07097207730593516, 'depth': 8, 'l2_leaf_reg': 0.00012090525126196811, 'bootstrap_type': 'Bayesian', 'random_strength': 5.359110894800412, 'bagging_temperature': 0.7137022569955509, 'od_type': 'IncToDec', 'od_wait': 42}\n",
        "a = CatBoostClassifier(**params, verbose=False, random_state=37)\n",
        "a.fit(X_train, y_train)\n"
      ],
      "metadata": {
        "colab": {
          "base_uri": "https://localhost:8080/"
        },
        "id": "OYWFMNT9ycd7",
        "outputId": "80c11b86-e20b-4ea5-c191-98d09c28f7d6"
      },
      "execution_count": null,
      "outputs": [
        {
          "output_type": "execute_result",
          "data": {
            "text/plain": [
              "<catboost.core.CatBoostClassifier at 0x7fda25fe50d0>"
            ]
          },
          "metadata": {},
          "execution_count": 20
        }
      ],
      "id": "OYWFMNT9ycd7"
    },
    {
      "cell_type": "code",
      "source": [
        "# [I 2023-02-23 17:18:12,087] A new study created in memory with name: no-name-1c47b3dc-1271-4545-be27-7bdc29c83e1d\n",
        "# [I 2023-02-23 17:19:24,357] Trial 0 finished with value: 0.9402040816326529 and parameters: {'n_estimators': 1900, 'learning_rate': 0.00848473740560785, 'max_depth': 6, 'subsample': 0.5, 'max_features': 'log2'}. Best is trial 0 with value: 0.9402040816326529.\n",
        "# [I 2023-02-23 17:20:55,754] Trial 1 finished with value: 0.9483907661425226 and parameters: {'n_estimators': 1000, 'learning_rate': 0.04356159311638129, 'max_depth': 6, 'subsample': 0.8, 'max_features': 'sqrt'}. Best is trial 1 with value: 0.9483907661425226.\n",
        "# [I 2023-02-23 17:22:07,237] Trial 2 finished with value: 0.9246403479424556 and parameters: {'n_estimators': 700, 'learning_rate': 0.0028581111146054757, 'max_depth': 8, 'subsample': 0.5, 'max_features': 'sqrt'}. Best is trial 1 with value: 0.9483907661425226.\n",
        "# The highest accuracy reached by this study: 94.83907661425226%.\n",
        "# Best params:\n",
        "# \tn_estimators: 1000\n",
        "# \tlearning_rate: 0.04356159311638129\n",
        "# \tmax_depth: 6\n",
        "# \tsubsample: 0.8\n",
        "# \tmax_features: sqrt\n",
        "\n",
        "\n",
        "# 'n_estimators': 500, 'learning_rate': 0.23063625169737476, 'max_depth': 9, \n",
        "# 'subsample': 0.6, 'max_features': 'sqrt'}. Best is trial 0 with value: 0.9508464369354298"
      ],
      "metadata": {
        "id": "vqcJKGkzTlC1"
      },
      "execution_count": null,
      "outputs": [],
      "id": "vqcJKGkzTlC1"
    },
    {
      "cell_type": "code",
      "source": [
        "from optuna.visualization import plot_optimization_history\n",
        "from optuna.visualization import plot_param_importances\n",
        "from optuna.visualization import plot_parallel_coordinate\n",
        "from optuna.visualization import plot_contour\n",
        "\n",
        "plot_optimization_history(study)"
      ],
      "metadata": {
        "colab": {
          "base_uri": "https://localhost:8080/",
          "height": 542
        },
        "id": "eACiKQAXwMSW",
        "outputId": "fd4ed02e-fc57-4d19-c884-814c7a1906c4"
      },
      "execution_count": null,
      "outputs": [
        {
          "output_type": "display_data",
          "data": {
            "text/html": [
              "<html>\n",
              "<head><meta charset=\"utf-8\" /></head>\n",
              "<body>\n",
              "    <div>            <script src=\"https://cdnjs.cloudflare.com/ajax/libs/mathjax/2.7.5/MathJax.js?config=TeX-AMS-MML_SVG\"></script><script type=\"text/javascript\">if (window.MathJax) {MathJax.Hub.Config({SVG: {font: \"STIX-Web\"}});}</script>                <script type=\"text/javascript\">window.PlotlyConfig = {MathJaxConfig: 'local'};</script>\n",
              "        <script src=\"https://cdn.plot.ly/plotly-2.8.3.min.js\"></script>                <div id=\"ed314c8b-e386-42a1-875a-618c9442bec3\" class=\"plotly-graph-div\" style=\"height:525px; width:100%;\"></div>            <script type=\"text/javascript\">                                    window.PLOTLYENV=window.PLOTLYENV || {};                                    if (document.getElementById(\"ed314c8b-e386-42a1-875a-618c9442bec3\")) {                    Plotly.newPlot(                        \"ed314c8b-e386-42a1-875a-618c9442bec3\",                        [{\"mode\":\"markers\",\"name\":\"Objective Value\",\"x\":[0,1,2,3],\"y\":[0.7608263305322129,0.8026050420168067,0.79593837535014,0.7925630252100839],\"type\":\"scatter\"},{\"name\":\"Best Value\",\"x\":[0,1,2,3],\"y\":[0.7608263305322129,0.8026050420168067,0.8026050420168067,0.8026050420168067],\"type\":\"scatter\"}],                        {\"title\":{\"text\":\"Optimization History Plot\"},\"xaxis\":{\"title\":{\"text\":\"Trial\"}},\"yaxis\":{\"title\":{\"text\":\"Objective Value\"}},\"template\":{\"data\":{\"bar\":[{\"error_x\":{\"color\":\"#2a3f5f\"},\"error_y\":{\"color\":\"#2a3f5f\"},\"marker\":{\"line\":{\"color\":\"#E5ECF6\",\"width\":0.5},\"pattern\":{\"fillmode\":\"overlay\",\"size\":10,\"solidity\":0.2}},\"type\":\"bar\"}],\"barpolar\":[{\"marker\":{\"line\":{\"color\":\"#E5ECF6\",\"width\":0.5},\"pattern\":{\"fillmode\":\"overlay\",\"size\":10,\"solidity\":0.2}},\"type\":\"barpolar\"}],\"carpet\":[{\"aaxis\":{\"endlinecolor\":\"#2a3f5f\",\"gridcolor\":\"white\",\"linecolor\":\"white\",\"minorgridcolor\":\"white\",\"startlinecolor\":\"#2a3f5f\"},\"baxis\":{\"endlinecolor\":\"#2a3f5f\",\"gridcolor\":\"white\",\"linecolor\":\"white\",\"minorgridcolor\":\"white\",\"startlinecolor\":\"#2a3f5f\"},\"type\":\"carpet\"}],\"choropleth\":[{\"colorbar\":{\"outlinewidth\":0,\"ticks\":\"\"},\"type\":\"choropleth\"}],\"contour\":[{\"colorbar\":{\"outlinewidth\":0,\"ticks\":\"\"},\"colorscale\":[[0.0,\"#0d0887\"],[0.1111111111111111,\"#46039f\"],[0.2222222222222222,\"#7201a8\"],[0.3333333333333333,\"#9c179e\"],[0.4444444444444444,\"#bd3786\"],[0.5555555555555556,\"#d8576b\"],[0.6666666666666666,\"#ed7953\"],[0.7777777777777778,\"#fb9f3a\"],[0.8888888888888888,\"#fdca26\"],[1.0,\"#f0f921\"]],\"type\":\"contour\"}],\"contourcarpet\":[{\"colorbar\":{\"outlinewidth\":0,\"ticks\":\"\"},\"type\":\"contourcarpet\"}],\"heatmap\":[{\"colorbar\":{\"outlinewidth\":0,\"ticks\":\"\"},\"colorscale\":[[0.0,\"#0d0887\"],[0.1111111111111111,\"#46039f\"],[0.2222222222222222,\"#7201a8\"],[0.3333333333333333,\"#9c179e\"],[0.4444444444444444,\"#bd3786\"],[0.5555555555555556,\"#d8576b\"],[0.6666666666666666,\"#ed7953\"],[0.7777777777777778,\"#fb9f3a\"],[0.8888888888888888,\"#fdca26\"],[1.0,\"#f0f921\"]],\"type\":\"heatmap\"}],\"heatmapgl\":[{\"colorbar\":{\"outlinewidth\":0,\"ticks\":\"\"},\"colorscale\":[[0.0,\"#0d0887\"],[0.1111111111111111,\"#46039f\"],[0.2222222222222222,\"#7201a8\"],[0.3333333333333333,\"#9c179e\"],[0.4444444444444444,\"#bd3786\"],[0.5555555555555556,\"#d8576b\"],[0.6666666666666666,\"#ed7953\"],[0.7777777777777778,\"#fb9f3a\"],[0.8888888888888888,\"#fdca26\"],[1.0,\"#f0f921\"]],\"type\":\"heatmapgl\"}],\"histogram\":[{\"marker\":{\"pattern\":{\"fillmode\":\"overlay\",\"size\":10,\"solidity\":0.2}},\"type\":\"histogram\"}],\"histogram2d\":[{\"colorbar\":{\"outlinewidth\":0,\"ticks\":\"\"},\"colorscale\":[[0.0,\"#0d0887\"],[0.1111111111111111,\"#46039f\"],[0.2222222222222222,\"#7201a8\"],[0.3333333333333333,\"#9c179e\"],[0.4444444444444444,\"#bd3786\"],[0.5555555555555556,\"#d8576b\"],[0.6666666666666666,\"#ed7953\"],[0.7777777777777778,\"#fb9f3a\"],[0.8888888888888888,\"#fdca26\"],[1.0,\"#f0f921\"]],\"type\":\"histogram2d\"}],\"histogram2dcontour\":[{\"colorbar\":{\"outlinewidth\":0,\"ticks\":\"\"},\"colorscale\":[[0.0,\"#0d0887\"],[0.1111111111111111,\"#46039f\"],[0.2222222222222222,\"#7201a8\"],[0.3333333333333333,\"#9c179e\"],[0.4444444444444444,\"#bd3786\"],[0.5555555555555556,\"#d8576b\"],[0.6666666666666666,\"#ed7953\"],[0.7777777777777778,\"#fb9f3a\"],[0.8888888888888888,\"#fdca26\"],[1.0,\"#f0f921\"]],\"type\":\"histogram2dcontour\"}],\"mesh3d\":[{\"colorbar\":{\"outlinewidth\":0,\"ticks\":\"\"},\"type\":\"mesh3d\"}],\"parcoords\":[{\"line\":{\"colorbar\":{\"outlinewidth\":0,\"ticks\":\"\"}},\"type\":\"parcoords\"}],\"pie\":[{\"automargin\":true,\"type\":\"pie\"}],\"scatter\":[{\"marker\":{\"colorbar\":{\"outlinewidth\":0,\"ticks\":\"\"}},\"type\":\"scatter\"}],\"scatter3d\":[{\"line\":{\"colorbar\":{\"outlinewidth\":0,\"ticks\":\"\"}},\"marker\":{\"colorbar\":{\"outlinewidth\":0,\"ticks\":\"\"}},\"type\":\"scatter3d\"}],\"scattercarpet\":[{\"marker\":{\"colorbar\":{\"outlinewidth\":0,\"ticks\":\"\"}},\"type\":\"scattercarpet\"}],\"scattergeo\":[{\"marker\":{\"colorbar\":{\"outlinewidth\":0,\"ticks\":\"\"}},\"type\":\"scattergeo\"}],\"scattergl\":[{\"marker\":{\"colorbar\":{\"outlinewidth\":0,\"ticks\":\"\"}},\"type\":\"scattergl\"}],\"scattermapbox\":[{\"marker\":{\"colorbar\":{\"outlinewidth\":0,\"ticks\":\"\"}},\"type\":\"scattermapbox\"}],\"scatterpolar\":[{\"marker\":{\"colorbar\":{\"outlinewidth\":0,\"ticks\":\"\"}},\"type\":\"scatterpolar\"}],\"scatterpolargl\":[{\"marker\":{\"colorbar\":{\"outlinewidth\":0,\"ticks\":\"\"}},\"type\":\"scatterpolargl\"}],\"scatterternary\":[{\"marker\":{\"colorbar\":{\"outlinewidth\":0,\"ticks\":\"\"}},\"type\":\"scatterternary\"}],\"surface\":[{\"colorbar\":{\"outlinewidth\":0,\"ticks\":\"\"},\"colorscale\":[[0.0,\"#0d0887\"],[0.1111111111111111,\"#46039f\"],[0.2222222222222222,\"#7201a8\"],[0.3333333333333333,\"#9c179e\"],[0.4444444444444444,\"#bd3786\"],[0.5555555555555556,\"#d8576b\"],[0.6666666666666666,\"#ed7953\"],[0.7777777777777778,\"#fb9f3a\"],[0.8888888888888888,\"#fdca26\"],[1.0,\"#f0f921\"]],\"type\":\"surface\"}],\"table\":[{\"cells\":{\"fill\":{\"color\":\"#EBF0F8\"},\"line\":{\"color\":\"white\"}},\"header\":{\"fill\":{\"color\":\"#C8D4E3\"},\"line\":{\"color\":\"white\"}},\"type\":\"table\"}]},\"layout\":{\"annotationdefaults\":{\"arrowcolor\":\"#2a3f5f\",\"arrowhead\":0,\"arrowwidth\":1},\"autotypenumbers\":\"strict\",\"coloraxis\":{\"colorbar\":{\"outlinewidth\":0,\"ticks\":\"\"}},\"colorscale\":{\"diverging\":[[0,\"#8e0152\"],[0.1,\"#c51b7d\"],[0.2,\"#de77ae\"],[0.3,\"#f1b6da\"],[0.4,\"#fde0ef\"],[0.5,\"#f7f7f7\"],[0.6,\"#e6f5d0\"],[0.7,\"#b8e186\"],[0.8,\"#7fbc41\"],[0.9,\"#4d9221\"],[1,\"#276419\"]],\"sequential\":[[0.0,\"#0d0887\"],[0.1111111111111111,\"#46039f\"],[0.2222222222222222,\"#7201a8\"],[0.3333333333333333,\"#9c179e\"],[0.4444444444444444,\"#bd3786\"],[0.5555555555555556,\"#d8576b\"],[0.6666666666666666,\"#ed7953\"],[0.7777777777777778,\"#fb9f3a\"],[0.8888888888888888,\"#fdca26\"],[1.0,\"#f0f921\"]],\"sequentialminus\":[[0.0,\"#0d0887\"],[0.1111111111111111,\"#46039f\"],[0.2222222222222222,\"#7201a8\"],[0.3333333333333333,\"#9c179e\"],[0.4444444444444444,\"#bd3786\"],[0.5555555555555556,\"#d8576b\"],[0.6666666666666666,\"#ed7953\"],[0.7777777777777778,\"#fb9f3a\"],[0.8888888888888888,\"#fdca26\"],[1.0,\"#f0f921\"]]},\"colorway\":[\"#636efa\",\"#EF553B\",\"#00cc96\",\"#ab63fa\",\"#FFA15A\",\"#19d3f3\",\"#FF6692\",\"#B6E880\",\"#FF97FF\",\"#FECB52\"],\"font\":{\"color\":\"#2a3f5f\"},\"geo\":{\"bgcolor\":\"white\",\"lakecolor\":\"white\",\"landcolor\":\"#E5ECF6\",\"showlakes\":true,\"showland\":true,\"subunitcolor\":\"white\"},\"hoverlabel\":{\"align\":\"left\"},\"hovermode\":\"closest\",\"mapbox\":{\"style\":\"light\"},\"paper_bgcolor\":\"white\",\"plot_bgcolor\":\"#E5ECF6\",\"polar\":{\"angularaxis\":{\"gridcolor\":\"white\",\"linecolor\":\"white\",\"ticks\":\"\"},\"bgcolor\":\"#E5ECF6\",\"radialaxis\":{\"gridcolor\":\"white\",\"linecolor\":\"white\",\"ticks\":\"\"}},\"scene\":{\"xaxis\":{\"backgroundcolor\":\"#E5ECF6\",\"gridcolor\":\"white\",\"gridwidth\":2,\"linecolor\":\"white\",\"showbackground\":true,\"ticks\":\"\",\"zerolinecolor\":\"white\"},\"yaxis\":{\"backgroundcolor\":\"#E5ECF6\",\"gridcolor\":\"white\",\"gridwidth\":2,\"linecolor\":\"white\",\"showbackground\":true,\"ticks\":\"\",\"zerolinecolor\":\"white\"},\"zaxis\":{\"backgroundcolor\":\"#E5ECF6\",\"gridcolor\":\"white\",\"gridwidth\":2,\"linecolor\":\"white\",\"showbackground\":true,\"ticks\":\"\",\"zerolinecolor\":\"white\"}},\"shapedefaults\":{\"line\":{\"color\":\"#2a3f5f\"}},\"ternary\":{\"aaxis\":{\"gridcolor\":\"white\",\"linecolor\":\"white\",\"ticks\":\"\"},\"baxis\":{\"gridcolor\":\"white\",\"linecolor\":\"white\",\"ticks\":\"\"},\"bgcolor\":\"#E5ECF6\",\"caxis\":{\"gridcolor\":\"white\",\"linecolor\":\"white\",\"ticks\":\"\"}},\"title\":{\"x\":0.05},\"xaxis\":{\"automargin\":true,\"gridcolor\":\"white\",\"linecolor\":\"white\",\"ticks\":\"\",\"title\":{\"standoff\":15},\"zerolinecolor\":\"white\",\"zerolinewidth\":2},\"yaxis\":{\"automargin\":true,\"gridcolor\":\"white\",\"linecolor\":\"white\",\"ticks\":\"\",\"title\":{\"standoff\":15},\"zerolinecolor\":\"white\",\"zerolinewidth\":2}}}},                        {\"responsive\": true}                    ).then(function(){\n",
              "                            \n",
              "var gd = document.getElementById('ed314c8b-e386-42a1-875a-618c9442bec3');\n",
              "var x = new MutationObserver(function (mutations, observer) {{\n",
              "        var display = window.getComputedStyle(gd).display;\n",
              "        if (!display || display === 'none') {{\n",
              "            console.log([gd, 'removed!']);\n",
              "            Plotly.purge(gd);\n",
              "            observer.disconnect();\n",
              "        }}\n",
              "}});\n",
              "\n",
              "// Listen for the removal of the full notebook cells\n",
              "var notebookContainer = gd.closest('#notebook-container');\n",
              "if (notebookContainer) {{\n",
              "    x.observe(notebookContainer, {childList: true});\n",
              "}}\n",
              "\n",
              "// Listen for the clearing of the current output cell\n",
              "var outputEl = gd.closest('.output');\n",
              "if (outputEl) {{\n",
              "    x.observe(outputEl, {childList: true});\n",
              "}}\n",
              "\n",
              "                        })                };                            </script>        </div>\n",
              "</body>\n",
              "</html>"
            ]
          },
          "metadata": {}
        }
      ],
      "id": "eACiKQAXwMSW"
    },
    {
      "cell_type": "code",
      "source": [
        "plot_param_importances(study)"
      ],
      "metadata": {
        "colab": {
          "base_uri": "https://localhost:8080/",
          "height": 542
        },
        "id": "zumvj87hzLVy",
        "outputId": "597541cc-c22d-417a-a415-02d683e6d9ac"
      },
      "execution_count": null,
      "outputs": [
        {
          "output_type": "display_data",
          "data": {
            "text/html": [
              "<html>\n",
              "<head><meta charset=\"utf-8\" /></head>\n",
              "<body>\n",
              "    <div>            <script src=\"https://cdnjs.cloudflare.com/ajax/libs/mathjax/2.7.5/MathJax.js?config=TeX-AMS-MML_SVG\"></script><script type=\"text/javascript\">if (window.MathJax) {MathJax.Hub.Config({SVG: {font: \"STIX-Web\"}});}</script>                <script type=\"text/javascript\">window.PlotlyConfig = {MathJaxConfig: 'local'};</script>\n",
              "        <script src=\"https://cdn.plot.ly/plotly-2.8.3.min.js\"></script>                <div id=\"0bf6cffe-f3fb-42be-924d-2ada86e64567\" class=\"plotly-graph-div\" style=\"height:525px; width:100%;\"></div>            <script type=\"text/javascript\">                                    window.PLOTLYENV=window.PLOTLYENV || {};                                    if (document.getElementById(\"0bf6cffe-f3fb-42be-924d-2ada86e64567\")) {                    Plotly.newPlot(                        \"0bf6cffe-f3fb-42be-924d-2ada86e64567\",                        [{\"cliponaxis\":false,\"hovertemplate\":[\"max_depth (IntDistribution): 0.03331184353774185<extra></extra>\",\"n_estimators (IntDistribution): 0.1663937697828344<extra></extra>\",\"subsample (FloatDistribution): 0.19464272138423164<extra></extra>\",\"learning_rate (FloatDistribution): 0.23714052907803668<extra></extra>\",\"max_features (CategoricalDistribution): 0.3685111362171555<extra></extra>\"],\"marker\":{\"color\":\"rgb(66,146,198)\"},\"orientation\":\"h\",\"text\":[\"0.03\",\"0.17\",\"0.19\",\"0.24\",\"0.37\"],\"textposition\":\"outside\",\"x\":[0.03331184353774185,0.1663937697828344,0.19464272138423164,0.23714052907803668,0.3685111362171555],\"y\":[\"max_depth\",\"n_estimators\",\"subsample\",\"learning_rate\",\"max_features\"],\"type\":\"bar\"}],                        {\"showlegend\":false,\"title\":{\"text\":\"Hyperparameter Importances\"},\"xaxis\":{\"title\":{\"text\":\"Importance for Objective Value\"}},\"yaxis\":{\"title\":{\"text\":\"Hyperparameter\"}},\"template\":{\"data\":{\"bar\":[{\"error_x\":{\"color\":\"#2a3f5f\"},\"error_y\":{\"color\":\"#2a3f5f\"},\"marker\":{\"line\":{\"color\":\"#E5ECF6\",\"width\":0.5},\"pattern\":{\"fillmode\":\"overlay\",\"size\":10,\"solidity\":0.2}},\"type\":\"bar\"}],\"barpolar\":[{\"marker\":{\"line\":{\"color\":\"#E5ECF6\",\"width\":0.5},\"pattern\":{\"fillmode\":\"overlay\",\"size\":10,\"solidity\":0.2}},\"type\":\"barpolar\"}],\"carpet\":[{\"aaxis\":{\"endlinecolor\":\"#2a3f5f\",\"gridcolor\":\"white\",\"linecolor\":\"white\",\"minorgridcolor\":\"white\",\"startlinecolor\":\"#2a3f5f\"},\"baxis\":{\"endlinecolor\":\"#2a3f5f\",\"gridcolor\":\"white\",\"linecolor\":\"white\",\"minorgridcolor\":\"white\",\"startlinecolor\":\"#2a3f5f\"},\"type\":\"carpet\"}],\"choropleth\":[{\"colorbar\":{\"outlinewidth\":0,\"ticks\":\"\"},\"type\":\"choropleth\"}],\"contour\":[{\"colorbar\":{\"outlinewidth\":0,\"ticks\":\"\"},\"colorscale\":[[0.0,\"#0d0887\"],[0.1111111111111111,\"#46039f\"],[0.2222222222222222,\"#7201a8\"],[0.3333333333333333,\"#9c179e\"],[0.4444444444444444,\"#bd3786\"],[0.5555555555555556,\"#d8576b\"],[0.6666666666666666,\"#ed7953\"],[0.7777777777777778,\"#fb9f3a\"],[0.8888888888888888,\"#fdca26\"],[1.0,\"#f0f921\"]],\"type\":\"contour\"}],\"contourcarpet\":[{\"colorbar\":{\"outlinewidth\":0,\"ticks\":\"\"},\"type\":\"contourcarpet\"}],\"heatmap\":[{\"colorbar\":{\"outlinewidth\":0,\"ticks\":\"\"},\"colorscale\":[[0.0,\"#0d0887\"],[0.1111111111111111,\"#46039f\"],[0.2222222222222222,\"#7201a8\"],[0.3333333333333333,\"#9c179e\"],[0.4444444444444444,\"#bd3786\"],[0.5555555555555556,\"#d8576b\"],[0.6666666666666666,\"#ed7953\"],[0.7777777777777778,\"#fb9f3a\"],[0.8888888888888888,\"#fdca26\"],[1.0,\"#f0f921\"]],\"type\":\"heatmap\"}],\"heatmapgl\":[{\"colorbar\":{\"outlinewidth\":0,\"ticks\":\"\"},\"colorscale\":[[0.0,\"#0d0887\"],[0.1111111111111111,\"#46039f\"],[0.2222222222222222,\"#7201a8\"],[0.3333333333333333,\"#9c179e\"],[0.4444444444444444,\"#bd3786\"],[0.5555555555555556,\"#d8576b\"],[0.6666666666666666,\"#ed7953\"],[0.7777777777777778,\"#fb9f3a\"],[0.8888888888888888,\"#fdca26\"],[1.0,\"#f0f921\"]],\"type\":\"heatmapgl\"}],\"histogram\":[{\"marker\":{\"pattern\":{\"fillmode\":\"overlay\",\"size\":10,\"solidity\":0.2}},\"type\":\"histogram\"}],\"histogram2d\":[{\"colorbar\":{\"outlinewidth\":0,\"ticks\":\"\"},\"colorscale\":[[0.0,\"#0d0887\"],[0.1111111111111111,\"#46039f\"],[0.2222222222222222,\"#7201a8\"],[0.3333333333333333,\"#9c179e\"],[0.4444444444444444,\"#bd3786\"],[0.5555555555555556,\"#d8576b\"],[0.6666666666666666,\"#ed7953\"],[0.7777777777777778,\"#fb9f3a\"],[0.8888888888888888,\"#fdca26\"],[1.0,\"#f0f921\"]],\"type\":\"histogram2d\"}],\"histogram2dcontour\":[{\"colorbar\":{\"outlinewidth\":0,\"ticks\":\"\"},\"colorscale\":[[0.0,\"#0d0887\"],[0.1111111111111111,\"#46039f\"],[0.2222222222222222,\"#7201a8\"],[0.3333333333333333,\"#9c179e\"],[0.4444444444444444,\"#bd3786\"],[0.5555555555555556,\"#d8576b\"],[0.6666666666666666,\"#ed7953\"],[0.7777777777777778,\"#fb9f3a\"],[0.8888888888888888,\"#fdca26\"],[1.0,\"#f0f921\"]],\"type\":\"histogram2dcontour\"}],\"mesh3d\":[{\"colorbar\":{\"outlinewidth\":0,\"ticks\":\"\"},\"type\":\"mesh3d\"}],\"parcoords\":[{\"line\":{\"colorbar\":{\"outlinewidth\":0,\"ticks\":\"\"}},\"type\":\"parcoords\"}],\"pie\":[{\"automargin\":true,\"type\":\"pie\"}],\"scatter\":[{\"marker\":{\"colorbar\":{\"outlinewidth\":0,\"ticks\":\"\"}},\"type\":\"scatter\"}],\"scatter3d\":[{\"line\":{\"colorbar\":{\"outlinewidth\":0,\"ticks\":\"\"}},\"marker\":{\"colorbar\":{\"outlinewidth\":0,\"ticks\":\"\"}},\"type\":\"scatter3d\"}],\"scattercarpet\":[{\"marker\":{\"colorbar\":{\"outlinewidth\":0,\"ticks\":\"\"}},\"type\":\"scattercarpet\"}],\"scattergeo\":[{\"marker\":{\"colorbar\":{\"outlinewidth\":0,\"ticks\":\"\"}},\"type\":\"scattergeo\"}],\"scattergl\":[{\"marker\":{\"colorbar\":{\"outlinewidth\":0,\"ticks\":\"\"}},\"type\":\"scattergl\"}],\"scattermapbox\":[{\"marker\":{\"colorbar\":{\"outlinewidth\":0,\"ticks\":\"\"}},\"type\":\"scattermapbox\"}],\"scatterpolar\":[{\"marker\":{\"colorbar\":{\"outlinewidth\":0,\"ticks\":\"\"}},\"type\":\"scatterpolar\"}],\"scatterpolargl\":[{\"marker\":{\"colorbar\":{\"outlinewidth\":0,\"ticks\":\"\"}},\"type\":\"scatterpolargl\"}],\"scatterternary\":[{\"marker\":{\"colorbar\":{\"outlinewidth\":0,\"ticks\":\"\"}},\"type\":\"scatterternary\"}],\"surface\":[{\"colorbar\":{\"outlinewidth\":0,\"ticks\":\"\"},\"colorscale\":[[0.0,\"#0d0887\"],[0.1111111111111111,\"#46039f\"],[0.2222222222222222,\"#7201a8\"],[0.3333333333333333,\"#9c179e\"],[0.4444444444444444,\"#bd3786\"],[0.5555555555555556,\"#d8576b\"],[0.6666666666666666,\"#ed7953\"],[0.7777777777777778,\"#fb9f3a\"],[0.8888888888888888,\"#fdca26\"],[1.0,\"#f0f921\"]],\"type\":\"surface\"}],\"table\":[{\"cells\":{\"fill\":{\"color\":\"#EBF0F8\"},\"line\":{\"color\":\"white\"}},\"header\":{\"fill\":{\"color\":\"#C8D4E3\"},\"line\":{\"color\":\"white\"}},\"type\":\"table\"}]},\"layout\":{\"annotationdefaults\":{\"arrowcolor\":\"#2a3f5f\",\"arrowhead\":0,\"arrowwidth\":1},\"autotypenumbers\":\"strict\",\"coloraxis\":{\"colorbar\":{\"outlinewidth\":0,\"ticks\":\"\"}},\"colorscale\":{\"diverging\":[[0,\"#8e0152\"],[0.1,\"#c51b7d\"],[0.2,\"#de77ae\"],[0.3,\"#f1b6da\"],[0.4,\"#fde0ef\"],[0.5,\"#f7f7f7\"],[0.6,\"#e6f5d0\"],[0.7,\"#b8e186\"],[0.8,\"#7fbc41\"],[0.9,\"#4d9221\"],[1,\"#276419\"]],\"sequential\":[[0.0,\"#0d0887\"],[0.1111111111111111,\"#46039f\"],[0.2222222222222222,\"#7201a8\"],[0.3333333333333333,\"#9c179e\"],[0.4444444444444444,\"#bd3786\"],[0.5555555555555556,\"#d8576b\"],[0.6666666666666666,\"#ed7953\"],[0.7777777777777778,\"#fb9f3a\"],[0.8888888888888888,\"#fdca26\"],[1.0,\"#f0f921\"]],\"sequentialminus\":[[0.0,\"#0d0887\"],[0.1111111111111111,\"#46039f\"],[0.2222222222222222,\"#7201a8\"],[0.3333333333333333,\"#9c179e\"],[0.4444444444444444,\"#bd3786\"],[0.5555555555555556,\"#d8576b\"],[0.6666666666666666,\"#ed7953\"],[0.7777777777777778,\"#fb9f3a\"],[0.8888888888888888,\"#fdca26\"],[1.0,\"#f0f921\"]]},\"colorway\":[\"#636efa\",\"#EF553B\",\"#00cc96\",\"#ab63fa\",\"#FFA15A\",\"#19d3f3\",\"#FF6692\",\"#B6E880\",\"#FF97FF\",\"#FECB52\"],\"font\":{\"color\":\"#2a3f5f\"},\"geo\":{\"bgcolor\":\"white\",\"lakecolor\":\"white\",\"landcolor\":\"#E5ECF6\",\"showlakes\":true,\"showland\":true,\"subunitcolor\":\"white\"},\"hoverlabel\":{\"align\":\"left\"},\"hovermode\":\"closest\",\"mapbox\":{\"style\":\"light\"},\"paper_bgcolor\":\"white\",\"plot_bgcolor\":\"#E5ECF6\",\"polar\":{\"angularaxis\":{\"gridcolor\":\"white\",\"linecolor\":\"white\",\"ticks\":\"\"},\"bgcolor\":\"#E5ECF6\",\"radialaxis\":{\"gridcolor\":\"white\",\"linecolor\":\"white\",\"ticks\":\"\"}},\"scene\":{\"xaxis\":{\"backgroundcolor\":\"#E5ECF6\",\"gridcolor\":\"white\",\"gridwidth\":2,\"linecolor\":\"white\",\"showbackground\":true,\"ticks\":\"\",\"zerolinecolor\":\"white\"},\"yaxis\":{\"backgroundcolor\":\"#E5ECF6\",\"gridcolor\":\"white\",\"gridwidth\":2,\"linecolor\":\"white\",\"showbackground\":true,\"ticks\":\"\",\"zerolinecolor\":\"white\"},\"zaxis\":{\"backgroundcolor\":\"#E5ECF6\",\"gridcolor\":\"white\",\"gridwidth\":2,\"linecolor\":\"white\",\"showbackground\":true,\"ticks\":\"\",\"zerolinecolor\":\"white\"}},\"shapedefaults\":{\"line\":{\"color\":\"#2a3f5f\"}},\"ternary\":{\"aaxis\":{\"gridcolor\":\"white\",\"linecolor\":\"white\",\"ticks\":\"\"},\"baxis\":{\"gridcolor\":\"white\",\"linecolor\":\"white\",\"ticks\":\"\"},\"bgcolor\":\"#E5ECF6\",\"caxis\":{\"gridcolor\":\"white\",\"linecolor\":\"white\",\"ticks\":\"\"}},\"title\":{\"x\":0.05},\"xaxis\":{\"automargin\":true,\"gridcolor\":\"white\",\"linecolor\":\"white\",\"ticks\":\"\",\"title\":{\"standoff\":15},\"zerolinecolor\":\"white\",\"zerolinewidth\":2},\"yaxis\":{\"automargin\":true,\"gridcolor\":\"white\",\"linecolor\":\"white\",\"ticks\":\"\",\"title\":{\"standoff\":15},\"zerolinecolor\":\"white\",\"zerolinewidth\":2}}}},                        {\"responsive\": true}                    ).then(function(){\n",
              "                            \n",
              "var gd = document.getElementById('0bf6cffe-f3fb-42be-924d-2ada86e64567');\n",
              "var x = new MutationObserver(function (mutations, observer) {{\n",
              "        var display = window.getComputedStyle(gd).display;\n",
              "        if (!display || display === 'none') {{\n",
              "            console.log([gd, 'removed!']);\n",
              "            Plotly.purge(gd);\n",
              "            observer.disconnect();\n",
              "        }}\n",
              "}});\n",
              "\n",
              "// Listen for the removal of the full notebook cells\n",
              "var notebookContainer = gd.closest('#notebook-container');\n",
              "if (notebookContainer) {{\n",
              "    x.observe(notebookContainer, {childList: true});\n",
              "}}\n",
              "\n",
              "// Listen for the clearing of the current output cell\n",
              "var outputEl = gd.closest('.output');\n",
              "if (outputEl) {{\n",
              "    x.observe(outputEl, {childList: true});\n",
              "}}\n",
              "\n",
              "                        })                };                            </script>        </div>\n",
              "</body>\n",
              "</html>"
            ]
          },
          "metadata": {}
        }
      ],
      "id": "zumvj87hzLVy"
    },
    {
      "cell_type": "code",
      "execution_count": null,
      "metadata": {
        "id": "91bbd3b7",
        "colab": {
          "base_uri": "https://localhost:8080/"
        },
        "outputId": "faabe348-6338-4406-eb6f-6682773a3589"
      },
      "outputs": [
        {
          "output_type": "stream",
          "name": "stderr",
          "text": [
            "\u001b[33m[W 2023-02-25 16:04:26,811]\u001b[0m Param bootstrap_type unique value length is less than 2.\u001b[0m\n",
            "\u001b[33m[W 2023-02-25 16:04:26,813]\u001b[0m Param bootstrap_type unique value length is less than 2.\u001b[0m\n",
            "\u001b[33m[W 2023-02-25 16:04:26,815]\u001b[0m Param bootstrap_type unique value length is less than 2.\u001b[0m\n",
            "\u001b[33m[W 2023-02-25 16:04:26,816]\u001b[0m Param bootstrap_type unique value length is less than 2.\u001b[0m\n",
            "\u001b[33m[W 2023-02-25 16:04:26,817]\u001b[0m Param bootstrap_type unique value length is less than 2.\u001b[0m\n",
            "\u001b[33m[W 2023-02-25 16:04:26,819]\u001b[0m Param bootstrap_type unique value length is less than 2.\u001b[0m\n",
            "\u001b[33m[W 2023-02-25 16:04:26,820]\u001b[0m Param bootstrap_type unique value length is less than 2.\u001b[0m\n",
            "\u001b[33m[W 2023-02-25 16:04:26,821]\u001b[0m Param bootstrap_type unique value length is less than 2.\u001b[0m\n",
            "\u001b[33m[W 2023-02-25 16:04:26,822]\u001b[0m Param bootstrap_type unique value length is less than 2.\u001b[0m\n",
            "\u001b[33m[W 2023-02-25 16:04:26,824]\u001b[0m Param bootstrap_type unique value length is less than 2.\u001b[0m\n",
            "\u001b[33m[W 2023-02-25 16:04:26,826]\u001b[0m Param bootstrap_type unique value length is less than 2.\u001b[0m\n",
            "\u001b[33m[W 2023-02-25 16:04:26,827]\u001b[0m Param bootstrap_type unique value length is less than 2.\u001b[0m\n",
            "\u001b[33m[W 2023-02-25 16:04:26,835]\u001b[0m Param bootstrap_type unique value length is less than 2.\u001b[0m\n",
            "\u001b[33m[W 2023-02-25 16:04:26,836]\u001b[0m Param bootstrap_type unique value length is less than 2.\u001b[0m\n",
            "\u001b[33m[W 2023-02-25 16:04:26,838]\u001b[0m Param bootstrap_type unique value length is less than 2.\u001b[0m\n",
            "\u001b[33m[W 2023-02-25 16:04:26,840]\u001b[0m Param bootstrap_type unique value length is less than 2.\u001b[0m\n"
          ]
        },
        {
          "output_type": "display_data",
          "data": {
            "text/html": [
              "<html>\n",
              "<head><meta charset=\"utf-8\" /></head>\n",
              "<body>\n",
              "    <div>            <script src=\"https://cdnjs.cloudflare.com/ajax/libs/mathjax/2.7.5/MathJax.js?config=TeX-AMS-MML_SVG\"></script><script type=\"text/javascript\">if (window.MathJax) {MathJax.Hub.Config({SVG: {font: \"STIX-Web\"}});}</script>                <script type=\"text/javascript\">window.PlotlyConfig = {MathJaxConfig: 'local'};</script>\n",
              "        <script src=\"https://cdn.plot.ly/plotly-2.8.3.min.js\"></script>                <div id=\"eec493e0-6b36-4513-b0b7-4bb8905d91dc\" class=\"plotly-graph-div\" style=\"height:525px; width:100%;\"></div>            <script type=\"text/javascript\">                                    window.PLOTLYENV=window.PLOTLYENV || {};                                    if (document.getElementById(\"eec493e0-6b36-4513-b0b7-4bb8905d91dc\")) {                    Plotly.newPlot(                        \"eec493e0-6b36-4513-b0b7-4bb8905d91dc\",                        [{\"type\":\"scatter\",\"xaxis\":\"x\",\"yaxis\":\"y\"},{\"showscale\":true,\"type\":\"contour\",\"xaxis\":\"x10\",\"yaxis\":\"y10\"},{\"type\":\"scatter\",\"xaxis\":\"x10\",\"yaxis\":\"y10\"},{\"colorbar\":{\"title\":{\"text\":\"Objective Value\"}},\"colorscale\":[[0.0,\"rgb(247,251,255)\"],[0.125,\"rgb(222,235,247)\"],[0.25,\"rgb(198,219,239)\"],[0.375,\"rgb(158,202,225)\"],[0.5,\"rgb(107,174,214)\"],[0.625,\"rgb(66,146,198)\"],[0.75,\"rgb(33,113,181)\"],[0.875,\"rgb(8,81,156)\"],[1.0,\"rgb(8,48,107)\"]],\"connectgaps\":true,\"contours\":{\"coloring\":\"heatmap\"},\"hoverinfo\":\"none\",\"line\":{\"smoothing\":1.3},\"reversescale\":false,\"showscale\":false,\"x\":[0.07524656352317749,0.5154099595769013,0.9969436694547473,3.284222142343849,4.048176276985503,4.259563696638634,4.956375001506918,5.492683975039409,5.972208984227953,7.206905770161392,9.318677880651377,9.7588412767051],\"y\":[3.7,4,7,8,9,10,10.3],\"z\":[[null,null,null,null,null,null,null,null,null,null,null,null],[null,0.8348674780573456,null,null,null,null,null,null,null,null,0.8439223622588168,null],[null,null,null,null,0.8401540601453942,null,null,null,null,null,null,null],[null,null,null,0.8972422000310448,null,0.8467223386334689,null,0.8445549655227075,null,0.9327800596718733,null,null],[null,null,null,null,null,null,0.8488928488928488,null,null,null,null,null],[null,null,0.9054500001369071,null,null,null,null,null,0.7788687702480805,null,null,null],[null,null,null,null,null,null,null,null,null,null,null,null]],\"type\":\"contour\",\"xaxis\":\"x19\",\"yaxis\":\"y19\"},{\"marker\":{\"color\":\"black\",\"line\":{\"color\":\"Grey\",\"width\":2.0}},\"mode\":\"markers\",\"showlegend\":false,\"x\":[7.206905770161392,9.318677880651377,4.259563696638634,5.492683975039409,4.956375001506918,0.5154099595769013,3.284222142343849,0.9969436694547473,4.048176276985503,5.972208984227953],\"y\":[8,4,8,8,9,4,8,10,7,10],\"type\":\"scatter\",\"xaxis\":\"x19\",\"yaxis\":\"y19\"},{\"colorbar\":{\"title\":{\"text\":\"Objective Value\"}},\"colorscale\":[[0.0,\"rgb(247,251,255)\"],[0.125,\"rgb(222,235,247)\"],[0.25,\"rgb(198,219,239)\"],[0.375,\"rgb(158,202,225)\"],[0.5,\"rgb(107,174,214)\"],[0.625,\"rgb(66,146,198)\"],[0.75,\"rgb(33,113,181)\"],[0.875,\"rgb(8,81,156)\"],[1.0,\"rgb(8,48,107)\"]],\"connectgaps\":true,\"contours\":{\"coloring\":\"heatmap\"},\"hoverinfo\":\"none\",\"line\":{\"smoothing\":1.3},\"reversescale\":false,\"showscale\":false,\"x\":[0.07524656352317749,0.5154099595769013,0.9969436694547473,3.284222142343849,4.048176276985503,4.259563696638634,4.956375001506918,5.492683975039409,5.972208984227953,7.206905770161392,9.318677880651377,9.7588412767051],\"y\":[58.75,103,157,477,514,535,731,848,960,965,988,1032.25],\"z\":[[null,null,null,null,null,null,null,null,null,null,null,null],[null,null,null,null,null,null,null,null,0.7788687702480805,null,null,null],[null,null,null,null,0.8401540601453942,null,null,null,null,null,null,null],[null,null,null,null,null,null,null,0.8445549655227075,null,null,null,null],[null,null,null,null,null,0.8467223386334689,null,null,null,null,null,null],[null,null,null,null,null,null,null,null,null,null,0.8439223622588168,null],[null,null,null,null,null,null,0.8488928488928488,null,null,null,null,null],[null,null,null,null,null,null,null,null,null,0.9327800596718733,null,null],[null,0.8348674780573456,null,null,null,null,null,null,null,null,null,null],[null,null,null,0.8972422000310448,null,null,null,null,null,null,null,null],[null,null,0.9054500001369071,null,null,null,null,null,null,null,null,null],[null,null,null,null,null,null,null,null,null,null,null,null]],\"type\":\"contour\",\"xaxis\":\"x28\",\"yaxis\":\"y28\"},{\"marker\":{\"color\":\"black\",\"line\":{\"color\":\"Grey\",\"width\":2.0}},\"mode\":\"markers\",\"showlegend\":false,\"x\":[7.206905770161392,9.318677880651377,4.259563696638634,5.492683975039409,4.956375001506918,0.5154099595769013,3.284222142343849,0.9969436694547473,4.048176276985503,5.972208984227953],\"y\":[848,535,514,477,731,960,965,988,157,103],\"type\":\"scatter\",\"xaxis\":\"x28\",\"yaxis\":\"y28\"},{\"colorbar\":{\"title\":{\"text\":\"Objective Value\"}},\"colorscale\":[[0.0,\"rgb(247,251,255)\"],[0.125,\"rgb(222,235,247)\"],[0.25,\"rgb(198,219,239)\"],[0.375,\"rgb(158,202,225)\"],[0.5,\"rgb(107,174,214)\"],[0.625,\"rgb(66,146,198)\"],[0.75,\"rgb(33,113,181)\"],[0.875,\"rgb(8,81,156)\"],[1.0,\"rgb(8,48,107)\"]],\"connectgaps\":true,\"contours\":{\"coloring\":\"heatmap\"},\"hoverinfo\":\"none\",\"line\":{\"smoothing\":1.3},\"reversescale\":false,\"showscale\":false,\"x\":[0.07524656352317749,0.5154099595769013,0.9969436694547473,3.284222142343849,4.048176276985503,4.259563696638634,4.956375001506918,5.492683975039409,5.972208984227953,7.206905770161392,9.318677880651377,9.7588412767051],\"y\":[8.082611223563865e-09,2.177264674136021e-08,6.761650264581644e-08,3.3325618326992603e-07,5.599575546655197e-07,1.0908964647451468e-06,2.7282317266243193e-06,0.00025235896782569236,0.0009777279466462803,6.33521950951291,8.812557417717553,23.738949485104087],\"z\":[[null,null,null,null,null,null,null,null,null,null,null,null],[null,null,null,null,null,null,null,0.8445549655227075,null,null,null,null],[null,null,null,null,null,null,null,null,null,0.9327800596718733,null,null],[null,null,null,null,null,null,null,null,0.7788687702480805,null,null,null],[null,null,null,null,null,null,null,null,null,null,0.8439223622588168,null],[null,null,null,null,null,0.8467223386334689,null,null,null,null,null,null],[null,null,null,null,null,null,0.8488928488928488,null,null,null,null,null],[null,0.8348674780573456,null,null,null,null,null,null,null,null,null,null],[null,null,0.9054500001369071,null,null,null,null,null,null,null,null,null],[null,null,null,0.8972422000310448,null,null,null,null,null,null,null,null],[null,null,null,null,0.8401540601453942,null,null,null,null,null,null,null],[null,null,null,null,null,null,null,null,null,null,null,null]],\"type\":\"contour\",\"xaxis\":\"x37\",\"yaxis\":\"y37\"},{\"marker\":{\"color\":\"black\",\"line\":{\"color\":\"Grey\",\"width\":2.0}},\"mode\":\"markers\",\"showlegend\":false,\"x\":[7.206905770161392,9.318677880651377,4.259563696638634,5.492683975039409,4.956375001506918,0.5154099595769013,3.284222142343849,0.9969436694547473,4.048176276985503,5.972208984227953],\"y\":[6.761650264581644e-08,5.599575546655197e-07,1.0908964647451468e-06,2.177264674136021e-08,2.7282317266243193e-06,0.00025235896782569236,6.33521950951291,0.0009777279466462803,8.812557417717553,3.3325618326992603e-07],\"type\":\"scatter\",\"xaxis\":\"x37\",\"yaxis\":\"y37\"},{\"colorbar\":{\"title\":{\"text\":\"Objective Value\"}},\"colorscale\":[[0.0,\"rgb(247,251,255)\"],[0.125,\"rgb(222,235,247)\"],[0.25,\"rgb(198,219,239)\"],[0.375,\"rgb(158,202,225)\"],[0.5,\"rgb(107,174,214)\"],[0.625,\"rgb(66,146,198)\"],[0.75,\"rgb(33,113,181)\"],[0.875,\"rgb(8,81,156)\"],[1.0,\"rgb(8,48,107)\"]],\"connectgaps\":true,\"contours\":{\"coloring\":\"heatmap\"},\"hoverinfo\":\"none\",\"line\":{\"smoothing\":1.3},\"reversescale\":false,\"showscale\":false,\"x\":[0.07524656352317749,0.5154099595769013,0.9969436694547473,3.284222142343849,4.048176276985503,4.259563696638634,4.956375001506918,5.492683975039409,5.972208984227953,7.206905770161392,9.318677880651377,9.7588412767051],\"y\":[0.001981955138599222,0.0022686226693627966,0.0030293896771850033,0.0032457219289456093,0.0035877253620329075,0.004690262736420313,0.006024223854748645,0.013381259618535256,0.015862991717362624,0.030969090455030726,0.033816699350768205,0.03870790476337423],\"z\":[[null,null,null,null,null,null,null,null,null,null,null,null],[null,0.8348674780573456,null,null,null,null,null,null,null,null,null,null],[null,null,null,null,null,null,0.8488928488928488,null,null,null,null,null],[null,null,null,null,null,null,null,null,0.7788687702480805,null,null,null],[null,null,0.9054500001369071,null,null,null,null,null,null,null,null,null],[null,null,null,null,null,0.8467223386334689,null,null,null,null,null,null],[null,null,null,null,null,null,null,0.8445549655227075,null,null,null,null],[null,null,null,0.8972422000310448,null,null,null,null,null,null,null,null],[null,null,null,null,null,null,null,null,null,null,0.8439223622588168,null],[null,null,null,null,null,null,null,null,null,0.9327800596718733,null,null],[null,null,null,null,0.8401540601453942,null,null,null,null,null,null,null],[null,null,null,null,null,null,null,null,null,null,null,null]],\"type\":\"contour\",\"xaxis\":\"x46\",\"yaxis\":\"y46\"},{\"marker\":{\"color\":\"black\",\"line\":{\"color\":\"Grey\",\"width\":2.0}},\"mode\":\"markers\",\"showlegend\":false,\"x\":[7.206905770161392,9.318677880651377,4.259563696638634,5.492683975039409,4.956375001506918,0.5154099595769013,3.284222142343849,0.9969436694547473,4.048176276985503,5.972208984227953],\"y\":[0.030969090455030726,0.015862991717362624,0.004690262736420313,0.006024223854748645,0.0030293896771850033,0.0022686226693627966,0.013381259618535256,0.0035877253620329075,0.033816699350768205,0.0032457219289456093],\"type\":\"scatter\",\"xaxis\":\"x46\",\"yaxis\":\"y46\"},{\"colorbar\":{\"title\":{\"text\":\"Objective Value\"}},\"colorscale\":[[0.0,\"rgb(247,251,255)\"],[0.125,\"rgb(222,235,247)\"],[0.25,\"rgb(198,219,239)\"],[0.375,\"rgb(158,202,225)\"],[0.5,\"rgb(107,174,214)\"],[0.625,\"rgb(66,146,198)\"],[0.75,\"rgb(33,113,181)\"],[0.875,\"rgb(8,81,156)\"],[1.0,\"rgb(8,48,107)\"]],\"connectgaps\":true,\"contours\":{\"coloring\":\"heatmap\"},\"hoverinfo\":\"none\",\"line\":{\"smoothing\":1.3},\"reversescale\":false,\"showscale\":false,\"x\":[0.07524656352317749,0.5154099595769013,0.9969436694547473,3.284222142343849,4.048176276985503,4.259563696638634,4.956375001506918,5.492683975039409,5.972208984227953,7.206905770161392,9.318677880651377,9.7588412767051],\"y\":[\"IncToDec\",\"Iter\"],\"z\":[[null,0.8348674780573456,0.9054500001369071,0.8972422000310448,null,null,0.8488928488928488,null,0.7788687702480805,0.9327800596718733,null,null],[null,null,null,null,0.8401540601453942,0.8467223386334689,null,0.8445549655227075,null,null,0.8439223622588168,null]],\"type\":\"contour\",\"xaxis\":\"x55\",\"yaxis\":\"y55\"},{\"marker\":{\"color\":\"black\",\"line\":{\"color\":\"Grey\",\"width\":2.0}},\"mode\":\"markers\",\"showlegend\":false,\"x\":[7.206905770161392,9.318677880651377,4.259563696638634,5.492683975039409,4.956375001506918,0.5154099595769013,3.284222142343849,0.9969436694547473,4.048176276985503,5.972208984227953],\"y\":[\"IncToDec\",\"Iter\",\"Iter\",\"Iter\",\"IncToDec\",\"IncToDec\",\"IncToDec\",\"IncToDec\",\"Iter\",\"IncToDec\"],\"type\":\"scatter\",\"xaxis\":\"x55\",\"yaxis\":\"y55\"},{\"colorbar\":{\"title\":{\"text\":\"Objective Value\"}},\"colorscale\":[[0.0,\"rgb(247,251,255)\"],[0.125,\"rgb(222,235,247)\"],[0.25,\"rgb(198,219,239)\"],[0.375,\"rgb(158,202,225)\"],[0.5,\"rgb(107,174,214)\"],[0.625,\"rgb(66,146,198)\"],[0.75,\"rgb(33,113,181)\"],[0.875,\"rgb(8,81,156)\"],[1.0,\"rgb(8,48,107)\"]],\"connectgaps\":true,\"contours\":{\"coloring\":\"heatmap\"},\"hoverinfo\":\"none\",\"line\":{\"smoothing\":1.3},\"reversescale\":false,\"showscale\":false,\"x\":[0.07524656352317749,0.5154099595769013,0.9969436694547473,3.284222142343849,4.048176276985503,4.259563696638634,4.956375001506918,5.492683975039409,5.972208984227953,7.206905770161392,9.318677880651377,9.7588412767051],\"y\":[10.15,12,13,31,32,33,34,37,41,49,50.85],\"z\":[[null,null,null,null,null,null,null,null,null,null,null,null],[null,null,0.9054500001369071,null,null,null,null,null,null,null,null,null],[null,null,null,null,null,0.8467223386334689,null,null,null,null,null,null],[null,null,null,0.8972422000310448,null,null,0.8488928488928488,null,null,null,null,null],[null,null,null,null,null,null,null,null,0.7788687702480805,null,null,null],[null,null,null,null,null,null,null,0.8445549655227075,null,null,null,null],[null,0.8348674780573456,null,null,null,null,null,null,null,null,null,null],[null,null,null,null,0.8401540601453942,null,null,null,null,null,null,null],[null,null,null,null,null,null,null,null,null,null,0.8439223622588168,null],[null,null,null,null,null,null,null,null,null,0.9327800596718733,null,null],[null,null,null,null,null,null,null,null,null,null,null,null]],\"type\":\"contour\",\"xaxis\":\"x64\",\"yaxis\":\"y64\"},{\"marker\":{\"color\":\"black\",\"line\":{\"color\":\"Grey\",\"width\":2.0}},\"mode\":\"markers\",\"showlegend\":false,\"x\":[7.206905770161392,9.318677880651377,4.259563696638634,5.492683975039409,4.956375001506918,0.5154099595769013,3.284222142343849,0.9969436694547473,4.048176276985503,5.972208984227953],\"y\":[49,41,13,33,31,34,31,12,37,32],\"type\":\"scatter\",\"xaxis\":\"x64\",\"yaxis\":\"y64\"},{\"colorbar\":{\"title\":{\"text\":\"Objective Value\"}},\"colorscale\":[[0.0,\"rgb(247,251,255)\"],[0.125,\"rgb(222,235,247)\"],[0.25,\"rgb(198,219,239)\"],[0.375,\"rgb(158,202,225)\"],[0.5,\"rgb(107,174,214)\"],[0.625,\"rgb(66,146,198)\"],[0.75,\"rgb(33,113,181)\"],[0.875,\"rgb(8,81,156)\"],[1.0,\"rgb(8,48,107)\"]],\"connectgaps\":true,\"contours\":{\"coloring\":\"heatmap\"},\"hoverinfo\":\"none\",\"line\":{\"smoothing\":1.3},\"reversescale\":false,\"showscale\":false,\"x\":[0.07524656352317749,0.5154099595769013,0.9969436694547473,3.284222142343849,4.048176276985503,4.259563696638634,4.956375001506918,5.492683975039409,5.972208984227953,7.206905770161392,9.318677880651377,9.7588412767051],\"y\":[2.1851611558333197e-08,5.0276120927543057e-08,5.902084180004718e-08,5.097812627692342e-07,1.5025222370910506e-06,0.05864628791691267,0.07344055855215284,0.08427068937969223,0.22660775778981115,0.3417588548444093,0.8688155202255399,1.9989680871810873],\"z\":[[null,null,null,null,null,null,null,null,null,null,null,null],[null,null,null,null,0.8401540601453942,null,null,null,null,null,null,null],[null,null,null,null,null,null,null,null,0.7788687702480805,null,null,null],[null,null,null,null,null,null,null,null,null,0.9327800596718733,null,null],[null,null,0.9054500001369071,null,null,null,null,null,null,null,null,null],[null,null,null,null,null,0.8467223386334689,null,null,null,null,null,null],[null,0.8348674780573456,null,null,null,null,null,null,null,null,null,null],[null,null,null,null,null,null,null,null,null,null,0.8439223622588168,null],[null,null,null,null,null,null,0.8488928488928488,null,null,null,null,null],[null,null,null,0.8972422000310448,null,null,null,null,null,null,null,null],[null,null,null,null,null,null,null,0.8445549655227075,null,null,null,null],[null,null,null,null,null,null,null,null,null,null,null,null]],\"type\":\"contour\",\"xaxis\":\"x73\",\"yaxis\":\"y73\"},{\"marker\":{\"color\":\"black\",\"line\":{\"color\":\"Grey\",\"width\":2.0}},\"mode\":\"markers\",\"showlegend\":false,\"x\":[7.206905770161392,9.318677880651377,4.259563696638634,5.492683975039409,4.956375001506918,0.5154099595769013,3.284222142343849,0.9969436694547473,4.048176276985503,5.972208984227953],\"y\":[5.097812627692342e-07,0.08427068937969223,0.05864628791691267,0.8688155202255399,0.22660775778981115,0.07344055855215284,0.3417588548444093,1.5025222370910506e-06,5.0276120927543057e-08,5.902084180004718e-08],\"type\":\"scatter\",\"xaxis\":\"x73\",\"yaxis\":\"y73\"},{\"showscale\":false,\"type\":\"contour\",\"xaxis\":\"x2\",\"yaxis\":\"y2\"},{\"type\":\"scatter\",\"xaxis\":\"x2\",\"yaxis\":\"y2\"},{\"type\":\"scatter\",\"xaxis\":\"x11\",\"yaxis\":\"y11\"},{\"showscale\":false,\"type\":\"contour\",\"xaxis\":\"x20\",\"yaxis\":\"y20\"},{\"type\":\"scatter\",\"xaxis\":\"x20\",\"yaxis\":\"y20\"},{\"showscale\":false,\"type\":\"contour\",\"xaxis\":\"x29\",\"yaxis\":\"y29\"},{\"type\":\"scatter\",\"xaxis\":\"x29\",\"yaxis\":\"y29\"},{\"showscale\":false,\"type\":\"contour\",\"xaxis\":\"x38\",\"yaxis\":\"y38\"},{\"type\":\"scatter\",\"xaxis\":\"x38\",\"yaxis\":\"y38\"},{\"showscale\":false,\"type\":\"contour\",\"xaxis\":\"x47\",\"yaxis\":\"y47\"},{\"type\":\"scatter\",\"xaxis\":\"x47\",\"yaxis\":\"y47\"},{\"showscale\":false,\"type\":\"contour\",\"xaxis\":\"x56\",\"yaxis\":\"y56\"},{\"type\":\"scatter\",\"xaxis\":\"x56\",\"yaxis\":\"y56\"},{\"showscale\":false,\"type\":\"contour\",\"xaxis\":\"x65\",\"yaxis\":\"y65\"},{\"type\":\"scatter\",\"xaxis\":\"x65\",\"yaxis\":\"y65\"},{\"showscale\":false,\"type\":\"contour\",\"xaxis\":\"x74\",\"yaxis\":\"y74\"},{\"type\":\"scatter\",\"xaxis\":\"x74\",\"yaxis\":\"y74\"},{\"colorbar\":{\"title\":{\"text\":\"Objective Value\"}},\"colorscale\":[[0.0,\"rgb(247,251,255)\"],[0.125,\"rgb(222,235,247)\"],[0.25,\"rgb(198,219,239)\"],[0.375,\"rgb(158,202,225)\"],[0.5,\"rgb(107,174,214)\"],[0.625,\"rgb(66,146,198)\"],[0.75,\"rgb(33,113,181)\"],[0.875,\"rgb(8,81,156)\"],[1.0,\"rgb(8,48,107)\"]],\"connectgaps\":true,\"contours\":{\"coloring\":\"heatmap\"},\"hoverinfo\":\"none\",\"line\":{\"smoothing\":1.3},\"reversescale\":false,\"showscale\":false,\"x\":[3.7,4,7,8,9,10,10.3],\"y\":[0.07524656352317749,0.5154099595769013,0.9969436694547473,3.284222142343849,4.048176276985503,4.259563696638634,4.956375001506918,5.492683975039409,5.972208984227953,7.206905770161392,9.318677880651377,9.7588412767051],\"z\":[[null,null,null,null,null,null,null],[null,0.8348674780573456,null,null,null,null,null],[null,null,null,null,null,0.9054500001369071,null],[null,null,null,0.8972422000310448,null,null,null],[null,null,0.8401540601453942,null,null,null,null],[null,null,null,0.8467223386334689,null,null,null],[null,null,null,null,0.8488928488928488,null,null],[null,null,null,0.8445549655227075,null,null,null],[null,null,null,null,null,0.7788687702480805,null],[null,null,null,0.9327800596718733,null,null,null],[null,0.8439223622588168,null,null,null,null,null],[null,null,null,null,null,null,null]],\"type\":\"contour\",\"xaxis\":\"x3\",\"yaxis\":\"y3\"},{\"marker\":{\"color\":\"black\",\"line\":{\"color\":\"Grey\",\"width\":2.0}},\"mode\":\"markers\",\"showlegend\":false,\"x\":[8,4,8,8,9,4,8,10,7,10],\"y\":[7.206905770161392,9.318677880651377,4.259563696638634,5.492683975039409,4.956375001506918,0.5154099595769013,3.284222142343849,0.9969436694547473,4.048176276985503,5.972208984227953],\"type\":\"scatter\",\"xaxis\":\"x3\",\"yaxis\":\"y3\"},{\"showscale\":false,\"type\":\"contour\",\"xaxis\":\"x12\",\"yaxis\":\"y12\"},{\"type\":\"scatter\",\"xaxis\":\"x12\",\"yaxis\":\"y12\"},{\"type\":\"scatter\",\"xaxis\":\"x21\",\"yaxis\":\"y21\"},{\"colorbar\":{\"title\":{\"text\":\"Objective Value\"}},\"colorscale\":[[0.0,\"rgb(247,251,255)\"],[0.125,\"rgb(222,235,247)\"],[0.25,\"rgb(198,219,239)\"],[0.375,\"rgb(158,202,225)\"],[0.5,\"rgb(107,174,214)\"],[0.625,\"rgb(66,146,198)\"],[0.75,\"rgb(33,113,181)\"],[0.875,\"rgb(8,81,156)\"],[1.0,\"rgb(8,48,107)\"]],\"connectgaps\":true,\"contours\":{\"coloring\":\"heatmap\"},\"hoverinfo\":\"none\",\"line\":{\"smoothing\":1.3},\"reversescale\":false,\"showscale\":false,\"x\":[3.7,4,7,8,9,10,10.3],\"y\":[58.75,103,157,477,514,535,731,848,960,965,988,1032.25],\"z\":[[null,null,null,null,null,null,null],[null,null,null,null,null,0.7788687702480805,null],[null,null,0.8401540601453942,null,null,null,null],[null,null,null,0.8445549655227075,null,null,null],[null,null,null,0.8467223386334689,null,null,null],[null,0.8439223622588168,null,null,null,null,null],[null,null,null,null,0.8488928488928488,null,null],[null,null,null,0.9327800596718733,null,null,null],[null,0.8348674780573456,null,null,null,null,null],[null,null,null,0.8972422000310448,null,null,null],[null,null,null,null,null,0.9054500001369071,null],[null,null,null,null,null,null,null]],\"type\":\"contour\",\"xaxis\":\"x30\",\"yaxis\":\"y30\"},{\"marker\":{\"color\":\"black\",\"line\":{\"color\":\"Grey\",\"width\":2.0}},\"mode\":\"markers\",\"showlegend\":false,\"x\":[8,4,8,8,9,4,8,10,7,10],\"y\":[848,535,514,477,731,960,965,988,157,103],\"type\":\"scatter\",\"xaxis\":\"x30\",\"yaxis\":\"y30\"},{\"colorbar\":{\"title\":{\"text\":\"Objective Value\"}},\"colorscale\":[[0.0,\"rgb(247,251,255)\"],[0.125,\"rgb(222,235,247)\"],[0.25,\"rgb(198,219,239)\"],[0.375,\"rgb(158,202,225)\"],[0.5,\"rgb(107,174,214)\"],[0.625,\"rgb(66,146,198)\"],[0.75,\"rgb(33,113,181)\"],[0.875,\"rgb(8,81,156)\"],[1.0,\"rgb(8,48,107)\"]],\"connectgaps\":true,\"contours\":{\"coloring\":\"heatmap\"},\"hoverinfo\":\"none\",\"line\":{\"smoothing\":1.3},\"reversescale\":false,\"showscale\":false,\"x\":[3.7,4,7,8,9,10,10.3],\"y\":[8.082611223563865e-09,2.177264674136021e-08,6.761650264581644e-08,3.3325618326992603e-07,5.599575546655197e-07,1.0908964647451468e-06,2.7282317266243193e-06,0.00025235896782569236,0.0009777279466462803,6.33521950951291,8.812557417717553,23.738949485104087],\"z\":[[null,null,null,null,null,null,null],[null,null,null,0.8445549655227075,null,null,null],[null,null,null,0.9327800596718733,null,null,null],[null,null,null,null,null,0.7788687702480805,null],[null,0.8439223622588168,null,null,null,null,null],[null,null,null,0.8467223386334689,null,null,null],[null,null,null,null,0.8488928488928488,null,null],[null,0.8348674780573456,null,null,null,null,null],[null,null,null,null,null,0.9054500001369071,null],[null,null,null,0.8972422000310448,null,null,null],[null,null,0.8401540601453942,null,null,null,null],[null,null,null,null,null,null,null]],\"type\":\"contour\",\"xaxis\":\"x39\",\"yaxis\":\"y39\"},{\"marker\":{\"color\":\"black\",\"line\":{\"color\":\"Grey\",\"width\":2.0}},\"mode\":\"markers\",\"showlegend\":false,\"x\":[8,4,8,8,9,4,8,10,7,10],\"y\":[6.761650264581644e-08,5.599575546655197e-07,1.0908964647451468e-06,2.177264674136021e-08,2.7282317266243193e-06,0.00025235896782569236,6.33521950951291,0.0009777279466462803,8.812557417717553,3.3325618326992603e-07],\"type\":\"scatter\",\"xaxis\":\"x39\",\"yaxis\":\"y39\"},{\"colorbar\":{\"title\":{\"text\":\"Objective Value\"}},\"colorscale\":[[0.0,\"rgb(247,251,255)\"],[0.125,\"rgb(222,235,247)\"],[0.25,\"rgb(198,219,239)\"],[0.375,\"rgb(158,202,225)\"],[0.5,\"rgb(107,174,214)\"],[0.625,\"rgb(66,146,198)\"],[0.75,\"rgb(33,113,181)\"],[0.875,\"rgb(8,81,156)\"],[1.0,\"rgb(8,48,107)\"]],\"connectgaps\":true,\"contours\":{\"coloring\":\"heatmap\"},\"hoverinfo\":\"none\",\"line\":{\"smoothing\":1.3},\"reversescale\":false,\"showscale\":false,\"x\":[3.7,4,7,8,9,10,10.3],\"y\":[0.001981955138599222,0.0022686226693627966,0.0030293896771850033,0.0032457219289456093,0.0035877253620329075,0.004690262736420313,0.006024223854748645,0.013381259618535256,0.015862991717362624,0.030969090455030726,0.033816699350768205,0.03870790476337423],\"z\":[[null,null,null,null,null,null,null],[null,0.8348674780573456,null,null,null,null,null],[null,null,null,null,0.8488928488928488,null,null],[null,null,null,null,null,0.7788687702480805,null],[null,null,null,null,null,0.9054500001369071,null],[null,null,null,0.8467223386334689,null,null,null],[null,null,null,0.8445549655227075,null,null,null],[null,null,null,0.8972422000310448,null,null,null],[null,0.8439223622588168,null,null,null,null,null],[null,null,null,0.9327800596718733,null,null,null],[null,null,0.8401540601453942,null,null,null,null],[null,null,null,null,null,null,null]],\"type\":\"contour\",\"xaxis\":\"x48\",\"yaxis\":\"y48\"},{\"marker\":{\"color\":\"black\",\"line\":{\"color\":\"Grey\",\"width\":2.0}},\"mode\":\"markers\",\"showlegend\":false,\"x\":[8,4,8,8,9,4,8,10,7,10],\"y\":[0.030969090455030726,0.015862991717362624,0.004690262736420313,0.006024223854748645,0.0030293896771850033,0.0022686226693627966,0.013381259618535256,0.0035877253620329075,0.033816699350768205,0.0032457219289456093],\"type\":\"scatter\",\"xaxis\":\"x48\",\"yaxis\":\"y48\"},{\"colorbar\":{\"title\":{\"text\":\"Objective Value\"}},\"colorscale\":[[0.0,\"rgb(247,251,255)\"],[0.125,\"rgb(222,235,247)\"],[0.25,\"rgb(198,219,239)\"],[0.375,\"rgb(158,202,225)\"],[0.5,\"rgb(107,174,214)\"],[0.625,\"rgb(66,146,198)\"],[0.75,\"rgb(33,113,181)\"],[0.875,\"rgb(8,81,156)\"],[1.0,\"rgb(8,48,107)\"]],\"connectgaps\":true,\"contours\":{\"coloring\":\"heatmap\"},\"hoverinfo\":\"none\",\"line\":{\"smoothing\":1.3},\"reversescale\":false,\"showscale\":false,\"x\":[3.7,4,7,8,9,10,10.3],\"y\":[\"IncToDec\",\"Iter\"],\"z\":[[null,0.8348674780573456,null,0.8972422000310448,0.8488928488928488,0.7788687702480805,null],[null,0.8439223622588168,0.8401540601453942,0.8445549655227075,null,null,null]],\"type\":\"contour\",\"xaxis\":\"x57\",\"yaxis\":\"y57\"},{\"marker\":{\"color\":\"black\",\"line\":{\"color\":\"Grey\",\"width\":2.0}},\"mode\":\"markers\",\"showlegend\":false,\"x\":[8,4,8,8,9,4,8,10,7,10],\"y\":[\"IncToDec\",\"Iter\",\"Iter\",\"Iter\",\"IncToDec\",\"IncToDec\",\"IncToDec\",\"IncToDec\",\"Iter\",\"IncToDec\"],\"type\":\"scatter\",\"xaxis\":\"x57\",\"yaxis\":\"y57\"},{\"colorbar\":{\"title\":{\"text\":\"Objective Value\"}},\"colorscale\":[[0.0,\"rgb(247,251,255)\"],[0.125,\"rgb(222,235,247)\"],[0.25,\"rgb(198,219,239)\"],[0.375,\"rgb(158,202,225)\"],[0.5,\"rgb(107,174,214)\"],[0.625,\"rgb(66,146,198)\"],[0.75,\"rgb(33,113,181)\"],[0.875,\"rgb(8,81,156)\"],[1.0,\"rgb(8,48,107)\"]],\"connectgaps\":true,\"contours\":{\"coloring\":\"heatmap\"},\"hoverinfo\":\"none\",\"line\":{\"smoothing\":1.3},\"reversescale\":false,\"showscale\":false,\"x\":[3.7,4,7,8,9,10,10.3],\"y\":[10.15,12,13,31,32,33,34,37,41,49,50.85],\"z\":[[null,null,null,null,null,null,null],[null,null,null,null,null,0.9054500001369071,null],[null,null,null,0.8467223386334689,null,null,null],[null,null,null,0.8972422000310448,0.8488928488928488,null,null],[null,null,null,null,null,0.7788687702480805,null],[null,null,null,0.8445549655227075,null,null,null],[null,0.8348674780573456,null,null,null,null,null],[null,null,0.8401540601453942,null,null,null,null],[null,0.8439223622588168,null,null,null,null,null],[null,null,null,0.9327800596718733,null,null,null],[null,null,null,null,null,null,null]],\"type\":\"contour\",\"xaxis\":\"x66\",\"yaxis\":\"y66\"},{\"marker\":{\"color\":\"black\",\"line\":{\"color\":\"Grey\",\"width\":2.0}},\"mode\":\"markers\",\"showlegend\":false,\"x\":[8,4,8,8,9,4,8,10,7,10],\"y\":[49,41,13,33,31,34,31,12,37,32],\"type\":\"scatter\",\"xaxis\":\"x66\",\"yaxis\":\"y66\"},{\"colorbar\":{\"title\":{\"text\":\"Objective Value\"}},\"colorscale\":[[0.0,\"rgb(247,251,255)\"],[0.125,\"rgb(222,235,247)\"],[0.25,\"rgb(198,219,239)\"],[0.375,\"rgb(158,202,225)\"],[0.5,\"rgb(107,174,214)\"],[0.625,\"rgb(66,146,198)\"],[0.75,\"rgb(33,113,181)\"],[0.875,\"rgb(8,81,156)\"],[1.0,\"rgb(8,48,107)\"]],\"connectgaps\":true,\"contours\":{\"coloring\":\"heatmap\"},\"hoverinfo\":\"none\",\"line\":{\"smoothing\":1.3},\"reversescale\":false,\"showscale\":false,\"x\":[3.7,4,7,8,9,10,10.3],\"y\":[2.1851611558333197e-08,5.0276120927543057e-08,5.902084180004718e-08,5.097812627692342e-07,1.5025222370910506e-06,0.05864628791691267,0.07344055855215284,0.08427068937969223,0.22660775778981115,0.3417588548444093,0.8688155202255399,1.9989680871810873],\"z\":[[null,null,null,null,null,null,null],[null,null,0.8401540601453942,null,null,null,null],[null,null,null,null,null,0.7788687702480805,null],[null,null,null,0.9327800596718733,null,null,null],[null,null,null,null,null,0.9054500001369071,null],[null,null,null,0.8467223386334689,null,null,null],[null,0.8348674780573456,null,null,null,null,null],[null,0.8439223622588168,null,null,null,null,null],[null,null,null,null,0.8488928488928488,null,null],[null,null,null,0.8972422000310448,null,null,null],[null,null,null,0.8445549655227075,null,null,null],[null,null,null,null,null,null,null]],\"type\":\"contour\",\"xaxis\":\"x75\",\"yaxis\":\"y75\"},{\"marker\":{\"color\":\"black\",\"line\":{\"color\":\"Grey\",\"width\":2.0}},\"mode\":\"markers\",\"showlegend\":false,\"x\":[8,4,8,8,9,4,8,10,7,10],\"y\":[5.097812627692342e-07,0.08427068937969223,0.05864628791691267,0.8688155202255399,0.22660775778981115,0.07344055855215284,0.3417588548444093,1.5025222370910506e-06,5.0276120927543057e-08,5.902084180004718e-08],\"type\":\"scatter\",\"xaxis\":\"x75\",\"yaxis\":\"y75\"},{\"colorbar\":{\"title\":{\"text\":\"Objective Value\"}},\"colorscale\":[[0.0,\"rgb(247,251,255)\"],[0.125,\"rgb(222,235,247)\"],[0.25,\"rgb(198,219,239)\"],[0.375,\"rgb(158,202,225)\"],[0.5,\"rgb(107,174,214)\"],[0.625,\"rgb(66,146,198)\"],[0.75,\"rgb(33,113,181)\"],[0.875,\"rgb(8,81,156)\"],[1.0,\"rgb(8,48,107)\"]],\"connectgaps\":true,\"contours\":{\"coloring\":\"heatmap\"},\"hoverinfo\":\"none\",\"line\":{\"smoothing\":1.3},\"reversescale\":false,\"showscale\":false,\"x\":[58.75,103,157,477,514,535,731,848,960,965,988,1032.25],\"y\":[0.07524656352317749,0.5154099595769013,0.9969436694547473,3.284222142343849,4.048176276985503,4.259563696638634,4.956375001506918,5.492683975039409,5.972208984227953,7.206905770161392,9.318677880651377,9.7588412767051],\"z\":[[null,null,null,null,null,null,null,null,null,null,null,null],[null,null,null,null,null,null,null,null,0.8348674780573456,null,null,null],[null,null,null,null,null,null,null,null,null,null,0.9054500001369071,null],[null,null,null,null,null,null,null,null,null,0.8972422000310448,null,null],[null,null,0.8401540601453942,null,null,null,null,null,null,null,null,null],[null,null,null,null,0.8467223386334689,null,null,null,null,null,null,null],[null,null,null,null,null,null,0.8488928488928488,null,null,null,null,null],[null,null,null,0.8445549655227075,null,null,null,null,null,null,null,null],[null,0.7788687702480805,null,null,null,null,null,null,null,null,null,null],[null,null,null,null,null,null,null,0.9327800596718733,null,null,null,null],[null,null,null,null,null,0.8439223622588168,null,null,null,null,null,null],[null,null,null,null,null,null,null,null,null,null,null,null]],\"type\":\"contour\",\"xaxis\":\"x4\",\"yaxis\":\"y4\"},{\"marker\":{\"color\":\"black\",\"line\":{\"color\":\"Grey\",\"width\":2.0}},\"mode\":\"markers\",\"showlegend\":false,\"x\":[848,535,514,477,731,960,965,988,157,103],\"y\":[7.206905770161392,9.318677880651377,4.259563696638634,5.492683975039409,4.956375001506918,0.5154099595769013,3.284222142343849,0.9969436694547473,4.048176276985503,5.972208984227953],\"type\":\"scatter\",\"xaxis\":\"x4\",\"yaxis\":\"y4\"},{\"showscale\":false,\"type\":\"contour\",\"xaxis\":\"x13\",\"yaxis\":\"y13\"},{\"type\":\"scatter\",\"xaxis\":\"x13\",\"yaxis\":\"y13\"},{\"colorbar\":{\"title\":{\"text\":\"Objective Value\"}},\"colorscale\":[[0.0,\"rgb(247,251,255)\"],[0.125,\"rgb(222,235,247)\"],[0.25,\"rgb(198,219,239)\"],[0.375,\"rgb(158,202,225)\"],[0.5,\"rgb(107,174,214)\"],[0.625,\"rgb(66,146,198)\"],[0.75,\"rgb(33,113,181)\"],[0.875,\"rgb(8,81,156)\"],[1.0,\"rgb(8,48,107)\"]],\"connectgaps\":true,\"contours\":{\"coloring\":\"heatmap\"},\"hoverinfo\":\"none\",\"line\":{\"smoothing\":1.3},\"reversescale\":false,\"showscale\":false,\"x\":[58.75,103,157,477,514,535,731,848,960,965,988,1032.25],\"y\":[3.7,4,7,8,9,10,10.3],\"z\":[[null,null,null,null,null,null,null,null,null,null,null,null],[null,null,null,null,null,0.8439223622588168,null,null,0.8348674780573456,null,null,null],[null,null,0.8401540601453942,null,null,null,null,null,null,null,null,null],[null,null,null,0.8445549655227075,0.8467223386334689,null,null,0.9327800596718733,null,0.8972422000310448,null,null],[null,null,null,null,null,null,0.8488928488928488,null,null,null,null,null],[null,0.7788687702480805,null,null,null,null,null,null,null,null,0.9054500001369071,null],[null,null,null,null,null,null,null,null,null,null,null,null]],\"type\":\"contour\",\"xaxis\":\"x22\",\"yaxis\":\"y22\"},{\"marker\":{\"color\":\"black\",\"line\":{\"color\":\"Grey\",\"width\":2.0}},\"mode\":\"markers\",\"showlegend\":false,\"x\":[848,535,514,477,731,960,965,988,157,103],\"y\":[8,4,8,8,9,4,8,10,7,10],\"type\":\"scatter\",\"xaxis\":\"x22\",\"yaxis\":\"y22\"},{\"type\":\"scatter\",\"xaxis\":\"x31\",\"yaxis\":\"y31\"},{\"colorbar\":{\"title\":{\"text\":\"Objective Value\"}},\"colorscale\":[[0.0,\"rgb(247,251,255)\"],[0.125,\"rgb(222,235,247)\"],[0.25,\"rgb(198,219,239)\"],[0.375,\"rgb(158,202,225)\"],[0.5,\"rgb(107,174,214)\"],[0.625,\"rgb(66,146,198)\"],[0.75,\"rgb(33,113,181)\"],[0.875,\"rgb(8,81,156)\"],[1.0,\"rgb(8,48,107)\"]],\"connectgaps\":true,\"contours\":{\"coloring\":\"heatmap\"},\"hoverinfo\":\"none\",\"line\":{\"smoothing\":1.3},\"reversescale\":false,\"showscale\":false,\"x\":[58.75,103,157,477,514,535,731,848,960,965,988,1032.25],\"y\":[8.082611223563865e-09,2.177264674136021e-08,6.761650264581644e-08,3.3325618326992603e-07,5.599575546655197e-07,1.0908964647451468e-06,2.7282317266243193e-06,0.00025235896782569236,0.0009777279466462803,6.33521950951291,8.812557417717553,23.738949485104087],\"z\":[[null,null,null,null,null,null,null,null,null,null,null,null],[null,null,null,0.8445549655227075,null,null,null,null,null,null,null,null],[null,null,null,null,null,null,null,0.9327800596718733,null,null,null,null],[null,0.7788687702480805,null,null,null,null,null,null,null,null,null,null],[null,null,null,null,null,0.8439223622588168,null,null,null,null,null,null],[null,null,null,null,0.8467223386334689,null,null,null,null,null,null,null],[null,null,null,null,null,null,0.8488928488928488,null,null,null,null,null],[null,null,null,null,null,null,null,null,0.8348674780573456,null,null,null],[null,null,null,null,null,null,null,null,null,null,0.9054500001369071,null],[null,null,null,null,null,null,null,null,null,0.8972422000310448,null,null],[null,null,0.8401540601453942,null,null,null,null,null,null,null,null,null],[null,null,null,null,null,null,null,null,null,null,null,null]],\"type\":\"contour\",\"xaxis\":\"x40\",\"yaxis\":\"y40\"},{\"marker\":{\"color\":\"black\",\"line\":{\"color\":\"Grey\",\"width\":2.0}},\"mode\":\"markers\",\"showlegend\":false,\"x\":[848,535,514,477,731,960,965,988,157,103],\"y\":[6.761650264581644e-08,5.599575546655197e-07,1.0908964647451468e-06,2.177264674136021e-08,2.7282317266243193e-06,0.00025235896782569236,6.33521950951291,0.0009777279466462803,8.812557417717553,3.3325618326992603e-07],\"type\":\"scatter\",\"xaxis\":\"x40\",\"yaxis\":\"y40\"},{\"colorbar\":{\"title\":{\"text\":\"Objective Value\"}},\"colorscale\":[[0.0,\"rgb(247,251,255)\"],[0.125,\"rgb(222,235,247)\"],[0.25,\"rgb(198,219,239)\"],[0.375,\"rgb(158,202,225)\"],[0.5,\"rgb(107,174,214)\"],[0.625,\"rgb(66,146,198)\"],[0.75,\"rgb(33,113,181)\"],[0.875,\"rgb(8,81,156)\"],[1.0,\"rgb(8,48,107)\"]],\"connectgaps\":true,\"contours\":{\"coloring\":\"heatmap\"},\"hoverinfo\":\"none\",\"line\":{\"smoothing\":1.3},\"reversescale\":false,\"showscale\":false,\"x\":[58.75,103,157,477,514,535,731,848,960,965,988,1032.25],\"y\":[0.001981955138599222,0.0022686226693627966,0.0030293896771850033,0.0032457219289456093,0.0035877253620329075,0.004690262736420313,0.006024223854748645,0.013381259618535256,0.015862991717362624,0.030969090455030726,0.033816699350768205,0.03870790476337423],\"z\":[[null,null,null,null,null,null,null,null,null,null,null,null],[null,null,null,null,null,null,null,null,0.8348674780573456,null,null,null],[null,null,null,null,null,null,0.8488928488928488,null,null,null,null,null],[null,0.7788687702480805,null,null,null,null,null,null,null,null,null,null],[null,null,null,null,null,null,null,null,null,null,0.9054500001369071,null],[null,null,null,null,0.8467223386334689,null,null,null,null,null,null,null],[null,null,null,0.8445549655227075,null,null,null,null,null,null,null,null],[null,null,null,null,null,null,null,null,null,0.8972422000310448,null,null],[null,null,null,null,null,0.8439223622588168,null,null,null,null,null,null],[null,null,null,null,null,null,null,0.9327800596718733,null,null,null,null],[null,null,0.8401540601453942,null,null,null,null,null,null,null,null,null],[null,null,null,null,null,null,null,null,null,null,null,null]],\"type\":\"contour\",\"xaxis\":\"x49\",\"yaxis\":\"y49\"},{\"marker\":{\"color\":\"black\",\"line\":{\"color\":\"Grey\",\"width\":2.0}},\"mode\":\"markers\",\"showlegend\":false,\"x\":[848,535,514,477,731,960,965,988,157,103],\"y\":[0.030969090455030726,0.015862991717362624,0.004690262736420313,0.006024223854748645,0.0030293896771850033,0.0022686226693627966,0.013381259618535256,0.0035877253620329075,0.033816699350768205,0.0032457219289456093],\"type\":\"scatter\",\"xaxis\":\"x49\",\"yaxis\":\"y49\"},{\"colorbar\":{\"title\":{\"text\":\"Objective Value\"}},\"colorscale\":[[0.0,\"rgb(247,251,255)\"],[0.125,\"rgb(222,235,247)\"],[0.25,\"rgb(198,219,239)\"],[0.375,\"rgb(158,202,225)\"],[0.5,\"rgb(107,174,214)\"],[0.625,\"rgb(66,146,198)\"],[0.75,\"rgb(33,113,181)\"],[0.875,\"rgb(8,81,156)\"],[1.0,\"rgb(8,48,107)\"]],\"connectgaps\":true,\"contours\":{\"coloring\":\"heatmap\"},\"hoverinfo\":\"none\",\"line\":{\"smoothing\":1.3},\"reversescale\":false,\"showscale\":false,\"x\":[58.75,103,157,477,514,535,731,848,960,965,988,1032.25],\"y\":[\"IncToDec\",\"Iter\"],\"z\":[[null,0.7788687702480805,null,null,null,null,0.8488928488928488,0.9327800596718733,0.8348674780573456,0.8972422000310448,0.9054500001369071,null],[null,null,0.8401540601453942,0.8445549655227075,0.8467223386334689,0.8439223622588168,null,null,null,null,null,null]],\"type\":\"contour\",\"xaxis\":\"x58\",\"yaxis\":\"y58\"},{\"marker\":{\"color\":\"black\",\"line\":{\"color\":\"Grey\",\"width\":2.0}},\"mode\":\"markers\",\"showlegend\":false,\"x\":[848,535,514,477,731,960,965,988,157,103],\"y\":[\"IncToDec\",\"Iter\",\"Iter\",\"Iter\",\"IncToDec\",\"IncToDec\",\"IncToDec\",\"IncToDec\",\"Iter\",\"IncToDec\"],\"type\":\"scatter\",\"xaxis\":\"x58\",\"yaxis\":\"y58\"},{\"colorbar\":{\"title\":{\"text\":\"Objective Value\"}},\"colorscale\":[[0.0,\"rgb(247,251,255)\"],[0.125,\"rgb(222,235,247)\"],[0.25,\"rgb(198,219,239)\"],[0.375,\"rgb(158,202,225)\"],[0.5,\"rgb(107,174,214)\"],[0.625,\"rgb(66,146,198)\"],[0.75,\"rgb(33,113,181)\"],[0.875,\"rgb(8,81,156)\"],[1.0,\"rgb(8,48,107)\"]],\"connectgaps\":true,\"contours\":{\"coloring\":\"heatmap\"},\"hoverinfo\":\"none\",\"line\":{\"smoothing\":1.3},\"reversescale\":false,\"showscale\":false,\"x\":[58.75,103,157,477,514,535,731,848,960,965,988,1032.25],\"y\":[10.15,12,13,31,32,33,34,37,41,49,50.85],\"z\":[[null,null,null,null,null,null,null,null,null,null,null,null],[null,null,null,null,null,null,null,null,null,null,0.9054500001369071,null],[null,null,null,null,0.8467223386334689,null,null,null,null,null,null,null],[null,null,null,null,null,null,0.8488928488928488,null,null,0.8972422000310448,null,null],[null,0.7788687702480805,null,null,null,null,null,null,null,null,null,null],[null,null,null,0.8445549655227075,null,null,null,null,null,null,null,null],[null,null,null,null,null,null,null,null,0.8348674780573456,null,null,null],[null,null,0.8401540601453942,null,null,null,null,null,null,null,null,null],[null,null,null,null,null,0.8439223622588168,null,null,null,null,null,null],[null,null,null,null,null,null,null,0.9327800596718733,null,null,null,null],[null,null,null,null,null,null,null,null,null,null,null,null]],\"type\":\"contour\",\"xaxis\":\"x67\",\"yaxis\":\"y67\"},{\"marker\":{\"color\":\"black\",\"line\":{\"color\":\"Grey\",\"width\":2.0}},\"mode\":\"markers\",\"showlegend\":false,\"x\":[848,535,514,477,731,960,965,988,157,103],\"y\":[49,41,13,33,31,34,31,12,37,32],\"type\":\"scatter\",\"xaxis\":\"x67\",\"yaxis\":\"y67\"},{\"colorbar\":{\"title\":{\"text\":\"Objective Value\"}},\"colorscale\":[[0.0,\"rgb(247,251,255)\"],[0.125,\"rgb(222,235,247)\"],[0.25,\"rgb(198,219,239)\"],[0.375,\"rgb(158,202,225)\"],[0.5,\"rgb(107,174,214)\"],[0.625,\"rgb(66,146,198)\"],[0.75,\"rgb(33,113,181)\"],[0.875,\"rgb(8,81,156)\"],[1.0,\"rgb(8,48,107)\"]],\"connectgaps\":true,\"contours\":{\"coloring\":\"heatmap\"},\"hoverinfo\":\"none\",\"line\":{\"smoothing\":1.3},\"reversescale\":false,\"showscale\":false,\"x\":[58.75,103,157,477,514,535,731,848,960,965,988,1032.25],\"y\":[2.1851611558333197e-08,5.0276120927543057e-08,5.902084180004718e-08,5.097812627692342e-07,1.5025222370910506e-06,0.05864628791691267,0.07344055855215284,0.08427068937969223,0.22660775778981115,0.3417588548444093,0.8688155202255399,1.9989680871810873],\"z\":[[null,null,null,null,null,null,null,null,null,null,null,null],[null,null,0.8401540601453942,null,null,null,null,null,null,null,null,null],[null,0.7788687702480805,null,null,null,null,null,null,null,null,null,null],[null,null,null,null,null,null,null,0.9327800596718733,null,null,null,null],[null,null,null,null,null,null,null,null,null,null,0.9054500001369071,null],[null,null,null,null,0.8467223386334689,null,null,null,null,null,null,null],[null,null,null,null,null,null,null,null,0.8348674780573456,null,null,null],[null,null,null,null,null,0.8439223622588168,null,null,null,null,null,null],[null,null,null,null,null,null,0.8488928488928488,null,null,null,null,null],[null,null,null,null,null,null,null,null,null,0.8972422000310448,null,null],[null,null,null,0.8445549655227075,null,null,null,null,null,null,null,null],[null,null,null,null,null,null,null,null,null,null,null,null]],\"type\":\"contour\",\"xaxis\":\"x76\",\"yaxis\":\"y76\"},{\"marker\":{\"color\":\"black\",\"line\":{\"color\":\"Grey\",\"width\":2.0}},\"mode\":\"markers\",\"showlegend\":false,\"x\":[848,535,514,477,731,960,965,988,157,103],\"y\":[5.097812627692342e-07,0.08427068937969223,0.05864628791691267,0.8688155202255399,0.22660775778981115,0.07344055855215284,0.3417588548444093,1.5025222370910506e-06,5.0276120927543057e-08,5.902084180004718e-08],\"type\":\"scatter\",\"xaxis\":\"x76\",\"yaxis\":\"y76\"},{\"colorbar\":{\"title\":{\"text\":\"Objective Value\"}},\"colorscale\":[[0.0,\"rgb(247,251,255)\"],[0.125,\"rgb(222,235,247)\"],[0.25,\"rgb(198,219,239)\"],[0.375,\"rgb(158,202,225)\"],[0.5,\"rgb(107,174,214)\"],[0.625,\"rgb(66,146,198)\"],[0.75,\"rgb(33,113,181)\"],[0.875,\"rgb(8,81,156)\"],[1.0,\"rgb(8,48,107)\"]],\"connectgaps\":true,\"contours\":{\"coloring\":\"heatmap\"},\"hoverinfo\":\"none\",\"line\":{\"smoothing\":1.3},\"reversescale\":false,\"showscale\":false,\"x\":[8.082611223563865e-09,2.177264674136021e-08,6.761650264581644e-08,3.3325618326992603e-07,5.599575546655197e-07,1.0908964647451468e-06,2.7282317266243193e-06,0.00025235896782569236,0.0009777279466462803,6.33521950951291,8.812557417717553,23.738949485104087],\"y\":[0.07524656352317749,0.5154099595769013,0.9969436694547473,3.284222142343849,4.048176276985503,4.259563696638634,4.956375001506918,5.492683975039409,5.972208984227953,7.206905770161392,9.318677880651377,9.7588412767051],\"z\":[[null,null,null,null,null,null,null,null,null,null,null,null],[null,null,null,null,null,null,null,0.8348674780573456,null,null,null,null],[null,null,null,null,null,null,null,null,0.9054500001369071,null,null,null],[null,null,null,null,null,null,null,null,null,0.8972422000310448,null,null],[null,null,null,null,null,null,null,null,null,null,0.8401540601453942,null],[null,null,null,null,null,0.8467223386334689,null,null,null,null,null,null],[null,null,null,null,null,null,0.8488928488928488,null,null,null,null,null],[null,0.8445549655227075,null,null,null,null,null,null,null,null,null,null],[null,null,null,0.7788687702480805,null,null,null,null,null,null,null,null],[null,null,0.9327800596718733,null,null,null,null,null,null,null,null,null],[null,null,null,null,0.8439223622588168,null,null,null,null,null,null,null],[null,null,null,null,null,null,null,null,null,null,null,null]],\"type\":\"contour\",\"xaxis\":\"x5\",\"yaxis\":\"y5\"},{\"marker\":{\"color\":\"black\",\"line\":{\"color\":\"Grey\",\"width\":2.0}},\"mode\":\"markers\",\"showlegend\":false,\"x\":[6.761650264581644e-08,5.599575546655197e-07,1.0908964647451468e-06,2.177264674136021e-08,2.7282317266243193e-06,0.00025235896782569236,6.33521950951291,0.0009777279466462803,8.812557417717553,3.3325618326992603e-07],\"y\":[7.206905770161392,9.318677880651377,4.259563696638634,5.492683975039409,4.956375001506918,0.5154099595769013,3.284222142343849,0.9969436694547473,4.048176276985503,5.972208984227953],\"type\":\"scatter\",\"xaxis\":\"x5\",\"yaxis\":\"y5\"},{\"showscale\":false,\"type\":\"contour\",\"xaxis\":\"x14\",\"yaxis\":\"y14\"},{\"type\":\"scatter\",\"xaxis\":\"x14\",\"yaxis\":\"y14\"},{\"colorbar\":{\"title\":{\"text\":\"Objective Value\"}},\"colorscale\":[[0.0,\"rgb(247,251,255)\"],[0.125,\"rgb(222,235,247)\"],[0.25,\"rgb(198,219,239)\"],[0.375,\"rgb(158,202,225)\"],[0.5,\"rgb(107,174,214)\"],[0.625,\"rgb(66,146,198)\"],[0.75,\"rgb(33,113,181)\"],[0.875,\"rgb(8,81,156)\"],[1.0,\"rgb(8,48,107)\"]],\"connectgaps\":true,\"contours\":{\"coloring\":\"heatmap\"},\"hoverinfo\":\"none\",\"line\":{\"smoothing\":1.3},\"reversescale\":false,\"showscale\":false,\"x\":[8.082611223563865e-09,2.177264674136021e-08,6.761650264581644e-08,3.3325618326992603e-07,5.599575546655197e-07,1.0908964647451468e-06,2.7282317266243193e-06,0.00025235896782569236,0.0009777279466462803,6.33521950951291,8.812557417717553,23.738949485104087],\"y\":[3.7,4,7,8,9,10,10.3],\"z\":[[null,null,null,null,null,null,null,null,null,null,null,null],[null,null,null,null,0.8439223622588168,null,null,0.8348674780573456,null,null,null,null],[null,null,null,null,null,null,null,null,null,null,0.8401540601453942,null],[null,0.8445549655227075,0.9327800596718733,null,null,0.8467223386334689,null,null,null,0.8972422000310448,null,null],[null,null,null,null,null,null,0.8488928488928488,null,null,null,null,null],[null,null,null,0.7788687702480805,null,null,null,null,0.9054500001369071,null,null,null],[null,null,null,null,null,null,null,null,null,null,null,null]],\"type\":\"contour\",\"xaxis\":\"x23\",\"yaxis\":\"y23\"},{\"marker\":{\"color\":\"black\",\"line\":{\"color\":\"Grey\",\"width\":2.0}},\"mode\":\"markers\",\"showlegend\":false,\"x\":[6.761650264581644e-08,5.599575546655197e-07,1.0908964647451468e-06,2.177264674136021e-08,2.7282317266243193e-06,0.00025235896782569236,6.33521950951291,0.0009777279466462803,8.812557417717553,3.3325618326992603e-07],\"y\":[8,4,8,8,9,4,8,10,7,10],\"type\":\"scatter\",\"xaxis\":\"x23\",\"yaxis\":\"y23\"},{\"colorbar\":{\"title\":{\"text\":\"Objective Value\"}},\"colorscale\":[[0.0,\"rgb(247,251,255)\"],[0.125,\"rgb(222,235,247)\"],[0.25,\"rgb(198,219,239)\"],[0.375,\"rgb(158,202,225)\"],[0.5,\"rgb(107,174,214)\"],[0.625,\"rgb(66,146,198)\"],[0.75,\"rgb(33,113,181)\"],[0.875,\"rgb(8,81,156)\"],[1.0,\"rgb(8,48,107)\"]],\"connectgaps\":true,\"contours\":{\"coloring\":\"heatmap\"},\"hoverinfo\":\"none\",\"line\":{\"smoothing\":1.3},\"reversescale\":false,\"showscale\":false,\"x\":[8.082611223563865e-09,2.177264674136021e-08,6.761650264581644e-08,3.3325618326992603e-07,5.599575546655197e-07,1.0908964647451468e-06,2.7282317266243193e-06,0.00025235896782569236,0.0009777279466462803,6.33521950951291,8.812557417717553,23.738949485104087],\"y\":[58.75,103,157,477,514,535,731,848,960,965,988,1032.25],\"z\":[[null,null,null,null,null,null,null,null,null,null,null,null],[null,null,null,0.7788687702480805,null,null,null,null,null,null,null,null],[null,null,null,null,null,null,null,null,null,null,0.8401540601453942,null],[null,0.8445549655227075,null,null,null,null,null,null,null,null,null,null],[null,null,null,null,null,0.8467223386334689,null,null,null,null,null,null],[null,null,null,null,0.8439223622588168,null,null,null,null,null,null,null],[null,null,null,null,null,null,0.8488928488928488,null,null,null,null,null],[null,null,0.9327800596718733,null,null,null,null,null,null,null,null,null],[null,null,null,null,null,null,null,0.8348674780573456,null,null,null,null],[null,null,null,null,null,null,null,null,null,0.8972422000310448,null,null],[null,null,null,null,null,null,null,null,0.9054500001369071,null,null,null],[null,null,null,null,null,null,null,null,null,null,null,null]],\"type\":\"contour\",\"xaxis\":\"x32\",\"yaxis\":\"y32\"},{\"marker\":{\"color\":\"black\",\"line\":{\"color\":\"Grey\",\"width\":2.0}},\"mode\":\"markers\",\"showlegend\":false,\"x\":[6.761650264581644e-08,5.599575546655197e-07,1.0908964647451468e-06,2.177264674136021e-08,2.7282317266243193e-06,0.00025235896782569236,6.33521950951291,0.0009777279466462803,8.812557417717553,3.3325618326992603e-07],\"y\":[848,535,514,477,731,960,965,988,157,103],\"type\":\"scatter\",\"xaxis\":\"x32\",\"yaxis\":\"y32\"},{\"type\":\"scatter\",\"xaxis\":\"x41\",\"yaxis\":\"y41\"},{\"colorbar\":{\"title\":{\"text\":\"Objective Value\"}},\"colorscale\":[[0.0,\"rgb(247,251,255)\"],[0.125,\"rgb(222,235,247)\"],[0.25,\"rgb(198,219,239)\"],[0.375,\"rgb(158,202,225)\"],[0.5,\"rgb(107,174,214)\"],[0.625,\"rgb(66,146,198)\"],[0.75,\"rgb(33,113,181)\"],[0.875,\"rgb(8,81,156)\"],[1.0,\"rgb(8,48,107)\"]],\"connectgaps\":true,\"contours\":{\"coloring\":\"heatmap\"},\"hoverinfo\":\"none\",\"line\":{\"smoothing\":1.3},\"reversescale\":false,\"showscale\":false,\"x\":[8.082611223563865e-09,2.177264674136021e-08,6.761650264581644e-08,3.3325618326992603e-07,5.599575546655197e-07,1.0908964647451468e-06,2.7282317266243193e-06,0.00025235896782569236,0.0009777279466462803,6.33521950951291,8.812557417717553,23.738949485104087],\"y\":[0.001981955138599222,0.0022686226693627966,0.0030293896771850033,0.0032457219289456093,0.0035877253620329075,0.004690262736420313,0.006024223854748645,0.013381259618535256,0.015862991717362624,0.030969090455030726,0.033816699350768205,0.03870790476337423],\"z\":[[null,null,null,null,null,null,null,null,null,null,null,null],[null,null,null,null,null,null,null,0.8348674780573456,null,null,null,null],[null,null,null,null,null,null,0.8488928488928488,null,null,null,null,null],[null,null,null,0.7788687702480805,null,null,null,null,null,null,null,null],[null,null,null,null,null,null,null,null,0.9054500001369071,null,null,null],[null,null,null,null,null,0.8467223386334689,null,null,null,null,null,null],[null,0.8445549655227075,null,null,null,null,null,null,null,null,null,null],[null,null,null,null,null,null,null,null,null,0.8972422000310448,null,null],[null,null,null,null,0.8439223622588168,null,null,null,null,null,null,null],[null,null,0.9327800596718733,null,null,null,null,null,null,null,null,null],[null,null,null,null,null,null,null,null,null,null,0.8401540601453942,null],[null,null,null,null,null,null,null,null,null,null,null,null]],\"type\":\"contour\",\"xaxis\":\"x50\",\"yaxis\":\"y50\"},{\"marker\":{\"color\":\"black\",\"line\":{\"color\":\"Grey\",\"width\":2.0}},\"mode\":\"markers\",\"showlegend\":false,\"x\":[6.761650264581644e-08,5.599575546655197e-07,1.0908964647451468e-06,2.177264674136021e-08,2.7282317266243193e-06,0.00025235896782569236,6.33521950951291,0.0009777279466462803,8.812557417717553,3.3325618326992603e-07],\"y\":[0.030969090455030726,0.015862991717362624,0.004690262736420313,0.006024223854748645,0.0030293896771850033,0.0022686226693627966,0.013381259618535256,0.0035877253620329075,0.033816699350768205,0.0032457219289456093],\"type\":\"scatter\",\"xaxis\":\"x50\",\"yaxis\":\"y50\"},{\"colorbar\":{\"title\":{\"text\":\"Objective Value\"}},\"colorscale\":[[0.0,\"rgb(247,251,255)\"],[0.125,\"rgb(222,235,247)\"],[0.25,\"rgb(198,219,239)\"],[0.375,\"rgb(158,202,225)\"],[0.5,\"rgb(107,174,214)\"],[0.625,\"rgb(66,146,198)\"],[0.75,\"rgb(33,113,181)\"],[0.875,\"rgb(8,81,156)\"],[1.0,\"rgb(8,48,107)\"]],\"connectgaps\":true,\"contours\":{\"coloring\":\"heatmap\"},\"hoverinfo\":\"none\",\"line\":{\"smoothing\":1.3},\"reversescale\":false,\"showscale\":false,\"x\":[8.082611223563865e-09,2.177264674136021e-08,6.761650264581644e-08,3.3325618326992603e-07,5.599575546655197e-07,1.0908964647451468e-06,2.7282317266243193e-06,0.00025235896782569236,0.0009777279466462803,6.33521950951291,8.812557417717553,23.738949485104087],\"y\":[\"IncToDec\",\"Iter\"],\"z\":[[null,null,0.9327800596718733,0.7788687702480805,null,null,0.8488928488928488,0.8348674780573456,0.9054500001369071,0.8972422000310448,null,null],[null,0.8445549655227075,null,null,0.8439223622588168,0.8467223386334689,null,null,null,null,0.8401540601453942,null]],\"type\":\"contour\",\"xaxis\":\"x59\",\"yaxis\":\"y59\"},{\"marker\":{\"color\":\"black\",\"line\":{\"color\":\"Grey\",\"width\":2.0}},\"mode\":\"markers\",\"showlegend\":false,\"x\":[6.761650264581644e-08,5.599575546655197e-07,1.0908964647451468e-06,2.177264674136021e-08,2.7282317266243193e-06,0.00025235896782569236,6.33521950951291,0.0009777279466462803,8.812557417717553,3.3325618326992603e-07],\"y\":[\"IncToDec\",\"Iter\",\"Iter\",\"Iter\",\"IncToDec\",\"IncToDec\",\"IncToDec\",\"IncToDec\",\"Iter\",\"IncToDec\"],\"type\":\"scatter\",\"xaxis\":\"x59\",\"yaxis\":\"y59\"},{\"colorbar\":{\"title\":{\"text\":\"Objective Value\"}},\"colorscale\":[[0.0,\"rgb(247,251,255)\"],[0.125,\"rgb(222,235,247)\"],[0.25,\"rgb(198,219,239)\"],[0.375,\"rgb(158,202,225)\"],[0.5,\"rgb(107,174,214)\"],[0.625,\"rgb(66,146,198)\"],[0.75,\"rgb(33,113,181)\"],[0.875,\"rgb(8,81,156)\"],[1.0,\"rgb(8,48,107)\"]],\"connectgaps\":true,\"contours\":{\"coloring\":\"heatmap\"},\"hoverinfo\":\"none\",\"line\":{\"smoothing\":1.3},\"reversescale\":false,\"showscale\":false,\"x\":[8.082611223563865e-09,2.177264674136021e-08,6.761650264581644e-08,3.3325618326992603e-07,5.599575546655197e-07,1.0908964647451468e-06,2.7282317266243193e-06,0.00025235896782569236,0.0009777279466462803,6.33521950951291,8.812557417717553,23.738949485104087],\"y\":[10.15,12,13,31,32,33,34,37,41,49,50.85],\"z\":[[null,null,null,null,null,null,null,null,null,null,null,null],[null,null,null,null,null,null,null,null,0.9054500001369071,null,null,null],[null,null,null,null,null,0.8467223386334689,null,null,null,null,null,null],[null,null,null,null,null,null,0.8488928488928488,null,null,0.8972422000310448,null,null],[null,null,null,0.7788687702480805,null,null,null,null,null,null,null,null],[null,0.8445549655227075,null,null,null,null,null,null,null,null,null,null],[null,null,null,null,null,null,null,0.8348674780573456,null,null,null,null],[null,null,null,null,null,null,null,null,null,null,0.8401540601453942,null],[null,null,null,null,0.8439223622588168,null,null,null,null,null,null,null],[null,null,0.9327800596718733,null,null,null,null,null,null,null,null,null],[null,null,null,null,null,null,null,null,null,null,null,null]],\"type\":\"contour\",\"xaxis\":\"x68\",\"yaxis\":\"y68\"},{\"marker\":{\"color\":\"black\",\"line\":{\"color\":\"Grey\",\"width\":2.0}},\"mode\":\"markers\",\"showlegend\":false,\"x\":[6.761650264581644e-08,5.599575546655197e-07,1.0908964647451468e-06,2.177264674136021e-08,2.7282317266243193e-06,0.00025235896782569236,6.33521950951291,0.0009777279466462803,8.812557417717553,3.3325618326992603e-07],\"y\":[49,41,13,33,31,34,31,12,37,32],\"type\":\"scatter\",\"xaxis\":\"x68\",\"yaxis\":\"y68\"},{\"colorbar\":{\"title\":{\"text\":\"Objective Value\"}},\"colorscale\":[[0.0,\"rgb(247,251,255)\"],[0.125,\"rgb(222,235,247)\"],[0.25,\"rgb(198,219,239)\"],[0.375,\"rgb(158,202,225)\"],[0.5,\"rgb(107,174,214)\"],[0.625,\"rgb(66,146,198)\"],[0.75,\"rgb(33,113,181)\"],[0.875,\"rgb(8,81,156)\"],[1.0,\"rgb(8,48,107)\"]],\"connectgaps\":true,\"contours\":{\"coloring\":\"heatmap\"},\"hoverinfo\":\"none\",\"line\":{\"smoothing\":1.3},\"reversescale\":false,\"showscale\":false,\"x\":[8.082611223563865e-09,2.177264674136021e-08,6.761650264581644e-08,3.3325618326992603e-07,5.599575546655197e-07,1.0908964647451468e-06,2.7282317266243193e-06,0.00025235896782569236,0.0009777279466462803,6.33521950951291,8.812557417717553,23.738949485104087],\"y\":[2.1851611558333197e-08,5.0276120927543057e-08,5.902084180004718e-08,5.097812627692342e-07,1.5025222370910506e-06,0.05864628791691267,0.07344055855215284,0.08427068937969223,0.22660775778981115,0.3417588548444093,0.8688155202255399,1.9989680871810873],\"z\":[[null,null,null,null,null,null,null,null,null,null,null,null],[null,null,null,null,null,null,null,null,null,null,0.8401540601453942,null],[null,null,null,0.7788687702480805,null,null,null,null,null,null,null,null],[null,null,0.9327800596718733,null,null,null,null,null,null,null,null,null],[null,null,null,null,null,null,null,null,0.9054500001369071,null,null,null],[null,null,null,null,null,0.8467223386334689,null,null,null,null,null,null],[null,null,null,null,null,null,null,0.8348674780573456,null,null,null,null],[null,null,null,null,0.8439223622588168,null,null,null,null,null,null,null],[null,null,null,null,null,null,0.8488928488928488,null,null,null,null,null],[null,null,null,null,null,null,null,null,null,0.8972422000310448,null,null],[null,0.8445549655227075,null,null,null,null,null,null,null,null,null,null],[null,null,null,null,null,null,null,null,null,null,null,null]],\"type\":\"contour\",\"xaxis\":\"x77\",\"yaxis\":\"y77\"},{\"marker\":{\"color\":\"black\",\"line\":{\"color\":\"Grey\",\"width\":2.0}},\"mode\":\"markers\",\"showlegend\":false,\"x\":[6.761650264581644e-08,5.599575546655197e-07,1.0908964647451468e-06,2.177264674136021e-08,2.7282317266243193e-06,0.00025235896782569236,6.33521950951291,0.0009777279466462803,8.812557417717553,3.3325618326992603e-07],\"y\":[5.097812627692342e-07,0.08427068937969223,0.05864628791691267,0.8688155202255399,0.22660775778981115,0.07344055855215284,0.3417588548444093,1.5025222370910506e-06,5.0276120927543057e-08,5.902084180004718e-08],\"type\":\"scatter\",\"xaxis\":\"x77\",\"yaxis\":\"y77\"},{\"colorbar\":{\"title\":{\"text\":\"Objective Value\"}},\"colorscale\":[[0.0,\"rgb(247,251,255)\"],[0.125,\"rgb(222,235,247)\"],[0.25,\"rgb(198,219,239)\"],[0.375,\"rgb(158,202,225)\"],[0.5,\"rgb(107,174,214)\"],[0.625,\"rgb(66,146,198)\"],[0.75,\"rgb(33,113,181)\"],[0.875,\"rgb(8,81,156)\"],[1.0,\"rgb(8,48,107)\"]],\"connectgaps\":true,\"contours\":{\"coloring\":\"heatmap\"},\"hoverinfo\":\"none\",\"line\":{\"smoothing\":1.3},\"reversescale\":false,\"showscale\":false,\"x\":[0.001981955138599222,0.0022686226693627966,0.0030293896771850033,0.0032457219289456093,0.0035877253620329075,0.004690262736420313,0.006024223854748645,0.013381259618535256,0.015862991717362624,0.030969090455030726,0.033816699350768205,0.03870790476337423],\"y\":[0.07524656352317749,0.5154099595769013,0.9969436694547473,3.284222142343849,4.048176276985503,4.259563696638634,4.956375001506918,5.492683975039409,5.972208984227953,7.206905770161392,9.318677880651377,9.7588412767051],\"z\":[[null,null,null,null,null,null,null,null,null,null,null,null],[null,0.8348674780573456,null,null,null,null,null,null,null,null,null,null],[null,null,null,null,0.9054500001369071,null,null,null,null,null,null,null],[null,null,null,null,null,null,null,0.8972422000310448,null,null,null,null],[null,null,null,null,null,null,null,null,null,null,0.8401540601453942,null],[null,null,null,null,null,0.8467223386334689,null,null,null,null,null,null],[null,null,0.8488928488928488,null,null,null,null,null,null,null,null,null],[null,null,null,null,null,null,0.8445549655227075,null,null,null,null,null],[null,null,null,0.7788687702480805,null,null,null,null,null,null,null,null],[null,null,null,null,null,null,null,null,null,0.9327800596718733,null,null],[null,null,null,null,null,null,null,null,0.8439223622588168,null,null,null],[null,null,null,null,null,null,null,null,null,null,null,null]],\"type\":\"contour\",\"xaxis\":\"x6\",\"yaxis\":\"y6\"},{\"marker\":{\"color\":\"black\",\"line\":{\"color\":\"Grey\",\"width\":2.0}},\"mode\":\"markers\",\"showlegend\":false,\"x\":[0.030969090455030726,0.015862991717362624,0.004690262736420313,0.006024223854748645,0.0030293896771850033,0.0022686226693627966,0.013381259618535256,0.0035877253620329075,0.033816699350768205,0.0032457219289456093],\"y\":[7.206905770161392,9.318677880651377,4.259563696638634,5.492683975039409,4.956375001506918,0.5154099595769013,3.284222142343849,0.9969436694547473,4.048176276985503,5.972208984227953],\"type\":\"scatter\",\"xaxis\":\"x6\",\"yaxis\":\"y6\"},{\"showscale\":false,\"type\":\"contour\",\"xaxis\":\"x15\",\"yaxis\":\"y15\"},{\"type\":\"scatter\",\"xaxis\":\"x15\",\"yaxis\":\"y15\"},{\"colorbar\":{\"title\":{\"text\":\"Objective Value\"}},\"colorscale\":[[0.0,\"rgb(247,251,255)\"],[0.125,\"rgb(222,235,247)\"],[0.25,\"rgb(198,219,239)\"],[0.375,\"rgb(158,202,225)\"],[0.5,\"rgb(107,174,214)\"],[0.625,\"rgb(66,146,198)\"],[0.75,\"rgb(33,113,181)\"],[0.875,\"rgb(8,81,156)\"],[1.0,\"rgb(8,48,107)\"]],\"connectgaps\":true,\"contours\":{\"coloring\":\"heatmap\"},\"hoverinfo\":\"none\",\"line\":{\"smoothing\":1.3},\"reversescale\":false,\"showscale\":false,\"x\":[0.001981955138599222,0.0022686226693627966,0.0030293896771850033,0.0032457219289456093,0.0035877253620329075,0.004690262736420313,0.006024223854748645,0.013381259618535256,0.015862991717362624,0.030969090455030726,0.033816699350768205,0.03870790476337423],\"y\":[3.7,4,7,8,9,10,10.3],\"z\":[[null,null,null,null,null,null,null,null,null,null,null,null],[null,0.8348674780573456,null,null,null,null,null,null,0.8439223622588168,null,null,null],[null,null,null,null,null,null,null,null,null,null,0.8401540601453942,null],[null,null,null,null,null,0.8467223386334689,0.8445549655227075,0.8972422000310448,null,0.9327800596718733,null,null],[null,null,0.8488928488928488,null,null,null,null,null,null,null,null,null],[null,null,null,0.7788687702480805,0.9054500001369071,null,null,null,null,null,null,null],[null,null,null,null,null,null,null,null,null,null,null,null]],\"type\":\"contour\",\"xaxis\":\"x24\",\"yaxis\":\"y24\"},{\"marker\":{\"color\":\"black\",\"line\":{\"color\":\"Grey\",\"width\":2.0}},\"mode\":\"markers\",\"showlegend\":false,\"x\":[0.030969090455030726,0.015862991717362624,0.004690262736420313,0.006024223854748645,0.0030293896771850033,0.0022686226693627966,0.013381259618535256,0.0035877253620329075,0.033816699350768205,0.0032457219289456093],\"y\":[8,4,8,8,9,4,8,10,7,10],\"type\":\"scatter\",\"xaxis\":\"x24\",\"yaxis\":\"y24\"},{\"colorbar\":{\"title\":{\"text\":\"Objective Value\"}},\"colorscale\":[[0.0,\"rgb(247,251,255)\"],[0.125,\"rgb(222,235,247)\"],[0.25,\"rgb(198,219,239)\"],[0.375,\"rgb(158,202,225)\"],[0.5,\"rgb(107,174,214)\"],[0.625,\"rgb(66,146,198)\"],[0.75,\"rgb(33,113,181)\"],[0.875,\"rgb(8,81,156)\"],[1.0,\"rgb(8,48,107)\"]],\"connectgaps\":true,\"contours\":{\"coloring\":\"heatmap\"},\"hoverinfo\":\"none\",\"line\":{\"smoothing\":1.3},\"reversescale\":false,\"showscale\":false,\"x\":[0.001981955138599222,0.0022686226693627966,0.0030293896771850033,0.0032457219289456093,0.0035877253620329075,0.004690262736420313,0.006024223854748645,0.013381259618535256,0.015862991717362624,0.030969090455030726,0.033816699350768205,0.03870790476337423],\"y\":[58.75,103,157,477,514,535,731,848,960,965,988,1032.25],\"z\":[[null,null,null,null,null,null,null,null,null,null,null,null],[null,null,null,0.7788687702480805,null,null,null,null,null,null,null,null],[null,null,null,null,null,null,null,null,null,null,0.8401540601453942,null],[null,null,null,null,null,null,0.8445549655227075,null,null,null,null,null],[null,null,null,null,null,0.8467223386334689,null,null,null,null,null,null],[null,null,null,null,null,null,null,null,0.8439223622588168,null,null,null],[null,null,0.8488928488928488,null,null,null,null,null,null,null,null,null],[null,null,null,null,null,null,null,null,null,0.9327800596718733,null,null],[null,0.8348674780573456,null,null,null,null,null,null,null,null,null,null],[null,null,null,null,null,null,null,0.8972422000310448,null,null,null,null],[null,null,null,null,0.9054500001369071,null,null,null,null,null,null,null],[null,null,null,null,null,null,null,null,null,null,null,null]],\"type\":\"contour\",\"xaxis\":\"x33\",\"yaxis\":\"y33\"},{\"marker\":{\"color\":\"black\",\"line\":{\"color\":\"Grey\",\"width\":2.0}},\"mode\":\"markers\",\"showlegend\":false,\"x\":[0.030969090455030726,0.015862991717362624,0.004690262736420313,0.006024223854748645,0.0030293896771850033,0.0022686226693627966,0.013381259618535256,0.0035877253620329075,0.033816699350768205,0.0032457219289456093],\"y\":[848,535,514,477,731,960,965,988,157,103],\"type\":\"scatter\",\"xaxis\":\"x33\",\"yaxis\":\"y33\"},{\"colorbar\":{\"title\":{\"text\":\"Objective Value\"}},\"colorscale\":[[0.0,\"rgb(247,251,255)\"],[0.125,\"rgb(222,235,247)\"],[0.25,\"rgb(198,219,239)\"],[0.375,\"rgb(158,202,225)\"],[0.5,\"rgb(107,174,214)\"],[0.625,\"rgb(66,146,198)\"],[0.75,\"rgb(33,113,181)\"],[0.875,\"rgb(8,81,156)\"],[1.0,\"rgb(8,48,107)\"]],\"connectgaps\":true,\"contours\":{\"coloring\":\"heatmap\"},\"hoverinfo\":\"none\",\"line\":{\"smoothing\":1.3},\"reversescale\":false,\"showscale\":false,\"x\":[0.001981955138599222,0.0022686226693627966,0.0030293896771850033,0.0032457219289456093,0.0035877253620329075,0.004690262736420313,0.006024223854748645,0.013381259618535256,0.015862991717362624,0.030969090455030726,0.033816699350768205,0.03870790476337423],\"y\":[8.082611223563865e-09,2.177264674136021e-08,6.761650264581644e-08,3.3325618326992603e-07,5.599575546655197e-07,1.0908964647451468e-06,2.7282317266243193e-06,0.00025235896782569236,0.0009777279466462803,6.33521950951291,8.812557417717553,23.738949485104087],\"z\":[[null,null,null,null,null,null,null,null,null,null,null,null],[null,null,null,null,null,null,0.8445549655227075,null,null,null,null,null],[null,null,null,null,null,null,null,null,null,0.9327800596718733,null,null],[null,null,null,0.7788687702480805,null,null,null,null,null,null,null,null],[null,null,null,null,null,null,null,null,0.8439223622588168,null,null,null],[null,null,null,null,null,0.8467223386334689,null,null,null,null,null,null],[null,null,0.8488928488928488,null,null,null,null,null,null,null,null,null],[null,0.8348674780573456,null,null,null,null,null,null,null,null,null,null],[null,null,null,null,0.9054500001369071,null,null,null,null,null,null,null],[null,null,null,null,null,null,null,0.8972422000310448,null,null,null,null],[null,null,null,null,null,null,null,null,null,null,0.8401540601453942,null],[null,null,null,null,null,null,null,null,null,null,null,null]],\"type\":\"contour\",\"xaxis\":\"x42\",\"yaxis\":\"y42\"},{\"marker\":{\"color\":\"black\",\"line\":{\"color\":\"Grey\",\"width\":2.0}},\"mode\":\"markers\",\"showlegend\":false,\"x\":[0.030969090455030726,0.015862991717362624,0.004690262736420313,0.006024223854748645,0.0030293896771850033,0.0022686226693627966,0.013381259618535256,0.0035877253620329075,0.033816699350768205,0.0032457219289456093],\"y\":[6.761650264581644e-08,5.599575546655197e-07,1.0908964647451468e-06,2.177264674136021e-08,2.7282317266243193e-06,0.00025235896782569236,6.33521950951291,0.0009777279466462803,8.812557417717553,3.3325618326992603e-07],\"type\":\"scatter\",\"xaxis\":\"x42\",\"yaxis\":\"y42\"},{\"type\":\"scatter\",\"xaxis\":\"x51\",\"yaxis\":\"y51\"},{\"colorbar\":{\"title\":{\"text\":\"Objective Value\"}},\"colorscale\":[[0.0,\"rgb(247,251,255)\"],[0.125,\"rgb(222,235,247)\"],[0.25,\"rgb(198,219,239)\"],[0.375,\"rgb(158,202,225)\"],[0.5,\"rgb(107,174,214)\"],[0.625,\"rgb(66,146,198)\"],[0.75,\"rgb(33,113,181)\"],[0.875,\"rgb(8,81,156)\"],[1.0,\"rgb(8,48,107)\"]],\"connectgaps\":true,\"contours\":{\"coloring\":\"heatmap\"},\"hoverinfo\":\"none\",\"line\":{\"smoothing\":1.3},\"reversescale\":false,\"showscale\":false,\"x\":[0.001981955138599222,0.0022686226693627966,0.0030293896771850033,0.0032457219289456093,0.0035877253620329075,0.004690262736420313,0.006024223854748645,0.013381259618535256,0.015862991717362624,0.030969090455030726,0.033816699350768205,0.03870790476337423],\"y\":[\"IncToDec\",\"Iter\"],\"z\":[[null,0.8348674780573456,0.8488928488928488,0.7788687702480805,0.9054500001369071,null,null,0.8972422000310448,null,0.9327800596718733,null,null],[null,null,null,null,null,0.8467223386334689,0.8445549655227075,null,0.8439223622588168,null,0.8401540601453942,null]],\"type\":\"contour\",\"xaxis\":\"x60\",\"yaxis\":\"y60\"},{\"marker\":{\"color\":\"black\",\"line\":{\"color\":\"Grey\",\"width\":2.0}},\"mode\":\"markers\",\"showlegend\":false,\"x\":[0.030969090455030726,0.015862991717362624,0.004690262736420313,0.006024223854748645,0.0030293896771850033,0.0022686226693627966,0.013381259618535256,0.0035877253620329075,0.033816699350768205,0.0032457219289456093],\"y\":[\"IncToDec\",\"Iter\",\"Iter\",\"Iter\",\"IncToDec\",\"IncToDec\",\"IncToDec\",\"IncToDec\",\"Iter\",\"IncToDec\"],\"type\":\"scatter\",\"xaxis\":\"x60\",\"yaxis\":\"y60\"},{\"colorbar\":{\"title\":{\"text\":\"Objective Value\"}},\"colorscale\":[[0.0,\"rgb(247,251,255)\"],[0.125,\"rgb(222,235,247)\"],[0.25,\"rgb(198,219,239)\"],[0.375,\"rgb(158,202,225)\"],[0.5,\"rgb(107,174,214)\"],[0.625,\"rgb(66,146,198)\"],[0.75,\"rgb(33,113,181)\"],[0.875,\"rgb(8,81,156)\"],[1.0,\"rgb(8,48,107)\"]],\"connectgaps\":true,\"contours\":{\"coloring\":\"heatmap\"},\"hoverinfo\":\"none\",\"line\":{\"smoothing\":1.3},\"reversescale\":false,\"showscale\":false,\"x\":[0.001981955138599222,0.0022686226693627966,0.0030293896771850033,0.0032457219289456093,0.0035877253620329075,0.004690262736420313,0.006024223854748645,0.013381259618535256,0.015862991717362624,0.030969090455030726,0.033816699350768205,0.03870790476337423],\"y\":[10.15,12,13,31,32,33,34,37,41,49,50.85],\"z\":[[null,null,null,null,null,null,null,null,null,null,null,null],[null,null,null,null,0.9054500001369071,null,null,null,null,null,null,null],[null,null,null,null,null,0.8467223386334689,null,null,null,null,null,null],[null,null,0.8488928488928488,null,null,null,null,0.8972422000310448,null,null,null,null],[null,null,null,0.7788687702480805,null,null,null,null,null,null,null,null],[null,null,null,null,null,null,0.8445549655227075,null,null,null,null,null],[null,0.8348674780573456,null,null,null,null,null,null,null,null,null,null],[null,null,null,null,null,null,null,null,null,null,0.8401540601453942,null],[null,null,null,null,null,null,null,null,0.8439223622588168,null,null,null],[null,null,null,null,null,null,null,null,null,0.9327800596718733,null,null],[null,null,null,null,null,null,null,null,null,null,null,null]],\"type\":\"contour\",\"xaxis\":\"x69\",\"yaxis\":\"y69\"},{\"marker\":{\"color\":\"black\",\"line\":{\"color\":\"Grey\",\"width\":2.0}},\"mode\":\"markers\",\"showlegend\":false,\"x\":[0.030969090455030726,0.015862991717362624,0.004690262736420313,0.006024223854748645,0.0030293896771850033,0.0022686226693627966,0.013381259618535256,0.0035877253620329075,0.033816699350768205,0.0032457219289456093],\"y\":[49,41,13,33,31,34,31,12,37,32],\"type\":\"scatter\",\"xaxis\":\"x69\",\"yaxis\":\"y69\"},{\"colorbar\":{\"title\":{\"text\":\"Objective Value\"}},\"colorscale\":[[0.0,\"rgb(247,251,255)\"],[0.125,\"rgb(222,235,247)\"],[0.25,\"rgb(198,219,239)\"],[0.375,\"rgb(158,202,225)\"],[0.5,\"rgb(107,174,214)\"],[0.625,\"rgb(66,146,198)\"],[0.75,\"rgb(33,113,181)\"],[0.875,\"rgb(8,81,156)\"],[1.0,\"rgb(8,48,107)\"]],\"connectgaps\":true,\"contours\":{\"coloring\":\"heatmap\"},\"hoverinfo\":\"none\",\"line\":{\"smoothing\":1.3},\"reversescale\":false,\"showscale\":false,\"x\":[0.001981955138599222,0.0022686226693627966,0.0030293896771850033,0.0032457219289456093,0.0035877253620329075,0.004690262736420313,0.006024223854748645,0.013381259618535256,0.015862991717362624,0.030969090455030726,0.033816699350768205,0.03870790476337423],\"y\":[2.1851611558333197e-08,5.0276120927543057e-08,5.902084180004718e-08,5.097812627692342e-07,1.5025222370910506e-06,0.05864628791691267,0.07344055855215284,0.08427068937969223,0.22660775778981115,0.3417588548444093,0.8688155202255399,1.9989680871810873],\"z\":[[null,null,null,null,null,null,null,null,null,null,null,null],[null,null,null,null,null,null,null,null,null,null,0.8401540601453942,null],[null,null,null,0.7788687702480805,null,null,null,null,null,null,null,null],[null,null,null,null,null,null,null,null,null,0.9327800596718733,null,null],[null,null,null,null,0.9054500001369071,null,null,null,null,null,null,null],[null,null,null,null,null,0.8467223386334689,null,null,null,null,null,null],[null,0.8348674780573456,null,null,null,null,null,null,null,null,null,null],[null,null,null,null,null,null,null,null,0.8439223622588168,null,null,null],[null,null,0.8488928488928488,null,null,null,null,null,null,null,null,null],[null,null,null,null,null,null,null,0.8972422000310448,null,null,null,null],[null,null,null,null,null,null,0.8445549655227075,null,null,null,null,null],[null,null,null,null,null,null,null,null,null,null,null,null]],\"type\":\"contour\",\"xaxis\":\"x78\",\"yaxis\":\"y78\"},{\"marker\":{\"color\":\"black\",\"line\":{\"color\":\"Grey\",\"width\":2.0}},\"mode\":\"markers\",\"showlegend\":false,\"x\":[0.030969090455030726,0.015862991717362624,0.004690262736420313,0.006024223854748645,0.0030293896771850033,0.0022686226693627966,0.013381259618535256,0.0035877253620329075,0.033816699350768205,0.0032457219289456093],\"y\":[5.097812627692342e-07,0.08427068937969223,0.05864628791691267,0.8688155202255399,0.22660775778981115,0.07344055855215284,0.3417588548444093,1.5025222370910506e-06,5.0276120927543057e-08,5.902084180004718e-08],\"type\":\"scatter\",\"xaxis\":\"x78\",\"yaxis\":\"y78\"},{\"colorbar\":{\"title\":{\"text\":\"Objective Value\"}},\"colorscale\":[[0.0,\"rgb(247,251,255)\"],[0.125,\"rgb(222,235,247)\"],[0.25,\"rgb(198,219,239)\"],[0.375,\"rgb(158,202,225)\"],[0.5,\"rgb(107,174,214)\"],[0.625,\"rgb(66,146,198)\"],[0.75,\"rgb(33,113,181)\"],[0.875,\"rgb(8,81,156)\"],[1.0,\"rgb(8,48,107)\"]],\"connectgaps\":true,\"contours\":{\"coloring\":\"heatmap\"},\"hoverinfo\":\"none\",\"line\":{\"smoothing\":1.3},\"reversescale\":false,\"showscale\":false,\"x\":[\"IncToDec\",\"Iter\"],\"y\":[0.07524656352317749,0.5154099595769013,0.9969436694547473,3.284222142343849,4.048176276985503,4.259563696638634,4.956375001506918,5.492683975039409,5.972208984227953,7.206905770161392,9.318677880651377,9.7588412767051],\"z\":[[null,null],[0.8348674780573456,null],[0.9054500001369071,null],[0.8972422000310448,null],[null,0.8401540601453942],[null,0.8467223386334689],[0.8488928488928488,null],[null,0.8445549655227075],[0.7788687702480805,null],[0.9327800596718733,null],[null,0.8439223622588168],[null,null]],\"type\":\"contour\",\"xaxis\":\"x7\",\"yaxis\":\"y7\"},{\"marker\":{\"color\":\"black\",\"line\":{\"color\":\"Grey\",\"width\":2.0}},\"mode\":\"markers\",\"showlegend\":false,\"x\":[\"IncToDec\",\"Iter\",\"Iter\",\"Iter\",\"IncToDec\",\"IncToDec\",\"IncToDec\",\"IncToDec\",\"Iter\",\"IncToDec\"],\"y\":[7.206905770161392,9.318677880651377,4.259563696638634,5.492683975039409,4.956375001506918,0.5154099595769013,3.284222142343849,0.9969436694547473,4.048176276985503,5.972208984227953],\"type\":\"scatter\",\"xaxis\":\"x7\",\"yaxis\":\"y7\"},{\"showscale\":false,\"type\":\"contour\",\"xaxis\":\"x16\",\"yaxis\":\"y16\"},{\"type\":\"scatter\",\"xaxis\":\"x16\",\"yaxis\":\"y16\"},{\"colorbar\":{\"title\":{\"text\":\"Objective Value\"}},\"colorscale\":[[0.0,\"rgb(247,251,255)\"],[0.125,\"rgb(222,235,247)\"],[0.25,\"rgb(198,219,239)\"],[0.375,\"rgb(158,202,225)\"],[0.5,\"rgb(107,174,214)\"],[0.625,\"rgb(66,146,198)\"],[0.75,\"rgb(33,113,181)\"],[0.875,\"rgb(8,81,156)\"],[1.0,\"rgb(8,48,107)\"]],\"connectgaps\":true,\"contours\":{\"coloring\":\"heatmap\"},\"hoverinfo\":\"none\",\"line\":{\"smoothing\":1.3},\"reversescale\":false,\"showscale\":false,\"x\":[\"IncToDec\",\"Iter\"],\"y\":[3.7,4,7,8,9,10,10.3],\"z\":[[null,null],[0.8348674780573456,0.8439223622588168],[null,0.8401540601453942],[0.8972422000310448,0.8445549655227075],[0.8488928488928488,null],[0.7788687702480805,null],[null,null]],\"type\":\"contour\",\"xaxis\":\"x25\",\"yaxis\":\"y25\"},{\"marker\":{\"color\":\"black\",\"line\":{\"color\":\"Grey\",\"width\":2.0}},\"mode\":\"markers\",\"showlegend\":false,\"x\":[\"IncToDec\",\"Iter\",\"Iter\",\"Iter\",\"IncToDec\",\"IncToDec\",\"IncToDec\",\"IncToDec\",\"Iter\",\"IncToDec\"],\"y\":[8,4,8,8,9,4,8,10,7,10],\"type\":\"scatter\",\"xaxis\":\"x25\",\"yaxis\":\"y25\"},{\"colorbar\":{\"title\":{\"text\":\"Objective Value\"}},\"colorscale\":[[0.0,\"rgb(247,251,255)\"],[0.125,\"rgb(222,235,247)\"],[0.25,\"rgb(198,219,239)\"],[0.375,\"rgb(158,202,225)\"],[0.5,\"rgb(107,174,214)\"],[0.625,\"rgb(66,146,198)\"],[0.75,\"rgb(33,113,181)\"],[0.875,\"rgb(8,81,156)\"],[1.0,\"rgb(8,48,107)\"]],\"connectgaps\":true,\"contours\":{\"coloring\":\"heatmap\"},\"hoverinfo\":\"none\",\"line\":{\"smoothing\":1.3},\"reversescale\":false,\"showscale\":false,\"x\":[\"IncToDec\",\"Iter\"],\"y\":[58.75,103,157,477,514,535,731,848,960,965,988,1032.25],\"z\":[[null,null],[0.7788687702480805,null],[null,0.8401540601453942],[null,0.8445549655227075],[null,0.8467223386334689],[null,0.8439223622588168],[0.8488928488928488,null],[0.9327800596718733,null],[0.8348674780573456,null],[0.8972422000310448,null],[0.9054500001369071,null],[null,null]],\"type\":\"contour\",\"xaxis\":\"x34\",\"yaxis\":\"y34\"},{\"marker\":{\"color\":\"black\",\"line\":{\"color\":\"Grey\",\"width\":2.0}},\"mode\":\"markers\",\"showlegend\":false,\"x\":[\"IncToDec\",\"Iter\",\"Iter\",\"Iter\",\"IncToDec\",\"IncToDec\",\"IncToDec\",\"IncToDec\",\"Iter\",\"IncToDec\"],\"y\":[848,535,514,477,731,960,965,988,157,103],\"type\":\"scatter\",\"xaxis\":\"x34\",\"yaxis\":\"y34\"},{\"colorbar\":{\"title\":{\"text\":\"Objective Value\"}},\"colorscale\":[[0.0,\"rgb(247,251,255)\"],[0.125,\"rgb(222,235,247)\"],[0.25,\"rgb(198,219,239)\"],[0.375,\"rgb(158,202,225)\"],[0.5,\"rgb(107,174,214)\"],[0.625,\"rgb(66,146,198)\"],[0.75,\"rgb(33,113,181)\"],[0.875,\"rgb(8,81,156)\"],[1.0,\"rgb(8,48,107)\"]],\"connectgaps\":true,\"contours\":{\"coloring\":\"heatmap\"},\"hoverinfo\":\"none\",\"line\":{\"smoothing\":1.3},\"reversescale\":false,\"showscale\":false,\"x\":[\"IncToDec\",\"Iter\"],\"y\":[8.082611223563865e-09,2.177264674136021e-08,6.761650264581644e-08,3.3325618326992603e-07,5.599575546655197e-07,1.0908964647451468e-06,2.7282317266243193e-06,0.00025235896782569236,0.0009777279466462803,6.33521950951291,8.812557417717553,23.738949485104087],\"z\":[[null,null],[null,0.8445549655227075],[0.9327800596718733,null],[0.7788687702480805,null],[null,0.8439223622588168],[null,0.8467223386334689],[0.8488928488928488,null],[0.8348674780573456,null],[0.9054500001369071,null],[0.8972422000310448,null],[null,0.8401540601453942],[null,null]],\"type\":\"contour\",\"xaxis\":\"x43\",\"yaxis\":\"y43\"},{\"marker\":{\"color\":\"black\",\"line\":{\"color\":\"Grey\",\"width\":2.0}},\"mode\":\"markers\",\"showlegend\":false,\"x\":[\"IncToDec\",\"Iter\",\"Iter\",\"Iter\",\"IncToDec\",\"IncToDec\",\"IncToDec\",\"IncToDec\",\"Iter\",\"IncToDec\"],\"y\":[6.761650264581644e-08,5.599575546655197e-07,1.0908964647451468e-06,2.177264674136021e-08,2.7282317266243193e-06,0.00025235896782569236,6.33521950951291,0.0009777279466462803,8.812557417717553,3.3325618326992603e-07],\"type\":\"scatter\",\"xaxis\":\"x43\",\"yaxis\":\"y43\"},{\"colorbar\":{\"title\":{\"text\":\"Objective Value\"}},\"colorscale\":[[0.0,\"rgb(247,251,255)\"],[0.125,\"rgb(222,235,247)\"],[0.25,\"rgb(198,219,239)\"],[0.375,\"rgb(158,202,225)\"],[0.5,\"rgb(107,174,214)\"],[0.625,\"rgb(66,146,198)\"],[0.75,\"rgb(33,113,181)\"],[0.875,\"rgb(8,81,156)\"],[1.0,\"rgb(8,48,107)\"]],\"connectgaps\":true,\"contours\":{\"coloring\":\"heatmap\"},\"hoverinfo\":\"none\",\"line\":{\"smoothing\":1.3},\"reversescale\":false,\"showscale\":false,\"x\":[\"IncToDec\",\"Iter\"],\"y\":[0.001981955138599222,0.0022686226693627966,0.0030293896771850033,0.0032457219289456093,0.0035877253620329075,0.004690262736420313,0.006024223854748645,0.013381259618535256,0.015862991717362624,0.030969090455030726,0.033816699350768205,0.03870790476337423],\"z\":[[null,null],[0.8348674780573456,null],[0.8488928488928488,null],[0.7788687702480805,null],[0.9054500001369071,null],[null,0.8467223386334689],[null,0.8445549655227075],[0.8972422000310448,null],[null,0.8439223622588168],[0.9327800596718733,null],[null,0.8401540601453942],[null,null]],\"type\":\"contour\",\"xaxis\":\"x52\",\"yaxis\":\"y52\"},{\"marker\":{\"color\":\"black\",\"line\":{\"color\":\"Grey\",\"width\":2.0}},\"mode\":\"markers\",\"showlegend\":false,\"x\":[\"IncToDec\",\"Iter\",\"Iter\",\"Iter\",\"IncToDec\",\"IncToDec\",\"IncToDec\",\"IncToDec\",\"Iter\",\"IncToDec\"],\"y\":[0.030969090455030726,0.015862991717362624,0.004690262736420313,0.006024223854748645,0.0030293896771850033,0.0022686226693627966,0.013381259618535256,0.0035877253620329075,0.033816699350768205,0.0032457219289456093],\"type\":\"scatter\",\"xaxis\":\"x52\",\"yaxis\":\"y52\"},{\"type\":\"scatter\",\"xaxis\":\"x61\",\"yaxis\":\"y61\"},{\"colorbar\":{\"title\":{\"text\":\"Objective Value\"}},\"colorscale\":[[0.0,\"rgb(247,251,255)\"],[0.125,\"rgb(222,235,247)\"],[0.25,\"rgb(198,219,239)\"],[0.375,\"rgb(158,202,225)\"],[0.5,\"rgb(107,174,214)\"],[0.625,\"rgb(66,146,198)\"],[0.75,\"rgb(33,113,181)\"],[0.875,\"rgb(8,81,156)\"],[1.0,\"rgb(8,48,107)\"]],\"connectgaps\":true,\"contours\":{\"coloring\":\"heatmap\"},\"hoverinfo\":\"none\",\"line\":{\"smoothing\":1.3},\"reversescale\":false,\"showscale\":false,\"x\":[\"IncToDec\",\"Iter\"],\"y\":[10.15,12,13,31,32,33,34,37,41,49,50.85],\"z\":[[null,null],[0.9054500001369071,null],[null,0.8467223386334689],[0.8972422000310448,null],[0.7788687702480805,null],[null,0.8445549655227075],[0.8348674780573456,null],[null,0.8401540601453942],[null,0.8439223622588168],[0.9327800596718733,null],[null,null]],\"type\":\"contour\",\"xaxis\":\"x70\",\"yaxis\":\"y70\"},{\"marker\":{\"color\":\"black\",\"line\":{\"color\":\"Grey\",\"width\":2.0}},\"mode\":\"markers\",\"showlegend\":false,\"x\":[\"IncToDec\",\"Iter\",\"Iter\",\"Iter\",\"IncToDec\",\"IncToDec\",\"IncToDec\",\"IncToDec\",\"Iter\",\"IncToDec\"],\"y\":[49,41,13,33,31,34,31,12,37,32],\"type\":\"scatter\",\"xaxis\":\"x70\",\"yaxis\":\"y70\"},{\"colorbar\":{\"title\":{\"text\":\"Objective Value\"}},\"colorscale\":[[0.0,\"rgb(247,251,255)\"],[0.125,\"rgb(222,235,247)\"],[0.25,\"rgb(198,219,239)\"],[0.375,\"rgb(158,202,225)\"],[0.5,\"rgb(107,174,214)\"],[0.625,\"rgb(66,146,198)\"],[0.75,\"rgb(33,113,181)\"],[0.875,\"rgb(8,81,156)\"],[1.0,\"rgb(8,48,107)\"]],\"connectgaps\":true,\"contours\":{\"coloring\":\"heatmap\"},\"hoverinfo\":\"none\",\"line\":{\"smoothing\":1.3},\"reversescale\":false,\"showscale\":false,\"x\":[\"IncToDec\",\"Iter\"],\"y\":[2.1851611558333197e-08,5.0276120927543057e-08,5.902084180004718e-08,5.097812627692342e-07,1.5025222370910506e-06,0.05864628791691267,0.07344055855215284,0.08427068937969223,0.22660775778981115,0.3417588548444093,0.8688155202255399,1.9989680871810873],\"z\":[[null,null],[null,0.8401540601453942],[0.7788687702480805,null],[0.9327800596718733,null],[0.9054500001369071,null],[null,0.8467223386334689],[0.8348674780573456,null],[null,0.8439223622588168],[0.8488928488928488,null],[0.8972422000310448,null],[null,0.8445549655227075],[null,null]],\"type\":\"contour\",\"xaxis\":\"x79\",\"yaxis\":\"y79\"},{\"marker\":{\"color\":\"black\",\"line\":{\"color\":\"Grey\",\"width\":2.0}},\"mode\":\"markers\",\"showlegend\":false,\"x\":[\"IncToDec\",\"Iter\",\"Iter\",\"Iter\",\"IncToDec\",\"IncToDec\",\"IncToDec\",\"IncToDec\",\"Iter\",\"IncToDec\"],\"y\":[5.097812627692342e-07,0.08427068937969223,0.05864628791691267,0.8688155202255399,0.22660775778981115,0.07344055855215284,0.3417588548444093,1.5025222370910506e-06,5.0276120927543057e-08,5.902084180004718e-08],\"type\":\"scatter\",\"xaxis\":\"x79\",\"yaxis\":\"y79\"},{\"colorbar\":{\"title\":{\"text\":\"Objective Value\"}},\"colorscale\":[[0.0,\"rgb(247,251,255)\"],[0.125,\"rgb(222,235,247)\"],[0.25,\"rgb(198,219,239)\"],[0.375,\"rgb(158,202,225)\"],[0.5,\"rgb(107,174,214)\"],[0.625,\"rgb(66,146,198)\"],[0.75,\"rgb(33,113,181)\"],[0.875,\"rgb(8,81,156)\"],[1.0,\"rgb(8,48,107)\"]],\"connectgaps\":true,\"contours\":{\"coloring\":\"heatmap\"},\"hoverinfo\":\"none\",\"line\":{\"smoothing\":1.3},\"reversescale\":false,\"showscale\":false,\"x\":[10.15,12,13,31,32,33,34,37,41,49,50.85],\"y\":[0.07524656352317749,0.5154099595769013,0.9969436694547473,3.284222142343849,4.048176276985503,4.259563696638634,4.956375001506918,5.492683975039409,5.972208984227953,7.206905770161392,9.318677880651377,9.7588412767051],\"z\":[[null,null,null,null,null,null,null,null,null,null,null],[null,null,null,null,null,null,0.8348674780573456,null,null,null,null],[null,0.9054500001369071,null,null,null,null,null,null,null,null,null],[null,null,null,0.8972422000310448,null,null,null,null,null,null,null],[null,null,null,null,null,null,null,0.8401540601453942,null,null,null],[null,null,0.8467223386334689,null,null,null,null,null,null,null,null],[null,null,null,0.8488928488928488,null,null,null,null,null,null,null],[null,null,null,null,null,0.8445549655227075,null,null,null,null,null],[null,null,null,null,0.7788687702480805,null,null,null,null,null,null],[null,null,null,null,null,null,null,null,null,0.9327800596718733,null],[null,null,null,null,null,null,null,null,0.8439223622588168,null,null],[null,null,null,null,null,null,null,null,null,null,null]],\"type\":\"contour\",\"xaxis\":\"x8\",\"yaxis\":\"y8\"},{\"marker\":{\"color\":\"black\",\"line\":{\"color\":\"Grey\",\"width\":2.0}},\"mode\":\"markers\",\"showlegend\":false,\"x\":[49,41,13,33,31,34,31,12,37,32],\"y\":[7.206905770161392,9.318677880651377,4.259563696638634,5.492683975039409,4.956375001506918,0.5154099595769013,3.284222142343849,0.9969436694547473,4.048176276985503,5.972208984227953],\"type\":\"scatter\",\"xaxis\":\"x8\",\"yaxis\":\"y8\"},{\"showscale\":false,\"type\":\"contour\",\"xaxis\":\"x17\",\"yaxis\":\"y17\"},{\"type\":\"scatter\",\"xaxis\":\"x17\",\"yaxis\":\"y17\"},{\"colorbar\":{\"title\":{\"text\":\"Objective Value\"}},\"colorscale\":[[0.0,\"rgb(247,251,255)\"],[0.125,\"rgb(222,235,247)\"],[0.25,\"rgb(198,219,239)\"],[0.375,\"rgb(158,202,225)\"],[0.5,\"rgb(107,174,214)\"],[0.625,\"rgb(66,146,198)\"],[0.75,\"rgb(33,113,181)\"],[0.875,\"rgb(8,81,156)\"],[1.0,\"rgb(8,48,107)\"]],\"connectgaps\":true,\"contours\":{\"coloring\":\"heatmap\"},\"hoverinfo\":\"none\",\"line\":{\"smoothing\":1.3},\"reversescale\":false,\"showscale\":false,\"x\":[10.15,12,13,31,32,33,34,37,41,49,50.85],\"y\":[3.7,4,7,8,9,10,10.3],\"z\":[[null,null,null,null,null,null,null,null,null,null,null],[null,null,null,null,null,null,0.8348674780573456,null,0.8439223622588168,null,null],[null,null,null,null,null,null,null,0.8401540601453942,null,null,null],[null,null,0.8467223386334689,0.8972422000310448,null,0.8445549655227075,null,null,null,0.9327800596718733,null],[null,null,null,0.8488928488928488,null,null,null,null,null,null,null],[null,0.9054500001369071,null,null,0.7788687702480805,null,null,null,null,null,null],[null,null,null,null,null,null,null,null,null,null,null]],\"type\":\"contour\",\"xaxis\":\"x26\",\"yaxis\":\"y26\"},{\"marker\":{\"color\":\"black\",\"line\":{\"color\":\"Grey\",\"width\":2.0}},\"mode\":\"markers\",\"showlegend\":false,\"x\":[49,41,13,33,31,34,31,12,37,32],\"y\":[8,4,8,8,9,4,8,10,7,10],\"type\":\"scatter\",\"xaxis\":\"x26\",\"yaxis\":\"y26\"},{\"colorbar\":{\"title\":{\"text\":\"Objective Value\"}},\"colorscale\":[[0.0,\"rgb(247,251,255)\"],[0.125,\"rgb(222,235,247)\"],[0.25,\"rgb(198,219,239)\"],[0.375,\"rgb(158,202,225)\"],[0.5,\"rgb(107,174,214)\"],[0.625,\"rgb(66,146,198)\"],[0.75,\"rgb(33,113,181)\"],[0.875,\"rgb(8,81,156)\"],[1.0,\"rgb(8,48,107)\"]],\"connectgaps\":true,\"contours\":{\"coloring\":\"heatmap\"},\"hoverinfo\":\"none\",\"line\":{\"smoothing\":1.3},\"reversescale\":false,\"showscale\":false,\"x\":[10.15,12,13,31,32,33,34,37,41,49,50.85],\"y\":[58.75,103,157,477,514,535,731,848,960,965,988,1032.25],\"z\":[[null,null,null,null,null,null,null,null,null,null,null],[null,null,null,null,0.7788687702480805,null,null,null,null,null,null],[null,null,null,null,null,null,null,0.8401540601453942,null,null,null],[null,null,null,null,null,0.8445549655227075,null,null,null,null,null],[null,null,0.8467223386334689,null,null,null,null,null,null,null,null],[null,null,null,null,null,null,null,null,0.8439223622588168,null,null],[null,null,null,0.8488928488928488,null,null,null,null,null,null,null],[null,null,null,null,null,null,null,null,null,0.9327800596718733,null],[null,null,null,null,null,null,0.8348674780573456,null,null,null,null],[null,null,null,0.8972422000310448,null,null,null,null,null,null,null],[null,0.9054500001369071,null,null,null,null,null,null,null,null,null],[null,null,null,null,null,null,null,null,null,null,null]],\"type\":\"contour\",\"xaxis\":\"x35\",\"yaxis\":\"y35\"},{\"marker\":{\"color\":\"black\",\"line\":{\"color\":\"Grey\",\"width\":2.0}},\"mode\":\"markers\",\"showlegend\":false,\"x\":[49,41,13,33,31,34,31,12,37,32],\"y\":[848,535,514,477,731,960,965,988,157,103],\"type\":\"scatter\",\"xaxis\":\"x35\",\"yaxis\":\"y35\"},{\"colorbar\":{\"title\":{\"text\":\"Objective Value\"}},\"colorscale\":[[0.0,\"rgb(247,251,255)\"],[0.125,\"rgb(222,235,247)\"],[0.25,\"rgb(198,219,239)\"],[0.375,\"rgb(158,202,225)\"],[0.5,\"rgb(107,174,214)\"],[0.625,\"rgb(66,146,198)\"],[0.75,\"rgb(33,113,181)\"],[0.875,\"rgb(8,81,156)\"],[1.0,\"rgb(8,48,107)\"]],\"connectgaps\":true,\"contours\":{\"coloring\":\"heatmap\"},\"hoverinfo\":\"none\",\"line\":{\"smoothing\":1.3},\"reversescale\":false,\"showscale\":false,\"x\":[10.15,12,13,31,32,33,34,37,41,49,50.85],\"y\":[8.082611223563865e-09,2.177264674136021e-08,6.761650264581644e-08,3.3325618326992603e-07,5.599575546655197e-07,1.0908964647451468e-06,2.7282317266243193e-06,0.00025235896782569236,0.0009777279466462803,6.33521950951291,8.812557417717553,23.738949485104087],\"z\":[[null,null,null,null,null,null,null,null,null,null,null],[null,null,null,null,null,0.8445549655227075,null,null,null,null,null],[null,null,null,null,null,null,null,null,null,0.9327800596718733,null],[null,null,null,null,0.7788687702480805,null,null,null,null,null,null],[null,null,null,null,null,null,null,null,0.8439223622588168,null,null],[null,null,0.8467223386334689,null,null,null,null,null,null,null,null],[null,null,null,0.8488928488928488,null,null,null,null,null,null,null],[null,null,null,null,null,null,0.8348674780573456,null,null,null,null],[null,0.9054500001369071,null,null,null,null,null,null,null,null,null],[null,null,null,0.8972422000310448,null,null,null,null,null,null,null],[null,null,null,null,null,null,null,0.8401540601453942,null,null,null],[null,null,null,null,null,null,null,null,null,null,null]],\"type\":\"contour\",\"xaxis\":\"x44\",\"yaxis\":\"y44\"},{\"marker\":{\"color\":\"black\",\"line\":{\"color\":\"Grey\",\"width\":2.0}},\"mode\":\"markers\",\"showlegend\":false,\"x\":[49,41,13,33,31,34,31,12,37,32],\"y\":[6.761650264581644e-08,5.599575546655197e-07,1.0908964647451468e-06,2.177264674136021e-08,2.7282317266243193e-06,0.00025235896782569236,6.33521950951291,0.0009777279466462803,8.812557417717553,3.3325618326992603e-07],\"type\":\"scatter\",\"xaxis\":\"x44\",\"yaxis\":\"y44\"},{\"colorbar\":{\"title\":{\"text\":\"Objective Value\"}},\"colorscale\":[[0.0,\"rgb(247,251,255)\"],[0.125,\"rgb(222,235,247)\"],[0.25,\"rgb(198,219,239)\"],[0.375,\"rgb(158,202,225)\"],[0.5,\"rgb(107,174,214)\"],[0.625,\"rgb(66,146,198)\"],[0.75,\"rgb(33,113,181)\"],[0.875,\"rgb(8,81,156)\"],[1.0,\"rgb(8,48,107)\"]],\"connectgaps\":true,\"contours\":{\"coloring\":\"heatmap\"},\"hoverinfo\":\"none\",\"line\":{\"smoothing\":1.3},\"reversescale\":false,\"showscale\":false,\"x\":[10.15,12,13,31,32,33,34,37,41,49,50.85],\"y\":[0.001981955138599222,0.0022686226693627966,0.0030293896771850033,0.0032457219289456093,0.0035877253620329075,0.004690262736420313,0.006024223854748645,0.013381259618535256,0.015862991717362624,0.030969090455030726,0.033816699350768205,0.03870790476337423],\"z\":[[null,null,null,null,null,null,null,null,null,null,null],[null,null,null,null,null,null,0.8348674780573456,null,null,null,null],[null,null,null,0.8488928488928488,null,null,null,null,null,null,null],[null,null,null,null,0.7788687702480805,null,null,null,null,null,null],[null,0.9054500001369071,null,null,null,null,null,null,null,null,null],[null,null,0.8467223386334689,null,null,null,null,null,null,null,null],[null,null,null,null,null,0.8445549655227075,null,null,null,null,null],[null,null,null,0.8972422000310448,null,null,null,null,null,null,null],[null,null,null,null,null,null,null,null,0.8439223622588168,null,null],[null,null,null,null,null,null,null,null,null,0.9327800596718733,null],[null,null,null,null,null,null,null,0.8401540601453942,null,null,null],[null,null,null,null,null,null,null,null,null,null,null]],\"type\":\"contour\",\"xaxis\":\"x53\",\"yaxis\":\"y53\"},{\"marker\":{\"color\":\"black\",\"line\":{\"color\":\"Grey\",\"width\":2.0}},\"mode\":\"markers\",\"showlegend\":false,\"x\":[49,41,13,33,31,34,31,12,37,32],\"y\":[0.030969090455030726,0.015862991717362624,0.004690262736420313,0.006024223854748645,0.0030293896771850033,0.0022686226693627966,0.013381259618535256,0.0035877253620329075,0.033816699350768205,0.0032457219289456093],\"type\":\"scatter\",\"xaxis\":\"x53\",\"yaxis\":\"y53\"},{\"colorbar\":{\"title\":{\"text\":\"Objective Value\"}},\"colorscale\":[[0.0,\"rgb(247,251,255)\"],[0.125,\"rgb(222,235,247)\"],[0.25,\"rgb(198,219,239)\"],[0.375,\"rgb(158,202,225)\"],[0.5,\"rgb(107,174,214)\"],[0.625,\"rgb(66,146,198)\"],[0.75,\"rgb(33,113,181)\"],[0.875,\"rgb(8,81,156)\"],[1.0,\"rgb(8,48,107)\"]],\"connectgaps\":true,\"contours\":{\"coloring\":\"heatmap\"},\"hoverinfo\":\"none\",\"line\":{\"smoothing\":1.3},\"reversescale\":false,\"showscale\":false,\"x\":[10.15,12,13,31,32,33,34,37,41,49,50.85],\"y\":[\"IncToDec\",\"Iter\"],\"z\":[[null,0.9054500001369071,null,0.8972422000310448,0.7788687702480805,null,0.8348674780573456,null,null,0.9327800596718733,null],[null,null,0.8467223386334689,null,null,0.8445549655227075,null,0.8401540601453942,0.8439223622588168,null,null]],\"type\":\"contour\",\"xaxis\":\"x62\",\"yaxis\":\"y62\"},{\"marker\":{\"color\":\"black\",\"line\":{\"color\":\"Grey\",\"width\":2.0}},\"mode\":\"markers\",\"showlegend\":false,\"x\":[49,41,13,33,31,34,31,12,37,32],\"y\":[\"IncToDec\",\"Iter\",\"Iter\",\"Iter\",\"IncToDec\",\"IncToDec\",\"IncToDec\",\"IncToDec\",\"Iter\",\"IncToDec\"],\"type\":\"scatter\",\"xaxis\":\"x62\",\"yaxis\":\"y62\"},{\"type\":\"scatter\",\"xaxis\":\"x71\",\"yaxis\":\"y71\"},{\"colorbar\":{\"title\":{\"text\":\"Objective Value\"}},\"colorscale\":[[0.0,\"rgb(247,251,255)\"],[0.125,\"rgb(222,235,247)\"],[0.25,\"rgb(198,219,239)\"],[0.375,\"rgb(158,202,225)\"],[0.5,\"rgb(107,174,214)\"],[0.625,\"rgb(66,146,198)\"],[0.75,\"rgb(33,113,181)\"],[0.875,\"rgb(8,81,156)\"],[1.0,\"rgb(8,48,107)\"]],\"connectgaps\":true,\"contours\":{\"coloring\":\"heatmap\"},\"hoverinfo\":\"none\",\"line\":{\"smoothing\":1.3},\"reversescale\":false,\"showscale\":false,\"x\":[10.15,12,13,31,32,33,34,37,41,49,50.85],\"y\":[2.1851611558333197e-08,5.0276120927543057e-08,5.902084180004718e-08,5.097812627692342e-07,1.5025222370910506e-06,0.05864628791691267,0.07344055855215284,0.08427068937969223,0.22660775778981115,0.3417588548444093,0.8688155202255399,1.9989680871810873],\"z\":[[null,null,null,null,null,null,null,null,null,null,null],[null,null,null,null,null,null,null,0.8401540601453942,null,null,null],[null,null,null,null,0.7788687702480805,null,null,null,null,null,null],[null,null,null,null,null,null,null,null,null,0.9327800596718733,null],[null,0.9054500001369071,null,null,null,null,null,null,null,null,null],[null,null,0.8467223386334689,null,null,null,null,null,null,null,null],[null,null,null,null,null,null,0.8348674780573456,null,null,null,null],[null,null,null,null,null,null,null,null,0.8439223622588168,null,null],[null,null,null,0.8488928488928488,null,null,null,null,null,null,null],[null,null,null,0.8972422000310448,null,null,null,null,null,null,null],[null,null,null,null,null,0.8445549655227075,null,null,null,null,null],[null,null,null,null,null,null,null,null,null,null,null]],\"type\":\"contour\",\"xaxis\":\"x80\",\"yaxis\":\"y80\"},{\"marker\":{\"color\":\"black\",\"line\":{\"color\":\"Grey\",\"width\":2.0}},\"mode\":\"markers\",\"showlegend\":false,\"x\":[49,41,13,33,31,34,31,12,37,32],\"y\":[5.097812627692342e-07,0.08427068937969223,0.05864628791691267,0.8688155202255399,0.22660775778981115,0.07344055855215284,0.3417588548444093,1.5025222370910506e-06,5.0276120927543057e-08,5.902084180004718e-08],\"type\":\"scatter\",\"xaxis\":\"x80\",\"yaxis\":\"y80\"},{\"colorbar\":{\"title\":{\"text\":\"Objective Value\"}},\"colorscale\":[[0.0,\"rgb(247,251,255)\"],[0.125,\"rgb(222,235,247)\"],[0.25,\"rgb(198,219,239)\"],[0.375,\"rgb(158,202,225)\"],[0.5,\"rgb(107,174,214)\"],[0.625,\"rgb(66,146,198)\"],[0.75,\"rgb(33,113,181)\"],[0.875,\"rgb(8,81,156)\"],[1.0,\"rgb(8,48,107)\"]],\"connectgaps\":true,\"contours\":{\"coloring\":\"heatmap\"},\"hoverinfo\":\"none\",\"line\":{\"smoothing\":1.3},\"reversescale\":false,\"showscale\":false,\"x\":[2.1851611558333197e-08,5.0276120927543057e-08,5.902084180004718e-08,5.097812627692342e-07,1.5025222370910506e-06,0.05864628791691267,0.07344055855215284,0.08427068937969223,0.22660775778981115,0.3417588548444093,0.8688155202255399,1.9989680871810873],\"y\":[0.07524656352317749,0.5154099595769013,0.9969436694547473,3.284222142343849,4.048176276985503,4.259563696638634,4.956375001506918,5.492683975039409,5.972208984227953,7.206905770161392,9.318677880651377,9.7588412767051],\"z\":[[null,null,null,null,null,null,null,null,null,null,null,null],[null,null,null,null,null,null,0.8348674780573456,null,null,null,null,null],[null,null,null,null,0.9054500001369071,null,null,null,null,null,null,null],[null,null,null,null,null,null,null,null,null,0.8972422000310448,null,null],[null,0.8401540601453942,null,null,null,null,null,null,null,null,null,null],[null,null,null,null,null,0.8467223386334689,null,null,null,null,null,null],[null,null,null,null,null,null,null,null,0.8488928488928488,null,null,null],[null,null,null,null,null,null,null,null,null,null,0.8445549655227075,null],[null,null,0.7788687702480805,null,null,null,null,null,null,null,null,null],[null,null,null,0.9327800596718733,null,null,null,null,null,null,null,null],[null,null,null,null,null,null,null,0.8439223622588168,null,null,null,null],[null,null,null,null,null,null,null,null,null,null,null,null]],\"type\":\"contour\",\"xaxis\":\"x9\",\"yaxis\":\"y9\"},{\"marker\":{\"color\":\"black\",\"line\":{\"color\":\"Grey\",\"width\":2.0}},\"mode\":\"markers\",\"showlegend\":false,\"x\":[5.097812627692342e-07,0.08427068937969223,0.05864628791691267,0.8688155202255399,0.22660775778981115,0.07344055855215284,0.3417588548444093,1.5025222370910506e-06,5.0276120927543057e-08,5.902084180004718e-08],\"y\":[7.206905770161392,9.318677880651377,4.259563696638634,5.492683975039409,4.956375001506918,0.5154099595769013,3.284222142343849,0.9969436694547473,4.048176276985503,5.972208984227953],\"type\":\"scatter\",\"xaxis\":\"x9\",\"yaxis\":\"y9\"},{\"showscale\":false,\"type\":\"contour\",\"xaxis\":\"x18\",\"yaxis\":\"y18\"},{\"type\":\"scatter\",\"xaxis\":\"x18\",\"yaxis\":\"y18\"},{\"colorbar\":{\"title\":{\"text\":\"Objective Value\"}},\"colorscale\":[[0.0,\"rgb(247,251,255)\"],[0.125,\"rgb(222,235,247)\"],[0.25,\"rgb(198,219,239)\"],[0.375,\"rgb(158,202,225)\"],[0.5,\"rgb(107,174,214)\"],[0.625,\"rgb(66,146,198)\"],[0.75,\"rgb(33,113,181)\"],[0.875,\"rgb(8,81,156)\"],[1.0,\"rgb(8,48,107)\"]],\"connectgaps\":true,\"contours\":{\"coloring\":\"heatmap\"},\"hoverinfo\":\"none\",\"line\":{\"smoothing\":1.3},\"reversescale\":false,\"showscale\":false,\"x\":[2.1851611558333197e-08,5.0276120927543057e-08,5.902084180004718e-08,5.097812627692342e-07,1.5025222370910506e-06,0.05864628791691267,0.07344055855215284,0.08427068937969223,0.22660775778981115,0.3417588548444093,0.8688155202255399,1.9989680871810873],\"y\":[3.7,4,7,8,9,10,10.3],\"z\":[[null,null,null,null,null,null,null,null,null,null,null,null],[null,null,null,null,null,null,0.8348674780573456,0.8439223622588168,null,null,null,null],[null,0.8401540601453942,null,null,null,null,null,null,null,null,null,null],[null,null,null,0.9327800596718733,null,0.8467223386334689,null,null,null,0.8972422000310448,0.8445549655227075,null],[null,null,null,null,null,null,null,null,0.8488928488928488,null,null,null],[null,null,0.7788687702480805,null,0.9054500001369071,null,null,null,null,null,null,null],[null,null,null,null,null,null,null,null,null,null,null,null]],\"type\":\"contour\",\"xaxis\":\"x27\",\"yaxis\":\"y27\"},{\"marker\":{\"color\":\"black\",\"line\":{\"color\":\"Grey\",\"width\":2.0}},\"mode\":\"markers\",\"showlegend\":false,\"x\":[5.097812627692342e-07,0.08427068937969223,0.05864628791691267,0.8688155202255399,0.22660775778981115,0.07344055855215284,0.3417588548444093,1.5025222370910506e-06,5.0276120927543057e-08,5.902084180004718e-08],\"y\":[8,4,8,8,9,4,8,10,7,10],\"type\":\"scatter\",\"xaxis\":\"x27\",\"yaxis\":\"y27\"},{\"colorbar\":{\"title\":{\"text\":\"Objective Value\"}},\"colorscale\":[[0.0,\"rgb(247,251,255)\"],[0.125,\"rgb(222,235,247)\"],[0.25,\"rgb(198,219,239)\"],[0.375,\"rgb(158,202,225)\"],[0.5,\"rgb(107,174,214)\"],[0.625,\"rgb(66,146,198)\"],[0.75,\"rgb(33,113,181)\"],[0.875,\"rgb(8,81,156)\"],[1.0,\"rgb(8,48,107)\"]],\"connectgaps\":true,\"contours\":{\"coloring\":\"heatmap\"},\"hoverinfo\":\"none\",\"line\":{\"smoothing\":1.3},\"reversescale\":false,\"showscale\":false,\"x\":[2.1851611558333197e-08,5.0276120927543057e-08,5.902084180004718e-08,5.097812627692342e-07,1.5025222370910506e-06,0.05864628791691267,0.07344055855215284,0.08427068937969223,0.22660775778981115,0.3417588548444093,0.8688155202255399,1.9989680871810873],\"y\":[58.75,103,157,477,514,535,731,848,960,965,988,1032.25],\"z\":[[null,null,null,null,null,null,null,null,null,null,null,null],[null,null,0.7788687702480805,null,null,null,null,null,null,null,null,null],[null,0.8401540601453942,null,null,null,null,null,null,null,null,null,null],[null,null,null,null,null,null,null,null,null,null,0.8445549655227075,null],[null,null,null,null,null,0.8467223386334689,null,null,null,null,null,null],[null,null,null,null,null,null,null,0.8439223622588168,null,null,null,null],[null,null,null,null,null,null,null,null,0.8488928488928488,null,null,null],[null,null,null,0.9327800596718733,null,null,null,null,null,null,null,null],[null,null,null,null,null,null,0.8348674780573456,null,null,null,null,null],[null,null,null,null,null,null,null,null,null,0.8972422000310448,null,null],[null,null,null,null,0.9054500001369071,null,null,null,null,null,null,null],[null,null,null,null,null,null,null,null,null,null,null,null]],\"type\":\"contour\",\"xaxis\":\"x36\",\"yaxis\":\"y36\"},{\"marker\":{\"color\":\"black\",\"line\":{\"color\":\"Grey\",\"width\":2.0}},\"mode\":\"markers\",\"showlegend\":false,\"x\":[5.097812627692342e-07,0.08427068937969223,0.05864628791691267,0.8688155202255399,0.22660775778981115,0.07344055855215284,0.3417588548444093,1.5025222370910506e-06,5.0276120927543057e-08,5.902084180004718e-08],\"y\":[848,535,514,477,731,960,965,988,157,103],\"type\":\"scatter\",\"xaxis\":\"x36\",\"yaxis\":\"y36\"},{\"colorbar\":{\"title\":{\"text\":\"Objective Value\"}},\"colorscale\":[[0.0,\"rgb(247,251,255)\"],[0.125,\"rgb(222,235,247)\"],[0.25,\"rgb(198,219,239)\"],[0.375,\"rgb(158,202,225)\"],[0.5,\"rgb(107,174,214)\"],[0.625,\"rgb(66,146,198)\"],[0.75,\"rgb(33,113,181)\"],[0.875,\"rgb(8,81,156)\"],[1.0,\"rgb(8,48,107)\"]],\"connectgaps\":true,\"contours\":{\"coloring\":\"heatmap\"},\"hoverinfo\":\"none\",\"line\":{\"smoothing\":1.3},\"reversescale\":false,\"showscale\":false,\"x\":[2.1851611558333197e-08,5.0276120927543057e-08,5.902084180004718e-08,5.097812627692342e-07,1.5025222370910506e-06,0.05864628791691267,0.07344055855215284,0.08427068937969223,0.22660775778981115,0.3417588548444093,0.8688155202255399,1.9989680871810873],\"y\":[8.082611223563865e-09,2.177264674136021e-08,6.761650264581644e-08,3.3325618326992603e-07,5.599575546655197e-07,1.0908964647451468e-06,2.7282317266243193e-06,0.00025235896782569236,0.0009777279466462803,6.33521950951291,8.812557417717553,23.738949485104087],\"z\":[[null,null,null,null,null,null,null,null,null,null,null,null],[null,null,null,null,null,null,null,null,null,null,0.8445549655227075,null],[null,null,null,0.9327800596718733,null,null,null,null,null,null,null,null],[null,null,0.7788687702480805,null,null,null,null,null,null,null,null,null],[null,null,null,null,null,null,null,0.8439223622588168,null,null,null,null],[null,null,null,null,null,0.8467223386334689,null,null,null,null,null,null],[null,null,null,null,null,null,null,null,0.8488928488928488,null,null,null],[null,null,null,null,null,null,0.8348674780573456,null,null,null,null,null],[null,null,null,null,0.9054500001369071,null,null,null,null,null,null,null],[null,null,null,null,null,null,null,null,null,0.8972422000310448,null,null],[null,0.8401540601453942,null,null,null,null,null,null,null,null,null,null],[null,null,null,null,null,null,null,null,null,null,null,null]],\"type\":\"contour\",\"xaxis\":\"x45\",\"yaxis\":\"y45\"},{\"marker\":{\"color\":\"black\",\"line\":{\"color\":\"Grey\",\"width\":2.0}},\"mode\":\"markers\",\"showlegend\":false,\"x\":[5.097812627692342e-07,0.08427068937969223,0.05864628791691267,0.8688155202255399,0.22660775778981115,0.07344055855215284,0.3417588548444093,1.5025222370910506e-06,5.0276120927543057e-08,5.902084180004718e-08],\"y\":[6.761650264581644e-08,5.599575546655197e-07,1.0908964647451468e-06,2.177264674136021e-08,2.7282317266243193e-06,0.00025235896782569236,6.33521950951291,0.0009777279466462803,8.812557417717553,3.3325618326992603e-07],\"type\":\"scatter\",\"xaxis\":\"x45\",\"yaxis\":\"y45\"},{\"colorbar\":{\"title\":{\"text\":\"Objective Value\"}},\"colorscale\":[[0.0,\"rgb(247,251,255)\"],[0.125,\"rgb(222,235,247)\"],[0.25,\"rgb(198,219,239)\"],[0.375,\"rgb(158,202,225)\"],[0.5,\"rgb(107,174,214)\"],[0.625,\"rgb(66,146,198)\"],[0.75,\"rgb(33,113,181)\"],[0.875,\"rgb(8,81,156)\"],[1.0,\"rgb(8,48,107)\"]],\"connectgaps\":true,\"contours\":{\"coloring\":\"heatmap\"},\"hoverinfo\":\"none\",\"line\":{\"smoothing\":1.3},\"reversescale\":false,\"showscale\":false,\"x\":[2.1851611558333197e-08,5.0276120927543057e-08,5.902084180004718e-08,5.097812627692342e-07,1.5025222370910506e-06,0.05864628791691267,0.07344055855215284,0.08427068937969223,0.22660775778981115,0.3417588548444093,0.8688155202255399,1.9989680871810873],\"y\":[0.001981955138599222,0.0022686226693627966,0.0030293896771850033,0.0032457219289456093,0.0035877253620329075,0.004690262736420313,0.006024223854748645,0.013381259618535256,0.015862991717362624,0.030969090455030726,0.033816699350768205,0.03870790476337423],\"z\":[[null,null,null,null,null,null,null,null,null,null,null,null],[null,null,null,null,null,null,0.8348674780573456,null,null,null,null,null],[null,null,null,null,null,null,null,null,0.8488928488928488,null,null,null],[null,null,0.7788687702480805,null,null,null,null,null,null,null,null,null],[null,null,null,null,0.9054500001369071,null,null,null,null,null,null,null],[null,null,null,null,null,0.8467223386334689,null,null,null,null,null,null],[null,null,null,null,null,null,null,null,null,null,0.8445549655227075,null],[null,null,null,null,null,null,null,null,null,0.8972422000310448,null,null],[null,null,null,null,null,null,null,0.8439223622588168,null,null,null,null],[null,null,null,0.9327800596718733,null,null,null,null,null,null,null,null],[null,0.8401540601453942,null,null,null,null,null,null,null,null,null,null],[null,null,null,null,null,null,null,null,null,null,null,null]],\"type\":\"contour\",\"xaxis\":\"x54\",\"yaxis\":\"y54\"},{\"marker\":{\"color\":\"black\",\"line\":{\"color\":\"Grey\",\"width\":2.0}},\"mode\":\"markers\",\"showlegend\":false,\"x\":[5.097812627692342e-07,0.08427068937969223,0.05864628791691267,0.8688155202255399,0.22660775778981115,0.07344055855215284,0.3417588548444093,1.5025222370910506e-06,5.0276120927543057e-08,5.902084180004718e-08],\"y\":[0.030969090455030726,0.015862991717362624,0.004690262736420313,0.006024223854748645,0.0030293896771850033,0.0022686226693627966,0.013381259618535256,0.0035877253620329075,0.033816699350768205,0.0032457219289456093],\"type\":\"scatter\",\"xaxis\":\"x54\",\"yaxis\":\"y54\"},{\"colorbar\":{\"title\":{\"text\":\"Objective Value\"}},\"colorscale\":[[0.0,\"rgb(247,251,255)\"],[0.125,\"rgb(222,235,247)\"],[0.25,\"rgb(198,219,239)\"],[0.375,\"rgb(158,202,225)\"],[0.5,\"rgb(107,174,214)\"],[0.625,\"rgb(66,146,198)\"],[0.75,\"rgb(33,113,181)\"],[0.875,\"rgb(8,81,156)\"],[1.0,\"rgb(8,48,107)\"]],\"connectgaps\":true,\"contours\":{\"coloring\":\"heatmap\"},\"hoverinfo\":\"none\",\"line\":{\"smoothing\":1.3},\"reversescale\":false,\"showscale\":false,\"x\":[2.1851611558333197e-08,5.0276120927543057e-08,5.902084180004718e-08,5.097812627692342e-07,1.5025222370910506e-06,0.05864628791691267,0.07344055855215284,0.08427068937969223,0.22660775778981115,0.3417588548444093,0.8688155202255399,1.9989680871810873],\"y\":[\"IncToDec\",\"Iter\"],\"z\":[[null,null,0.7788687702480805,0.9327800596718733,0.9054500001369071,null,0.8348674780573456,null,0.8488928488928488,0.8972422000310448,null,null],[null,0.8401540601453942,null,null,null,0.8467223386334689,null,0.8439223622588168,null,null,0.8445549655227075,null]],\"type\":\"contour\",\"xaxis\":\"x63\",\"yaxis\":\"y63\"},{\"marker\":{\"color\":\"black\",\"line\":{\"color\":\"Grey\",\"width\":2.0}},\"mode\":\"markers\",\"showlegend\":false,\"x\":[5.097812627692342e-07,0.08427068937969223,0.05864628791691267,0.8688155202255399,0.22660775778981115,0.07344055855215284,0.3417588548444093,1.5025222370910506e-06,5.0276120927543057e-08,5.902084180004718e-08],\"y\":[\"IncToDec\",\"Iter\",\"Iter\",\"Iter\",\"IncToDec\",\"IncToDec\",\"IncToDec\",\"IncToDec\",\"Iter\",\"IncToDec\"],\"type\":\"scatter\",\"xaxis\":\"x63\",\"yaxis\":\"y63\"},{\"colorbar\":{\"title\":{\"text\":\"Objective Value\"}},\"colorscale\":[[0.0,\"rgb(247,251,255)\"],[0.125,\"rgb(222,235,247)\"],[0.25,\"rgb(198,219,239)\"],[0.375,\"rgb(158,202,225)\"],[0.5,\"rgb(107,174,214)\"],[0.625,\"rgb(66,146,198)\"],[0.75,\"rgb(33,113,181)\"],[0.875,\"rgb(8,81,156)\"],[1.0,\"rgb(8,48,107)\"]],\"connectgaps\":true,\"contours\":{\"coloring\":\"heatmap\"},\"hoverinfo\":\"none\",\"line\":{\"smoothing\":1.3},\"reversescale\":false,\"showscale\":false,\"x\":[2.1851611558333197e-08,5.0276120927543057e-08,5.902084180004718e-08,5.097812627692342e-07,1.5025222370910506e-06,0.05864628791691267,0.07344055855215284,0.08427068937969223,0.22660775778981115,0.3417588548444093,0.8688155202255399,1.9989680871810873],\"y\":[10.15,12,13,31,32,33,34,37,41,49,50.85],\"z\":[[null,null,null,null,null,null,null,null,null,null,null,null],[null,null,null,null,0.9054500001369071,null,null,null,null,null,null,null],[null,null,null,null,null,0.8467223386334689,null,null,null,null,null,null],[null,null,null,null,null,null,null,null,0.8488928488928488,0.8972422000310448,null,null],[null,null,0.7788687702480805,null,null,null,null,null,null,null,null,null],[null,null,null,null,null,null,null,null,null,null,0.8445549655227075,null],[null,null,null,null,null,null,0.8348674780573456,null,null,null,null,null],[null,0.8401540601453942,null,null,null,null,null,null,null,null,null,null],[null,null,null,null,null,null,null,0.8439223622588168,null,null,null,null],[null,null,null,0.9327800596718733,null,null,null,null,null,null,null,null],[null,null,null,null,null,null,null,null,null,null,null,null]],\"type\":\"contour\",\"xaxis\":\"x72\",\"yaxis\":\"y72\"},{\"marker\":{\"color\":\"black\",\"line\":{\"color\":\"Grey\",\"width\":2.0}},\"mode\":\"markers\",\"showlegend\":false,\"x\":[5.097812627692342e-07,0.08427068937969223,0.05864628791691267,0.8688155202255399,0.22660775778981115,0.07344055855215284,0.3417588548444093,1.5025222370910506e-06,5.0276120927543057e-08,5.902084180004718e-08],\"y\":[49,41,13,33,31,34,31,12,37,32],\"type\":\"scatter\",\"xaxis\":\"x72\",\"yaxis\":\"y72\"},{\"type\":\"scatter\",\"xaxis\":\"x81\",\"yaxis\":\"y81\"}],                        {\"template\":{\"data\":{\"bar\":[{\"error_x\":{\"color\":\"#2a3f5f\"},\"error_y\":{\"color\":\"#2a3f5f\"},\"marker\":{\"line\":{\"color\":\"#E5ECF6\",\"width\":0.5},\"pattern\":{\"fillmode\":\"overlay\",\"size\":10,\"solidity\":0.2}},\"type\":\"bar\"}],\"barpolar\":[{\"marker\":{\"line\":{\"color\":\"#E5ECF6\",\"width\":0.5},\"pattern\":{\"fillmode\":\"overlay\",\"size\":10,\"solidity\":0.2}},\"type\":\"barpolar\"}],\"carpet\":[{\"aaxis\":{\"endlinecolor\":\"#2a3f5f\",\"gridcolor\":\"white\",\"linecolor\":\"white\",\"minorgridcolor\":\"white\",\"startlinecolor\":\"#2a3f5f\"},\"baxis\":{\"endlinecolor\":\"#2a3f5f\",\"gridcolor\":\"white\",\"linecolor\":\"white\",\"minorgridcolor\":\"white\",\"startlinecolor\":\"#2a3f5f\"},\"type\":\"carpet\"}],\"choropleth\":[{\"colorbar\":{\"outlinewidth\":0,\"ticks\":\"\"},\"type\":\"choropleth\"}],\"contour\":[{\"colorbar\":{\"outlinewidth\":0,\"ticks\":\"\"},\"colorscale\":[[0.0,\"#0d0887\"],[0.1111111111111111,\"#46039f\"],[0.2222222222222222,\"#7201a8\"],[0.3333333333333333,\"#9c179e\"],[0.4444444444444444,\"#bd3786\"],[0.5555555555555556,\"#d8576b\"],[0.6666666666666666,\"#ed7953\"],[0.7777777777777778,\"#fb9f3a\"],[0.8888888888888888,\"#fdca26\"],[1.0,\"#f0f921\"]],\"type\":\"contour\"}],\"contourcarpet\":[{\"colorbar\":{\"outlinewidth\":0,\"ticks\":\"\"},\"type\":\"contourcarpet\"}],\"heatmap\":[{\"colorbar\":{\"outlinewidth\":0,\"ticks\":\"\"},\"colorscale\":[[0.0,\"#0d0887\"],[0.1111111111111111,\"#46039f\"],[0.2222222222222222,\"#7201a8\"],[0.3333333333333333,\"#9c179e\"],[0.4444444444444444,\"#bd3786\"],[0.5555555555555556,\"#d8576b\"],[0.6666666666666666,\"#ed7953\"],[0.7777777777777778,\"#fb9f3a\"],[0.8888888888888888,\"#fdca26\"],[1.0,\"#f0f921\"]],\"type\":\"heatmap\"}],\"heatmapgl\":[{\"colorbar\":{\"outlinewidth\":0,\"ticks\":\"\"},\"colorscale\":[[0.0,\"#0d0887\"],[0.1111111111111111,\"#46039f\"],[0.2222222222222222,\"#7201a8\"],[0.3333333333333333,\"#9c179e\"],[0.4444444444444444,\"#bd3786\"],[0.5555555555555556,\"#d8576b\"],[0.6666666666666666,\"#ed7953\"],[0.7777777777777778,\"#fb9f3a\"],[0.8888888888888888,\"#fdca26\"],[1.0,\"#f0f921\"]],\"type\":\"heatmapgl\"}],\"histogram\":[{\"marker\":{\"pattern\":{\"fillmode\":\"overlay\",\"size\":10,\"solidity\":0.2}},\"type\":\"histogram\"}],\"histogram2d\":[{\"colorbar\":{\"outlinewidth\":0,\"ticks\":\"\"},\"colorscale\":[[0.0,\"#0d0887\"],[0.1111111111111111,\"#46039f\"],[0.2222222222222222,\"#7201a8\"],[0.3333333333333333,\"#9c179e\"],[0.4444444444444444,\"#bd3786\"],[0.5555555555555556,\"#d8576b\"],[0.6666666666666666,\"#ed7953\"],[0.7777777777777778,\"#fb9f3a\"],[0.8888888888888888,\"#fdca26\"],[1.0,\"#f0f921\"]],\"type\":\"histogram2d\"}],\"histogram2dcontour\":[{\"colorbar\":{\"outlinewidth\":0,\"ticks\":\"\"},\"colorscale\":[[0.0,\"#0d0887\"],[0.1111111111111111,\"#46039f\"],[0.2222222222222222,\"#7201a8\"],[0.3333333333333333,\"#9c179e\"],[0.4444444444444444,\"#bd3786\"],[0.5555555555555556,\"#d8576b\"],[0.6666666666666666,\"#ed7953\"],[0.7777777777777778,\"#fb9f3a\"],[0.8888888888888888,\"#fdca26\"],[1.0,\"#f0f921\"]],\"type\":\"histogram2dcontour\"}],\"mesh3d\":[{\"colorbar\":{\"outlinewidth\":0,\"ticks\":\"\"},\"type\":\"mesh3d\"}],\"parcoords\":[{\"line\":{\"colorbar\":{\"outlinewidth\":0,\"ticks\":\"\"}},\"type\":\"parcoords\"}],\"pie\":[{\"automargin\":true,\"type\":\"pie\"}],\"scatter\":[{\"marker\":{\"colorbar\":{\"outlinewidth\":0,\"ticks\":\"\"}},\"type\":\"scatter\"}],\"scatter3d\":[{\"line\":{\"colorbar\":{\"outlinewidth\":0,\"ticks\":\"\"}},\"marker\":{\"colorbar\":{\"outlinewidth\":0,\"ticks\":\"\"}},\"type\":\"scatter3d\"}],\"scattercarpet\":[{\"marker\":{\"colorbar\":{\"outlinewidth\":0,\"ticks\":\"\"}},\"type\":\"scattercarpet\"}],\"scattergeo\":[{\"marker\":{\"colorbar\":{\"outlinewidth\":0,\"ticks\":\"\"}},\"type\":\"scattergeo\"}],\"scattergl\":[{\"marker\":{\"colorbar\":{\"outlinewidth\":0,\"ticks\":\"\"}},\"type\":\"scattergl\"}],\"scattermapbox\":[{\"marker\":{\"colorbar\":{\"outlinewidth\":0,\"ticks\":\"\"}},\"type\":\"scattermapbox\"}],\"scatterpolar\":[{\"marker\":{\"colorbar\":{\"outlinewidth\":0,\"ticks\":\"\"}},\"type\":\"scatterpolar\"}],\"scatterpolargl\":[{\"marker\":{\"colorbar\":{\"outlinewidth\":0,\"ticks\":\"\"}},\"type\":\"scatterpolargl\"}],\"scatterternary\":[{\"marker\":{\"colorbar\":{\"outlinewidth\":0,\"ticks\":\"\"}},\"type\":\"scatterternary\"}],\"surface\":[{\"colorbar\":{\"outlinewidth\":0,\"ticks\":\"\"},\"colorscale\":[[0.0,\"#0d0887\"],[0.1111111111111111,\"#46039f\"],[0.2222222222222222,\"#7201a8\"],[0.3333333333333333,\"#9c179e\"],[0.4444444444444444,\"#bd3786\"],[0.5555555555555556,\"#d8576b\"],[0.6666666666666666,\"#ed7953\"],[0.7777777777777778,\"#fb9f3a\"],[0.8888888888888888,\"#fdca26\"],[1.0,\"#f0f921\"]],\"type\":\"surface\"}],\"table\":[{\"cells\":{\"fill\":{\"color\":\"#EBF0F8\"},\"line\":{\"color\":\"white\"}},\"header\":{\"fill\":{\"color\":\"#C8D4E3\"},\"line\":{\"color\":\"white\"}},\"type\":\"table\"}]},\"layout\":{\"annotationdefaults\":{\"arrowcolor\":\"#2a3f5f\",\"arrowhead\":0,\"arrowwidth\":1},\"autotypenumbers\":\"strict\",\"coloraxis\":{\"colorbar\":{\"outlinewidth\":0,\"ticks\":\"\"}},\"colorscale\":{\"diverging\":[[0,\"#8e0152\"],[0.1,\"#c51b7d\"],[0.2,\"#de77ae\"],[0.3,\"#f1b6da\"],[0.4,\"#fde0ef\"],[0.5,\"#f7f7f7\"],[0.6,\"#e6f5d0\"],[0.7,\"#b8e186\"],[0.8,\"#7fbc41\"],[0.9,\"#4d9221\"],[1,\"#276419\"]],\"sequential\":[[0.0,\"#0d0887\"],[0.1111111111111111,\"#46039f\"],[0.2222222222222222,\"#7201a8\"],[0.3333333333333333,\"#9c179e\"],[0.4444444444444444,\"#bd3786\"],[0.5555555555555556,\"#d8576b\"],[0.6666666666666666,\"#ed7953\"],[0.7777777777777778,\"#fb9f3a\"],[0.8888888888888888,\"#fdca26\"],[1.0,\"#f0f921\"]],\"sequentialminus\":[[0.0,\"#0d0887\"],[0.1111111111111111,\"#46039f\"],[0.2222222222222222,\"#7201a8\"],[0.3333333333333333,\"#9c179e\"],[0.4444444444444444,\"#bd3786\"],[0.5555555555555556,\"#d8576b\"],[0.6666666666666666,\"#ed7953\"],[0.7777777777777778,\"#fb9f3a\"],[0.8888888888888888,\"#fdca26\"],[1.0,\"#f0f921\"]]},\"colorway\":[\"#636efa\",\"#EF553B\",\"#00cc96\",\"#ab63fa\",\"#FFA15A\",\"#19d3f3\",\"#FF6692\",\"#B6E880\",\"#FF97FF\",\"#FECB52\"],\"font\":{\"color\":\"#2a3f5f\"},\"geo\":{\"bgcolor\":\"white\",\"lakecolor\":\"white\",\"landcolor\":\"#E5ECF6\",\"showlakes\":true,\"showland\":true,\"subunitcolor\":\"white\"},\"hoverlabel\":{\"align\":\"left\"},\"hovermode\":\"closest\",\"mapbox\":{\"style\":\"light\"},\"paper_bgcolor\":\"white\",\"plot_bgcolor\":\"#E5ECF6\",\"polar\":{\"angularaxis\":{\"gridcolor\":\"white\",\"linecolor\":\"white\",\"ticks\":\"\"},\"bgcolor\":\"#E5ECF6\",\"radialaxis\":{\"gridcolor\":\"white\",\"linecolor\":\"white\",\"ticks\":\"\"}},\"scene\":{\"xaxis\":{\"backgroundcolor\":\"#E5ECF6\",\"gridcolor\":\"white\",\"gridwidth\":2,\"linecolor\":\"white\",\"showbackground\":true,\"ticks\":\"\",\"zerolinecolor\":\"white\"},\"yaxis\":{\"backgroundcolor\":\"#E5ECF6\",\"gridcolor\":\"white\",\"gridwidth\":2,\"linecolor\":\"white\",\"showbackground\":true,\"ticks\":\"\",\"zerolinecolor\":\"white\"},\"zaxis\":{\"backgroundcolor\":\"#E5ECF6\",\"gridcolor\":\"white\",\"gridwidth\":2,\"linecolor\":\"white\",\"showbackground\":true,\"ticks\":\"\",\"zerolinecolor\":\"white\"}},\"shapedefaults\":{\"line\":{\"color\":\"#2a3f5f\"}},\"ternary\":{\"aaxis\":{\"gridcolor\":\"white\",\"linecolor\":\"white\",\"ticks\":\"\"},\"baxis\":{\"gridcolor\":\"white\",\"linecolor\":\"white\",\"ticks\":\"\"},\"bgcolor\":\"#E5ECF6\",\"caxis\":{\"gridcolor\":\"white\",\"linecolor\":\"white\",\"ticks\":\"\"}},\"title\":{\"x\":0.05},\"xaxis\":{\"automargin\":true,\"gridcolor\":\"white\",\"linecolor\":\"white\",\"ticks\":\"\",\"title\":{\"standoff\":15},\"zerolinecolor\":\"white\",\"zerolinewidth\":2},\"yaxis\":{\"automargin\":true,\"gridcolor\":\"white\",\"linecolor\":\"white\",\"ticks\":\"\",\"title\":{\"standoff\":15},\"zerolinecolor\":\"white\",\"zerolinewidth\":2}}},\"xaxis\":{\"anchor\":\"y\",\"domain\":[0.0,0.09135802469135802],\"matches\":\"x73\",\"showticklabels\":false,\"range\":[0.07524656352317749,9.7588412767051]},\"yaxis\":{\"anchor\":\"x\",\"domain\":[0.9185185185185185,1.0],\"range\":[0.07524656352317749,9.7588412767051],\"title\":{\"text\":\"bagging_temperature\"}},\"xaxis2\":{\"anchor\":\"y2\",\"domain\":[0.11358024691358025,0.20493827160493827],\"matches\":\"x74\",\"showticklabels\":false,\"range\":[-0.0,0.0],\"type\":\"category\"},\"yaxis2\":{\"anchor\":\"x2\",\"domain\":[0.9185185185185185,1.0],\"matches\":\"y\",\"showticklabels\":false,\"range\":[0.07524656352317749,9.7588412767051]},\"xaxis3\":{\"anchor\":\"y3\",\"domain\":[0.2271604938271605,0.31851851851851853],\"matches\":\"x75\",\"showticklabels\":false,\"range\":[3.7,10.3]},\"yaxis3\":{\"anchor\":\"x3\",\"domain\":[0.9185185185185185,1.0],\"matches\":\"y\",\"showticklabels\":false,\"range\":[0.07524656352317749,9.7588412767051]},\"xaxis4\":{\"anchor\":\"y4\",\"domain\":[0.34074074074074073,0.43209876543209874],\"matches\":\"x76\",\"showticklabels\":false,\"range\":[58.75,1032.25]},\"yaxis4\":{\"anchor\":\"x4\",\"domain\":[0.9185185185185185,1.0],\"matches\":\"y\",\"showticklabels\":false,\"range\":[0.07524656352317749,9.7588412767051]},\"xaxis5\":{\"anchor\":\"y5\",\"domain\":[0.454320987654321,0.5456790123456791],\"matches\":\"x77\",\"showticklabels\":false,\"range\":[-8.092448310416042,1.37546149629856],\"type\":\"log\"},\"yaxis5\":{\"anchor\":\"x5\",\"domain\":[0.9185185185185185,1.0],\"matches\":\"y\",\"showticklabels\":false,\"range\":[0.07524656352317749,9.7588412767051]},\"xaxis6\":{\"anchor\":\"y6\",\"domain\":[0.5679012345679012,0.6592592592592592],\"matches\":\"x78\",\"showticklabels\":false,\"range\":[-2.702906179961392,-1.412200336155391],\"type\":\"log\"},\"yaxis6\":{\"anchor\":\"x6\",\"domain\":[0.9185185185185185,1.0],\"matches\":\"y\",\"showticklabels\":false,\"range\":[0.07524656352317749,9.7588412767051]},\"xaxis7\":{\"anchor\":\"y7\",\"domain\":[0.6814814814814815,0.7728395061728395],\"matches\":\"x79\",\"showticklabels\":false,\"range\":[-0.05,1.05],\"type\":\"category\"},\"yaxis7\":{\"anchor\":\"x7\",\"domain\":[0.9185185185185185,1.0],\"matches\":\"y\",\"showticklabels\":false,\"range\":[0.07524656352317749,9.7588412767051]},\"xaxis8\":{\"anchor\":\"y8\",\"domain\":[0.7950617283950617,0.8864197530864197],\"matches\":\"x80\",\"showticklabels\":false,\"range\":[10.15,50.85]},\"yaxis8\":{\"anchor\":\"x8\",\"domain\":[0.9185185185185185,1.0],\"matches\":\"y\",\"showticklabels\":false,\"range\":[0.07524656352317749,9.7588412767051]},\"xaxis9\":{\"anchor\":\"y9\",\"domain\":[0.908641975308642,1.0],\"matches\":\"x81\",\"showticklabels\":false,\"range\":[-7.660516528255013,0.30080586081557237],\"type\":\"log\"},\"yaxis9\":{\"anchor\":\"x9\",\"domain\":[0.9185185185185185,1.0],\"matches\":\"y\",\"showticklabels\":false,\"range\":[0.07524656352317749,9.7588412767051]},\"xaxis10\":{\"anchor\":\"y10\",\"domain\":[0.0,0.09135802469135802],\"matches\":\"x73\",\"showticklabels\":false,\"range\":[0.07524656352317749,9.7588412767051]},\"yaxis10\":{\"anchor\":\"x10\",\"domain\":[0.8037037037037038,0.8851851851851853],\"range\":[-0.0,0.0],\"type\":\"category\",\"title\":{\"text\":\"bootstrap_type\"}},\"xaxis11\":{\"anchor\":\"y11\",\"domain\":[0.11358024691358025,0.20493827160493827],\"matches\":\"x74\",\"showticklabels\":false,\"range\":[-0.0,0.0],\"type\":\"category\"},\"yaxis11\":{\"anchor\":\"x11\",\"domain\":[0.8037037037037038,0.8851851851851853],\"matches\":\"y10\",\"showticklabels\":false,\"range\":[-0.0,0.0],\"type\":\"category\"},\"xaxis12\":{\"anchor\":\"y12\",\"domain\":[0.2271604938271605,0.31851851851851853],\"matches\":\"x75\",\"showticklabels\":false,\"range\":[3.7,10.3]},\"yaxis12\":{\"anchor\":\"x12\",\"domain\":[0.8037037037037038,0.8851851851851853],\"matches\":\"y10\",\"showticklabels\":false,\"range\":[-0.0,0.0],\"type\":\"category\"},\"xaxis13\":{\"anchor\":\"y13\",\"domain\":[0.34074074074074073,0.43209876543209874],\"matches\":\"x76\",\"showticklabels\":false,\"range\":[58.75,1032.25]},\"yaxis13\":{\"anchor\":\"x13\",\"domain\":[0.8037037037037038,0.8851851851851853],\"matches\":\"y10\",\"showticklabels\":false,\"range\":[-0.0,0.0],\"type\":\"category\"},\"xaxis14\":{\"anchor\":\"y14\",\"domain\":[0.454320987654321,0.5456790123456791],\"matches\":\"x77\",\"showticklabels\":false,\"range\":[-8.092448310416042,1.37546149629856],\"type\":\"log\"},\"yaxis14\":{\"anchor\":\"x14\",\"domain\":[0.8037037037037038,0.8851851851851853],\"matches\":\"y10\",\"showticklabels\":false,\"range\":[-0.0,0.0],\"type\":\"category\"},\"xaxis15\":{\"anchor\":\"y15\",\"domain\":[0.5679012345679012,0.6592592592592592],\"matches\":\"x78\",\"showticklabels\":false,\"range\":[-2.702906179961392,-1.412200336155391],\"type\":\"log\"},\"yaxis15\":{\"anchor\":\"x15\",\"domain\":[0.8037037037037038,0.8851851851851853],\"matches\":\"y10\",\"showticklabels\":false,\"range\":[-0.0,0.0],\"type\":\"category\"},\"xaxis16\":{\"anchor\":\"y16\",\"domain\":[0.6814814814814815,0.7728395061728395],\"matches\":\"x79\",\"showticklabels\":false,\"range\":[-0.05,1.05],\"type\":\"category\"},\"yaxis16\":{\"anchor\":\"x16\",\"domain\":[0.8037037037037038,0.8851851851851853],\"matches\":\"y10\",\"showticklabels\":false,\"range\":[-0.0,0.0],\"type\":\"category\"},\"xaxis17\":{\"anchor\":\"y17\",\"domain\":[0.7950617283950617,0.8864197530864197],\"matches\":\"x80\",\"showticklabels\":false,\"range\":[10.15,50.85]},\"yaxis17\":{\"anchor\":\"x17\",\"domain\":[0.8037037037037038,0.8851851851851853],\"matches\":\"y10\",\"showticklabels\":false,\"range\":[-0.0,0.0],\"type\":\"category\"},\"xaxis18\":{\"anchor\":\"y18\",\"domain\":[0.908641975308642,1.0],\"matches\":\"x81\",\"showticklabels\":false,\"range\":[-7.660516528255013,0.30080586081557237],\"type\":\"log\"},\"yaxis18\":{\"anchor\":\"x18\",\"domain\":[0.8037037037037038,0.8851851851851853],\"matches\":\"y10\",\"showticklabels\":false,\"range\":[-0.0,0.0],\"type\":\"category\"},\"xaxis19\":{\"anchor\":\"y19\",\"domain\":[0.0,0.09135802469135802],\"matches\":\"x73\",\"showticklabels\":false,\"range\":[0.07524656352317749,9.7588412767051]},\"yaxis19\":{\"anchor\":\"x19\",\"domain\":[0.6888888888888889,0.7703703703703704],\"range\":[3.7,10.3],\"title\":{\"text\":\"depth\"}},\"xaxis20\":{\"anchor\":\"y20\",\"domain\":[0.11358024691358025,0.20493827160493827],\"matches\":\"x74\",\"showticklabels\":false,\"range\":[-0.0,0.0],\"type\":\"category\"},\"yaxis20\":{\"anchor\":\"x20\",\"domain\":[0.6888888888888889,0.7703703703703704],\"matches\":\"y19\",\"showticklabels\":false,\"range\":[3.7,10.3]},\"xaxis21\":{\"anchor\":\"y21\",\"domain\":[0.2271604938271605,0.31851851851851853],\"matches\":\"x75\",\"showticklabels\":false,\"range\":[3.7,10.3]},\"yaxis21\":{\"anchor\":\"x21\",\"domain\":[0.6888888888888889,0.7703703703703704],\"matches\":\"y19\",\"showticklabels\":false,\"range\":[3.7,10.3]},\"xaxis22\":{\"anchor\":\"y22\",\"domain\":[0.34074074074074073,0.43209876543209874],\"matches\":\"x76\",\"showticklabels\":false,\"range\":[58.75,1032.25]},\"yaxis22\":{\"anchor\":\"x22\",\"domain\":[0.6888888888888889,0.7703703703703704],\"matches\":\"y19\",\"showticklabels\":false,\"range\":[3.7,10.3]},\"xaxis23\":{\"anchor\":\"y23\",\"domain\":[0.454320987654321,0.5456790123456791],\"matches\":\"x77\",\"showticklabels\":false,\"range\":[-8.092448310416042,1.37546149629856],\"type\":\"log\"},\"yaxis23\":{\"anchor\":\"x23\",\"domain\":[0.6888888888888889,0.7703703703703704],\"matches\":\"y19\",\"showticklabels\":false,\"range\":[3.7,10.3]},\"xaxis24\":{\"anchor\":\"y24\",\"domain\":[0.5679012345679012,0.6592592592592592],\"matches\":\"x78\",\"showticklabels\":false,\"range\":[-2.702906179961392,-1.412200336155391],\"type\":\"log\"},\"yaxis24\":{\"anchor\":\"x24\",\"domain\":[0.6888888888888889,0.7703703703703704],\"matches\":\"y19\",\"showticklabels\":false,\"range\":[3.7,10.3]},\"xaxis25\":{\"anchor\":\"y25\",\"domain\":[0.6814814814814815,0.7728395061728395],\"matches\":\"x79\",\"showticklabels\":false,\"range\":[-0.05,1.05],\"type\":\"category\"},\"yaxis25\":{\"anchor\":\"x25\",\"domain\":[0.6888888888888889,0.7703703703703704],\"matches\":\"y19\",\"showticklabels\":false,\"range\":[3.7,10.3]},\"xaxis26\":{\"anchor\":\"y26\",\"domain\":[0.7950617283950617,0.8864197530864197],\"matches\":\"x80\",\"showticklabels\":false,\"range\":[10.15,50.85]},\"yaxis26\":{\"anchor\":\"x26\",\"domain\":[0.6888888888888889,0.7703703703703704],\"matches\":\"y19\",\"showticklabels\":false,\"range\":[3.7,10.3]},\"xaxis27\":{\"anchor\":\"y27\",\"domain\":[0.908641975308642,1.0],\"matches\":\"x81\",\"showticklabels\":false,\"range\":[-7.660516528255013,0.30080586081557237],\"type\":\"log\"},\"yaxis27\":{\"anchor\":\"x27\",\"domain\":[0.6888888888888889,0.7703703703703704],\"matches\":\"y19\",\"showticklabels\":false,\"range\":[3.7,10.3]},\"xaxis28\":{\"anchor\":\"y28\",\"domain\":[0.0,0.09135802469135802],\"matches\":\"x73\",\"showticklabels\":false,\"range\":[0.07524656352317749,9.7588412767051]},\"yaxis28\":{\"anchor\":\"x28\",\"domain\":[0.5740740740740741,0.6555555555555556],\"range\":[58.75,1032.25],\"title\":{\"text\":\"iterations\"}},\"xaxis29\":{\"anchor\":\"y29\",\"domain\":[0.11358024691358025,0.20493827160493827],\"matches\":\"x74\",\"showticklabels\":false,\"range\":[-0.0,0.0],\"type\":\"category\"},\"yaxis29\":{\"anchor\":\"x29\",\"domain\":[0.5740740740740741,0.6555555555555556],\"matches\":\"y28\",\"showticklabels\":false,\"range\":[58.75,1032.25]},\"xaxis30\":{\"anchor\":\"y30\",\"domain\":[0.2271604938271605,0.31851851851851853],\"matches\":\"x75\",\"showticklabels\":false,\"range\":[3.7,10.3]},\"yaxis30\":{\"anchor\":\"x30\",\"domain\":[0.5740740740740741,0.6555555555555556],\"matches\":\"y28\",\"showticklabels\":false,\"range\":[58.75,1032.25]},\"xaxis31\":{\"anchor\":\"y31\",\"domain\":[0.34074074074074073,0.43209876543209874],\"matches\":\"x76\",\"showticklabels\":false,\"range\":[58.75,1032.25]},\"yaxis31\":{\"anchor\":\"x31\",\"domain\":[0.5740740740740741,0.6555555555555556],\"matches\":\"y28\",\"showticklabels\":false,\"range\":[58.75,1032.25]},\"xaxis32\":{\"anchor\":\"y32\",\"domain\":[0.454320987654321,0.5456790123456791],\"matches\":\"x77\",\"showticklabels\":false,\"range\":[-8.092448310416042,1.37546149629856],\"type\":\"log\"},\"yaxis32\":{\"anchor\":\"x32\",\"domain\":[0.5740740740740741,0.6555555555555556],\"matches\":\"y28\",\"showticklabels\":false,\"range\":[58.75,1032.25]},\"xaxis33\":{\"anchor\":\"y33\",\"domain\":[0.5679012345679012,0.6592592592592592],\"matches\":\"x78\",\"showticklabels\":false,\"range\":[-2.702906179961392,-1.412200336155391],\"type\":\"log\"},\"yaxis33\":{\"anchor\":\"x33\",\"domain\":[0.5740740740740741,0.6555555555555556],\"matches\":\"y28\",\"showticklabels\":false,\"range\":[58.75,1032.25]},\"xaxis34\":{\"anchor\":\"y34\",\"domain\":[0.6814814814814815,0.7728395061728395],\"matches\":\"x79\",\"showticklabels\":false,\"range\":[-0.05,1.05],\"type\":\"category\"},\"yaxis34\":{\"anchor\":\"x34\",\"domain\":[0.5740740740740741,0.6555555555555556],\"matches\":\"y28\",\"showticklabels\":false,\"range\":[58.75,1032.25]},\"xaxis35\":{\"anchor\":\"y35\",\"domain\":[0.7950617283950617,0.8864197530864197],\"matches\":\"x80\",\"showticklabels\":false,\"range\":[10.15,50.85]},\"yaxis35\":{\"anchor\":\"x35\",\"domain\":[0.5740740740740741,0.6555555555555556],\"matches\":\"y28\",\"showticklabels\":false,\"range\":[58.75,1032.25]},\"xaxis36\":{\"anchor\":\"y36\",\"domain\":[0.908641975308642,1.0],\"matches\":\"x81\",\"showticklabels\":false,\"range\":[-7.660516528255013,0.30080586081557237],\"type\":\"log\"},\"yaxis36\":{\"anchor\":\"x36\",\"domain\":[0.5740740740740741,0.6555555555555556],\"matches\":\"y28\",\"showticklabels\":false,\"range\":[58.75,1032.25]},\"xaxis37\":{\"anchor\":\"y37\",\"domain\":[0.0,0.09135802469135802],\"matches\":\"x73\",\"showticklabels\":false,\"range\":[0.07524656352317749,9.7588412767051]},\"yaxis37\":{\"anchor\":\"x37\",\"domain\":[0.45925925925925926,0.5407407407407407],\"range\":[-8.092448310416042,1.37546149629856],\"type\":\"log\",\"title\":{\"text\":\"l2_leaf_reg\"}},\"xaxis38\":{\"anchor\":\"y38\",\"domain\":[0.11358024691358025,0.20493827160493827],\"matches\":\"x74\",\"showticklabels\":false,\"range\":[-0.0,0.0],\"type\":\"category\"},\"yaxis38\":{\"anchor\":\"x38\",\"domain\":[0.45925925925925926,0.5407407407407407],\"matches\":\"y37\",\"showticklabels\":false,\"range\":[-8.092448310416042,1.37546149629856],\"type\":\"log\"},\"xaxis39\":{\"anchor\":\"y39\",\"domain\":[0.2271604938271605,0.31851851851851853],\"matches\":\"x75\",\"showticklabels\":false,\"range\":[3.7,10.3]},\"yaxis39\":{\"anchor\":\"x39\",\"domain\":[0.45925925925925926,0.5407407407407407],\"matches\":\"y37\",\"showticklabels\":false,\"range\":[-8.092448310416042,1.37546149629856],\"type\":\"log\"},\"xaxis40\":{\"anchor\":\"y40\",\"domain\":[0.34074074074074073,0.43209876543209874],\"matches\":\"x76\",\"showticklabels\":false,\"range\":[58.75,1032.25]},\"yaxis40\":{\"anchor\":\"x40\",\"domain\":[0.45925925925925926,0.5407407407407407],\"matches\":\"y37\",\"showticklabels\":false,\"range\":[-8.092448310416042,1.37546149629856],\"type\":\"log\"},\"xaxis41\":{\"anchor\":\"y41\",\"domain\":[0.454320987654321,0.5456790123456791],\"matches\":\"x77\",\"showticklabels\":false,\"range\":[-8.092448310416042,1.37546149629856],\"type\":\"log\"},\"yaxis41\":{\"anchor\":\"x41\",\"domain\":[0.45925925925925926,0.5407407407407407],\"matches\":\"y37\",\"showticklabels\":false,\"range\":[-8.092448310416042,1.37546149629856],\"type\":\"log\"},\"xaxis42\":{\"anchor\":\"y42\",\"domain\":[0.5679012345679012,0.6592592592592592],\"matches\":\"x78\",\"showticklabels\":false,\"range\":[-2.702906179961392,-1.412200336155391],\"type\":\"log\"},\"yaxis42\":{\"anchor\":\"x42\",\"domain\":[0.45925925925925926,0.5407407407407407],\"matches\":\"y37\",\"showticklabels\":false,\"range\":[-8.092448310416042,1.37546149629856],\"type\":\"log\"},\"xaxis43\":{\"anchor\":\"y43\",\"domain\":[0.6814814814814815,0.7728395061728395],\"matches\":\"x79\",\"showticklabels\":false,\"range\":[-0.05,1.05],\"type\":\"category\"},\"yaxis43\":{\"anchor\":\"x43\",\"domain\":[0.45925925925925926,0.5407407407407407],\"matches\":\"y37\",\"showticklabels\":false,\"range\":[-8.092448310416042,1.37546149629856],\"type\":\"log\"},\"xaxis44\":{\"anchor\":\"y44\",\"domain\":[0.7950617283950617,0.8864197530864197],\"matches\":\"x80\",\"showticklabels\":false,\"range\":[10.15,50.85]},\"yaxis44\":{\"anchor\":\"x44\",\"domain\":[0.45925925925925926,0.5407407407407407],\"matches\":\"y37\",\"showticklabels\":false,\"range\":[-8.092448310416042,1.37546149629856],\"type\":\"log\"},\"xaxis45\":{\"anchor\":\"y45\",\"domain\":[0.908641975308642,1.0],\"matches\":\"x81\",\"showticklabels\":false,\"range\":[-7.660516528255013,0.30080586081557237],\"type\":\"log\"},\"yaxis45\":{\"anchor\":\"x45\",\"domain\":[0.45925925925925926,0.5407407407407407],\"matches\":\"y37\",\"showticklabels\":false,\"range\":[-8.092448310416042,1.37546149629856],\"type\":\"log\"},\"xaxis46\":{\"anchor\":\"y46\",\"domain\":[0.0,0.09135802469135802],\"matches\":\"x73\",\"showticklabels\":false,\"range\":[0.07524656352317749,9.7588412767051]},\"yaxis46\":{\"anchor\":\"x46\",\"domain\":[0.34444444444444444,0.42592592592592593],\"range\":[-2.702906179961392,-1.412200336155391],\"type\":\"log\",\"title\":{\"text\":\"learning_rate\"}},\"xaxis47\":{\"anchor\":\"y47\",\"domain\":[0.11358024691358025,0.20493827160493827],\"matches\":\"x74\",\"showticklabels\":false,\"range\":[-0.0,0.0],\"type\":\"category\"},\"yaxis47\":{\"anchor\":\"x47\",\"domain\":[0.34444444444444444,0.42592592592592593],\"matches\":\"y46\",\"showticklabels\":false,\"range\":[-2.702906179961392,-1.412200336155391],\"type\":\"log\"},\"xaxis48\":{\"anchor\":\"y48\",\"domain\":[0.2271604938271605,0.31851851851851853],\"matches\":\"x75\",\"showticklabels\":false,\"range\":[3.7,10.3]},\"yaxis48\":{\"anchor\":\"x48\",\"domain\":[0.34444444444444444,0.42592592592592593],\"matches\":\"y46\",\"showticklabels\":false,\"range\":[-2.702906179961392,-1.412200336155391],\"type\":\"log\"},\"xaxis49\":{\"anchor\":\"y49\",\"domain\":[0.34074074074074073,0.43209876543209874],\"matches\":\"x76\",\"showticklabels\":false,\"range\":[58.75,1032.25]},\"yaxis49\":{\"anchor\":\"x49\",\"domain\":[0.34444444444444444,0.42592592592592593],\"matches\":\"y46\",\"showticklabels\":false,\"range\":[-2.702906179961392,-1.412200336155391],\"type\":\"log\"},\"xaxis50\":{\"anchor\":\"y50\",\"domain\":[0.454320987654321,0.5456790123456791],\"matches\":\"x77\",\"showticklabels\":false,\"range\":[-8.092448310416042,1.37546149629856],\"type\":\"log\"},\"yaxis50\":{\"anchor\":\"x50\",\"domain\":[0.34444444444444444,0.42592592592592593],\"matches\":\"y46\",\"showticklabels\":false,\"range\":[-2.702906179961392,-1.412200336155391],\"type\":\"log\"},\"xaxis51\":{\"anchor\":\"y51\",\"domain\":[0.5679012345679012,0.6592592592592592],\"matches\":\"x78\",\"showticklabels\":false,\"range\":[-2.702906179961392,-1.412200336155391],\"type\":\"log\"},\"yaxis51\":{\"anchor\":\"x51\",\"domain\":[0.34444444444444444,0.42592592592592593],\"matches\":\"y46\",\"showticklabels\":false,\"range\":[-2.702906179961392,-1.412200336155391],\"type\":\"log\"},\"xaxis52\":{\"anchor\":\"y52\",\"domain\":[0.6814814814814815,0.7728395061728395],\"matches\":\"x79\",\"showticklabels\":false,\"range\":[-0.05,1.05],\"type\":\"category\"},\"yaxis52\":{\"anchor\":\"x52\",\"domain\":[0.34444444444444444,0.42592592592592593],\"matches\":\"y46\",\"showticklabels\":false,\"range\":[-2.702906179961392,-1.412200336155391],\"type\":\"log\"},\"xaxis53\":{\"anchor\":\"y53\",\"domain\":[0.7950617283950617,0.8864197530864197],\"matches\":\"x80\",\"showticklabels\":false,\"range\":[10.15,50.85]},\"yaxis53\":{\"anchor\":\"x53\",\"domain\":[0.34444444444444444,0.42592592592592593],\"matches\":\"y46\",\"showticklabels\":false,\"range\":[-2.702906179961392,-1.412200336155391],\"type\":\"log\"},\"xaxis54\":{\"anchor\":\"y54\",\"domain\":[0.908641975308642,1.0],\"matches\":\"x81\",\"showticklabels\":false,\"range\":[-7.660516528255013,0.30080586081557237],\"type\":\"log\"},\"yaxis54\":{\"anchor\":\"x54\",\"domain\":[0.34444444444444444,0.42592592592592593],\"matches\":\"y46\",\"showticklabels\":false,\"range\":[-2.702906179961392,-1.412200336155391],\"type\":\"log\"},\"xaxis55\":{\"anchor\":\"y55\",\"domain\":[0.0,0.09135802469135802],\"matches\":\"x73\",\"showticklabels\":false,\"range\":[0.07524656352317749,9.7588412767051]},\"yaxis55\":{\"anchor\":\"x55\",\"domain\":[0.22962962962962963,0.3111111111111111],\"range\":[-0.05,1.05],\"type\":\"category\",\"title\":{\"text\":\"od_type\"}},\"xaxis56\":{\"anchor\":\"y56\",\"domain\":[0.11358024691358025,0.20493827160493827],\"matches\":\"x74\",\"showticklabels\":false,\"range\":[-0.0,0.0],\"type\":\"category\"},\"yaxis56\":{\"anchor\":\"x56\",\"domain\":[0.22962962962962963,0.3111111111111111],\"matches\":\"y55\",\"showticklabels\":false,\"range\":[-0.05,1.05],\"type\":\"category\"},\"xaxis57\":{\"anchor\":\"y57\",\"domain\":[0.2271604938271605,0.31851851851851853],\"matches\":\"x75\",\"showticklabels\":false,\"range\":[3.7,10.3]},\"yaxis57\":{\"anchor\":\"x57\",\"domain\":[0.22962962962962963,0.3111111111111111],\"matches\":\"y55\",\"showticklabels\":false,\"range\":[-0.05,1.05],\"type\":\"category\"},\"xaxis58\":{\"anchor\":\"y58\",\"domain\":[0.34074074074074073,0.43209876543209874],\"matches\":\"x76\",\"showticklabels\":false,\"range\":[58.75,1032.25]},\"yaxis58\":{\"anchor\":\"x58\",\"domain\":[0.22962962962962963,0.3111111111111111],\"matches\":\"y55\",\"showticklabels\":false,\"range\":[-0.05,1.05],\"type\":\"category\"},\"xaxis59\":{\"anchor\":\"y59\",\"domain\":[0.454320987654321,0.5456790123456791],\"matches\":\"x77\",\"showticklabels\":false,\"range\":[-8.092448310416042,1.37546149629856],\"type\":\"log\"},\"yaxis59\":{\"anchor\":\"x59\",\"domain\":[0.22962962962962963,0.3111111111111111],\"matches\":\"y55\",\"showticklabels\":false,\"range\":[-0.05,1.05],\"type\":\"category\"},\"xaxis60\":{\"anchor\":\"y60\",\"domain\":[0.5679012345679012,0.6592592592592592],\"matches\":\"x78\",\"showticklabels\":false,\"range\":[-2.702906179961392,-1.412200336155391],\"type\":\"log\"},\"yaxis60\":{\"anchor\":\"x60\",\"domain\":[0.22962962962962963,0.3111111111111111],\"matches\":\"y55\",\"showticklabels\":false,\"range\":[-0.05,1.05],\"type\":\"category\"},\"xaxis61\":{\"anchor\":\"y61\",\"domain\":[0.6814814814814815,0.7728395061728395],\"matches\":\"x79\",\"showticklabels\":false,\"range\":[-0.05,1.05],\"type\":\"category\"},\"yaxis61\":{\"anchor\":\"x61\",\"domain\":[0.22962962962962963,0.3111111111111111],\"matches\":\"y55\",\"showticklabels\":false,\"range\":[-0.05,1.05],\"type\":\"category\"},\"xaxis62\":{\"anchor\":\"y62\",\"domain\":[0.7950617283950617,0.8864197530864197],\"matches\":\"x80\",\"showticklabels\":false,\"range\":[10.15,50.85]},\"yaxis62\":{\"anchor\":\"x62\",\"domain\":[0.22962962962962963,0.3111111111111111],\"matches\":\"y55\",\"showticklabels\":false,\"range\":[-0.05,1.05],\"type\":\"category\"},\"xaxis63\":{\"anchor\":\"y63\",\"domain\":[0.908641975308642,1.0],\"matches\":\"x81\",\"showticklabels\":false,\"range\":[-7.660516528255013,0.30080586081557237],\"type\":\"log\"},\"yaxis63\":{\"anchor\":\"x63\",\"domain\":[0.22962962962962963,0.3111111111111111],\"matches\":\"y55\",\"showticklabels\":false,\"range\":[-0.05,1.05],\"type\":\"category\"},\"xaxis64\":{\"anchor\":\"y64\",\"domain\":[0.0,0.09135802469135802],\"matches\":\"x73\",\"showticklabels\":false,\"range\":[0.07524656352317749,9.7588412767051]},\"yaxis64\":{\"anchor\":\"x64\",\"domain\":[0.11481481481481481,0.1962962962962963],\"range\":[10.15,50.85],\"title\":{\"text\":\"od_wait\"}},\"xaxis65\":{\"anchor\":\"y65\",\"domain\":[0.11358024691358025,0.20493827160493827],\"matches\":\"x74\",\"showticklabels\":false,\"range\":[-0.0,0.0],\"type\":\"category\"},\"yaxis65\":{\"anchor\":\"x65\",\"domain\":[0.11481481481481481,0.1962962962962963],\"matches\":\"y64\",\"showticklabels\":false,\"range\":[10.15,50.85]},\"xaxis66\":{\"anchor\":\"y66\",\"domain\":[0.2271604938271605,0.31851851851851853],\"matches\":\"x75\",\"showticklabels\":false,\"range\":[3.7,10.3]},\"yaxis66\":{\"anchor\":\"x66\",\"domain\":[0.11481481481481481,0.1962962962962963],\"matches\":\"y64\",\"showticklabels\":false,\"range\":[10.15,50.85]},\"xaxis67\":{\"anchor\":\"y67\",\"domain\":[0.34074074074074073,0.43209876543209874],\"matches\":\"x76\",\"showticklabels\":false,\"range\":[58.75,1032.25]},\"yaxis67\":{\"anchor\":\"x67\",\"domain\":[0.11481481481481481,0.1962962962962963],\"matches\":\"y64\",\"showticklabels\":false,\"range\":[10.15,50.85]},\"xaxis68\":{\"anchor\":\"y68\",\"domain\":[0.454320987654321,0.5456790123456791],\"matches\":\"x77\",\"showticklabels\":false,\"range\":[-8.092448310416042,1.37546149629856],\"type\":\"log\"},\"yaxis68\":{\"anchor\":\"x68\",\"domain\":[0.11481481481481481,0.1962962962962963],\"matches\":\"y64\",\"showticklabels\":false,\"range\":[10.15,50.85]},\"xaxis69\":{\"anchor\":\"y69\",\"domain\":[0.5679012345679012,0.6592592592592592],\"matches\":\"x78\",\"showticklabels\":false,\"range\":[-2.702906179961392,-1.412200336155391],\"type\":\"log\"},\"yaxis69\":{\"anchor\":\"x69\",\"domain\":[0.11481481481481481,0.1962962962962963],\"matches\":\"y64\",\"showticklabels\":false,\"range\":[10.15,50.85]},\"xaxis70\":{\"anchor\":\"y70\",\"domain\":[0.6814814814814815,0.7728395061728395],\"matches\":\"x79\",\"showticklabels\":false,\"range\":[-0.05,1.05],\"type\":\"category\"},\"yaxis70\":{\"anchor\":\"x70\",\"domain\":[0.11481481481481481,0.1962962962962963],\"matches\":\"y64\",\"showticklabels\":false,\"range\":[10.15,50.85]},\"xaxis71\":{\"anchor\":\"y71\",\"domain\":[0.7950617283950617,0.8864197530864197],\"matches\":\"x80\",\"showticklabels\":false,\"range\":[10.15,50.85]},\"yaxis71\":{\"anchor\":\"x71\",\"domain\":[0.11481481481481481,0.1962962962962963],\"matches\":\"y64\",\"showticklabels\":false,\"range\":[10.15,50.85]},\"xaxis72\":{\"anchor\":\"y72\",\"domain\":[0.908641975308642,1.0],\"matches\":\"x81\",\"showticklabels\":false,\"range\":[-7.660516528255013,0.30080586081557237],\"type\":\"log\"},\"yaxis72\":{\"anchor\":\"x72\",\"domain\":[0.11481481481481481,0.1962962962962963],\"matches\":\"y64\",\"showticklabels\":false,\"range\":[10.15,50.85]},\"xaxis73\":{\"anchor\":\"y73\",\"domain\":[0.0,0.09135802469135802],\"range\":[0.07524656352317749,9.7588412767051],\"title\":{\"text\":\"bagging_temperature\"}},\"yaxis73\":{\"anchor\":\"x73\",\"domain\":[0.0,0.08148148148148149],\"range\":[-7.660516528255013,0.30080586081557237],\"type\":\"log\",\"title\":{\"text\":\"random_strength\"}},\"xaxis74\":{\"anchor\":\"y74\",\"domain\":[0.11358024691358025,0.20493827160493827],\"range\":[-0.0,0.0],\"type\":\"category\",\"title\":{\"text\":\"bootstrap_type\"}},\"yaxis74\":{\"anchor\":\"x74\",\"domain\":[0.0,0.08148148148148149],\"matches\":\"y73\",\"showticklabels\":false,\"range\":[-7.660516528255013,0.30080586081557237],\"type\":\"log\"},\"xaxis75\":{\"anchor\":\"y75\",\"domain\":[0.2271604938271605,0.31851851851851853],\"range\":[3.7,10.3],\"title\":{\"text\":\"depth\"}},\"yaxis75\":{\"anchor\":\"x75\",\"domain\":[0.0,0.08148148148148149],\"matches\":\"y73\",\"showticklabels\":false,\"range\":[-7.660516528255013,0.30080586081557237],\"type\":\"log\"},\"xaxis76\":{\"anchor\":\"y76\",\"domain\":[0.34074074074074073,0.43209876543209874],\"range\":[58.75,1032.25],\"title\":{\"text\":\"iterations\"}},\"yaxis76\":{\"anchor\":\"x76\",\"domain\":[0.0,0.08148148148148149],\"matches\":\"y73\",\"showticklabels\":false,\"range\":[-7.660516528255013,0.30080586081557237],\"type\":\"log\"},\"xaxis77\":{\"anchor\":\"y77\",\"domain\":[0.454320987654321,0.5456790123456791],\"range\":[-8.092448310416042,1.37546149629856],\"type\":\"log\",\"title\":{\"text\":\"l2_leaf_reg\"}},\"yaxis77\":{\"anchor\":\"x77\",\"domain\":[0.0,0.08148148148148149],\"matches\":\"y73\",\"showticklabels\":false,\"range\":[-7.660516528255013,0.30080586081557237],\"type\":\"log\"},\"xaxis78\":{\"anchor\":\"y78\",\"domain\":[0.5679012345679012,0.6592592592592592],\"range\":[-2.702906179961392,-1.412200336155391],\"type\":\"log\",\"title\":{\"text\":\"learning_rate\"}},\"yaxis78\":{\"anchor\":\"x78\",\"domain\":[0.0,0.08148148148148149],\"matches\":\"y73\",\"showticklabels\":false,\"range\":[-7.660516528255013,0.30080586081557237],\"type\":\"log\"},\"xaxis79\":{\"anchor\":\"y79\",\"domain\":[0.6814814814814815,0.7728395061728395],\"range\":[-0.05,1.05],\"type\":\"category\",\"title\":{\"text\":\"od_type\"}},\"yaxis79\":{\"anchor\":\"x79\",\"domain\":[0.0,0.08148148148148149],\"matches\":\"y73\",\"showticklabels\":false,\"range\":[-7.660516528255013,0.30080586081557237],\"type\":\"log\"},\"xaxis80\":{\"anchor\":\"y80\",\"domain\":[0.7950617283950617,0.8864197530864197],\"range\":[10.15,50.85],\"title\":{\"text\":\"od_wait\"}},\"yaxis80\":{\"anchor\":\"x80\",\"domain\":[0.0,0.08148148148148149],\"matches\":\"y73\",\"showticklabels\":false,\"range\":[-7.660516528255013,0.30080586081557237],\"type\":\"log\"},\"xaxis81\":{\"anchor\":\"y81\",\"domain\":[0.908641975308642,1.0],\"range\":[-7.660516528255013,0.30080586081557237],\"type\":\"log\",\"title\":{\"text\":\"random_strength\"}},\"yaxis81\":{\"anchor\":\"x81\",\"domain\":[0.0,0.08148148148148149],\"matches\":\"y73\",\"showticklabels\":false,\"range\":[-7.660516528255013,0.30080586081557237],\"type\":\"log\"},\"title\":{\"text\":\"Contour Plot\"}},                        {\"responsive\": true}                    ).then(function(){\n",
              "                            \n",
              "var gd = document.getElementById('eec493e0-6b36-4513-b0b7-4bb8905d91dc');\n",
              "var x = new MutationObserver(function (mutations, observer) {{\n",
              "        var display = window.getComputedStyle(gd).display;\n",
              "        if (!display || display === 'none') {{\n",
              "            console.log([gd, 'removed!']);\n",
              "            Plotly.purge(gd);\n",
              "            observer.disconnect();\n",
              "        }}\n",
              "}});\n",
              "\n",
              "// Listen for the removal of the full notebook cells\n",
              "var notebookContainer = gd.closest('#notebook-container');\n",
              "if (notebookContainer) {{\n",
              "    x.observe(notebookContainer, {childList: true});\n",
              "}}\n",
              "\n",
              "// Listen for the clearing of the current output cell\n",
              "var outputEl = gd.closest('.output');\n",
              "if (outputEl) {{\n",
              "    x.observe(outputEl, {childList: true});\n",
              "}}\n",
              "\n",
              "                        })                };                            </script>        </div>\n",
              "</body>\n",
              "</html>"
            ]
          },
          "metadata": {}
        }
      ],
      "source": [
        "import pickle\n",
        "pickle.dump(model, open(\"catboost_model.pkl\", \"wb\"))\n",
        "     \n",
        "\n",
        "optuna.visualization.plot_optimization_history(study)\n",
        "     \n",
        "\n",
        "optuna.visualization.plot_parallel_coordinate(study)\n",
        "     \n",
        "\n",
        "# 각 파라미터들의 상관관계\n",
        "optuna.visualization.plot_contour(\n",
        "    study,\n",
        "    params=[\n",
        "        \"iterations\",\n",
        "        \"learning_rate\",\n",
        "        \"depth\",\n",
        "        \"l2_leaf_reg\",\n",
        "        \"bootstrap_type\",\n",
        "        \"random_strength\",\n",
        "        \"bagging_temperature\",\n",
        "        \"od_type\",\n",
        "        \"od_wait\"\n",
        "        ],\n",
        ")"
      ],
      "id": "91bbd3b7"
    },
    {
      "cell_type": "code",
      "execution_count": null,
      "metadata": {
        "id": "fab2a838",
        "colab": {
          "base_uri": "https://localhost:8080/",
          "height": 542
        },
        "outputId": "e41cddf6-41b7-40bb-efd4-6860389a697a"
      },
      "outputs": [
        {
          "output_type": "display_data",
          "data": {
            "text/html": [
              "<html>\n",
              "<head><meta charset=\"utf-8\" /></head>\n",
              "<body>\n",
              "    <div>            <script src=\"https://cdnjs.cloudflare.com/ajax/libs/mathjax/2.7.5/MathJax.js?config=TeX-AMS-MML_SVG\"></script><script type=\"text/javascript\">if (window.MathJax) {MathJax.Hub.Config({SVG: {font: \"STIX-Web\"}});}</script>                <script type=\"text/javascript\">window.PlotlyConfig = {MathJaxConfig: 'local'};</script>\n",
              "        <script src=\"https://cdn.plot.ly/plotly-2.8.3.min.js\"></script>                <div id=\"d230ab3b-80ed-488b-a50b-a99c719213a1\" class=\"plotly-graph-div\" style=\"height:525px; width:100%;\"></div>            <script type=\"text/javascript\">                                    window.PLOTLYENV=window.PLOTLYENV || {};                                    if (document.getElementById(\"d230ab3b-80ed-488b-a50b-a99c719213a1\")) {                    Plotly.newPlot(                        \"d230ab3b-80ed-488b-a50b-a99c719213a1\",                        [{\"cliponaxis\":false,\"hovertemplate\":[\"bootstrap_type (CategoricalDistribution): 0.0<extra></extra>\",\"l2_leaf_reg (FloatDistribution): 0.017502826278577605<extra></extra>\",\"od_type (CategoricalDistribution): 0.021002458949115593<extra></extra>\",\"bagging_temperature (FloatDistribution): 0.051300926490499<extra></extra>\",\"learning_rate (FloatDistribution): 0.053771753383593496<extra></extra>\",\"random_strength (FloatDistribution): 0.07561556492614473<extra></extra>\",\"depth (IntDistribution): 0.1091514812420161<extra></extra>\",\"od_wait (IntDistribution): 0.17606611696292632<extra></extra>\",\"iterations (IntDistribution): 0.4955888717671272<extra></extra>\"],\"marker\":{\"color\":\"rgb(66,146,198)\"},\"orientation\":\"h\",\"text\":[\"<0.01\",\"0.02\",\"0.02\",\"0.05\",\"0.05\",\"0.08\",\"0.11\",\"0.18\",\"0.50\"],\"textposition\":\"outside\",\"x\":[0.0,0.017502826278577605,0.021002458949115593,0.051300926490499,0.053771753383593496,0.07561556492614473,0.1091514812420161,0.17606611696292632,0.4955888717671272],\"y\":[\"bootstrap_type\",\"l2_leaf_reg\",\"od_type\",\"bagging_temperature\",\"learning_rate\",\"random_strength\",\"depth\",\"od_wait\",\"iterations\"],\"type\":\"bar\"}],                        {\"showlegend\":false,\"title\":{\"text\":\"Hyperparameter Importances\"},\"xaxis\":{\"title\":{\"text\":\"Importance for Objective Value\"}},\"yaxis\":{\"title\":{\"text\":\"Hyperparameter\"}},\"template\":{\"data\":{\"bar\":[{\"error_x\":{\"color\":\"#2a3f5f\"},\"error_y\":{\"color\":\"#2a3f5f\"},\"marker\":{\"line\":{\"color\":\"#E5ECF6\",\"width\":0.5},\"pattern\":{\"fillmode\":\"overlay\",\"size\":10,\"solidity\":0.2}},\"type\":\"bar\"}],\"barpolar\":[{\"marker\":{\"line\":{\"color\":\"#E5ECF6\",\"width\":0.5},\"pattern\":{\"fillmode\":\"overlay\",\"size\":10,\"solidity\":0.2}},\"type\":\"barpolar\"}],\"carpet\":[{\"aaxis\":{\"endlinecolor\":\"#2a3f5f\",\"gridcolor\":\"white\",\"linecolor\":\"white\",\"minorgridcolor\":\"white\",\"startlinecolor\":\"#2a3f5f\"},\"baxis\":{\"endlinecolor\":\"#2a3f5f\",\"gridcolor\":\"white\",\"linecolor\":\"white\",\"minorgridcolor\":\"white\",\"startlinecolor\":\"#2a3f5f\"},\"type\":\"carpet\"}],\"choropleth\":[{\"colorbar\":{\"outlinewidth\":0,\"ticks\":\"\"},\"type\":\"choropleth\"}],\"contour\":[{\"colorbar\":{\"outlinewidth\":0,\"ticks\":\"\"},\"colorscale\":[[0.0,\"#0d0887\"],[0.1111111111111111,\"#46039f\"],[0.2222222222222222,\"#7201a8\"],[0.3333333333333333,\"#9c179e\"],[0.4444444444444444,\"#bd3786\"],[0.5555555555555556,\"#d8576b\"],[0.6666666666666666,\"#ed7953\"],[0.7777777777777778,\"#fb9f3a\"],[0.8888888888888888,\"#fdca26\"],[1.0,\"#f0f921\"]],\"type\":\"contour\"}],\"contourcarpet\":[{\"colorbar\":{\"outlinewidth\":0,\"ticks\":\"\"},\"type\":\"contourcarpet\"}],\"heatmap\":[{\"colorbar\":{\"outlinewidth\":0,\"ticks\":\"\"},\"colorscale\":[[0.0,\"#0d0887\"],[0.1111111111111111,\"#46039f\"],[0.2222222222222222,\"#7201a8\"],[0.3333333333333333,\"#9c179e\"],[0.4444444444444444,\"#bd3786\"],[0.5555555555555556,\"#d8576b\"],[0.6666666666666666,\"#ed7953\"],[0.7777777777777778,\"#fb9f3a\"],[0.8888888888888888,\"#fdca26\"],[1.0,\"#f0f921\"]],\"type\":\"heatmap\"}],\"heatmapgl\":[{\"colorbar\":{\"outlinewidth\":0,\"ticks\":\"\"},\"colorscale\":[[0.0,\"#0d0887\"],[0.1111111111111111,\"#46039f\"],[0.2222222222222222,\"#7201a8\"],[0.3333333333333333,\"#9c179e\"],[0.4444444444444444,\"#bd3786\"],[0.5555555555555556,\"#d8576b\"],[0.6666666666666666,\"#ed7953\"],[0.7777777777777778,\"#fb9f3a\"],[0.8888888888888888,\"#fdca26\"],[1.0,\"#f0f921\"]],\"type\":\"heatmapgl\"}],\"histogram\":[{\"marker\":{\"pattern\":{\"fillmode\":\"overlay\",\"size\":10,\"solidity\":0.2}},\"type\":\"histogram\"}],\"histogram2d\":[{\"colorbar\":{\"outlinewidth\":0,\"ticks\":\"\"},\"colorscale\":[[0.0,\"#0d0887\"],[0.1111111111111111,\"#46039f\"],[0.2222222222222222,\"#7201a8\"],[0.3333333333333333,\"#9c179e\"],[0.4444444444444444,\"#bd3786\"],[0.5555555555555556,\"#d8576b\"],[0.6666666666666666,\"#ed7953\"],[0.7777777777777778,\"#fb9f3a\"],[0.8888888888888888,\"#fdca26\"],[1.0,\"#f0f921\"]],\"type\":\"histogram2d\"}],\"histogram2dcontour\":[{\"colorbar\":{\"outlinewidth\":0,\"ticks\":\"\"},\"colorscale\":[[0.0,\"#0d0887\"],[0.1111111111111111,\"#46039f\"],[0.2222222222222222,\"#7201a8\"],[0.3333333333333333,\"#9c179e\"],[0.4444444444444444,\"#bd3786\"],[0.5555555555555556,\"#d8576b\"],[0.6666666666666666,\"#ed7953\"],[0.7777777777777778,\"#fb9f3a\"],[0.8888888888888888,\"#fdca26\"],[1.0,\"#f0f921\"]],\"type\":\"histogram2dcontour\"}],\"mesh3d\":[{\"colorbar\":{\"outlinewidth\":0,\"ticks\":\"\"},\"type\":\"mesh3d\"}],\"parcoords\":[{\"line\":{\"colorbar\":{\"outlinewidth\":0,\"ticks\":\"\"}},\"type\":\"parcoords\"}],\"pie\":[{\"automargin\":true,\"type\":\"pie\"}],\"scatter\":[{\"marker\":{\"colorbar\":{\"outlinewidth\":0,\"ticks\":\"\"}},\"type\":\"scatter\"}],\"scatter3d\":[{\"line\":{\"colorbar\":{\"outlinewidth\":0,\"ticks\":\"\"}},\"marker\":{\"colorbar\":{\"outlinewidth\":0,\"ticks\":\"\"}},\"type\":\"scatter3d\"}],\"scattercarpet\":[{\"marker\":{\"colorbar\":{\"outlinewidth\":0,\"ticks\":\"\"}},\"type\":\"scattercarpet\"}],\"scattergeo\":[{\"marker\":{\"colorbar\":{\"outlinewidth\":0,\"ticks\":\"\"}},\"type\":\"scattergeo\"}],\"scattergl\":[{\"marker\":{\"colorbar\":{\"outlinewidth\":0,\"ticks\":\"\"}},\"type\":\"scattergl\"}],\"scattermapbox\":[{\"marker\":{\"colorbar\":{\"outlinewidth\":0,\"ticks\":\"\"}},\"type\":\"scattermapbox\"}],\"scatterpolar\":[{\"marker\":{\"colorbar\":{\"outlinewidth\":0,\"ticks\":\"\"}},\"type\":\"scatterpolar\"}],\"scatterpolargl\":[{\"marker\":{\"colorbar\":{\"outlinewidth\":0,\"ticks\":\"\"}},\"type\":\"scatterpolargl\"}],\"scatterternary\":[{\"marker\":{\"colorbar\":{\"outlinewidth\":0,\"ticks\":\"\"}},\"type\":\"scatterternary\"}],\"surface\":[{\"colorbar\":{\"outlinewidth\":0,\"ticks\":\"\"},\"colorscale\":[[0.0,\"#0d0887\"],[0.1111111111111111,\"#46039f\"],[0.2222222222222222,\"#7201a8\"],[0.3333333333333333,\"#9c179e\"],[0.4444444444444444,\"#bd3786\"],[0.5555555555555556,\"#d8576b\"],[0.6666666666666666,\"#ed7953\"],[0.7777777777777778,\"#fb9f3a\"],[0.8888888888888888,\"#fdca26\"],[1.0,\"#f0f921\"]],\"type\":\"surface\"}],\"table\":[{\"cells\":{\"fill\":{\"color\":\"#EBF0F8\"},\"line\":{\"color\":\"white\"}},\"header\":{\"fill\":{\"color\":\"#C8D4E3\"},\"line\":{\"color\":\"white\"}},\"type\":\"table\"}]},\"layout\":{\"annotationdefaults\":{\"arrowcolor\":\"#2a3f5f\",\"arrowhead\":0,\"arrowwidth\":1},\"autotypenumbers\":\"strict\",\"coloraxis\":{\"colorbar\":{\"outlinewidth\":0,\"ticks\":\"\"}},\"colorscale\":{\"diverging\":[[0,\"#8e0152\"],[0.1,\"#c51b7d\"],[0.2,\"#de77ae\"],[0.3,\"#f1b6da\"],[0.4,\"#fde0ef\"],[0.5,\"#f7f7f7\"],[0.6,\"#e6f5d0\"],[0.7,\"#b8e186\"],[0.8,\"#7fbc41\"],[0.9,\"#4d9221\"],[1,\"#276419\"]],\"sequential\":[[0.0,\"#0d0887\"],[0.1111111111111111,\"#46039f\"],[0.2222222222222222,\"#7201a8\"],[0.3333333333333333,\"#9c179e\"],[0.4444444444444444,\"#bd3786\"],[0.5555555555555556,\"#d8576b\"],[0.6666666666666666,\"#ed7953\"],[0.7777777777777778,\"#fb9f3a\"],[0.8888888888888888,\"#fdca26\"],[1.0,\"#f0f921\"]],\"sequentialminus\":[[0.0,\"#0d0887\"],[0.1111111111111111,\"#46039f\"],[0.2222222222222222,\"#7201a8\"],[0.3333333333333333,\"#9c179e\"],[0.4444444444444444,\"#bd3786\"],[0.5555555555555556,\"#d8576b\"],[0.6666666666666666,\"#ed7953\"],[0.7777777777777778,\"#fb9f3a\"],[0.8888888888888888,\"#fdca26\"],[1.0,\"#f0f921\"]]},\"colorway\":[\"#636efa\",\"#EF553B\",\"#00cc96\",\"#ab63fa\",\"#FFA15A\",\"#19d3f3\",\"#FF6692\",\"#B6E880\",\"#FF97FF\",\"#FECB52\"],\"font\":{\"color\":\"#2a3f5f\"},\"geo\":{\"bgcolor\":\"white\",\"lakecolor\":\"white\",\"landcolor\":\"#E5ECF6\",\"showlakes\":true,\"showland\":true,\"subunitcolor\":\"white\"},\"hoverlabel\":{\"align\":\"left\"},\"hovermode\":\"closest\",\"mapbox\":{\"style\":\"light\"},\"paper_bgcolor\":\"white\",\"plot_bgcolor\":\"#E5ECF6\",\"polar\":{\"angularaxis\":{\"gridcolor\":\"white\",\"linecolor\":\"white\",\"ticks\":\"\"},\"bgcolor\":\"#E5ECF6\",\"radialaxis\":{\"gridcolor\":\"white\",\"linecolor\":\"white\",\"ticks\":\"\"}},\"scene\":{\"xaxis\":{\"backgroundcolor\":\"#E5ECF6\",\"gridcolor\":\"white\",\"gridwidth\":2,\"linecolor\":\"white\",\"showbackground\":true,\"ticks\":\"\",\"zerolinecolor\":\"white\"},\"yaxis\":{\"backgroundcolor\":\"#E5ECF6\",\"gridcolor\":\"white\",\"gridwidth\":2,\"linecolor\":\"white\",\"showbackground\":true,\"ticks\":\"\",\"zerolinecolor\":\"white\"},\"zaxis\":{\"backgroundcolor\":\"#E5ECF6\",\"gridcolor\":\"white\",\"gridwidth\":2,\"linecolor\":\"white\",\"showbackground\":true,\"ticks\":\"\",\"zerolinecolor\":\"white\"}},\"shapedefaults\":{\"line\":{\"color\":\"#2a3f5f\"}},\"ternary\":{\"aaxis\":{\"gridcolor\":\"white\",\"linecolor\":\"white\",\"ticks\":\"\"},\"baxis\":{\"gridcolor\":\"white\",\"linecolor\":\"white\",\"ticks\":\"\"},\"bgcolor\":\"#E5ECF6\",\"caxis\":{\"gridcolor\":\"white\",\"linecolor\":\"white\",\"ticks\":\"\"}},\"title\":{\"x\":0.05},\"xaxis\":{\"automargin\":true,\"gridcolor\":\"white\",\"linecolor\":\"white\",\"ticks\":\"\",\"title\":{\"standoff\":15},\"zerolinecolor\":\"white\",\"zerolinewidth\":2},\"yaxis\":{\"automargin\":true,\"gridcolor\":\"white\",\"linecolor\":\"white\",\"ticks\":\"\",\"title\":{\"standoff\":15},\"zerolinecolor\":\"white\",\"zerolinewidth\":2}}}},                        {\"responsive\": true}                    ).then(function(){\n",
              "                            \n",
              "var gd = document.getElementById('d230ab3b-80ed-488b-a50b-a99c719213a1');\n",
              "var x = new MutationObserver(function (mutations, observer) {{\n",
              "        var display = window.getComputedStyle(gd).display;\n",
              "        if (!display || display === 'none') {{\n",
              "            console.log([gd, 'removed!']);\n",
              "            Plotly.purge(gd);\n",
              "            observer.disconnect();\n",
              "        }}\n",
              "}});\n",
              "\n",
              "// Listen for the removal of the full notebook cells\n",
              "var notebookContainer = gd.closest('#notebook-container');\n",
              "if (notebookContainer) {{\n",
              "    x.observe(notebookContainer, {childList: true});\n",
              "}}\n",
              "\n",
              "// Listen for the clearing of the current output cell\n",
              "var outputEl = gd.closest('.output');\n",
              "if (outputEl) {{\n",
              "    x.observe(outputEl, {childList: true});\n",
              "}}\n",
              "\n",
              "                        })                };                            </script>        </div>\n",
              "</body>\n",
              "</html>"
            ]
          },
          "metadata": {}
        }
      ],
      "source": [
        "# 하이퍼파라미터 중요도\n",
        "optuna.visualization.plot_param_importances(study)"
      ],
      "id": "fab2a838"
    },
    {
      "cell_type": "code",
      "source": [
        "from sklearn.ensemble import GradientBoostingClassifier\n",
        "\n",
        "GBC_model = GradientBoostingClassifier(n_estimators= 200, \n",
        "                                       learning_rate=0.21851112508358236, \n",
        "\t\t\t\t\t\t\t\t\tmax_depth= 6,\n",
        "\t\t\t\t\t\t\t\t\tsubsample= 0.7, \n",
        "\t\t\t\t\t\t\t\t\tmax_features= 'auto').fit(X_train, y_train) "
      ],
      "metadata": {
        "id": "wi_Ll5YCzLbr"
      },
      "execution_count": null,
      "outputs": [],
      "id": "wi_Ll5YCzLbr"
    },
    {
      "cell_type": "code",
      "source": [
        "# from sklearn.ensemble import GradientBoostingClassifier\n",
        "\n",
        "# GBC_model = GradientBoostingClassifier(random_state=37,\n",
        "#                                     n_estimators= 3700,\n",
        "# \tlearning_rate= 0.03084747392010545,\n",
        "# \tmax_depth= 6,\n",
        "# \tsubsample= 0.8,\n",
        "# \tmax_features= 'auto').fit(X_train, y_train) "
      ],
      "metadata": {
        "id": "obuhe7YIKO1N"
      },
      "execution_count": null,
      "outputs": [],
      "id": "obuhe7YIKO1N"
    },
    {
      "cell_type": "code",
      "source": [
        "# preds = GBC_model.predict(X_test)\n",
        "# print(f1_score(y_test, preds, avg='macro'))\n",
        "\n",
        "preds = GBC_model.predict(test_x)\n",
        "print('Done.')\n",
        "sns.countplot(x=preds);"
      ],
      "metadata": {
        "colab": {
          "base_uri": "https://localhost:8080/",
          "height": 282
        },
        "id": "kvIWDIg5UiQ_",
        "outputId": "f417ce72-6b3a-4145-d098-7b471ee59fc7"
      },
      "execution_count": null,
      "outputs": [
        {
          "output_type": "stream",
          "name": "stdout",
          "text": [
            "Done.\n"
          ]
        },
        {
          "output_type": "display_data",
          "data": {
            "text/plain": [
              "<Figure size 432x288 with 1 Axes>"
            ],
            "image/png": "[encoded data removed]"
          },
          "metadata": {
            "needs_background": "light"
          }
        }
      ],
      "id": "kvIWDIg5UiQ_"
    },
    {
      "cell_type": "code",
      "source": [
        "sns.countplot(x=preds);"
      ],
      "metadata": {
        "colab": {
          "base_uri": "https://localhost:8080/",
          "height": 265
        },
        "id": "fEh0ziZfra0c",
        "outputId": "1e3ba841-e3c4-4396-99e0-8b2f2d932457"
      },
      "execution_count": null,
      "outputs": [
        {
          "output_type": "display_data",
          "data": {
            "text/plain": [
              "<Figure size 432x288 with 1 Axes>"
            ],
            "image/png": "[encoded data removed]"
          },
          "metadata": {
            "needs_background": "light"
          }
        }
      ],
      "id": "fEh0ziZfra0c"
    },
    {
      "cell_type": "code",
      "source": [],
      "metadata": {
        "id": "n8myqtPr4SSl"
      },
      "id": "n8myqtPr4SSl",
      "execution_count": null,
      "outputs": []
    },
    {
      "cell_type": "code",
      "source": [],
      "metadata": {
        "id": "T5Lapd4Z4SYo"
      },
      "id": "T5Lapd4Z4SYo",
      "execution_count": null,
      "outputs": []
    },
    {
      "cell_type": "markdown",
      "source": [
        "## 3.3 MLP"
      ],
      "metadata": {
        "id": "gNzAotw2Jlr-"
      },
      "id": "gNzAotw2Jlr-"
    },
    {
      "cell_type": "code",
      "source": [
        "import torch\n",
        "\n",
        "class Dataset(torch.utils.data.Dataset):\n",
        "\n",
        "    def __init__(self, df):\n",
        "        self.labels = [0 if label == 0 else 1 for label in df['HeartDisease']]\n",
        "        self.features = df.drop(columns=['HeartDisease'], axis=1).values.tolist()\n",
        "\n",
        "    def classes(self):\n",
        "        return self.labels\n",
        "\n",
        "    def __len__(self):\n",
        "        return len(self.labels)\n",
        "\n",
        "    def get_batch_labels(self, idx):\n",
        "        return np.array(self.labels[idx])\n",
        "\n",
        "    def get_batch_features(self, idx):\n",
        "        return np.array(self.features[idx])\n",
        "\n",
        "    def __getitem__(self, idx):\n",
        "        batch_features = self.get_batch_features(idx)\n",
        "        batch_y = self.get_batch_labels(idx)\n",
        "\n",
        "        return batch_features, batch_y"
      ],
      "metadata": {
        "id": "pHd-qrBQ3REB"
      },
      "execution_count": null,
      "outputs": [],
      "id": "pHd-qrBQ3REB"
    },
    {
      "cell_type": "code",
      "source": [
        "def objective(trial):\n",
        "\n",
        "    params = {\n",
        "              'learning_rate': trial.suggest_loguniform('learning_rate', 1e-5, 1e-1),\n",
        "              'optimizer': trial.suggest_categorical(\"optimizer\", [\"Adam\", \"RMSprop\", \"SGD\"]),\n",
        "              'n_unit': trial.suggest_int(\"n_unit\", 4, 18)\n",
        "              }\n",
        "    \n",
        "    model = build_model(params)\n",
        "    \n",
        "    accuracy = train_and_evaluate(params, model)\n",
        "\n",
        "    return accuracy"
      ],
      "metadata": {
        "id": "ieivpz673RO-"
      },
      "execution_count": null,
      "outputs": [],
      "id": "ieivpz673RO-"
    },
    {
      "cell_type": "code",
      "source": [
        "study = optuna.create_study(direction=\"maximize\", sampler=optuna.samplers.TPESampler())\n",
        "study.optimize(objective, n_trials=30)"
      ],
      "metadata": {
        "colab": {
          "base_uri": "https://localhost:8080/"
        },
        "id": "tsZzHRcx3RKB",
        "outputId": "9f54ed97-4193-4613-dde0-69cb8826b981"
      },
      "execution_count": null,
      "outputs": [
        {
          "output_type": "stream",
          "name": "stderr",
          "text": [
            "\u001b[32m[I 2023-02-26 13:16:04,739]\u001b[0m A new study created in memory with name: no-name-18123d27-0eb4-4209-9d15-b9575511aa52\u001b[0m\n"
          ]
        }
      ],
      "id": "tsZzHRcx3RKB"
    },
    {
      "cell_type": "code",
      "source": [
        "def build_model(params):\n",
        "    \n",
        "    in_features = train_x.shape[-1]\n",
        "    \n",
        "    return nn.Sequential(\n",
        "    \n",
        "        nn.Linear(in_features, params['n_unit']),\n",
        "        nn.LeakyReLU(),\n",
        "\n",
        "        nn.Linear(params['n_unit'], 2),\n",
        "        nn.LeakyReLU()\n",
        "        \n",
        "    )\n",
        " "
      ],
      "metadata": {
        "id": "ybk-xTzF3nT_"
      },
      "execution_count": null,
      "outputs": [],
      "id": "ybk-xTzF3nT_"
    },
    {
      "cell_type": "code",
      "source": [
        "\n",
        "# Train and evaluate the accuarcy of neural network model\n",
        "def train_and_evaluate(param, model):\n",
        "    \n",
        "    df = pd.read_csv('heart.csv')\n",
        "    df = pd.get_dummies(df)\n",
        "    \n",
        "    train_data, val_data = train_test_split(df, test_size = 0.2, random_state = 42)\n",
        "    train, val = Dataset(train_data), Dataset(val_data)\n",
        "\n",
        "    train_dataloader = torch.utils.data.DataLoader(train, batch_size=2, shuffle=True)\n",
        "    val_dataloader = torch.utils.data.DataLoader(val, batch_size=2)\n",
        "\n",
        "    use_cuda = torch.cuda.is_available()\n",
        "    device = torch.device(\"cuda\" if use_cuda else \"cpu\")\n",
        "\n",
        "    criterion = nn.CrossEntropyLoss()\n",
        "    optimizer = getattr(optim, param['optimizer'])(model.parameters(), lr= param['learning_rate'])\n",
        "\n",
        "    if use_cuda:\n",
        "\n",
        "            model = model.cuda()\n",
        "            criterion = criterion.cuda()\n",
        "\n",
        "    for epoch_num in range(EPOCHS):\n",
        "\n",
        "            total_acc_train = 0\n",
        "            total_loss_train = 0\n",
        "\n",
        "            for train_input, train_label in train_dataloader:\n",
        "\n",
        "                train_label = train_label.to(device)\n",
        "                train_input = train_input.to(device)\n",
        "\n",
        "                output = model(train_input.float())\n",
        "                \n",
        "                batch_loss = criterion(output, train_label.long())\n",
        "                total_loss_train += batch_loss.item()\n",
        "                \n",
        "                acc = (output.argmax(dim=1) == train_label).sum().item()\n",
        "                total_acc_train += acc\n",
        "\n",
        "                model.zero_grad()\n",
        "                batch_loss.backward()\n",
        "                optimizer.step()\n",
        "            \n",
        "            total_acc_val = 0\n",
        "            total_loss_val = 0\n",
        "\n",
        "            with torch.no_grad():\n",
        "\n",
        "                for val_input, val_label in val_dataloader:\n",
        "\n",
        "                    val_label = val_label.to(device)\n",
        "                    val_input = val_input.to(device)\n",
        "\n",
        "                    output = model(val_input.float())\n",
        "\n",
        "                    batch_loss = criterion(output, val_label.long())\n",
        "                    total_loss_val += batch_loss.item()\n",
        "                    \n",
        "                    acc = (output.argmax(dim=1) == val_label).sum().item()\n",
        "                    total_acc_val += acc\n",
        "            \n",
        "            accuracy = total_acc_val/len(val_data)\n",
        "\n",
        "    return accuracy\n",
        "  \n",
        " # Define a set of hyperparameter values, build the model, train the model, and evaluate the accuracy \n",
        "def objective(trial):\n",
        "\n",
        "     params = {\n",
        "              'learning_rate': trial.suggest_loguniform('learning_rate', 1e-5, 1e-1),\n",
        "              'optimizer': trial.suggest_categorical(\"optimizer\", [\"Adam\", \"RMSprop\", \"SGD\"]),\n",
        "              'n_unit': trial.suggest_int(\"n_unit\", 4, 18)\n",
        "              }\n",
        "    \n",
        "     model = build_model(params)\n",
        "    \n",
        "     accuracy = train_and_evaluate(params, model)\n",
        "\n",
        "     return accuracy"
      ],
      "metadata": {
        "id": "ITsy_mGB3RUf"
      },
      "execution_count": null,
      "outputs": [],
      "id": "ITsy_mGB3RUf"
    },
    {
      "cell_type": "code",
      "source": [],
      "metadata": {
        "id": "YI_2hGHRJlx8"
      },
      "id": "YI_2hGHRJlx8",
      "execution_count": null,
      "outputs": []
    },
    {
      "cell_type": "code",
      "source": [],
      "metadata": {
        "id": "wfjjW10s4SfR"
      },
      "id": "wfjjW10s4SfR",
      "execution_count": null,
      "outputs": []
    },
    {
      "cell_type": "markdown",
      "source": [
        "# 4.Ensemble"
      ],
      "metadata": {
        "id": "o8N-QHuIvNN3"
      },
      "id": "o8N-QHuIvNN3"
    },
    {
      "cell_type": "markdown",
      "id": "2fe15f1a",
      "metadata": {
        "id": "2fe15f1a"
      },
      "source": [
        "## 3.1 VotingClassifier\n",
        "1. Cross-Validation 구축 후 성능 비교"
      ]
    },
    {
      "cell_type": "code",
      "source": [
        "#GBC_param= {'n_estimators': 1400, 'learning_rate': 0.007793231258605556, 'max_depth': 6, 'subsample': 0.8, 'max_features': 'sqrt'}\n",
        "CB_param= {'iterations': 857, 'learning_rate': 0.07097207730593516, 'depth': 8, 'l2_leaf_reg': 0.00012090525126196811, 'bootstrap_type': 'Bayesian', 'random_strength': 5.359110894800412, 'bagging_temperature': 0.7137022569955509, 'od_type': 'IncToDec', 'od_wait': 42}\n",
        "\n",
        "models = [\n",
        "    CatBoostClassifier(\n",
        "        # objective='MultiClass', task_type='GPU', one_hot_max_size=2, iterations=4000, learning_rate=0.05, \n",
        "        verbose=False, random_seed=seed_num, \n",
        "        **CB_param\n",
        "                                   ),\n",
        "    # LGBMClassifier(objective='multiclass', random_state=seed_num),\n",
        "    XGBClassifier(random_state=seed_num),\n",
        "    GradientBoostingClassifier(random_state=seed_num),    \n",
        "    # RidgeClassifierCV(),\n",
        "]\n",
        "[x.fit(train_x, train_y) for x in models]\n"
      ],
      "metadata": {
        "id": "Vm8q0p4Hyzg2",
        "colab": {
          "base_uri": "https://localhost:8080/"
        },
        "outputId": "c57b7290-a361-4395-945a-3187ac10e332"
      },
      "id": "Vm8q0p4Hyzg2",
      "execution_count": null,
      "outputs": [
        {
          "output_type": "execute_result",
          "data": {
            "text/plain": [
              "[<catboost.core.CatBoostClassifier at 0x7f77ed586760>,\n",
              " XGBClassifier(objective='multi:softprob', random_state=37),\n",
              " GradientBoostingClassifier(random_state=37)]"
            ]
          },
          "metadata": {},
          "execution_count": 84
        }
      ]
    },
    {
      "cell_type": "code",
      "execution_count": null,
      "id": "0bcafdb3",
      "metadata": {
        "id": "0bcafdb3",
        "colab": {
          "base_uri": "https://localhost:8080/",
          "height": 525
        },
        "outputId": "89a0bd59-9018-4336-a67f-d5f680a6658a"
      },
      "outputs": [
        {
          "output_type": "execute_result",
          "data": {
            "text/plain": [
              "array([1, 1, 1, 1, 1, 1, 1, 0, 0, 1, 1, 1, 1, 0, 0, 1, 1, 1, 1, 1, 1, 1,\n",
              "       1, 1, 1, 1, 1, 1, 1, 1, 1, 1, 1, 1, 1, 0, 0, 0, 2, 0, 0, 0, 0, 1,\n",
              "       1, 1, 1, 1, 1, 1, 1, 1, 0, 1, 0, 1, 1, 1, 1, 1, 1, 0, 0, 0, 0, 0,\n",
              "       0, 1, 1, 1, 1, 0, 1, 1, 1, 1, 1, 1, 2, 1, 1, 1, 1, 1, 1, 1, 0, 1,\n",
              "       0, 1, 1, 1, 1, 1, 1, 1, 1, 1, 1, 1, 1, 1, 1, 1, 1, 1, 1, 1, 2, 1,\n",
              "       1, 1, 1, 1, 1, 1, 1, 1, 1, 1, 1, 1, 1, 1, 1, 1, 1, 1, 1, 0, 0, 0,\n",
              "       0, 1, 1, 1, 1, 1, 1, 1, 1, 1, 1, 1, 1, 2, 1, 2, 1, 1, 1, 1, 1, 1,\n",
              "       1, 1, 1, 1, 1, 1, 1, 2, 1, 1, 1, 1, 1, 1, 1, 1, 1, 1, 1, 1, 1, 1,\n",
              "       1, 1, 1, 1, 1, 1, 1, 1, 1, 1, 1, 1, 1, 1, 1, 1, 1, 1, 1, 1, 1, 1,\n",
              "       1, 1, 1, 1, 1, 1, 1, 1, 1, 1, 1, 1, 1, 1, 1, 1, 1, 1, 1, 1, 1, 1,\n",
              "       1, 1, 1, 1, 1, 1, 1, 1, 1, 1, 1, 1, 1, 1, 1, 1, 1, 1, 1, 1, 1, 1,\n",
              "       1, 1, 1, 1, 1, 1, 0, 0, 0, 0, 0, 0, 0, 0, 1, 1, 1, 1, 2, 1, 1, 1,\n",
              "       1, 1, 1, 1, 1, 1, 1, 1, 1, 1, 1, 1, 1, 1, 1, 1, 0, 1, 1, 0, 0, 0,\n",
              "       1, 1, 1, 1, 1, 1, 0, 0, 1, 1, 1, 1, 1, 1, 1, 1, 1, 1, 1, 1, 1, 1,\n",
              "       1, 1])"
            ]
          },
          "metadata": {},
          "execution_count": 85
        },
        {
          "output_type": "display_data",
          "data": {
            "text/plain": [
              "<Figure size 432x288 with 1 Axes>"
            ],
            "image/png": "[encoded data removed]"
          },
          "metadata": {
            "needs_background": "light"
          }
        }
      ],
      "source": [
        "def predict(models, test, mode=None, weights=None):\n",
        "    if mode == \"hard\":\n",
        "        preds = np.asarray([x.predict(test).reshape(-1) for x in models]).T\n",
        "        res = np.apply_along_axis(\n",
        "            lambda x: np.argmax(np.bincount(x, weights=weights)),\n",
        "            axis=1,\n",
        "            arr=preds\n",
        "        )\n",
        "    elif mode == \"soft\":  \n",
        "        preds = np.asarray([x.predict_proba(test) for x in models])\n",
        "        res = np.zeros(preds[0].shape)\n",
        "        for pred, weight in zip(preds, weights):\n",
        "            res = res + pred*weight\n",
        "        res = np.argmax(preds, axis=0) \n",
        "    else:\n",
        "        res = models[0].predict(test)\n",
        "    return res\n",
        "\n",
        "preds = predict(models, test_x, 'hard',  \n",
        "                [2,1,2] )\n",
        "\n",
        "sns.countplot(x=preds);    \n",
        "preds\n"
      ]
    },
    {
      "cell_type": "code",
      "execution_count": null,
      "metadata": {
        "colab": {
          "base_uri": "https://localhost:8080/",
          "height": 334
        },
        "outputId": "fd0e84e4-35d7-4b2e-9681-f5470968d15c",
        "id": "zfIcqXBqymkN"
      },
      "outputs": [
        {
          "output_type": "execute_result",
          "data": {
            "text/plain": [
              "1    263\n",
              "0     40\n",
              "2      7\n",
              "Name: Y_Class, dtype: int64"
            ]
          },
          "metadata": {},
          "execution_count": 86
        },
        {
          "output_type": "display_data",
          "data": {
            "text/plain": [
              "<Figure size 432x288 with 1 Axes>"
            ],
            "image/png": "[encoded data removed]"
          },
          "metadata": {
            "needs_background": "light"
          }
        }
      ],
      "source": [
        "submit = pd.read_csv('/content/drive/MyDrive/sample_submission.csv')\n",
        "\n",
        "submit['Y_Class'] = preds\n",
        "submit.to_csv('CparamXG212-smartFactorySubmission.csv', index=False)  \n",
        "sns.countplot(x=preds);\n",
        "submit.Y_Class.value_counts()"
      ],
      "id": "zfIcqXBqymkN"
    },
    {
      "cell_type": "code",
      "source": [
        "aaa = pd.read_csv('CXG212(1)-smartFactorySubmission.csv')\n",
        "sns.countplot(x=aaa.Y_Class);\n",
        "aaa.Y_Class.value_counts()"
      ],
      "metadata": {
        "colab": {
          "base_uri": "https://localhost:8080/",
          "height": 349
        },
        "id": "rXw6yXcgEzO0",
        "outputId": "0f92d4b5-d47e-47be-bd1a-8f22876fe67a"
      },
      "id": "rXw6yXcgEzO0",
      "execution_count": null,
      "outputs": [
        {
          "output_type": "execute_result",
          "data": {
            "text/plain": [
              "1    265\n",
              "0     37\n",
              "2      8\n",
              "Name: Y_Class, dtype: int64"
            ]
          },
          "metadata": {},
          "execution_count": 93
        },
        {
          "output_type": "display_data",
          "data": {
            "text/plain": [
              "<Figure size 432x288 with 1 Axes>"
            ],
            "image/png": "[encoded data removed]"
          },
          "metadata": {
            "needs_background": "light"
          }
        }
      ]
    },
    {
      "cell_type": "code",
      "source": [
        "# 148  1 2 \n",
        "# 163  2\n",
        "# 166  2 \n",
        "# 295  1 0 \n",
        "36/495 "
      ],
      "metadata": {
        "colab": {
          "base_uri": "https://localhost:8080/"
        },
        "id": "nWXbLTICgP5C",
        "outputId": "9db1fcf9-2e2b-40ea-a500-efe50f7f9cb5"
      },
      "id": "nWXbLTICgP5C",
      "execution_count": null,
      "outputs": [
        {
          "output_type": "execute_result",
          "data": {
            "text/plain": [
              "0.07272727272727272"
            ]
          },
          "metadata": {},
          "execution_count": 5
        }
      ]
    },
    {
      "cell_type": "code",
      "source": [],
      "metadata": {
        "id": "SO2TqYzHUda_"
      },
      "id": "SO2TqYzHUda_",
      "execution_count": null,
      "outputs": []
    },
    {
      "cell_type": "code",
      "source": [
        "aaa = pd.read_csv('/content/drive/MyDrive/GBCminmax-smartFactorySubmission.csv')\n",
        "sns.countplot(x=aaa.Y_Class);\n",
        "aaa.Y_Class.value_counts()"
      ],
      "metadata": {
        "colab": {
          "base_uri": "https://localhost:8080/",
          "height": 349
        },
        "id": "fj9KCdluffIp",
        "outputId": "8218e2a2-1e66-420e-c292-446528229e24"
      },
      "id": "fj9KCdluffIp",
      "execution_count": null,
      "outputs": [
        {
          "output_type": "execute_result",
          "data": {
            "text/plain": [
              "1    253\n",
              "0     42\n",
              "2     15\n",
              "Name: Y_Class, dtype: int64"
            ]
          },
          "metadata": {},
          "execution_count": 95
        },
        {
          "output_type": "display_data",
          "data": {
            "text/plain": [
              "<Figure size 432x288 with 1 Axes>"
            ],
            "image/png": "[encoded data removed]"
          },
          "metadata": {
            "needs_background": "light"
          }
        }
      ]
    },
    {
      "cell_type": "code",
      "source": [
        "aaa = pd.read_csv('/content/drive/MyDrive/GBCoptuna-smartFactorySubmission.csv')\n",
        "sns.countplot(x=aaa.Y_Class);\n",
        "aaa.Y_Class.value_counts()"
      ],
      "metadata": {
        "colab": {
          "base_uri": "https://localhost:8080/",
          "height": 349
        },
        "id": "21AetCxgST0D",
        "outputId": "b7e56c38-312c-469a-d37c-f6f812433401"
      },
      "id": "21AetCxgST0D",
      "execution_count": null,
      "outputs": [
        {
          "output_type": "execute_result",
          "data": {
            "text/plain": [
              "1    260\n",
              "0     43\n",
              "2      7\n",
              "Name: Y_Class, dtype: int64"
            ]
          },
          "metadata": {},
          "execution_count": 63
        },
        {
          "output_type": "display_data",
          "data": {
            "text/plain": [
              "<Figure size 432x288 with 1 Axes>"
            ],
            "image/png": "[encoded data removed]"
          },
          "metadata": {
            "needs_background": "light"
          }
        }
      ]
    },
    {
      "cell_type": "code",
      "source": [
        "aaa = pd.read_csv('/content/drive/MyDrive/voting.catB_GBC-smartFactorySubmission.csv')\n",
        "sns.countplot(x=aaa.Y_Class);\n",
        "aaa.Y_Class.value_counts()"
      ],
      "metadata": {
        "colab": {
          "base_uri": "https://localhost:8080/",
          "height": 349
        },
        "id": "Mt733EeeHECW",
        "outputId": "9939c6f1-b6ec-4e95-a462-f2e01766acfb"
      },
      "id": "Mt733EeeHECW",
      "execution_count": null,
      "outputs": [
        {
          "output_type": "execute_result",
          "data": {
            "text/plain": [
              "1    267\n",
              "0     37\n",
              "2      6\n",
              "Name: Y_Class, dtype: int64"
            ]
          },
          "metadata": {},
          "execution_count": 55
        },
        {
          "output_type": "display_data",
          "data": {
            "text/plain": [
              "<Figure size 432x288 with 1 Axes>"
            ],
            "image/png": "[encoded data removed]"
          },
          "metadata": {
            "needs_background": "light"
          }
        }
      ]
    },
    {
      "cell_type": "code",
      "source": [
        "sdf = pd.read_csv('/content/drive/MyDrive/smartFactory_submission18.csv')\n",
        "sns.countplot(x=sdf.Y_Class);\n",
        "sdf.Y_Class.value_counts()"
      ],
      "metadata": {
        "colab": {
          "base_uri": "https://localhost:8080/",
          "height": 349
        },
        "id": "Be0Yji5AEiu0",
        "outputId": "6cc41f99-ec6d-4f04-8f91-2ed1da1f69ab"
      },
      "id": "Be0Yji5AEiu0",
      "execution_count": null,
      "outputs": [
        {
          "output_type": "execute_result",
          "data": {
            "text/plain": [
              "1    274\n",
              "0     29\n",
              "2      7\n",
              "Name: Y_Class, dtype: int64"
            ]
          },
          "metadata": {},
          "execution_count": 54
        },
        {
          "output_type": "display_data",
          "data": {
            "text/plain": [
              "<Figure size 432x288 with 1 Axes>"
            ],
            "image/png": "[encoded data removed]"
          },
          "metadata": {
            "needs_background": "light"
          }
        }
      ]
    },
    {
      "cell_type": "markdown",
      "source": [
        "## 3.2 StackingClassifier"
      ],
      "metadata": {
        "id": "F4CYiugG2423"
      },
      "id": "F4CYiugG2423"
    },
    {
      "cell_type": "code",
      "source": [
        "from catboost import CatBoostClassifier\n",
        "from sklearn.ensemble import GradientBoostingClassifier\n",
        "from sklearn.ensemble import StackingClassifier\n",
        "from sklearn.linear_model import LogisticRegression\n",
        "\n",
        "models = [\n",
        "    CatBoostClassifier(objective='MultiClass',\n",
        "                                   task_type='GPU',\n",
        "                                   one_hot_max_size=2, random_seed=seed_num,\n",
        "                                   iterations=4000, verbose=False,\n",
        "                                   learning_rate=0.05\n",
        "                                   ),\n",
        "    LGBMClassifier(objective='multiclass', random_state=seed_num),\n",
        "    XGBClassifier(random_state=seed_num),\n",
        "    GradientBoostingClassifier(random_state=seed_num),   # GBC: no tuning is the best \n",
        "    RidgeClassifierCV(),\n",
        "]\n",
        "\n",
        "# [x.fit(train_x, train_y) for x in models]   "
      ],
      "metadata": {
        "id": "Dsbc_zz0KxDp"
      },
      "execution_count": null,
      "outputs": [],
      "id": "Dsbc_zz0KxDp"
    },
    {
      "cell_type": "code",
      "source": [
        "# find weights for each model \n",
        "model_list = ['catboost', 'lgbm', 'xgb', 'gradient', 'ridge']\n",
        "num=0\n",
        "\n",
        "for model in models: \n",
        "  preds = model.fit(train_x, train_y).predict(test_x)\n",
        "  if num == 0:  # catboostclassifier \n",
        "    preds= preds.reshape(1,test_x.shape[0])  # test_x.shape[0] = number of columns \n",
        "    preds = list(preds[0])\n",
        "    num+=1\n",
        "  else: \n",
        "    preds.reshape(1,test_x.shape[0])\n",
        "    preds=list(preds)\n",
        "  \n",
        "  globals()[f'preds_{model_list[num]}'] = preds   # set variable name for each model prediction results  \n",
        "  \n",
        "  print(model,  globals()[f'preds_{model_list[num]}'])   "
      ],
      "metadata": {
        "colab": {
          "base_uri": "https://localhost:8080/"
        },
        "id": "jS9YIWtJIMfn",
        "outputId": "624b944a-20ae-44cd-b71e-cd950dbe7656"
      },
      "id": "jS9YIWtJIMfn",
      "execution_count": null,
      "outputs": [
        {
          "output_type": "stream",
          "name": "stdout",
          "text": [
            "<catboost.core.CatBoostClassifier object at 0x7f17b43af610> [1, 2, 1, 1, 1, 1, 1, 0, 0, 1, 1, 1, 1, 0, 0, 1, 1, 1, 1, 1, 1, 1, 1, 1, 1, 1, 1, 1, 1, 1, 1, 1, 1, 1, 1, 0, 2, 0, 2, 0, 0, 0, 0, 1, 1, 1, 1, 1, 1, 1, 1, 1, 0, 0, 0, 1, 1, 1, 1, 1, 1, 1, 0, 0, 0, 0, 0, 1, 1, 1, 1, 0, 2, 1, 1, 1, 1, 1, 2, 1, 1, 1, 1, 1, 1, 1, 0, 1, 0, 1, 1, 1, 1, 1, 1, 1, 1, 1, 1, 1, 1, 1, 1, 1, 1, 1, 1, 1, 1, 1, 1, 1, 1, 1, 1, 1, 1, 1, 1, 1, 1, 1, 1, 1, 1, 1, 1, 1, 1, 1, 0, 0, 1, 1, 1, 1, 1, 1, 1, 1, 1, 1, 1, 1, 2, 1, 1, 2, 1, 1, 1, 1, 1, 1, 1, 1, 1, 1, 1, 1, 2, 2, 1, 2, 1, 1, 1, 1, 1, 1, 1, 1, 1, 1, 1, 1, 1, 1, 1, 1, 1, 1, 1, 1, 1, 1, 1, 1, 1, 1, 1, 1, 1, 1, 1, 1, 1, 1, 1, 1, 1, 1, 1, 1, 1, 1, 1, 1, 1, 1, 1, 1, 1, 1, 1, 1, 1, 1, 1, 1, 1, 1, 1, 1, 1, 1, 1, 1, 1, 1, 1, 1, 1, 1, 1, 1, 1, 1, 1, 1, 1, 1, 1, 1, 1, 1, 1, 1, 2, 2, 0, 0, 0, 0, 0, 0, 1, 1, 1, 1, 2, 1, 1, 0, 1, 1, 1, 1, 1, 1, 1, 1, 1, 1, 1, 1, 1, 1, 1, 1, 2, 0, 2, 2, 0, 0, 1, 1, 1, 1, 1, 1, 2, 2, 1, 1, 1, 1, 1, 1, 1, 1, 1, 1, 1, 1, 1, 1, 1, 1]\n",
            "LGBMClassifier(objective='multiclass', random_state=37) [1, 1, 1, 1, 1, 1, 1, 0, 0, 2, 1, 1, 2, 0, 0, 1, 1, 1, 1, 1, 1, 1, 1, 1, 1, 1, 1, 1, 1, 1, 1, 1, 1, 1, 1, 0, 0, 0, 1, 0, 1, 0, 0, 1, 1, 1, 1, 1, 1, 1, 1, 1, 0, 0, 0, 1, 1, 1, 1, 1, 1, 0, 0, 0, 0, 0, 0, 1, 1, 1, 1, 0, 1, 1, 1, 1, 1, 1, 1, 1, 1, 1, 1, 1, 1, 1, 0, 1, 1, 1, 1, 1, 1, 1, 1, 1, 1, 1, 1, 1, 1, 1, 1, 1, 1, 1, 1, 1, 1, 1, 1, 1, 1, 1, 1, 1, 0, 1, 1, 1, 1, 1, 1, 1, 1, 1, 1, 1, 1, 1, 0, 1, 1, 1, 1, 1, 1, 1, 1, 1, 1, 1, 1, 1, 1, 1, 1, 1, 1, 1, 1, 1, 1, 1, 1, 1, 1, 1, 1, 1, 1, 1, 1, 1, 1, 1, 1, 1, 1, 1, 1, 1, 1, 1, 1, 1, 1, 1, 1, 1, 1, 1, 1, 1, 1, 1, 1, 1, 1, 1, 1, 1, 1, 1, 1, 1, 1, 1, 1, 1, 1, 1, 1, 1, 1, 1, 1, 1, 1, 1, 1, 1, 1, 1, 1, 1, 1, 1, 1, 1, 1, 1, 1, 1, 1, 1, 1, 1, 1, 1, 1, 1, 1, 1, 1, 1, 1, 1, 1, 1, 1, 1, 1, 1, 1, 1, 1, 1, 0, 0, 0, 0, 0, 0, 0, 0, 1, 1, 1, 1, 2, 1, 1, 1, 1, 1, 1, 1, 1, 1, 1, 1, 1, 1, 1, 1, 1, 1, 1, 1, 0, 1, 0, 0, 0, 1, 0, 1, 1, 1, 1, 1, 0, 1, 1, 1, 1, 1, 1, 1, 1, 1, 1, 1, 1, 1, 1, 1, 1, 1]\n",
            "XGBClassifier(objective='multi:softprob', random_state=37) [1, 1, 1, 1, 1, 1, 1, 0, 0, 1, 1, 1, 1, 0, 0, 1, 1, 1, 1, 1, 1, 1, 1, 1, 1, 1, 1, 1, 1, 1, 1, 1, 1, 1, 1, 0, 0, 0, 1, 0, 0, 0, 0, 1, 1, 1, 1, 1, 1, 1, 1, 1, 0, 1, 0, 1, 1, 1, 1, 1, 1, 0, 0, 0, 0, 0, 0, 1, 1, 1, 1, 0, 1, 1, 1, 1, 1, 1, 2, 1, 1, 1, 1, 1, 1, 1, 0, 1, 0, 1, 1, 1, 2, 1, 1, 1, 1, 1, 1, 1, 1, 2, 1, 1, 1, 1, 1, 1, 2, 1, 1, 1, 1, 1, 1, 1, 1, 1, 1, 1, 1, 1, 1, 1, 1, 1, 1, 1, 1, 0, 0, 0, 0, 1, 1, 1, 1, 1, 1, 1, 1, 1, 1, 1, 1, 1, 1, 2, 1, 1, 1, 1, 1, 1, 1, 1, 1, 1, 1, 1, 1, 2, 1, 1, 1, 1, 1, 1, 1, 1, 1, 1, 1, 1, 1, 1, 1, 1, 1, 1, 1, 1, 1, 1, 1, 1, 1, 1, 1, 1, 1, 1, 1, 1, 1, 1, 1, 1, 1, 1, 1, 1, 1, 1, 1, 1, 1, 1, 1, 1, 1, 1, 1, 1, 1, 1, 1, 1, 1, 1, 1, 1, 1, 1, 1, 1, 1, 1, 1, 1, 1, 1, 1, 1, 1, 1, 1, 1, 1, 1, 1, 1, 1, 1, 1, 1, 1, 1, 0, 0, 0, 0, 0, 0, 0, 0, 1, 1, 1, 1, 2, 1, 1, 1, 1, 1, 1, 1, 1, 1, 1, 1, 1, 1, 1, 1, 1, 1, 1, 1, 0, 1, 0, 0, 0, 1, 1, 1, 1, 1, 1, 1, 1, 0, 1, 1, 1, 1, 1, 1, 1, 1, 1, 1, 1, 1, 1, 1, 1, 1]\n",
            "BaggingClassifier(random_state=37) [1, 1, 1, 1, 1, 1, 1, 0, 0, 1, 1, 1, 1, 0, 0, 1, 1, 1, 1, 1, 1, 1, 1, 1, 1, 1, 1, 1, 1, 1, 1, 1, 1, 1, 1, 0, 2, 0, 0, 0, 0, 0, 0, 1, 1, 1, 1, 1, 1, 1, 1, 1, 1, 0, 1, 1, 1, 1, 1, 1, 1, 1, 0, 0, 0, 0, 0, 1, 1, 1, 1, 1, 1, 1, 1, 1, 1, 1, 2, 2, 1, 1, 1, 1, 1, 1, 0, 1, 0, 1, 2, 1, 2, 2, 1, 2, 1, 2, 1, 1, 1, 1, 1, 1, 1, 1, 1, 1, 2, 2, 1, 1, 1, 1, 2, 2, 1, 1, 1, 2, 1, 1, 1, 1, 1, 1, 1, 1, 1, 2, 2, 2, 2, 1, 2, 2, 1, 2, 1, 1, 1, 1, 1, 1, 1, 2, 1, 2, 1, 1, 1, 1, 1, 1, 1, 1, 1, 1, 1, 1, 2, 2, 0, 2, 1, 1, 1, 1, 1, 1, 1, 1, 1, 1, 1, 1, 1, 1, 1, 2, 1, 1, 1, 2, 1, 1, 1, 1, 1, 1, 1, 1, 1, 1, 1, 1, 1, 1, 1, 1, 1, 1, 1, 1, 1, 1, 1, 1, 1, 1, 1, 1, 1, 1, 1, 1, 1, 1, 1, 0, 1, 1, 1, 1, 1, 1, 1, 1, 1, 1, 1, 1, 1, 1, 1, 1, 1, 1, 1, 0, 1, 1, 1, 1, 1, 1, 1, 1, 2, 2, 2, 1, 2, 2, 2, 2, 1, 1, 1, 1, 2, 1, 1, 2, 1, 1, 1, 1, 1, 1, 1, 1, 1, 1, 1, 1, 1, 1, 1, 1, 2, 2, 1, 2, 2, 2, 2, 2, 1, 1, 1, 1, 2, 2, 1, 1, 1, 1, 2, 1, 1, 1, 1, 1, 2, 1, 2, 1, 2, 1]\n",
            "GradientBoostingClassifier(random_state=37) [1, 1, 1, 1, 1, 1, 1, 0, 0, 1, 1, 1, 1, 0, 0, 1, 1, 1, 1, 1, 1, 1, 1, 1, 1, 1, 1, 1, 1, 1, 1, 1, 1, 1, 1, 0, 0, 0, 2, 0, 0, 0, 0, 1, 1, 1, 1, 1, 1, 1, 1, 1, 0, 1, 1, 1, 1, 1, 1, 1, 1, 1, 0, 0, 0, 0, 0, 1, 1, 1, 1, 0, 1, 1, 1, 1, 1, 1, 2, 1, 2, 1, 1, 1, 1, 1, 0, 1, 0, 1, 1, 1, 1, 1, 1, 1, 1, 1, 1, 1, 1, 1, 1, 2, 1, 1, 2, 1, 2, 1, 1, 1, 1, 1, 1, 1, 1, 1, 1, 1, 1, 1, 1, 1, 1, 1, 1, 1, 1, 0, 0, 0, 0, 1, 1, 1, 1, 1, 1, 1, 1, 1, 0, 1, 1, 2, 1, 2, 1, 1, 1, 1, 0, 1, 1, 1, 1, 1, 1, 1, 2, 2, 1, 2, 1, 1, 1, 1, 1, 1, 1, 1, 1, 1, 1, 1, 1, 1, 1, 1, 1, 1, 1, 1, 1, 1, 1, 2, 1, 1, 1, 1, 1, 1, 1, 1, 1, 1, 1, 1, 1, 1, 1, 1, 1, 1, 1, 1, 1, 1, 1, 1, 1, 1, 1, 1, 1, 1, 1, 1, 1, 1, 1, 1, 1, 1, 1, 1, 1, 1, 1, 1, 1, 1, 1, 1, 1, 1, 1, 1, 1, 1, 1, 1, 1, 1, 1, 1, 2, 0, 0, 0, 0, 0, 2, 2, 1, 1, 1, 1, 2, 1, 1, 1, 1, 1, 1, 1, 1, 1, 1, 1, 1, 1, 1, 0, 1, 1, 1, 1, 1, 1, 2, 0, 0, 0, 1, 1, 1, 1, 1, 1, 0, 0, 1, 1, 1, 1, 1, 1, 1, 1, 1, 1, 2, 1, 1, 1, 1, 1]\n",
            "RidgeClassifierCV(alphas=array([ 0.1,  1. , 10. ])) [1, 1, 1, 1, 2, 1, 1, 0, 2, 1, 1, 1, 1, 0, 0, 1, 1, 1, 1, 1, 1, 1, 1, 1, 1, 1, 1, 1, 1, 1, 1, 1, 1, 1, 1, 0, 0, 1, 1, 1, 1, 0, 1, 1, 1, 1, 1, 1, 1, 0, 1, 1, 0, 0, 0, 1, 1, 1, 1, 1, 1, 0, 0, 0, 0, 0, 1, 1, 1, 1, 1, 0, 1, 1, 1, 1, 1, 1, 1, 1, 1, 1, 1, 1, 1, 1, 1, 1, 1, 1, 1, 1, 1, 1, 1, 1, 1, 1, 1, 1, 1, 1, 1, 1, 1, 1, 1, 1, 1, 2, 1, 1, 1, 1, 1, 1, 1, 1, 1, 1, 1, 1, 1, 1, 1, 1, 1, 1, 2, 1, 2, 1, 1, 1, 1, 1, 1, 1, 1, 1, 1, 1, 1, 1, 1, 1, 1, 1, 1, 1, 1, 1, 1, 1, 1, 1, 1, 1, 1, 1, 1, 1, 1, 1, 1, 1, 1, 1, 1, 1, 1, 1, 1, 1, 1, 1, 1, 1, 1, 1, 1, 1, 1, 1, 1, 1, 1, 1, 1, 1, 1, 1, 1, 1, 1, 1, 1, 1, 1, 1, 1, 1, 1, 1, 1, 1, 1, 1, 1, 1, 1, 1, 1, 1, 1, 1, 1, 1, 1, 1, 1, 1, 1, 1, 1, 1, 1, 1, 1, 1, 1, 1, 1, 1, 1, 1, 1, 1, 1, 1, 1, 1, 1, 1, 1, 1, 1, 1, 0, 2, 1, 1, 1, 1, 0, 0, 1, 1, 1, 1, 0, 1, 1, 1, 1, 1, 1, 1, 1, 1, 1, 1, 1, 1, 1, 1, 1, 1, 1, 1, 0, 1, 0, 1, 1, 1, 1, 1, 1, 1, 1, 1, 2, 1, 1, 1, 1, 1, 1, 1, 1, 1, 1, 1, 1, 1, 1, 1, 1, 1]\n"
          ]
        }
      ]
    },
    {
      "cell_type": "code",
      "source": [
        "preds_catb = [1, 2, 1, 1, 1, 1, 1, 0, 0, 1, 1, 1, 1, 0, 0, 1, 1, 1, 1, 1, 1, 1, 1, 1, 1, 1, 1, 1, 1, 1, 1, 1, 1, 1, 1, 0, 2, 0, 2, 0, 0, 0, 0, 1, 1, 1, 1, 1, 1, 1, 1, 1, 0, 0, 0, 1, 1, 1, 1, 1, 1, 1, 0, 0, 0, 0, 0, 1, 1, 1, 1, 0, 2, 1, 1, 1, 1, 1, 2, 1, 1, 1, 1, 1, 1, 1, 0, 1, 0, 1, 1, 1, 1, 1, 1, 1, 1, 1, 1, 1, 1, 1, 1, 1, 1, 1, 1, 1, 1, 1, 1, 1, 1, 1, 1, 1, 1, 1, 1, 1, 1, 1, 1, 1, 1, 1, 1, 1, 1, 1, 0, 0, 1, 1, 1, 1, 1, 1, 1, 1, 1, 1, 1, 1, 2, 1, 1, 2, 1, 1, 1, 1, 1, 1, 1, 1, 1, 1, 1, 1, 2, 2, 1, 2, 1, 1, 1, 1, 1, 1, 1, 1, 1, 1, 1, 1, 1, 1, 1, 1, 1, 1, 1, 1, 1, 1, 1, 1, 1, 1, 1, 1, 1, 1, 1, 1, 1, 1, 1, 1, 1, 1, 1, 1, 1, 1, 1, 1, 1, 1, 1, 1, 1, 1, 1, 1, 1, 1, 1, 1, 1, 1, 1, 1, 1, 1, 1, 1, 1, 1, 1, 1, 1, 1, 1, 1, 1, 1, 1, 1, 1, 1, 1, 1, 1, 1, 1, 1, 2, 2, 0, 0, 0, 0, 0, 0, 1, 1, 1, 1, 2, 1, 1, 0, 1, 1, 1, 1, 1, 1, 1, 1, 1, 1, 1, 1, 1, 1, 1, 1, 2, 0, 2, 2, 0, 0, 1, 1, 1, 1, 1, 1, 2, 2, 1, 1, 1, 1, 1, 1, 1, 1, 1, 1, 1, 1, 1, 1, 1, 1]\n",
        "preds_lgbm = [1, 1, 1, 1, 1, 1, 1, 0, 0, 2, 1, 1, 2, 0, 0, 1, 1, 1, 1, 1, 1, 1, 1, 1, 1, 1, 1, 1, 1, 1, 1, 1, 1, 1, 1, 0, 0, 0, 1, 0, 1, 0, 0, 1, 1, 1, 1, 1, 1, 1, 1, 1, 0, 0, 0, 1, 1, 1, 1, 1, 1, 0, 0, 0, 0, 0, 0, 1, 1, 1, 1, 0, 1, 1, 1, 1, 1, 1, 1, 1, 1, 1, 1, 1, 1, 1, 0, 1, 1, 1, 1, 1, 1, 1, 1, 1, 1, 1, 1, 1, 1, 1, 1, 1, 1, 1, 1, 1, 1, 1, 1, 1, 1, 1, 1, 1, 0, 1, 1, 1, 1, 1, 1, 1, 1, 1, 1, 1, 1, 1, 0, 1, 1, 1, 1, 1, 1, 1, 1, 1, 1, 1, 1, 1, 1, 1, 1, 1, 1, 1, 1, 1, 1, 1, 1, 1, 1, 1, 1, 1, 1, 1, 1, 1, 1, 1, 1, 1, 1, 1, 1, 1, 1, 1, 1, 1, 1, 1, 1, 1, 1, 1, 1, 1, 1, 1, 1, 1, 1, 1, 1, 1, 1, 1, 1, 1, 1, 1, 1, 1, 1, 1, 1, 1, 1, 1, 1, 1, 1, 1, 1, 1, 1, 1, 1, 1, 1, 1, 1, 1, 1, 1, 1, 1, 1, 1, 1, 1, 1, 1, 1, 1, 1, 1, 1, 1, 1, 1, 1, 1, 1, 1, 1, 1, 1, 1, 1, 1, 0, 0, 0, 0, 0, 0, 0, 0, 1, 1, 1, 1, 2, 1, 1, 1, 1, 1, 1, 1, 1, 1, 1, 1, 1, 1, 1, 1, 1, 1, 1, 1, 0, 1, 0, 0, 0, 1, 0, 1, 1, 1, 1, 1, 0, 1, 1, 1, 1, 1, 1, 1, 1, 1, 1, 1, 1, 1, 1, 1, 1, 1]\n",
        "preds_xgb = [1, 1, 1, 1, 1, 1, 1, 0, 0, 1, 1, 1, 1, 0, 0, 1, 1, 1, 1, 1, 1, 1, 1, 1, 1, 1, 1, 1, 1, 1, 1, 1, 1, 1, 1, 0, 0, 0, 1, 0, 0, 0, 0, 1, 1, 1, 1, 1, 1, 1, 1, 1, 0, 1, 0, 1, 1, 1, 1, 1, 1, 0, 0, 0, 0, 0, 0, 1, 1, 1, 1, 0, 1, 1, 1, 1, 1, 1, 2, 1, 1, 1, 1, 1, 1, 1, 0, 1, 0, 1, 1, 1, 2, 1, 1, 1, 1, 1, 1, 1, 1, 2, 1, 1, 1, 1, 1, 1, 2, 1, 1, 1, 1, 1, 1, 1, 1, 1, 1, 1, 1, 1, 1, 1, 1, 1, 1, 1, 1, 0, 0, 0, 0, 1, 1, 1, 1, 1, 1, 1, 1, 1, 1, 1, 1, 1, 1, 2, 1, 1, 1, 1, 1, 1, 1, 1, 1, 1, 1, 1, 1, 2, 1, 1, 1, 1, 1, 1, 1, 1, 1, 1, 1, 1, 1, 1, 1, 1, 1, 1, 1, 1, 1, 1, 1, 1, 1, 1, 1, 1, 1, 1, 1, 1, 1, 1, 1, 1, 1, 1, 1, 1, 1, 1, 1, 1, 1, 1, 1, 1, 1, 1, 1, 1, 1, 1, 1, 1, 1, 1, 1, 1, 1, 1, 1, 1, 1, 1, 1, 1, 1, 1, 1, 1, 1, 1, 1, 1, 1, 1, 1, 1, 1, 1, 1, 1, 1, 1, 0, 0, 0, 0, 0, 0, 0, 0, 1, 1, 1, 1, 2, 1, 1, 1, 1, 1, 1, 1, 1, 1, 1, 1, 1, 1, 1, 1, 1, 1, 1, 1, 0, 1, 0, 0, 0, 1, 1, 1, 1, 1, 1, 1, 1, 0, 1, 1, 1, 1, 1, 1, 1, 1, 1, 1, 1, 1, 1, 1, 1, 1]\n",
        "preds_bagging = [1, 1, 1, 1, 1, 1, 1, 0, 0, 1, 1, 1, 1, 0, 0, 1, 1, 1, 1, 1, 1, 1, 1, 1, 1, 1, 1, 1, 1, 1, 1, 1, 1, 1, 1, 0, 2, 0, 0, 0, 0, 0, 0, 1, 1, 1, 1, 1, 1, 1, 1, 1, 1, 0, 1, 1, 1, 1, 1, 1, 1, 1, 0, 0, 0, 0, 0, 1, 1, 1, 1, 1, 1, 1, 1, 1, 1, 1, 2, 2, 1, 1, 1, 1, 1, 1, 0, 1, 0, 1, 2, 1, 2, 2, 1, 2, 1, 2, 1, 1, 1, 1, 1, 1, 1, 1, 1, 1, 2, 2, 1, 1, 1, 1, 2, 2, 1, 1, 1, 2, 1, 1, 1, 1, 1, 1, 1, 1, 1, 2, 2, 2, 2, 1, 2, 2, 1, 2, 1, 1, 1, 1, 1, 1, 1, 2, 1, 2, 1, 1, 1, 1, 1, 1, 1, 1, 1, 1, 1, 1, 2, 2, 0, 2, 1, 1, 1, 1, 1, 1, 1, 1, 1, 1, 1, 1, 1, 1, 1, 2, 1, 1, 1, 2, 1, 1, 1, 1, 1, 1, 1, 1, 1, 1, 1, 1, 1, 1, 1, 1, 1, 1, 1, 1, 1, 1, 1, 1, 1, 1, 1, 1, 1, 1, 1, 1, 1, 1, 1, 0, 1, 1, 1, 1, 1, 1, 1, 1, 1, 1, 1, 1, 1, 1, 1, 1, 1, 1, 1, 0, 1, 1, 1, 1, 1, 1, 1, 1, 2, 2, 2, 1, 2, 2, 2, 2, 1, 1, 1, 1, 2, 1, 1, 2, 1, 1, 1, 1, 1, 1, 1, 1, 1, 1, 1, 1, 1, 1, 1, 1, 2, 2, 1, 2, 2, 2, 2, 2, 1, 1, 1, 1, 2, 2, 1, 1, 1, 1, 2, 1, 1, 1, 1, 1, 2, 1, 2, 1, 2, 1]\n",
        "preds_gradient = [1, 1, 1, 1, 1, 1, 1, 0, 0, 1, 1, 1, 1, 0, 0, 1, 1, 1, 1, 1, 1, 1, 1, 1, 1, 1, 1, 1, 1, 1, 1, 1, 1, 1, 1, 0, 0, 0, 2, 0, 0, 0, 0, 1, 1, 1, 1, 1, 1, 1, 1, 1, 0, 1, 1, 1, 1, 1, 1, 1, 1, 1, 0, 0, 0, 0, 0, 1, 1, 1, 1, 0, 1, 1, 1, 1, 1, 1, 2, 1, 2, 1, 1, 1, 1, 1, 0, 1, 0, 1, 1, 1, 1, 1, 1, 1, 1, 1, 1, 1, 1, 1, 1, 2, 1, 1, 2, 1, 2, 1, 1, 1, 1, 1, 1, 1, 1, 1, 1, 1, 1, 1, 1, 1, 1, 1, 1, 1, 1, 0, 0, 0, 0, 1, 1, 1, 1, 1, 1, 1, 1, 1, 0, 1, 1, 2, 1, 2, 1, 1, 1, 1, 0, 1, 1, 1, 1, 1, 1, 1, 2, 2, 1, 2, 1, 1, 1, 1, 1, 1, 1, 1, 1, 1, 1, 1, 1, 1, 1, 1, 1, 1, 1, 1, 1, 1, 1, 2, 1, 1, 1, 1, 1, 1, 1, 1, 1, 1, 1, 1, 1, 1, 1, 1, 1, 1, 1, 1, 1, 1, 1, 1, 1, 1, 1, 1, 1, 1, 1, 1, 1, 1, 1, 1, 1, 1, 1, 1, 1, 1, 1, 1, 1, 1, 1, 1, 1, 1, 1, 1, 1, 1, 1, 1, 1, 1, 1, 1, 2, 0, 0, 0, 0, 0, 2, 2, 1, 1, 1, 1, 2, 1, 1, 1, 1, 1, 1, 1, 1, 1, 1, 1, 1, 1, 1, 0, 1, 1, 1, 1, 1, 1, 2, 0, 0, 0, 1, 1, 1, 1, 1, 1, 0, 0, 1, 1, 1, 1, 1, 1, 1, 1, 1, 1, 2, 1, 1, 1, 1, 1]\n",
        "preds_ridge = [1, 1, 1, 1, 2, 1, 1, 0, 2, 1, 1, 1, 1, 0, 0, 1, 1, 1, 1, 1, 1, 1, 1, 1, 1, 1, 1, 1, 1, 1, 1, 1, 1, 1, 1, 0, 0, 1, 1, 1, 1, 0, 1, 1, 1, 1, 1, 1, 1, 0, 1, 1, 0, 0, 0, 1, 1, 1, 1, 1, 1, 0, 0, 0, 0, 0, 1, 1, 1, 1, 1, 0, 1, 1, 1, 1, 1, 1, 1, 1, 1, 1, 1, 1, 1, 1, 1, 1, 1, 1, 1, 1, 1, 1, 1, 1, 1, 1, 1, 1, 1, 1, 1, 1, 1, 1, 1, 1, 1, 2, 1, 1, 1, 1, 1, 1, 1, 1, 1, 1, 1, 1, 1, 1, 1, 1, 1, 1, 2, 1, 2, 1, 1, 1, 1, 1, 1, 1, 1, 1, 1, 1, 1, 1, 1, 1, 1, 1, 1, 1, 1, 1, 1, 1, 1, 1, 1, 1, 1, 1, 1, 1, 1, 1, 1, 1, 1, 1, 1, 1, 1, 1, 1, 1, 1, 1, 1, 1, 1, 1, 1, 1, 1, 1, 1, 1, 1, 1, 1, 1, 1, 1, 1, 1, 1, 1, 1, 1, 1, 1, 1, 1, 1, 1, 1, 1, 1, 1, 1, 1, 1, 1, 1, 1, 1, 1, 1, 1, 1, 1, 1, 1, 1, 1, 1, 1, 1, 1, 1, 1, 1, 1, 1, 1, 1, 1, 1, 1, 1, 1, 1, 1, 1, 1, 1, 1, 1, 1, 0, 2, 1, 1, 1, 1, 0, 0, 1, 1, 1, 1, 0, 1, 1, 1, 1, 1, 1, 1, 1, 1, 1, 1, 1, 1, 1, 1, 1, 1, 1, 1, 0, 1, 0, 1, 1, 1, 1, 1, 1, 1, 1, 1, 2, 1, 1, 1, 1, 1, 1, 1, 1, 1, 1, 1, 1, 1, 1, 1, 1, 1]"
      ],
      "metadata": {
        "id": "Q-71TFSqg2aH"
      },
      "id": "Q-71TFSqg2aH",
      "execution_count": null,
      "outputs": []
    },
    {
      "cell_type": "code",
      "execution_count": null,
      "id": "e1e8e853",
      "metadata": {
        "colab": {
          "base_uri": "https://localhost:8080/",
          "height": 235
        },
        "id": "e1e8e853",
        "outputId": "9dde57df-5ca2-459f-e458-53e0519767c7"
      },
      "outputs": [
        {
          "output_type": "error",
          "ename": "NameError",
          "evalue": "ignored",
          "traceback": [
            "\u001b[0;31m---------------------------------------------------------------------------\u001b[0m",
            "\u001b[0;31mNameError\u001b[0m                                 Traceback (most recent call last)",
            "\u001b[0;32m<ipython-input-10-dc92d8057380>\u001b[0m in \u001b[0;36m<module>\u001b[0;34m\u001b[0m\n\u001b[1;32m      1\u001b[0m \u001b[0msubmit\u001b[0m \u001b[0;34m=\u001b[0m \u001b[0mpd\u001b[0m\u001b[0;34m.\u001b[0m\u001b[0mread_csv\u001b[0m\u001b[0;34m(\u001b[0m\u001b[0;34m'/content/drive/MyDrive/sample_submission.csv'\u001b[0m\u001b[0;34m)\u001b[0m\u001b[0;34m\u001b[0m\u001b[0;34m\u001b[0m\u001b[0m\n\u001b[1;32m      2\u001b[0m \u001b[0;34m\u001b[0m\u001b[0m\n\u001b[0;32m----> 3\u001b[0;31m \u001b[0msubmit\u001b[0m\u001b[0;34m[\u001b[0m\u001b[0;34m'Y_Class'\u001b[0m\u001b[0;34m]\u001b[0m \u001b[0;34m=\u001b[0m \u001b[0mpreds\u001b[0m\u001b[0;34m\u001b[0m\u001b[0;34m\u001b[0m\u001b[0m\n\u001b[0m\u001b[1;32m      4\u001b[0m \u001b[0msubmit\u001b[0m\u001b[0;34m.\u001b[0m\u001b[0mto_csv\u001b[0m\u001b[0;34m(\u001b[0m\u001b[0;34m'CXG212-smartFactorySubmission.csv'\u001b[0m\u001b[0;34m,\u001b[0m \u001b[0mindex\u001b[0m\u001b[0;34m=\u001b[0m\u001b[0;32mFalse\u001b[0m\u001b[0;34m)\u001b[0m\u001b[0;34m\u001b[0m\u001b[0;34m\u001b[0m\u001b[0m\n\u001b[1;32m      5\u001b[0m \u001b[0msns\u001b[0m\u001b[0;34m.\u001b[0m\u001b[0mcountplot\u001b[0m\u001b[0;34m(\u001b[0m\u001b[0mx\u001b[0m\u001b[0;34m=\u001b[0m\u001b[0mpreds\u001b[0m\u001b[0;34m)\u001b[0m\u001b[0;34m;\u001b[0m\u001b[0;34m\u001b[0m\u001b[0;34m\u001b[0m\u001b[0m\n",
            "\u001b[0;31mNameError\u001b[0m: name 'preds' is not defined"
          ]
        }
      ],
      "source": [
        "submit = pd.read_csv('/content/drive/MyDrive/sample_submission.csv')\n",
        "\n",
        "submit['Y_Class'] = preds\n",
        "submit.to_csv('CXG212-smartFactorySubmission.csv', index=False)  \n",
        "sns.countplot(x=preds);"
      ]
    },
    {
      "cell_type": "code",
      "source": [
        "stack = StackingClassifier(\n",
        "    estimators=models,\n",
        "    final_estimator=LogisticRegression(),  \n",
        "    cv=5,\n",
        "    n_jobs=4,\n",
        "    passthrough=True\n",
        ")\n",
        "\n",
        "# use X_test as validation set      \n",
        "stack.fit(train_x, train_y)\n",
        "\n",
        "train_stack = np.concatenate(\n",
        "    [model.predict_proba(train_x) for model in models], axis=1)\n",
        "val_stack = np.concatenate(\n",
        "    [model.predict_proba(X_test) for model in models], axis=1)\n",
        "\n",
        "# meta model training\n",
        "meta_model = LogisticRegression().fit(train_stack, train_y)\n",
        "preds = meta_model.predict(val_stack)\n",
        "\n"
      ],
      "metadata": {
        "id": "X7bzI9lZO4VA",
        "colab": {
          "base_uri": "https://localhost:8080/",
          "height": 380
        },
        "outputId": "73e07a3c-db64-4fbc-a7d4-fe70504eda59"
      },
      "execution_count": null,
      "outputs": [
        {
          "output_type": "error",
          "ename": "TypeError",
          "evalue": "ignored",
          "traceback": [
            "\u001b[0;31m---------------------------------------------------------------------------\u001b[0m",
            "\u001b[0;31mTypeError\u001b[0m                                 Traceback (most recent call last)",
            "\u001b[0;32m<ipython-input-9-0bc19587b29d>\u001b[0m in \u001b[0;36m<module>\u001b[0;34m\u001b[0m\n\u001b[1;32m      8\u001b[0m \u001b[0;34m\u001b[0m\u001b[0m\n\u001b[1;32m      9\u001b[0m \u001b[0;31m# use X_test as validation set\u001b[0m\u001b[0;34m\u001b[0m\u001b[0;34m\u001b[0m\u001b[0;34m\u001b[0m\u001b[0m\n\u001b[0;32m---> 10\u001b[0;31m \u001b[0mstack\u001b[0m\u001b[0;34m.\u001b[0m\u001b[0mfit\u001b[0m\u001b[0;34m(\u001b[0m\u001b[0mtrain_x\u001b[0m\u001b[0;34m,\u001b[0m \u001b[0mtrain_y\u001b[0m\u001b[0;34m)\u001b[0m\u001b[0;34m\u001b[0m\u001b[0;34m\u001b[0m\u001b[0m\n\u001b[0m\u001b[1;32m     11\u001b[0m \u001b[0;34m\u001b[0m\u001b[0m\n\u001b[1;32m     12\u001b[0m train_stack = np.concatenate(\n",
            "\u001b[0;32m/usr/local/lib/python3.8/dist-packages/sklearn/ensemble/_stacking.py\u001b[0m in \u001b[0;36mfit\u001b[0;34m(self, X, y, sample_weight)\u001b[0m\n\u001b[1;32m    486\u001b[0m         \u001b[0mself\u001b[0m\u001b[0;34m.\u001b[0m\u001b[0m_le\u001b[0m \u001b[0;34m=\u001b[0m \u001b[0mLabelEncoder\u001b[0m\u001b[0;34m(\u001b[0m\u001b[0;34m)\u001b[0m\u001b[0;34m.\u001b[0m\u001b[0mfit\u001b[0m\u001b[0;34m(\u001b[0m\u001b[0my\u001b[0m\u001b[0;34m)\u001b[0m\u001b[0;34m\u001b[0m\u001b[0;34m\u001b[0m\u001b[0m\n\u001b[1;32m    487\u001b[0m         \u001b[0mself\u001b[0m\u001b[0;34m.\u001b[0m\u001b[0mclasses_\u001b[0m \u001b[0;34m=\u001b[0m \u001b[0mself\u001b[0m\u001b[0;34m.\u001b[0m\u001b[0m_le\u001b[0m\u001b[0;34m.\u001b[0m\u001b[0mclasses_\u001b[0m\u001b[0;34m\u001b[0m\u001b[0;34m\u001b[0m\u001b[0m\n\u001b[0;32m--> 488\u001b[0;31m         \u001b[0;32mreturn\u001b[0m \u001b[0msuper\u001b[0m\u001b[0;34m(\u001b[0m\u001b[0;34m)\u001b[0m\u001b[0;34m.\u001b[0m\u001b[0mfit\u001b[0m\u001b[0;34m(\u001b[0m\u001b[0mX\u001b[0m\u001b[0;34m,\u001b[0m \u001b[0mself\u001b[0m\u001b[0;34m.\u001b[0m\u001b[0m_le\u001b[0m\u001b[0;34m.\u001b[0m\u001b[0mtransform\u001b[0m\u001b[0;34m(\u001b[0m\u001b[0my\u001b[0m\u001b[0;34m)\u001b[0m\u001b[0;34m,\u001b[0m \u001b[0msample_weight\u001b[0m\u001b[0;34m)\u001b[0m\u001b[0;34m\u001b[0m\u001b[0;34m\u001b[0m\u001b[0m\n\u001b[0m\u001b[1;32m    489\u001b[0m \u001b[0;34m\u001b[0m\u001b[0m\n\u001b[1;32m    490\u001b[0m     \u001b[0;34m@\u001b[0m\u001b[0mif_delegate_has_method\u001b[0m\u001b[0;34m(\u001b[0m\u001b[0mdelegate\u001b[0m\u001b[0;34m=\u001b[0m\u001b[0;34m\"final_estimator_\"\u001b[0m\u001b[0;34m)\u001b[0m\u001b[0;34m\u001b[0m\u001b[0;34m\u001b[0m\u001b[0m\n",
            "\u001b[0;32m/usr/local/lib/python3.8/dist-packages/sklearn/ensemble/_stacking.py\u001b[0m in \u001b[0;36mfit\u001b[0;34m(self, X, y, sample_weight)\u001b[0m\n\u001b[1;32m    148\u001b[0m         \u001b[0;31m# all_estimators contains all estimators, the one to be fitted and the\u001b[0m\u001b[0;34m\u001b[0m\u001b[0;34m\u001b[0m\u001b[0;34m\u001b[0m\u001b[0m\n\u001b[1;32m    149\u001b[0m         \u001b[0;31m# 'drop' string.\u001b[0m\u001b[0;34m\u001b[0m\u001b[0;34m\u001b[0m\u001b[0;34m\u001b[0m\u001b[0m\n\u001b[0;32m--> 150\u001b[0;31m         \u001b[0mnames\u001b[0m\u001b[0;34m,\u001b[0m \u001b[0mall_estimators\u001b[0m \u001b[0;34m=\u001b[0m \u001b[0mself\u001b[0m\u001b[0;34m.\u001b[0m\u001b[0m_validate_estimators\u001b[0m\u001b[0;34m(\u001b[0m\u001b[0;34m)\u001b[0m\u001b[0;34m\u001b[0m\u001b[0;34m\u001b[0m\u001b[0m\n\u001b[0m\u001b[1;32m    151\u001b[0m         \u001b[0mself\u001b[0m\u001b[0;34m.\u001b[0m\u001b[0m_validate_final_estimator\u001b[0m\u001b[0;34m(\u001b[0m\u001b[0;34m)\u001b[0m\u001b[0;34m\u001b[0m\u001b[0;34m\u001b[0m\u001b[0m\n\u001b[1;32m    152\u001b[0m \u001b[0;34m\u001b[0m\u001b[0m\n",
            "\u001b[0;32m/usr/local/lib/python3.8/dist-packages/sklearn/ensemble/_base.py\u001b[0m in \u001b[0;36m_validate_estimators\u001b[0;34m(self)\u001b[0m\n\u001b[1;32m    245\u001b[0m                 \u001b[0;34m\" of (string, estimator) tuples.\"\u001b[0m\u001b[0;34m\u001b[0m\u001b[0;34m\u001b[0m\u001b[0m\n\u001b[1;32m    246\u001b[0m             )\n\u001b[0;32m--> 247\u001b[0;31m         \u001b[0mnames\u001b[0m\u001b[0;34m,\u001b[0m \u001b[0mestimators\u001b[0m \u001b[0;34m=\u001b[0m \u001b[0mzip\u001b[0m\u001b[0;34m(\u001b[0m\u001b[0;34m*\u001b[0m\u001b[0mself\u001b[0m\u001b[0;34m.\u001b[0m\u001b[0mestimators\u001b[0m\u001b[0;34m)\u001b[0m\u001b[0;34m\u001b[0m\u001b[0;34m\u001b[0m\u001b[0m\n\u001b[0m\u001b[1;32m    248\u001b[0m         \u001b[0;31m# defined by MetaEstimatorMixin\u001b[0m\u001b[0;34m\u001b[0m\u001b[0;34m\u001b[0m\u001b[0;34m\u001b[0m\u001b[0m\n\u001b[1;32m    249\u001b[0m         \u001b[0mself\u001b[0m\u001b[0;34m.\u001b[0m\u001b[0m_validate_names\u001b[0m\u001b[0;34m(\u001b[0m\u001b[0mnames\u001b[0m\u001b[0;34m)\u001b[0m\u001b[0;34m\u001b[0m\u001b[0;34m\u001b[0m\u001b[0m\n",
            "\u001b[0;31mTypeError\u001b[0m: 'CatBoostClassifier' object is not iterable"
          ]
        }
      ],
      "id": "X7bzI9lZO4VA"
    },
    {
      "cell_type": "code",
      "execution_count": null,
      "id": "669e28a5",
      "metadata": {
        "colab": {
          "base_uri": "https://localhost:8080/",
          "height": 265
        },
        "id": "669e28a5",
        "outputId": "49b3ddea-dd79-4b33-83f6-26d30d0243ef"
      },
      "outputs": [
        {
          "output_type": "display_data",
          "data": {
            "text/plain": [
              "<Figure size 432x288 with 1 Axes>"
            ],
            "image/png": "[encoded data removed]"
          },
          "metadata": {
            "needs_background": "light"
          }
        }
      ],
      "source": [
        "seed_num=37\n",
        "\n",
        "GBC_model = GradientBoostingClassifier(random_state=37\n",
        "              ).fit(train_x, train_y)\n",
        "\n",
        "preds = GBC_model.predict(test_x)\n",
        "sns.countplot(x=preds);"
      ]
    },
    {
      "cell_type": "code",
      "source": [],
      "metadata": {
        "id": "bId7aEA7wZm5"
      },
      "id": "bId7aEA7wZm5",
      "execution_count": null,
      "outputs": []
    },
    {
      "cell_type": "markdown",
      "source": [
        "# 5.Submit"
      ],
      "metadata": {
        "id": "zbNtWowN78mX"
      },
      "id": "zbNtWowN78mX"
    },
    {
      "cell_type": "code",
      "execution_count": null,
      "metadata": {
        "id": "YQHmg0PCJetf"
      },
      "outputs": [],
      "source": [
        "submit = pd.read_csv('/content/drive/MyDrive/sample_submission.csv')\n",
        "submit['Y_Class'] = preds\n",
        "\n",
        "submit.to_csv('smartFactorySubmission.csv', index=False)"
      ],
      "id": "YQHmg0PCJetf"
    },
    {
      "cell_type": "code",
      "source": [],
      "metadata": {
        "id": "CYrSQNYg78q-"
      },
      "id": "CYrSQNYg78q-",
      "execution_count": null,
      "outputs": []
    },
    {
      "cell_type": "code",
      "source": [],
      "metadata": {
        "id": "_dt_cn6Q78vw"
      },
      "id": "_dt_cn6Q78vw",
      "execution_count": null,
      "outputs": []
    },
    {
      "cell_type": "code",
      "source": [],
      "metadata": {
        "id": "wYyMG1FW781N"
      },
      "id": "wYyMG1FW781N",
      "execution_count": null,
      "outputs": []
    },
    {
      "cell_type": "code",
      "source": [],
      "metadata": {
        "id": "lGGGi1ld79D0"
      },
      "id": "lGGGi1ld79D0",
      "execution_count": null,
      "outputs": []
    },
    {
      "cell_type": "code",
      "source": [],
      "metadata": {
        "id": "nj6G-kfy79JN"
      },
      "id": "nj6G-kfy79JN",
      "execution_count": null,
      "outputs": []
    },
    {
      "cell_type": "markdown",
      "source": [
        "# THE END"
      ],
      "metadata": {
        "id": "utf4-GCG5REy"
      },
      "id": "utf4-GCG5REy"
    },
    {
      "cell_type": "code",
      "source": [],
      "metadata": {
        "id": "gvXsoboM5RL6"
      },
      "id": "gvXsoboM5RL6",
      "execution_count": null,
      "outputs": []
    }
  ],
  "metadata": {
    "accelerator": "GPU",
    "colab": {
      "provenance": [],
      "toc_visible": true,
      "machine_shape": "hm"
    },
    "gpuClass": "standard",
    "kernelspec": {
      "display_name": "Python 3 (ipykernel)",
      "language": "python",
      "name": "python3"
    },
    "language_info": {
      "codemirror_mode": {
        "name": "ipython",
        "version": 3
      },
      "file_extension": ".py",
      "mimetype": "text/x-python",
      "name": "python",
      "nbconvert_exporter": "python",
      "pygments_lexer": "ipython3",
      "version": "3.9.7"
    }
  },
  "nbformat": 4,
  "nbformat_minor": 5
}