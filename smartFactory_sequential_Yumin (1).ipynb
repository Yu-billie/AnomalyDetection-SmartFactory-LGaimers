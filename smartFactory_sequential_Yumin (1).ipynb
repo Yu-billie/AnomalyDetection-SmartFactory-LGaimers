{
  "cells": [
    {
      "cell_type": "code",
      "source": [
        "# function ClickConnect(){\n",
        "#    console.log(\"Working\"); \n",
        "#    document.querySelector(\"colab-toolbar-button\").click() \n",
        "# } setInterval(ClickConnect, 1800000)\n",
        "\n",
        "# seed fixing for reproduction \n",
        "import torch \n",
        "import random as rn \n",
        "def seed_everything(seed):\n",
        "    random.seed(seed)\n",
        "    os.environ['PYTHONHASHSEED'] = str(seed)\n",
        "    np.random.seed(seed)\n",
        "    torch.manual_seed(seed)\n",
        "    torch.cuda.manual_seed(seed)  # type: ignore\n",
        "    torch.backends.cudnn.deterministic = True  # type: ignore\n",
        "    torch.backends.cudnn.benchmark = True  # type: ignore\n",
        "seed_everything(37)\n",
        "\n",
        "seed_num=37\n",
        "np.random.seed(seed_num)\n",
        "rn.seed(seed_num) \n",
        "tf.random.set_seed(seed_num)\n",
        "session_conf = tf.compat.v1.ConfigProto(intra_op_parallelism_threads=1, inter_op_parallelism_threads=1)\n",
        "sess = tf.compat.v1.Session(config=session_conf)\n",
        "K.set_session(sess)\n",
        "\n",
        "class config:   \n",
        "    seed = 37  \n",
        "    device = \"cuda:0\"            \n",
        "\n",
        "def seed_everything(seed: int = 37):\n",
        "    random.seed(seed)\n",
        "    np.random.seed(seed)\n",
        "    os.environ[\"PYTHONHASHSEED\"] = str(seed)\n",
        "    tf.random.set_seed(seed)\n",
        "seed_everything(config.seed)\n",
        "tf.random.set_seed(37) # tensorflow global seed \n",
        "print(config.seed)   "
      ],
      "metadata": {
        "id": "0AdADLxT1DoQ",
        "colab": {
          "base_uri": "https://localhost:8080/"
        },
        "outputId": "4a5b077d-426c-4cbd-c73d-92b1d355ce75"
      },
      "id": "0AdADLxT1DoQ",
      "execution_count": null,
      "outputs": [
        {
          "output_type": "stream",
          "name": "stdout",
          "text": [
            "37\n"
          ]
        }
      ]
    },
    {
      "cell_type": "code",
      "source": [
        "!pip install optuna "
      ],
      "metadata": {
        "colab": {
          "base_uri": "https://localhost:8080/"
        },
        "id": "yTgZNZ6qbgNk",
        "outputId": "582cb95d-c52e-4187-e508-7ea0ea0a767c"
      },
      "id": "yTgZNZ6qbgNk",
      "execution_count": null,
      "outputs": [
        {
          "output_type": "stream",
          "name": "stdout",
          "text": [
            "Looking in indexes: https://pypi.org/simple, https://us-python.pkg.dev/colab-wheels/public/simple/\n",
            "Collecting optuna\n",
            "  Downloading optuna-3.1.0-py3-none-any.whl (365 kB)\n",
            "\u001b[2K     \u001b[90m━━━━━━━━━━━━━━━━━━━━━━━━━━━━━━━━━━━━━━━\u001b[0m \u001b[32m365.3/365.3 KB\u001b[0m \u001b[31m7.9 MB/s\u001b[0m eta \u001b[36m0:00:00\u001b[0m\n",
            "\u001b[?25hCollecting cmaes>=0.9.1\n",
            "  Downloading cmaes-0.9.1-py3-none-any.whl (21 kB)\n",
            "Requirement already satisfied: sqlalchemy>=1.3.0 in /usr/local/lib/python3.8/dist-packages (from optuna) (1.4.46)\n",
            "Collecting colorlog\n",
            "  Downloading colorlog-6.7.0-py2.py3-none-any.whl (11 kB)\n",
            "Requirement already satisfied: PyYAML in /usr/local/lib/python3.8/dist-packages (from optuna) (6.0)\n",
            "Requirement already satisfied: numpy in /usr/local/lib/python3.8/dist-packages (from optuna) (1.22.4)\n",
            "Collecting alembic>=1.5.0\n",
            "  Downloading alembic-1.9.4-py3-none-any.whl (210 kB)\n",
            "\u001b[2K     \u001b[90m━━━━━━━━━━━━━━━━━━━━━━━━━━━━━━━━━━━━━━\u001b[0m \u001b[32m210.5/210.5 KB\u001b[0m \u001b[31m25.8 MB/s\u001b[0m eta \u001b[36m0:00:00\u001b[0m\n",
            "\u001b[?25hRequirement already satisfied: tqdm in /usr/local/lib/python3.8/dist-packages (from optuna) (4.64.1)\n",
            "Requirement already satisfied: packaging>=20.0 in /usr/local/lib/python3.8/dist-packages (from optuna) (23.0)\n",
            "Requirement already satisfied: importlib-metadata in /usr/local/lib/python3.8/dist-packages (from alembic>=1.5.0->optuna) (6.0.0)\n",
            "Requirement already satisfied: importlib-resources in /usr/local/lib/python3.8/dist-packages (from alembic>=1.5.0->optuna) (5.12.0)\n",
            "Collecting Mako\n",
            "  Downloading Mako-1.2.4-py3-none-any.whl (78 kB)\n",
            "\u001b[2K     \u001b[90m━━━━━━━━━━━━━━━━━━━━━━━━━━━━━━━━━━━━━━━━\u001b[0m \u001b[32m78.7/78.7 KB\u001b[0m \u001b[31m10.7 MB/s\u001b[0m eta \u001b[36m0:00:00\u001b[0m\n",
            "\u001b[?25hRequirement already satisfied: greenlet!=0.4.17 in /usr/local/lib/python3.8/dist-packages (from sqlalchemy>=1.3.0->optuna) (2.0.2)\n",
            "Requirement already satisfied: zipp>=0.5 in /usr/local/lib/python3.8/dist-packages (from importlib-metadata->alembic>=1.5.0->optuna) (3.14.0)\n",
            "Requirement already satisfied: MarkupSafe>=0.9.2 in /usr/local/lib/python3.8/dist-packages (from Mako->alembic>=1.5.0->optuna) (2.0.1)\n",
            "Installing collected packages: Mako, colorlog, cmaes, alembic, optuna\n",
            "Successfully installed Mako-1.2.4 alembic-1.9.4 cmaes-0.9.1 colorlog-6.7.0 optuna-3.1.0\n"
          ]
        }
      ]
    },
    {
      "cell_type": "code",
      "execution_count": null,
      "metadata": {
        "colab": {
          "base_uri": "https://localhost:8080/"
        },
        "outputId": "74cb1250-f766-47f4-ed1d-dcb356b0951f",
        "id": "edWlZSskiEhV"
      },
      "outputs": [
        {
          "output_type": "stream",
          "name": "stdout",
          "text": [
            "Drive already mounted at /content/drive; to attempt to forcibly remount, call drive.mount(\"/content/drive\", force_remount=True).\n"
          ]
        }
      ],
      "source": [
        "import pandas as pd\n",
        "import random\n",
        "import os\n",
        "import numpy as np\n",
        "import matplotlib.pyplot as plt   \n",
        "import matplotlib.patches as mpathces \n",
        "import seaborn as sns \n",
        "\n",
        "# Sequential Modeling PYTORCH\n",
        "import torch \n",
        "import torch.nn as nn \n",
        "import torch.optim as optim \n",
        "from torch.utils.data import DataLoader\n",
        "from torchvision import datasets, transforms\n",
        "\n",
        "# sklearn \n",
        "from sklearn.preprocessing import LabelEncoder\n",
        "from sklearn.model_selection import train_test_split\n",
        "from sklearn.metrics import accuracy_score, classification_report, f1_score\n",
        "from sklearn.preprocessing import StandardScaler\n",
        "from sklearn.preprocessing import MinMaxScaler\n",
        "from sklearn.ensemble import VotingClassifier\n",
        "\n",
        "# sequential model modeling \n",
        "import tensorflow as tf\n",
        "from tensorflow import keras \n",
        "from keras import backend as K \n",
        "from keras import regularizers\n",
        "from keras.models import Sequential\n",
        "from keras.layers import Dense,Dropout, Activation, BatchNormalization, Conv2D, Flatten  \n",
        "from keras import optimizers, metrics, callbacks\n",
        "from tensorflow.keras.backend import clear_session\n",
        "\n",
        "import optuna\n",
        "from optuna.visualization import plot_optimization_history\n",
        "from optuna.visualization import plot_param_importances\n",
        "from optuna.visualization import plot_parallel_coordinate\n",
        "from optuna.visualization import plot_contour\n",
        "\n",
        "# GoodleDrive mount\n",
        "from google.colab import drive   \n",
        "drive.mount('/content/drive')   "
      ],
      "id": "edWlZSskiEhV"
    },
    {
      "cell_type": "code",
      "source": [
        "train_df = pd.read_csv('/content/drive/MyDrive/train.csv')\n",
        "test_df = pd.read_csv('/content/drive/MyDrive/test.csv')\n",
        "submit = pd.read_csv('/content/drive/MyDrive/sample_submission.csv')\n",
        "\n",
        "train_x = train_df.drop(columns=['PRODUCT_ID', 'TIMESTAMP', 'Y_Class','Y_Quality'])\n",
        "train_y = train_df['Y_Class']\n",
        "test_x = test_df.drop(columns=['PRODUCT_ID', 'TIMESTAMP'])   \n",
        "\n",
        "# 1) qualitative to quantitative\n",
        "qual_col = ['LINE', 'PRODUCT_CODE']\n",
        "for i in qual_col:\n",
        "    le = LabelEncoder()    # TRY one-hot encoding \n",
        "    le = le.fit(train_x[i])\n",
        "    train_x[i] = le.transform(train_x[i])\n",
        "    for label in np.unique(test_x[i]): \n",
        "        if label not in le.classes_: \n",
        "            le.classes_ = np.append(le.classes_, label)\n",
        "    test_x[i] = le.transform(test_x[i]) \n",
        "\n",
        "# 2) Missing Values \n",
        "train_x = train_x.fillna(0)\n",
        "test_x = test_x.fillna(0)\n",
        "\n",
        "# 3) scaling: only `X_???` values (continuous)\n",
        "Xs = train_x.select_dtypes(include=float).iloc[:,1:].columns.tolist()\n",
        "scaler = StandardScaler().fit(train_x.loc[:, Xs])\n",
        "train_x.loc[:, Xs] = scaler.transform(train_x.loc[:, Xs])\n",
        "test_x.loc[:, Xs] = scaler.transform(test_x.loc[:, Xs])   \n",
        "print('Done.')\n",
        "\n",
        "X_train, X_test, y_train, y_test=train_test_split(train_x, train_y, test_size=0.3, random_state=37)"
      ],
      "metadata": {
        "colab": {
          "base_uri": "https://localhost:8080/"
        },
        "id": "k7NlBUWO4fbZ",
        "outputId": "203cf28f-39f2-4093-fcf8-5b3b2328bf81"
      },
      "id": "k7NlBUWO4fbZ",
      "execution_count": null,
      "outputs": [
        {
          "output_type": "stream",
          "name": "stdout",
          "text": [
            "Done.\n"
          ]
        }
      ]
    },
    {
      "cell_type": "markdown",
      "source": [
        "# 1.Sequential Model"
      ],
      "metadata": {
        "id": "bMrbTYyi8mK4"
      },
      "id": "bMrbTYyi8mK4"
    },
    {
      "cell_type": "code",
      "execution_count": null,
      "metadata": {
        "colab": {
          "base_uri": "https://localhost:8080/",
          "height": 545
        },
        "outputId": "a561a7b4-b0d8-41d4-ebd3-02b96bfb26dd",
        "id": "FLHA36Z1iEhW"
      },
      "outputs": [
        {
          "output_type": "stream",
          "name": "stdout",
          "text": [
            "Train on 478 samples, validate on 120 samples\n",
            "Epoch 1/5\n",
            " 80/478 [====>.........................] - ETA: 2s - loss: 1.4597 - acc: 0.3375"
          ]
        },
        {
          "output_type": "stream",
          "name": "stderr",
          "text": [
            "/usr/local/lib/python3.8/dist-packages/keras/engine/training_v1.py:2333: UserWarning: `Model.state_updates` will be removed in a future version. This property should not be used in TensorFlow 2.0, as `updates` are applied automatically.\n",
            "  updates = self.state_updates\n"
          ]
        },
        {
          "output_type": "stream",
          "name": "stdout",
          "text": [
            "\b\b\b\b\b\b\b\b\b\b\b\b\b\b\b\b\b\b\b\b\b\b\b\b\b\b\b\b\b\b\b\b\b\b\b\b\b\b\b\b\b\b\b\b\b\b\b\b\b\b\b\b\b\b\b\b\b\b\b\b\b\b\b\b\b\b\b\b\b\b\b\b\b\b\b\b\b\b\b\r478/478 [==============================] - 2s 4ms/sample - loss: 6.9890 - acc: 0.5063 - val_loss: 4.7869 - val_acc: 0.2083\n",
            "Epoch 2/5\n",
            "478/478 [==============================] - 0s 84us/sample - loss: 3.3008 - acc: 0.6004 - val_loss: 3.8317 - val_acc: 0.6250\n",
            "Epoch 3/5\n",
            "478/478 [==============================] - 0s 83us/sample - loss: 2.7631 - acc: 0.6757 - val_loss: 2.7948 - val_acc: 0.6417\n",
            "Epoch 4/5\n",
            "478/478 [==============================] - 0s 83us/sample - loss: 2.2437 - acc: 0.6904 - val_loss: 2.1055 - val_acc: 0.5917\n",
            "Epoch 5/5\n",
            "478/478 [==============================] - 0s 81us/sample - loss: 1.6730 - acc: 0.6360 - val_loss: 2.4212 - val_acc: 0.6667\n"
          ]
        },
        {
          "output_type": "stream",
          "name": "stderr",
          "text": [
            "/usr/local/lib/python3.8/dist-packages/keras/engine/training_v1.py:2357: UserWarning: `Model.state_updates` will be removed in a future version. This property should not be used in TensorFlow 2.0, as `updates` are applied automatically.\n",
            "  updates=self.state_updates,\n"
          ]
        },
        {
          "output_type": "display_data",
          "data": {
            "text/plain": [
              "<Figure size 432x288 with 1 Axes>"
            ],
            "image/png": "[encoded data removed]"
          },
          "metadata": {
            "needs_background": "light"
          }
        }
      ],
      "source": [
        "model = Sequential([\n",
        "        # Input layer: ReLU (decide input size according to dimension)\n",
        "        Dense(512, activation='LeakyReLU', input_shape=(train_x.shape[-1],)),    \n",
        "        # BatchNormalization(), \n",
        "        Dropout(0.3), \n",
        "\n",
        "        # Output layer: softmax \n",
        "        Dense(3, activation='softmax')  \n",
        "\n",
        "        ])\n",
        "\n",
        "model.compile(optimizer = optimizers.Adam(1e-3),  # default learning rate=1e-3 \n",
        "              loss='sparse_categorical_crossentropy',  # tow or more label classes (`Y_Class`: 0,1,2)\n",
        "              metrics=['accuracy'])\n",
        "\n",
        "history = model.fit(train_x, train_y, epochs=5,\n",
        "                    batch_size=80,  # batch size: 2^x && half of data size(598/2) \n",
        "                    validation_split=0.2,\n",
        "                    )   \n",
        "preds = model.predict(test_x)\n",
        "a=[]\n",
        "for i in preds: \n",
        "    i = list(i)\n",
        "    a.append(i.index(max(i)))\n",
        "sns.countplot(x=a);    "
      ],
      "id": "FLHA36Z1iEhW"
    },
    {
      "cell_type": "code",
      "source": [],
      "metadata": {
        "id": "H267CwCj_NvI"
      },
      "id": "H267CwCj_NvI",
      "execution_count": null,
      "outputs": []
    },
    {
      "cell_type": "code",
      "execution_count": null,
      "metadata": {
        "id": "b687c6a1"
      },
      "outputs": [],
      "source": [
        "submit = pd.read_csv('/content/drive/MyDrive/sample_submission.csv')\n",
        "submit['Y_Class'] = a\n",
        "\n",
        "submit.to_csv('LReluDO3b80ep5LR1e3-ANN-smartFactorySubmission.csv', index=False)"
      ],
      "id": "b687c6a1"
    },
    {
      "cell_type": "code",
      "execution_count": null,
      "metadata": {
        "colab": {
          "base_uri": "https://localhost:8080/",
          "height": 295
        },
        "id": "f5a8c473",
        "outputId": "fcd7e3ac-a62a-4577-db75-1845d8d40c27"
      },
      "outputs": [
        {
          "output_type": "display_data",
          "data": {
            "text/plain": [
              "<Figure size 1008x288 with 2 Axes>"
            ],
            "image/png": "[encoded data removed]"
          },
          "metadata": {
            "needs_background": "light"
          }
        }
      ],
      "source": [
        "epochs = range(1, len(history.history[\"loss\"]) + 1)\n",
        "\n",
        "fig, axes = plt.subplots(1,2,figsize=(14,4))\n",
        "ax= axes.flatten()\n",
        "a, b = ax[0], ax[1]\n",
        "\n",
        "a.plot(epochs, history.history[\"loss\"], \"bo\", label=\"Training loss\")\n",
        "a.plot(epochs, history.history[\"val_loss\"], \"b\", label=\"Validation loss\")\n",
        "a.set_title(\"Training and validation loss\")\n",
        "a.set_xlabel(\"Epochs\")\n",
        "a.set_ylabel(\"Loss\")\n",
        "a.legend()   \n",
        "\n",
        "b.plot(epochs, history.history[\"accuracy\"], \"bo\", label=\"Training accuracy\")\n",
        "b.plot(epochs, history.history[\"val_accuracy\"], \"b\", label=\"Validation accuracy\")\n",
        "b.set_title(\"Training and validation accuracy\")\n",
        "b.set_xlabel(\"Epochs\")\n",
        "b.set_ylabel(\"Accuracy\")\n",
        "b.legend();"
      ],
      "id": "f5a8c473"
    },
    {
      "cell_type": "markdown",
      "source": [
        "# 1.1 Optuna "
      ],
      "metadata": {
        "id": "kAEU7M1e81PY"
      },
      "id": "kAEU7M1e81PY"
    },
    {
      "cell_type": "code",
      "source": [
        "import torch\n",
        "\n",
        "class Dataset(torch.utils.data.Dataset):\n",
        "\n",
        "    def __init__(self, df):\n",
        "        self.labels = [0 if label == 0 else 1 for label in df['HeartDisease']]\n",
        "        self.features = df.drop(columns=['HeartDisease'], axis=1).values.tolist()\n",
        "\n",
        "    def classes(self):\n",
        "        return self.labels\n",
        "\n",
        "    def __len__(self):\n",
        "        return len(self.labels)\n",
        "\n",
        "    def get_batch_labels(self, idx):\n",
        "        return np.array(self.labels[idx])\n",
        "\n",
        "    def get_batch_features(self, idx):\n",
        "        return np.array(self.features[idx])\n",
        "\n",
        "    def __getitem__(self, idx):\n",
        "        batch_features = self.get_batch_features(idx)\n",
        "        batch_y = self.get_batch_labels(idx)\n",
        "\n",
        "        return batch_features, batch_y"
      ],
      "metadata": {
        "id": "pHd-qrBQ3REB"
      },
      "id": "pHd-qrBQ3REB",
      "execution_count": null,
      "outputs": []
    },
    {
      "cell_type": "code",
      "source": [
        "def objective(trial):\n",
        "\n",
        "    params = {\n",
        "              'learning_rate': trial.suggest_loguniform('learning_rate', 1e-5, 1e-1),\n",
        "              'optimizer': trial.suggest_categorical(\"optimizer\", [\"Adam\", \"RMSprop\", \"SGD\"]),\n",
        "              'n_unit': trial.suggest_int(\"n_unit\", 4, 18)\n",
        "              }\n",
        "    \n",
        "    model = build_model(params)\n",
        "    \n",
        "    accuracy = train_and_evaluate(params, model)\n",
        "\n",
        "    return accuracy"
      ],
      "metadata": {
        "id": "ieivpz673RO-"
      },
      "id": "ieivpz673RO-",
      "execution_count": null,
      "outputs": []
    },
    {
      "cell_type": "code",
      "source": [
        "study = optuna.create_study(direction=\"maximize\", sampler=optuna.samplers.TPESampler())\n",
        "study.optimize(objective, n_trials=30)"
      ],
      "metadata": {
        "colab": {
          "base_uri": "https://localhost:8080/"
        },
        "id": "tsZzHRcx3RKB",
        "outputId": "9f54ed97-4193-4613-dde0-69cb8826b981"
      },
      "id": "tsZzHRcx3RKB",
      "execution_count": null,
      "outputs": [
        {
          "output_type": "stream",
          "name": "stderr",
          "text": [
            "\u001b[32m[I 2023-02-26 13:16:04,739]\u001b[0m A new study created in memory with name: no-name-18123d27-0eb4-4209-9d15-b9575511aa52\u001b[0m\n"
          ]
        }
      ]
    },
    {
      "cell_type": "code",
      "source": [
        "def build_model(params):\n",
        "    \n",
        "    in_features = train_x.shape[-1]\n",
        "    \n",
        "    return nn.Sequential(\n",
        "    \n",
        "        nn.Linear(in_features, params['n_unit']),\n",
        "        nn.LeakyReLU(),\n",
        "\n",
        "        nn.Linear(params['n_unit'], 2),\n",
        "        nn.LeakyReLU()\n",
        "        \n",
        "    )\n",
        " "
      ],
      "metadata": {
        "id": "ybk-xTzF3nT_"
      },
      "id": "ybk-xTzF3nT_",
      "execution_count": null,
      "outputs": []
    },
    {
      "cell_type": "code",
      "source": [
        "\n",
        "# Train and evaluate the accuarcy of neural network model\n",
        "def train_and_evaluate(param, model):\n",
        "    \n",
        "    df = pd.read_csv('heart.csv')\n",
        "    df = pd.get_dummies(df)\n",
        "    \n",
        "    train_data, val_data = train_test_split(df, test_size = 0.2, random_state = 42)\n",
        "    train, val = Dataset(train_data), Dataset(val_data)\n",
        "\n",
        "    train_dataloader = torch.utils.data.DataLoader(train, batch_size=2, shuffle=True)\n",
        "    val_dataloader = torch.utils.data.DataLoader(val, batch_size=2)\n",
        "\n",
        "    use_cuda = torch.cuda.is_available()\n",
        "    device = torch.device(\"cuda\" if use_cuda else \"cpu\")\n",
        "\n",
        "    criterion = nn.CrossEntropyLoss()\n",
        "    optimizer = getattr(optim, param['optimizer'])(model.parameters(), lr= param['learning_rate'])\n",
        "\n",
        "    if use_cuda:\n",
        "\n",
        "            model = model.cuda()\n",
        "            criterion = criterion.cuda()\n",
        "\n",
        "    for epoch_num in range(EPOCHS):\n",
        "\n",
        "            total_acc_train = 0\n",
        "            total_loss_train = 0\n",
        "\n",
        "            for train_input, train_label in train_dataloader:\n",
        "\n",
        "                train_label = train_label.to(device)\n",
        "                train_input = train_input.to(device)\n",
        "\n",
        "                output = model(train_input.float())\n",
        "                \n",
        "                batch_loss = criterion(output, train_label.long())\n",
        "                total_loss_train += batch_loss.item()\n",
        "                \n",
        "                acc = (output.argmax(dim=1) == train_label).sum().item()\n",
        "                total_acc_train += acc\n",
        "\n",
        "                model.zero_grad()\n",
        "                batch_loss.backward()\n",
        "                optimizer.step()\n",
        "            \n",
        "            total_acc_val = 0\n",
        "            total_loss_val = 0\n",
        "\n",
        "            with torch.no_grad():\n",
        "\n",
        "                for val_input, val_label in val_dataloader:\n",
        "\n",
        "                    val_label = val_label.to(device)\n",
        "                    val_input = val_input.to(device)\n",
        "\n",
        "                    output = model(val_input.float())\n",
        "\n",
        "                    batch_loss = criterion(output, val_label.long())\n",
        "                    total_loss_val += batch_loss.item()\n",
        "                    \n",
        "                    acc = (output.argmax(dim=1) == val_label).sum().item()\n",
        "                    total_acc_val += acc\n",
        "            \n",
        "            accuracy = total_acc_val/len(val_data)\n",
        "\n",
        "    return accuracy\n",
        "  \n",
        " # Define a set of hyperparameter values, build the model, train the model, and evaluate the accuracy \n",
        "def objective(trial):\n",
        "\n",
        "     params = {\n",
        "              'learning_rate': trial.suggest_loguniform('learning_rate', 1e-5, 1e-1),\n",
        "              'optimizer': trial.suggest_categorical(\"optimizer\", [\"Adam\", \"RMSprop\", \"SGD\"]),\n",
        "              'n_unit': trial.suggest_int(\"n_unit\", 4, 18)\n",
        "              }\n",
        "    \n",
        "     model = build_model(params)\n",
        "    \n",
        "     accuracy = train_and_evaluate(params, model)\n",
        "\n",
        "     return accuracy"
      ],
      "metadata": {
        "id": "ITsy_mGB3RUf"
      },
      "id": "ITsy_mGB3RUf",
      "execution_count": null,
      "outputs": []
    },
    {
      "cell_type": "code",
      "source": [],
      "metadata": {
        "id": "X8QlvuV53RaF"
      },
      "id": "X8QlvuV53RaF",
      "execution_count": null,
      "outputs": []
    },
    {
      "cell_type": "code",
      "source": [],
      "metadata": {
        "id": "3X1uXccE3Rma"
      },
      "id": "3X1uXccE3Rma",
      "execution_count": null,
      "outputs": []
    },
    {
      "cell_type": "code",
      "source": [],
      "metadata": {
        "id": "7B1vi0qy3Rr8"
      },
      "id": "7B1vi0qy3Rr8",
      "execution_count": null,
      "outputs": []
    },
    {
      "cell_type": "code",
      "source": [],
      "metadata": {
        "id": "mIfHrlI-3Rw4"
      },
      "id": "mIfHrlI-3Rw4",
      "execution_count": null,
      "outputs": []
    },
    {
      "cell_type": "markdown",
      "source": [
        "# THE END"
      ],
      "metadata": {
        "id": "369e67a9"
      },
      "id": "369e67a9"
    },
    {
      "cell_type": "code",
      "source": [],
      "metadata": {
        "id": "PUjYxKhWMHhY"
      },
      "id": "PUjYxKhWMHhY",
      "execution_count": null,
      "outputs": []
    }
  ],
  "metadata": {
    "accelerator": "GPU",
    "colab": {
      "provenance": [],
      "machine_shape": "hm"
    },
    "gpuClass": "premium",
    "kernelspec": {
      "display_name": "Python 3 (ipykernel)",
      "language": "python",
      "name": "python3"
    },
    "language_info": {
      "codemirror_mode": {
        "name": "ipython",
        "version": 3
      },
      "file_extension": ".py",
      "mimetype": "text/x-python",
      "name": "python",
      "nbconvert_exporter": "python",
      "pygments_lexer": "ipython3",
      "version": "3.9.7"
    }
  },
  "nbformat": 4,
  "nbformat_minor": 5
}