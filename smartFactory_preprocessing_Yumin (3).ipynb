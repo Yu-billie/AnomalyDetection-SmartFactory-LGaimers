{
  "nbformat": 4,
  "nbformat_minor": 0,
  "metadata": {
    "colab": {
      "provenance": [],
      "toc_visible": true,
      "collapsed_sections": [
        "iw0f-7TDF9wW",
        "qfIq2KqeFZdt",
        "AQf-saI4BQyu",
        "Vl05J9tpExbR",
        "ex7768-Ktt2u"
      ]
    },
    "kernelspec": {
      "name": "python3",
      "display_name": "Python 3"
    },
    "language_info": {
      "name": "python"
    },
    "accelerator": "GPU",
    "gpuClass": "standard"
  },
  "cells": [
    {
      "cell_type": "markdown",
      "source": [
        "# Data Description\n",
        "\n",
        "**1. train.csv [파일]**\n",
        "- PRODUCT_ID : 제품의 고유 ID\n",
        "- Y_Class : 제품 품질 상태(Target) \n",
        "    - 0 : 적정 기준 미달 (부적합)\n",
        "    - 1 : 적합\n",
        "    - 2 : 적정 기준 초과 (부적합)\n",
        "- Y_Quality : 제품 품질 관련 정량적 수치\n",
        "- TIMESTAMP : 제품이 공정에 들어간 시각\n",
        "- LINE : 제품이 들어간 공정 LINE 종류 ('T050304', 'T050307', 'T100304', 'T100306', 'T010306', 'T010305' 존재)\n",
        "- PRODUCT_CODE : 제품의 CODE 번호 ('A_31', 'T_31', 'O_31' 존재)\n",
        "- X_1 ~ X_2875 : 공정 과정에서 추출되어 비식별화된 변수\n",
        "- 06.13.2022~09.08.2022 DATA\n",
        "\n",
        "\n",
        "\n",
        "**2. test.csv [파일]**\n",
        "- PRODUCT_ID : 제품의 고유 ID\n",
        "- TIMESTAMP : 제품이 공정에 들어간 시각\n",
        "- LINE : 제품이 들어간 공정 LINE 종류 ('T050304', 'T050307', 'T100304', 'T100306', 'T010306', 'T010305' 존재)\n",
        "- PRODUCT_CODE : 제품의 CODE 번호 ('A_31', 'T_31', 'O_31' 존재)\n",
        "- X_1 ~ X_2875 : 공정 과정에서 추출되어 비식별화된 변수\n",
        "- 09.09.2022~11.05.2022 DATA \n",
        "\n",
        "**3. sample_submission.csv [파일] - 제출 양식**\n",
        "- PRODUCT_ID : 제품의 고유 ID\n",
        "- Y_Class : 예측한 제품 품질 상태\n",
        "    - 0 : 적정 기준 미달 (부적합)\n",
        "    - 1 : 적합\n",
        "    - 2 : 적정 기준 초과 (부적합)\n",
        "\n",
        "- 실제 공정 과정에서의 데이터로, 보안상의 이유로 일부 변수가 비식별화 처리 되었습니다. (X변수)\n",
        "- 'LINE', 'PRODUCT_CODE'는 Train / Test 모두 동일한 종류가 존재합니다."
      ],
      "metadata": {
        "id": "AQlbReiWmbvJ"
      }
    },
    {
      "cell_type": "markdown",
      "source": [
        "## DATA LEAKAGE - RULE \n",
        "1. 대표적인 Data Leakage에 해당하는 사례\n",
        "    - Label Encoding 시 Test 데이터로부터 Encoder를 fit 시키는 경우\n",
        "    - Scaler 사용 시 Test 데이터로부터 Scaler를 fit 시키는 경우\n",
        "    Test 데이터에 대한 결측치 보간 시 Test 데이터의 통계 정보(평균, 최빈값 등)를 사용하는 경우\n",
        "    - 파생변수를 생성할 시 2개 이상의 Test 데이터들의 정보를 활용할 경우\n",
        "    - Test 데이터들의 이동 평균을 활용하는 경우\n",
        "    - Test 데이터들을 모델 학습에 활용하는 경우 (이번 해커톤에서는 Pseudo-Labeling도 허용하지 않습니다)\n",
        "    - Test 데이터에 pandas의 get_dummies() 함수를 적용하는 경우\n",
        "        - (=) Test DATA로 Encoder를 fitting 한 것과 같으므로\n",
        "        - ==> Encoder를 Train data로 fitting 한 후, Test data에 Transform (GOOD)  \n",
        "    - Test 데이터의 index 정보 혹은 row 개수 정보를 활용하는 경우\n",
        "    - Test 데이터로부터 EDA를 진행한 결과(인사이트)를 전처리, 모델 학습에 적용하는 경우\n",
        "    - 이 밖의 Test 데이터들의 정보를 모델 학습에 활용하는 모든 경우\n",
        "\n",
        "\n",
        "2. 대표적인 Data Leakage에 해당하지 않는 사례\n",
        "    - 독립적인 샘플(행(row)) 내에서의 모든 연산 혹은 파생 변수 생성\n",
        "        - 예를 들어, Test['C'] = Test['A'] + Test['B']와 같이 독립적인 샘플 내에서 A Column과 B Column을 더한 새로운 파생 변수 C Column을 생성하는 경우\n",
        "    - Train 데이터의 통계 정보를 Test 데이터에 적용하여 전처리하는 경우 혹은 파생 변수를 생성하는 경우\n",
        "    - Test 데이터의 결측치를 Train 데이터의 통계 정보를 바탕으로 보간하는 경우 \n"
      ],
      "metadata": {
        "id": "WcRYcvVrk-xf"
      }
    },
    {
      "cell_type": "markdown",
      "source": [
        "# MODULE IMPORT"
      ],
      "metadata": {
        "id": "7c9x-uVynqst"
      }
    },
    {
      "cell_type": "code",
      "source": [
        "import pandas as pd\n",
        "import random\n",
        "import os\n",
        "import numpy as np\n",
        "import matplotlib.pyplot as plt \n",
        "import seaborn as sns\n",
        "import tensorflow as tf\n",
        "\n",
        "from sklearn.preprocessing import LabelEncoder\n",
        "from sklearn.ensemble import RandomForestClassifier\n",
        "\n",
        "from sklearn.model_selection import train_test_split \n",
        "from sklearn.metrics import accuracy_score, classification_report, f1_score\n",
        "\n",
        "# warning message delete \n",
        "import warnings\n",
        "warnings.simplefilter(action=\"ignore\", category=FutureWarning)\n",
        "\n",
        "# google drive mount\n",
        "from google.colab import drive\n",
        "drive.mount('/content/drive')\n",
        "\n",
        "def seed_everything(seed):\n",
        "    random.seed(seed)\n",
        "    os.environ['PYTHONHASHSEED'] = str(seed)\n",
        "    np.random.seed(seed)\n",
        "\n",
        "seed_everything(37)"
      ],
      "metadata": {
        "id": "N524BAv7ohSr",
        "colab": {
          "base_uri": "https://localhost:8080/"
        },
        "outputId": "89dd6468-27c2-4d01-a15b-de3f836e73b3"
      },
      "execution_count": 425,
      "outputs": [
        {
          "output_type": "stream",
          "name": "stdout",
          "text": [
            "Drive already mounted at /content/drive; to attempt to forcibly remount, call drive.mount(\"/content/drive\", force_remount=True).\n"
          ]
        }
      ]
    },
    {
      "cell_type": "markdown",
      "source": [
        "# 0.Data Load"
      ],
      "metadata": {
        "id": "RYf_ZaTJ9vgg"
      }
    },
    {
      "cell_type": "code",
      "source": [
        "train_df = pd.read_csv('/content/drive/MyDrive/train.csv')\n",
        "train_df = train_df.drop(columns=['PRODUCT_ID', 'TIMESTAMP'])"
      ],
      "metadata": {
        "id": "kLBoulM6u2Fb"
      },
      "execution_count": 522,
      "outputs": []
    },
    {
      "cell_type": "code",
      "source": [
        "test_df = pd.read_csv('/content/drive/MyDrive/test.csv')\n",
        "test_df = test_df.drop(columns=['PRODUCT_ID','TIMESTAMP'])"
      ],
      "metadata": {
        "id": "vOExaTnZCvnk"
      },
      "execution_count": 523,
      "outputs": []
    },
    {
      "cell_type": "markdown",
      "source": [
        "# 1.Pre-processing\n",
        "1. Missing Values:\n",
        "    - All NaN column: `fillna(0)`\n",
        "    - fill grouped mean \n",
        "    - fill feature(column)'s mean "
      ],
      "metadata": {
        "id": "f5Kb__mmD7CN"
      }
    },
    {
      "cell_type": "markdown",
      "source": [
        "## 1.1 EDA\n",
        "1. `Y_Quality` and `X features`: \n",
        "    - NOT high correlation, yet  "
      ],
      "metadata": {
        "id": "iw0f-7TDF9wW"
      }
    },
    {
      "cell_type": "code",
      "source": [
        "# random 20 features list \n",
        "Xs = train_df.iloc[:,4:].columns\n",
        "null_count = train_df.isnull().sum().to_dict()\n",
        "cols = pd.DataFrame({i for i in null_count if null_count[i]<250 and i in Xs})\n",
        "cols_name = list(cols[0])  # not_all_NAN features name in list \n",
        "\n",
        "import random\n",
        "a = ['Y_Quality']\n",
        "for i in range(20):\n",
        "    num = random.randint(1,2875)\n",
        "    a.append(cols_name[i])\n",
        "\n",
        "# heatmap: `random X features` and `Y_Quality` correlation \n",
        "# corr = train_df[a].corr()  # correlation matrix\n",
        "# fig, ax = plt.subplots(figsize=(15,10))\n",
        "# sns.heatmap(corr, annot=True, fmt='.2f', cmap='Blues', linewidths=2);"
      ],
      "metadata": {
        "id": "E1vfXTKcK9Dt"
      },
      "execution_count": 524,
      "outputs": []
    },
    {
      "cell_type": "markdown",
      "source": [
        "## 1.2 Merge & Encoding\n",
        "1. Merge `LINE` & `PRODUCT_CODE` & `Y_Class`columns by JOIN function\n",
        "    - set the joined column name as `line_pcode_class`\n",
        "2. Label encoding \n",
        "    - encode qualitative into quantitative"
      ],
      "metadata": {
        "id": "E9UrfEIwMJ7z"
      }
    },
    {
      "cell_type": "code",
      "source": [
        "# train_df['Y_Class'] = train_df['Y_Class'].astype(str)\n",
        "\n",
        "col = ['LINE', 'PRODUCT_CODE']\n",
        "train_df['line_pcode'] = train_df[col].apply(lambda row: ':'.join(row.values), axis=1)\n",
        "train_df = train_df.drop(columns=['LINE', 'PRODUCT_CODE'])  \n",
        "\n",
        "print(train_df['line_pcode'].value_counts())  "
      ],
      "metadata": {
        "colab": {
          "base_uri": "https://localhost:8080/"
        },
        "id": "GqgXqn8c12dV",
        "outputId": "b929d7c2-a2fa-459d-dd49-79495ad7e05a"
      },
      "execution_count": 525,
      "outputs": [
        {
          "output_type": "stream",
          "name": "stdout",
          "text": [
            "T100304:T_31    172\n",
            "T100306:T_31    171\n",
            "T050304:A_31     78\n",
            "T010306:A_31     70\n",
            "T010305:A_31     59\n",
            "T050307:A_31     42\n",
            "T100304:O_31      3\n",
            "T100306:O_31      3\n",
            "Name: line_pcode, dtype: int64\n"
          ]
        }
      ]
    },
    {
      "cell_type": "code",
      "source": [
        "# Label Encoding \n",
        "from sklearn.preprocessing import LabelEncoder\n",
        "qual_col = ['line_pcode']\n",
        "\n",
        "for i in qual_col:\n",
        "    le = LabelEncoder()\n",
        "    le = le.fit(train_df[i])\n",
        "    train_df[i] = le.transform(train_df[i])\n",
        "    \n",
        "print('Done.')\n"
      ],
      "metadata": {
        "id": "wWsCTcAI7gsq",
        "colab": {
          "base_uri": "https://localhost:8080/"
        },
        "outputId": "fc18edb9-aeef-408f-e226-67723c3a2fe6"
      },
      "execution_count": 526,
      "outputs": [
        {
          "output_type": "stream",
          "name": "stdout",
          "text": [
            "Done.\n"
          ]
        }
      ]
    },
    {
      "cell_type": "code",
      "source": [
        "train_df.line_pcode.unique()"
      ],
      "metadata": {
        "colab": {
          "base_uri": "https://localhost:8080/"
        },
        "id": "Z7Mcr_nz3NPa",
        "outputId": "49dda129-4975-47d0-efaa-68e58bdb2a25"
      },
      "execution_count": 527,
      "outputs": [
        {
          "output_type": "execute_result",
          "data": {
            "text/plain": [
              "array([2, 3, 5, 7, 1, 0, 4, 6])"
            ]
          },
          "metadata": {},
          "execution_count": 527
        }
      ]
    },
    {
      "cell_type": "code",
      "source": [
        "# line_pcode & Y_Class  \n",
        "# sns.countplot(train_df, col='Y_Class', hue='line_pcode');\n",
        "\n",
        "# f = sns.FacetGrid(train_x, col=\"Y_Class\")  \n",
        "# f.map_dataframe(sns.histplot, x=\"line_pcode\", binwidth=0.9);    "
      ],
      "metadata": {
        "id": "BpxzjBdCvxdd"
      },
      "execution_count": 528,
      "outputs": []
    },
    {
      "cell_type": "markdown",
      "source": [
        "## 1.3 Missing Values\n",
        "- [fill out NaN with Column's && Group's mean](https://rfriend.tistory.com/402) "
      ],
      "metadata": {
        "id": "qfIq2KqeFZdt"
      }
    },
    {
      "cell_type": "code",
      "source": [
        "# ONLY 0 \n",
        "\n",
        "# train_df.fillna(0, inplace=True)\n",
        "# test_df.fillna(0, inplace=True)"
      ],
      "metadata": {
        "id": "DfBC_b8LE1wD"
      },
      "execution_count": 529,
      "outputs": []
    },
    {
      "cell_type": "code",
      "source": [
        "# 1) features that have only 'NaN' \n",
        "## Total 81 features only have 'NaN' \n",
        "miss_dic = train_df.isnull().sum().to_dict()\n",
        "all_NaN = pd.DataFrame({i for i in miss_dic if miss_dic[i]==598})\n",
        "all_NaN_name = list(all_NaN[0])  # all_NaN features name in list \n",
        "print(len(all_NaN_name))  "
      ],
      "metadata": {
        "colab": {
          "base_uri": "https://localhost:8080/"
        },
        "outputId": "8e62abc2-3b05-45e7-8a25-4d09ee0ad82a",
        "id": "tmQ4DYKrFZdu"
      },
      "execution_count": 530,
      "outputs": [
        {
          "output_type": "stream",
          "name": "stdout",
          "text": [
            "82\n"
          ]
        }
      ]
    },
    {
      "cell_type": "code",
      "source": [
        "all_NaN2 = pd.DataFrame(np.zeros((82,82)), columns=list(all_NaN[0]))\n",
        "\n",
        "for i in all_NaN_name: \n",
        "    train_df[i] = train_df[i].apply(lambda x: 0)\n",
        "train_df.X_2686.isnull().sum()  # e.g. check whether or not it's perfectly fill with ZERO "
      ],
      "metadata": {
        "colab": {
          "base_uri": "https://localhost:8080/"
        },
        "outputId": "a84d0d09-d8ba-4a48-b63b-072cd49b2687",
        "id": "aE5B1BfPFZdu"
      },
      "execution_count": 531,
      "outputs": [
        {
          "output_type": "execute_result",
          "data": {
            "text/plain": [
              "0"
            ]
          },
          "metadata": {},
          "execution_count": 531
        }
      ]
    },
    {
      "cell_type": "code",
      "source": [
        "train_df.isnull().sum().sum()"
      ],
      "metadata": {
        "colab": {
          "base_uri": "https://localhost:8080/"
        },
        "id": "Seh70wI5oyz3",
        "outputId": "f095be86-fe07-450f-8bcb-64d2ff049b28"
      },
      "execution_count": 532,
      "outputs": [
        {
          "output_type": "execute_result",
          "data": {
            "text/plain": [
              "1123798"
            ]
          },
          "metadata": {},
          "execution_count": 532
        }
      ]
    },
    {
      "cell_type": "code",
      "source": [
        "# 2) fill NaN with the feature's `line_pcde` grouped mean \n",
        "fill_group_mean = lambda g: g.fillna(g.mean())\n",
        "train_df.groupby('line_pcode').apply(fill_group_mean)\n",
        "train_df.isnull().sum().sum()"
      ],
      "metadata": {
        "colab": {
          "base_uri": "https://localhost:8080/"
        },
        "id": "5C_CETzulQ2E",
        "outputId": "9fece46a-6184-47e9-e4d9-7dc69c9800d1"
      },
      "execution_count": 533,
      "outputs": [
        {
          "output_type": "execute_result",
          "data": {
            "text/plain": [
              "1123798"
            ]
          },
          "metadata": {},
          "execution_count": 533
        }
      ]
    },
    {
      "cell_type": "code",
      "source": [
        "# 3) fillout remaining NaN with the feature's MEAN \n",
        "cols = train_df.iloc[:,2:].columns\n",
        "for i in cols: \n",
        "    train_df[i].fillna(train_df[i].mean(), inplace=True)\n",
        "train_df.describe()"
      ],
      "metadata": {
        "colab": {
          "base_uri": "https://localhost:8080/",
          "height": 0
        },
        "id": "HzrSWDpYFzU8",
        "outputId": "ef7aa98f-30ed-4276-f7fb-d6228091ba9e"
      },
      "execution_count": 534,
      "outputs": [
        {
          "output_type": "execute_result",
          "data": {
            "text/plain": [
              "          Y_Class   Y_Quality         X_1         X_2    X_3    X_4  \\\n",
              "count  598.000000  598.000000  598.000000  598.000000  598.0  598.0   \n",
              "mean     1.025084    0.530896    2.409742   95.123209    0.0   45.0   \n",
              "std      0.565069    0.007401    4.500960    3.136136    0.0    0.0   \n",
              "min      0.000000    0.500856    1.000000   87.000000    0.0   45.0   \n",
              "25%      1.000000    0.527535    2.000000   94.000000    0.0   45.0   \n",
              "50%      1.000000    0.530436    2.000000   95.123209    0.0   45.0   \n",
              "75%      1.000000    0.533433    2.409742   95.123209    0.0   45.0   \n",
              "max      2.000000    0.578841  103.000000  102.000000    0.0   45.0   \n",
              "\n",
              "             X_5    X_6         X_7         X_8  ...     X_2867      X_2868  \\\n",
              "count  598.00000  598.0  598.000000  598.000000  ...  598.00000  598.000000   \n",
              "mean    10.39255    0.0   48.802292   10.048711  ...   53.60770   49.606200   \n",
              "std      0.37336    0.0    3.339364    0.164586  ...    3.31437    2.915263   \n",
              "min     10.00000    0.0   45.000000   10.000000  ...   31.70000   32.560000   \n",
              "25%     10.00000    0.0   45.000000   10.000000  ...   53.60770   49.606200   \n",
              "50%     10.39255    0.0   48.802292   10.000000  ...   53.60770   49.606200   \n",
              "75%     10.39255    0.0   50.000000   10.048711  ...   53.60770   49.606200   \n",
              "max     11.00000    0.0   62.000000   11.000000  ...   68.66000   60.410000   \n",
              "\n",
              "          X_2869     X_2870  X_2871  X_2872  X_2873  X_2874  X_2875  \\\n",
              "count  598.00000  598.00000   598.0   598.0   598.0   598.0   598.0   \n",
              "mean    51.65980   66.64970     1.0     0.0     0.0     0.0     0.0   \n",
              "std      3.62959    1.84382     0.0     0.0     0.0     0.0     0.0   \n",
              "min     30.49000   61.67000     1.0     0.0     0.0     0.0     0.0   \n",
              "25%     51.65980   66.64970     1.0     0.0     0.0     0.0     0.0   \n",
              "50%     51.65980   66.64970     1.0     0.0     0.0     0.0     0.0   \n",
              "75%     51.65980   66.64970     1.0     0.0     0.0     0.0     0.0   \n",
              "max     59.93000   79.75000     1.0     0.0     0.0     0.0     0.0   \n",
              "\n",
              "       line_pcode  \n",
              "count  598.000000  \n",
              "mean     4.078595  \n",
              "std      2.471718  \n",
              "min      0.000000  \n",
              "25%      2.000000  \n",
              "50%      5.000000  \n",
              "75%      7.000000  \n",
              "max      7.000000  \n",
              "\n",
              "[8 rows x 2878 columns]"
            ],
            "text/html": [
              "\n",
              "  <div id=\"df-e49d3c0c-9b85-4cf7-b7a2-d772855b843f\">\n",
              "    <div class=\"colab-df-container\">\n",
              "      <div>\n",
              "<style scoped>\n",
              "    .dataframe tbody tr th:only-of-type {\n",
              "        vertical-align: middle;\n",
              "    }\n",
              "\n",
              "    .dataframe tbody tr th {\n",
              "        vertical-align: top;\n",
              "    }\n",
              "\n",
              "    .dataframe thead th {\n",
              "        text-align: right;\n",
              "    }\n",
              "</style>\n",
              "<table border=\"1\" class=\"dataframe\">\n",
              "  <thead>\n",
              "    <tr style=\"text-align: right;\">\n",
              "      <th></th>\n",
              "      <th>Y_Class</th>\n",
              "      <th>Y_Quality</th>\n",
              "      <th>X_1</th>\n",
              "      <th>X_2</th>\n",
              "      <th>X_3</th>\n",
              "      <th>X_4</th>\n",
              "      <th>X_5</th>\n",
              "      <th>X_6</th>\n",
              "      <th>X_7</th>\n",
              "      <th>X_8</th>\n",
              "      <th>...</th>\n",
              "      <th>X_2867</th>\n",
              "      <th>X_2868</th>\n",
              "      <th>X_2869</th>\n",
              "      <th>X_2870</th>\n",
              "      <th>X_2871</th>\n",
              "      <th>X_2872</th>\n",
              "      <th>X_2873</th>\n",
              "      <th>X_2874</th>\n",
              "      <th>X_2875</th>\n",
              "      <th>line_pcode</th>\n",
              "    </tr>\n",
              "  </thead>\n",
              "  <tbody>\n",
              "    <tr>\n",
              "      <th>count</th>\n",
              "      <td>598.000000</td>\n",
              "      <td>598.000000</td>\n",
              "      <td>598.000000</td>\n",
              "      <td>598.000000</td>\n",
              "      <td>598.0</td>\n",
              "      <td>598.0</td>\n",
              "      <td>598.00000</td>\n",
              "      <td>598.0</td>\n",
              "      <td>598.000000</td>\n",
              "      <td>598.000000</td>\n",
              "      <td>...</td>\n",
              "      <td>598.00000</td>\n",
              "      <td>598.000000</td>\n",
              "      <td>598.00000</td>\n",
              "      <td>598.00000</td>\n",
              "      <td>598.0</td>\n",
              "      <td>598.0</td>\n",
              "      <td>598.0</td>\n",
              "      <td>598.0</td>\n",
              "      <td>598.0</td>\n",
              "      <td>598.000000</td>\n",
              "    </tr>\n",
              "    <tr>\n",
              "      <th>mean</th>\n",
              "      <td>1.025084</td>\n",
              "      <td>0.530896</td>\n",
              "      <td>2.409742</td>\n",
              "      <td>95.123209</td>\n",
              "      <td>0.0</td>\n",
              "      <td>45.0</td>\n",
              "      <td>10.39255</td>\n",
              "      <td>0.0</td>\n",
              "      <td>48.802292</td>\n",
              "      <td>10.048711</td>\n",
              "      <td>...</td>\n",
              "      <td>53.60770</td>\n",
              "      <td>49.606200</td>\n",
              "      <td>51.65980</td>\n",
              "      <td>66.64970</td>\n",
              "      <td>1.0</td>\n",
              "      <td>0.0</td>\n",
              "      <td>0.0</td>\n",
              "      <td>0.0</td>\n",
              "      <td>0.0</td>\n",
              "      <td>4.078595</td>\n",
              "    </tr>\n",
              "    <tr>\n",
              "      <th>std</th>\n",
              "      <td>0.565069</td>\n",
              "      <td>0.007401</td>\n",
              "      <td>4.500960</td>\n",
              "      <td>3.136136</td>\n",
              "      <td>0.0</td>\n",
              "      <td>0.0</td>\n",
              "      <td>0.37336</td>\n",
              "      <td>0.0</td>\n",
              "      <td>3.339364</td>\n",
              "      <td>0.164586</td>\n",
              "      <td>...</td>\n",
              "      <td>3.31437</td>\n",
              "      <td>2.915263</td>\n",
              "      <td>3.62959</td>\n",
              "      <td>1.84382</td>\n",
              "      <td>0.0</td>\n",
              "      <td>0.0</td>\n",
              "      <td>0.0</td>\n",
              "      <td>0.0</td>\n",
              "      <td>0.0</td>\n",
              "      <td>2.471718</td>\n",
              "    </tr>\n",
              "    <tr>\n",
              "      <th>min</th>\n",
              "      <td>0.000000</td>\n",
              "      <td>0.500856</td>\n",
              "      <td>1.000000</td>\n",
              "      <td>87.000000</td>\n",
              "      <td>0.0</td>\n",
              "      <td>45.0</td>\n",
              "      <td>10.00000</td>\n",
              "      <td>0.0</td>\n",
              "      <td>45.000000</td>\n",
              "      <td>10.000000</td>\n",
              "      <td>...</td>\n",
              "      <td>31.70000</td>\n",
              "      <td>32.560000</td>\n",
              "      <td>30.49000</td>\n",
              "      <td>61.67000</td>\n",
              "      <td>1.0</td>\n",
              "      <td>0.0</td>\n",
              "      <td>0.0</td>\n",
              "      <td>0.0</td>\n",
              "      <td>0.0</td>\n",
              "      <td>0.000000</td>\n",
              "    </tr>\n",
              "    <tr>\n",
              "      <th>25%</th>\n",
              "      <td>1.000000</td>\n",
              "      <td>0.527535</td>\n",
              "      <td>2.000000</td>\n",
              "      <td>94.000000</td>\n",
              "      <td>0.0</td>\n",
              "      <td>45.0</td>\n",
              "      <td>10.00000</td>\n",
              "      <td>0.0</td>\n",
              "      <td>45.000000</td>\n",
              "      <td>10.000000</td>\n",
              "      <td>...</td>\n",
              "      <td>53.60770</td>\n",
              "      <td>49.606200</td>\n",
              "      <td>51.65980</td>\n",
              "      <td>66.64970</td>\n",
              "      <td>1.0</td>\n",
              "      <td>0.0</td>\n",
              "      <td>0.0</td>\n",
              "      <td>0.0</td>\n",
              "      <td>0.0</td>\n",
              "      <td>2.000000</td>\n",
              "    </tr>\n",
              "    <tr>\n",
              "      <th>50%</th>\n",
              "      <td>1.000000</td>\n",
              "      <td>0.530436</td>\n",
              "      <td>2.000000</td>\n",
              "      <td>95.123209</td>\n",
              "      <td>0.0</td>\n",
              "      <td>45.0</td>\n",
              "      <td>10.39255</td>\n",
              "      <td>0.0</td>\n",
              "      <td>48.802292</td>\n",
              "      <td>10.000000</td>\n",
              "      <td>...</td>\n",
              "      <td>53.60770</td>\n",
              "      <td>49.606200</td>\n",
              "      <td>51.65980</td>\n",
              "      <td>66.64970</td>\n",
              "      <td>1.0</td>\n",
              "      <td>0.0</td>\n",
              "      <td>0.0</td>\n",
              "      <td>0.0</td>\n",
              "      <td>0.0</td>\n",
              "      <td>5.000000</td>\n",
              "    </tr>\n",
              "    <tr>\n",
              "      <th>75%</th>\n",
              "      <td>1.000000</td>\n",
              "      <td>0.533433</td>\n",
              "      <td>2.409742</td>\n",
              "      <td>95.123209</td>\n",
              "      <td>0.0</td>\n",
              "      <td>45.0</td>\n",
              "      <td>10.39255</td>\n",
              "      <td>0.0</td>\n",
              "      <td>50.000000</td>\n",
              "      <td>10.048711</td>\n",
              "      <td>...</td>\n",
              "      <td>53.60770</td>\n",
              "      <td>49.606200</td>\n",
              "      <td>51.65980</td>\n",
              "      <td>66.64970</td>\n",
              "      <td>1.0</td>\n",
              "      <td>0.0</td>\n",
              "      <td>0.0</td>\n",
              "      <td>0.0</td>\n",
              "      <td>0.0</td>\n",
              "      <td>7.000000</td>\n",
              "    </tr>\n",
              "    <tr>\n",
              "      <th>max</th>\n",
              "      <td>2.000000</td>\n",
              "      <td>0.578841</td>\n",
              "      <td>103.000000</td>\n",
              "      <td>102.000000</td>\n",
              "      <td>0.0</td>\n",
              "      <td>45.0</td>\n",
              "      <td>11.00000</td>\n",
              "      <td>0.0</td>\n",
              "      <td>62.000000</td>\n",
              "      <td>11.000000</td>\n",
              "      <td>...</td>\n",
              "      <td>68.66000</td>\n",
              "      <td>60.410000</td>\n",
              "      <td>59.93000</td>\n",
              "      <td>79.75000</td>\n",
              "      <td>1.0</td>\n",
              "      <td>0.0</td>\n",
              "      <td>0.0</td>\n",
              "      <td>0.0</td>\n",
              "      <td>0.0</td>\n",
              "      <td>7.000000</td>\n",
              "    </tr>\n",
              "  </tbody>\n",
              "</table>\n",
              "<p>8 rows × 2878 columns</p>\n",
              "</div>\n",
              "      <button class=\"colab-df-convert\" onclick=\"convertToInteractive('df-e49d3c0c-9b85-4cf7-b7a2-d772855b843f')\"\n",
              "              title=\"Convert this dataframe to an interactive table.\"\n",
              "              style=\"display:none;\">\n",
              "        \n",
              "  <svg xmlns=\"http://www.w3.org/2000/svg\" height=\"24px\"viewBox=\"0 0 24 24\"\n",
              "       width=\"24px\">\n",
              "    <path d=\"M0 0h24v24H0V0z\" fill=\"none\"/>\n",
              "    <path d=\"M18.56 5.44l.94 2.06.94-2.06 2.06-.94-2.06-.94-.94-2.06-.94 2.06-2.06.94zm-11 1L8.5 8.5l.94-2.06 2.06-.94-2.06-.94L8.5 2.5l-.94 2.06-2.06.94zm10 10l.94 2.06.94-2.06 2.06-.94-2.06-.94-.94-2.06-.94 2.06-2.06.94z\"/><path d=\"M17.41 7.96l-1.37-1.37c-.4-.4-.92-.59-1.43-.59-.52 0-1.04.2-1.43.59L10.3 9.45l-7.72 7.72c-.78.78-.78 2.05 0 2.83L4 21.41c.39.39.9.59 1.41.59.51 0 1.02-.2 1.41-.59l7.78-7.78 2.81-2.81c.8-.78.8-2.07 0-2.86zM5.41 20L4 18.59l7.72-7.72 1.47 1.35L5.41 20z\"/>\n",
              "  </svg>\n",
              "      </button>\n",
              "      \n",
              "  <style>\n",
              "    .colab-df-container {\n",
              "      display:flex;\n",
              "      flex-wrap:wrap;\n",
              "      gap: 12px;\n",
              "    }\n",
              "\n",
              "    .colab-df-convert {\n",
              "      background-color: #E8F0FE;\n",
              "      border: none;\n",
              "      border-radius: 50%;\n",
              "      cursor: pointer;\n",
              "      display: none;\n",
              "      fill: #1967D2;\n",
              "      height: 32px;\n",
              "      padding: 0 0 0 0;\n",
              "      width: 32px;\n",
              "    }\n",
              "\n",
              "    .colab-df-convert:hover {\n",
              "      background-color: #E2EBFA;\n",
              "      box-shadow: 0px 1px 2px rgba(60, 64, 67, 0.3), 0px 1px 3px 1px rgba(60, 64, 67, 0.15);\n",
              "      fill: #174EA6;\n",
              "    }\n",
              "\n",
              "    [theme=dark] .colab-df-convert {\n",
              "      background-color: #3B4455;\n",
              "      fill: #D2E3FC;\n",
              "    }\n",
              "\n",
              "    [theme=dark] .colab-df-convert:hover {\n",
              "      background-color: #434B5C;\n",
              "      box-shadow: 0px 1px 3px 1px rgba(0, 0, 0, 0.15);\n",
              "      filter: drop-shadow(0px 1px 2px rgba(0, 0, 0, 0.3));\n",
              "      fill: #FFFFFF;\n",
              "    }\n",
              "  </style>\n",
              "\n",
              "      <script>\n",
              "        const buttonEl =\n",
              "          document.querySelector('#df-e49d3c0c-9b85-4cf7-b7a2-d772855b843f button.colab-df-convert');\n",
              "        buttonEl.style.display =\n",
              "          google.colab.kernel.accessAllowed ? 'block' : 'none';\n",
              "\n",
              "        async function convertToInteractive(key) {\n",
              "          const element = document.querySelector('#df-e49d3c0c-9b85-4cf7-b7a2-d772855b843f');\n",
              "          const dataTable =\n",
              "            await google.colab.kernel.invokeFunction('convertToInteractive',\n",
              "                                                     [key], {});\n",
              "          if (!dataTable) return;\n",
              "\n",
              "          const docLinkHtml = 'Like what you see? Visit the ' +\n",
              "            '<a target=\"_blank\" href=https://colab.research.google.com/notebooks/data_table.ipynb>data table notebook</a>'\n",
              "            + ' to learn more about interactive tables.';\n",
              "          element.innerHTML = '';\n",
              "          dataTable['output_type'] = 'display_data';\n",
              "          await google.colab.output.renderOutput(dataTable, element);\n",
              "          const docLink = document.createElement('div');\n",
              "          docLink.innerHTML = docLinkHtml;\n",
              "          element.appendChild(docLink);\n",
              "        }\n",
              "      </script>\n",
              "    </div>\n",
              "  </div>\n",
              "  "
            ]
          },
          "metadata": {},
          "execution_count": 534
        }
      ]
    },
    {
      "cell_type": "code",
      "source": [
        "# 4) check the remaining NULL \n",
        "miss_dic = train_df.isnull().sum().to_dict()\n",
        "check = {i for i in miss_dic if miss_dic[i]>0}\n",
        "check  # all_NaN features name in list   "
      ],
      "metadata": {
        "colab": {
          "base_uri": "https://localhost:8080/"
        },
        "id": "YthctslpG5cd",
        "outputId": "355e0ce8-5c17-4aa7-9555-ce4aa0674956"
      },
      "execution_count": 535,
      "outputs": [
        {
          "output_type": "execute_result",
          "data": {
            "text/plain": [
              "set()"
            ]
          },
          "metadata": {},
          "execution_count": 535
        }
      ]
    },
    {
      "cell_type": "code",
      "source": [],
      "metadata": {
        "id": "9PAmM2lyzU0f"
      },
      "execution_count": 535,
      "outputs": []
    },
    {
      "cell_type": "markdown",
      "source": [
        "## 1.5 Outlier \n",
        "\n",
        "[outlier Dection: IsolationForest](https://scikit-learn.org/stable/auto_examples/miscellaneous/plot_anomaly_comparison.html)\n"
      ],
      "metadata": {
        "id": "4038bXsY3ngy"
      }
    },
    {
      "cell_type": "code",
      "source": [
        "# outlier (replace 1Q, 3Q with MEDIAN)\n",
        "# xs = list(train_df.iloc[:, 6:].columns)\n",
        "# def outlier(df):\n",
        "#     for col in xs: \n",
        "#         q1 = train_df[col].quantile(0.25)\n",
        "#         q3 = train_df[col].quantile(0.75)\n",
        "#         median = train_df[col].quantile(0.50)\n",
        "\n",
        "#         train_df[col] = np.where(train_df[col]<q1, median, train_df[col])\n",
        "#         train_df[col] = np.where(train_df[col]>q3, median, train_df[col])\n",
        "\n",
        "# train_df "
      ],
      "metadata": {
        "id": "nJuv_OqajZze"
      },
      "execution_count": 536,
      "outputs": []
    },
    {
      "cell_type": "markdown",
      "source": [
        "# 1-1. Test_df Preprocessing"
      ],
      "metadata": {
        "id": "AQf-saI4BQyu"
      }
    },
    {
      "cell_type": "code",
      "source": [
        "# Merge \n",
        "col = ['LINE', 'PRODUCT_CODE']\n",
        "test_df['line_pcode'] = test_df[col].apply(lambda row: ':'.join(row.values), axis=1)\n",
        "test_df = test_df.drop(columns=['LINE', 'PRODUCT_CODE'])\n",
        "\n",
        "# Label Encoding \n",
        "for i in qual_col:\n",
        "    for label in np.unique(test_df[i]): \n",
        "        if label not in le.classes_: \n",
        "            le.classes_ = np.append(le.classes_, label)\n",
        "    test_df[i] = le.transform(test_df[i])  # CAUTION: DO NOT fit test_df (only fit train_df) \n",
        "print('Done.')"
      ],
      "metadata": {
        "id": "nT3nx4o7B085",
        "colab": {
          "base_uri": "https://localhost:8080/"
        },
        "outputId": "754dbf48-93fd-4c2c-9da0-19b2b10691bb"
      },
      "execution_count": 537,
      "outputs": [
        {
          "output_type": "stream",
          "name": "stdout",
          "text": [
            "Done.\n"
          ]
        }
      ]
    },
    {
      "cell_type": "code",
      "source": [
        "# Missing Values\n",
        "# 1) features that have only 'NaN' without any recorded values \n",
        "## Total 506 features only have 'NaN' \n",
        "miss_dic = test_df.isnull().sum().to_dict()\n",
        "all_nan = pd.DataFrame({i for i in miss_dic if miss_dic[i]==310})\n",
        "all_nan_name = list(all_nan[0])  # all_NaN features name in list \n",
        "\n",
        "for i in all_nan_name: \n",
        "    test_df[i].fillna(0, inplace=True)\n",
        "test_df.X_2277.isnull().sum()  # e.g. check whether or not it's perfectly fill with ZERO "
      ],
      "metadata": {
        "colab": {
          "base_uri": "https://localhost:8080/"
        },
        "outputId": "a6fa78c7-398b-414f-ac53-12e0b52b9a95",
        "id": "9vLY-L_IBQy5"
      },
      "execution_count": 538,
      "outputs": [
        {
          "output_type": "execute_result",
          "data": {
            "text/plain": [
              "0"
            ]
          },
          "metadata": {},
          "execution_count": 538
        }
      ]
    },
    {
      "cell_type": "code",
      "source": [
        "print(len(test_df['line_pcode'].unique()))\n",
        "print(test_df.isnull().sum().sum())"
      ],
      "metadata": {
        "colab": {
          "base_uri": "https://localhost:8080/"
        },
        "id": "_7VrI1t3C5tK",
        "outputId": "a93d7976-4ce3-4ff9-8b0e-2dcf55d1a296"
      },
      "execution_count": 539,
      "outputs": [
        {
          "output_type": "stream",
          "name": "stdout",
          "text": [
            "8\n",
            "491347\n"
          ]
        }
      ]
    },
    {
      "cell_type": "code",
      "source": [
        "# 2) fill NaN with the feature's `line_pcde` grouped mean \n",
        "fill_group_mean = lambda g: g.fillna(g.mean())\n",
        "test_df.groupby('line_pcode').apply(fill_group_mean)\n",
        "test_df.isnull().sum().sum()"
      ],
      "metadata": {
        "colab": {
          "base_uri": "https://localhost:8080/"
        },
        "outputId": "6808cdb3-7a0b-448e-c281-1580ce21e086",
        "id": "se7WLEdQrokm"
      },
      "execution_count": 540,
      "outputs": [
        {
          "output_type": "execute_result",
          "data": {
            "text/plain": [
              "491347"
            ]
          },
          "metadata": {},
          "execution_count": 540
        }
      ]
    },
    {
      "cell_type": "code",
      "source": [
        "# 3) fillout remaining NaN with the feature's MEAN \n",
        "cols = test_df.iloc[:,:].columns\n",
        "for i in cols: \n",
        "    test_df[i].fillna(test_df[i].mean(), inplace=True)\n",
        "test_df.describe()"
      ],
      "metadata": {
        "colab": {
          "base_uri": "https://localhost:8080/",
          "height": 0
        },
        "outputId": "5512b2c0-5123-425a-d079-c52c3446f4ae",
        "id": "pNDoPbW5rokn"
      },
      "execution_count": 541,
      "outputs": [
        {
          "output_type": "execute_result",
          "data": {
            "text/plain": [
              "              X_1         X_2    X_3    X_4         X_5    X_6         X_7  \\\n",
              "count  310.000000  310.000000  310.0  310.0  310.000000  310.0  310.000000   \n",
              "mean     4.337449   94.448560    0.0   45.0   10.271605    0.0   48.485597   \n",
              "std     14.711941    3.595263    0.0    0.0    0.394436    0.0    3.303768   \n",
              "min      1.000000   87.000000    0.0   45.0   10.000000    0.0   45.000000   \n",
              "25%      2.000000   93.000000    0.0   45.0   10.000000    0.0   45.000000   \n",
              "50%      2.000000   94.448560    0.0   45.0   10.000000    0.0   48.485597   \n",
              "75%      2.000000   96.000000    0.0   45.0   10.271605    0.0   50.000000   \n",
              "max    154.000000  102.000000    0.0   45.0   11.000000    0.0   67.000000   \n",
              "\n",
              "              X_8         X_9   X_10  ...      X_2867      X_2868      X_2869  \\\n",
              "count  310.000000  310.000000  310.0  ...  310.000000  310.000000  310.000000   \n",
              "mean    10.012346   42.407407    2.0  ...   53.014706   49.994412   54.202353   \n",
              "std      0.097923    9.276526    0.0  ...    1.448128    1.998771    1.117486   \n",
              "min     10.000000   31.000000    2.0  ...   41.630000   39.850000   47.820000   \n",
              "25%     10.000000   31.000000    2.0  ...   53.014706   49.994412   54.202353   \n",
              "50%     10.000000   42.407407    2.0  ...   53.014706   49.994412   54.202353   \n",
              "75%     10.000000   52.000000    2.0  ...   53.014706   49.994412   54.202353   \n",
              "max     11.000000   52.000000    2.0  ...   60.490000   60.310000   58.290000   \n",
              "\n",
              "           X_2870      X_2871      X_2872      X_2873      X_2874      X_2875  \\\n",
              "count  310.000000  310.000000  310.000000  310.000000  310.000000  310.000000   \n",
              "mean    63.806176    0.974359  247.988889  251.888889  243.300000  228.844444   \n",
              "std      0.628799    0.056154    4.097781    3.230763    5.715889    3.139910   \n",
              "min     60.720000    0.000000  199.000000  214.600000  169.700000  191.900000   \n",
              "25%     63.806176    0.974359  247.988889  251.888889  243.300000  228.844444   \n",
              "50%     63.806176    0.974359  247.988889  251.888889  243.300000  228.844444   \n",
              "75%     63.806176    0.974359  247.988889  251.888889  243.300000  228.844444   \n",
              "max     67.240000    1.000000  268.000000  278.600000  271.400000  245.600000   \n",
              "\n",
              "       line_pcode  \n",
              "count  310.000000  \n",
              "mean     5.138710  \n",
              "std      2.064522  \n",
              "min      0.000000  \n",
              "25%      5.000000  \n",
              "50%      5.000000  \n",
              "75%      7.000000  \n",
              "max      7.000000  \n",
              "\n",
              "[8 rows x 2876 columns]"
            ],
            "text/html": [
              "\n",
              "  <div id=\"df-ba6fa947-60d8-4d11-aa08-ffc07011c212\">\n",
              "    <div class=\"colab-df-container\">\n",
              "      <div>\n",
              "<style scoped>\n",
              "    .dataframe tbody tr th:only-of-type {\n",
              "        vertical-align: middle;\n",
              "    }\n",
              "\n",
              "    .dataframe tbody tr th {\n",
              "        vertical-align: top;\n",
              "    }\n",
              "\n",
              "    .dataframe thead th {\n",
              "        text-align: right;\n",
              "    }\n",
              "</style>\n",
              "<table border=\"1\" class=\"dataframe\">\n",
              "  <thead>\n",
              "    <tr style=\"text-align: right;\">\n",
              "      <th></th>\n",
              "      <th>X_1</th>\n",
              "      <th>X_2</th>\n",
              "      <th>X_3</th>\n",
              "      <th>X_4</th>\n",
              "      <th>X_5</th>\n",
              "      <th>X_6</th>\n",
              "      <th>X_7</th>\n",
              "      <th>X_8</th>\n",
              "      <th>X_9</th>\n",
              "      <th>X_10</th>\n",
              "      <th>...</th>\n",
              "      <th>X_2867</th>\n",
              "      <th>X_2868</th>\n",
              "      <th>X_2869</th>\n",
              "      <th>X_2870</th>\n",
              "      <th>X_2871</th>\n",
              "      <th>X_2872</th>\n",
              "      <th>X_2873</th>\n",
              "      <th>X_2874</th>\n",
              "      <th>X_2875</th>\n",
              "      <th>line_pcode</th>\n",
              "    </tr>\n",
              "  </thead>\n",
              "  <tbody>\n",
              "    <tr>\n",
              "      <th>count</th>\n",
              "      <td>310.000000</td>\n",
              "      <td>310.000000</td>\n",
              "      <td>310.0</td>\n",
              "      <td>310.0</td>\n",
              "      <td>310.000000</td>\n",
              "      <td>310.0</td>\n",
              "      <td>310.000000</td>\n",
              "      <td>310.000000</td>\n",
              "      <td>310.000000</td>\n",
              "      <td>310.0</td>\n",
              "      <td>...</td>\n",
              "      <td>310.000000</td>\n",
              "      <td>310.000000</td>\n",
              "      <td>310.000000</td>\n",
              "      <td>310.000000</td>\n",
              "      <td>310.000000</td>\n",
              "      <td>310.000000</td>\n",
              "      <td>310.000000</td>\n",
              "      <td>310.000000</td>\n",
              "      <td>310.000000</td>\n",
              "      <td>310.000000</td>\n",
              "    </tr>\n",
              "    <tr>\n",
              "      <th>mean</th>\n",
              "      <td>4.337449</td>\n",
              "      <td>94.448560</td>\n",
              "      <td>0.0</td>\n",
              "      <td>45.0</td>\n",
              "      <td>10.271605</td>\n",
              "      <td>0.0</td>\n",
              "      <td>48.485597</td>\n",
              "      <td>10.012346</td>\n",
              "      <td>42.407407</td>\n",
              "      <td>2.0</td>\n",
              "      <td>...</td>\n",
              "      <td>53.014706</td>\n",
              "      <td>49.994412</td>\n",
              "      <td>54.202353</td>\n",
              "      <td>63.806176</td>\n",
              "      <td>0.974359</td>\n",
              "      <td>247.988889</td>\n",
              "      <td>251.888889</td>\n",
              "      <td>243.300000</td>\n",
              "      <td>228.844444</td>\n",
              "      <td>5.138710</td>\n",
              "    </tr>\n",
              "    <tr>\n",
              "      <th>std</th>\n",
              "      <td>14.711941</td>\n",
              "      <td>3.595263</td>\n",
              "      <td>0.0</td>\n",
              "      <td>0.0</td>\n",
              "      <td>0.394436</td>\n",
              "      <td>0.0</td>\n",
              "      <td>3.303768</td>\n",
              "      <td>0.097923</td>\n",
              "      <td>9.276526</td>\n",
              "      <td>0.0</td>\n",
              "      <td>...</td>\n",
              "      <td>1.448128</td>\n",
              "      <td>1.998771</td>\n",
              "      <td>1.117486</td>\n",
              "      <td>0.628799</td>\n",
              "      <td>0.056154</td>\n",
              "      <td>4.097781</td>\n",
              "      <td>3.230763</td>\n",
              "      <td>5.715889</td>\n",
              "      <td>3.139910</td>\n",
              "      <td>2.064522</td>\n",
              "    </tr>\n",
              "    <tr>\n",
              "      <th>min</th>\n",
              "      <td>1.000000</td>\n",
              "      <td>87.000000</td>\n",
              "      <td>0.0</td>\n",
              "      <td>45.0</td>\n",
              "      <td>10.000000</td>\n",
              "      <td>0.0</td>\n",
              "      <td>45.000000</td>\n",
              "      <td>10.000000</td>\n",
              "      <td>31.000000</td>\n",
              "      <td>2.0</td>\n",
              "      <td>...</td>\n",
              "      <td>41.630000</td>\n",
              "      <td>39.850000</td>\n",
              "      <td>47.820000</td>\n",
              "      <td>60.720000</td>\n",
              "      <td>0.000000</td>\n",
              "      <td>199.000000</td>\n",
              "      <td>214.600000</td>\n",
              "      <td>169.700000</td>\n",
              "      <td>191.900000</td>\n",
              "      <td>0.000000</td>\n",
              "    </tr>\n",
              "    <tr>\n",
              "      <th>25%</th>\n",
              "      <td>2.000000</td>\n",
              "      <td>93.000000</td>\n",
              "      <td>0.0</td>\n",
              "      <td>45.0</td>\n",
              "      <td>10.000000</td>\n",
              "      <td>0.0</td>\n",
              "      <td>45.000000</td>\n",
              "      <td>10.000000</td>\n",
              "      <td>31.000000</td>\n",
              "      <td>2.0</td>\n",
              "      <td>...</td>\n",
              "      <td>53.014706</td>\n",
              "      <td>49.994412</td>\n",
              "      <td>54.202353</td>\n",
              "      <td>63.806176</td>\n",
              "      <td>0.974359</td>\n",
              "      <td>247.988889</td>\n",
              "      <td>251.888889</td>\n",
              "      <td>243.300000</td>\n",
              "      <td>228.844444</td>\n",
              "      <td>5.000000</td>\n",
              "    </tr>\n",
              "    <tr>\n",
              "      <th>50%</th>\n",
              "      <td>2.000000</td>\n",
              "      <td>94.448560</td>\n",
              "      <td>0.0</td>\n",
              "      <td>45.0</td>\n",
              "      <td>10.000000</td>\n",
              "      <td>0.0</td>\n",
              "      <td>48.485597</td>\n",
              "      <td>10.000000</td>\n",
              "      <td>42.407407</td>\n",
              "      <td>2.0</td>\n",
              "      <td>...</td>\n",
              "      <td>53.014706</td>\n",
              "      <td>49.994412</td>\n",
              "      <td>54.202353</td>\n",
              "      <td>63.806176</td>\n",
              "      <td>0.974359</td>\n",
              "      <td>247.988889</td>\n",
              "      <td>251.888889</td>\n",
              "      <td>243.300000</td>\n",
              "      <td>228.844444</td>\n",
              "      <td>5.000000</td>\n",
              "    </tr>\n",
              "    <tr>\n",
              "      <th>75%</th>\n",
              "      <td>2.000000</td>\n",
              "      <td>96.000000</td>\n",
              "      <td>0.0</td>\n",
              "      <td>45.0</td>\n",
              "      <td>10.271605</td>\n",
              "      <td>0.0</td>\n",
              "      <td>50.000000</td>\n",
              "      <td>10.000000</td>\n",
              "      <td>52.000000</td>\n",
              "      <td>2.0</td>\n",
              "      <td>...</td>\n",
              "      <td>53.014706</td>\n",
              "      <td>49.994412</td>\n",
              "      <td>54.202353</td>\n",
              "      <td>63.806176</td>\n",
              "      <td>0.974359</td>\n",
              "      <td>247.988889</td>\n",
              "      <td>251.888889</td>\n",
              "      <td>243.300000</td>\n",
              "      <td>228.844444</td>\n",
              "      <td>7.000000</td>\n",
              "    </tr>\n",
              "    <tr>\n",
              "      <th>max</th>\n",
              "      <td>154.000000</td>\n",
              "      <td>102.000000</td>\n",
              "      <td>0.0</td>\n",
              "      <td>45.0</td>\n",
              "      <td>11.000000</td>\n",
              "      <td>0.0</td>\n",
              "      <td>67.000000</td>\n",
              "      <td>11.000000</td>\n",
              "      <td>52.000000</td>\n",
              "      <td>2.0</td>\n",
              "      <td>...</td>\n",
              "      <td>60.490000</td>\n",
              "      <td>60.310000</td>\n",
              "      <td>58.290000</td>\n",
              "      <td>67.240000</td>\n",
              "      <td>1.000000</td>\n",
              "      <td>268.000000</td>\n",
              "      <td>278.600000</td>\n",
              "      <td>271.400000</td>\n",
              "      <td>245.600000</td>\n",
              "      <td>7.000000</td>\n",
              "    </tr>\n",
              "  </tbody>\n",
              "</table>\n",
              "<p>8 rows × 2876 columns</p>\n",
              "</div>\n",
              "      <button class=\"colab-df-convert\" onclick=\"convertToInteractive('df-ba6fa947-60d8-4d11-aa08-ffc07011c212')\"\n",
              "              title=\"Convert this dataframe to an interactive table.\"\n",
              "              style=\"display:none;\">\n",
              "        \n",
              "  <svg xmlns=\"http://www.w3.org/2000/svg\" height=\"24px\"viewBox=\"0 0 24 24\"\n",
              "       width=\"24px\">\n",
              "    <path d=\"M0 0h24v24H0V0z\" fill=\"none\"/>\n",
              "    <path d=\"M18.56 5.44l.94 2.06.94-2.06 2.06-.94-2.06-.94-.94-2.06-.94 2.06-2.06.94zm-11 1L8.5 8.5l.94-2.06 2.06-.94-2.06-.94L8.5 2.5l-.94 2.06-2.06.94zm10 10l.94 2.06.94-2.06 2.06-.94-2.06-.94-.94-2.06-.94 2.06-2.06.94z\"/><path d=\"M17.41 7.96l-1.37-1.37c-.4-.4-.92-.59-1.43-.59-.52 0-1.04.2-1.43.59L10.3 9.45l-7.72 7.72c-.78.78-.78 2.05 0 2.83L4 21.41c.39.39.9.59 1.41.59.51 0 1.02-.2 1.41-.59l7.78-7.78 2.81-2.81c.8-.78.8-2.07 0-2.86zM5.41 20L4 18.59l7.72-7.72 1.47 1.35L5.41 20z\"/>\n",
              "  </svg>\n",
              "      </button>\n",
              "      \n",
              "  <style>\n",
              "    .colab-df-container {\n",
              "      display:flex;\n",
              "      flex-wrap:wrap;\n",
              "      gap: 12px;\n",
              "    }\n",
              "\n",
              "    .colab-df-convert {\n",
              "      background-color: #E8F0FE;\n",
              "      border: none;\n",
              "      border-radius: 50%;\n",
              "      cursor: pointer;\n",
              "      display: none;\n",
              "      fill: #1967D2;\n",
              "      height: 32px;\n",
              "      padding: 0 0 0 0;\n",
              "      width: 32px;\n",
              "    }\n",
              "\n",
              "    .colab-df-convert:hover {\n",
              "      background-color: #E2EBFA;\n",
              "      box-shadow: 0px 1px 2px rgba(60, 64, 67, 0.3), 0px 1px 3px 1px rgba(60, 64, 67, 0.15);\n",
              "      fill: #174EA6;\n",
              "    }\n",
              "\n",
              "    [theme=dark] .colab-df-convert {\n",
              "      background-color: #3B4455;\n",
              "      fill: #D2E3FC;\n",
              "    }\n",
              "\n",
              "    [theme=dark] .colab-df-convert:hover {\n",
              "      background-color: #434B5C;\n",
              "      box-shadow: 0px 1px 3px 1px rgba(0, 0, 0, 0.15);\n",
              "      filter: drop-shadow(0px 1px 2px rgba(0, 0, 0, 0.3));\n",
              "      fill: #FFFFFF;\n",
              "    }\n",
              "  </style>\n",
              "\n",
              "      <script>\n",
              "        const buttonEl =\n",
              "          document.querySelector('#df-ba6fa947-60d8-4d11-aa08-ffc07011c212 button.colab-df-convert');\n",
              "        buttonEl.style.display =\n",
              "          google.colab.kernel.accessAllowed ? 'block' : 'none';\n",
              "\n",
              "        async function convertToInteractive(key) {\n",
              "          const element = document.querySelector('#df-ba6fa947-60d8-4d11-aa08-ffc07011c212');\n",
              "          const dataTable =\n",
              "            await google.colab.kernel.invokeFunction('convertToInteractive',\n",
              "                                                     [key], {});\n",
              "          if (!dataTable) return;\n",
              "\n",
              "          const docLinkHtml = 'Like what you see? Visit the ' +\n",
              "            '<a target=\"_blank\" href=https://colab.research.google.com/notebooks/data_table.ipynb>data table notebook</a>'\n",
              "            + ' to learn more about interactive tables.';\n",
              "          element.innerHTML = '';\n",
              "          dataTable['output_type'] = 'display_data';\n",
              "          await google.colab.output.renderOutput(dataTable, element);\n",
              "          const docLink = document.createElement('div');\n",
              "          docLink.innerHTML = docLinkHtml;\n",
              "          element.appendChild(docLink);\n",
              "        }\n",
              "      </script>\n",
              "    </div>\n",
              "  </div>\n",
              "  "
            ]
          },
          "metadata": {},
          "execution_count": 541
        }
      ]
    },
    {
      "cell_type": "code",
      "source": [
        "# 4) check the remaining NULL \n",
        "miss_dic = test_df.isnull().sum().to_dict()\n",
        "check = {i for i in miss_dic if miss_dic[i]>0}\n",
        "check  # all_NaN features name in list   "
      ],
      "metadata": {
        "colab": {
          "base_uri": "https://localhost:8080/"
        },
        "outputId": "d0a62154-996c-4c45-f5a3-36cce1ff1513",
        "id": "P-vVEt6EHe7p"
      },
      "execution_count": 542,
      "outputs": [
        {
          "output_type": "execute_result",
          "data": {
            "text/plain": [
              "set()"
            ]
          },
          "metadata": {},
          "execution_count": 542
        }
      ]
    },
    {
      "cell_type": "code",
      "source": [
        "# outlier (replace 1Q, 3Q with MEDIAN)\n",
        "# xs = list(test_df.iloc[:, 6:].columns)\n",
        "# def outlier(df):\n",
        "#     for col in xs: \n",
        "#         q1 = test_df[col].quantile(0.25)\n",
        "#         q3 = test_df[col].quantile(0.75)\n",
        "#         median = test_df[col].quantile(0.50)\n",
        "\n",
        "#         test_df[col] = np.where(test_df[col]>q3, median, test_df[col])\n",
        "\n",
        "# test_df.describe()"
      ],
      "metadata": {
        "id": "skEOybzqBQy6"
      },
      "execution_count": 543,
      "outputs": []
    },
    {
      "cell_type": "markdown",
      "source": [
        "# 2.Modeling_ML"
      ],
      "metadata": {
        "id": "7GodRp6O-5TM"
      }
    },
    {
      "cell_type": "markdown",
      "source": [
        "## 2.0 OverSampling"
      ],
      "metadata": {
        "id": "yKYVY4DwWSts"
      }
    },
    {
      "cell_type": "code",
      "source": [
        "X_train = train_df.drop(columns=['Y_Class'])\n",
        "y_train = train_df['Y_Class']\n",
        "test_x = test_df"
      ],
      "metadata": {
        "id": "mtzzkA9n_flg"
      },
      "execution_count": 544,
      "outputs": []
    },
    {
      "cell_type": "code",
      "execution_count": 545,
      "metadata": {
        "id": "ZgdDmu73y4ij",
        "outputId": "e1511302-601c-407b-e623-19328e190bd7",
        "colab": {
          "base_uri": "https://localhost:8080/"
        }
      },
      "outputs": [
        {
          "output_type": "stream",
          "name": "stdout",
          "text": [
            "1    0.680602\n",
            "2    0.172241\n",
            "0    0.147157\n",
            "Name: Y_Class, dtype: float64 \n",
            "\n",
            "----------------------------------------------\n",
            "\n",
            "Over-Sampling 전:\n",
            " 1    407\n",
            "2    103\n",
            "0     88\n",
            "Name: Y_Class, dtype: int64 \n",
            "\n",
            "Over-Sampling 후 Train X: (1221, 2877)\n",
            "Over-Sampling 후 Train Y: (1221,) \n",
            "\n",
            "Over-Sampling 후 '2':407\n",
            "Over-Sampling 후 '1':407\n",
            "Over-Sampling 후 '0':407\n"
          ]
        }
      ],
      "source": [
        "# OverSampling for Y_Class 0, 2 \n",
        "from imblearn.over_sampling import SMOTE\n",
        "\n",
        "# 목표변수 빈도 확인\n",
        "print(y_train.value_counts(1),\"\\n\")\n",
        "\n",
        "# Over-sampling 설정\n",
        "sm = SMOTE(sampling_strategy='auto')\n",
        "\n",
        "# train데이터를 이용한 Over-sampling\n",
        "x_resampled, y_resampled = sm.fit_resample(X_train, y_train)\n",
        "\n",
        "# 결과 확인\n",
        "print('----------------------------------------------\\n')\n",
        "print('Over-Sampling 전:\\n', y_train.value_counts(),\"\\n\")\n",
        "print('Over-Sampling 후 Train X: {}'.format(x_resampled.shape))\n",
        "print('Over-Sampling 후 Train Y: {} \\n'.format(y_resampled.shape))\n",
        "print(\"Over-Sampling 후 '2':{}\".format(sum(y_resampled==2)))\n",
        "print(\"Over-Sampling 후 '1':{}\".format(sum(y_resampled==1)))\n",
        "print(\"Over-Sampling 후 '0':{}\".format(sum(y_resampled==0)))\n",
        "\n",
        "# 데이터 결합\n",
        "train_df = pd.concat([x_resampled,y_resampled], axis=1)"
      ]
    },
    {
      "cell_type": "code",
      "source": [
        "X_train = train_df.drop(columns=['Y_Class', 'Y_Quality'])\n",
        "y_train = train_df['Y_Quality']\n",
        "test_x = test_df"
      ],
      "metadata": {
        "id": "xPHBVUkH7_IA"
      },
      "execution_count": 546,
      "outputs": []
    },
    {
      "cell_type": "markdown",
      "source": [
        "## 2.1 GradientBoosting [0.63]"
      ],
      "metadata": {
        "id": "yXJSNKPRYsvb"
      }
    },
    {
      "cell_type": "code",
      "source": [
        "from sklearn.ensemble import GradientBoostingRegressor   \n",
        "\n",
        "GB_model = GradientBoostingRegressor(random_state=37).fit(X_train, y_train) \n",
        "print('Done.') "
      ],
      "metadata": {
        "id": "U7pCY5HPsv4Q",
        "colab": {
          "base_uri": "https://localhost:8080/"
        },
        "outputId": "d4b29a22-fbda-43f3-b37b-d3d56d0e4f70"
      },
      "execution_count": 547,
      "outputs": [
        {
          "output_type": "stream",
          "name": "stdout",
          "text": [
            "Done.\n"
          ]
        }
      ]
    },
    {
      "cell_type": "code",
      "source": [
        "preds=GB_model.predict(test_x)  \n",
        "print('Done.')"
      ],
      "metadata": {
        "colab": {
          "base_uri": "https://localhost:8080/"
        },
        "outputId": "359fc337-05f0-45d4-d44b-81903d19d18d",
        "id": "Hpn3cF6CVVgM"
      },
      "execution_count": 548,
      "outputs": [
        {
          "output_type": "stream",
          "name": "stdout",
          "text": [
            "Done.\n"
          ]
        }
      ]
    },
    {
      "cell_type": "code",
      "source": [
        "test_x['Y_Quality'] = preds\n",
        "test_x  "
      ],
      "metadata": {
        "colab": {
          "base_uri": "https://localhost:8080/",
          "height": 488
        },
        "outputId": "779efa31-eb0a-4b82-89a6-82db1155da56",
        "id": "xPXPRUoYVVgM"
      },
      "execution_count": 549,
      "outputs": [
        {
          "output_type": "execute_result",
          "data": {
            "text/plain": [
              "          X_1       X_2  X_3   X_4        X_5  X_6        X_7        X_8  \\\n",
              "0    2.000000  94.00000  0.0  45.0  10.000000  0.0  51.000000  10.000000   \n",
              "1    2.000000  93.00000  0.0  45.0  11.000000  0.0  45.000000  10.000000   \n",
              "2    2.000000  95.00000  0.0  45.0  11.000000  0.0  45.000000  10.000000   \n",
              "3    4.337449  94.44856  0.0  45.0  10.271605  0.0  48.485597  10.012346   \n",
              "4    4.337449  94.44856  0.0  45.0  10.271605  0.0  48.485597  10.012346   \n",
              "..        ...       ...  ...   ...        ...  ...        ...        ...   \n",
              "305  2.000000  91.00000  0.0  45.0  10.000000  0.0  51.000000  10.000000   \n",
              "306  2.000000  96.00000  0.0  45.0  11.000000  0.0  45.000000  10.000000   \n",
              "307  2.000000  91.00000  0.0  45.0  10.000000  0.0  50.000000  10.000000   \n",
              "308  2.000000  95.00000  0.0  45.0  10.000000  0.0  51.000000  10.000000   \n",
              "309  2.000000  87.00000  0.0  45.0  10.000000  0.0  51.000000  10.000000   \n",
              "\n",
              "           X_9  X_10  ...     X_2868     X_2869     X_2870    X_2871  \\\n",
              "0    52.000000   2.0  ...  49.994412  54.202353  63.806176  0.974359   \n",
              "1    31.000000   2.0  ...  49.994412  54.202353  63.806176  0.974359   \n",
              "2    31.000000   2.0  ...  49.994412  54.202353  63.806176  0.974359   \n",
              "3    42.407407   2.0  ...  49.994412  54.202353  63.806176  0.974359   \n",
              "4    42.407407   2.0  ...  49.994412  54.202353  63.806176  0.974359   \n",
              "..         ...   ...  ...        ...        ...        ...       ...   \n",
              "305  52.000000   2.0  ...  49.994412  54.202353  63.806176  0.974359   \n",
              "306  31.000000   2.0  ...  49.994412  54.202353  63.806176  0.974359   \n",
              "307  52.000000   2.0  ...  49.994412  54.202353  63.806176  0.974359   \n",
              "308  52.000000   2.0  ...  49.994412  54.202353  63.806176  0.974359   \n",
              "309  52.000000   2.0  ...  49.994412  54.202353  63.806176  0.974359   \n",
              "\n",
              "         X_2872      X_2873  X_2874      X_2875  line_pcode  Y_Quality  \n",
              "0    247.988889  251.888889   243.3  228.844444           7   0.532668  \n",
              "1    247.988889  251.888889   243.3  228.844444           5   0.534932  \n",
              "2    247.988889  251.888889   243.3  228.844444           5   0.534789  \n",
              "3    247.988889  251.888889   243.3  228.844444           0   0.533128  \n",
              "4    247.988889  251.888889   243.3  228.844444           1   0.537065  \n",
              "..          ...         ...     ...         ...         ...        ...  \n",
              "305  247.988889  251.888889   243.3  228.844444           7   0.531996  \n",
              "306  247.988889  251.888889   243.3  228.844444           5   0.535282  \n",
              "307  247.988889  251.888889   243.3  228.844444           7   0.532321  \n",
              "308  247.988889  251.888889   243.3  228.844444           7   0.532803  \n",
              "309  247.988889  251.888889   243.3  228.844444           7   0.531677  \n",
              "\n",
              "[310 rows x 2877 columns]"
            ],
            "text/html": [
              "\n",
              "  <div id=\"df-0d8709cc-cf56-420f-8aea-5a8af3a8d2be\">\n",
              "    <div class=\"colab-df-container\">\n",
              "      <div>\n",
              "<style scoped>\n",
              "    .dataframe tbody tr th:only-of-type {\n",
              "        vertical-align: middle;\n",
              "    }\n",
              "\n",
              "    .dataframe tbody tr th {\n",
              "        vertical-align: top;\n",
              "    }\n",
              "\n",
              "    .dataframe thead th {\n",
              "        text-align: right;\n",
              "    }\n",
              "</style>\n",
              "<table border=\"1\" class=\"dataframe\">\n",
              "  <thead>\n",
              "    <tr style=\"text-align: right;\">\n",
              "      <th></th>\n",
              "      <th>X_1</th>\n",
              "      <th>X_2</th>\n",
              "      <th>X_3</th>\n",
              "      <th>X_4</th>\n",
              "      <th>X_5</th>\n",
              "      <th>X_6</th>\n",
              "      <th>X_7</th>\n",
              "      <th>X_8</th>\n",
              "      <th>X_9</th>\n",
              "      <th>X_10</th>\n",
              "      <th>...</th>\n",
              "      <th>X_2868</th>\n",
              "      <th>X_2869</th>\n",
              "      <th>X_2870</th>\n",
              "      <th>X_2871</th>\n",
              "      <th>X_2872</th>\n",
              "      <th>X_2873</th>\n",
              "      <th>X_2874</th>\n",
              "      <th>X_2875</th>\n",
              "      <th>line_pcode</th>\n",
              "      <th>Y_Quality</th>\n",
              "    </tr>\n",
              "  </thead>\n",
              "  <tbody>\n",
              "    <tr>\n",
              "      <th>0</th>\n",
              "      <td>2.000000</td>\n",
              "      <td>94.00000</td>\n",
              "      <td>0.0</td>\n",
              "      <td>45.0</td>\n",
              "      <td>10.000000</td>\n",
              "      <td>0.0</td>\n",
              "      <td>51.000000</td>\n",
              "      <td>10.000000</td>\n",
              "      <td>52.000000</td>\n",
              "      <td>2.0</td>\n",
              "      <td>...</td>\n",
              "      <td>49.994412</td>\n",
              "      <td>54.202353</td>\n",
              "      <td>63.806176</td>\n",
              "      <td>0.974359</td>\n",
              "      <td>247.988889</td>\n",
              "      <td>251.888889</td>\n",
              "      <td>243.3</td>\n",
              "      <td>228.844444</td>\n",
              "      <td>7</td>\n",
              "      <td>0.532668</td>\n",
              "    </tr>\n",
              "    <tr>\n",
              "      <th>1</th>\n",
              "      <td>2.000000</td>\n",
              "      <td>93.00000</td>\n",
              "      <td>0.0</td>\n",
              "      <td>45.0</td>\n",
              "      <td>11.000000</td>\n",
              "      <td>0.0</td>\n",
              "      <td>45.000000</td>\n",
              "      <td>10.000000</td>\n",
              "      <td>31.000000</td>\n",
              "      <td>2.0</td>\n",
              "      <td>...</td>\n",
              "      <td>49.994412</td>\n",
              "      <td>54.202353</td>\n",
              "      <td>63.806176</td>\n",
              "      <td>0.974359</td>\n",
              "      <td>247.988889</td>\n",
              "      <td>251.888889</td>\n",
              "      <td>243.3</td>\n",
              "      <td>228.844444</td>\n",
              "      <td>5</td>\n",
              "      <td>0.534932</td>\n",
              "    </tr>\n",
              "    <tr>\n",
              "      <th>2</th>\n",
              "      <td>2.000000</td>\n",
              "      <td>95.00000</td>\n",
              "      <td>0.0</td>\n",
              "      <td>45.0</td>\n",
              "      <td>11.000000</td>\n",
              "      <td>0.0</td>\n",
              "      <td>45.000000</td>\n",
              "      <td>10.000000</td>\n",
              "      <td>31.000000</td>\n",
              "      <td>2.0</td>\n",
              "      <td>...</td>\n",
              "      <td>49.994412</td>\n",
              "      <td>54.202353</td>\n",
              "      <td>63.806176</td>\n",
              "      <td>0.974359</td>\n",
              "      <td>247.988889</td>\n",
              "      <td>251.888889</td>\n",
              "      <td>243.3</td>\n",
              "      <td>228.844444</td>\n",
              "      <td>5</td>\n",
              "      <td>0.534789</td>\n",
              "    </tr>\n",
              "    <tr>\n",
              "      <th>3</th>\n",
              "      <td>4.337449</td>\n",
              "      <td>94.44856</td>\n",
              "      <td>0.0</td>\n",
              "      <td>45.0</td>\n",
              "      <td>10.271605</td>\n",
              "      <td>0.0</td>\n",
              "      <td>48.485597</td>\n",
              "      <td>10.012346</td>\n",
              "      <td>42.407407</td>\n",
              "      <td>2.0</td>\n",
              "      <td>...</td>\n",
              "      <td>49.994412</td>\n",
              "      <td>54.202353</td>\n",
              "      <td>63.806176</td>\n",
              "      <td>0.974359</td>\n",
              "      <td>247.988889</td>\n",
              "      <td>251.888889</td>\n",
              "      <td>243.3</td>\n",
              "      <td>228.844444</td>\n",
              "      <td>0</td>\n",
              "      <td>0.533128</td>\n",
              "    </tr>\n",
              "    <tr>\n",
              "      <th>4</th>\n",
              "      <td>4.337449</td>\n",
              "      <td>94.44856</td>\n",
              "      <td>0.0</td>\n",
              "      <td>45.0</td>\n",
              "      <td>10.271605</td>\n",
              "      <td>0.0</td>\n",
              "      <td>48.485597</td>\n",
              "      <td>10.012346</td>\n",
              "      <td>42.407407</td>\n",
              "      <td>2.0</td>\n",
              "      <td>...</td>\n",
              "      <td>49.994412</td>\n",
              "      <td>54.202353</td>\n",
              "      <td>63.806176</td>\n",
              "      <td>0.974359</td>\n",
              "      <td>247.988889</td>\n",
              "      <td>251.888889</td>\n",
              "      <td>243.3</td>\n",
              "      <td>228.844444</td>\n",
              "      <td>1</td>\n",
              "      <td>0.537065</td>\n",
              "    </tr>\n",
              "    <tr>\n",
              "      <th>...</th>\n",
              "      <td>...</td>\n",
              "      <td>...</td>\n",
              "      <td>...</td>\n",
              "      <td>...</td>\n",
              "      <td>...</td>\n",
              "      <td>...</td>\n",
              "      <td>...</td>\n",
              "      <td>...</td>\n",
              "      <td>...</td>\n",
              "      <td>...</td>\n",
              "      <td>...</td>\n",
              "      <td>...</td>\n",
              "      <td>...</td>\n",
              "      <td>...</td>\n",
              "      <td>...</td>\n",
              "      <td>...</td>\n",
              "      <td>...</td>\n",
              "      <td>...</td>\n",
              "      <td>...</td>\n",
              "      <td>...</td>\n",
              "      <td>...</td>\n",
              "    </tr>\n",
              "    <tr>\n",
              "      <th>305</th>\n",
              "      <td>2.000000</td>\n",
              "      <td>91.00000</td>\n",
              "      <td>0.0</td>\n",
              "      <td>45.0</td>\n",
              "      <td>10.000000</td>\n",
              "      <td>0.0</td>\n",
              "      <td>51.000000</td>\n",
              "      <td>10.000000</td>\n",
              "      <td>52.000000</td>\n",
              "      <td>2.0</td>\n",
              "      <td>...</td>\n",
              "      <td>49.994412</td>\n",
              "      <td>54.202353</td>\n",
              "      <td>63.806176</td>\n",
              "      <td>0.974359</td>\n",
              "      <td>247.988889</td>\n",
              "      <td>251.888889</td>\n",
              "      <td>243.3</td>\n",
              "      <td>228.844444</td>\n",
              "      <td>7</td>\n",
              "      <td>0.531996</td>\n",
              "    </tr>\n",
              "    <tr>\n",
              "      <th>306</th>\n",
              "      <td>2.000000</td>\n",
              "      <td>96.00000</td>\n",
              "      <td>0.0</td>\n",
              "      <td>45.0</td>\n",
              "      <td>11.000000</td>\n",
              "      <td>0.0</td>\n",
              "      <td>45.000000</td>\n",
              "      <td>10.000000</td>\n",
              "      <td>31.000000</td>\n",
              "      <td>2.0</td>\n",
              "      <td>...</td>\n",
              "      <td>49.994412</td>\n",
              "      <td>54.202353</td>\n",
              "      <td>63.806176</td>\n",
              "      <td>0.974359</td>\n",
              "      <td>247.988889</td>\n",
              "      <td>251.888889</td>\n",
              "      <td>243.3</td>\n",
              "      <td>228.844444</td>\n",
              "      <td>5</td>\n",
              "      <td>0.535282</td>\n",
              "    </tr>\n",
              "    <tr>\n",
              "      <th>307</th>\n",
              "      <td>2.000000</td>\n",
              "      <td>91.00000</td>\n",
              "      <td>0.0</td>\n",
              "      <td>45.0</td>\n",
              "      <td>10.000000</td>\n",
              "      <td>0.0</td>\n",
              "      <td>50.000000</td>\n",
              "      <td>10.000000</td>\n",
              "      <td>52.000000</td>\n",
              "      <td>2.0</td>\n",
              "      <td>...</td>\n",
              "      <td>49.994412</td>\n",
              "      <td>54.202353</td>\n",
              "      <td>63.806176</td>\n",
              "      <td>0.974359</td>\n",
              "      <td>247.988889</td>\n",
              "      <td>251.888889</td>\n",
              "      <td>243.3</td>\n",
              "      <td>228.844444</td>\n",
              "      <td>7</td>\n",
              "      <td>0.532321</td>\n",
              "    </tr>\n",
              "    <tr>\n",
              "      <th>308</th>\n",
              "      <td>2.000000</td>\n",
              "      <td>95.00000</td>\n",
              "      <td>0.0</td>\n",
              "      <td>45.0</td>\n",
              "      <td>10.000000</td>\n",
              "      <td>0.0</td>\n",
              "      <td>51.000000</td>\n",
              "      <td>10.000000</td>\n",
              "      <td>52.000000</td>\n",
              "      <td>2.0</td>\n",
              "      <td>...</td>\n",
              "      <td>49.994412</td>\n",
              "      <td>54.202353</td>\n",
              "      <td>63.806176</td>\n",
              "      <td>0.974359</td>\n",
              "      <td>247.988889</td>\n",
              "      <td>251.888889</td>\n",
              "      <td>243.3</td>\n",
              "      <td>228.844444</td>\n",
              "      <td>7</td>\n",
              "      <td>0.532803</td>\n",
              "    </tr>\n",
              "    <tr>\n",
              "      <th>309</th>\n",
              "      <td>2.000000</td>\n",
              "      <td>87.00000</td>\n",
              "      <td>0.0</td>\n",
              "      <td>45.0</td>\n",
              "      <td>10.000000</td>\n",
              "      <td>0.0</td>\n",
              "      <td>51.000000</td>\n",
              "      <td>10.000000</td>\n",
              "      <td>52.000000</td>\n",
              "      <td>2.0</td>\n",
              "      <td>...</td>\n",
              "      <td>49.994412</td>\n",
              "      <td>54.202353</td>\n",
              "      <td>63.806176</td>\n",
              "      <td>0.974359</td>\n",
              "      <td>247.988889</td>\n",
              "      <td>251.888889</td>\n",
              "      <td>243.3</td>\n",
              "      <td>228.844444</td>\n",
              "      <td>7</td>\n",
              "      <td>0.531677</td>\n",
              "    </tr>\n",
              "  </tbody>\n",
              "</table>\n",
              "<p>310 rows × 2877 columns</p>\n",
              "</div>\n",
              "      <button class=\"colab-df-convert\" onclick=\"convertToInteractive('df-0d8709cc-cf56-420f-8aea-5a8af3a8d2be')\"\n",
              "              title=\"Convert this dataframe to an interactive table.\"\n",
              "              style=\"display:none;\">\n",
              "        \n",
              "  <svg xmlns=\"http://www.w3.org/2000/svg\" height=\"24px\"viewBox=\"0 0 24 24\"\n",
              "       width=\"24px\">\n",
              "    <path d=\"M0 0h24v24H0V0z\" fill=\"none\"/>\n",
              "    <path d=\"M18.56 5.44l.94 2.06.94-2.06 2.06-.94-2.06-.94-.94-2.06-.94 2.06-2.06.94zm-11 1L8.5 8.5l.94-2.06 2.06-.94-2.06-.94L8.5 2.5l-.94 2.06-2.06.94zm10 10l.94 2.06.94-2.06 2.06-.94-2.06-.94-.94-2.06-.94 2.06-2.06.94z\"/><path d=\"M17.41 7.96l-1.37-1.37c-.4-.4-.92-.59-1.43-.59-.52 0-1.04.2-1.43.59L10.3 9.45l-7.72 7.72c-.78.78-.78 2.05 0 2.83L4 21.41c.39.39.9.59 1.41.59.51 0 1.02-.2 1.41-.59l7.78-7.78 2.81-2.81c.8-.78.8-2.07 0-2.86zM5.41 20L4 18.59l7.72-7.72 1.47 1.35L5.41 20z\"/>\n",
              "  </svg>\n",
              "      </button>\n",
              "      \n",
              "  <style>\n",
              "    .colab-df-container {\n",
              "      display:flex;\n",
              "      flex-wrap:wrap;\n",
              "      gap: 12px;\n",
              "    }\n",
              "\n",
              "    .colab-df-convert {\n",
              "      background-color: #E8F0FE;\n",
              "      border: none;\n",
              "      border-radius: 50%;\n",
              "      cursor: pointer;\n",
              "      display: none;\n",
              "      fill: #1967D2;\n",
              "      height: 32px;\n",
              "      padding: 0 0 0 0;\n",
              "      width: 32px;\n",
              "    }\n",
              "\n",
              "    .colab-df-convert:hover {\n",
              "      background-color: #E2EBFA;\n",
              "      box-shadow: 0px 1px 2px rgba(60, 64, 67, 0.3), 0px 1px 3px 1px rgba(60, 64, 67, 0.15);\n",
              "      fill: #174EA6;\n",
              "    }\n",
              "\n",
              "    [theme=dark] .colab-df-convert {\n",
              "      background-color: #3B4455;\n",
              "      fill: #D2E3FC;\n",
              "    }\n",
              "\n",
              "    [theme=dark] .colab-df-convert:hover {\n",
              "      background-color: #434B5C;\n",
              "      box-shadow: 0px 1px 3px 1px rgba(0, 0, 0, 0.15);\n",
              "      filter: drop-shadow(0px 1px 2px rgba(0, 0, 0, 0.3));\n",
              "      fill: #FFFFFF;\n",
              "    }\n",
              "  </style>\n",
              "\n",
              "      <script>\n",
              "        const buttonEl =\n",
              "          document.querySelector('#df-0d8709cc-cf56-420f-8aea-5a8af3a8d2be button.colab-df-convert');\n",
              "        buttonEl.style.display =\n",
              "          google.colab.kernel.accessAllowed ? 'block' : 'none';\n",
              "\n",
              "        async function convertToInteractive(key) {\n",
              "          const element = document.querySelector('#df-0d8709cc-cf56-420f-8aea-5a8af3a8d2be');\n",
              "          const dataTable =\n",
              "            await google.colab.kernel.invokeFunction('convertToInteractive',\n",
              "                                                     [key], {});\n",
              "          if (!dataTable) return;\n",
              "\n",
              "          const docLinkHtml = 'Like what you see? Visit the ' +\n",
              "            '<a target=\"_blank\" href=https://colab.research.google.com/notebooks/data_table.ipynb>data table notebook</a>'\n",
              "            + ' to learn more about interactive tables.';\n",
              "          element.innerHTML = '';\n",
              "          dataTable['output_type'] = 'display_data';\n",
              "          await google.colab.output.renderOutput(dataTable, element);\n",
              "          const docLink = document.createElement('div');\n",
              "          docLink.innerHTML = docLinkHtml;\n",
              "          element.appendChild(docLink);\n",
              "        }\n",
              "      </script>\n",
              "    </div>\n",
              "  </div>\n",
              "  "
            ]
          },
          "metadata": {},
          "execution_count": 549
        }
      ]
    },
    {
      "cell_type": "code",
      "source": [
        "sns.countplot(x=preds);"
      ],
      "metadata": {
        "colab": {
          "base_uri": "https://localhost:8080/",
          "height": 265
        },
        "id": "bP9e3szwGvDU",
        "outputId": "6eadc6e8-809c-4f20-bbf0-97c5b8521764"
      },
      "execution_count": 550,
      "outputs": [
        {
          "output_type": "display_data",
          "data": {
            "text/plain": [
              "<Figure size 432x288 with 1 Axes>"
            ],
            "image/png": "[encoded data removed]"
          },
          "metadata": {
            "needs_background": "light"
          }
        }
      ]
    },
    {
      "cell_type": "code",
      "source": [],
      "metadata": {
        "id": "sjXjfwJCWCYF"
      },
      "execution_count": 550,
      "outputs": []
    },
    {
      "cell_type": "code",
      "source": [
        "# X_train = train_df\n",
        "X_train = train_df.drop(columns=['Y_Class'])\n",
        "X_train = pd.DataFrame(train_df['Y_Quality'])\n",
        "y_train = train_df['Y_Class']"
      ],
      "metadata": {
        "id": "XyiKQJUeuHOu"
      },
      "execution_count": 551,
      "outputs": []
    },
    {
      "cell_type": "code",
      "source": [
        "X_train.isnull().sum()"
      ],
      "metadata": {
        "colab": {
          "base_uri": "https://localhost:8080/"
        },
        "outputId": "52c88101-fe85-4f38-8b13-5ee25a48b322",
        "id": "Plefo87K5yqD"
      },
      "execution_count": 552,
      "outputs": [
        {
          "output_type": "execute_result",
          "data": {
            "text/plain": [
              "Y_Quality    0\n",
              "dtype: int64"
            ]
          },
          "metadata": {},
          "execution_count": 552
        }
      ]
    },
    {
      "cell_type": "code",
      "source": [
        "X_train = train_df.drop(columns=['Y_Class'])\n",
        "X_train = pd.DataFrame(train_df['Y_Quality'])\n",
        "y_train = train_df['Y_Class']"
      ],
      "metadata": {
        "id": "DoAIburW6xpJ"
      },
      "execution_count": 553,
      "outputs": []
    },
    {
      "cell_type": "code",
      "source": [
        "from sklearn.ensemble import GradientBoostingClassifier\n",
        "\n",
        "GB_model =  GradientBoostingClassifier(random_state=37).fit(X_train, y_train)\n",
        "print('Done.')"
      ],
      "metadata": {
        "colab": {
          "base_uri": "https://localhost:8080/"
        },
        "id": "ov8uVwu2uHfF",
        "outputId": "9cf2b26f-7bac-42fe-c910-5af94a5baa30"
      },
      "execution_count": 554,
      "outputs": [
        {
          "output_type": "stream",
          "name": "stdout",
          "text": [
            "Done.\n"
          ]
        }
      ]
    },
    {
      "cell_type": "code",
      "source": [
        "test_x\n",
        "# test_x = test_x.drop(columns=['LINE//','PRODUCT_CODE'])\n",
        "# test_x = test_x['Y_Quality']  \n",
        "test_x = pd.DataFrame(test_x, columns=['Y_Quality'])\n",
        "# test_x = test_x['Y_Quality'] "
      ],
      "metadata": {
        "id": "T0ovkbQa57OV"
      },
      "execution_count": 555,
      "outputs": []
    },
    {
      "cell_type": "code",
      "source": [
        "test_x = pd.DataFrame(test_x)\n",
        "\n",
        "preds = GB_model.predict(test_x)   \n",
        "print('Done.')   "
      ],
      "metadata": {
        "colab": {
          "base_uri": "https://localhost:8080/"
        },
        "id": "mncvR7m1wE-3",
        "outputId": "4b72844d-f2a6-46d1-fde0-a1edfb3daf02"
      },
      "execution_count": 556,
      "outputs": [
        {
          "output_type": "stream",
          "name": "stdout",
          "text": [
            "Done.\n"
          ]
        }
      ]
    },
    {
      "cell_type": "code",
      "source": [
        "preds"
      ],
      "metadata": {
        "colab": {
          "base_uri": "https://localhost:8080/"
        },
        "id": "GVailz2p8_VT",
        "outputId": "d92258bf-7b56-4277-942b-cf9d96d1ff8c"
      },
      "execution_count": 557,
      "outputs": [
        {
          "output_type": "execute_result",
          "data": {
            "text/plain": [
              "array([1, 2, 1, 1, 2, 2, 2, 1, 1, 2, 2, 2, 2, 1, 1, 1, 2, 1, 1, 2, 1, 2,\n",
              "       1, 2, 1, 2, 2, 1, 1, 1, 1, 2, 1, 1, 2, 2, 2, 1, 2, 1, 2, 2, 1, 1,\n",
              "       1, 1, 1, 1, 1, 1, 1, 1, 1, 1, 2, 1, 1, 1, 1, 1, 1, 2, 1, 1, 1, 2,\n",
              "       1, 1, 2, 1, 1, 1, 1, 1, 2, 2, 1, 1, 2, 2, 1, 2, 2, 2, 2, 2, 1, 1,\n",
              "       1, 1, 2, 2, 2, 2, 1, 2, 2, 2, 1, 2, 1, 2, 1, 2, 2, 2, 2, 1, 2, 1,\n",
              "       2, 1, 1, 2, 2, 2, 2, 1, 1, 2, 1, 1, 2, 2, 1, 1, 2, 2, 1, 1, 2, 1,\n",
              "       1, 1, 2, 2, 2, 2, 2, 1, 2, 1, 1, 2, 2, 1, 2, 2, 1, 1, 1, 2, 1, 2,\n",
              "       1, 1, 1, 1, 2, 1, 2, 2, 1, 2, 1, 2, 1, 1, 1, 2, 2, 1, 2, 1, 1, 1,\n",
              "       2, 2, 1, 2, 2, 1, 1, 2, 1, 1, 1, 2, 1, 2, 1, 2, 1, 2, 1, 2, 1, 1,\n",
              "       2, 1, 2, 1, 2, 1, 2, 2, 2, 1, 1, 2, 1, 1, 1, 2, 2, 1, 1, 2, 1, 2,\n",
              "       1, 2, 2, 1, 1, 1, 1, 1, 2, 1, 1, 1, 2, 2, 2, 1, 1, 1, 2, 1, 1, 2,\n",
              "       1, 2, 2, 2, 1, 1, 2, 2, 2, 2, 2, 2, 2, 2, 1, 1, 2, 1, 2, 1, 1, 2,\n",
              "       2, 1, 1, 1, 1, 1, 1, 1, 2, 1, 1, 1, 1, 1, 1, 1, 2, 2, 2, 2, 2, 2,\n",
              "       1, 2, 1, 1, 1, 1, 2, 2, 1, 1, 1, 2, 2, 2, 2, 1, 1, 1, 1, 1, 2, 1,\n",
              "       1, 1])"
            ]
          },
          "metadata": {},
          "execution_count": 557
        }
      ]
    },
    {
      "cell_type": "code",
      "source": [
        "sns.countplot(x=preds);"
      ],
      "metadata": {
        "colab": {
          "base_uri": "https://localhost:8080/",
          "height": 265
        },
        "id": "5ajeXCsP9Awa",
        "outputId": "15105ab3-69d0-40d9-8677-7255ba7216c8"
      },
      "execution_count": 558,
      "outputs": [
        {
          "output_type": "display_data",
          "data": {
            "text/plain": [
              "<Figure size 432x288 with 1 Axes>"
            ],
            "image/png": "[encoded data removed]"
          },
          "metadata": {
            "needs_background": "light"
          }
        }
      ]
    },
    {
      "cell_type": "code",
      "source": [],
      "metadata": {
        "id": "q5miG4FKZgP8"
      },
      "execution_count": 144,
      "outputs": []
    },
    {
      "cell_type": "code",
      "source": [],
      "metadata": {
        "id": "l9KnrCyaZgWD"
      },
      "execution_count": 144,
      "outputs": []
    },
    {
      "cell_type": "markdown",
      "source": [
        "## 2.2 LGBM [0.5]"
      ],
      "metadata": {
        "id": "E4reyRMdiyQA"
      }
    },
    {
      "cell_type": "code",
      "source": [
        "from lightgbm import LGBMRegressor\n",
        "\n",
        "LGBM_model = LGBMRegressor(random_state=37).fit(X_train, y_train) \n",
        "print('Done.') "
      ],
      "metadata": {
        "colab": {
          "base_uri": "https://localhost:8080/"
        },
        "outputId": "b383ec96-e0c5-4034-f56d-31225c565ad2",
        "id": "JHtmoDYXiyQB"
      },
      "execution_count": 224,
      "outputs": [
        {
          "output_type": "stream",
          "name": "stdout",
          "text": [
            "Done.\n"
          ]
        }
      ]
    },
    {
      "cell_type": "code",
      "source": [
        "preds=LGBM_model.predict(test_x)  \n",
        "print('Done.')"
      ],
      "metadata": {
        "colab": {
          "base_uri": "https://localhost:8080/"
        },
        "outputId": "e1e463a2-501b-472f-90ad-be4628631993",
        "id": "IkvFzh12iyQB"
      },
      "execution_count": 225,
      "outputs": [
        {
          "output_type": "stream",
          "name": "stdout",
          "text": [
            "Done.\n"
          ]
        }
      ]
    },
    {
      "cell_type": "code",
      "source": [
        "test_x['Y_Quality'] = preds\n",
        "test_x  "
      ],
      "metadata": {
        "colab": {
          "base_uri": "https://localhost:8080/",
          "height": 0
        },
        "outputId": "04689c6d-48ce-4d25-9677-02ef6b852fbd",
        "id": "cFIbunxpiyQB"
      },
      "execution_count": 226,
      "outputs": [
        {
          "output_type": "execute_result",
          "data": {
            "text/plain": [
              "     X_1   X_2  X_3   X_4   X_5  X_6   X_7   X_8   X_9  X_10  ...  X_2868  \\\n",
              "0    2.0  94.0  0.0  45.0  10.0  0.0  51.0  10.0  52.0   2.0  ...     0.0   \n",
              "1    2.0  93.0  0.0  45.0  11.0  0.0  45.0  10.0  31.0   2.0  ...     0.0   \n",
              "2    2.0  95.0  0.0  45.0  11.0  0.0  45.0  10.0  31.0   2.0  ...     0.0   \n",
              "3    0.0   0.0  0.0   0.0   0.0  0.0   0.0   0.0   0.0   0.0  ...     0.0   \n",
              "4    0.0   0.0  0.0   0.0   0.0  0.0   0.0   0.0   0.0   0.0  ...     0.0   \n",
              "..   ...   ...  ...   ...   ...  ...   ...   ...   ...   ...  ...     ...   \n",
              "305  2.0  91.0  0.0  45.0  10.0  0.0  51.0  10.0  52.0   2.0  ...     0.0   \n",
              "306  2.0  96.0  0.0  45.0  11.0  0.0  45.0  10.0  31.0   2.0  ...     0.0   \n",
              "307  2.0  91.0  0.0  45.0  10.0  0.0  50.0  10.0  52.0   2.0  ...     0.0   \n",
              "308  2.0  95.0  0.0  45.0  10.0  0.0  51.0  10.0  52.0   2.0  ...     0.0   \n",
              "309  2.0  87.0  0.0  45.0  10.0  0.0  51.0  10.0  52.0   2.0  ...     0.0   \n",
              "\n",
              "     X_2869  X_2870  X_2871  X_2872  X_2873  X_2874  X_2875  line_pcode  \\\n",
              "0       0.0     0.0     0.0     0.0     0.0     0.0     0.0           7   \n",
              "1       0.0     0.0     0.0     0.0     0.0     0.0     0.0           5   \n",
              "2       0.0     0.0     0.0     0.0     0.0     0.0     0.0           5   \n",
              "3       0.0     0.0     0.0     0.0     0.0     0.0     0.0           0   \n",
              "4       0.0     0.0     0.0     0.0     0.0     0.0     0.0           1   \n",
              "..      ...     ...     ...     ...     ...     ...     ...         ...   \n",
              "305     0.0     0.0     0.0     0.0     0.0     0.0     0.0           7   \n",
              "306     0.0     0.0     0.0     0.0     0.0     0.0     0.0           5   \n",
              "307     0.0     0.0     0.0     0.0     0.0     0.0     0.0           7   \n",
              "308     0.0     0.0     0.0     0.0     0.0     0.0     0.0           7   \n",
              "309     0.0     0.0     0.0     0.0     0.0     0.0     0.0           7   \n",
              "\n",
              "     Y_Quality  \n",
              "0     0.531415  \n",
              "1     0.530844  \n",
              "2     0.531456  \n",
              "3     0.524097  \n",
              "4     0.528226  \n",
              "..         ...  \n",
              "305   0.527747  \n",
              "306   0.528078  \n",
              "307   0.527309  \n",
              "308   0.527817  \n",
              "309   0.527303  \n",
              "\n",
              "[310 rows x 2877 columns]"
            ],
            "text/html": [
              "\n",
              "  <div id=\"df-e4edc22a-2a8b-4efc-8ee5-d20270484753\">\n",
              "    <div class=\"colab-df-container\">\n",
              "      <div>\n",
              "<style scoped>\n",
              "    .dataframe tbody tr th:only-of-type {\n",
              "        vertical-align: middle;\n",
              "    }\n",
              "\n",
              "    .dataframe tbody tr th {\n",
              "        vertical-align: top;\n",
              "    }\n",
              "\n",
              "    .dataframe thead th {\n",
              "        text-align: right;\n",
              "    }\n",
              "</style>\n",
              "<table border=\"1\" class=\"dataframe\">\n",
              "  <thead>\n",
              "    <tr style=\"text-align: right;\">\n",
              "      <th></th>\n",
              "      <th>X_1</th>\n",
              "      <th>X_2</th>\n",
              "      <th>X_3</th>\n",
              "      <th>X_4</th>\n",
              "      <th>X_5</th>\n",
              "      <th>X_6</th>\n",
              "      <th>X_7</th>\n",
              "      <th>X_8</th>\n",
              "      <th>X_9</th>\n",
              "      <th>X_10</th>\n",
              "      <th>...</th>\n",
              "      <th>X_2868</th>\n",
              "      <th>X_2869</th>\n",
              "      <th>X_2870</th>\n",
              "      <th>X_2871</th>\n",
              "      <th>X_2872</th>\n",
              "      <th>X_2873</th>\n",
              "      <th>X_2874</th>\n",
              "      <th>X_2875</th>\n",
              "      <th>line_pcode</th>\n",
              "      <th>Y_Quality</th>\n",
              "    </tr>\n",
              "  </thead>\n",
              "  <tbody>\n",
              "    <tr>\n",
              "      <th>0</th>\n",
              "      <td>2.0</td>\n",
              "      <td>94.0</td>\n",
              "      <td>0.0</td>\n",
              "      <td>45.0</td>\n",
              "      <td>10.0</td>\n",
              "      <td>0.0</td>\n",
              "      <td>51.0</td>\n",
              "      <td>10.0</td>\n",
              "      <td>52.0</td>\n",
              "      <td>2.0</td>\n",
              "      <td>...</td>\n",
              "      <td>0.0</td>\n",
              "      <td>0.0</td>\n",
              "      <td>0.0</td>\n",
              "      <td>0.0</td>\n",
              "      <td>0.0</td>\n",
              "      <td>0.0</td>\n",
              "      <td>0.0</td>\n",
              "      <td>0.0</td>\n",
              "      <td>7</td>\n",
              "      <td>0.531415</td>\n",
              "    </tr>\n",
              "    <tr>\n",
              "      <th>1</th>\n",
              "      <td>2.0</td>\n",
              "      <td>93.0</td>\n",
              "      <td>0.0</td>\n",
              "      <td>45.0</td>\n",
              "      <td>11.0</td>\n",
              "      <td>0.0</td>\n",
              "      <td>45.0</td>\n",
              "      <td>10.0</td>\n",
              "      <td>31.0</td>\n",
              "      <td>2.0</td>\n",
              "      <td>...</td>\n",
              "      <td>0.0</td>\n",
              "      <td>0.0</td>\n",
              "      <td>0.0</td>\n",
              "      <td>0.0</td>\n",
              "      <td>0.0</td>\n",
              "      <td>0.0</td>\n",
              "      <td>0.0</td>\n",
              "      <td>0.0</td>\n",
              "      <td>5</td>\n",
              "      <td>0.530844</td>\n",
              "    </tr>\n",
              "    <tr>\n",
              "      <th>2</th>\n",
              "      <td>2.0</td>\n",
              "      <td>95.0</td>\n",
              "      <td>0.0</td>\n",
              "      <td>45.0</td>\n",
              "      <td>11.0</td>\n",
              "      <td>0.0</td>\n",
              "      <td>45.0</td>\n",
              "      <td>10.0</td>\n",
              "      <td>31.0</td>\n",
              "      <td>2.0</td>\n",
              "      <td>...</td>\n",
              "      <td>0.0</td>\n",
              "      <td>0.0</td>\n",
              "      <td>0.0</td>\n",
              "      <td>0.0</td>\n",
              "      <td>0.0</td>\n",
              "      <td>0.0</td>\n",
              "      <td>0.0</td>\n",
              "      <td>0.0</td>\n",
              "      <td>5</td>\n",
              "      <td>0.531456</td>\n",
              "    </tr>\n",
              "    <tr>\n",
              "      <th>3</th>\n",
              "      <td>0.0</td>\n",
              "      <td>0.0</td>\n",
              "      <td>0.0</td>\n",
              "      <td>0.0</td>\n",
              "      <td>0.0</td>\n",
              "      <td>0.0</td>\n",
              "      <td>0.0</td>\n",
              "      <td>0.0</td>\n",
              "      <td>0.0</td>\n",
              "      <td>0.0</td>\n",
              "      <td>...</td>\n",
              "      <td>0.0</td>\n",
              "      <td>0.0</td>\n",
              "      <td>0.0</td>\n",
              "      <td>0.0</td>\n",
              "      <td>0.0</td>\n",
              "      <td>0.0</td>\n",
              "      <td>0.0</td>\n",
              "      <td>0.0</td>\n",
              "      <td>0</td>\n",
              "      <td>0.524097</td>\n",
              "    </tr>\n",
              "    <tr>\n",
              "      <th>4</th>\n",
              "      <td>0.0</td>\n",
              "      <td>0.0</td>\n",
              "      <td>0.0</td>\n",
              "      <td>0.0</td>\n",
              "      <td>0.0</td>\n",
              "      <td>0.0</td>\n",
              "      <td>0.0</td>\n",
              "      <td>0.0</td>\n",
              "      <td>0.0</td>\n",
              "      <td>0.0</td>\n",
              "      <td>...</td>\n",
              "      <td>0.0</td>\n",
              "      <td>0.0</td>\n",
              "      <td>0.0</td>\n",
              "      <td>0.0</td>\n",
              "      <td>0.0</td>\n",
              "      <td>0.0</td>\n",
              "      <td>0.0</td>\n",
              "      <td>0.0</td>\n",
              "      <td>1</td>\n",
              "      <td>0.528226</td>\n",
              "    </tr>\n",
              "    <tr>\n",
              "      <th>...</th>\n",
              "      <td>...</td>\n",
              "      <td>...</td>\n",
              "      <td>...</td>\n",
              "      <td>...</td>\n",
              "      <td>...</td>\n",
              "      <td>...</td>\n",
              "      <td>...</td>\n",
              "      <td>...</td>\n",
              "      <td>...</td>\n",
              "      <td>...</td>\n",
              "      <td>...</td>\n",
              "      <td>...</td>\n",
              "      <td>...</td>\n",
              "      <td>...</td>\n",
              "      <td>...</td>\n",
              "      <td>...</td>\n",
              "      <td>...</td>\n",
              "      <td>...</td>\n",
              "      <td>...</td>\n",
              "      <td>...</td>\n",
              "      <td>...</td>\n",
              "    </tr>\n",
              "    <tr>\n",
              "      <th>305</th>\n",
              "      <td>2.0</td>\n",
              "      <td>91.0</td>\n",
              "      <td>0.0</td>\n",
              "      <td>45.0</td>\n",
              "      <td>10.0</td>\n",
              "      <td>0.0</td>\n",
              "      <td>51.0</td>\n",
              "      <td>10.0</td>\n",
              "      <td>52.0</td>\n",
              "      <td>2.0</td>\n",
              "      <td>...</td>\n",
              "      <td>0.0</td>\n",
              "      <td>0.0</td>\n",
              "      <td>0.0</td>\n",
              "      <td>0.0</td>\n",
              "      <td>0.0</td>\n",
              "      <td>0.0</td>\n",
              "      <td>0.0</td>\n",
              "      <td>0.0</td>\n",
              "      <td>7</td>\n",
              "      <td>0.527747</td>\n",
              "    </tr>\n",
              "    <tr>\n",
              "      <th>306</th>\n",
              "      <td>2.0</td>\n",
              "      <td>96.0</td>\n",
              "      <td>0.0</td>\n",
              "      <td>45.0</td>\n",
              "      <td>11.0</td>\n",
              "      <td>0.0</td>\n",
              "      <td>45.0</td>\n",
              "      <td>10.0</td>\n",
              "      <td>31.0</td>\n",
              "      <td>2.0</td>\n",
              "      <td>...</td>\n",
              "      <td>0.0</td>\n",
              "      <td>0.0</td>\n",
              "      <td>0.0</td>\n",
              "      <td>0.0</td>\n",
              "      <td>0.0</td>\n",
              "      <td>0.0</td>\n",
              "      <td>0.0</td>\n",
              "      <td>0.0</td>\n",
              "      <td>5</td>\n",
              "      <td>0.528078</td>\n",
              "    </tr>\n",
              "    <tr>\n",
              "      <th>307</th>\n",
              "      <td>2.0</td>\n",
              "      <td>91.0</td>\n",
              "      <td>0.0</td>\n",
              "      <td>45.0</td>\n",
              "      <td>10.0</td>\n",
              "      <td>0.0</td>\n",
              "      <td>50.0</td>\n",
              "      <td>10.0</td>\n",
              "      <td>52.0</td>\n",
              "      <td>2.0</td>\n",
              "      <td>...</td>\n",
              "      <td>0.0</td>\n",
              "      <td>0.0</td>\n",
              "      <td>0.0</td>\n",
              "      <td>0.0</td>\n",
              "      <td>0.0</td>\n",
              "      <td>0.0</td>\n",
              "      <td>0.0</td>\n",
              "      <td>0.0</td>\n",
              "      <td>7</td>\n",
              "      <td>0.527309</td>\n",
              "    </tr>\n",
              "    <tr>\n",
              "      <th>308</th>\n",
              "      <td>2.0</td>\n",
              "      <td>95.0</td>\n",
              "      <td>0.0</td>\n",
              "      <td>45.0</td>\n",
              "      <td>10.0</td>\n",
              "      <td>0.0</td>\n",
              "      <td>51.0</td>\n",
              "      <td>10.0</td>\n",
              "      <td>52.0</td>\n",
              "      <td>2.0</td>\n",
              "      <td>...</td>\n",
              "      <td>0.0</td>\n",
              "      <td>0.0</td>\n",
              "      <td>0.0</td>\n",
              "      <td>0.0</td>\n",
              "      <td>0.0</td>\n",
              "      <td>0.0</td>\n",
              "      <td>0.0</td>\n",
              "      <td>0.0</td>\n",
              "      <td>7</td>\n",
              "      <td>0.527817</td>\n",
              "    </tr>\n",
              "    <tr>\n",
              "      <th>309</th>\n",
              "      <td>2.0</td>\n",
              "      <td>87.0</td>\n",
              "      <td>0.0</td>\n",
              "      <td>45.0</td>\n",
              "      <td>10.0</td>\n",
              "      <td>0.0</td>\n",
              "      <td>51.0</td>\n",
              "      <td>10.0</td>\n",
              "      <td>52.0</td>\n",
              "      <td>2.0</td>\n",
              "      <td>...</td>\n",
              "      <td>0.0</td>\n",
              "      <td>0.0</td>\n",
              "      <td>0.0</td>\n",
              "      <td>0.0</td>\n",
              "      <td>0.0</td>\n",
              "      <td>0.0</td>\n",
              "      <td>0.0</td>\n",
              "      <td>0.0</td>\n",
              "      <td>7</td>\n",
              "      <td>0.527303</td>\n",
              "    </tr>\n",
              "  </tbody>\n",
              "</table>\n",
              "<p>310 rows × 2877 columns</p>\n",
              "</div>\n",
              "      <button class=\"colab-df-convert\" onclick=\"convertToInteractive('df-e4edc22a-2a8b-4efc-8ee5-d20270484753')\"\n",
              "              title=\"Convert this dataframe to an interactive table.\"\n",
              "              style=\"display:none;\">\n",
              "        \n",
              "  <svg xmlns=\"http://www.w3.org/2000/svg\" height=\"24px\"viewBox=\"0 0 24 24\"\n",
              "       width=\"24px\">\n",
              "    <path d=\"M0 0h24v24H0V0z\" fill=\"none\"/>\n",
              "    <path d=\"M18.56 5.44l.94 2.06.94-2.06 2.06-.94-2.06-.94-.94-2.06-.94 2.06-2.06.94zm-11 1L8.5 8.5l.94-2.06 2.06-.94-2.06-.94L8.5 2.5l-.94 2.06-2.06.94zm10 10l.94 2.06.94-2.06 2.06-.94-2.06-.94-.94-2.06-.94 2.06-2.06.94z\"/><path d=\"M17.41 7.96l-1.37-1.37c-.4-.4-.92-.59-1.43-.59-.52 0-1.04.2-1.43.59L10.3 9.45l-7.72 7.72c-.78.78-.78 2.05 0 2.83L4 21.41c.39.39.9.59 1.41.59.51 0 1.02-.2 1.41-.59l7.78-7.78 2.81-2.81c.8-.78.8-2.07 0-2.86zM5.41 20L4 18.59l7.72-7.72 1.47 1.35L5.41 20z\"/>\n",
              "  </svg>\n",
              "      </button>\n",
              "      \n",
              "  <style>\n",
              "    .colab-df-container {\n",
              "      display:flex;\n",
              "      flex-wrap:wrap;\n",
              "      gap: 12px;\n",
              "    }\n",
              "\n",
              "    .colab-df-convert {\n",
              "      background-color: #E8F0FE;\n",
              "      border: none;\n",
              "      border-radius: 50%;\n",
              "      cursor: pointer;\n",
              "      display: none;\n",
              "      fill: #1967D2;\n",
              "      height: 32px;\n",
              "      padding: 0 0 0 0;\n",
              "      width: 32px;\n",
              "    }\n",
              "\n",
              "    .colab-df-convert:hover {\n",
              "      background-color: #E2EBFA;\n",
              "      box-shadow: 0px 1px 2px rgba(60, 64, 67, 0.3), 0px 1px 3px 1px rgba(60, 64, 67, 0.15);\n",
              "      fill: #174EA6;\n",
              "    }\n",
              "\n",
              "    [theme=dark] .colab-df-convert {\n",
              "      background-color: #3B4455;\n",
              "      fill: #D2E3FC;\n",
              "    }\n",
              "\n",
              "    [theme=dark] .colab-df-convert:hover {\n",
              "      background-color: #434B5C;\n",
              "      box-shadow: 0px 1px 3px 1px rgba(0, 0, 0, 0.15);\n",
              "      filter: drop-shadow(0px 1px 2px rgba(0, 0, 0, 0.3));\n",
              "      fill: #FFFFFF;\n",
              "    }\n",
              "  </style>\n",
              "\n",
              "      <script>\n",
              "        const buttonEl =\n",
              "          document.querySelector('#df-e4edc22a-2a8b-4efc-8ee5-d20270484753 button.colab-df-convert');\n",
              "        buttonEl.style.display =\n",
              "          google.colab.kernel.accessAllowed ? 'block' : 'none';\n",
              "\n",
              "        async function convertToInteractive(key) {\n",
              "          const element = document.querySelector('#df-e4edc22a-2a8b-4efc-8ee5-d20270484753');\n",
              "          const dataTable =\n",
              "            await google.colab.kernel.invokeFunction('convertToInteractive',\n",
              "                                                     [key], {});\n",
              "          if (!dataTable) return;\n",
              "\n",
              "          const docLinkHtml = 'Like what you see? Visit the ' +\n",
              "            '<a target=\"_blank\" href=https://colab.research.google.com/notebooks/data_table.ipynb>data table notebook</a>'\n",
              "            + ' to learn more about interactive tables.';\n",
              "          element.innerHTML = '';\n",
              "          dataTable['output_type'] = 'display_data';\n",
              "          await google.colab.output.renderOutput(dataTable, element);\n",
              "          const docLink = document.createElement('div');\n",
              "          docLink.innerHTML = docLinkHtml;\n",
              "          element.appendChild(docLink);\n",
              "        }\n",
              "      </script>\n",
              "    </div>\n",
              "  </div>\n",
              "  "
            ]
          },
          "metadata": {},
          "execution_count": 226
        }
      ]
    },
    {
      "cell_type": "code",
      "source": [
        "sns.countplot(x=preds);"
      ],
      "metadata": {
        "colab": {
          "base_uri": "https://localhost:8080/",
          "height": 0
        },
        "outputId": "ab473a9c-4837-4c41-fb06-4edf6f6a7f6e",
        "id": "2l1zCM2FiyQB"
      },
      "execution_count": 227,
      "outputs": [
        {
          "output_type": "display_data",
          "data": {
            "text/plain": [
              "<Figure size 432x288 with 1 Axes>"
            ],
            "image/png": "[encoded data removed]"
          },
          "metadata": {
            "needs_background": "light"
          }
        }
      ]
    },
    {
      "cell_type": "code",
      "source": [
        "# X_train = train_df\n",
        "X_train = train_df.drop(columns=['Y_Class'])\n",
        "X_train = pd.DataFrame(train_df['Y_Quality'])\n",
        "y_train = train_df['Y_Class']"
      ],
      "metadata": {
        "id": "Bkd-DzIniyQC"
      },
      "execution_count": 228,
      "outputs": []
    },
    {
      "cell_type": "code",
      "source": [
        "X_train.isnull().sum()"
      ],
      "metadata": {
        "colab": {
          "base_uri": "https://localhost:8080/"
        },
        "outputId": "be39bf31-e27d-4609-9616-04ff88e0d0e9",
        "id": "RZH1smGFiyQC"
      },
      "execution_count": 229,
      "outputs": [
        {
          "output_type": "execute_result",
          "data": {
            "text/plain": [
              "Y_Quality    0\n",
              "dtype: int64"
            ]
          },
          "metadata": {},
          "execution_count": 229
        }
      ]
    },
    {
      "cell_type": "code",
      "source": [
        "from lightgbm import LGBMClassifier \n",
        "\n",
        "LGBM_model =  LGBMClassifier(random_state=37).fit(X_train, y_train)\n",
        "print('Done.')"
      ],
      "metadata": {
        "colab": {
          "base_uri": "https://localhost:8080/"
        },
        "outputId": "208a91f4-262e-44ff-ade2-9346fd12830d",
        "id": "8bo1XHm1iyQC"
      },
      "execution_count": 230,
      "outputs": [
        {
          "output_type": "stream",
          "name": "stdout",
          "text": [
            "Done.\n"
          ]
        }
      ]
    },
    {
      "cell_type": "code",
      "source": [
        "test_x\n",
        "# test_x = test_x.drop(columns=['LINE//','PRODUCT_CODE'])\n",
        "# test_x = test_x['Y_Quality']  \n",
        "test_x = pd.DataFrame(test_x, columns=['Y_Quality'])\n",
        "# test_x = test_x['Y_Quality'] "
      ],
      "metadata": {
        "id": "Xfk0Bff6iyQC"
      },
      "execution_count": 231,
      "outputs": []
    },
    {
      "cell_type": "code",
      "source": [
        "test_x = pd.DataFrame(test_x)\n",
        "\n",
        "preds = RF.predict(test_x)   \n",
        "print('Done.')   "
      ],
      "metadata": {
        "colab": {
          "base_uri": "https://localhost:8080/"
        },
        "outputId": "beaddb3d-fe70-4f57-ff33-6470aa0bc049",
        "id": "mg33TKrciyQD"
      },
      "execution_count": 232,
      "outputs": [
        {
          "output_type": "stream",
          "name": "stdout",
          "text": [
            "Done.\n"
          ]
        }
      ]
    },
    {
      "cell_type": "code",
      "source": [
        "preds"
      ],
      "metadata": {
        "colab": {
          "base_uri": "https://localhost:8080/"
        },
        "outputId": "3b87eaa6-105d-4937-e107-571f44be5a6a",
        "id": "nXoNAT8IiyQD"
      },
      "execution_count": 233,
      "outputs": [
        {
          "output_type": "execute_result",
          "data": {
            "text/plain": [
              "array([1., 1., 1., 0., 1., 1., 2., 1., 0., 2., 1., 2., 2., 1., 0., 0., 1.,\n",
              "       1., 1., 1., 0., 1., 0., 0., 0., 0., 1., 0., 0., 1., 0., 1., 0., 1.,\n",
              "       1., 0., 1., 0., 2., 0., 1., 0., 0., 1., 1., 1., 1., 0., 1., 0., 1.,\n",
              "       0., 0., 0., 0., 0., 1., 1., 0., 0., 0., 0., 1., 1., 0., 0., 0., 1.,\n",
              "       1., 1., 1., 0., 1., 1., 1., 1., 2., 1., 2., 1., 1., 1., 1., 1., 1.,\n",
              "       1., 0., 1., 0., 0., 1., 1., 1., 1., 1., 1., 1., 1., 1., 1., 1., 1.,\n",
              "       1., 1., 1., 1., 1., 1., 1., 1., 1., 1., 1., 1., 2., 2., 1., 0., 1.,\n",
              "       1., 1., 1., 1., 1., 1., 1., 1., 1., 1., 1., 1., 1., 1., 1., 1., 1.,\n",
              "       1., 1., 1., 1., 1., 0., 1., 2., 1., 1., 1., 1., 1., 1., 1., 1., 1.,\n",
              "       1., 1., 1., 1., 1., 1., 1., 2., 2., 1., 2., 1., 1., 1., 1., 1., 2.,\n",
              "       1., 1., 2., 1., 2., 1., 2., 2., 1., 2., 2., 1., 1., 2., 1., 1., 1.,\n",
              "       2., 1., 2., 1., 2., 1., 2., 1., 1., 1., 1., 1., 1., 1., 1., 1., 1.,\n",
              "       2., 2., 1., 1., 1., 2., 1., 1., 1., 1., 1., 1., 1., 2., 1., 2., 1.,\n",
              "       1., 1., 1., 1., 1., 1., 1., 1., 1., 1., 1., 2., 1., 1., 1., 1., 1.,\n",
              "       1., 1., 1., 1., 1., 1., 1., 1., 1., 1., 1., 1., 1., 1., 1., 1., 1.,\n",
              "       1., 1., 1., 1., 1., 2., 1., 1., 1., 1., 1., 1., 1., 1., 1., 1., 1.,\n",
              "       1., 1., 1., 1., 1., 1., 1., 1., 1., 1., 1., 1., 1., 1., 1., 1., 1.,\n",
              "       1., 1., 1., 1., 1., 0., 1., 1., 1., 1., 1., 1., 1., 1., 1., 1., 1.,\n",
              "       1., 1., 1., 1.])"
            ]
          },
          "metadata": {},
          "execution_count": 233
        }
      ]
    },
    {
      "cell_type": "code",
      "source": [
        "sns.countplot(x=preds);"
      ],
      "metadata": {
        "colab": {
          "base_uri": "https://localhost:8080/",
          "height": 0
        },
        "outputId": "8c89c23f-2d93-45ff-9827-3825e48cba0a",
        "id": "6pqwzfvGiyQD"
      },
      "execution_count": 234,
      "outputs": [
        {
          "output_type": "display_data",
          "data": {
            "text/plain": [
              "<Figure size 432x288 with 1 Axes>"
            ],
            "image/png": "[encoded data removed]"
          },
          "metadata": {
            "needs_background": "light"
          }
        }
      ]
    },
    {
      "cell_type": "code",
      "source": [],
      "metadata": {
        "id": "p6NCz8FkmGAX"
      },
      "execution_count": null,
      "outputs": []
    },
    {
      "cell_type": "markdown",
      "source": [
        "## 2.3 XGBoost [BAD]"
      ],
      "metadata": {
        "id": "37DAV5FriyQD"
      }
    },
    {
      "cell_type": "code",
      "source": [
        "from xgboost import XGBRegressor\n",
        "\n",
        "XGB_model = XGBRegressor(random_state=37).fit(X_train, y_train) \n",
        "print('Done.') "
      ],
      "metadata": {
        "colab": {
          "base_uri": "https://localhost:8080/"
        },
        "outputId": "f3b57215-7ac9-4d7d-f15e-57afb615aae8",
        "id": "loABUoxqlPnx"
      },
      "execution_count": 266,
      "outputs": [
        {
          "output_type": "stream",
          "name": "stdout",
          "text": [
            "[12:12:21] WARNING: /workspace/src/objective/regression_obj.cu:152: reg:linear is now deprecated in favor of reg:squarederror.\n",
            "Done.\n"
          ]
        }
      ]
    },
    {
      "cell_type": "code",
      "source": [
        "preds=XGB_model.predict(test_x)  \n",
        "print('Done.')"
      ],
      "metadata": {
        "colab": {
          "base_uri": "https://localhost:8080/"
        },
        "outputId": "3bfaca71-3d3f-482c-ddd4-c4dacfa1b5fe",
        "id": "Mi39v4bWlPnx"
      },
      "execution_count": 267,
      "outputs": [
        {
          "output_type": "stream",
          "name": "stdout",
          "text": [
            "Done.\n"
          ]
        }
      ]
    },
    {
      "cell_type": "code",
      "source": [
        "test_x['Y_Quality'] = preds\n",
        "test_x  "
      ],
      "metadata": {
        "colab": {
          "base_uri": "https://localhost:8080/",
          "height": 488
        },
        "outputId": "bb6ca2a6-e0b1-4f08-a32e-d71f26669e84",
        "id": "H7XKB3_RlPnx"
      },
      "execution_count": 268,
      "outputs": [
        {
          "output_type": "execute_result",
          "data": {
            "text/plain": [
              "          X_1       X_2  X_3   X_4        X_5  X_6        X_7        X_8  \\\n",
              "0    2.000000  94.00000  0.0  45.0  10.000000  0.0  51.000000  10.000000   \n",
              "1    2.000000  93.00000  0.0  45.0  11.000000  0.0  45.000000  10.000000   \n",
              "2    2.000000  95.00000  0.0  45.0  11.000000  0.0  45.000000  10.000000   \n",
              "3    4.337449  94.44856  0.0  45.0  10.271605  0.0  48.485597  10.012346   \n",
              "4    4.337449  94.44856  0.0  45.0  10.271605  0.0  48.485597  10.012346   \n",
              "..        ...       ...  ...   ...        ...  ...        ...        ...   \n",
              "305  2.000000  91.00000  0.0  45.0  10.000000  0.0  51.000000  10.000000   \n",
              "306  2.000000  96.00000  0.0  45.0  11.000000  0.0  45.000000  10.000000   \n",
              "307  2.000000  91.00000  0.0  45.0  10.000000  0.0  50.000000  10.000000   \n",
              "308  2.000000  95.00000  0.0  45.0  10.000000  0.0  51.000000  10.000000   \n",
              "309  2.000000  87.00000  0.0  45.0  10.000000  0.0  51.000000  10.000000   \n",
              "\n",
              "           X_9  X_10  ...     X_2868     X_2869     X_2870    X_2871  \\\n",
              "0    52.000000   2.0  ...  49.994412  54.202353  63.806176  0.974359   \n",
              "1    31.000000   2.0  ...  49.994412  54.202353  63.806176  0.974359   \n",
              "2    31.000000   2.0  ...  49.994412  54.202353  63.806176  0.974359   \n",
              "3    42.407407   2.0  ...  49.994412  54.202353  63.806176  0.974359   \n",
              "4    42.407407   2.0  ...  49.994412  54.202353  63.806176  0.974359   \n",
              "..         ...   ...  ...        ...        ...        ...       ...   \n",
              "305  52.000000   2.0  ...  49.994412  54.202353  63.806176  0.974359   \n",
              "306  31.000000   2.0  ...  49.994412  54.202353  63.806176  0.974359   \n",
              "307  52.000000   2.0  ...  49.994412  54.202353  63.806176  0.974359   \n",
              "308  52.000000   2.0  ...  49.994412  54.202353  63.806176  0.974359   \n",
              "309  52.000000   2.0  ...  49.994412  54.202353  63.806176  0.974359   \n",
              "\n",
              "         X_2872      X_2873  X_2874      X_2875  line_pcode  Y_Quality  \n",
              "0    247.988889  251.888889   243.3  228.844444           7   0.524482  \n",
              "1    247.988889  251.888889   243.3  228.844444           5   0.527027  \n",
              "2    247.988889  251.888889   243.3  228.844444           5   0.528316  \n",
              "3    247.988889  251.888889   243.3  228.844444           0   0.524518  \n",
              "4    247.988889  251.888889   243.3  228.844444           1   0.525997  \n",
              "..          ...         ...     ...         ...         ...        ...  \n",
              "305  247.988889  251.888889   243.3  228.844444           7   0.523075  \n",
              "306  247.988889  251.888889   243.3  228.844444           5   0.522320  \n",
              "307  247.988889  251.888889   243.3  228.844444           7   0.523158  \n",
              "308  247.988889  251.888889   243.3  228.844444           7   0.521964  \n",
              "309  247.988889  251.888889   243.3  228.844444           7   0.522379  \n",
              "\n",
              "[310 rows x 2877 columns]"
            ],
            "text/html": [
              "\n",
              "  <div id=\"df-94bf40b6-f6ce-4227-b6b4-12d9e5921df4\">\n",
              "    <div class=\"colab-df-container\">\n",
              "      <div>\n",
              "<style scoped>\n",
              "    .dataframe tbody tr th:only-of-type {\n",
              "        vertical-align: middle;\n",
              "    }\n",
              "\n",
              "    .dataframe tbody tr th {\n",
              "        vertical-align: top;\n",
              "    }\n",
              "\n",
              "    .dataframe thead th {\n",
              "        text-align: right;\n",
              "    }\n",
              "</style>\n",
              "<table border=\"1\" class=\"dataframe\">\n",
              "  <thead>\n",
              "    <tr style=\"text-align: right;\">\n",
              "      <th></th>\n",
              "      <th>X_1</th>\n",
              "      <th>X_2</th>\n",
              "      <th>X_3</th>\n",
              "      <th>X_4</th>\n",
              "      <th>X_5</th>\n",
              "      <th>X_6</th>\n",
              "      <th>X_7</th>\n",
              "      <th>X_8</th>\n",
              "      <th>X_9</th>\n",
              "      <th>X_10</th>\n",
              "      <th>...</th>\n",
              "      <th>X_2868</th>\n",
              "      <th>X_2869</th>\n",
              "      <th>X_2870</th>\n",
              "      <th>X_2871</th>\n",
              "      <th>X_2872</th>\n",
              "      <th>X_2873</th>\n",
              "      <th>X_2874</th>\n",
              "      <th>X_2875</th>\n",
              "      <th>line_pcode</th>\n",
              "      <th>Y_Quality</th>\n",
              "    </tr>\n",
              "  </thead>\n",
              "  <tbody>\n",
              "    <tr>\n",
              "      <th>0</th>\n",
              "      <td>2.000000</td>\n",
              "      <td>94.00000</td>\n",
              "      <td>0.0</td>\n",
              "      <td>45.0</td>\n",
              "      <td>10.000000</td>\n",
              "      <td>0.0</td>\n",
              "      <td>51.000000</td>\n",
              "      <td>10.000000</td>\n",
              "      <td>52.000000</td>\n",
              "      <td>2.0</td>\n",
              "      <td>...</td>\n",
              "      <td>49.994412</td>\n",
              "      <td>54.202353</td>\n",
              "      <td>63.806176</td>\n",
              "      <td>0.974359</td>\n",
              "      <td>247.988889</td>\n",
              "      <td>251.888889</td>\n",
              "      <td>243.3</td>\n",
              "      <td>228.844444</td>\n",
              "      <td>7</td>\n",
              "      <td>0.524482</td>\n",
              "    </tr>\n",
              "    <tr>\n",
              "      <th>1</th>\n",
              "      <td>2.000000</td>\n",
              "      <td>93.00000</td>\n",
              "      <td>0.0</td>\n",
              "      <td>45.0</td>\n",
              "      <td>11.000000</td>\n",
              "      <td>0.0</td>\n",
              "      <td>45.000000</td>\n",
              "      <td>10.000000</td>\n",
              "      <td>31.000000</td>\n",
              "      <td>2.0</td>\n",
              "      <td>...</td>\n",
              "      <td>49.994412</td>\n",
              "      <td>54.202353</td>\n",
              "      <td>63.806176</td>\n",
              "      <td>0.974359</td>\n",
              "      <td>247.988889</td>\n",
              "      <td>251.888889</td>\n",
              "      <td>243.3</td>\n",
              "      <td>228.844444</td>\n",
              "      <td>5</td>\n",
              "      <td>0.527027</td>\n",
              "    </tr>\n",
              "    <tr>\n",
              "      <th>2</th>\n",
              "      <td>2.000000</td>\n",
              "      <td>95.00000</td>\n",
              "      <td>0.0</td>\n",
              "      <td>45.0</td>\n",
              "      <td>11.000000</td>\n",
              "      <td>0.0</td>\n",
              "      <td>45.000000</td>\n",
              "      <td>10.000000</td>\n",
              "      <td>31.000000</td>\n",
              "      <td>2.0</td>\n",
              "      <td>...</td>\n",
              "      <td>49.994412</td>\n",
              "      <td>54.202353</td>\n",
              "      <td>63.806176</td>\n",
              "      <td>0.974359</td>\n",
              "      <td>247.988889</td>\n",
              "      <td>251.888889</td>\n",
              "      <td>243.3</td>\n",
              "      <td>228.844444</td>\n",
              "      <td>5</td>\n",
              "      <td>0.528316</td>\n",
              "    </tr>\n",
              "    <tr>\n",
              "      <th>3</th>\n",
              "      <td>4.337449</td>\n",
              "      <td>94.44856</td>\n",
              "      <td>0.0</td>\n",
              "      <td>45.0</td>\n",
              "      <td>10.271605</td>\n",
              "      <td>0.0</td>\n",
              "      <td>48.485597</td>\n",
              "      <td>10.012346</td>\n",
              "      <td>42.407407</td>\n",
              "      <td>2.0</td>\n",
              "      <td>...</td>\n",
              "      <td>49.994412</td>\n",
              "      <td>54.202353</td>\n",
              "      <td>63.806176</td>\n",
              "      <td>0.974359</td>\n",
              "      <td>247.988889</td>\n",
              "      <td>251.888889</td>\n",
              "      <td>243.3</td>\n",
              "      <td>228.844444</td>\n",
              "      <td>0</td>\n",
              "      <td>0.524518</td>\n",
              "    </tr>\n",
              "    <tr>\n",
              "      <th>4</th>\n",
              "      <td>4.337449</td>\n",
              "      <td>94.44856</td>\n",
              "      <td>0.0</td>\n",
              "      <td>45.0</td>\n",
              "      <td>10.271605</td>\n",
              "      <td>0.0</td>\n",
              "      <td>48.485597</td>\n",
              "      <td>10.012346</td>\n",
              "      <td>42.407407</td>\n",
              "      <td>2.0</td>\n",
              "      <td>...</td>\n",
              "      <td>49.994412</td>\n",
              "      <td>54.202353</td>\n",
              "      <td>63.806176</td>\n",
              "      <td>0.974359</td>\n",
              "      <td>247.988889</td>\n",
              "      <td>251.888889</td>\n",
              "      <td>243.3</td>\n",
              "      <td>228.844444</td>\n",
              "      <td>1</td>\n",
              "      <td>0.525997</td>\n",
              "    </tr>\n",
              "    <tr>\n",
              "      <th>...</th>\n",
              "      <td>...</td>\n",
              "      <td>...</td>\n",
              "      <td>...</td>\n",
              "      <td>...</td>\n",
              "      <td>...</td>\n",
              "      <td>...</td>\n",
              "      <td>...</td>\n",
              "      <td>...</td>\n",
              "      <td>...</td>\n",
              "      <td>...</td>\n",
              "      <td>...</td>\n",
              "      <td>...</td>\n",
              "      <td>...</td>\n",
              "      <td>...</td>\n",
              "      <td>...</td>\n",
              "      <td>...</td>\n",
              "      <td>...</td>\n",
              "      <td>...</td>\n",
              "      <td>...</td>\n",
              "      <td>...</td>\n",
              "      <td>...</td>\n",
              "    </tr>\n",
              "    <tr>\n",
              "      <th>305</th>\n",
              "      <td>2.000000</td>\n",
              "      <td>91.00000</td>\n",
              "      <td>0.0</td>\n",
              "      <td>45.0</td>\n",
              "      <td>10.000000</td>\n",
              "      <td>0.0</td>\n",
              "      <td>51.000000</td>\n",
              "      <td>10.000000</td>\n",
              "      <td>52.000000</td>\n",
              "      <td>2.0</td>\n",
              "      <td>...</td>\n",
              "      <td>49.994412</td>\n",
              "      <td>54.202353</td>\n",
              "      <td>63.806176</td>\n",
              "      <td>0.974359</td>\n",
              "      <td>247.988889</td>\n",
              "      <td>251.888889</td>\n",
              "      <td>243.3</td>\n",
              "      <td>228.844444</td>\n",
              "      <td>7</td>\n",
              "      <td>0.523075</td>\n",
              "    </tr>\n",
              "    <tr>\n",
              "      <th>306</th>\n",
              "      <td>2.000000</td>\n",
              "      <td>96.00000</td>\n",
              "      <td>0.0</td>\n",
              "      <td>45.0</td>\n",
              "      <td>11.000000</td>\n",
              "      <td>0.0</td>\n",
              "      <td>45.000000</td>\n",
              "      <td>10.000000</td>\n",
              "      <td>31.000000</td>\n",
              "      <td>2.0</td>\n",
              "      <td>...</td>\n",
              "      <td>49.994412</td>\n",
              "      <td>54.202353</td>\n",
              "      <td>63.806176</td>\n",
              "      <td>0.974359</td>\n",
              "      <td>247.988889</td>\n",
              "      <td>251.888889</td>\n",
              "      <td>243.3</td>\n",
              "      <td>228.844444</td>\n",
              "      <td>5</td>\n",
              "      <td>0.522320</td>\n",
              "    </tr>\n",
              "    <tr>\n",
              "      <th>307</th>\n",
              "      <td>2.000000</td>\n",
              "      <td>91.00000</td>\n",
              "      <td>0.0</td>\n",
              "      <td>45.0</td>\n",
              "      <td>10.000000</td>\n",
              "      <td>0.0</td>\n",
              "      <td>50.000000</td>\n",
              "      <td>10.000000</td>\n",
              "      <td>52.000000</td>\n",
              "      <td>2.0</td>\n",
              "      <td>...</td>\n",
              "      <td>49.994412</td>\n",
              "      <td>54.202353</td>\n",
              "      <td>63.806176</td>\n",
              "      <td>0.974359</td>\n",
              "      <td>247.988889</td>\n",
              "      <td>251.888889</td>\n",
              "      <td>243.3</td>\n",
              "      <td>228.844444</td>\n",
              "      <td>7</td>\n",
              "      <td>0.523158</td>\n",
              "    </tr>\n",
              "    <tr>\n",
              "      <th>308</th>\n",
              "      <td>2.000000</td>\n",
              "      <td>95.00000</td>\n",
              "      <td>0.0</td>\n",
              "      <td>45.0</td>\n",
              "      <td>10.000000</td>\n",
              "      <td>0.0</td>\n",
              "      <td>51.000000</td>\n",
              "      <td>10.000000</td>\n",
              "      <td>52.000000</td>\n",
              "      <td>2.0</td>\n",
              "      <td>...</td>\n",
              "      <td>49.994412</td>\n",
              "      <td>54.202353</td>\n",
              "      <td>63.806176</td>\n",
              "      <td>0.974359</td>\n",
              "      <td>247.988889</td>\n",
              "      <td>251.888889</td>\n",
              "      <td>243.3</td>\n",
              "      <td>228.844444</td>\n",
              "      <td>7</td>\n",
              "      <td>0.521964</td>\n",
              "    </tr>\n",
              "    <tr>\n",
              "      <th>309</th>\n",
              "      <td>2.000000</td>\n",
              "      <td>87.00000</td>\n",
              "      <td>0.0</td>\n",
              "      <td>45.0</td>\n",
              "      <td>10.000000</td>\n",
              "      <td>0.0</td>\n",
              "      <td>51.000000</td>\n",
              "      <td>10.000000</td>\n",
              "      <td>52.000000</td>\n",
              "      <td>2.0</td>\n",
              "      <td>...</td>\n",
              "      <td>49.994412</td>\n",
              "      <td>54.202353</td>\n",
              "      <td>63.806176</td>\n",
              "      <td>0.974359</td>\n",
              "      <td>247.988889</td>\n",
              "      <td>251.888889</td>\n",
              "      <td>243.3</td>\n",
              "      <td>228.844444</td>\n",
              "      <td>7</td>\n",
              "      <td>0.522379</td>\n",
              "    </tr>\n",
              "  </tbody>\n",
              "</table>\n",
              "<p>310 rows × 2877 columns</p>\n",
              "</div>\n",
              "      <button class=\"colab-df-convert\" onclick=\"convertToInteractive('df-94bf40b6-f6ce-4227-b6b4-12d9e5921df4')\"\n",
              "              title=\"Convert this dataframe to an interactive table.\"\n",
              "              style=\"display:none;\">\n",
              "        \n",
              "  <svg xmlns=\"http://www.w3.org/2000/svg\" height=\"24px\"viewBox=\"0 0 24 24\"\n",
              "       width=\"24px\">\n",
              "    <path d=\"M0 0h24v24H0V0z\" fill=\"none\"/>\n",
              "    <path d=\"M18.56 5.44l.94 2.06.94-2.06 2.06-.94-2.06-.94-.94-2.06-.94 2.06-2.06.94zm-11 1L8.5 8.5l.94-2.06 2.06-.94-2.06-.94L8.5 2.5l-.94 2.06-2.06.94zm10 10l.94 2.06.94-2.06 2.06-.94-2.06-.94-.94-2.06-.94 2.06-2.06.94z\"/><path d=\"M17.41 7.96l-1.37-1.37c-.4-.4-.92-.59-1.43-.59-.52 0-1.04.2-1.43.59L10.3 9.45l-7.72 7.72c-.78.78-.78 2.05 0 2.83L4 21.41c.39.39.9.59 1.41.59.51 0 1.02-.2 1.41-.59l7.78-7.78 2.81-2.81c.8-.78.8-2.07 0-2.86zM5.41 20L4 18.59l7.72-7.72 1.47 1.35L5.41 20z\"/>\n",
              "  </svg>\n",
              "      </button>\n",
              "      \n",
              "  <style>\n",
              "    .colab-df-container {\n",
              "      display:flex;\n",
              "      flex-wrap:wrap;\n",
              "      gap: 12px;\n",
              "    }\n",
              "\n",
              "    .colab-df-convert {\n",
              "      background-color: #E8F0FE;\n",
              "      border: none;\n",
              "      border-radius: 50%;\n",
              "      cursor: pointer;\n",
              "      display: none;\n",
              "      fill: #1967D2;\n",
              "      height: 32px;\n",
              "      padding: 0 0 0 0;\n",
              "      width: 32px;\n",
              "    }\n",
              "\n",
              "    .colab-df-convert:hover {\n",
              "      background-color: #E2EBFA;\n",
              "      box-shadow: 0px 1px 2px rgba(60, 64, 67, 0.3), 0px 1px 3px 1px rgba(60, 64, 67, 0.15);\n",
              "      fill: #174EA6;\n",
              "    }\n",
              "\n",
              "    [theme=dark] .colab-df-convert {\n",
              "      background-color: #3B4455;\n",
              "      fill: #D2E3FC;\n",
              "    }\n",
              "\n",
              "    [theme=dark] .colab-df-convert:hover {\n",
              "      background-color: #434B5C;\n",
              "      box-shadow: 0px 1px 3px 1px rgba(0, 0, 0, 0.15);\n",
              "      filter: drop-shadow(0px 1px 2px rgba(0, 0, 0, 0.3));\n",
              "      fill: #FFFFFF;\n",
              "    }\n",
              "  </style>\n",
              "\n",
              "      <script>\n",
              "        const buttonEl =\n",
              "          document.querySelector('#df-94bf40b6-f6ce-4227-b6b4-12d9e5921df4 button.colab-df-convert');\n",
              "        buttonEl.style.display =\n",
              "          google.colab.kernel.accessAllowed ? 'block' : 'none';\n",
              "\n",
              "        async function convertToInteractive(key) {\n",
              "          const element = document.querySelector('#df-94bf40b6-f6ce-4227-b6b4-12d9e5921df4');\n",
              "          const dataTable =\n",
              "            await google.colab.kernel.invokeFunction('convertToInteractive',\n",
              "                                                     [key], {});\n",
              "          if (!dataTable) return;\n",
              "\n",
              "          const docLinkHtml = 'Like what you see? Visit the ' +\n",
              "            '<a target=\"_blank\" href=https://colab.research.google.com/notebooks/data_table.ipynb>data table notebook</a>'\n",
              "            + ' to learn more about interactive tables.';\n",
              "          element.innerHTML = '';\n",
              "          dataTable['output_type'] = 'display_data';\n",
              "          await google.colab.output.renderOutput(dataTable, element);\n",
              "          const docLink = document.createElement('div');\n",
              "          docLink.innerHTML = docLinkHtml;\n",
              "          element.appendChild(docLink);\n",
              "        }\n",
              "      </script>\n",
              "    </div>\n",
              "  </div>\n",
              "  "
            ]
          },
          "metadata": {},
          "execution_count": 268
        }
      ]
    },
    {
      "cell_type": "code",
      "source": [
        "sns.countplot(x=preds);"
      ],
      "metadata": {
        "colab": {
          "base_uri": "https://localhost:8080/",
          "height": 265
        },
        "outputId": "6cf5d4d5-7907-473e-ba44-12d8eec19c6d",
        "id": "pFy9yZDSlPnx"
      },
      "execution_count": 269,
      "outputs": [
        {
          "output_type": "display_data",
          "data": {
            "text/plain": [
              "<Figure size 432x288 with 1 Axes>"
            ],
            "image/png": "[encoded data removed]"
          },
          "metadata": {
            "needs_background": "light"
          }
        }
      ]
    },
    {
      "cell_type": "code",
      "source": [
        "# X_train = train_df\n",
        "X_train = train_df.drop(columns=['Y_Class'])\n",
        "X_train = pd.DataFrame(train_df['Y_Quality'])\n",
        "y_train = train_df['Y_Class']"
      ],
      "metadata": {
        "id": "_pdf8dM-lPny"
      },
      "execution_count": 270,
      "outputs": []
    },
    {
      "cell_type": "code",
      "source": [
        "X_train.isnull().sum()"
      ],
      "metadata": {
        "colab": {
          "base_uri": "https://localhost:8080/"
        },
        "outputId": "158738d0-7834-4d9b-cebd-6d54c7f39ffe",
        "id": "F469MpDQlPny"
      },
      "execution_count": 271,
      "outputs": [
        {
          "output_type": "execute_result",
          "data": {
            "text/plain": [
              "Y_Quality    0\n",
              "dtype: int64"
            ]
          },
          "metadata": {},
          "execution_count": 271
        }
      ]
    },
    {
      "cell_type": "code",
      "source": [
        "from xgboost import XGBClassifier\n",
        "\n",
        "XGB_model =  XGBClassifier(random_state=37).fit(X_train, y_train)\n",
        "print('Done.')"
      ],
      "metadata": {
        "colab": {
          "base_uri": "https://localhost:8080/"
        },
        "outputId": "0fa3dd75-1312-445b-d8a0-98ac1a23fcc0",
        "id": "-UlR05R1lPny"
      },
      "execution_count": 272,
      "outputs": [
        {
          "output_type": "stream",
          "name": "stdout",
          "text": [
            "Done.\n"
          ]
        }
      ]
    },
    {
      "cell_type": "code",
      "source": [
        "test_x\n",
        "# test_x = test_x.drop(columns=['LINE//','PRODUCT_CODE'])\n",
        "# test_x = test_x['Y_Quality']  \n",
        "test_x = pd.DataFrame(test_x, columns=['Y_Quality'])\n",
        "# test_x = test_x['Y_Quality'] "
      ],
      "metadata": {
        "id": "nVsSiMD6lPnz"
      },
      "execution_count": 273,
      "outputs": []
    },
    {
      "cell_type": "code",
      "source": [
        "test_x = pd.DataFrame(test_x)\n",
        "\n",
        "preds = RF.predict(test_x)   \n",
        "print('Done.')   "
      ],
      "metadata": {
        "colab": {
          "base_uri": "https://localhost:8080/"
        },
        "outputId": "c3d83fbc-15f5-4088-a615-b5a76960d67e",
        "id": "SYNJBRSzlPnz"
      },
      "execution_count": 274,
      "outputs": [
        {
          "output_type": "stream",
          "name": "stdout",
          "text": [
            "Done.\n"
          ]
        }
      ]
    },
    {
      "cell_type": "code",
      "source": [
        "preds"
      ],
      "metadata": {
        "colab": {
          "base_uri": "https://localhost:8080/"
        },
        "outputId": "31724fe0-6e7c-4000-d2f4-0410f75495db",
        "id": "oxJn-HFKlPnz"
      },
      "execution_count": 275,
      "outputs": [
        {
          "output_type": "execute_result",
          "data": {
            "text/plain": [
              "array([0., 1., 1., 0., 1., 1., 1., 0., 0., 1., 1., 1., 1., 1., 0., 0., 1.,\n",
              "       0., 0., 1., 0., 1., 0., 0., 0., 0., 1., 0., 0., 1., 0., 1., 0., 0.,\n",
              "       1., 0., 1., 0., 2., 0., 1., 0., 0., 0., 0., 1., 1., 0., 0., 0., 1.,\n",
              "       0., 0., 0., 0., 0., 0., 0., 0., 0., 0., 0., 1., 1., 0., 0., 0., 1.,\n",
              "       0., 0., 0., 0., 1., 0., 1., 0., 1., 0., 2., 1., 1., 1., 1., 1., 1.,\n",
              "       1., 0., 1., 0., 0., 1., 1., 1., 1., 0., 1., 1., 1., 0., 1., 0., 1.,\n",
              "       1., 1., 1., 1., 1., 0., 1., 1., 1., 0., 0., 1., 1., 1., 0., 0., 0.,\n",
              "       1., 1., 1., 1., 1., 0., 0., 1., 1., 0., 0., 1., 1., 1., 0., 1., 1.,\n",
              "       1., 1., 1., 0., 1., 0., 0., 1., 1., 1., 1., 1., 0., 0., 0., 1., 1.,\n",
              "       1., 0., 0., 0., 0., 1., 0., 2., 1., 1., 1., 0., 1., 0., 1., 0., 1.,\n",
              "       0., 0., 1., 0., 0., 0., 1., 1., 0., 1., 1., 0., 0., 1., 1., 0., 0.,\n",
              "       1., 0., 1., 0., 1., 1., 0., 0., 0., 0., 0., 0., 0., 0., 0., 0., 0.,\n",
              "       1., 0., 1., 0., 0., 0., 0., 0., 0., 1., 0., 0., 0., 0., 0., 0., 0.,\n",
              "       0., 0., 0., 0., 0., 0., 0., 0., 0., 0., 0., 1., 0., 0., 0., 0., 0.,\n",
              "       0., 0., 0., 0., 0., 0., 0., 0., 0., 0., 1., 1., 1., 1., 1., 1., 1.,\n",
              "       1., 0., 0., 0., 0., 2., 0., 0., 1., 0., 0., 0., 0., 0., 0., 0., 0.,\n",
              "       0., 0., 0., 0., 0., 0., 0., 0., 1., 2., 1., 2., 1., 1., 1., 0., 0.,\n",
              "       0., 0., 0., 1., 1., 0., 0., 0., 0., 0., 0., 0., 0., 0., 0., 0., 0.,\n",
              "       0., 0., 0., 0.])"
            ]
          },
          "metadata": {},
          "execution_count": 275
        }
      ]
    },
    {
      "cell_type": "code",
      "source": [
        "sns.countplot(x=preds);"
      ],
      "metadata": {
        "colab": {
          "base_uri": "https://localhost:8080/",
          "height": 265
        },
        "outputId": "c0b4abf7-a623-40e0-ca36-e79cc3053a28",
        "id": "C9YYggQ9lPnz"
      },
      "execution_count": 276,
      "outputs": [
        {
          "output_type": "display_data",
          "data": {
            "text/plain": [
              "<Figure size 432x288 with 1 Axes>"
            ],
            "image/png": "[encoded data removed]"
          },
          "metadata": {
            "needs_background": "light"
          }
        }
      ]
    },
    {
      "cell_type": "markdown",
      "source": [
        "## 2.4 RandomForest\n",
        "- Output: class 0 too small"
      ],
      "metadata": {
        "id": "_JA7HNFnmHcw"
      }
    },
    {
      "cell_type": "code",
      "source": [
        "from sklearn.ensemble import RandomForestRegressor\n",
        "\n",
        "RF_model = RandomForestRegressor(random_state=37).fit(X_train, y_train) \n",
        "print('Done.') "
      ],
      "metadata": {
        "colab": {
          "base_uri": "https://localhost:8080/"
        },
        "outputId": "0d4000e7-1509-42c1-9890-5a4be7bb5eee",
        "id": "6bXpl80hmHcw"
      },
      "execution_count": 306,
      "outputs": [
        {
          "output_type": "stream",
          "name": "stdout",
          "text": [
            "Done.\n"
          ]
        }
      ]
    },
    {
      "cell_type": "code",
      "source": [
        "preds=RF_model.predict(test_x)  \n",
        "print('Done.')"
      ],
      "metadata": {
        "colab": {
          "base_uri": "https://localhost:8080/"
        },
        "outputId": "88b84dc4-596f-45b7-8fef-9a7718793a6e",
        "id": "qek-NdR0mHcx"
      },
      "execution_count": 307,
      "outputs": [
        {
          "output_type": "stream",
          "name": "stdout",
          "text": [
            "Done.\n"
          ]
        }
      ]
    },
    {
      "cell_type": "code",
      "source": [
        "test_x['Y_Quality'] = preds\n",
        "test_x  "
      ],
      "metadata": {
        "colab": {
          "base_uri": "https://localhost:8080/",
          "height": 488
        },
        "outputId": "58c6f33a-0225-41fa-dfa7-715e4f3022b8",
        "id": "Gbatqqe8mHcx"
      },
      "execution_count": 308,
      "outputs": [
        {
          "output_type": "execute_result",
          "data": {
            "text/plain": [
              "          X_1       X_2  X_3   X_4        X_5  X_6        X_7        X_8  \\\n",
              "0    2.000000  94.00000  0.0  45.0  10.000000  0.0  51.000000  10.000000   \n",
              "1    2.000000  93.00000  0.0  45.0  11.000000  0.0  45.000000  10.000000   \n",
              "2    2.000000  95.00000  0.0  45.0  11.000000  0.0  45.000000  10.000000   \n",
              "3    4.337449  94.44856  0.0  45.0  10.271605  0.0  48.485597  10.012346   \n",
              "4    4.337449  94.44856  0.0  45.0  10.271605  0.0  48.485597  10.012346   \n",
              "..        ...       ...  ...   ...        ...  ...        ...        ...   \n",
              "305  2.000000  91.00000  0.0  45.0  10.000000  0.0  51.000000  10.000000   \n",
              "306  2.000000  96.00000  0.0  45.0  11.000000  0.0  45.000000  10.000000   \n",
              "307  2.000000  91.00000  0.0  45.0  10.000000  0.0  50.000000  10.000000   \n",
              "308  2.000000  95.00000  0.0  45.0  10.000000  0.0  51.000000  10.000000   \n",
              "309  2.000000  87.00000  0.0  45.0  10.000000  0.0  51.000000  10.000000   \n",
              "\n",
              "           X_9  X_10  ...     X_2868     X_2869     X_2870    X_2871  \\\n",
              "0    52.000000   2.0  ...  49.994412  54.202353  63.806176  0.974359   \n",
              "1    31.000000   2.0  ...  49.994412  54.202353  63.806176  0.974359   \n",
              "2    31.000000   2.0  ...  49.994412  54.202353  63.806176  0.974359   \n",
              "3    42.407407   2.0  ...  49.994412  54.202353  63.806176  0.974359   \n",
              "4    42.407407   2.0  ...  49.994412  54.202353  63.806176  0.974359   \n",
              "..         ...   ...  ...        ...        ...        ...       ...   \n",
              "305  52.000000   2.0  ...  49.994412  54.202353  63.806176  0.974359   \n",
              "306  31.000000   2.0  ...  49.994412  54.202353  63.806176  0.974359   \n",
              "307  52.000000   2.0  ...  49.994412  54.202353  63.806176  0.974359   \n",
              "308  52.000000   2.0  ...  49.994412  54.202353  63.806176  0.974359   \n",
              "309  52.000000   2.0  ...  49.994412  54.202353  63.806176  0.974359   \n",
              "\n",
              "         X_2872      X_2873  X_2874      X_2875  line_pcode  Y_Quality  \n",
              "0    247.988889  251.888889   243.3  228.844444           7   0.533170  \n",
              "1    247.988889  251.888889   243.3  228.844444           5   0.535017  \n",
              "2    247.988889  251.888889   243.3  228.844444           5   0.534964  \n",
              "3    247.988889  251.888889   243.3  228.844444           0   0.532341  \n",
              "4    247.988889  251.888889   243.3  228.844444           1   0.532555  \n",
              "..          ...         ...     ...         ...         ...        ...  \n",
              "305  247.988889  251.888889   243.3  228.844444           7   0.532656  \n",
              "306  247.988889  251.888889   243.3  228.844444           5   0.532410  \n",
              "307  247.988889  251.888889   243.3  228.844444           7   0.532898  \n",
              "308  247.988889  251.888889   243.3  228.844444           7   0.532914  \n",
              "309  247.988889  251.888889   243.3  228.844444           7   0.533151  \n",
              "\n",
              "[310 rows x 2877 columns]"
            ],
            "text/html": [
              "\n",
              "  <div id=\"df-a6af05ce-aa69-458d-880c-774bd76921ea\">\n",
              "    <div class=\"colab-df-container\">\n",
              "      <div>\n",
              "<style scoped>\n",
              "    .dataframe tbody tr th:only-of-type {\n",
              "        vertical-align: middle;\n",
              "    }\n",
              "\n",
              "    .dataframe tbody tr th {\n",
              "        vertical-align: top;\n",
              "    }\n",
              "\n",
              "    .dataframe thead th {\n",
              "        text-align: right;\n",
              "    }\n",
              "</style>\n",
              "<table border=\"1\" class=\"dataframe\">\n",
              "  <thead>\n",
              "    <tr style=\"text-align: right;\">\n",
              "      <th></th>\n",
              "      <th>X_1</th>\n",
              "      <th>X_2</th>\n",
              "      <th>X_3</th>\n",
              "      <th>X_4</th>\n",
              "      <th>X_5</th>\n",
              "      <th>X_6</th>\n",
              "      <th>X_7</th>\n",
              "      <th>X_8</th>\n",
              "      <th>X_9</th>\n",
              "      <th>X_10</th>\n",
              "      <th>...</th>\n",
              "      <th>X_2868</th>\n",
              "      <th>X_2869</th>\n",
              "      <th>X_2870</th>\n",
              "      <th>X_2871</th>\n",
              "      <th>X_2872</th>\n",
              "      <th>X_2873</th>\n",
              "      <th>X_2874</th>\n",
              "      <th>X_2875</th>\n",
              "      <th>line_pcode</th>\n",
              "      <th>Y_Quality</th>\n",
              "    </tr>\n",
              "  </thead>\n",
              "  <tbody>\n",
              "    <tr>\n",
              "      <th>0</th>\n",
              "      <td>2.000000</td>\n",
              "      <td>94.00000</td>\n",
              "      <td>0.0</td>\n",
              "      <td>45.0</td>\n",
              "      <td>10.000000</td>\n",
              "      <td>0.0</td>\n",
              "      <td>51.000000</td>\n",
              "      <td>10.000000</td>\n",
              "      <td>52.000000</td>\n",
              "      <td>2.0</td>\n",
              "      <td>...</td>\n",
              "      <td>49.994412</td>\n",
              "      <td>54.202353</td>\n",
              "      <td>63.806176</td>\n",
              "      <td>0.974359</td>\n",
              "      <td>247.988889</td>\n",
              "      <td>251.888889</td>\n",
              "      <td>243.3</td>\n",
              "      <td>228.844444</td>\n",
              "      <td>7</td>\n",
              "      <td>0.533170</td>\n",
              "    </tr>\n",
              "    <tr>\n",
              "      <th>1</th>\n",
              "      <td>2.000000</td>\n",
              "      <td>93.00000</td>\n",
              "      <td>0.0</td>\n",
              "      <td>45.0</td>\n",
              "      <td>11.000000</td>\n",
              "      <td>0.0</td>\n",
              "      <td>45.000000</td>\n",
              "      <td>10.000000</td>\n",
              "      <td>31.000000</td>\n",
              "      <td>2.0</td>\n",
              "      <td>...</td>\n",
              "      <td>49.994412</td>\n",
              "      <td>54.202353</td>\n",
              "      <td>63.806176</td>\n",
              "      <td>0.974359</td>\n",
              "      <td>247.988889</td>\n",
              "      <td>251.888889</td>\n",
              "      <td>243.3</td>\n",
              "      <td>228.844444</td>\n",
              "      <td>5</td>\n",
              "      <td>0.535017</td>\n",
              "    </tr>\n",
              "    <tr>\n",
              "      <th>2</th>\n",
              "      <td>2.000000</td>\n",
              "      <td>95.00000</td>\n",
              "      <td>0.0</td>\n",
              "      <td>45.0</td>\n",
              "      <td>11.000000</td>\n",
              "      <td>0.0</td>\n",
              "      <td>45.000000</td>\n",
              "      <td>10.000000</td>\n",
              "      <td>31.000000</td>\n",
              "      <td>2.0</td>\n",
              "      <td>...</td>\n",
              "      <td>49.994412</td>\n",
              "      <td>54.202353</td>\n",
              "      <td>63.806176</td>\n",
              "      <td>0.974359</td>\n",
              "      <td>247.988889</td>\n",
              "      <td>251.888889</td>\n",
              "      <td>243.3</td>\n",
              "      <td>228.844444</td>\n",
              "      <td>5</td>\n",
              "      <td>0.534964</td>\n",
              "    </tr>\n",
              "    <tr>\n",
              "      <th>3</th>\n",
              "      <td>4.337449</td>\n",
              "      <td>94.44856</td>\n",
              "      <td>0.0</td>\n",
              "      <td>45.0</td>\n",
              "      <td>10.271605</td>\n",
              "      <td>0.0</td>\n",
              "      <td>48.485597</td>\n",
              "      <td>10.012346</td>\n",
              "      <td>42.407407</td>\n",
              "      <td>2.0</td>\n",
              "      <td>...</td>\n",
              "      <td>49.994412</td>\n",
              "      <td>54.202353</td>\n",
              "      <td>63.806176</td>\n",
              "      <td>0.974359</td>\n",
              "      <td>247.988889</td>\n",
              "      <td>251.888889</td>\n",
              "      <td>243.3</td>\n",
              "      <td>228.844444</td>\n",
              "      <td>0</td>\n",
              "      <td>0.532341</td>\n",
              "    </tr>\n",
              "    <tr>\n",
              "      <th>4</th>\n",
              "      <td>4.337449</td>\n",
              "      <td>94.44856</td>\n",
              "      <td>0.0</td>\n",
              "      <td>45.0</td>\n",
              "      <td>10.271605</td>\n",
              "      <td>0.0</td>\n",
              "      <td>48.485597</td>\n",
              "      <td>10.012346</td>\n",
              "      <td>42.407407</td>\n",
              "      <td>2.0</td>\n",
              "      <td>...</td>\n",
              "      <td>49.994412</td>\n",
              "      <td>54.202353</td>\n",
              "      <td>63.806176</td>\n",
              "      <td>0.974359</td>\n",
              "      <td>247.988889</td>\n",
              "      <td>251.888889</td>\n",
              "      <td>243.3</td>\n",
              "      <td>228.844444</td>\n",
              "      <td>1</td>\n",
              "      <td>0.532555</td>\n",
              "    </tr>\n",
              "    <tr>\n",
              "      <th>...</th>\n",
              "      <td>...</td>\n",
              "      <td>...</td>\n",
              "      <td>...</td>\n",
              "      <td>...</td>\n",
              "      <td>...</td>\n",
              "      <td>...</td>\n",
              "      <td>...</td>\n",
              "      <td>...</td>\n",
              "      <td>...</td>\n",
              "      <td>...</td>\n",
              "      <td>...</td>\n",
              "      <td>...</td>\n",
              "      <td>...</td>\n",
              "      <td>...</td>\n",
              "      <td>...</td>\n",
              "      <td>...</td>\n",
              "      <td>...</td>\n",
              "      <td>...</td>\n",
              "      <td>...</td>\n",
              "      <td>...</td>\n",
              "      <td>...</td>\n",
              "    </tr>\n",
              "    <tr>\n",
              "      <th>305</th>\n",
              "      <td>2.000000</td>\n",
              "      <td>91.00000</td>\n",
              "      <td>0.0</td>\n",
              "      <td>45.0</td>\n",
              "      <td>10.000000</td>\n",
              "      <td>0.0</td>\n",
              "      <td>51.000000</td>\n",
              "      <td>10.000000</td>\n",
              "      <td>52.000000</td>\n",
              "      <td>2.0</td>\n",
              "      <td>...</td>\n",
              "      <td>49.994412</td>\n",
              "      <td>54.202353</td>\n",
              "      <td>63.806176</td>\n",
              "      <td>0.974359</td>\n",
              "      <td>247.988889</td>\n",
              "      <td>251.888889</td>\n",
              "      <td>243.3</td>\n",
              "      <td>228.844444</td>\n",
              "      <td>7</td>\n",
              "      <td>0.532656</td>\n",
              "    </tr>\n",
              "    <tr>\n",
              "      <th>306</th>\n",
              "      <td>2.000000</td>\n",
              "      <td>96.00000</td>\n",
              "      <td>0.0</td>\n",
              "      <td>45.0</td>\n",
              "      <td>11.000000</td>\n",
              "      <td>0.0</td>\n",
              "      <td>45.000000</td>\n",
              "      <td>10.000000</td>\n",
              "      <td>31.000000</td>\n",
              "      <td>2.0</td>\n",
              "      <td>...</td>\n",
              "      <td>49.994412</td>\n",
              "      <td>54.202353</td>\n",
              "      <td>63.806176</td>\n",
              "      <td>0.974359</td>\n",
              "      <td>247.988889</td>\n",
              "      <td>251.888889</td>\n",
              "      <td>243.3</td>\n",
              "      <td>228.844444</td>\n",
              "      <td>5</td>\n",
              "      <td>0.532410</td>\n",
              "    </tr>\n",
              "    <tr>\n",
              "      <th>307</th>\n",
              "      <td>2.000000</td>\n",
              "      <td>91.00000</td>\n",
              "      <td>0.0</td>\n",
              "      <td>45.0</td>\n",
              "      <td>10.000000</td>\n",
              "      <td>0.0</td>\n",
              "      <td>50.000000</td>\n",
              "      <td>10.000000</td>\n",
              "      <td>52.000000</td>\n",
              "      <td>2.0</td>\n",
              "      <td>...</td>\n",
              "      <td>49.994412</td>\n",
              "      <td>54.202353</td>\n",
              "      <td>63.806176</td>\n",
              "      <td>0.974359</td>\n",
              "      <td>247.988889</td>\n",
              "      <td>251.888889</td>\n",
              "      <td>243.3</td>\n",
              "      <td>228.844444</td>\n",
              "      <td>7</td>\n",
              "      <td>0.532898</td>\n",
              "    </tr>\n",
              "    <tr>\n",
              "      <th>308</th>\n",
              "      <td>2.000000</td>\n",
              "      <td>95.00000</td>\n",
              "      <td>0.0</td>\n",
              "      <td>45.0</td>\n",
              "      <td>10.000000</td>\n",
              "      <td>0.0</td>\n",
              "      <td>51.000000</td>\n",
              "      <td>10.000000</td>\n",
              "      <td>52.000000</td>\n",
              "      <td>2.0</td>\n",
              "      <td>...</td>\n",
              "      <td>49.994412</td>\n",
              "      <td>54.202353</td>\n",
              "      <td>63.806176</td>\n",
              "      <td>0.974359</td>\n",
              "      <td>247.988889</td>\n",
              "      <td>251.888889</td>\n",
              "      <td>243.3</td>\n",
              "      <td>228.844444</td>\n",
              "      <td>7</td>\n",
              "      <td>0.532914</td>\n",
              "    </tr>\n",
              "    <tr>\n",
              "      <th>309</th>\n",
              "      <td>2.000000</td>\n",
              "      <td>87.00000</td>\n",
              "      <td>0.0</td>\n",
              "      <td>45.0</td>\n",
              "      <td>10.000000</td>\n",
              "      <td>0.0</td>\n",
              "      <td>51.000000</td>\n",
              "      <td>10.000000</td>\n",
              "      <td>52.000000</td>\n",
              "      <td>2.0</td>\n",
              "      <td>...</td>\n",
              "      <td>49.994412</td>\n",
              "      <td>54.202353</td>\n",
              "      <td>63.806176</td>\n",
              "      <td>0.974359</td>\n",
              "      <td>247.988889</td>\n",
              "      <td>251.888889</td>\n",
              "      <td>243.3</td>\n",
              "      <td>228.844444</td>\n",
              "      <td>7</td>\n",
              "      <td>0.533151</td>\n",
              "    </tr>\n",
              "  </tbody>\n",
              "</table>\n",
              "<p>310 rows × 2877 columns</p>\n",
              "</div>\n",
              "      <button class=\"colab-df-convert\" onclick=\"convertToInteractive('df-a6af05ce-aa69-458d-880c-774bd76921ea')\"\n",
              "              title=\"Convert this dataframe to an interactive table.\"\n",
              "              style=\"display:none;\">\n",
              "        \n",
              "  <svg xmlns=\"http://www.w3.org/2000/svg\" height=\"24px\"viewBox=\"0 0 24 24\"\n",
              "       width=\"24px\">\n",
              "    <path d=\"M0 0h24v24H0V0z\" fill=\"none\"/>\n",
              "    <path d=\"M18.56 5.44l.94 2.06.94-2.06 2.06-.94-2.06-.94-.94-2.06-.94 2.06-2.06.94zm-11 1L8.5 8.5l.94-2.06 2.06-.94-2.06-.94L8.5 2.5l-.94 2.06-2.06.94zm10 10l.94 2.06.94-2.06 2.06-.94-2.06-.94-.94-2.06-.94 2.06-2.06.94z\"/><path d=\"M17.41 7.96l-1.37-1.37c-.4-.4-.92-.59-1.43-.59-.52 0-1.04.2-1.43.59L10.3 9.45l-7.72 7.72c-.78.78-.78 2.05 0 2.83L4 21.41c.39.39.9.59 1.41.59.51 0 1.02-.2 1.41-.59l7.78-7.78 2.81-2.81c.8-.78.8-2.07 0-2.86zM5.41 20L4 18.59l7.72-7.72 1.47 1.35L5.41 20z\"/>\n",
              "  </svg>\n",
              "      </button>\n",
              "      \n",
              "  <style>\n",
              "    .colab-df-container {\n",
              "      display:flex;\n",
              "      flex-wrap:wrap;\n",
              "      gap: 12px;\n",
              "    }\n",
              "\n",
              "    .colab-df-convert {\n",
              "      background-color: #E8F0FE;\n",
              "      border: none;\n",
              "      border-radius: 50%;\n",
              "      cursor: pointer;\n",
              "      display: none;\n",
              "      fill: #1967D2;\n",
              "      height: 32px;\n",
              "      padding: 0 0 0 0;\n",
              "      width: 32px;\n",
              "    }\n",
              "\n",
              "    .colab-df-convert:hover {\n",
              "      background-color: #E2EBFA;\n",
              "      box-shadow: 0px 1px 2px rgba(60, 64, 67, 0.3), 0px 1px 3px 1px rgba(60, 64, 67, 0.15);\n",
              "      fill: #174EA6;\n",
              "    }\n",
              "\n",
              "    [theme=dark] .colab-df-convert {\n",
              "      background-color: #3B4455;\n",
              "      fill: #D2E3FC;\n",
              "    }\n",
              "\n",
              "    [theme=dark] .colab-df-convert:hover {\n",
              "      background-color: #434B5C;\n",
              "      box-shadow: 0px 1px 3px 1px rgba(0, 0, 0, 0.15);\n",
              "      filter: drop-shadow(0px 1px 2px rgba(0, 0, 0, 0.3));\n",
              "      fill: #FFFFFF;\n",
              "    }\n",
              "  </style>\n",
              "\n",
              "      <script>\n",
              "        const buttonEl =\n",
              "          document.querySelector('#df-a6af05ce-aa69-458d-880c-774bd76921ea button.colab-df-convert');\n",
              "        buttonEl.style.display =\n",
              "          google.colab.kernel.accessAllowed ? 'block' : 'none';\n",
              "\n",
              "        async function convertToInteractive(key) {\n",
              "          const element = document.querySelector('#df-a6af05ce-aa69-458d-880c-774bd76921ea');\n",
              "          const dataTable =\n",
              "            await google.colab.kernel.invokeFunction('convertToInteractive',\n",
              "                                                     [key], {});\n",
              "          if (!dataTable) return;\n",
              "\n",
              "          const docLinkHtml = 'Like what you see? Visit the ' +\n",
              "            '<a target=\"_blank\" href=https://colab.research.google.com/notebooks/data_table.ipynb>data table notebook</a>'\n",
              "            + ' to learn more about interactive tables.';\n",
              "          element.innerHTML = '';\n",
              "          dataTable['output_type'] = 'display_data';\n",
              "          await google.colab.output.renderOutput(dataTable, element);\n",
              "          const docLink = document.createElement('div');\n",
              "          docLink.innerHTML = docLinkHtml;\n",
              "          element.appendChild(docLink);\n",
              "        }\n",
              "      </script>\n",
              "    </div>\n",
              "  </div>\n",
              "  "
            ]
          },
          "metadata": {},
          "execution_count": 308
        }
      ]
    },
    {
      "cell_type": "code",
      "source": [
        "sns.countplot(x=preds);"
      ],
      "metadata": {
        "colab": {
          "base_uri": "https://localhost:8080/",
          "height": 265
        },
        "outputId": "d7ca2855-bbc0-4d77-9bc2-d72ee5af711b",
        "id": "BdTa6wmvmHcx"
      },
      "execution_count": 309,
      "outputs": [
        {
          "output_type": "display_data",
          "data": {
            "text/plain": [
              "<Figure size 432x288 with 1 Axes>"
            ],
            "image/png": "[encoded data removed]"
          },
          "metadata": {
            "needs_background": "light"
          }
        }
      ]
    },
    {
      "cell_type": "code",
      "source": [
        "# X_train = train_df\n",
        "X_train = train_df.drop(columns=['Y_Class'])\n",
        "X_train = pd.DataFrame(train_df['Y_Quality'])\n",
        "y_train = train_df['Y_Class']"
      ],
      "metadata": {
        "id": "3CLUxMwnmHcx"
      },
      "execution_count": 310,
      "outputs": []
    },
    {
      "cell_type": "code",
      "source": [
        "X_train.isnull().sum()"
      ],
      "metadata": {
        "colab": {
          "base_uri": "https://localhost:8080/"
        },
        "outputId": "7dcfd452-d247-4e78-abdd-030623e4e73a",
        "id": "I4oUj_iNmHcy"
      },
      "execution_count": 311,
      "outputs": [
        {
          "output_type": "execute_result",
          "data": {
            "text/plain": [
              "Y_Quality    0\n",
              "dtype: int64"
            ]
          },
          "metadata": {},
          "execution_count": 311
        }
      ]
    },
    {
      "cell_type": "code",
      "source": [
        "from sklearn.ensemble import RandomForestClassifier\n",
        "\n",
        "RF_model =  RandomForestClassifier(random_state=37).fit(X_train, y_train)\n",
        "print('Done.')"
      ],
      "metadata": {
        "colab": {
          "base_uri": "https://localhost:8080/"
        },
        "outputId": "cedda7bc-6949-4d00-ad36-96ba7be2afb4",
        "id": "QNxn6BzmmHcy"
      },
      "execution_count": 312,
      "outputs": [
        {
          "output_type": "stream",
          "name": "stdout",
          "text": [
            "Done.\n"
          ]
        }
      ]
    },
    {
      "cell_type": "code",
      "source": [
        "test_x\n",
        "# test_x = test_x.drop(columns=['LINE//','PRODUCT_CODE'])\n",
        "# test_x = test_x['Y_Quality']  \n",
        "test_x = pd.DataFrame(test_x, columns=['Y_Quality'])\n",
        "# test_x = test_x['Y_Quality'] "
      ],
      "metadata": {
        "id": "ZitUPecemHcy"
      },
      "execution_count": 313,
      "outputs": []
    },
    {
      "cell_type": "code",
      "source": [
        "test_x = pd.DataFrame(test_x)\n",
        "\n",
        "preds = RF.predict(test_x)   \n",
        "print('Done.')   "
      ],
      "metadata": {
        "colab": {
          "base_uri": "https://localhost:8080/"
        },
        "outputId": "827518b1-e2e0-44db-c633-92ff0928ea83",
        "id": "BwTORrAdmHcz"
      },
      "execution_count": 314,
      "outputs": [
        {
          "output_type": "stream",
          "name": "stdout",
          "text": [
            "Done.\n"
          ]
        }
      ]
    },
    {
      "cell_type": "code",
      "source": [
        "preds"
      ],
      "metadata": {
        "colab": {
          "base_uri": "https://localhost:8080/"
        },
        "outputId": "22d6d442-d5c8-4088-e544-13c04a665534",
        "id": "DbNwsGI2mHcz"
      },
      "execution_count": 315,
      "outputs": [
        {
          "output_type": "execute_result",
          "data": {
            "text/plain": [
              "array([1., 2., 2., 1., 1., 1., 2., 1., 1., 1., 2., 2., 1., 1., 1., 1., 1.,\n",
              "       1., 1., 1., 1., 1., 1., 1., 1., 1., 1., 1., 1., 1., 1., 1., 1., 1.,\n",
              "       1., 1., 1., 0., 2., 1., 1., 1., 1., 1., 1., 1., 1., 1., 1., 1., 1.,\n",
              "       1., 1., 1., 1., 1., 1., 1., 1., 1., 1., 1., 1., 1., 1., 1., 1., 1.,\n",
              "       1., 1., 1., 0., 1., 1., 1., 1., 1., 1., 2., 1., 1., 1., 1., 1., 2.,\n",
              "       1., 0., 1., 0., 1., 2., 1., 2., 2., 1., 2., 1., 2., 1., 2., 1., 2.,\n",
              "       1., 1., 1., 1., 2., 1., 2., 1., 1., 1., 1., 1., 1., 1., 1., 1., 1.,\n",
              "       2., 1., 1., 1., 2., 1., 1., 2., 1., 1., 1., 1., 1., 1., 1., 2., 2.,\n",
              "       1., 2., 1., 1., 1., 1., 1., 1., 2., 2., 1., 1., 1., 1., 1., 1., 1.,\n",
              "       1., 1., 1., 1., 1., 2., 1., 2., 2., 1., 2., 1., 1., 1., 1., 1., 2.,\n",
              "       1., 1., 1., 1., 1., 1., 2., 1., 1., 2., 1., 1., 1., 2., 1., 1., 1.,\n",
              "       2., 1., 2., 1., 2., 1., 1., 1., 1., 1., 1., 1., 1., 1., 1., 1., 1.,\n",
              "       1., 1., 1., 1., 1., 1., 1., 1., 1., 1., 1., 1., 1., 1., 1., 1., 1.,\n",
              "       1., 1., 1., 1., 1., 1., 1., 1., 1., 1., 1., 1., 1., 1., 1., 1., 1.,\n",
              "       1., 1., 1., 1., 1., 1., 1., 1., 1., 1., 1., 1., 1., 1., 1., 1., 1.,\n",
              "       1., 1., 1., 1., 1., 2., 1., 1., 2., 1., 1., 1., 1., 1., 1., 1., 1.,\n",
              "       1., 1., 1., 1., 1., 1., 1., 1., 1., 2., 1., 1., 1., 1., 1., 1., 1.,\n",
              "       1., 1., 1., 1., 1., 1., 1., 1., 1., 1., 1., 1., 1., 1., 1., 1., 1.,\n",
              "       1., 1., 1., 1.])"
            ]
          },
          "metadata": {},
          "execution_count": 315
        }
      ]
    },
    {
      "cell_type": "code",
      "source": [
        "sns.countplot(x=preds);"
      ],
      "metadata": {
        "colab": {
          "base_uri": "https://localhost:8080/",
          "height": 265
        },
        "outputId": "244a9392-2175-472b-d964-27313685c7bd",
        "id": "xOUunqOEmHcz"
      },
      "execution_count": 316,
      "outputs": [
        {
          "output_type": "display_data",
          "data": {
            "text/plain": [
              "<Figure size 432x288 with 1 Axes>"
            ],
            "image/png": "[encoded data removed]"
          },
          "metadata": {
            "needs_background": "light"
          }
        }
      ]
    },
    {
      "cell_type": "markdown",
      "source": [
        "# 3.Modeling_DL"
      ],
      "metadata": {
        "id": "Vl05J9tpExbR"
      }
    },
    {
      "cell_type": "code",
      "source": [],
      "metadata": {
        "id": "IFIeaDruExgK"
      },
      "execution_count": 144,
      "outputs": []
    },
    {
      "cell_type": "code",
      "source": [],
      "metadata": {
        "id": "Rut5hjM1Exna"
      },
      "execution_count": 144,
      "outputs": []
    },
    {
      "cell_type": "markdown",
      "source": [
        "# 4.Model Comparison"
      ],
      "metadata": {
        "id": "1YwpCO-LHGWh"
      }
    },
    {
      "cell_type": "code",
      "source": [],
      "metadata": {
        "id": "_51zBFdKHGcp"
      },
      "execution_count": 144,
      "outputs": []
    },
    {
      "cell_type": "code",
      "source": [],
      "metadata": {
        "id": "3s2Na48HHGhp"
      },
      "execution_count": 144,
      "outputs": []
    },
    {
      "cell_type": "code",
      "source": [],
      "metadata": {
        "id": "gSZlZQe8HGno"
      },
      "execution_count": 144,
      "outputs": []
    },
    {
      "cell_type": "markdown",
      "source": [
        "# 5.Inference\n",
        "- finally, performs perdiction for test set"
      ],
      "metadata": {
        "id": "ex7768-Ktt2u"
      }
    },
    {
      "cell_type": "code",
      "source": [
        "# test_x.describe()"
      ],
      "metadata": {
        "id": "o6wlxZ63-aor"
      },
      "execution_count": 145,
      "outputs": []
    },
    {
      "cell_type": "code",
      "source": [
        "# preds = RF_model.predict(test_x)\n",
        "# print('Done.')"
      ],
      "metadata": {
        "id": "sUcI9qjRtyU2"
      },
      "execution_count": 146,
      "outputs": []
    },
    {
      "cell_type": "code",
      "source": [
        "# test_x['Y_Class']=preds\n",
        "# preds"
      ],
      "metadata": {
        "id": "IYsJ59R8DvKQ"
      },
      "execution_count": 147,
      "outputs": []
    },
    {
      "cell_type": "code",
      "source": [],
      "metadata": {
        "id": "OhYKzO279lgJ"
      },
      "execution_count": 147,
      "outputs": []
    },
    {
      "cell_type": "markdown",
      "source": [
        "# 6.Submit"
      ],
      "metadata": {
        "id": "zZCIp_9ct2bQ"
      }
    },
    {
      "cell_type": "code",
      "source": [
        "submit = pd.read_csv('/content/drive/MyDrive/sample_submission.csv')  \n",
        "\n",
        "submit['Y_Class'] = preds \n",
        "submit.to_csv('smartFactory_submission.csv', index=False)  "
      ],
      "metadata": {
        "id": "Cyfb21qOt4dn"
      },
      "execution_count": 235,
      "outputs": []
    },
    {
      "cell_type": "code",
      "source": [
        "sns.countplot(x=preds, order=[0,1,2]);"
      ],
      "metadata": {
        "id": "l4x3CNe09oiT",
        "colab": {
          "base_uri": "https://localhost:8080/",
          "height": 269
        },
        "outputId": "63362b4b-07bb-44ee-978d-61bb02953c43"
      },
      "execution_count": 236,
      "outputs": [
        {
          "output_type": "display_data",
          "data": {
            "text/plain": [
              "<Figure size 432x288 with 1 Axes>"
            ],
            "image/png": "[encoded data removed]"
          },
          "metadata": {
            "needs_background": "light"
          }
        }
      ]
    },
    {
      "cell_type": "markdown",
      "source": [
        "# THE END\n"
      ],
      "metadata": {
        "id": "hcNFz5zguHMQ"
      }
    },
    {
      "cell_type": "code",
      "source": [],
      "metadata": {
        "id": "5asYFRqp7j0f"
      },
      "execution_count": 149,
      "outputs": []
    }
  ]
}