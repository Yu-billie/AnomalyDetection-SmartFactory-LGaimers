{
  "nbformat": 4,
  "nbformat_minor": 0,
  "metadata": {
    "colab": {
      "provenance": []
    },
    "kernelspec": {
      "name": "python3",
      "display_name": "Python 3"
    },
    "language_info": {
      "name": "python"
    },
    "accelerator": "GPU",
    "gpuClass": "standard"
  },
  "cells": [
    {
      "cell_type": "code",
      "source": [
        "import pandas as pd\n",
        "import random\n",
        "import os\n",
        "import numpy as np\n",
        "import matplotlib.pyplot as plt \n",
        "import seaborn as sns\n",
        "import tensorflow as tf\n",
        "# import optuna   # auto hyper-parameter tuning  \n",
        "from tqdm.notebook import tqdm\n",
        "\n",
        "import sklearn.metrics\n",
        "from sklearn.preprocessing import LabelEncoder\n",
        "from sklearn.model_selection import train_test_split \n",
        "from sklearn.metrics import accuracy_score, classification_report, f1_score, roc_auc_score, log_loss\n",
        "\n",
        "# Modeling\n",
        "from sklearn.ensemble import RandomForestRegressor\n",
        "from sklearn.ensemble import RandomForestClassifier\n",
        "from sklearn.ensemble import GradientBoostingRegressor   \n",
        "from sklearn.ensemble import GradientBoostingClassifier \n",
        "from xgboost import XGBRegressor\n",
        "from xgboost import XGBClassifier \n",
        "from lightgbm import LGBMRegressor\n",
        "from lightgbm import LGBMClassifier \n",
        "from sklearn.svm import SVC\n",
        "import torch\n",
        "import torch.nn as nn\n",
        "import torch.optim as optim\n",
        "from torch.utils.data import Dataset, DataLoader\n",
        "\n",
        "# # TabNet \n",
        "# from tabnet import TabNet, TabNetClassifier\n",
        "# from tabnet import StackedTabNetClassifier        \n",
        "# from pytorch_tabnet.tab_model import TabNetRegressor\n",
        "# from pytorch_tabnet.tab_model import TabNetClassification\n",
        "# from pytorch_tabnet.tab_model import TabNetModel\n",
        "# from pytorch_tabnet.metrics import Metric\n",
        "# from pytorch_tabnet.pretraining import TabNetPretrainer\n",
        "\n",
        "# Oversampling\n",
        "from imblearn.over_sampling import BorderlineSMOTE\n",
        "\n",
        "# google drive mount\n",
        "from google.colab import drive\n",
        "drive.mount('/content/drive')\n",
        "\n",
        "# random_state seed 37 fixed \n",
        "def seed_everything(seed):\n",
        "    random.seed(seed)\n",
        "    os.environ['PYTHONHASHSEED'] = str(seed)\n",
        "    np.random.seed(seed)\n",
        "seed_everything(37)\n",
        "\n",
        "# warning message delete \n",
        "import warnings\n",
        "warnings.simplefilter(action=\"ignore\", category=FutureWarning)   \n"
      ],
      "metadata": {
        "id": "N524BAv7ohSr",
        "colab": {
          "base_uri": "https://localhost:8080/"
        },
        "outputId": "19955840-9009-4dca-f28a-a8669fa0b80c"
      },
      "execution_count": 2,
      "outputs": [
        {
          "output_type": "stream",
          "name": "stdout",
          "text": [
            "Mounted at /content/drive\n"
          ]
        }
      ]
    },
    {
      "cell_type": "code",
      "source": [
        "train_df = pd.read_csv('/content/drive/MyDrive/train.csv')\n",
        "train_df = train_df.drop(columns=['PRODUCT_ID', 'TIMESTAMP'])"
      ],
      "metadata": {
        "id": "kLBoulM6u2Fb"
      },
      "execution_count": 3,
      "outputs": []
    },
    {
      "cell_type": "code",
      "source": [
        "test_df = pd.read_csv('/content/drive/MyDrive/test.csv')\n",
        "test_df = test_df.drop(columns=['PRODUCT_ID','TIMESTAMP'])"
      ],
      "metadata": {
        "id": "vOExaTnZCvnk"
      },
      "execution_count": 4,
      "outputs": []
    },
    {
      "cell_type": "code",
      "source": [
        "train_x = train_df.drop(columns=['Y_Class', 'Y_Quality'])\n",
        "train_y = train_df['Y_Class']\n",
        "\n",
        "test_x = test_df"
      ],
      "metadata": {
        "id": "n6UiOHuXUJrh"
      },
      "execution_count": 5,
      "outputs": []
    },
    {
      "cell_type": "code",
      "source": [
        "qual_col = ['LINE', 'PRODUCT_CODE']\n",
        "\n",
        "for i in qual_col:\n",
        "    le = LabelEncoder()\n",
        "    le = le.fit(train_x[i])\n",
        "    train_x[i] = le.transform(train_x[i])\n",
        "    \n",
        "    for label in np.unique(test_x[i]): \n",
        "        if label not in le.classes_: \n",
        "            le.classes_ = np.append(le.classes_, label)\n",
        "    test_x[i] = le.transform(test_x[i]) \n",
        "print('Done.')"
      ],
      "metadata": {
        "colab": {
          "base_uri": "https://localhost:8080/"
        },
        "id": "j01Aq_ekUOHO",
        "outputId": "211071e5-105a-4f96-94f6-75b25737cfba"
      },
      "execution_count": 6,
      "outputs": [
        {
          "output_type": "stream",
          "name": "stdout",
          "text": [
            "Done.\n"
          ]
        }
      ]
    },
    {
      "cell_type": "code",
      "source": [
        "train_x = train_x.fillna(0)\n",
        "test_x = test_x.fillna(0)\n",
        "train_x, train_y = BorderlineSMOTE(random_state=37).fit_resample(train_x, train_y)"
      ],
      "metadata": {
        "id": "jH2ciqaDULKS"
      },
      "execution_count": 7,
      "outputs": []
    },
    {
      "cell_type": "code",
      "source": [
        "from sklearn.preprocessing import MinMaxScaler\n",
        "\n",
        "min_max_scaler = MinMaxScaler()\n",
        "train_x2 = min_max_scaler.fit_transform(train_x)\n",
        "train_x = pd.DataFrame(train_x2, columns=train_x.columns)\n",
        "\n",
        "# X, y = BorderlineSMOTE(random_state=37).fit_resample(X,y)\n"
      ],
      "metadata": {
        "id": "a1SMJRUDUO0K"
      },
      "execution_count": 8,
      "outputs": []
    },
    {
      "cell_type": "code",
      "source": [
        "test_x2 = min_max_scaler.transform(test_x)\n",
        "test_x = pd.DataFrame(test_x2, columns=test_x.columns)"
      ],
      "metadata": {
        "id": "Ftj1Ir2KUYBi"
      },
      "execution_count": 9,
      "outputs": []
    },
    {
      "cell_type": "code",
      "source": [
        "from sklearn.ensemble import GradientBoostingClassifier\n",
        "\n",
        "RF =  GradientBoostingClassifier(random_state=37).fit(train_x, train_y)\n",
        "print('Done.')"
      ],
      "metadata": {
        "colab": {
          "base_uri": "https://localhost:8080/"
        },
        "id": "gCvWQoqLUhUH",
        "outputId": "9e5b6db9-ae9f-4f37-f8e3-5a4408655bf5"
      },
      "execution_count": 10,
      "outputs": [
        {
          "output_type": "stream",
          "name": "stdout",
          "text": [
            "Done.\n"
          ]
        }
      ]
    },
    {
      "cell_type": "code",
      "source": [
        "preds = RF.predict(test_x)\n",
        "print('Done.')"
      ],
      "metadata": {
        "colab": {
          "base_uri": "https://localhost:8080/"
        },
        "id": "kvIWDIg5UiQ_",
        "outputId": "bfea2976-11a0-45d3-bf0c-17c73fe2541b"
      },
      "execution_count": 11,
      "outputs": [
        {
          "output_type": "stream",
          "name": "stdout",
          "text": [
            "Done.\n"
          ]
        }
      ]
    },
    {
      "cell_type": "code",
      "source": [
        "submit = pd.read_csv('/content/drive/MyDrive/sample_submission.csv')  \n",
        "\n",
        "submit['Y_Class'] = preds \n",
        "submit.to_csv('smartFactory_submission.csv', index=False)  "
      ],
      "metadata": {
        "id": "Cyfb21qOt4dn"
      },
      "execution_count": 15,
      "outputs": []
    },
    {
      "cell_type": "code",
      "source": [
        "sns.countplot(x=preds);"
      ],
      "metadata": {
        "colab": {
          "base_uri": "https://localhost:8080/",
          "height": 265
        },
        "id": "fEh0ziZfra0c",
        "outputId": "2c27728e-580f-474a-b7d7-80520d2ab604"
      },
      "execution_count": 16,
      "outputs": [
        {
          "output_type": "display_data",
          "data": {
            "text/plain": [
              "<Figure size 432x288 with 1 Axes>"
            ],
            "image/png": "[encoded data removed]"
          },
          "metadata": {
            "needs_background": "light"
          }
        }
      ]
    },
    {
      "cell_type": "code",
      "source": [],
      "metadata": {
        "id": "hFxtiK6Ur6c_"
      },
      "execution_count": null,
      "outputs": []
    }
  ]
}