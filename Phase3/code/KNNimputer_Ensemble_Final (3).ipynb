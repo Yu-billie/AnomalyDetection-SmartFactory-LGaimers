{
  "cells": [
    {
      "cell_type": "markdown",
      "id": "ZJBm2amd3Lb5",
      "metadata": {
        "id": "ZJBm2amd3Lb5"
      },
      "source": [
        "# 팀 스마일C 코드 제출\n",
        "* 팀원: 정우섭, 김유민, 김유진, 장동언, 황정묵\n",
        "* PRIVATE SCORE: 0.65887 \n",
        "* PRIVATE RANKING: 36"
      ]
    },
    {
      "cell_type": "markdown",
      "id": "CwuGPDTVMXHe",
      "metadata": {
        "id": "CwuGPDTVMXHe"
      },
      "source": [
        "# 개발 환경\n",
        "* OS : Windows11\n",
        "* python: 3.10.10\n",
        "* 라이브러리 버전 : requirements.txt 참조"
      ]
    },
    {
      "cell_type": "markdown",
      "id": "QIfodgpc3HP6",
      "metadata": {
        "id": "QIfodgpc3HP6"
      },
      "source": [
        "# 0.Data Load\n",
        "1. install packages\n",
        "2. import libraries and csv data files"
      ]
    },
    {
      "cell_type": "code",
      "execution_count": null,
      "id": "6ab709fe",
      "metadata": {
        "colab": {
          "base_uri": "https://localhost:8080/"
        },
        "id": "6ab709fe",
        "outputId": "6786e4e5-5635-49ae-e2b2-1215eefe1b88"
      },
      "outputs": [
        {
          "output_type": "stream",
          "name": "stdout",
          "text": [
            "Looking in indexes: https://pypi.org/simple, https://us-python.pkg.dev/colab-wheels/public/simple/\n",
            "Collecting catboost\n",
            "  Downloading catboost-1.1.1-cp39-none-manylinux1_x86_64.whl (76.6 MB)\n",
            "\u001b[2K     \u001b[90m━━━━━━━━━━━━━━━━━━━━━━━━━━━━━━━━━━━━━━━━\u001b[0m \u001b[32m76.6/76.6 MB\u001b[0m \u001b[31m20.4 MB/s\u001b[0m eta \u001b[36m0:00:00\u001b[0m\n",
            "\u001b[?25hRequirement already satisfied: pandas>=0.24.0 in /usr/local/lib/python3.9/dist-packages (from catboost) (1.4.4)\n",
            "Requirement already satisfied: graphviz in /usr/local/lib/python3.9/dist-packages (from catboost) (0.20.1)\n",
            "Requirement already satisfied: matplotlib in /usr/local/lib/python3.9/dist-packages (from catboost) (3.7.1)\n",
            "Requirement already satisfied: scipy in /usr/local/lib/python3.9/dist-packages (from catboost) (1.10.1)\n",
            "Requirement already satisfied: numpy>=1.16.0 in /usr/local/lib/python3.9/dist-packages (from catboost) (1.22.4)\n",
            "Requirement already satisfied: plotly in /usr/local/lib/python3.9/dist-packages (from catboost) (5.13.1)\n",
            "Requirement already satisfied: six in /usr/local/lib/python3.9/dist-packages (from catboost) (1.16.0)\n",
            "Requirement already satisfied: python-dateutil>=2.8.1 in /usr/local/lib/python3.9/dist-packages (from pandas>=0.24.0->catboost) (2.8.2)\n",
            "Requirement already satisfied: pytz>=2020.1 in /usr/local/lib/python3.9/dist-packages (from pandas>=0.24.0->catboost) (2022.7.1)\n",
            "Requirement already satisfied: cycler>=0.10 in /usr/local/lib/python3.9/dist-packages (from matplotlib->catboost) (0.11.0)\n",
            "Requirement already satisfied: pillow>=6.2.0 in /usr/local/lib/python3.9/dist-packages (from matplotlib->catboost) (8.4.0)\n",
            "Requirement already satisfied: contourpy>=1.0.1 in /usr/local/lib/python3.9/dist-packages (from matplotlib->catboost) (1.0.7)\n",
            "Requirement already satisfied: packaging>=20.0 in /usr/local/lib/python3.9/dist-packages (from matplotlib->catboost) (23.0)\n",
            "Requirement already satisfied: importlib-resources>=3.2.0 in /usr/local/lib/python3.9/dist-packages (from matplotlib->catboost) (5.12.0)\n",
            "Requirement already satisfied: pyparsing>=2.3.1 in /usr/local/lib/python3.9/dist-packages (from matplotlib->catboost) (3.0.9)\n",
            "Requirement already satisfied: kiwisolver>=1.0.1 in /usr/local/lib/python3.9/dist-packages (from matplotlib->catboost) (1.4.4)\n",
            "Requirement already satisfied: fonttools>=4.22.0 in /usr/local/lib/python3.9/dist-packages (from matplotlib->catboost) (4.39.2)\n",
            "Requirement already satisfied: tenacity>=6.2.0 in /usr/local/lib/python3.9/dist-packages (from plotly->catboost) (8.2.2)\n",
            "Requirement already satisfied: zipp>=3.1.0 in /usr/local/lib/python3.9/dist-packages (from importlib-resources>=3.2.0->matplotlib->catboost) (3.15.0)\n",
            "Installing collected packages: catboost\n",
            "Successfully installed catboost-1.1.1\n",
            "Looking in indexes: https://pypi.org/simple, https://us-python.pkg.dev/colab-wheels/public/simple/\n",
            "Requirement already satisfied: lightgbm in /usr/local/lib/python3.9/dist-packages (3.3.5)\n",
            "Requirement already satisfied: wheel in /usr/local/lib/python3.9/dist-packages (from lightgbm) (0.40.0)\n",
            "Requirement already satisfied: scikit-learn!=0.22.0 in /usr/local/lib/python3.9/dist-packages (from lightgbm) (1.2.2)\n",
            "Requirement already satisfied: scipy in /usr/local/lib/python3.9/dist-packages (from lightgbm) (1.10.1)\n",
            "Requirement already satisfied: numpy in /usr/local/lib/python3.9/dist-packages (from lightgbm) (1.22.4)\n",
            "Requirement already satisfied: joblib>=1.1.1 in /usr/local/lib/python3.9/dist-packages (from scikit-learn!=0.22.0->lightgbm) (1.1.1)\n",
            "Requirement already satisfied: threadpoolctl>=2.0.0 in /usr/local/lib/python3.9/dist-packages (from scikit-learn!=0.22.0->lightgbm) (3.1.0)\n",
            "Looking in indexes: https://pypi.org/simple, https://us-python.pkg.dev/colab-wheels/public/simple/\n",
            "Collecting optuna\n",
            "  Downloading optuna-3.1.0-py3-none-any.whl (365 kB)\n",
            "\u001b[2K     \u001b[90m━━━━━━━━━━━━━━━━━━━━━━━━━━━━━━━━━━━━━\u001b[0m \u001b[32m365.3/365.3 KB\u001b[0m \u001b[31m683.9 kB/s\u001b[0m eta \u001b[36m0:00:00\u001b[0m\n",
            "\u001b[?25hRequirement already satisfied: PyYAML in /usr/local/lib/python3.9/dist-packages (from optuna) (6.0)\n",
            "Collecting alembic>=1.5.0\n",
            "  Downloading alembic-1.10.2-py3-none-any.whl (212 kB)\n",
            "\u001b[2K     \u001b[90m━━━━━━━━━━━━━━━━━━━━━━━━━━━━━━━━━━━━━━\u001b[0m \u001b[32m212.2/212.2 KB\u001b[0m \u001b[31m22.5 MB/s\u001b[0m eta \u001b[36m0:00:00\u001b[0m\n",
            "\u001b[?25hRequirement already satisfied: numpy in /usr/local/lib/python3.9/dist-packages (from optuna) (1.22.4)\n",
            "Requirement already satisfied: tqdm in /usr/local/lib/python3.9/dist-packages (from optuna) (4.65.0)\n",
            "Collecting colorlog\n",
            "  Downloading colorlog-6.7.0-py2.py3-none-any.whl (11 kB)\n",
            "Requirement already satisfied: sqlalchemy>=1.3.0 in /usr/local/lib/python3.9/dist-packages (from optuna) (1.4.47)\n",
            "Requirement already satisfied: packaging>=20.0 in /usr/local/lib/python3.9/dist-packages (from optuna) (23.0)\n",
            "Collecting cmaes>=0.9.1\n",
            "  Downloading cmaes-0.9.1-py3-none-any.whl (21 kB)\n",
            "Requirement already satisfied: typing-extensions>=4 in /usr/local/lib/python3.9/dist-packages (from alembic>=1.5.0->optuna) (4.5.0)\n",
            "Collecting Mako\n",
            "  Downloading Mako-1.2.4-py3-none-any.whl (78 kB)\n",
            "\u001b[2K     \u001b[90m━━━━━━━━━━━━━━━━━━━━━━━━━━━━━━━━━━━━━━━━\u001b[0m \u001b[32m78.7/78.7 KB\u001b[0m \u001b[31m11.1 MB/s\u001b[0m eta \u001b[36m0:00:00\u001b[0m\n",
            "\u001b[?25hRequirement already satisfied: greenlet!=0.4.17 in /usr/local/lib/python3.9/dist-packages (from sqlalchemy>=1.3.0->optuna) (2.0.2)\n",
            "Requirement already satisfied: MarkupSafe>=0.9.2 in /usr/local/lib/python3.9/dist-packages (from Mako->alembic>=1.5.0->optuna) (2.1.2)\n",
            "Installing collected packages: Mako, colorlog, cmaes, alembic, optuna\n",
            "Successfully installed Mako-1.2.4 alembic-1.10.2 cmaes-0.9.1 colorlog-6.7.0 optuna-3.1.0\n",
            "Looking in indexes: https://pypi.org/simple, https://us-python.pkg.dev/colab-wheels/public/simple/\n",
            "Requirement already satisfied: xgboost in /usr/local/lib/python3.9/dist-packages (1.7.4)\n",
            "Requirement already satisfied: scipy in /usr/local/lib/python3.9/dist-packages (from xgboost) (1.10.1)\n",
            "Requirement already satisfied: numpy in /usr/local/lib/python3.9/dist-packages (from xgboost) (1.22.4)\n",
            "Looking in indexes: https://pypi.org/simple, https://us-python.pkg.dev/colab-wheels/public/simple/\n",
            "Requirement already satisfied: torch in /usr/local/lib/python3.9/dist-packages (1.13.1+cu116)\n",
            "Requirement already satisfied: typing-extensions in /usr/local/lib/python3.9/dist-packages (from torch) (4.5.0)\n"
          ]
        }
      ],
      "source": [
        "!pip install catboost\n",
        "!pip install lightgbm\n",
        "!pip install optuna \n",
        "!pip install xgboost\n",
        "!pip install torch"
      ]
    },
    {
      "cell_type": "code",
      "execution_count": null,
      "id": "94682a80",
      "metadata": {
        "colab": {
          "base_uri": "https://localhost:8080/"
        },
        "id": "94682a80",
        "outputId": "29de6603-ace9-4570-f7e5-540a57663187"
      },
      "outputs": [
        {
          "output_type": "stream",
          "name": "stdout",
          "text": [
            "Looking in indexes: https://pypi.org/simple, https://us-python.pkg.dev/colab-wheels/public/simple/\n",
            "Requirement already satisfied: optuna in /usr/local/lib/python3.9/dist-packages (3.1.0)\n",
            "Requirement already satisfied: numpy in /usr/local/lib/python3.9/dist-packages (from optuna) (1.22.4)\n",
            "Requirement already satisfied: colorlog in /usr/local/lib/python3.9/dist-packages (from optuna) (6.7.0)\n",
            "Requirement already satisfied: cmaes>=0.9.1 in /usr/local/lib/python3.9/dist-packages (from optuna) (0.9.1)\n",
            "Requirement already satisfied: tqdm in /usr/local/lib/python3.9/dist-packages (from optuna) (4.65.0)\n",
            "Requirement already satisfied: alembic>=1.5.0 in /usr/local/lib/python3.9/dist-packages (from optuna) (1.10.2)\n",
            "Requirement already satisfied: packaging>=20.0 in /usr/local/lib/python3.9/dist-packages (from optuna) (23.0)\n",
            "Requirement already satisfied: sqlalchemy>=1.3.0 in /usr/local/lib/python3.9/dist-packages (from optuna) (1.4.47)\n",
            "Requirement already satisfied: PyYAML in /usr/local/lib/python3.9/dist-packages (from optuna) (6.0)\n",
            "Requirement already satisfied: typing-extensions>=4 in /usr/local/lib/python3.9/dist-packages (from alembic>=1.5.0->optuna) (4.5.0)\n",
            "Requirement already satisfied: Mako in /usr/local/lib/python3.9/dist-packages (from alembic>=1.5.0->optuna) (1.2.4)\n",
            "Requirement already satisfied: greenlet!=0.4.17 in /usr/local/lib/python3.9/dist-packages (from sqlalchemy>=1.3.0->optuna) (2.0.2)\n",
            "Requirement already satisfied: MarkupSafe>=0.9.2 in /usr/local/lib/python3.9/dist-packages (from Mako->alembic>=1.5.0->optuna) (2.1.2)\n"
          ]
        }
      ],
      "source": [
        "import pandas as pd\n",
        "import random\n",
        "import os\n",
        "import numpy as np\n",
        "import matplotlib.pyplot as plt   \n",
        "import seaborn as sns \n",
        "\n",
        "# model evaluation, preprocessing \n",
        "import sklearn\n",
        "from sklearn import preprocessing, metrics\n",
        "from sklearn.preprocessing import LabelEncoder, OneHotEncoder, StandardScaler, MinMaxScaler\n",
        "from sklearn.model_selection import train_test_split, KFold, cross_validate,GridSearchCV\n",
        "from sklearn.metrics import accuracy_score, classification_report, f1_score, roc_auc_score, log_loss\n",
        "\n",
        "# sequential model modeling \n",
        "import tensorflow as tf\n",
        "from tensorflow import keras\n",
        "from keras import regularizers\n",
        "from keras.models import Sequential\n",
        "from keras.layers import Dense,Dropout, Activation\n",
        "from keras import backend as K \n",
        "from keras import regularizers\n",
        "from keras.layers import Dense,Dropout, Activation, BatchNormalization, Conv2D, Flatten  \n",
        "from keras import optimizers, metrics, callbacks\n",
        "from keras.backend import clear_session\n",
        "\n",
        "# optuna Hyper-params tuning\n",
        "!pip install optuna\n",
        "import optuna\n",
        "from optuna import Trial\n",
        "from optuna.samplers import TPESampler\n",
        "from optuna.visualization import plot_optimization_history, plot_param_importances, plot_parallel_coordinate, plot_contour\n",
        "\n",
        "# ML classification models \n",
        "from lightgbm import LGBMClassifier\n",
        "from catboost import CatBoostClassifier\n",
        "from sklearn.ensemble import BaggingClassifier, GradientBoostingClassifier, RandomForestClassifier,VotingClassifier\n",
        "from sklearn.tree import DecisionTreeClassifier\n",
        "from sklearn.linear_model import RidgeClassifierCV\n",
        "from xgboost import XGBClassifier\n",
        "\n",
        "# # Google Drive mount\n",
        "# from google.colab import drive \n",
        "# drive.mount('/content/drive')"
      ]
    },
    {
      "cell_type": "code",
      "execution_count": null,
      "id": "0AdADLxT1DoQ",
      "metadata": {
        "colab": {
          "base_uri": "https://localhost:8080/"
        },
        "id": "0AdADLxT1DoQ",
        "outputId": "0ea2137d-1903-470b-f627-c40e627b3538"
      },
      "outputs": [
        {
          "output_type": "stream",
          "name": "stdout",
          "text": [
            "37\n"
          ]
        }
      ],
      "source": [
        "# seed fixing for reproduction \n",
        "import torch \n",
        "import random as rn \n",
        "\n",
        "def seed_everything(seed):\n",
        "    random.seed(seed)\n",
        "    os.environ['PYTHONHASHSEED'] = str(seed)\n",
        "    np.random.seed(seed)\n",
        "seed_everything(37) # Seed 고정\n",
        "seed_num=37\n",
        "\n",
        "def seed_everything(seed):\n",
        "    random.seed(seed)\n",
        "    os.environ['PYTHONHASHSEED'] = str(seed)\n",
        "    np.random.seed(seed)\n",
        "    torch.manual_seed(seed)\n",
        "    torch.cuda.manual_seed(seed)  # type: ignore\n",
        "    torch.backends.cudnn.deterministic = True  # type: ignore\n",
        "    torch.backends.cudnn.benchmark = True  # type: ignore\n",
        "seed_everything(37)\n",
        "seed_num=37\n",
        "seed=37\n",
        "\n",
        "np.random.seed(seed_num)\n",
        "rn.seed(seed_num) \n",
        "tf.random.set_seed(seed_num)\n",
        "session_conf = tf.compat.v1.ConfigProto(intra_op_parallelism_threads=1, inter_op_parallelism_threads=1)\n",
        "sess = tf.compat.v1.Session(config=session_conf)\n",
        "K.set_session(sess)\n",
        "\n",
        "class config:   \n",
        "    seed = 37  \n",
        "    device = \"cuda:0\"            \n",
        "\n",
        "def seed_everything(seed: int = 37):\n",
        "    random.seed(seed)\n",
        "    np.random.seed(seed)\n",
        "    os.environ[\"PYTHONHASHSEED\"] = str(seed)\n",
        "    tf.random.set_seed(seed)\n",
        "seed_everything(config.seed)\n",
        "tf.random.set_seed(37) # tensorflow global seed \n",
        "print(config.seed)     "
      ]
    },
    {
      "cell_type": "code",
      "execution_count": null,
      "id": "lQROx2fcxIW7",
      "metadata": {
        "id": "lQROx2fcxIW7"
      },
      "outputs": [],
      "source": [
        "train_df = pd.read_csv('train.csv')\n",
        "test_df = pd.read_csv('test.csv')\n",
        "submit = pd.read_csv('sample_submission.csv')\n",
        "\n",
        "train_x = train_df.drop(columns=['PRODUCT_ID', 'Y_Class','Y_Quality'])\n",
        "train_y = train_df['Y_Class']\n",
        "test_x = test_df.drop(columns=['PRODUCT_ID'])   "
      ]
    },
    {
      "cell_type": "markdown",
      "id": "wqkW_3EbQxj1",
      "metadata": {
        "id": "wqkW_3EbQxj1"
      },
      "source": [
        "# 1.Data & Features"
      ]
    },
    {
      "cell_type": "markdown",
      "id": "ZK3O2Kd24yP_",
      "metadata": {
        "id": "ZK3O2Kd24yP_"
      },
      "source": [
        "## 1.1 EDA\n",
        "1. feature correlation heatmaps\n",
        "2. feature importance\n",
        "3. feature distribution plots"
      ]
    },
    {
      "cell_type": "code",
      "execution_count": null,
      "id": "E1vfXTKcK9Dt",
      "metadata": {
        "id": "E1vfXTKcK9Dt"
      },
      "outputs": [],
      "source": [
        "# # random 20 features list (모두 NaN인 컬럼 제외하고, 랜덤 20개 feature의 상관관계 히트맵)\n",
        "# Xs = train_df.iloc[:,4:].columns\n",
        "# null_count = train_df.isnull().sum().to_dict()\n",
        "# cols = pd.DataFrame({i for i in null_count if null_count[i]<250 and i in Xs})\n",
        "# cols_name = list(cols[0])  # not_all_NAN features name in list \n",
        "\n",
        "# import random\n",
        "# a = ['Y_Quality']\n",
        "# for i in range(20):\n",
        "#     num = random.randint(1,3326)\n",
        "#     a.append(cols_name[i])\n",
        "\n",
        "# # heatmap: `random X features` and `Y_Quality` correlation\n",
        "# corr = train_df[a].corr()  # correlation matrix\n",
        "# fig, ax = plt.subplots(figsize=(15,10))\n",
        "# sns.heatmap(corr, annot=True, fmt='.2f', cmap='Blues', linewidths=2);"
      ]
    },
    {
      "cell_type": "code",
      "execution_count": null,
      "id": "lLsOtCgTSvRA",
      "metadata": {
        "id": "lLsOtCgTSvRA"
      },
      "outputs": [],
      "source": [
        "# # feature 중요도\n",
        "# import matplotlib.pyplot as plt\n",
        "# import seaborn as sns\n",
        "# from sklearn.ensemble import RandomForestRegressor\n",
        "\n",
        "# qual_col = ['LINE', 'PRODUCT_CODE']\n",
        "# for i in qual_col:\n",
        "#     le = LabelEncoder()\n",
        "#     le = le.fit(train_x[i])\n",
        "#     train_x[i] = le.transform(train_x[i])\n",
        "#     for label in np.unique(test_x[i]):\n",
        "#         if label not in le.classes_:\n",
        "#             le.classes_ = np.append(le.classes_, label)\n",
        "#     test_x[i] = le.transform(test_x[i])\n",
        "\n",
        "# train_x = train_x.fillna(0)\n",
        "# test_x = test_x.fillna(0)\n",
        "# X_train, X_test, y_train, y_test=train_test_split(train_x,train_y,test_size=0.3,random_state=seed_num)\n",
        "\n",
        "# %matplotlib inline\n",
        "# RF = RandomForestRegressor(random_state=0, max_depth=5, min_samples_leaf=8, min_samples_split=8,n_estimators=200)\n",
        "# RF.fit(X_train, y_train)\n",
        "# ftr_importances_values = RF.feature_importances_\n",
        "# ftr_importances = pd.Series(ftr_importances_values, index=X_train.columns)\n",
        "# ftr_top = ftr_importances.sort_values(ascending=False)[:20]\n",
        " \n",
        "# plt.figure(figsize=(10, 10))\n",
        "# sns.barplot(x=ftr_top, y=ftr_top.index)\n",
        "# plt.show()      "
      ]
    },
    {
      "cell_type": "code",
      "execution_count": null,
      "id": "GdugZkQrSvJS",
      "metadata": {
        "colab": {
          "base_uri": "https://localhost:8080/",
          "height": 393
        },
        "id": "GdugZkQrSvJS",
        "outputId": "5498c139-a40a-4930-b1f1-0bfe2c092486"
      },
      "outputs": [
        {
          "output_type": "execute_result",
          "data": {
            "text/plain": [
              "              X_1         X_2    X_3         X_4         X_5    X_6  \\\n",
              "count  838.000000  838.000000  838.0  838.000000  838.000000  838.0   \n",
              "mean     2.755370   94.953461    0.0   45.005967   10.335322    0.0   \n",
              "std      9.155686    4.212002    0.0    0.077059    0.472385    0.0   \n",
              "min      1.000000   87.000000    0.0   45.000000   10.000000    0.0   \n",
              "25%      2.000000   93.000000    0.0   45.000000   10.000000    0.0   \n",
              "50%      2.000000   95.000000    0.0   45.000000   10.000000    0.0   \n",
              "75%      2.000000   98.000000    0.0   45.000000   11.000000    0.0   \n",
              "max    154.000000  102.000000    0.0   46.000000   11.000000    0.0   \n",
              "\n",
              "              X_7         X_8         X_9   X_10  ...      X_3317  \\\n",
              "count  838.000000  838.000000  838.000000  838.0  ...  153.000000   \n",
              "mean    48.587112   10.027446   41.875895    2.0  ...    0.000007   \n",
              "std      3.951187    0.163477   10.499536    0.0  ...    0.000001   \n",
              "min     45.000000   10.000000   31.000000    2.0  ...    0.000004   \n",
              "25%     45.000000   10.000000   31.000000    2.0  ...    0.000007   \n",
              "50%     50.000000   10.000000   52.000000    2.0  ...    0.000007   \n",
              "75%     51.000000   10.000000   52.000000    2.0  ...    0.000008   \n",
              "max     67.000000   11.000000   52.000000    2.0  ...    0.000010   \n",
              "\n",
              "             X_3318      X_3319      X_3320      X_3321      X_3322  \\\n",
              "count  1.530000e+02  153.000000  153.000000  153.000000  153.000000   \n",
              "mean   3.666993e-06    0.190375    0.000021    0.000971    0.000032   \n",
              "std    7.589918e-07    0.000870    0.000011    0.000280    0.000010   \n",
              "min    2.630000e-06    0.188860    0.000007    0.000644    0.000019   \n",
              "25%    3.230000e-06    0.189687    0.000010    0.000672    0.000023   \n",
              "50%    3.420000e-06    0.190287    0.000013    0.001180    0.000028   \n",
              "75%    3.890000e-06    0.191110    0.000032    0.001230    0.000041   \n",
              "max    7.070000e-06    0.193656    0.000035    0.001310    0.000048   \n",
              "\n",
              "           X_3323        X_3324      X_3325      X_3326  \n",
              "count  153.000000  1.530000e+02  153.000000  153.000000  \n",
              "mean     0.000003  2.161843e-06    0.188588    0.000017  \n",
              "std      0.000001  6.646358e-07    0.001444    0.000012  \n",
              "min      0.000002  4.130000e-07    0.185000    0.000003  \n",
              "25%      0.000003  1.570000e-06    0.187000    0.000005  \n",
              "50%      0.000003  2.360000e-06    0.189000    0.000007  \n",
              "75%      0.000004  2.710000e-06    0.189000    0.000030  \n",
              "max      0.000007  3.410000e-06    0.193000    0.000033  \n",
              "\n",
              "[8 rows x 3326 columns]"
            ],
            "text/html": [
              "\n",
              "  <div id=\"df-24da8b34-b304-4a93-a9d7-0a4c34a3230f\">\n",
              "    <div class=\"colab-df-container\">\n",
              "      <div>\n",
              "<style scoped>\n",
              "    .dataframe tbody tr th:only-of-type {\n",
              "        vertical-align: middle;\n",
              "    }\n",
              "\n",
              "    .dataframe tbody tr th {\n",
              "        vertical-align: top;\n",
              "    }\n",
              "\n",
              "    .dataframe thead th {\n",
              "        text-align: right;\n",
              "    }\n",
              "</style>\n",
              "<table border=\"1\" class=\"dataframe\">\n",
              "  <thead>\n",
              "    <tr style=\"text-align: right;\">\n",
              "      <th></th>\n",
              "      <th>X_1</th>\n",
              "      <th>X_2</th>\n",
              "      <th>X_3</th>\n",
              "      <th>X_4</th>\n",
              "      <th>X_5</th>\n",
              "      <th>X_6</th>\n",
              "      <th>X_7</th>\n",
              "      <th>X_8</th>\n",
              "      <th>X_9</th>\n",
              "      <th>X_10</th>\n",
              "      <th>...</th>\n",
              "      <th>X_3317</th>\n",
              "      <th>X_3318</th>\n",
              "      <th>X_3319</th>\n",
              "      <th>X_3320</th>\n",
              "      <th>X_3321</th>\n",
              "      <th>X_3322</th>\n",
              "      <th>X_3323</th>\n",
              "      <th>X_3324</th>\n",
              "      <th>X_3325</th>\n",
              "      <th>X_3326</th>\n",
              "    </tr>\n",
              "  </thead>\n",
              "  <tbody>\n",
              "    <tr>\n",
              "      <th>count</th>\n",
              "      <td>838.000000</td>\n",
              "      <td>838.000000</td>\n",
              "      <td>838.0</td>\n",
              "      <td>838.000000</td>\n",
              "      <td>838.000000</td>\n",
              "      <td>838.0</td>\n",
              "      <td>838.000000</td>\n",
              "      <td>838.000000</td>\n",
              "      <td>838.000000</td>\n",
              "      <td>838.0</td>\n",
              "      <td>...</td>\n",
              "      <td>153.000000</td>\n",
              "      <td>1.530000e+02</td>\n",
              "      <td>153.000000</td>\n",
              "      <td>153.000000</td>\n",
              "      <td>153.000000</td>\n",
              "      <td>153.000000</td>\n",
              "      <td>153.000000</td>\n",
              "      <td>1.530000e+02</td>\n",
              "      <td>153.000000</td>\n",
              "      <td>153.000000</td>\n",
              "    </tr>\n",
              "    <tr>\n",
              "      <th>mean</th>\n",
              "      <td>2.755370</td>\n",
              "      <td>94.953461</td>\n",
              "      <td>0.0</td>\n",
              "      <td>45.005967</td>\n",
              "      <td>10.335322</td>\n",
              "      <td>0.0</td>\n",
              "      <td>48.587112</td>\n",
              "      <td>10.027446</td>\n",
              "      <td>41.875895</td>\n",
              "      <td>2.0</td>\n",
              "      <td>...</td>\n",
              "      <td>0.000007</td>\n",
              "      <td>3.666993e-06</td>\n",
              "      <td>0.190375</td>\n",
              "      <td>0.000021</td>\n",
              "      <td>0.000971</td>\n",
              "      <td>0.000032</td>\n",
              "      <td>0.000003</td>\n",
              "      <td>2.161843e-06</td>\n",
              "      <td>0.188588</td>\n",
              "      <td>0.000017</td>\n",
              "    </tr>\n",
              "    <tr>\n",
              "      <th>std</th>\n",
              "      <td>9.155686</td>\n",
              "      <td>4.212002</td>\n",
              "      <td>0.0</td>\n",
              "      <td>0.077059</td>\n",
              "      <td>0.472385</td>\n",
              "      <td>0.0</td>\n",
              "      <td>3.951187</td>\n",
              "      <td>0.163477</td>\n",
              "      <td>10.499536</td>\n",
              "      <td>0.0</td>\n",
              "      <td>...</td>\n",
              "      <td>0.000001</td>\n",
              "      <td>7.589918e-07</td>\n",
              "      <td>0.000870</td>\n",
              "      <td>0.000011</td>\n",
              "      <td>0.000280</td>\n",
              "      <td>0.000010</td>\n",
              "      <td>0.000001</td>\n",
              "      <td>6.646358e-07</td>\n",
              "      <td>0.001444</td>\n",
              "      <td>0.000012</td>\n",
              "    </tr>\n",
              "    <tr>\n",
              "      <th>min</th>\n",
              "      <td>1.000000</td>\n",
              "      <td>87.000000</td>\n",
              "      <td>0.0</td>\n",
              "      <td>45.000000</td>\n",
              "      <td>10.000000</td>\n",
              "      <td>0.0</td>\n",
              "      <td>45.000000</td>\n",
              "      <td>10.000000</td>\n",
              "      <td>31.000000</td>\n",
              "      <td>2.0</td>\n",
              "      <td>...</td>\n",
              "      <td>0.000004</td>\n",
              "      <td>2.630000e-06</td>\n",
              "      <td>0.188860</td>\n",
              "      <td>0.000007</td>\n",
              "      <td>0.000644</td>\n",
              "      <td>0.000019</td>\n",
              "      <td>0.000002</td>\n",
              "      <td>4.130000e-07</td>\n",
              "      <td>0.185000</td>\n",
              "      <td>0.000003</td>\n",
              "    </tr>\n",
              "    <tr>\n",
              "      <th>25%</th>\n",
              "      <td>2.000000</td>\n",
              "      <td>93.000000</td>\n",
              "      <td>0.0</td>\n",
              "      <td>45.000000</td>\n",
              "      <td>10.000000</td>\n",
              "      <td>0.0</td>\n",
              "      <td>45.000000</td>\n",
              "      <td>10.000000</td>\n",
              "      <td>31.000000</td>\n",
              "      <td>2.0</td>\n",
              "      <td>...</td>\n",
              "      <td>0.000007</td>\n",
              "      <td>3.230000e-06</td>\n",
              "      <td>0.189687</td>\n",
              "      <td>0.000010</td>\n",
              "      <td>0.000672</td>\n",
              "      <td>0.000023</td>\n",
              "      <td>0.000003</td>\n",
              "      <td>1.570000e-06</td>\n",
              "      <td>0.187000</td>\n",
              "      <td>0.000005</td>\n",
              "    </tr>\n",
              "    <tr>\n",
              "      <th>50%</th>\n",
              "      <td>2.000000</td>\n",
              "      <td>95.000000</td>\n",
              "      <td>0.0</td>\n",
              "      <td>45.000000</td>\n",
              "      <td>10.000000</td>\n",
              "      <td>0.0</td>\n",
              "      <td>50.000000</td>\n",
              "      <td>10.000000</td>\n",
              "      <td>52.000000</td>\n",
              "      <td>2.0</td>\n",
              "      <td>...</td>\n",
              "      <td>0.000007</td>\n",
              "      <td>3.420000e-06</td>\n",
              "      <td>0.190287</td>\n",
              "      <td>0.000013</td>\n",
              "      <td>0.001180</td>\n",
              "      <td>0.000028</td>\n",
              "      <td>0.000003</td>\n",
              "      <td>2.360000e-06</td>\n",
              "      <td>0.189000</td>\n",
              "      <td>0.000007</td>\n",
              "    </tr>\n",
              "    <tr>\n",
              "      <th>75%</th>\n",
              "      <td>2.000000</td>\n",
              "      <td>98.000000</td>\n",
              "      <td>0.0</td>\n",
              "      <td>45.000000</td>\n",
              "      <td>11.000000</td>\n",
              "      <td>0.0</td>\n",
              "      <td>51.000000</td>\n",
              "      <td>10.000000</td>\n",
              "      <td>52.000000</td>\n",
              "      <td>2.0</td>\n",
              "      <td>...</td>\n",
              "      <td>0.000008</td>\n",
              "      <td>3.890000e-06</td>\n",
              "      <td>0.191110</td>\n",
              "      <td>0.000032</td>\n",
              "      <td>0.001230</td>\n",
              "      <td>0.000041</td>\n",
              "      <td>0.000004</td>\n",
              "      <td>2.710000e-06</td>\n",
              "      <td>0.189000</td>\n",
              "      <td>0.000030</td>\n",
              "    </tr>\n",
              "    <tr>\n",
              "      <th>max</th>\n",
              "      <td>154.000000</td>\n",
              "      <td>102.000000</td>\n",
              "      <td>0.0</td>\n",
              "      <td>46.000000</td>\n",
              "      <td>11.000000</td>\n",
              "      <td>0.0</td>\n",
              "      <td>67.000000</td>\n",
              "      <td>11.000000</td>\n",
              "      <td>52.000000</td>\n",
              "      <td>2.0</td>\n",
              "      <td>...</td>\n",
              "      <td>0.000010</td>\n",
              "      <td>7.070000e-06</td>\n",
              "      <td>0.193656</td>\n",
              "      <td>0.000035</td>\n",
              "      <td>0.001310</td>\n",
              "      <td>0.000048</td>\n",
              "      <td>0.000007</td>\n",
              "      <td>3.410000e-06</td>\n",
              "      <td>0.193000</td>\n",
              "      <td>0.000033</td>\n",
              "    </tr>\n",
              "  </tbody>\n",
              "</table>\n",
              "<p>8 rows × 3326 columns</p>\n",
              "</div>\n",
              "      <button class=\"colab-df-convert\" onclick=\"convertToInteractive('df-24da8b34-b304-4a93-a9d7-0a4c34a3230f')\"\n",
              "              title=\"Convert this dataframe to an interactive table.\"\n",
              "              style=\"display:none;\">\n",
              "        \n",
              "  <svg xmlns=\"http://www.w3.org/2000/svg\" height=\"24px\"viewBox=\"0 0 24 24\"\n",
              "       width=\"24px\">\n",
              "    <path d=\"M0 0h24v24H0V0z\" fill=\"none\"/>\n",
              "    <path d=\"M18.56 5.44l.94 2.06.94-2.06 2.06-.94-2.06-.94-.94-2.06-.94 2.06-2.06.94zm-11 1L8.5 8.5l.94-2.06 2.06-.94-2.06-.94L8.5 2.5l-.94 2.06-2.06.94zm10 10l.94 2.06.94-2.06 2.06-.94-2.06-.94-.94-2.06-.94 2.06-2.06.94z\"/><path d=\"M17.41 7.96l-1.37-1.37c-.4-.4-.92-.59-1.43-.59-.52 0-1.04.2-1.43.59L10.3 9.45l-7.72 7.72c-.78.78-.78 2.05 0 2.83L4 21.41c.39.39.9.59 1.41.59.51 0 1.02-.2 1.41-.59l7.78-7.78 2.81-2.81c.8-.78.8-2.07 0-2.86zM5.41 20L4 18.59l7.72-7.72 1.47 1.35L5.41 20z\"/>\n",
              "  </svg>\n",
              "      </button>\n",
              "      \n",
              "  <style>\n",
              "    .colab-df-container {\n",
              "      display:flex;\n",
              "      flex-wrap:wrap;\n",
              "      gap: 12px;\n",
              "    }\n",
              "\n",
              "    .colab-df-convert {\n",
              "      background-color: #E8F0FE;\n",
              "      border: none;\n",
              "      border-radius: 50%;\n",
              "      cursor: pointer;\n",
              "      display: none;\n",
              "      fill: #1967D2;\n",
              "      height: 32px;\n",
              "      padding: 0 0 0 0;\n",
              "      width: 32px;\n",
              "    }\n",
              "\n",
              "    .colab-df-convert:hover {\n",
              "      background-color: #E2EBFA;\n",
              "      box-shadow: 0px 1px 2px rgba(60, 64, 67, 0.3), 0px 1px 3px 1px rgba(60, 64, 67, 0.15);\n",
              "      fill: #174EA6;\n",
              "    }\n",
              "\n",
              "    [theme=dark] .colab-df-convert {\n",
              "      background-color: #3B4455;\n",
              "      fill: #D2E3FC;\n",
              "    }\n",
              "\n",
              "    [theme=dark] .colab-df-convert:hover {\n",
              "      background-color: #434B5C;\n",
              "      box-shadow: 0px 1px 3px 1px rgba(0, 0, 0, 0.15);\n",
              "      filter: drop-shadow(0px 1px 2px rgba(0, 0, 0, 0.3));\n",
              "      fill: #FFFFFF;\n",
              "    }\n",
              "  </style>\n",
              "\n",
              "      <script>\n",
              "        const buttonEl =\n",
              "          document.querySelector('#df-24da8b34-b304-4a93-a9d7-0a4c34a3230f button.colab-df-convert');\n",
              "        buttonEl.style.display =\n",
              "          google.colab.kernel.accessAllowed ? 'block' : 'none';\n",
              "\n",
              "        async function convertToInteractive(key) {\n",
              "          const element = document.querySelector('#df-24da8b34-b304-4a93-a9d7-0a4c34a3230f');\n",
              "          const dataTable =\n",
              "            await google.colab.kernel.invokeFunction('convertToInteractive',\n",
              "                                                     [key], {});\n",
              "          if (!dataTable) return;\n",
              "\n",
              "          const docLinkHtml = 'Like what you see? Visit the ' +\n",
              "            '<a target=\"_blank\" href=https://colab.research.google.com/notebooks/data_table.ipynb>data table notebook</a>'\n",
              "            + ' to learn more about interactive tables.';\n",
              "          element.innerHTML = '';\n",
              "          dataTable['output_type'] = 'display_data';\n",
              "          await google.colab.output.renderOutput(dataTable, element);\n",
              "          const docLink = document.createElement('div');\n",
              "          docLink.innerHTML = docLinkHtml;\n",
              "          element.appendChild(docLink);\n",
              "        }\n",
              "      </script>\n",
              "    </div>\n",
              "  </div>\n",
              "  "
            ]
          },
          "metadata": {},
          "execution_count": 10
        }
      ],
      "source": [
        "# feature distribution \n",
        "train_x.describe()    "
      ]
    },
    {
      "cell_type": "code",
      "execution_count": null,
      "id": "fceMKvgyg2Kg",
      "metadata": {
        "colab": {
          "base_uri": "https://localhost:8080/",
          "height": 297
        },
        "id": "fceMKvgyg2Kg",
        "outputId": "2448d8fa-5f45-4cf9-83b1-d5893da0bb19"
      },
      "outputs": [
        {
          "output_type": "execute_result",
          "data": {
            "text/plain": [
              "<Axes: xlabel='X_2794', ylabel='Count'>"
            ]
          },
          "metadata": {},
          "execution_count": 11
        },
        {
          "output_type": "display_data",
          "data": {
            "text/plain": [
              "<Figure size 432x288 with 1 Axes>"
            ],
            "image/png": "[encoded data removed]"
          },
          "metadata": {
            "needs_background": "light"
          }
        }
      ],
      "source": [
        "# feature histogram with KDE (밀도그래프) \n",
        "# 임의의 feature에 대한 histplot + 밀도 곡선 출력\n",
        "num = random.randint(1,3326)\n",
        "sns.histplot(train_x[f'X_{num}'], kde=True)"
      ]
    },
    {
      "cell_type": "code",
      "execution_count": null,
      "id": "xskVkfufSvDg",
      "metadata": {
        "colab": {
          "base_uri": "https://localhost:8080/",
          "height": 475
        },
        "id": "xskVkfufSvDg",
        "outputId": "6daf1349-65ca-4c16-aef0-f89c11d359e5"
      },
      "outputs": [
        {
          "output_type": "display_data",
          "data": {
            "text/plain": [
              "<Figure size 1152x864 with 20 Axes>"
            ],
            "image/png": "[encoded data removed]"
          },
          "metadata": {
            "needs_background": "light"
          }
        }
      ],
      "source": [
        "# visualize random 20 features distribution \n",
        "# imbalanced feature distribution (NO Gaussian distribution shape) --> MinMaxscaler\n",
        "fig, axes = plt.subplots(5,4,figsize=(16,12))\n",
        "ax= axes.flatten()\n",
        "\n",
        "for i in range(20): \n",
        "    num = random.randint(1,3326)\n",
        "    ax[i].hist(train_x[f'X_{num}']);    "
      ]
    },
    {
      "cell_type": "markdown",
      "id": "xuPOUxQ7Su9m",
      "metadata": {
        "id": "xuPOUxQ7Su9m"
      },
      "source": [
        "## 1.2 Preprocessing\n",
        "1. Label Encoding: categorical values `LINE`, `PRODUCT_CODE`\n",
        "2. Missing values: fillna(0) \n",
        "3. scaling: StandardScaler"
      ]
    },
    {
      "cell_type": "code",
      "execution_count": null,
      "id": "kZ1PM_Zrtzph",
      "metadata": {
        "id": "kZ1PM_Zrtzph"
      },
      "outputs": [],
      "source": [
        "# train_df = pd.read_csv('./train.csv')\n",
        "# test_df = pd.read_csv('./test.csv')\n",
        "# submit = pd.read_csv('./sample_submission.csv')\n",
        "\n",
        "# train_x = train_df.drop(columns=['PRODUCT_ID', 'TIMESTAMP', 'Y_Class','Y_Quality'])\n",
        "# train_y = train_df['Y_Class']\n",
        "# test_x = test_df.drop(columns=['PRODUCT_ID', 'TIMESTAMP'])   "
      ]
    },
    {
      "cell_type": "code",
      "execution_count": null,
      "id": "3AbGp2rBuxuW",
      "metadata": {
        "id": "3AbGp2rBuxuW"
      },
      "outputs": [],
      "source": [
        "# 1) qualitative to quantitative\n",
        "qual_col = ['LINE', 'PRODUCT_CODE']\n",
        "for i in qual_col:\n",
        "    le = LabelEncoder()    # one-hot encoding (X): get_dummies(test_df) is not allowed (data leakage)   \n",
        "    le = le.fit(train_x[i])\n",
        "    train_x[i] = le.transform(train_x[i])\n",
        "    for label in np.unique(test_x[i]): \n",
        "        if label not in le.classes_: \n",
        "            le.classes_ = np.append(le.classes_, label)\n",
        "    test_x[i] = le.transform(test_x[i]) \n"
      ]
    },
    {
      "cell_type": "code",
      "execution_count": null,
      "id": "3d0cbadd-27ac-4508-8ef3-7e1724447a9c",
      "metadata": {
        "id": "3d0cbadd-27ac-4508-8ef3-7e1724447a9c"
      },
      "outputs": [],
      "source": [
        "# train에서 열의 유일한 값이 nan이거나 모두 같은 값인 경우 해당 열을 제외\n",
        "def remove_col(train_df):\n",
        "    for x in train_x.columns[6:]:\n",
        "        if train_x[x].nunique()==0 or len(train_x[x].unique())==1: # nan 이거나 모두 같은 값인 경우\n",
        "            train_x.drop(columns=[x], inplace=True) \n",
        "            test_x.drop(columns=[x], inplace=True)       \n",
        "    return train_df\n",
        "\n",
        "train = remove_col(train_df) "
      ]
    },
    {
      "cell_type": "code",
      "execution_count": null,
      "id": "5268f2be-31a1-4dbd-8783-3ea146519509",
      "metadata": {
        "id": "5268f2be-31a1-4dbd-8783-3ea146519509"
      },
      "outputs": [],
      "source": []
    },
    {
      "cell_type": "code",
      "execution_count": null,
      "id": "GZ72F04guy3o",
      "metadata": {
        "id": "GZ72F04guy3o"
      },
      "outputs": [],
      "source": [
        "# 2) Missing Values \n",
        "# train_x = train_x.fillna(0)\n",
        "# test_x = test_x.fillna(0)"
      ]
    },
    {
      "cell_type": "code",
      "execution_count": null,
      "id": "c66d3bf4",
      "metadata": {
        "id": "c66d3bf4"
      },
      "outputs": [],
      "source": [
        "# 3) MinMaxscaling: only `X_???` values (continuous)\n",
        "# Xs = train_x.select_dtypes(include=float).iloc[:,1:].columns.tolist()\n",
        "# scaler = MinMaxScaler().fit(train_x.loc[:, Xs])\n",
        "# train_x.loc[:, Xs] = scaler.transform(train_x.loc[:, Xs])\n",
        "# test_x.loc[:, Xs] = scaler.transform(test_x.loc[:, Xs])\n",
        "\n",
        "# KNN Imputer \n",
        "from sklearn.impute import KNNImputer\n",
        "\n",
        "# Impute missing values using KNN imputer on train data\n",
        "imputer = KNNImputer(n_neighbors=5)   # n_neighbors: params\n",
        "imputer.fit(train_x)\n",
        "                                 \n",
        "train_x = imputer.transform(train_x)    \n",
        "test_x = imputer.transform(test_x) \n",
        "train_x = pd.DataFrame(train_x)\n",
        "test_x = pd.DataFrame(test_x)\n",
        "train_x.head()\n",
        "\n",
        "# # Define columns with missing values\n",
        "# missing_cols = ['X_{}'.format(i) for i in range(1, 3327)]\n",
        "\n",
        "# # Impute missing values using KNN imputer on train data\n",
        "# imputer = KNNImputer(n_neighbors=5)\n",
        "# imputer.fit(train_x)\n",
        "            \n",
        "# # imputer = KNNImputer(n_neighbors=1)\n",
        "# # imputer.fit(train)   \n",
        "                                       \n",
        "# train_x = imputer.transform(train_x) \n",
        "# test_x = imputer.transform(test_x)    \n",
        "\n",
        "# train_x = pd.DataFrame(train_x)\n",
        "# test_x = pd.DataFrame(test_x)\n",
        "# train_x.head()\n",
        "\n",
        "\n",
        "X_train, X_test, y_train, y_test=train_test_split(train_x,train_y,test_size=0.3,random_state=seed_num)"
      ]
    },
    {
      "cell_type": "code",
      "execution_count": null,
      "id": "a06e13eb-9e6f-4f75-8d9a-ec5ab10f076b",
      "metadata": {
        "tags": [],
        "colab": {
          "base_uri": "https://localhost:8080/"
        },
        "id": "a06e13eb-9e6f-4f75-8d9a-ec5ab10f076b",
        "outputId": "f5d25b5b-5c0b-4aa4-82f7-866898d94871"
      },
      "outputs": [
        {
          "output_type": "stream",
          "name": "stdout",
          "text": [
            "(1132, 3254)\n"
          ]
        }
      ],
      "source": [
        "print(train_x.shape)"
      ]
    },
    {
      "cell_type": "markdown",
      "id": "hIoaatyGu9Zq",
      "metadata": {
        "id": "hIoaatyGu9Zq"
      },
      "source": [
        "# 2.Modeling"
      ]
    },
    {
      "cell_type": "markdown",
      "id": "GQGMvepMJy87",
      "metadata": {
        "id": "GQGMvepMJy87"
      },
      "source": [
        "## 2.1 ML models\n",
        "- 여러 Machine Learning Classifier 모델들의 test set Accuracy score 도출 \n",
        "    - Ensemble에서 각 모델의 weight(가중치) 정하기 위한 근거로 사용하기 위함\n",
        "1. RandomForestClassifier\n",
        "2. GradientboostingClassiifer\n",
        "3. XGBClassifier\n",
        "4. LGBMClassifier\n",
        "5. CatboostClassifier\n",
        "6. RidgeClassifier\n",
        "7. BaggingClassifier"
      ]
    },
    {
      "cell_type": "code",
      "execution_count": null,
      "id": "m61QOAHA8lvG",
      "metadata": {
        "id": "m61QOAHA8lvG"
      },
      "outputs": [],
      "source": [
        "from catboost import CatBoostClassifier\n",
        "from sklearn.ensemble import GradientBoostingClassifier\n",
        "from sklearn.ensemble import StackingClassifier\n",
        "from sklearn.linear_model import LogisticRegression\n",
        "from sklearn.ensemble import RandomForestClassifier\n",
        "\n",
        "models = [\n",
        "    RandomForestClassifier(random_state=seed_num), \n",
        "    GradientBoostingClassifier(random_state=seed_num),      \n",
        "    XGBClassifier(random_state=seed_num),\n",
        "    LGBMClassifier(objective='multiclass', random_state=seed_num),\n",
        "    CatBoostClassifier(objective='MultiClass',\n",
        "                                   task_type='GPU',\n",
        "                                   one_hot_max_size=2, random_seed=seed_num,\n",
        "                                   iterations=4000, verbose=False,\n",
        "                                   learning_rate=0.05\n",
        "                                   ),\n",
        "    RidgeClassifierCV(),  # RidgeClassifier: no seed setting argument  \n",
        "    BaggingClassifier(random_state=seed_num)]"
      ]
    },
    {
      "cell_type": "code",
      "execution_count": null,
      "id": "qfV3aJaS8lvI",
      "metadata": {
        "id": "qfV3aJaS8lvI"
      },
      "outputs": [],
      "source": [
        "# # find weights for each model \n",
        "# model_list = ['RF', 'GBC', 'XGB', 'LGBM', 'Catboost', 'Ridge', 'Bagging']\n",
        "# i=0\n",
        "# model_acc = {}\n",
        "\n",
        "# for model in models:  \n",
        "#     if i == 4: \n",
        "#         preds = model.fit(X_train, y_train).predict(X_test)\n",
        "#         preds = preds.reshape(1,340)\n",
        "#         preds = list(preds[0])\n",
        "#     else: \n",
        "#         preds = model.fit(X_train, y_train).predict(X_test)\n",
        "\n",
        "#     globals()[f'preds_{model_list[i]}'] = preds   # set variable name for each model prediction results  \n",
        "  \n",
        "#     score = sklearn.metrics.accuracy_score(y_test, preds)\n",
        "#     model_acc[model_list[i]] = score\n",
        "#     i += 1   \n",
        "\n",
        "# print(model_acc)   "
      ]
    },
    {
      "cell_type": "code",
      "execution_count": null,
      "id": "PihsvBmKhfOd",
      "metadata": {
        "id": "PihsvBmKhfOd"
      },
      "outputs": [],
      "source": [
        "# # ML models accuracy comparison plot \n",
        "# model_name = list(model_acc.keys())\n",
        "# model_acc = list(model_acc.values())\n",
        "# acc_dic = {'model': model_name, 'acc': model_acc}\n",
        "# acc_df = pd.DataFrame(acc_dic)\n",
        "# acc_df = acc_df.set_index('model')\n",
        "\n",
        "# acc_df.plot(kind='barh', figsize=(14,8),\n",
        "#             title='Model Comparison - accuracy score');"
      ]
    },
    {
      "cell_type": "markdown",
      "id": "_KIk0bpq4IHj",
      "metadata": {
        "id": "_KIk0bpq4IHj"
      },
      "source": [
        "## 2.2 Sequential MLP \n",
        "* Deep Learning Modeling: Sequential MLP model"
      ]
    },
    {
      "cell_type": "code",
      "execution_count": null,
      "id": "8wlnknVPi0NX",
      "metadata": {
        "id": "8wlnknVPi0NX"
      },
      "outputs": [],
      "source": [
        "import torch.nn as nn \n",
        "import torch.nn.functional as F \n",
        "\n",
        "class MultilayerPerceptron(nn.Module):\n",
        "    def __init__(self, input_dim, hidden_dim1, hidden_dim2, output_dim):\n",
        "        \"\"\"\n",
        "        parameters: \n",
        "            input_dim (int): 입력 벡터 크기\n",
        "            hidden_dim1 (int): 첫 번째 Linear 층의 출력 크기\n",
        "            hidden_dim2 (int): 두 번째 Linear 층의 출력 크기 \n",
        "            output_dim (int): 세 번째 Linear 층의 출력 크기 \n",
        "        \"\"\"\n",
        "        super(MultilayerPerceptron, self).__init__()\n",
        "        self.fc1 = nn.Linear(input_dim, hidden_dim1)\n",
        "        self.fc2 = nn.Linear(hidden_dim1, hidden_dim2)\n",
        "       # self.fc3 = nn.Linear(hidden_dim2, hidden_dim3)\n",
        "        self.fc4 = nn.Linear(hidden_dim2, output_dim)\n",
        "\n",
        "    def forward(self, x_in, apply_softmax=False):\n",
        "        \"\"\"\n",
        "        MLP의 정방향 계산 \n",
        "\n",
        "        parameters:\n",
        "            x_in (torch.Tensor): 입력 데이터 텐서\n",
        "                x_in.shape는 (batch, input_dim)\n",
        "            apply_softmax (multiclasses): softmax activation function \n",
        "        return: \n",
        "            result Tensor\n",
        "            tesnor.shape: (batch, output_dim)\n",
        "        \"\"\"\n",
        "        intermediate1 = F.relu(self.fc1(x_in))   # activation function\n",
        "        intermediate2 = F.relu(self.fc2(intermediate1))   # activation function\n",
        "       # intermediate3 = F.relu(self.fc3(intermediate2))   # activation function\n",
        "        output = self.fc4(intermediate2)    \n",
        "\n",
        "\n",
        "        if apply_softmax: \n",
        "            output = F.softmax(output, dim=1)   # output layer: softmax activation function\n",
        "        return output "
      ]
    },
    {
      "cell_type": "code",
      "execution_count": null,
      "id": "Fp5qXV02kPeC",
      "metadata": {
        "colab": {
          "base_uri": "https://localhost:8080/"
        },
        "id": "Fp5qXV02kPeC",
        "outputId": "289fa6a6-984f-407e-88ec-4dff0dfc5993"
      },
      "outputs": [
        {
          "output_type": "stream",
          "name": "stdout",
          "text": [
            "MultilayerPerceptron(\n",
            "  (fc1): Linear(in_features=3254, out_features=1024, bias=True)\n",
            "  (fc2): Linear(in_features=1024, out_features=512, bias=True)\n",
            "  (fc4): Linear(in_features=512, out_features=3, bias=True)\n",
            ")\n",
            "Type: torch.FloatTensor\n",
            "shape: torch.Size([256, 3])\n"
          ]
        }
      ],
      "source": [
        "def describe(x): \n",
        "    print(f'Type: {x.type()}')\n",
        "    print(f'shape: {x.shape}')\n",
        "    # print(f'value: {x}') \n",
        "\n",
        "batch_size = 256 \n",
        "input_dim = train_x.shape[-1]\n",
        "hidden_dim1 = 1024\n",
        "hidden_dim2 = 512\n",
        "output_dim = 3 \n",
        "\n",
        "# model design \n",
        "mlp = MultilayerPerceptron(input_dim, hidden_dim1, hidden_dim2, output_dim)\n",
        "print(mlp)\n",
        "x_input = torch.rand(batch_size, input_dim)\n",
        "y_output = mlp(x_input, apply_softmax=True)  # result: probabilities format \n",
        "a = y_output\n",
        "describe(y_output)"
      ]
    },
    {
      "cell_type": "code",
      "execution_count": null,
      "id": "FLHA36Z1iEhW",
      "metadata": {
        "colab": {
          "base_uri": "https://localhost:8080/",
          "height": 265
        },
        "id": "FLHA36Z1iEhW",
        "outputId": "ded4ad08-6741-47e2-add5-c49a1a1a3c1b"
      },
      "outputs": [
        {
          "output_type": "display_data",
          "data": {
            "text/plain": [
              "<Figure size 432x288 with 1 Axes>"
            ],
            "image/png": "[encoded data removed]"
          },
          "metadata": {
            "needs_background": "light"
          }
        }
      ],
      "source": [
        "prediction=[]\n",
        "\n",
        "for i in a: \n",
        "    i = list(i)\n",
        "    prediction.append(i.index(max(i)))\n",
        "\n",
        "sns.countplot(x=prediction);    "
      ]
    },
    {
      "cell_type": "markdown",
      "id": "7f3d392b",
      "metadata": {
        "id": "7f3d392b"
      },
      "source": [
        "# 3.Params Optimization\n",
        "1. Optuna\n",
        "2. GridSearch "
      ]
    },
    {
      "cell_type": "markdown",
      "id": "5ee4390b",
      "metadata": {
        "id": "5ee4390b"
      },
      "source": [
        "## 3.1 Light Gradient Boosting\n",
        "1. Optuna\n",
        "    - hyperparameters auto optimization"
      ]
    },
    {
      "cell_type": "code",
      "execution_count": null,
      "id": "29dc0524",
      "metadata": {
        "id": "29dc0524"
      },
      "outputs": [],
      "source": [
        "# def objective(trial, X, y, cv, scoring):\n",
        "#     params = {\n",
        "#         'lambda_l1' : trial.suggest_loguniform('lambda_l1', 1e-8, 1e-1),\n",
        "#         'lambda_l2' : trial.suggest_loguniform('lambda_l2', 1e-8, 1e-1),\n",
        "#         'path_smooth' : trial.suggest_loguniform('path_smooth', 1e-8, 1e-3),\n",
        "#         'num_leaves' : trial.suggest_int('num_leaves', 30, 200),\n",
        "#         'min_data_in_leaf': trial.suggest_int('min_data_in_leaf', 10, 100),\n",
        "#         'max_bin' : trial.suggest_int('max_bin', 100, 255),\n",
        "#         'feature_fraction' : trial.suggest_uniform('feature_fraction', 0.5, 0.9),\n",
        "#         'bagging_fraction' : trial.suggest_uniform('bagging_fraction', 0.5, 0.9),\n",
        "#     }\n",
        "#   # Perform cross validation\n",
        "#   # gb_class = GradientBoostingClassifier(**params)\n",
        "#     lgbm_class = LGBMClassifier(**params)\n",
        "\n",
        "#   # Compute scores\n",
        "#     scores = cross_validate(lgbm_class, X, y, cv = cv, scoring = scoring, n_jobs = -1)\n",
        "#     accuracy = scores[\"test_score\"].mean()\n",
        "#     return accuracy"
      ]
    },
    {
      "cell_type": "markdown",
      "id": "0c65d30f",
      "metadata": {
        "id": "0c65d30f"
      },
      "source": [
        "- Optimization for params\n",
        "\n",
        "    - K-Fold, trials = 10"
      ]
    },
    {
      "cell_type": "code",
      "execution_count": null,
      "id": "4d11262c",
      "metadata": {
        "id": "4d11262c"
      },
      "outputs": [],
      "source": [
        "# sampler = optuna.samplers.TPESampler(seed=10, gpu_properties={'device_id': 0})\n",
        "# study = optuna.create_study(direction = \"maximize\")\n",
        "# study.set_user_attr(\"verbose\", True)\n",
        "\n",
        "# kf = sklearn.model_selection.StratifiedKFold(n_splits=5, shuffle=True, random_state=37)\n",
        "\n",
        "# func = lambda trial: objective(trial, X_train, y_train, cv = kf, scoring = \"accuracy\")\n",
        "\n",
        "# # # %%time\n",
        "# # # Start optimizing with 100 trials\n",
        "# study.optimize(func, n_trials = 10,n_jobs=-1)\n",
        "\n",
        "# print(f\"The highest accuracy reached by this study: {(study.best_value) * 100}%.\")\n",
        "# print(\"Best params:\")\n",
        "# for key, value in study.best_params.items():\n",
        "#     print(f\"\\t{key}: {value}\")    "
      ]
    },
    {
      "cell_type": "code",
      "execution_count": null,
      "id": "7d5b7e95",
      "metadata": {
        "colab": {
          "base_uri": "https://localhost:8080/"
        },
        "id": "7d5b7e95",
        "outputId": "5e58d625-b5ad-4c4c-82a8-7413a132c27e"
      },
      "outputs": [
        {
          "output_type": "stream",
          "name": "stdout",
          "text": [
            "[LightGBM] [Warning] lambda_l1 is set=0.00048021471491299205, reg_alpha=0.0 will be ignored. Current value: lambda_l1=0.00048021471491299205\n",
            "[LightGBM] [Warning] bagging_fraction is set=0.7302696718518357, subsample=1.0 will be ignored. Current value: bagging_fraction=0.7302696718518357\n",
            "[LightGBM] [Warning] feature_fraction is set=0.6536282159518209, colsample_bytree=1.0 will be ignored. Current value: feature_fraction=0.6536282159518209\n",
            "[LightGBM] [Warning] min_data_in_leaf is set=16, min_child_samples=20 will be ignored. Current value: min_data_in_leaf=16\n",
            "[LightGBM] [Warning] lambda_l2 is set=0.021386150387940235, reg_lambda=0.0 will be ignored. Current value: lambda_l2=0.021386150387940235\n",
            "              precision    recall  f1-score   support\n",
            "\n",
            "           0       0.61      0.38      0.47        53\n",
            "           1       0.77      0.93      0.84       227\n",
            "           2       0.71      0.42      0.53        60\n",
            "\n",
            "    accuracy                           0.75       340\n",
            "   macro avg       0.70      0.57      0.61       340\n",
            "weighted avg       0.74      0.75      0.73       340\n",
            "\n",
            "\n",
            " Optuna :  0.75\n"
          ]
        }
      ],
      "source": [
        "import imblearn\n",
        "\n",
        "params= {'lambda_l1': 0.00048021471491299205,'lambda_l2': 0.021386150387940235,\n",
        "         'path_smooth': 4.976692465226837e-07,'num_leaves': 83,\n",
        "         'min_data_in_leaf': 16,'max_bin': 219,\n",
        "         'feature_fraction': 0.6536282159518209,'bagging_fraction': 0.7302696718518357,}\n",
        "# GBC =  GradientBoostingClassifier(random_state=37, **params,                              \n",
        "#                                   ).fit(X_train, y_train)\n",
        "# preds = GBC.predict(X_test)\n",
        "LGBM =  LGBMClassifier(random_state=37, **params,).fit(X_train, y_train)\n",
        "lgbm_preds = LGBM.predict(X_test)\n",
        "# LGBMClassifier(objective='multiclass', random_state=seed_num)\n",
        "print(classification_report(y_test, lgbm_preds))\n",
        "print(\"\\n Optuna : \", accuracy_score(y_test, lgbm_preds))"
      ]
    },
    {
      "cell_type": "code",
      "execution_count": null,
      "id": "8f76630f",
      "metadata": {
        "id": "8f76630f"
      },
      "outputs": [],
      "source": [
        "from optuna.visualization import plot_optimization_history\n",
        "from optuna.visualization import plot_param_importances\n",
        "from optuna.visualization import plot_parallel_coordinate\n",
        "from optuna.visualization import plot_contour\n",
        "#plot_param_importances(study)"
      ]
    },
    {
      "cell_type": "code",
      "execution_count": null,
      "id": "9b95ea12-6fbe-4748-87fe-5e7c323218bd",
      "metadata": {
        "colab": {
          "base_uri": "https://localhost:8080/"
        },
        "id": "9b95ea12-6fbe-4748-87fe-5e7c323218bd",
        "outputId": "2ee5f90c-6bad-4569-83bf-970e359ea4ed"
      },
      "outputs": [
        {
          "output_type": "stream",
          "name": "stdout",
          "text": [
            "acc:  0.75\n"
          ]
        }
      ],
      "source": [
        "RF=RandomForestClassifier(random_state=seed_num).fit(X_train,y_train)\n",
        "rf_pred=RF.predict(X_test)\n",
        "print(\"acc: \",accuracy_score(y_test, lgbm_preds))\n",
        "\n"
      ]
    },
    {
      "cell_type": "code",
      "source": [
        "from sklearn.model_selection import cross_val_score\n",
        "# Change following line to range(NFOLDS) to run & find best params.\n",
        "# for fold_id in range(5, 5):\n",
        "#     print('========== Processing fold', fold_id, '==========')\n",
        "\n",
        "import optuna\n",
        "\n",
        "# 1. 최소화/최대화할 목적함수 정의\n",
        "def objective(trial):\n",
        "\n",
        "# 2. trial object로 하이퍼파라미터 값 추천\n",
        "# 다양한 분류모델을 설정해서 비교할 수 있다.\n",
        "    classifier_name = trial.suggest_categorical('classifier', ['RandomForest'])\n",
        "    # #분류 모델이 SVC일 때\n",
        "    # if classifier_name == 'SVC':\n",
        "    #     svc_c = trial.suggest_loguniform('svc_c', 1e-10, 1e10)\n",
        "    #     classifier_obj = sklearn.svm.SVC(C=svc_c, gamma='auto')\n",
        "    \n",
        "    #분류모델이 랜덤포레스트일 때\n",
        "    # else:\n",
        "    # rf_max_depth = int(trial.suggest_loguniform('rf_max_depth', 2, 32))\n",
        "    # tfidf__analyzer = trial.suggest_categorical('tfidf__analyzer', ['word', 'char', 'char_wb']) \n",
        "    # tfidf__lowercase = trial.suggest_categorical('tfidf__lowercase', [False, True]) \n",
        "    tfidf__max_features = trial.suggest_int('tfidf__max_features', 500, 10_000) \n",
        "    rf__n_estimators = trial.suggest_int('rf__num_estimators', 300, 500) \n",
        "    rf__max_depth = trial.suggest_int('rf__max_depth', 5, 15) \n",
        "    rf__min_samples_split = trial.suggest_int('rf__min_samples_split', 10, 30) \n",
        "    \n",
        "\n",
        "    classifier_obj = sklearn.ensemble.RandomForestClassifier(max_depth=rf__max_depth, \n",
        "                                                             n_estimators=rf__n_estimators,\n",
        "                                                             max_features=tfidf__max_features,\n",
        "                                                             min_samples_split = rf__min_samples_split)\n",
        "    \n",
        "    accuracy = cross_val_score(classifier_obj, train_x, train_y, cv = 5).mean()\n",
        "    return accuracy\n",
        "    \n",
        "# 3. study 오브젝트 생성하고 목적함수 최적화하는 단계\n",
        "# 여기서는 목적함수를 정확도로 설정했기 때문에 최대화를 목표로 하고 있지만, 손실함수의 경우 direction='minimize'로 설정\n",
        "study = optuna.create_study(direction='maximize')\n",
        "# 반복 시행 횟수(trial)는 200번으로\n",
        "study.optimize(objective, n_trials=200)\n",
        "\n",
        "# Trial 42 finished with value: 0.7667966161163308 and parameters: {'classifier': 'RandomForest', 'rf_max_depth': 17.53243068297166}. "
      ],
      "metadata": {
        "colab": {
          "base_uri": "https://localhost:8080/",
          "height": 1000
        },
        "id": "HKgV8Eb5UdBf",
        "outputId": "6a171bf4-474e-4655-9cb1-fe90d5596e4d"
      },
      "id": "HKgV8Eb5UdBf",
      "execution_count": null,
      "outputs": [
        {
          "output_type": "stream",
          "name": "stderr",
          "text": [
            "\u001b[32m[I 2023-03-26 00:29:48,106]\u001b[0m A new study created in memory with name: no-name-b47297d4-2b14-4a0d-8df9-f2ba588601d5\u001b[0m\n",
            "\u001b[32m[I 2023-03-26 00:37:11,811]\u001b[0m Trial 0 finished with value: 0.7517679622626797 and parameters: {'classifier': 'RandomForest', 'tfidf__max_features': 5234, 'rf__num_estimators': 451, 'rf__max_depth': 7, 'rf__min_samples_split': 28}. Best is trial 0 with value: 0.7517679622626797.\u001b[0m\n",
            "\u001b[32m[I 2023-03-26 00:42:04,092]\u001b[0m Trial 1 finished with value: 0.7526412225644225 and parameters: {'classifier': 'RandomForest', 'tfidf__max_features': 9419, 'rf__num_estimators': 369, 'rf__max_depth': 5, 'rf__min_samples_split': 14}. Best is trial 1 with value: 0.7526412225644225.\u001b[0m\n",
            "\u001b[32m[I 2023-03-26 00:52:24,460]\u001b[0m Trial 2 finished with value: 0.7650072121944563 and parameters: {'classifier': 'RandomForest', 'tfidf__max_features': 8804, 'rf__num_estimators': 394, 'rf__max_depth': 14, 'rf__min_samples_split': 21}. Best is trial 2 with value: 0.7650072121944563.\u001b[0m\n",
            "\u001b[32m[I 2023-03-26 00:57:30,506]\u001b[0m Trial 3 finished with value: 0.7597130716151417 and parameters: {'classifier': 'RandomForest', 'tfidf__max_features': 1541, 'rf__num_estimators': 399, 'rf__max_depth': 14, 'rf__min_samples_split': 21}. Best is trial 2 with value: 0.7650072121944563.\u001b[0m\n",
            "\u001b[32m[I 2023-03-26 01:08:38,939]\u001b[0m Trial 4 finished with value: 0.7614790846360766 and parameters: {'classifier': 'RandomForest', 'tfidf__max_features': 9155, 'rf__num_estimators': 399, 'rf__max_depth': 15, 'rf__min_samples_split': 24}. Best is trial 2 with value: 0.7650072121944563.\u001b[0m\n",
            "\u001b[32m[I 2023-03-26 01:21:43,617]\u001b[0m Trial 5 finished with value: 0.7720907566956454 and parameters: {'classifier': 'RandomForest', 'tfidf__max_features': 6321, 'rf__num_estimators': 458, 'rf__max_depth': 15, 'rf__min_samples_split': 14}. Best is trial 5 with value: 0.7720907566956454.\u001b[0m\n",
            "\u001b[33m[W 2023-03-26 01:27:23,198]\u001b[0m Trial 6 failed with parameters: {'classifier': 'RandomForest', 'tfidf__max_features': 2669, 'rf__num_estimators': 328, 'rf__max_depth': 15, 'rf__min_samples_split': 29} because of the following error: KeyboardInterrupt().\u001b[0m\n",
            "Traceback (most recent call last):\n",
            "  File \"/usr/local/lib/python3.9/dist-packages/optuna/study/_optimize.py\", line 200, in _run_trial\n",
            "    value_or_values = func(trial)\n",
            "  File \"<ipython-input-21-0ed2b57b7711>\", line 35, in objective\n",
            "    accuracy = cross_val_score(classifier_obj, train_x, train_y, cv = 5).mean()\n",
            "  File \"/usr/local/lib/python3.9/dist-packages/sklearn/model_selection/_validation.py\", line 515, in cross_val_score\n",
            "    cv_results = cross_validate(\n",
            "  File \"/usr/local/lib/python3.9/dist-packages/sklearn/model_selection/_validation.py\", line 266, in cross_validate\n",
            "    results = parallel(\n",
            "  File \"/usr/local/lib/python3.9/dist-packages/sklearn/utils/parallel.py\", line 63, in __call__\n",
            "    return super().__call__(iterable_with_config)\n",
            "  File \"/usr/local/lib/python3.9/dist-packages/joblib/parallel.py\", line 1051, in __call__\n",
            "    while self.dispatch_one_batch(iterator):\n",
            "  File \"/usr/local/lib/python3.9/dist-packages/joblib/parallel.py\", line 864, in dispatch_one_batch\n",
            "    self._dispatch(tasks)\n",
            "  File \"/usr/local/lib/python3.9/dist-packages/joblib/parallel.py\", line 782, in _dispatch\n",
            "    job = self._backend.apply_async(batch, callback=cb)\n",
            "  File \"/usr/local/lib/python3.9/dist-packages/joblib/_parallel_backends.py\", line 208, in apply_async\n",
            "    result = ImmediateResult(func)\n",
            "  File \"/usr/local/lib/python3.9/dist-packages/joblib/_parallel_backends.py\", line 572, in __init__\n",
            "    self.results = batch()\n",
            "  File \"/usr/local/lib/python3.9/dist-packages/joblib/parallel.py\", line 263, in __call__\n",
            "    return [func(*args, **kwargs)\n",
            "  File \"/usr/local/lib/python3.9/dist-packages/joblib/parallel.py\", line 263, in <listcomp>\n",
            "    return [func(*args, **kwargs)\n",
            "  File \"/usr/local/lib/python3.9/dist-packages/sklearn/utils/parallel.py\", line 123, in __call__\n",
            "    return self.function(*args, **kwargs)\n",
            "  File \"/usr/local/lib/python3.9/dist-packages/sklearn/model_selection/_validation.py\", line 686, in _fit_and_score\n",
            "    estimator.fit(X_train, y_train, **fit_params)\n",
            "  File \"/usr/local/lib/python3.9/dist-packages/sklearn/ensemble/_forest.py\", line 473, in fit\n",
            "    trees = Parallel(\n",
            "  File \"/usr/local/lib/python3.9/dist-packages/sklearn/utils/parallel.py\", line 63, in __call__\n",
            "    return super().__call__(iterable_with_config)\n",
            "  File \"/usr/local/lib/python3.9/dist-packages/joblib/parallel.py\", line 1051, in __call__\n",
            "    while self.dispatch_one_batch(iterator):\n",
            "  File \"/usr/local/lib/python3.9/dist-packages/joblib/parallel.py\", line 864, in dispatch_one_batch\n",
            "    self._dispatch(tasks)\n",
            "  File \"/usr/local/lib/python3.9/dist-packages/joblib/parallel.py\", line 782, in _dispatch\n",
            "    job = self._backend.apply_async(batch, callback=cb)\n",
            "  File \"/usr/local/lib/python3.9/dist-packages/joblib/_parallel_backends.py\", line 208, in apply_async\n",
            "    result = ImmediateResult(func)\n",
            "  File \"/usr/local/lib/python3.9/dist-packages/joblib/_parallel_backends.py\", line 572, in __init__\n",
            "    self.results = batch()\n",
            "  File \"/usr/local/lib/python3.9/dist-packages/joblib/parallel.py\", line 263, in __call__\n",
            "    return [func(*args, **kwargs)\n",
            "  File \"/usr/local/lib/python3.9/dist-packages/joblib/parallel.py\", line 263, in <listcomp>\n",
            "    return [func(*args, **kwargs)\n",
            "  File \"/usr/local/lib/python3.9/dist-packages/sklearn/utils/parallel.py\", line 123, in __call__\n",
            "    return self.function(*args, **kwargs)\n",
            "  File \"/usr/local/lib/python3.9/dist-packages/sklearn/ensemble/_forest.py\", line 184, in _parallel_build_trees\n",
            "    tree.fit(X, y, sample_weight=curr_sample_weight, check_input=False)\n",
            "  File \"/usr/local/lib/python3.9/dist-packages/sklearn/tree/_classes.py\", line 889, in fit\n",
            "    super().fit(\n",
            "  File \"/usr/local/lib/python3.9/dist-packages/sklearn/tree/_classes.py\", line 379, in fit\n",
            "    builder.build(self.tree_, X, y, sample_weight)\n",
            "KeyboardInterrupt\n",
            "\u001b[33m[W 2023-03-26 01:27:23,200]\u001b[0m Trial 6 failed with value None.\u001b[0m\n"
          ]
        },
        {
          "output_type": "error",
          "ename": "KeyboardInterrupt",
          "evalue": "ignored",
          "traceback": [
            "\u001b[0;31m---------------------------------------------------------------------------\u001b[0m",
            "\u001b[0;31mKeyboardInterrupt\u001b[0m                         Traceback (most recent call last)",
            "\u001b[0;32m<ipython-input-21-0ed2b57b7711>\u001b[0m in \u001b[0;36m<module>\u001b[0;34m\u001b[0m\n\u001b[1;32m     40\u001b[0m \u001b[0mstudy\u001b[0m \u001b[0;34m=\u001b[0m \u001b[0moptuna\u001b[0m\u001b[0;34m.\u001b[0m\u001b[0mcreate_study\u001b[0m\u001b[0;34m(\u001b[0m\u001b[0mdirection\u001b[0m\u001b[0;34m=\u001b[0m\u001b[0;34m'maximize'\u001b[0m\u001b[0;34m)\u001b[0m\u001b[0;34m\u001b[0m\u001b[0;34m\u001b[0m\u001b[0m\n\u001b[1;32m     41\u001b[0m \u001b[0;31m# 반복 시행 횟수(trial)는 200번으로\u001b[0m\u001b[0;34m\u001b[0m\u001b[0;34m\u001b[0m\u001b[0m\n\u001b[0;32m---> 42\u001b[0;31m \u001b[0mstudy\u001b[0m\u001b[0;34m.\u001b[0m\u001b[0moptimize\u001b[0m\u001b[0;34m(\u001b[0m\u001b[0mobjective\u001b[0m\u001b[0;34m,\u001b[0m \u001b[0mn_trials\u001b[0m\u001b[0;34m=\u001b[0m\u001b[0;36m200\u001b[0m\u001b[0;34m)\u001b[0m\u001b[0;34m\u001b[0m\u001b[0;34m\u001b[0m\u001b[0m\n\u001b[0m\u001b[1;32m     43\u001b[0m \u001b[0;34m\u001b[0m\u001b[0m\n\u001b[1;32m     44\u001b[0m \u001b[0;31m# Trial 42 finished with value: 0.7667966161163308 and parameters: {'classifier': 'RandomForest', 'rf_max_depth': 17.53243068297166}.\u001b[0m\u001b[0;34m\u001b[0m\u001b[0;34m\u001b[0m\u001b[0m\n",
            "\u001b[0;32m/usr/local/lib/python3.9/dist-packages/optuna/study/study.py\u001b[0m in \u001b[0;36moptimize\u001b[0;34m(self, func, n_trials, timeout, n_jobs, catch, callbacks, gc_after_trial, show_progress_bar)\u001b[0m\n\u001b[1;32m    423\u001b[0m         \"\"\"\n\u001b[1;32m    424\u001b[0m \u001b[0;34m\u001b[0m\u001b[0m\n\u001b[0;32m--> 425\u001b[0;31m         _optimize(\n\u001b[0m\u001b[1;32m    426\u001b[0m             \u001b[0mstudy\u001b[0m\u001b[0;34m=\u001b[0m\u001b[0mself\u001b[0m\u001b[0;34m,\u001b[0m\u001b[0;34m\u001b[0m\u001b[0;34m\u001b[0m\u001b[0m\n\u001b[1;32m    427\u001b[0m             \u001b[0mfunc\u001b[0m\u001b[0;34m=\u001b[0m\u001b[0mfunc\u001b[0m\u001b[0;34m,\u001b[0m\u001b[0;34m\u001b[0m\u001b[0;34m\u001b[0m\u001b[0m\n",
            "\u001b[0;32m/usr/local/lib/python3.9/dist-packages/optuna/study/_optimize.py\u001b[0m in \u001b[0;36m_optimize\u001b[0;34m(study, func, n_trials, timeout, n_jobs, catch, callbacks, gc_after_trial, show_progress_bar)\u001b[0m\n\u001b[1;32m     64\u001b[0m     \u001b[0;32mtry\u001b[0m\u001b[0;34m:\u001b[0m\u001b[0;34m\u001b[0m\u001b[0;34m\u001b[0m\u001b[0m\n\u001b[1;32m     65\u001b[0m         \u001b[0;32mif\u001b[0m \u001b[0mn_jobs\u001b[0m \u001b[0;34m==\u001b[0m \u001b[0;36m1\u001b[0m\u001b[0;34m:\u001b[0m\u001b[0;34m\u001b[0m\u001b[0;34m\u001b[0m\u001b[0m\n\u001b[0;32m---> 66\u001b[0;31m             _optimize_sequential(\n\u001b[0m\u001b[1;32m     67\u001b[0m                 \u001b[0mstudy\u001b[0m\u001b[0;34m,\u001b[0m\u001b[0;34m\u001b[0m\u001b[0;34m\u001b[0m\u001b[0m\n\u001b[1;32m     68\u001b[0m                 \u001b[0mfunc\u001b[0m\u001b[0;34m,\u001b[0m\u001b[0;34m\u001b[0m\u001b[0;34m\u001b[0m\u001b[0m\n",
            "\u001b[0;32m/usr/local/lib/python3.9/dist-packages/optuna/study/_optimize.py\u001b[0m in \u001b[0;36m_optimize_sequential\u001b[0;34m(study, func, n_trials, timeout, catch, callbacks, gc_after_trial, reseed_sampler_rng, time_start, progress_bar)\u001b[0m\n\u001b[1;32m    161\u001b[0m \u001b[0;34m\u001b[0m\u001b[0m\n\u001b[1;32m    162\u001b[0m         \u001b[0;32mtry\u001b[0m\u001b[0;34m:\u001b[0m\u001b[0;34m\u001b[0m\u001b[0;34m\u001b[0m\u001b[0m\n\u001b[0;32m--> 163\u001b[0;31m             \u001b[0mfrozen_trial\u001b[0m \u001b[0;34m=\u001b[0m \u001b[0m_run_trial\u001b[0m\u001b[0;34m(\u001b[0m\u001b[0mstudy\u001b[0m\u001b[0;34m,\u001b[0m \u001b[0mfunc\u001b[0m\u001b[0;34m,\u001b[0m \u001b[0mcatch\u001b[0m\u001b[0;34m)\u001b[0m\u001b[0;34m\u001b[0m\u001b[0;34m\u001b[0m\u001b[0m\n\u001b[0m\u001b[1;32m    164\u001b[0m         \u001b[0;32mfinally\u001b[0m\u001b[0;34m:\u001b[0m\u001b[0;34m\u001b[0m\u001b[0;34m\u001b[0m\u001b[0m\n\u001b[1;32m    165\u001b[0m             \u001b[0;31m# The following line mitigates memory problems that can be occurred in some\u001b[0m\u001b[0;34m\u001b[0m\u001b[0;34m\u001b[0m\u001b[0m\n",
            "\u001b[0;32m/usr/local/lib/python3.9/dist-packages/optuna/study/_optimize.py\u001b[0m in \u001b[0;36m_run_trial\u001b[0;34m(study, func, catch)\u001b[0m\n\u001b[1;32m    249\u001b[0m         \u001b[0;32mand\u001b[0m \u001b[0;32mnot\u001b[0m \u001b[0misinstance\u001b[0m\u001b[0;34m(\u001b[0m\u001b[0mfunc_err\u001b[0m\u001b[0;34m,\u001b[0m \u001b[0mcatch\u001b[0m\u001b[0;34m)\u001b[0m\u001b[0;34m\u001b[0m\u001b[0;34m\u001b[0m\u001b[0m\n\u001b[1;32m    250\u001b[0m     ):\n\u001b[0;32m--> 251\u001b[0;31m         \u001b[0;32mraise\u001b[0m \u001b[0mfunc_err\u001b[0m\u001b[0;34m\u001b[0m\u001b[0;34m\u001b[0m\u001b[0m\n\u001b[0m\u001b[1;32m    252\u001b[0m     \u001b[0;32mreturn\u001b[0m \u001b[0mfrozen_trial\u001b[0m\u001b[0;34m\u001b[0m\u001b[0;34m\u001b[0m\u001b[0m\n\u001b[1;32m    253\u001b[0m \u001b[0;34m\u001b[0m\u001b[0m\n",
            "\u001b[0;32m/usr/local/lib/python3.9/dist-packages/optuna/study/_optimize.py\u001b[0m in \u001b[0;36m_run_trial\u001b[0;34m(study, func, catch)\u001b[0m\n\u001b[1;32m    198\u001b[0m     \u001b[0;32mwith\u001b[0m \u001b[0mget_heartbeat_thread\u001b[0m\u001b[0;34m(\u001b[0m\u001b[0mtrial\u001b[0m\u001b[0;34m.\u001b[0m\u001b[0m_trial_id\u001b[0m\u001b[0;34m,\u001b[0m \u001b[0mstudy\u001b[0m\u001b[0;34m.\u001b[0m\u001b[0m_storage\u001b[0m\u001b[0;34m)\u001b[0m\u001b[0;34m:\u001b[0m\u001b[0;34m\u001b[0m\u001b[0;34m\u001b[0m\u001b[0m\n\u001b[1;32m    199\u001b[0m         \u001b[0;32mtry\u001b[0m\u001b[0;34m:\u001b[0m\u001b[0;34m\u001b[0m\u001b[0;34m\u001b[0m\u001b[0m\n\u001b[0;32m--> 200\u001b[0;31m             \u001b[0mvalue_or_values\u001b[0m \u001b[0;34m=\u001b[0m \u001b[0mfunc\u001b[0m\u001b[0;34m(\u001b[0m\u001b[0mtrial\u001b[0m\u001b[0;34m)\u001b[0m\u001b[0;34m\u001b[0m\u001b[0;34m\u001b[0m\u001b[0m\n\u001b[0m\u001b[1;32m    201\u001b[0m         \u001b[0;32mexcept\u001b[0m \u001b[0mexceptions\u001b[0m\u001b[0;34m.\u001b[0m\u001b[0mTrialPruned\u001b[0m \u001b[0;32mas\u001b[0m \u001b[0me\u001b[0m\u001b[0;34m:\u001b[0m\u001b[0;34m\u001b[0m\u001b[0;34m\u001b[0m\u001b[0m\n\u001b[1;32m    202\u001b[0m             \u001b[0;31m# TODO(mamu): Handle multi-objective cases.\u001b[0m\u001b[0;34m\u001b[0m\u001b[0;34m\u001b[0m\u001b[0m\n",
            "\u001b[0;32m<ipython-input-21-0ed2b57b7711>\u001b[0m in \u001b[0;36mobjective\u001b[0;34m(trial)\u001b[0m\n\u001b[1;32m     33\u001b[0m                                                              min_samples_split = rf__min_samples_split)\n\u001b[1;32m     34\u001b[0m \u001b[0;34m\u001b[0m\u001b[0m\n\u001b[0;32m---> 35\u001b[0;31m     \u001b[0maccuracy\u001b[0m \u001b[0;34m=\u001b[0m \u001b[0mcross_val_score\u001b[0m\u001b[0;34m(\u001b[0m\u001b[0mclassifier_obj\u001b[0m\u001b[0;34m,\u001b[0m \u001b[0mtrain_x\u001b[0m\u001b[0;34m,\u001b[0m \u001b[0mtrain_y\u001b[0m\u001b[0;34m,\u001b[0m \u001b[0mcv\u001b[0m \u001b[0;34m=\u001b[0m \u001b[0;36m5\u001b[0m\u001b[0;34m)\u001b[0m\u001b[0;34m.\u001b[0m\u001b[0mmean\u001b[0m\u001b[0;34m(\u001b[0m\u001b[0;34m)\u001b[0m\u001b[0;34m\u001b[0m\u001b[0;34m\u001b[0m\u001b[0m\n\u001b[0m\u001b[1;32m     36\u001b[0m     \u001b[0;32mreturn\u001b[0m \u001b[0maccuracy\u001b[0m\u001b[0;34m\u001b[0m\u001b[0;34m\u001b[0m\u001b[0m\n\u001b[1;32m     37\u001b[0m \u001b[0;34m\u001b[0m\u001b[0m\n",
            "\u001b[0;32m/usr/local/lib/python3.9/dist-packages/sklearn/model_selection/_validation.py\u001b[0m in \u001b[0;36mcross_val_score\u001b[0;34m(estimator, X, y, groups, scoring, cv, n_jobs, verbose, fit_params, pre_dispatch, error_score)\u001b[0m\n\u001b[1;32m    513\u001b[0m     \u001b[0mscorer\u001b[0m \u001b[0;34m=\u001b[0m \u001b[0mcheck_scoring\u001b[0m\u001b[0;34m(\u001b[0m\u001b[0mestimator\u001b[0m\u001b[0;34m,\u001b[0m \u001b[0mscoring\u001b[0m\u001b[0;34m=\u001b[0m\u001b[0mscoring\u001b[0m\u001b[0;34m)\u001b[0m\u001b[0;34m\u001b[0m\u001b[0;34m\u001b[0m\u001b[0m\n\u001b[1;32m    514\u001b[0m \u001b[0;34m\u001b[0m\u001b[0m\n\u001b[0;32m--> 515\u001b[0;31m     cv_results = cross_validate(\n\u001b[0m\u001b[1;32m    516\u001b[0m         \u001b[0mestimator\u001b[0m\u001b[0;34m=\u001b[0m\u001b[0mestimator\u001b[0m\u001b[0;34m,\u001b[0m\u001b[0;34m\u001b[0m\u001b[0;34m\u001b[0m\u001b[0m\n\u001b[1;32m    517\u001b[0m         \u001b[0mX\u001b[0m\u001b[0;34m=\u001b[0m\u001b[0mX\u001b[0m\u001b[0;34m,\u001b[0m\u001b[0;34m\u001b[0m\u001b[0;34m\u001b[0m\u001b[0m\n",
            "\u001b[0;32m/usr/local/lib/python3.9/dist-packages/sklearn/model_selection/_validation.py\u001b[0m in \u001b[0;36mcross_validate\u001b[0;34m(estimator, X, y, groups, scoring, cv, n_jobs, verbose, fit_params, pre_dispatch, return_train_score, return_estimator, error_score)\u001b[0m\n\u001b[1;32m    264\u001b[0m     \u001b[0;31m# independent, and that it is pickle-able.\u001b[0m\u001b[0;34m\u001b[0m\u001b[0;34m\u001b[0m\u001b[0m\n\u001b[1;32m    265\u001b[0m     \u001b[0mparallel\u001b[0m \u001b[0;34m=\u001b[0m \u001b[0mParallel\u001b[0m\u001b[0;34m(\u001b[0m\u001b[0mn_jobs\u001b[0m\u001b[0;34m=\u001b[0m\u001b[0mn_jobs\u001b[0m\u001b[0;34m,\u001b[0m \u001b[0mverbose\u001b[0m\u001b[0;34m=\u001b[0m\u001b[0mverbose\u001b[0m\u001b[0;34m,\u001b[0m \u001b[0mpre_dispatch\u001b[0m\u001b[0;34m=\u001b[0m\u001b[0mpre_dispatch\u001b[0m\u001b[0;34m)\u001b[0m\u001b[0;34m\u001b[0m\u001b[0;34m\u001b[0m\u001b[0m\n\u001b[0;32m--> 266\u001b[0;31m     results = parallel(\n\u001b[0m\u001b[1;32m    267\u001b[0m         delayed(_fit_and_score)(\n\u001b[1;32m    268\u001b[0m             \u001b[0mclone\u001b[0m\u001b[0;34m(\u001b[0m\u001b[0mestimator\u001b[0m\u001b[0;34m)\u001b[0m\u001b[0;34m,\u001b[0m\u001b[0;34m\u001b[0m\u001b[0;34m\u001b[0m\u001b[0m\n",
            "\u001b[0;32m/usr/local/lib/python3.9/dist-packages/sklearn/utils/parallel.py\u001b[0m in \u001b[0;36m__call__\u001b[0;34m(self, iterable)\u001b[0m\n\u001b[1;32m     61\u001b[0m             \u001b[0;32mfor\u001b[0m \u001b[0mdelayed_func\u001b[0m\u001b[0;34m,\u001b[0m \u001b[0margs\u001b[0m\u001b[0;34m,\u001b[0m \u001b[0mkwargs\u001b[0m \u001b[0;32min\u001b[0m \u001b[0miterable\u001b[0m\u001b[0;34m\u001b[0m\u001b[0;34m\u001b[0m\u001b[0m\n\u001b[1;32m     62\u001b[0m         )\n\u001b[0;32m---> 63\u001b[0;31m         \u001b[0;32mreturn\u001b[0m \u001b[0msuper\u001b[0m\u001b[0;34m(\u001b[0m\u001b[0;34m)\u001b[0m\u001b[0;34m.\u001b[0m\u001b[0m__call__\u001b[0m\u001b[0;34m(\u001b[0m\u001b[0miterable_with_config\u001b[0m\u001b[0;34m)\u001b[0m\u001b[0;34m\u001b[0m\u001b[0;34m\u001b[0m\u001b[0m\n\u001b[0m\u001b[1;32m     64\u001b[0m \u001b[0;34m\u001b[0m\u001b[0m\n\u001b[1;32m     65\u001b[0m \u001b[0;34m\u001b[0m\u001b[0m\n",
            "\u001b[0;32m/usr/local/lib/python3.9/dist-packages/joblib/parallel.py\u001b[0m in \u001b[0;36m__call__\u001b[0;34m(self, iterable)\u001b[0m\n\u001b[1;32m   1049\u001b[0m                 \u001b[0mself\u001b[0m\u001b[0;34m.\u001b[0m\u001b[0m_iterating\u001b[0m \u001b[0;34m=\u001b[0m \u001b[0mself\u001b[0m\u001b[0;34m.\u001b[0m\u001b[0m_original_iterator\u001b[0m \u001b[0;32mis\u001b[0m \u001b[0;32mnot\u001b[0m \u001b[0;32mNone\u001b[0m\u001b[0;34m\u001b[0m\u001b[0;34m\u001b[0m\u001b[0m\n\u001b[1;32m   1050\u001b[0m \u001b[0;34m\u001b[0m\u001b[0m\n\u001b[0;32m-> 1051\u001b[0;31m             \u001b[0;32mwhile\u001b[0m \u001b[0mself\u001b[0m\u001b[0;34m.\u001b[0m\u001b[0mdispatch_one_batch\u001b[0m\u001b[0;34m(\u001b[0m\u001b[0miterator\u001b[0m\u001b[0;34m)\u001b[0m\u001b[0;34m:\u001b[0m\u001b[0;34m\u001b[0m\u001b[0;34m\u001b[0m\u001b[0m\n\u001b[0m\u001b[1;32m   1052\u001b[0m                 \u001b[0;32mpass\u001b[0m\u001b[0;34m\u001b[0m\u001b[0;34m\u001b[0m\u001b[0m\n\u001b[1;32m   1053\u001b[0m \u001b[0;34m\u001b[0m\u001b[0m\n",
            "\u001b[0;32m/usr/local/lib/python3.9/dist-packages/joblib/parallel.py\u001b[0m in \u001b[0;36mdispatch_one_batch\u001b[0;34m(self, iterator)\u001b[0m\n\u001b[1;32m    862\u001b[0m                 \u001b[0;32mreturn\u001b[0m \u001b[0;32mFalse\u001b[0m\u001b[0;34m\u001b[0m\u001b[0;34m\u001b[0m\u001b[0m\n\u001b[1;32m    863\u001b[0m             \u001b[0;32melse\u001b[0m\u001b[0;34m:\u001b[0m\u001b[0;34m\u001b[0m\u001b[0;34m\u001b[0m\u001b[0m\n\u001b[0;32m--> 864\u001b[0;31m                 \u001b[0mself\u001b[0m\u001b[0;34m.\u001b[0m\u001b[0m_dispatch\u001b[0m\u001b[0;34m(\u001b[0m\u001b[0mtasks\u001b[0m\u001b[0;34m)\u001b[0m\u001b[0;34m\u001b[0m\u001b[0;34m\u001b[0m\u001b[0m\n\u001b[0m\u001b[1;32m    865\u001b[0m                 \u001b[0;32mreturn\u001b[0m \u001b[0;32mTrue\u001b[0m\u001b[0;34m\u001b[0m\u001b[0;34m\u001b[0m\u001b[0m\n\u001b[1;32m    866\u001b[0m \u001b[0;34m\u001b[0m\u001b[0m\n",
            "\u001b[0;32m/usr/local/lib/python3.9/dist-packages/joblib/parallel.py\u001b[0m in \u001b[0;36m_dispatch\u001b[0;34m(self, batch)\u001b[0m\n\u001b[1;32m    780\u001b[0m         \u001b[0;32mwith\u001b[0m \u001b[0mself\u001b[0m\u001b[0;34m.\u001b[0m\u001b[0m_lock\u001b[0m\u001b[0;34m:\u001b[0m\u001b[0;34m\u001b[0m\u001b[0;34m\u001b[0m\u001b[0m\n\u001b[1;32m    781\u001b[0m             \u001b[0mjob_idx\u001b[0m \u001b[0;34m=\u001b[0m \u001b[0mlen\u001b[0m\u001b[0;34m(\u001b[0m\u001b[0mself\u001b[0m\u001b[0;34m.\u001b[0m\u001b[0m_jobs\u001b[0m\u001b[0;34m)\u001b[0m\u001b[0;34m\u001b[0m\u001b[0;34m\u001b[0m\u001b[0m\n\u001b[0;32m--> 782\u001b[0;31m             \u001b[0mjob\u001b[0m \u001b[0;34m=\u001b[0m \u001b[0mself\u001b[0m\u001b[0;34m.\u001b[0m\u001b[0m_backend\u001b[0m\u001b[0;34m.\u001b[0m\u001b[0mapply_async\u001b[0m\u001b[0;34m(\u001b[0m\u001b[0mbatch\u001b[0m\u001b[0;34m,\u001b[0m \u001b[0mcallback\u001b[0m\u001b[0;34m=\u001b[0m\u001b[0mcb\u001b[0m\u001b[0;34m)\u001b[0m\u001b[0;34m\u001b[0m\u001b[0;34m\u001b[0m\u001b[0m\n\u001b[0m\u001b[1;32m    783\u001b[0m             \u001b[0;31m# A job can complete so quickly than its callback is\u001b[0m\u001b[0;34m\u001b[0m\u001b[0;34m\u001b[0m\u001b[0m\n\u001b[1;32m    784\u001b[0m             \u001b[0;31m# called before we get here, causing self._jobs to\u001b[0m\u001b[0;34m\u001b[0m\u001b[0;34m\u001b[0m\u001b[0m\n",
            "\u001b[0;32m/usr/local/lib/python3.9/dist-packages/joblib/_parallel_backends.py\u001b[0m in \u001b[0;36mapply_async\u001b[0;34m(self, func, callback)\u001b[0m\n\u001b[1;32m    206\u001b[0m     \u001b[0;32mdef\u001b[0m \u001b[0mapply_async\u001b[0m\u001b[0;34m(\u001b[0m\u001b[0mself\u001b[0m\u001b[0;34m,\u001b[0m \u001b[0mfunc\u001b[0m\u001b[0;34m,\u001b[0m \u001b[0mcallback\u001b[0m\u001b[0;34m=\u001b[0m\u001b[0;32mNone\u001b[0m\u001b[0;34m)\u001b[0m\u001b[0;34m:\u001b[0m\u001b[0;34m\u001b[0m\u001b[0;34m\u001b[0m\u001b[0m\n\u001b[1;32m    207\u001b[0m         \u001b[0;34m\"\"\"Schedule a func to be run\"\"\"\u001b[0m\u001b[0;34m\u001b[0m\u001b[0;34m\u001b[0m\u001b[0m\n\u001b[0;32m--> 208\u001b[0;31m         \u001b[0mresult\u001b[0m \u001b[0;34m=\u001b[0m \u001b[0mImmediateResult\u001b[0m\u001b[0;34m(\u001b[0m\u001b[0mfunc\u001b[0m\u001b[0;34m)\u001b[0m\u001b[0;34m\u001b[0m\u001b[0;34m\u001b[0m\u001b[0m\n\u001b[0m\u001b[1;32m    209\u001b[0m         \u001b[0;32mif\u001b[0m \u001b[0mcallback\u001b[0m\u001b[0;34m:\u001b[0m\u001b[0;34m\u001b[0m\u001b[0;34m\u001b[0m\u001b[0m\n\u001b[1;32m    210\u001b[0m             \u001b[0mcallback\u001b[0m\u001b[0;34m(\u001b[0m\u001b[0mresult\u001b[0m\u001b[0;34m)\u001b[0m\u001b[0;34m\u001b[0m\u001b[0;34m\u001b[0m\u001b[0m\n",
            "\u001b[0;32m/usr/local/lib/python3.9/dist-packages/joblib/_parallel_backends.py\u001b[0m in \u001b[0;36m__init__\u001b[0;34m(self, batch)\u001b[0m\n\u001b[1;32m    570\u001b[0m         \u001b[0;31m# Don't delay the application, to avoid keeping the input\u001b[0m\u001b[0;34m\u001b[0m\u001b[0;34m\u001b[0m\u001b[0m\n\u001b[1;32m    571\u001b[0m         \u001b[0;31m# arguments in memory\u001b[0m\u001b[0;34m\u001b[0m\u001b[0;34m\u001b[0m\u001b[0m\n\u001b[0;32m--> 572\u001b[0;31m         \u001b[0mself\u001b[0m\u001b[0;34m.\u001b[0m\u001b[0mresults\u001b[0m \u001b[0;34m=\u001b[0m \u001b[0mbatch\u001b[0m\u001b[0;34m(\u001b[0m\u001b[0;34m)\u001b[0m\u001b[0;34m\u001b[0m\u001b[0;34m\u001b[0m\u001b[0m\n\u001b[0m\u001b[1;32m    573\u001b[0m \u001b[0;34m\u001b[0m\u001b[0m\n\u001b[1;32m    574\u001b[0m     \u001b[0;32mdef\u001b[0m \u001b[0mget\u001b[0m\u001b[0;34m(\u001b[0m\u001b[0mself\u001b[0m\u001b[0;34m)\u001b[0m\u001b[0;34m:\u001b[0m\u001b[0;34m\u001b[0m\u001b[0;34m\u001b[0m\u001b[0m\n",
            "\u001b[0;32m/usr/local/lib/python3.9/dist-packages/joblib/parallel.py\u001b[0m in \u001b[0;36m__call__\u001b[0;34m(self)\u001b[0m\n\u001b[1;32m    261\u001b[0m         \u001b[0;31m# change the default number of processes to -1\u001b[0m\u001b[0;34m\u001b[0m\u001b[0;34m\u001b[0m\u001b[0m\n\u001b[1;32m    262\u001b[0m         \u001b[0;32mwith\u001b[0m \u001b[0mparallel_backend\u001b[0m\u001b[0;34m(\u001b[0m\u001b[0mself\u001b[0m\u001b[0;34m.\u001b[0m\u001b[0m_backend\u001b[0m\u001b[0;34m,\u001b[0m \u001b[0mn_jobs\u001b[0m\u001b[0;34m=\u001b[0m\u001b[0mself\u001b[0m\u001b[0;34m.\u001b[0m\u001b[0m_n_jobs\u001b[0m\u001b[0;34m)\u001b[0m\u001b[0;34m:\u001b[0m\u001b[0;34m\u001b[0m\u001b[0;34m\u001b[0m\u001b[0m\n\u001b[0;32m--> 263\u001b[0;31m             return [func(*args, **kwargs)\n\u001b[0m\u001b[1;32m    264\u001b[0m                     for func, args, kwargs in self.items]\n\u001b[1;32m    265\u001b[0m \u001b[0;34m\u001b[0m\u001b[0m\n",
            "\u001b[0;32m/usr/local/lib/python3.9/dist-packages/joblib/parallel.py\u001b[0m in \u001b[0;36m<listcomp>\u001b[0;34m(.0)\u001b[0m\n\u001b[1;32m    261\u001b[0m         \u001b[0;31m# change the default number of processes to -1\u001b[0m\u001b[0;34m\u001b[0m\u001b[0;34m\u001b[0m\u001b[0m\n\u001b[1;32m    262\u001b[0m         \u001b[0;32mwith\u001b[0m \u001b[0mparallel_backend\u001b[0m\u001b[0;34m(\u001b[0m\u001b[0mself\u001b[0m\u001b[0;34m.\u001b[0m\u001b[0m_backend\u001b[0m\u001b[0;34m,\u001b[0m \u001b[0mn_jobs\u001b[0m\u001b[0;34m=\u001b[0m\u001b[0mself\u001b[0m\u001b[0;34m.\u001b[0m\u001b[0m_n_jobs\u001b[0m\u001b[0;34m)\u001b[0m\u001b[0;34m:\u001b[0m\u001b[0;34m\u001b[0m\u001b[0;34m\u001b[0m\u001b[0m\n\u001b[0;32m--> 263\u001b[0;31m             return [func(*args, **kwargs)\n\u001b[0m\u001b[1;32m    264\u001b[0m                     for func, args, kwargs in self.items]\n\u001b[1;32m    265\u001b[0m \u001b[0;34m\u001b[0m\u001b[0m\n",
            "\u001b[0;32m/usr/local/lib/python3.9/dist-packages/sklearn/utils/parallel.py\u001b[0m in \u001b[0;36m__call__\u001b[0;34m(self, *args, **kwargs)\u001b[0m\n\u001b[1;32m    121\u001b[0m             \u001b[0mconfig\u001b[0m \u001b[0;34m=\u001b[0m \u001b[0;34m{\u001b[0m\u001b[0;34m}\u001b[0m\u001b[0;34m\u001b[0m\u001b[0;34m\u001b[0m\u001b[0m\n\u001b[1;32m    122\u001b[0m         \u001b[0;32mwith\u001b[0m \u001b[0mconfig_context\u001b[0m\u001b[0;34m(\u001b[0m\u001b[0;34m**\u001b[0m\u001b[0mconfig\u001b[0m\u001b[0;34m)\u001b[0m\u001b[0;34m:\u001b[0m\u001b[0;34m\u001b[0m\u001b[0;34m\u001b[0m\u001b[0m\n\u001b[0;32m--> 123\u001b[0;31m             \u001b[0;32mreturn\u001b[0m \u001b[0mself\u001b[0m\u001b[0;34m.\u001b[0m\u001b[0mfunction\u001b[0m\u001b[0;34m(\u001b[0m\u001b[0;34m*\u001b[0m\u001b[0margs\u001b[0m\u001b[0;34m,\u001b[0m \u001b[0;34m**\u001b[0m\u001b[0mkwargs\u001b[0m\u001b[0;34m)\u001b[0m\u001b[0;34m\u001b[0m\u001b[0;34m\u001b[0m\u001b[0m\n\u001b[0m",
            "\u001b[0;32m/usr/local/lib/python3.9/dist-packages/sklearn/model_selection/_validation.py\u001b[0m in \u001b[0;36m_fit_and_score\u001b[0;34m(estimator, X, y, scorer, train, test, verbose, parameters, fit_params, return_train_score, return_parameters, return_n_test_samples, return_times, return_estimator, split_progress, candidate_progress, error_score)\u001b[0m\n\u001b[1;32m    684\u001b[0m             \u001b[0mestimator\u001b[0m\u001b[0;34m.\u001b[0m\u001b[0mfit\u001b[0m\u001b[0;34m(\u001b[0m\u001b[0mX_train\u001b[0m\u001b[0;34m,\u001b[0m \u001b[0;34m**\u001b[0m\u001b[0mfit_params\u001b[0m\u001b[0;34m)\u001b[0m\u001b[0;34m\u001b[0m\u001b[0;34m\u001b[0m\u001b[0m\n\u001b[1;32m    685\u001b[0m         \u001b[0;32melse\u001b[0m\u001b[0;34m:\u001b[0m\u001b[0;34m\u001b[0m\u001b[0;34m\u001b[0m\u001b[0m\n\u001b[0;32m--> 686\u001b[0;31m             \u001b[0mestimator\u001b[0m\u001b[0;34m.\u001b[0m\u001b[0mfit\u001b[0m\u001b[0;34m(\u001b[0m\u001b[0mX_train\u001b[0m\u001b[0;34m,\u001b[0m \u001b[0my_train\u001b[0m\u001b[0;34m,\u001b[0m \u001b[0;34m**\u001b[0m\u001b[0mfit_params\u001b[0m\u001b[0;34m)\u001b[0m\u001b[0;34m\u001b[0m\u001b[0;34m\u001b[0m\u001b[0m\n\u001b[0m\u001b[1;32m    687\u001b[0m \u001b[0;34m\u001b[0m\u001b[0m\n\u001b[1;32m    688\u001b[0m     \u001b[0;32mexcept\u001b[0m \u001b[0mException\u001b[0m\u001b[0;34m:\u001b[0m\u001b[0;34m\u001b[0m\u001b[0;34m\u001b[0m\u001b[0m\n",
            "\u001b[0;32m/usr/local/lib/python3.9/dist-packages/sklearn/ensemble/_forest.py\u001b[0m in \u001b[0;36mfit\u001b[0;34m(self, X, y, sample_weight)\u001b[0m\n\u001b[1;32m    471\u001b[0m             \u001b[0;31m# parallel_backend contexts set at a higher level,\u001b[0m\u001b[0;34m\u001b[0m\u001b[0;34m\u001b[0m\u001b[0m\n\u001b[1;32m    472\u001b[0m             \u001b[0;31m# since correctness does not rely on using threads.\u001b[0m\u001b[0;34m\u001b[0m\u001b[0;34m\u001b[0m\u001b[0m\n\u001b[0;32m--> 473\u001b[0;31m             trees = Parallel(\n\u001b[0m\u001b[1;32m    474\u001b[0m                 \u001b[0mn_jobs\u001b[0m\u001b[0;34m=\u001b[0m\u001b[0mself\u001b[0m\u001b[0;34m.\u001b[0m\u001b[0mn_jobs\u001b[0m\u001b[0;34m,\u001b[0m\u001b[0;34m\u001b[0m\u001b[0;34m\u001b[0m\u001b[0m\n\u001b[1;32m    475\u001b[0m                 \u001b[0mverbose\u001b[0m\u001b[0;34m=\u001b[0m\u001b[0mself\u001b[0m\u001b[0;34m.\u001b[0m\u001b[0mverbose\u001b[0m\u001b[0;34m,\u001b[0m\u001b[0;34m\u001b[0m\u001b[0;34m\u001b[0m\u001b[0m\n",
            "\u001b[0;32m/usr/local/lib/python3.9/dist-packages/sklearn/utils/parallel.py\u001b[0m in \u001b[0;36m__call__\u001b[0;34m(self, iterable)\u001b[0m\n\u001b[1;32m     61\u001b[0m             \u001b[0;32mfor\u001b[0m \u001b[0mdelayed_func\u001b[0m\u001b[0;34m,\u001b[0m \u001b[0margs\u001b[0m\u001b[0;34m,\u001b[0m \u001b[0mkwargs\u001b[0m \u001b[0;32min\u001b[0m \u001b[0miterable\u001b[0m\u001b[0;34m\u001b[0m\u001b[0;34m\u001b[0m\u001b[0m\n\u001b[1;32m     62\u001b[0m         )\n\u001b[0;32m---> 63\u001b[0;31m         \u001b[0;32mreturn\u001b[0m \u001b[0msuper\u001b[0m\u001b[0;34m(\u001b[0m\u001b[0;34m)\u001b[0m\u001b[0;34m.\u001b[0m\u001b[0m__call__\u001b[0m\u001b[0;34m(\u001b[0m\u001b[0miterable_with_config\u001b[0m\u001b[0;34m)\u001b[0m\u001b[0;34m\u001b[0m\u001b[0;34m\u001b[0m\u001b[0m\n\u001b[0m\u001b[1;32m     64\u001b[0m \u001b[0;34m\u001b[0m\u001b[0m\n\u001b[1;32m     65\u001b[0m \u001b[0;34m\u001b[0m\u001b[0m\n",
            "\u001b[0;32m/usr/local/lib/python3.9/dist-packages/joblib/parallel.py\u001b[0m in \u001b[0;36m__call__\u001b[0;34m(self, iterable)\u001b[0m\n\u001b[1;32m   1049\u001b[0m                 \u001b[0mself\u001b[0m\u001b[0;34m.\u001b[0m\u001b[0m_iterating\u001b[0m \u001b[0;34m=\u001b[0m \u001b[0mself\u001b[0m\u001b[0;34m.\u001b[0m\u001b[0m_original_iterator\u001b[0m \u001b[0;32mis\u001b[0m \u001b[0;32mnot\u001b[0m \u001b[0;32mNone\u001b[0m\u001b[0;34m\u001b[0m\u001b[0;34m\u001b[0m\u001b[0m\n\u001b[1;32m   1050\u001b[0m \u001b[0;34m\u001b[0m\u001b[0m\n\u001b[0;32m-> 1051\u001b[0;31m             \u001b[0;32mwhile\u001b[0m \u001b[0mself\u001b[0m\u001b[0;34m.\u001b[0m\u001b[0mdispatch_one_batch\u001b[0m\u001b[0;34m(\u001b[0m\u001b[0miterator\u001b[0m\u001b[0;34m)\u001b[0m\u001b[0;34m:\u001b[0m\u001b[0;34m\u001b[0m\u001b[0;34m\u001b[0m\u001b[0m\n\u001b[0m\u001b[1;32m   1052\u001b[0m                 \u001b[0;32mpass\u001b[0m\u001b[0;34m\u001b[0m\u001b[0;34m\u001b[0m\u001b[0m\n\u001b[1;32m   1053\u001b[0m \u001b[0;34m\u001b[0m\u001b[0m\n",
            "\u001b[0;32m/usr/local/lib/python3.9/dist-packages/joblib/parallel.py\u001b[0m in \u001b[0;36mdispatch_one_batch\u001b[0;34m(self, iterator)\u001b[0m\n\u001b[1;32m    862\u001b[0m                 \u001b[0;32mreturn\u001b[0m \u001b[0;32mFalse\u001b[0m\u001b[0;34m\u001b[0m\u001b[0;34m\u001b[0m\u001b[0m\n\u001b[1;32m    863\u001b[0m             \u001b[0;32melse\u001b[0m\u001b[0;34m:\u001b[0m\u001b[0;34m\u001b[0m\u001b[0;34m\u001b[0m\u001b[0m\n\u001b[0;32m--> 864\u001b[0;31m                 \u001b[0mself\u001b[0m\u001b[0;34m.\u001b[0m\u001b[0m_dispatch\u001b[0m\u001b[0;34m(\u001b[0m\u001b[0mtasks\u001b[0m\u001b[0;34m)\u001b[0m\u001b[0;34m\u001b[0m\u001b[0;34m\u001b[0m\u001b[0m\n\u001b[0m\u001b[1;32m    865\u001b[0m                 \u001b[0;32mreturn\u001b[0m \u001b[0;32mTrue\u001b[0m\u001b[0;34m\u001b[0m\u001b[0;34m\u001b[0m\u001b[0m\n\u001b[1;32m    866\u001b[0m \u001b[0;34m\u001b[0m\u001b[0m\n",
            "\u001b[0;32m/usr/local/lib/python3.9/dist-packages/joblib/parallel.py\u001b[0m in \u001b[0;36m_dispatch\u001b[0;34m(self, batch)\u001b[0m\n\u001b[1;32m    780\u001b[0m         \u001b[0;32mwith\u001b[0m \u001b[0mself\u001b[0m\u001b[0;34m.\u001b[0m\u001b[0m_lock\u001b[0m\u001b[0;34m:\u001b[0m\u001b[0;34m\u001b[0m\u001b[0;34m\u001b[0m\u001b[0m\n\u001b[1;32m    781\u001b[0m             \u001b[0mjob_idx\u001b[0m \u001b[0;34m=\u001b[0m \u001b[0mlen\u001b[0m\u001b[0;34m(\u001b[0m\u001b[0mself\u001b[0m\u001b[0;34m.\u001b[0m\u001b[0m_jobs\u001b[0m\u001b[0;34m)\u001b[0m\u001b[0;34m\u001b[0m\u001b[0;34m\u001b[0m\u001b[0m\n\u001b[0;32m--> 782\u001b[0;31m             \u001b[0mjob\u001b[0m \u001b[0;34m=\u001b[0m \u001b[0mself\u001b[0m\u001b[0;34m.\u001b[0m\u001b[0m_backend\u001b[0m\u001b[0;34m.\u001b[0m\u001b[0mapply_async\u001b[0m\u001b[0;34m(\u001b[0m\u001b[0mbatch\u001b[0m\u001b[0;34m,\u001b[0m \u001b[0mcallback\u001b[0m\u001b[0;34m=\u001b[0m\u001b[0mcb\u001b[0m\u001b[0;34m)\u001b[0m\u001b[0;34m\u001b[0m\u001b[0;34m\u001b[0m\u001b[0m\n\u001b[0m\u001b[1;32m    783\u001b[0m             \u001b[0;31m# A job can complete so quickly than its callback is\u001b[0m\u001b[0;34m\u001b[0m\u001b[0;34m\u001b[0m\u001b[0m\n\u001b[1;32m    784\u001b[0m             \u001b[0;31m# called before we get here, causing self._jobs to\u001b[0m\u001b[0;34m\u001b[0m\u001b[0;34m\u001b[0m\u001b[0m\n",
            "\u001b[0;32m/usr/local/lib/python3.9/dist-packages/joblib/_parallel_backends.py\u001b[0m in \u001b[0;36mapply_async\u001b[0;34m(self, func, callback)\u001b[0m\n\u001b[1;32m    206\u001b[0m     \u001b[0;32mdef\u001b[0m \u001b[0mapply_async\u001b[0m\u001b[0;34m(\u001b[0m\u001b[0mself\u001b[0m\u001b[0;34m,\u001b[0m \u001b[0mfunc\u001b[0m\u001b[0;34m,\u001b[0m \u001b[0mcallback\u001b[0m\u001b[0;34m=\u001b[0m\u001b[0;32mNone\u001b[0m\u001b[0;34m)\u001b[0m\u001b[0;34m:\u001b[0m\u001b[0;34m\u001b[0m\u001b[0;34m\u001b[0m\u001b[0m\n\u001b[1;32m    207\u001b[0m         \u001b[0;34m\"\"\"Schedule a func to be run\"\"\"\u001b[0m\u001b[0;34m\u001b[0m\u001b[0;34m\u001b[0m\u001b[0m\n\u001b[0;32m--> 208\u001b[0;31m         \u001b[0mresult\u001b[0m \u001b[0;34m=\u001b[0m \u001b[0mImmediateResult\u001b[0m\u001b[0;34m(\u001b[0m\u001b[0mfunc\u001b[0m\u001b[0;34m)\u001b[0m\u001b[0;34m\u001b[0m\u001b[0;34m\u001b[0m\u001b[0m\n\u001b[0m\u001b[1;32m    209\u001b[0m         \u001b[0;32mif\u001b[0m \u001b[0mcallback\u001b[0m\u001b[0;34m:\u001b[0m\u001b[0;34m\u001b[0m\u001b[0;34m\u001b[0m\u001b[0m\n\u001b[1;32m    210\u001b[0m             \u001b[0mcallback\u001b[0m\u001b[0;34m(\u001b[0m\u001b[0mresult\u001b[0m\u001b[0;34m)\u001b[0m\u001b[0;34m\u001b[0m\u001b[0;34m\u001b[0m\u001b[0m\n",
            "\u001b[0;32m/usr/local/lib/python3.9/dist-packages/joblib/_parallel_backends.py\u001b[0m in \u001b[0;36m__init__\u001b[0;34m(self, batch)\u001b[0m\n\u001b[1;32m    570\u001b[0m         \u001b[0;31m# Don't delay the application, to avoid keeping the input\u001b[0m\u001b[0;34m\u001b[0m\u001b[0;34m\u001b[0m\u001b[0m\n\u001b[1;32m    571\u001b[0m         \u001b[0;31m# arguments in memory\u001b[0m\u001b[0;34m\u001b[0m\u001b[0;34m\u001b[0m\u001b[0m\n\u001b[0;32m--> 572\u001b[0;31m         \u001b[0mself\u001b[0m\u001b[0;34m.\u001b[0m\u001b[0mresults\u001b[0m \u001b[0;34m=\u001b[0m \u001b[0mbatch\u001b[0m\u001b[0;34m(\u001b[0m\u001b[0;34m)\u001b[0m\u001b[0;34m\u001b[0m\u001b[0;34m\u001b[0m\u001b[0m\n\u001b[0m\u001b[1;32m    573\u001b[0m \u001b[0;34m\u001b[0m\u001b[0m\n\u001b[1;32m    574\u001b[0m     \u001b[0;32mdef\u001b[0m \u001b[0mget\u001b[0m\u001b[0;34m(\u001b[0m\u001b[0mself\u001b[0m\u001b[0;34m)\u001b[0m\u001b[0;34m:\u001b[0m\u001b[0;34m\u001b[0m\u001b[0;34m\u001b[0m\u001b[0m\n",
            "\u001b[0;32m/usr/local/lib/python3.9/dist-packages/joblib/parallel.py\u001b[0m in \u001b[0;36m__call__\u001b[0;34m(self)\u001b[0m\n\u001b[1;32m    261\u001b[0m         \u001b[0;31m# change the default number of processes to -1\u001b[0m\u001b[0;34m\u001b[0m\u001b[0;34m\u001b[0m\u001b[0m\n\u001b[1;32m    262\u001b[0m         \u001b[0;32mwith\u001b[0m \u001b[0mparallel_backend\u001b[0m\u001b[0;34m(\u001b[0m\u001b[0mself\u001b[0m\u001b[0;34m.\u001b[0m\u001b[0m_backend\u001b[0m\u001b[0;34m,\u001b[0m \u001b[0mn_jobs\u001b[0m\u001b[0;34m=\u001b[0m\u001b[0mself\u001b[0m\u001b[0;34m.\u001b[0m\u001b[0m_n_jobs\u001b[0m\u001b[0;34m)\u001b[0m\u001b[0;34m:\u001b[0m\u001b[0;34m\u001b[0m\u001b[0;34m\u001b[0m\u001b[0m\n\u001b[0;32m--> 263\u001b[0;31m             return [func(*args, **kwargs)\n\u001b[0m\u001b[1;32m    264\u001b[0m                     for func, args, kwargs in self.items]\n\u001b[1;32m    265\u001b[0m \u001b[0;34m\u001b[0m\u001b[0m\n",
            "\u001b[0;32m/usr/local/lib/python3.9/dist-packages/joblib/parallel.py\u001b[0m in \u001b[0;36m<listcomp>\u001b[0;34m(.0)\u001b[0m\n\u001b[1;32m    261\u001b[0m         \u001b[0;31m# change the default number of processes to -1\u001b[0m\u001b[0;34m\u001b[0m\u001b[0;34m\u001b[0m\u001b[0m\n\u001b[1;32m    262\u001b[0m         \u001b[0;32mwith\u001b[0m \u001b[0mparallel_backend\u001b[0m\u001b[0;34m(\u001b[0m\u001b[0mself\u001b[0m\u001b[0;34m.\u001b[0m\u001b[0m_backend\u001b[0m\u001b[0;34m,\u001b[0m \u001b[0mn_jobs\u001b[0m\u001b[0;34m=\u001b[0m\u001b[0mself\u001b[0m\u001b[0;34m.\u001b[0m\u001b[0m_n_jobs\u001b[0m\u001b[0;34m)\u001b[0m\u001b[0;34m:\u001b[0m\u001b[0;34m\u001b[0m\u001b[0;34m\u001b[0m\u001b[0m\n\u001b[0;32m--> 263\u001b[0;31m             return [func(*args, **kwargs)\n\u001b[0m\u001b[1;32m    264\u001b[0m                     for func, args, kwargs in self.items]\n\u001b[1;32m    265\u001b[0m \u001b[0;34m\u001b[0m\u001b[0m\n",
            "\u001b[0;32m/usr/local/lib/python3.9/dist-packages/sklearn/utils/parallel.py\u001b[0m in \u001b[0;36m__call__\u001b[0;34m(self, *args, **kwargs)\u001b[0m\n\u001b[1;32m    121\u001b[0m             \u001b[0mconfig\u001b[0m \u001b[0;34m=\u001b[0m \u001b[0;34m{\u001b[0m\u001b[0;34m}\u001b[0m\u001b[0;34m\u001b[0m\u001b[0;34m\u001b[0m\u001b[0m\n\u001b[1;32m    122\u001b[0m         \u001b[0;32mwith\u001b[0m \u001b[0mconfig_context\u001b[0m\u001b[0;34m(\u001b[0m\u001b[0;34m**\u001b[0m\u001b[0mconfig\u001b[0m\u001b[0;34m)\u001b[0m\u001b[0;34m:\u001b[0m\u001b[0;34m\u001b[0m\u001b[0;34m\u001b[0m\u001b[0m\n\u001b[0;32m--> 123\u001b[0;31m             \u001b[0;32mreturn\u001b[0m \u001b[0mself\u001b[0m\u001b[0;34m.\u001b[0m\u001b[0mfunction\u001b[0m\u001b[0;34m(\u001b[0m\u001b[0;34m*\u001b[0m\u001b[0margs\u001b[0m\u001b[0;34m,\u001b[0m \u001b[0;34m**\u001b[0m\u001b[0mkwargs\u001b[0m\u001b[0;34m)\u001b[0m\u001b[0;34m\u001b[0m\u001b[0;34m\u001b[0m\u001b[0m\n\u001b[0m",
            "\u001b[0;32m/usr/local/lib/python3.9/dist-packages/sklearn/ensemble/_forest.py\u001b[0m in \u001b[0;36m_parallel_build_trees\u001b[0;34m(tree, bootstrap, X, y, sample_weight, tree_idx, n_trees, verbose, class_weight, n_samples_bootstrap)\u001b[0m\n\u001b[1;32m    182\u001b[0m             \u001b[0mcurr_sample_weight\u001b[0m \u001b[0;34m*=\u001b[0m \u001b[0mcompute_sample_weight\u001b[0m\u001b[0;34m(\u001b[0m\u001b[0;34m\"balanced\"\u001b[0m\u001b[0;34m,\u001b[0m \u001b[0my\u001b[0m\u001b[0;34m,\u001b[0m \u001b[0mindices\u001b[0m\u001b[0;34m=\u001b[0m\u001b[0mindices\u001b[0m\u001b[0;34m)\u001b[0m\u001b[0;34m\u001b[0m\u001b[0;34m\u001b[0m\u001b[0m\n\u001b[1;32m    183\u001b[0m \u001b[0;34m\u001b[0m\u001b[0m\n\u001b[0;32m--> 184\u001b[0;31m         \u001b[0mtree\u001b[0m\u001b[0;34m.\u001b[0m\u001b[0mfit\u001b[0m\u001b[0;34m(\u001b[0m\u001b[0mX\u001b[0m\u001b[0;34m,\u001b[0m \u001b[0my\u001b[0m\u001b[0;34m,\u001b[0m \u001b[0msample_weight\u001b[0m\u001b[0;34m=\u001b[0m\u001b[0mcurr_sample_weight\u001b[0m\u001b[0;34m,\u001b[0m \u001b[0mcheck_input\u001b[0m\u001b[0;34m=\u001b[0m\u001b[0;32mFalse\u001b[0m\u001b[0;34m)\u001b[0m\u001b[0;34m\u001b[0m\u001b[0;34m\u001b[0m\u001b[0m\n\u001b[0m\u001b[1;32m    185\u001b[0m     \u001b[0;32melse\u001b[0m\u001b[0;34m:\u001b[0m\u001b[0;34m\u001b[0m\u001b[0;34m\u001b[0m\u001b[0m\n\u001b[1;32m    186\u001b[0m         \u001b[0mtree\u001b[0m\u001b[0;34m.\u001b[0m\u001b[0mfit\u001b[0m\u001b[0;34m(\u001b[0m\u001b[0mX\u001b[0m\u001b[0;34m,\u001b[0m \u001b[0my\u001b[0m\u001b[0;34m,\u001b[0m \u001b[0msample_weight\u001b[0m\u001b[0;34m=\u001b[0m\u001b[0msample_weight\u001b[0m\u001b[0;34m,\u001b[0m \u001b[0mcheck_input\u001b[0m\u001b[0;34m=\u001b[0m\u001b[0;32mFalse\u001b[0m\u001b[0;34m)\u001b[0m\u001b[0;34m\u001b[0m\u001b[0;34m\u001b[0m\u001b[0m\n",
            "\u001b[0;32m/usr/local/lib/python3.9/dist-packages/sklearn/tree/_classes.py\u001b[0m in \u001b[0;36mfit\u001b[0;34m(self, X, y, sample_weight, check_input)\u001b[0m\n\u001b[1;32m    887\u001b[0m         \"\"\"\n\u001b[1;32m    888\u001b[0m \u001b[0;34m\u001b[0m\u001b[0m\n\u001b[0;32m--> 889\u001b[0;31m         super().fit(\n\u001b[0m\u001b[1;32m    890\u001b[0m             \u001b[0mX\u001b[0m\u001b[0;34m,\u001b[0m\u001b[0;34m\u001b[0m\u001b[0;34m\u001b[0m\u001b[0m\n\u001b[1;32m    891\u001b[0m             \u001b[0my\u001b[0m\u001b[0;34m,\u001b[0m\u001b[0;34m\u001b[0m\u001b[0;34m\u001b[0m\u001b[0m\n",
            "\u001b[0;32m/usr/local/lib/python3.9/dist-packages/sklearn/tree/_classes.py\u001b[0m in \u001b[0;36mfit\u001b[0;34m(self, X, y, sample_weight, check_input)\u001b[0m\n\u001b[1;32m    377\u001b[0m             )\n\u001b[1;32m    378\u001b[0m \u001b[0;34m\u001b[0m\u001b[0m\n\u001b[0;32m--> 379\u001b[0;31m         \u001b[0mbuilder\u001b[0m\u001b[0;34m.\u001b[0m\u001b[0mbuild\u001b[0m\u001b[0;34m(\u001b[0m\u001b[0mself\u001b[0m\u001b[0;34m.\u001b[0m\u001b[0mtree_\u001b[0m\u001b[0;34m,\u001b[0m \u001b[0mX\u001b[0m\u001b[0;34m,\u001b[0m \u001b[0my\u001b[0m\u001b[0;34m,\u001b[0m \u001b[0msample_weight\u001b[0m\u001b[0;34m)\u001b[0m\u001b[0;34m\u001b[0m\u001b[0;34m\u001b[0m\u001b[0m\n\u001b[0m\u001b[1;32m    380\u001b[0m \u001b[0;34m\u001b[0m\u001b[0m\n\u001b[1;32m    381\u001b[0m         \u001b[0;32mif\u001b[0m \u001b[0mself\u001b[0m\u001b[0;34m.\u001b[0m\u001b[0mn_outputs_\u001b[0m \u001b[0;34m==\u001b[0m \u001b[0;36m1\u001b[0m \u001b[0;32mand\u001b[0m \u001b[0mis_classifier\u001b[0m\u001b[0;34m(\u001b[0m\u001b[0mself\u001b[0m\u001b[0;34m)\u001b[0m\u001b[0;34m:\u001b[0m\u001b[0;34m\u001b[0m\u001b[0;34m\u001b[0m\u001b[0m\n",
            "\u001b[0;31mKeyboardInterrupt\u001b[0m: "
          ]
        }
      ]
    },
    {
      "cell_type": "code",
      "source": [
        "import joblib \n",
        "from sklearn.pipeline import Pipeline\n",
        "\n",
        "model = Pipeline([('rf', RandomForestClassifier)])\n",
        "def objective(trial):    \n",
        "    \n",
        "    joblib.dump(study, 'study.pkl')\n",
        "    \n",
        "    tfidf__analyzer = trial.suggest_categorical('tfidf__analyzer', ['word', 'char', 'char_wb']) \n",
        "    tfidf__lowercase = trial.suggest_categorical('tfidf__lowercase', [False, True]) \n",
        "    tfidf__max_features = trial.suggest_int('tfidf__max_features', 500, 10_000) \n",
        "    rf__n_estimators = trial.suggest_int('rf__num_estimators', 300, 500) \n",
        "    rf__max_depth = trial.suggest_int('rf__max_depth', 5, 15) \n",
        "    rf__min_samples_split = trial.suggest_int('rf__min_samples_split', 10, 30) \n",
        "    \n",
        "   \n",
        "    \n",
        "\n",
        "    params = {\n",
        "        'tfidf__analyzer': tfidf__analyzer,\n",
        "        'tfidf__lowercase': tfidf__lowercase,\n",
        "        'tfidf__max_features': tfidf__max_features,\n",
        "        'rf__n_estimators': rf__n_estimators,\n",
        "        'rf__max_depth': rf__max_depth,\n",
        "        'rf__min_samples_split': rf__min_samples_split,\n",
        "       \n",
        "    }\n",
        "    \n",
        "    model.set_params(**params)   \n",
        "\n",
        "    return  -np.mean(cross_val_score(model, X, y, cv=3, n_jobs=-1,scoring='neg_log_loss'))\n",
        "\n",
        "# by default, the direction is to minimizae, but can set it to maximize too\n",
        "#study = optuna.create_study(direction='minimize')\n",
        "study = optuna.create_study()\n",
        "\n",
        "\n",
        "#study.optimize(objective, timeout=3600)\n",
        "study.optimize(objective, n_trials=20)\n",
        "\n",
        "\n",
        "# to record the value for the last time\n",
        "joblib.dump(study, 'study.pkl')"
      ],
      "metadata": {
        "colab": {
          "base_uri": "https://localhost:8080/",
          "height": 765
        },
        "id": "OoJiaTLoRp9a",
        "outputId": "1bbe0928-35d4-40fc-b44a-07cec1b5f914"
      },
      "id": "OoJiaTLoRp9a",
      "execution_count": null,
      "outputs": [
        {
          "output_type": "stream",
          "name": "stderr",
          "text": [
            "\u001b[32m[I 2023-03-26 00:23:36,797]\u001b[0m A new study created in memory with name: no-name-0ce01b3b-a59b-4f04-89fb-fae10598cc9e\u001b[0m\n",
            "\u001b[33m[W 2023-03-26 00:23:36,804]\u001b[0m Trial 0 failed with parameters: {'tfidf__analyzer': 'char_wb', 'tfidf__lowercase': False, 'tfidf__max_features': 5827, 'rf__num_estimators': 402, 'rf__max_depth': 5, 'rf__min_samples_split': 15} because of the following error: TypeError(\"get_params() missing 1 required positional argument: 'self'\").\u001b[0m\n",
            "Traceback (most recent call last):\n",
            "  File \"/usr/local/lib/python3.9/dist-packages/optuna/study/_optimize.py\", line 200, in _run_trial\n",
            "    value_or_values = func(trial)\n",
            "  File \"<ipython-input-20-c7773dabaf25>\", line 30, in objective\n",
            "    model.set_params(**params)\n",
            "  File \"/usr/local/lib/python3.9/dist-packages/sklearn/pipeline.py\", line 211, in set_params\n",
            "    self._set_params(\"steps\", **kwargs)\n",
            "  File \"/usr/local/lib/python3.9/dist-packages/sklearn/utils/metaestimators.py\", line 70, in _set_params\n",
            "    super().set_params(**params)\n",
            "  File \"/usr/local/lib/python3.9/dist-packages/sklearn/base.py\", line 198, in set_params\n",
            "    valid_params = self.get_params(deep=True)\n",
            "  File \"/usr/local/lib/python3.9/dist-packages/sklearn/pipeline.py\", line 190, in get_params\n",
            "    return self._get_params(\"steps\", deep=deep)\n",
            "  File \"/usr/local/lib/python3.9/dist-packages/sklearn/utils/metaestimators.py\", line 48, in _get_params\n",
            "    for key, value in estimator.get_params(deep=True).items():\n",
            "TypeError: get_params() missing 1 required positional argument: 'self'\n",
            "\u001b[33m[W 2023-03-26 00:23:36,806]\u001b[0m Trial 0 failed with value None.\u001b[0m\n"
          ]
        },
        {
          "output_type": "error",
          "ename": "TypeError",
          "evalue": "ignored",
          "traceback": [
            "\u001b[0;31m---------------------------------------------------------------------------\u001b[0m",
            "\u001b[0;31mTypeError\u001b[0m                                 Traceback (most recent call last)",
            "\u001b[0;32m<ipython-input-20-c7773dabaf25>\u001b[0m in \u001b[0;36m<module>\u001b[0;34m\u001b[0m\n\u001b[1;32m     38\u001b[0m \u001b[0;34m\u001b[0m\u001b[0m\n\u001b[1;32m     39\u001b[0m \u001b[0;31m#study.optimize(objective, timeout=3600)\u001b[0m\u001b[0;34m\u001b[0m\u001b[0;34m\u001b[0m\u001b[0m\n\u001b[0;32m---> 40\u001b[0;31m \u001b[0mstudy\u001b[0m\u001b[0;34m.\u001b[0m\u001b[0moptimize\u001b[0m\u001b[0;34m(\u001b[0m\u001b[0mobjective\u001b[0m\u001b[0;34m,\u001b[0m \u001b[0mn_trials\u001b[0m\u001b[0;34m=\u001b[0m\u001b[0;36m20\u001b[0m\u001b[0;34m)\u001b[0m\u001b[0;34m\u001b[0m\u001b[0;34m\u001b[0m\u001b[0m\n\u001b[0m\u001b[1;32m     41\u001b[0m \u001b[0;34m\u001b[0m\u001b[0m\n\u001b[1;32m     42\u001b[0m \u001b[0;34m\u001b[0m\u001b[0m\n",
            "\u001b[0;32m/usr/local/lib/python3.9/dist-packages/optuna/study/study.py\u001b[0m in \u001b[0;36moptimize\u001b[0;34m(self, func, n_trials, timeout, n_jobs, catch, callbacks, gc_after_trial, show_progress_bar)\u001b[0m\n\u001b[1;32m    423\u001b[0m         \"\"\"\n\u001b[1;32m    424\u001b[0m \u001b[0;34m\u001b[0m\u001b[0m\n\u001b[0;32m--> 425\u001b[0;31m         _optimize(\n\u001b[0m\u001b[1;32m    426\u001b[0m             \u001b[0mstudy\u001b[0m\u001b[0;34m=\u001b[0m\u001b[0mself\u001b[0m\u001b[0;34m,\u001b[0m\u001b[0;34m\u001b[0m\u001b[0;34m\u001b[0m\u001b[0m\n\u001b[1;32m    427\u001b[0m             \u001b[0mfunc\u001b[0m\u001b[0;34m=\u001b[0m\u001b[0mfunc\u001b[0m\u001b[0;34m,\u001b[0m\u001b[0;34m\u001b[0m\u001b[0;34m\u001b[0m\u001b[0m\n",
            "\u001b[0;32m/usr/local/lib/python3.9/dist-packages/optuna/study/_optimize.py\u001b[0m in \u001b[0;36m_optimize\u001b[0;34m(study, func, n_trials, timeout, n_jobs, catch, callbacks, gc_after_trial, show_progress_bar)\u001b[0m\n\u001b[1;32m     64\u001b[0m     \u001b[0;32mtry\u001b[0m\u001b[0;34m:\u001b[0m\u001b[0;34m\u001b[0m\u001b[0;34m\u001b[0m\u001b[0m\n\u001b[1;32m     65\u001b[0m         \u001b[0;32mif\u001b[0m \u001b[0mn_jobs\u001b[0m \u001b[0;34m==\u001b[0m \u001b[0;36m1\u001b[0m\u001b[0;34m:\u001b[0m\u001b[0;34m\u001b[0m\u001b[0;34m\u001b[0m\u001b[0m\n\u001b[0;32m---> 66\u001b[0;31m             _optimize_sequential(\n\u001b[0m\u001b[1;32m     67\u001b[0m                 \u001b[0mstudy\u001b[0m\u001b[0;34m,\u001b[0m\u001b[0;34m\u001b[0m\u001b[0;34m\u001b[0m\u001b[0m\n\u001b[1;32m     68\u001b[0m                 \u001b[0mfunc\u001b[0m\u001b[0;34m,\u001b[0m\u001b[0;34m\u001b[0m\u001b[0;34m\u001b[0m\u001b[0m\n",
            "\u001b[0;32m/usr/local/lib/python3.9/dist-packages/optuna/study/_optimize.py\u001b[0m in \u001b[0;36m_optimize_sequential\u001b[0;34m(study, func, n_trials, timeout, catch, callbacks, gc_after_trial, reseed_sampler_rng, time_start, progress_bar)\u001b[0m\n\u001b[1;32m    161\u001b[0m \u001b[0;34m\u001b[0m\u001b[0m\n\u001b[1;32m    162\u001b[0m         \u001b[0;32mtry\u001b[0m\u001b[0;34m:\u001b[0m\u001b[0;34m\u001b[0m\u001b[0;34m\u001b[0m\u001b[0m\n\u001b[0;32m--> 163\u001b[0;31m             \u001b[0mfrozen_trial\u001b[0m \u001b[0;34m=\u001b[0m \u001b[0m_run_trial\u001b[0m\u001b[0;34m(\u001b[0m\u001b[0mstudy\u001b[0m\u001b[0;34m,\u001b[0m \u001b[0mfunc\u001b[0m\u001b[0;34m,\u001b[0m \u001b[0mcatch\u001b[0m\u001b[0;34m)\u001b[0m\u001b[0;34m\u001b[0m\u001b[0;34m\u001b[0m\u001b[0m\n\u001b[0m\u001b[1;32m    164\u001b[0m         \u001b[0;32mfinally\u001b[0m\u001b[0;34m:\u001b[0m\u001b[0;34m\u001b[0m\u001b[0;34m\u001b[0m\u001b[0m\n\u001b[1;32m    165\u001b[0m             \u001b[0;31m# The following line mitigates memory problems that can be occurred in some\u001b[0m\u001b[0;34m\u001b[0m\u001b[0;34m\u001b[0m\u001b[0m\n",
            "\u001b[0;32m/usr/local/lib/python3.9/dist-packages/optuna/study/_optimize.py\u001b[0m in \u001b[0;36m_run_trial\u001b[0;34m(study, func, catch)\u001b[0m\n\u001b[1;32m    249\u001b[0m         \u001b[0;32mand\u001b[0m \u001b[0;32mnot\u001b[0m \u001b[0misinstance\u001b[0m\u001b[0;34m(\u001b[0m\u001b[0mfunc_err\u001b[0m\u001b[0;34m,\u001b[0m \u001b[0mcatch\u001b[0m\u001b[0;34m)\u001b[0m\u001b[0;34m\u001b[0m\u001b[0;34m\u001b[0m\u001b[0m\n\u001b[1;32m    250\u001b[0m     ):\n\u001b[0;32m--> 251\u001b[0;31m         \u001b[0;32mraise\u001b[0m \u001b[0mfunc_err\u001b[0m\u001b[0;34m\u001b[0m\u001b[0;34m\u001b[0m\u001b[0m\n\u001b[0m\u001b[1;32m    252\u001b[0m     \u001b[0;32mreturn\u001b[0m \u001b[0mfrozen_trial\u001b[0m\u001b[0;34m\u001b[0m\u001b[0;34m\u001b[0m\u001b[0m\n\u001b[1;32m    253\u001b[0m \u001b[0;34m\u001b[0m\u001b[0m\n",
            "\u001b[0;32m/usr/local/lib/python3.9/dist-packages/optuna/study/_optimize.py\u001b[0m in \u001b[0;36m_run_trial\u001b[0;34m(study, func, catch)\u001b[0m\n\u001b[1;32m    198\u001b[0m     \u001b[0;32mwith\u001b[0m \u001b[0mget_heartbeat_thread\u001b[0m\u001b[0;34m(\u001b[0m\u001b[0mtrial\u001b[0m\u001b[0;34m.\u001b[0m\u001b[0m_trial_id\u001b[0m\u001b[0;34m,\u001b[0m \u001b[0mstudy\u001b[0m\u001b[0;34m.\u001b[0m\u001b[0m_storage\u001b[0m\u001b[0;34m)\u001b[0m\u001b[0;34m:\u001b[0m\u001b[0;34m\u001b[0m\u001b[0;34m\u001b[0m\u001b[0m\n\u001b[1;32m    199\u001b[0m         \u001b[0;32mtry\u001b[0m\u001b[0;34m:\u001b[0m\u001b[0;34m\u001b[0m\u001b[0;34m\u001b[0m\u001b[0m\n\u001b[0;32m--> 200\u001b[0;31m             \u001b[0mvalue_or_values\u001b[0m \u001b[0;34m=\u001b[0m \u001b[0mfunc\u001b[0m\u001b[0;34m(\u001b[0m\u001b[0mtrial\u001b[0m\u001b[0;34m)\u001b[0m\u001b[0;34m\u001b[0m\u001b[0;34m\u001b[0m\u001b[0m\n\u001b[0m\u001b[1;32m    201\u001b[0m         \u001b[0;32mexcept\u001b[0m \u001b[0mexceptions\u001b[0m\u001b[0;34m.\u001b[0m\u001b[0mTrialPruned\u001b[0m \u001b[0;32mas\u001b[0m \u001b[0me\u001b[0m\u001b[0;34m:\u001b[0m\u001b[0;34m\u001b[0m\u001b[0;34m\u001b[0m\u001b[0m\n\u001b[1;32m    202\u001b[0m             \u001b[0;31m# TODO(mamu): Handle multi-objective cases.\u001b[0m\u001b[0;34m\u001b[0m\u001b[0;34m\u001b[0m\u001b[0m\n",
            "\u001b[0;32m<ipython-input-20-c7773dabaf25>\u001b[0m in \u001b[0;36mobjective\u001b[0;34m(trial)\u001b[0m\n\u001b[1;32m     28\u001b[0m     }\n\u001b[1;32m     29\u001b[0m \u001b[0;34m\u001b[0m\u001b[0m\n\u001b[0;32m---> 30\u001b[0;31m     \u001b[0mmodel\u001b[0m\u001b[0;34m.\u001b[0m\u001b[0mset_params\u001b[0m\u001b[0;34m(\u001b[0m\u001b[0;34m**\u001b[0m\u001b[0mparams\u001b[0m\u001b[0;34m)\u001b[0m\u001b[0;34m\u001b[0m\u001b[0;34m\u001b[0m\u001b[0m\n\u001b[0m\u001b[1;32m     31\u001b[0m \u001b[0;34m\u001b[0m\u001b[0m\n\u001b[1;32m     32\u001b[0m     \u001b[0;32mreturn\u001b[0m  \u001b[0;34m-\u001b[0m\u001b[0mnp\u001b[0m\u001b[0;34m.\u001b[0m\u001b[0mmean\u001b[0m\u001b[0;34m(\u001b[0m\u001b[0mcross_val_score\u001b[0m\u001b[0;34m(\u001b[0m\u001b[0mmodel\u001b[0m\u001b[0;34m,\u001b[0m \u001b[0mX\u001b[0m\u001b[0;34m,\u001b[0m \u001b[0my\u001b[0m\u001b[0;34m,\u001b[0m \u001b[0mcv\u001b[0m\u001b[0;34m=\u001b[0m\u001b[0;36m3\u001b[0m\u001b[0;34m,\u001b[0m \u001b[0mn_jobs\u001b[0m\u001b[0;34m=\u001b[0m\u001b[0;34m-\u001b[0m\u001b[0;36m1\u001b[0m\u001b[0;34m,\u001b[0m\u001b[0mscoring\u001b[0m\u001b[0;34m=\u001b[0m\u001b[0;34m'neg_log_loss'\u001b[0m\u001b[0;34m)\u001b[0m\u001b[0;34m)\u001b[0m\u001b[0;34m\u001b[0m\u001b[0;34m\u001b[0m\u001b[0m\n",
            "\u001b[0;32m/usr/local/lib/python3.9/dist-packages/sklearn/pipeline.py\u001b[0m in \u001b[0;36mset_params\u001b[0;34m(self, **kwargs)\u001b[0m\n\u001b[1;32m    209\u001b[0m             \u001b[0mPipeline\u001b[0m \u001b[0;32mclass\u001b[0m \u001b[0minstance\u001b[0m\u001b[0;34m.\u001b[0m\u001b[0;34m\u001b[0m\u001b[0;34m\u001b[0m\u001b[0m\n\u001b[1;32m    210\u001b[0m         \"\"\"\n\u001b[0;32m--> 211\u001b[0;31m         \u001b[0mself\u001b[0m\u001b[0;34m.\u001b[0m\u001b[0m_set_params\u001b[0m\u001b[0;34m(\u001b[0m\u001b[0;34m\"steps\"\u001b[0m\u001b[0;34m,\u001b[0m \u001b[0;34m**\u001b[0m\u001b[0mkwargs\u001b[0m\u001b[0;34m)\u001b[0m\u001b[0;34m\u001b[0m\u001b[0;34m\u001b[0m\u001b[0m\n\u001b[0m\u001b[1;32m    212\u001b[0m         \u001b[0;32mreturn\u001b[0m \u001b[0mself\u001b[0m\u001b[0;34m\u001b[0m\u001b[0;34m\u001b[0m\u001b[0m\n\u001b[1;32m    213\u001b[0m \u001b[0;34m\u001b[0m\u001b[0m\n",
            "\u001b[0;32m/usr/local/lib/python3.9/dist-packages/sklearn/utils/metaestimators.py\u001b[0m in \u001b[0;36m_set_params\u001b[0;34m(self, attr, **params)\u001b[0m\n\u001b[1;32m     68\u001b[0m \u001b[0;34m\u001b[0m\u001b[0m\n\u001b[1;32m     69\u001b[0m         \u001b[0;31m# 3. Step parameters and other initialisation arguments\u001b[0m\u001b[0;34m\u001b[0m\u001b[0;34m\u001b[0m\u001b[0m\n\u001b[0;32m---> 70\u001b[0;31m         \u001b[0msuper\u001b[0m\u001b[0;34m(\u001b[0m\u001b[0;34m)\u001b[0m\u001b[0;34m.\u001b[0m\u001b[0mset_params\u001b[0m\u001b[0;34m(\u001b[0m\u001b[0;34m**\u001b[0m\u001b[0mparams\u001b[0m\u001b[0;34m)\u001b[0m\u001b[0;34m\u001b[0m\u001b[0;34m\u001b[0m\u001b[0m\n\u001b[0m\u001b[1;32m     71\u001b[0m         \u001b[0;32mreturn\u001b[0m \u001b[0mself\u001b[0m\u001b[0;34m\u001b[0m\u001b[0;34m\u001b[0m\u001b[0m\n\u001b[1;32m     72\u001b[0m \u001b[0;34m\u001b[0m\u001b[0m\n",
            "\u001b[0;32m/usr/local/lib/python3.9/dist-packages/sklearn/base.py\u001b[0m in \u001b[0;36mset_params\u001b[0;34m(self, **params)\u001b[0m\n\u001b[1;32m    196\u001b[0m             \u001b[0;31m# Simple optimization to gain speed (inspect is slow)\u001b[0m\u001b[0;34m\u001b[0m\u001b[0;34m\u001b[0m\u001b[0m\n\u001b[1;32m    197\u001b[0m             \u001b[0;32mreturn\u001b[0m \u001b[0mself\u001b[0m\u001b[0;34m\u001b[0m\u001b[0;34m\u001b[0m\u001b[0m\n\u001b[0;32m--> 198\u001b[0;31m         \u001b[0mvalid_params\u001b[0m \u001b[0;34m=\u001b[0m \u001b[0mself\u001b[0m\u001b[0;34m.\u001b[0m\u001b[0mget_params\u001b[0m\u001b[0;34m(\u001b[0m\u001b[0mdeep\u001b[0m\u001b[0;34m=\u001b[0m\u001b[0;32mTrue\u001b[0m\u001b[0;34m)\u001b[0m\u001b[0;34m\u001b[0m\u001b[0;34m\u001b[0m\u001b[0m\n\u001b[0m\u001b[1;32m    199\u001b[0m \u001b[0;34m\u001b[0m\u001b[0m\n\u001b[1;32m    200\u001b[0m         \u001b[0mnested_params\u001b[0m \u001b[0;34m=\u001b[0m \u001b[0mdefaultdict\u001b[0m\u001b[0;34m(\u001b[0m\u001b[0mdict\u001b[0m\u001b[0;34m)\u001b[0m  \u001b[0;31m# grouped by prefix\u001b[0m\u001b[0;34m\u001b[0m\u001b[0;34m\u001b[0m\u001b[0m\n",
            "\u001b[0;32m/usr/local/lib/python3.9/dist-packages/sklearn/pipeline.py\u001b[0m in \u001b[0;36mget_params\u001b[0;34m(self, deep)\u001b[0m\n\u001b[1;32m    188\u001b[0m             \u001b[0mParameter\u001b[0m \u001b[0mnames\u001b[0m \u001b[0mmapped\u001b[0m \u001b[0mto\u001b[0m \u001b[0mtheir\u001b[0m \u001b[0mvalues\u001b[0m\u001b[0;34m.\u001b[0m\u001b[0;34m\u001b[0m\u001b[0;34m\u001b[0m\u001b[0m\n\u001b[1;32m    189\u001b[0m         \"\"\"\n\u001b[0;32m--> 190\u001b[0;31m         \u001b[0;32mreturn\u001b[0m \u001b[0mself\u001b[0m\u001b[0;34m.\u001b[0m\u001b[0m_get_params\u001b[0m\u001b[0;34m(\u001b[0m\u001b[0;34m\"steps\"\u001b[0m\u001b[0;34m,\u001b[0m \u001b[0mdeep\u001b[0m\u001b[0;34m=\u001b[0m\u001b[0mdeep\u001b[0m\u001b[0;34m)\u001b[0m\u001b[0;34m\u001b[0m\u001b[0;34m\u001b[0m\u001b[0m\n\u001b[0m\u001b[1;32m    191\u001b[0m \u001b[0;34m\u001b[0m\u001b[0m\n\u001b[1;32m    192\u001b[0m     \u001b[0;32mdef\u001b[0m \u001b[0mset_params\u001b[0m\u001b[0;34m(\u001b[0m\u001b[0mself\u001b[0m\u001b[0;34m,\u001b[0m \u001b[0;34m**\u001b[0m\u001b[0mkwargs\u001b[0m\u001b[0;34m)\u001b[0m\u001b[0;34m:\u001b[0m\u001b[0;34m\u001b[0m\u001b[0;34m\u001b[0m\u001b[0m\n",
            "\u001b[0;32m/usr/local/lib/python3.9/dist-packages/sklearn/utils/metaestimators.py\u001b[0m in \u001b[0;36m_get_params\u001b[0;34m(self, attr, deep)\u001b[0m\n\u001b[1;32m     46\u001b[0m         \u001b[0;32mfor\u001b[0m \u001b[0mname\u001b[0m\u001b[0;34m,\u001b[0m \u001b[0mestimator\u001b[0m \u001b[0;32min\u001b[0m \u001b[0mestimators\u001b[0m\u001b[0;34m:\u001b[0m\u001b[0;34m\u001b[0m\u001b[0;34m\u001b[0m\u001b[0m\n\u001b[1;32m     47\u001b[0m             \u001b[0;32mif\u001b[0m \u001b[0mhasattr\u001b[0m\u001b[0;34m(\u001b[0m\u001b[0mestimator\u001b[0m\u001b[0;34m,\u001b[0m \u001b[0;34m\"get_params\"\u001b[0m\u001b[0;34m)\u001b[0m\u001b[0;34m:\u001b[0m\u001b[0;34m\u001b[0m\u001b[0;34m\u001b[0m\u001b[0m\n\u001b[0;32m---> 48\u001b[0;31m                 \u001b[0;32mfor\u001b[0m \u001b[0mkey\u001b[0m\u001b[0;34m,\u001b[0m \u001b[0mvalue\u001b[0m \u001b[0;32min\u001b[0m \u001b[0mestimator\u001b[0m\u001b[0;34m.\u001b[0m\u001b[0mget_params\u001b[0m\u001b[0;34m(\u001b[0m\u001b[0mdeep\u001b[0m\u001b[0;34m=\u001b[0m\u001b[0;32mTrue\u001b[0m\u001b[0;34m)\u001b[0m\u001b[0;34m.\u001b[0m\u001b[0mitems\u001b[0m\u001b[0;34m(\u001b[0m\u001b[0;34m)\u001b[0m\u001b[0;34m:\u001b[0m\u001b[0;34m\u001b[0m\u001b[0;34m\u001b[0m\u001b[0m\n\u001b[0m\u001b[1;32m     49\u001b[0m                     \u001b[0mout\u001b[0m\u001b[0;34m[\u001b[0m\u001b[0;34m\"%s__%s\"\u001b[0m \u001b[0;34m%\u001b[0m \u001b[0;34m(\u001b[0m\u001b[0mname\u001b[0m\u001b[0;34m,\u001b[0m \u001b[0mkey\u001b[0m\u001b[0;34m)\u001b[0m\u001b[0;34m]\u001b[0m \u001b[0;34m=\u001b[0m \u001b[0mvalue\u001b[0m\u001b[0;34m\u001b[0m\u001b[0;34m\u001b[0m\u001b[0m\n\u001b[1;32m     50\u001b[0m         \u001b[0;32mreturn\u001b[0m \u001b[0mout\u001b[0m\u001b[0;34m\u001b[0m\u001b[0;34m\u001b[0m\u001b[0m\n",
            "\u001b[0;31mTypeError\u001b[0m: get_params() missing 1 required positional argument: 'self'"
          ]
        }
      ]
    },
    {
      "cell_type": "code",
      "source": [
        "RF = RandomForestClassifier(max_depth= int(17.53243068297166), \n",
        "                            n_estimators=10,\n",
        "                            random_state=seed_num)"
      ],
      "metadata": {
        "id": "UxM65bskYOBo"
      },
      "id": "UxM65bskYOBo",
      "execution_count": null,
      "outputs": []
    },
    {
      "cell_type": "markdown",
      "id": "38703a67",
      "metadata": {
        "id": "38703a67"
      },
      "source": [
        "### 3.1.1 GridSearch\n",
        "\n",
        "- hyperparameter optimization"
      ]
    },
    {
      "cell_type": "code",
      "execution_count": null,
      "id": "c5f54098-47e8-4a89-b058-81860acc8f4d",
      "metadata": {
        "id": "c5f54098-47e8-4a89-b058-81860acc8f4d"
      },
      "outputs": [],
      "source": [
        "# CBC = CatBoostClassifier(task_type='GPU', border_count=None)\n",
        "# params_grid = {'iterations': [600, 700, 800, 900, 1000],\n",
        "#                'depth': [4, 5, 6],\n",
        "#                'loss_function': ['MultiClass'],\n",
        "#                'l2_leaf_reg': np.logspace(-20, -19, 3),\n",
        "#                'leaf_estimation_iterations': [10],\n",
        "#                'eval_metric': ['Accuracy'],\n",
        "#                'logging_level':['Silent'],\n",
        "#                'random_seed': [42]}\n"
      ]
    },
    {
      "cell_type": "code",
      "execution_count": null,
      "id": "f34d37d8",
      "metadata": {
        "id": "f34d37d8"
      },
      "outputs": [],
      "source": [
        "# from sklearn.model_selection import GridSearchCV\n",
        "\n",
        "# estimator = GradientBoostingClassifier(random_state = 37)\n",
        "\n",
        "# param_grid = {\n",
        "#             'n_estimators' : [n_estimators for n_estimators in range(100, 5000, 100)],\n",
        "#             'learning_rate' : [lr * 0.0001 for lr in range(1, 10)],\n",
        "#             'max_depth' : [depth for depth in range(3, 9)],\n",
        "#             'subsample' : [subsample * 0.1 for subsample in range(5, 9, 1)],\n",
        "#             'max_features' : ['auto', 'sqrt', 'log2']\n",
        "#             }\n",
        "\n",
        "# # scoring = 'r2' -> 결정계수로 scoring\n",
        "# grid_GBC = GridSearchCV(estimator, param_grid, scoring = 'r2', n_jobs = -1)\n",
        "# grid_GBC.fit(train_x, train_y)\n",
        "\n",
        "# print('best estimator model: \\n{}'.format(grid_GBC.best_estimator_))\n",
        "# print('\\nbest parameter: \\n{}'.format(grid_GBC.best_params_))\n",
        "# print(\"\\nbest score: \\n{}\".format(grid_GBC.best_score_.round(3)))"
      ]
    },
    {
      "cell_type": "code",
      "execution_count": null,
      "id": "7f8add53",
      "metadata": {
        "id": "7f8add53"
      },
      "outputs": [],
      "source": [
        "# # GridSearch best parameter \n",
        "# import imblearn\n",
        "\n",
        "# params= {'n_estimators': 1200, 'learning_rate': 0.009147154102399788, \\\n",
        "#         'max_depth': 9, 'subsample': 0.8, 'max_features': 'auto'}\n",
        "# GBC =  GradientBoostingClassifier(random_state=37, **params,                              \n",
        "#                                   ).fit(X_train, y_train)\n",
        "# preds = GBC.predict(X_test)\n",
        "\n",
        "# print(classification_report(y_test, preds))\n",
        "# print(\"\\n Grid : \", accuracy_score(y_test, preds))"
      ]
    },
    {
      "cell_type": "markdown",
      "id": "-V0IZDs6_S3f",
      "metadata": {
        "id": "-V0IZDs6_S3f"
      },
      "source": [
        "## 3.2 CatBoost\n",
        "1. optuna \n",
        "    - hyperparameters auto optimization"
      ]
    },
    {
      "cell_type": "code",
      "execution_count": null,
      "id": "4ea05433",
      "metadata": {
        "id": "4ea05433"
      },
      "outputs": [],
      "source": [
        "# def objective(trial):\n",
        "#     params = {\n",
        "#         \"iterations\": 1000,\n",
        "#         \"learning_rate\": trial.suggest_loguniform(\"learning_rate\", 0.001, 0.1),\n",
        "#         \"depth\": trial.suggest_int(\"depth\", 1, 10),\n",
        "#         \"l2_leaf_reg\": trial.suggest_loguniform(\"l2_leaf_reg\", 1e-8, 10),\n",
        "#         \"random_seed\": 42,\n",
        "#         \"eval_metric\": \"Accuracy\",\n",
        "#         \"od_type\": \"Iter\",\n",
        "#         \"od_wait\": 100,\n",
        "#         \"verbose\": 1\n",
        "#     }    \n",
        "\n",
        "\n",
        "#     # iterations=trial.suggest_int(\"iterations\", 100, 1000),\n",
        "#     #     learning_rate=trial.suggest_float(\"learning_rate\", 1e-3, 1e-1, log=True),\n",
        "#     #     depth=trial.suggest_int(\"depth\", 4, 10),\n",
        "#     #     l2_leaf_reg=trial.suggest_float(\"l2_leaf_reg\", 1e-8, 100.0, log=True),\n",
        "#     #     bootstrap_type=trial.suggest_categorical(\"bootstrap_type\", [\"Bayesian\"]),\n",
        "#     #     random_strength=trial.suggest_float(\"random_strength\", 1e-8, 10.0, log=True),\n",
        "#     #     bagging_temperature=trial.suggest_float(\"bagging_temperature\", 0.0, 10.0),\n",
        "#     #     od_type=trial.suggest_categorical(\"od_type\", [\"IncToDec\", \"Iter\"]),\n",
        "#     #     od_wait=trial.suggest_int(\"od_wait\", 10, 50),\n",
        "#     #     verbose=False\n",
        "#     model=CatBoostClassifier(**params)\n",
        "#     model.fit(X_train, y_train)\n",
        "#     y_pred = model.predict(X_test)\n",
        "#     return f1_score(y_test, y_pred, average='macro')\n",
        "     \n",
        "# # # hyper-parameter tuning with OPTUNA  \n",
        "# optuna.logging.set_verbosity(optuna.logging.WARNING)\n",
        "\n",
        "# sampler = TPESampler(seed=37)\n",
        "# study = optuna.create_study(study_name=\"catboost\", direction=\"maximize\", sampler=sampler)\n",
        "# study.set_user_attr(\"verbose\", 1)\n",
        "# study.optimize(objective, n_trials=0,n_jobs=-1)  "
      ]
    },
    {
      "cell_type": "code",
      "execution_count": null,
      "id": "a8ffdb51",
      "metadata": {
        "id": "a8ffdb51"
      },
      "outputs": [],
      "source": [
        "# print(\"Number of trials: \", len(study.trials))\n",
        "# print(\"Best trial:\")\n",
        "# trial = study.best_trial\n",
        "# print(\"  Value: \", trial.value)\n",
        "# print(\"  Params: \",trial.params)\n",
        "\n",
        "# CBC_model = CatBoostClassifier(**trial.params, verbose=False, random_state = 37)\n",
        "# CBC_model.fit(X_train, y_train,verbose=1)\n",
        "# y_pred = model.predict(X_test)\n"
      ]
    },
    {
      "cell_type": "code",
      "execution_count": null,
      "id": "1942cb67",
      "metadata": {
        "colab": {
          "base_uri": "https://localhost:8080/"
        },
        "id": "1942cb67",
        "outputId": "857cc054-050f-4f2d-d5b9-fa4c85e8e49d"
      },
      "outputs": [
        {
          "output_type": "stream",
          "name": "stdout",
          "text": [
            "              precision    recall  f1-score   support\n",
            "\n",
            "           0       0.64      0.26      0.37        53\n",
            "           1       0.75      0.94      0.83       227\n",
            "           2       0.72      0.38      0.50        60\n",
            "\n",
            "    accuracy                           0.74       340\n",
            "   macro avg       0.70      0.53      0.57       340\n",
            "weighted avg       0.73      0.74      0.70       340\n",
            "\n",
            "\n",
            " Optuna :  0.7382352941176471\n"
          ]
        }
      ],
      "source": [
        "params=  {'iterations': 857, 'learning_rate': 0.07097207730593516, 'depth': 8, \\\n",
        "        'l2_leaf_reg': 0.00012090525126196811, 'bootstrap_type': 'Bayesian', \\\n",
        "        'random_strength': 5.359110894800412, 'bagging_temperature': 0.7137022569955509, \\\n",
        "        'od_type': 'IncToDec', 'od_wait': 42}\n",
        "CBC = CatBoostClassifier(**params, verbose=0, random_state=37, task_type='GPU')\n",
        "CBC.fit(X_train, y_train)\n",
        "preds_CBC = CBC.predict(X_test)\n",
        "\n",
        "print(classification_report(y_test, preds_CBC))\n",
        "print(\"\\n Optuna : \", accuracy_score(y_test, preds_CBC))"
      ]
    },
    {
      "cell_type": "code",
      "execution_count": null,
      "id": "eACiKQAXwMSW",
      "metadata": {
        "id": "eACiKQAXwMSW"
      },
      "outputs": [],
      "source": [
        "from optuna.visualization import plot_optimization_history\n",
        "from optuna.visualization import plot_param_importances\n",
        "from optuna.visualization import plot_parallel_coordinate\n",
        "from optuna.visualization import plot_contour"
      ]
    },
    {
      "cell_type": "code",
      "execution_count": null,
      "id": "b30ec99b",
      "metadata": {
        "id": "b30ec99b"
      },
      "outputs": [],
      "source": [
        "# plot_param_importances(study)"
      ]
    },
    {
      "cell_type": "markdown",
      "id": "458a5890",
      "metadata": {
        "id": "458a5890"
      },
      "source": [
        "### 3.2.1 GridSearch\n",
        "\n",
        "- hyperparameter optimization"
      ]
    },
    {
      "cell_type": "code",
      "execution_count": null,
      "id": "c06e0929",
      "metadata": {
        "id": "c06e0929"
      },
      "outputs": [],
      "source": [
        "# from sklearn.model_selection import GridSearchCV\n",
        "\n",
        "# estimator = CatBoostClassifier(random_state = 37)\n",
        "\n",
        "# param_grid = {\n",
        "#             'iterataions' : [iter for iter in range(100, 1000, 100)],\n",
        "#             'learning_rate' : [lr * 0.0001 for lr in range(1, 10)],\n",
        "#             'depth' : [depth for depth in range(4, 10)],\n",
        "#             'l2_leaf_reg' : [leaf * 0.0000001 for leaf in range(1, 100, 10)],\n",
        "#             'bootstrap_type' : ['Bayesian'],\n",
        "#             'random_strength' : [strength * 0.1 for strength in range(1, 100, 10)],\n",
        "#             'bagging_temperature' : [bag * 0.1 for bag in range(1, 10)],\n",
        "#             'od_type' : ['IncToDec', 'Iter'],\n",
        "#             'od_wait' : [wait for wait in range(10, 50, 4)]\n",
        "#             }\n",
        "\n",
        "# # scoring = 'r2' -> 결정계수로 scoring\n",
        "# grid_CBC = GridSearchCV(estimator, param_grid, scoring = 'r2', n_jobs = -1)\n",
        "# grid_CBC.fit(X_train, y_train)\n",
        "\n",
        "# print('best estimator model: \\n{}'.format(grid_CBC.best_estimator_))\n",
        "# print('\\nbest parameter: \\n{}'.format(grid_CBC.best_params_))\n",
        "# print(\"\\nbest score: \\n{}\".format(grid_CBC.best_score_.round(3)))"
      ]
    },
    {
      "cell_type": "code",
      "execution_count": null,
      "id": "888c2ae5-7555-4a50-a9e9-ff8924957fc8",
      "metadata": {
        "tags": [],
        "id": "888c2ae5-7555-4a50-a9e9-ff8924957fc8"
      },
      "outputs": [],
      "source": [
        "# param_grid={'iterations': [600, 700, 800, 900, 1000],\n",
        "#             'depth': [4, 5, 6],\n",
        "#             'loss_function': ['MultiClass'],\n",
        "#             'l2_leaf_reg': np.logspace(-20, -19, 3),\n",
        "#             'leaf_estimation_iterations': [10],\n",
        "#             'eval_metric': ['Accuracy'],\n",
        "#             'logging_level':['Silent'],\n",
        "#             'random_seed': [42]\n",
        "#            }\n",
        "# catB=CatBoostClassifier()\n",
        "# cat_grid=GridSearchCV(catB,param_grid=param_grid,scoring='accuracy',cv=5,n_jobs=-1)\n",
        "\n",
        "# cat_grid.fit(X_train, y_train,verbose=1)\n",
        "\n",
        "# print(\"Best parameters: \", grid_search.best_params_)\n",
        "# print(\"Best score: \", grid_search.best_score_)"
      ]
    },
    {
      "cell_type": "code",
      "execution_count": null,
      "id": "092912ed",
      "metadata": {
        "id": "092912ed"
      },
      "outputs": [],
      "source": [
        "# params=  {'iterations': 857, 'learning_rate': 0.07097207730593516, 'depth': 8, \\\n",
        "#         'l2_leaf_reg': 0.00012090525126196811, 'bootstrap_type': 'Bayesian', \\\n",
        "#         'random_strength': 5.359110894800412, 'bagging_temperature': 0.7137022569955509, \\\n",
        "#         'od_type': 'IncToDec', 'od_wait': 42}\n",
        "# CBC = CatBoostClassifier(**paarams, verbose=False, random_state=37)\n",
        "# CBC.fit(X_train, y_train)\n",
        "# preds_CBC = CBC.predict(X_test)\n",
        "\n",
        "# print(classification_report(y_test, preds_CBC))\n",
        "# print(\"\\n Grid : \", accuracy_score(y_test, preds_CBC))"
      ]
    },
    {
      "cell_type": "markdown",
      "id": "o8N-QHuIvNN3",
      "metadata": {
        "id": "o8N-QHuIvNN3"
      },
      "source": [
        "# 4.Ensemble"
      ]
    },
    {
      "cell_type": "markdown",
      "id": "2fe15f1a",
      "metadata": {
        "id": "2fe15f1a"
      },
      "source": [
        "## 4.1 VotingClassifier\n",
        "1. 3-ensemble Modle\n",
        "2. Cross-Validation 구축 후 성능 검증"
      ]
    },
    {
      "cell_type": "code",
      "execution_count": null,
      "id": "Vm8q0p4Hyzg2",
      "metadata": {
        "colab": {
          "base_uri": "https://localhost:8080/"
        },
        "id": "Vm8q0p4Hyzg2",
        "outputId": "ce4faed5-fe78-485d-fd8b-b3b3a933e198",
        "tags": []
      },
      "outputs": [
        {
          "output_type": "stream",
          "name": "stdout",
          "text": [
            "[LightGBM] [Warning] lambda_l1 is set=0.00048021471491299205, reg_alpha=0.0 will be ignored. Current value: lambda_l1=0.00048021471491299205\n",
            "[LightGBM] [Warning] bagging_fraction is set=0.7302696718518357, subsample=1.0 will be ignored. Current value: bagging_fraction=0.7302696718518357\n",
            "[LightGBM] [Warning] feature_fraction is set=0.6536282159518209, colsample_bytree=1.0 will be ignored. Current value: feature_fraction=0.6536282159518209\n",
            "[LightGBM] [Warning] min_data_in_leaf is set=16, min_child_samples=20 will be ignored. Current value: min_data_in_leaf=16\n",
            "[LightGBM] [Warning] lambda_l2 is set=0.021386150387940235, reg_lambda=0.0 will be ignored. Current value: lambda_l2=0.021386150387940235\n"
          ]
        }
      ],
      "source": [
        "models=[CBC,RF,LGBM]   \n",
        "fit= [x.fit(train_x, train_y) for x in models]"
      ]
    },
    {
      "cell_type": "code",
      "execution_count": null,
      "id": "0bcafdb3",
      "metadata": {
        "colab": {
          "base_uri": "https://localhost:8080/",
          "height": 265
        },
        "id": "0bcafdb3",
        "outputId": "e543ae93-0c7e-4710-a751-8b011455bb61"
      },
      "outputs": [
        {
          "output_type": "display_data",
          "data": {
            "text/plain": [
              "<Figure size 432x288 with 1 Axes>"
            ],
            "image/png": "[encoded data removed]"
          },
          "metadata": {
            "needs_background": "light"
          }
        }
      ],
      "source": [
        "def prediction(models, test, mode=None, weights=None):\n",
        "    if mode == \"hard\":\n",
        "        preds = np.asarray([x.predict(test).reshape(-1) for x in models]).T\n",
        "        res = np.apply_along_axis(\n",
        "            lambda x: np.argmax(np.bincount(x, weights=weights)),\n",
        "            axis=1,\n",
        "            arr=preds\n",
        "        )  \n",
        "    elif mode == \"soft\":  \n",
        "        preds = np.asarray([x.predict_proba(test) for x in models])\n",
        "        res = np.zeros(preds[0].shape)\n",
        "        for pred, weight in zip(preds, weights):\n",
        "            res = res + pred*weight\n",
        "        res = np.argmax(preds, axis=0) \n",
        "    else:\n",
        "        res = models[0].predict(test)\n",
        "    return res\n",
        "\n",
        "preds = prediction(models, test_x, 'hard', [2,5,4] )\n",
        "\n",
        "sns.countplot(x=preds);   \n"
      ]
    },
    {
      "cell_type": "markdown",
      "id": "KUOHpt3z847x",
      "metadata": {
        "id": "KUOHpt3z847x"
      },
      "source": [
        "## 4.2 Validation Score\n",
        "1. train.csv에서 split된 test set accuracy 100% 검증"
      ]
    },
    {
      "cell_type": "code",
      "execution_count": null,
      "id": "Z3UesEBQ1r8z",
      "metadata": {
        "id": "Z3UesEBQ1r8z"
      },
      "outputs": [],
      "source": [
        "voting_model = sklearn.ensemble.VotingClassifier(estimators=[\n",
        "                ('CatBoostClassifier', CBC),\n",
        "                ('RandomForest', RF),\n",
        "                ('LGBM', LGBM)], \n",
        "                voting='hard', weights=[2,1,2])"
      ]
    },
    {
      "cell_type": "code",
      "execution_count": null,
      "id": "TgLWsUI2A25b",
      "metadata": {
        "colab": {
          "base_uri": "https://localhost:8080/"
        },
        "id": "TgLWsUI2A25b",
        "outputId": "24b425ef-66a4-4329-fdac-afecd57bfd61"
      },
      "outputs": [
        {
          "output_type": "execute_result",
          "data": {
            "text/plain": [
              "1.0"
            ]
          },
          "metadata": {},
          "execution_count": 44
        }
      ],
      "source": [
        "val_preds = prediction(models, X_test, 'hard', [2,1,2])\n",
        "val_score= sklearn.metrics.accuracy_score(y_test, val_preds)\n",
        "val_score  "
      ]
    },
    {
      "cell_type": "markdown",
      "id": "zbNtWowN78mX",
      "metadata": {
        "id": "zbNtWowN78mX"
      },
      "source": [
        "# 5.Submit"
      ]
    },
    {
      "cell_type": "code",
      "execution_count": null,
      "id": "YQHmg0PCJetf",
      "metadata": {
        "id": "YQHmg0PCJetf",
        "colab": {
          "base_uri": "https://localhost:8080/"
        },
        "outputId": "21efcb4c-4117-49b4-857a-2636fadc8351"
      },
      "outputs": [
        {
          "output_type": "execute_result",
          "data": {
            "text/plain": [
              "1    414\n",
              "2     77\n",
              "0     44\n",
              "dtype: int64"
            ]
          },
          "metadata": {},
          "execution_count": 69
        }
      ],
      "source": [
        "submit = pd.read_csv('sample_submission.csv')\n",
        "submit['Y_Class'] = preds\n",
        "\n",
        "submit.to_csv('KNNimputerDropNA-CRL254RFoptuna.csv', index=False)\n",
        "pd.DataFrame(preds).value_counts()"
      ]
    },
    {
      "cell_type": "markdown",
      "id": "utf4-GCG5REy",
      "metadata": {
        "id": "utf4-GCG5REy"
      },
      "source": [
        "# 6.References\n",
        "PPT에 기재하였습니다\n"
      ]
    },
    {
      "cell_type": "markdown",
      "id": "f5sg6EQYMj_P",
      "metadata": {
        "id": "f5sg6EQYMj_P"
      },
      "source": [
        "# THE END"
      ]
    }
  ],
  "metadata": {
    "accelerator": "GPU",
    "colab": {
      "machine_shape": "hm",
      "provenance": [],
      "toc_visible": true
    },
    "gpuClass": "standard",
    "kernelspec": {
      "display_name": "Python 3 (ipykernel)",
      "language": "python",
      "name": "python3"
    },
    "language_info": {
      "codemirror_mode": {
        "name": "ipython",
        "version": 3
      },
      "file_extension": ".py",
      "mimetype": "text/x-python",
      "name": "python",
      "nbconvert_exporter": "python",
      "pygments_lexer": "ipython3",
      "version": "3.8.9"
    }
  },
  "nbformat": 4,
  "nbformat_minor": 5
}