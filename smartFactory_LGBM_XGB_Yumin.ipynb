{
  "nbformat": 4,
  "nbformat_minor": 0,
  "metadata": {
    "colab": {
      "provenance": [],
      "toc_visible": true
    },
    "kernelspec": {
      "name": "python3",
      "display_name": "Python 3"
    },
    "language_info": {
      "name": "python"
    },
    "accelerator": "GPU",
    "gpuClass": "standard"
  },
  "cells": [
    {
      "cell_type": "markdown",
      "source": [
        "LG AI hackathon Smart Factory\n",
        "[대회 링크](https://dacon.io/competitions/official/236055/overview/description)"
      ],
      "metadata": {
        "id": "7Nq-Y7oIvUIC"
      }
    },
    {
      "cell_type": "markdown",
      "source": [
        "# Data Description\n",
        "\n",
        "**1. train.csv [파일]**\n",
        "- PRODUCT_ID : 제품의 고유 ID\n",
        "- Y_Class : 제품 품질 상태(Target) \n",
        "    - 0 : 적정 기준 미달 (부적합)\n",
        "    - 1 : 적합\n",
        "    - 2 : 적정 기준 초과 (부적합)\n",
        "- Y_Quality : 제품 품질 관련 정량적 수치\n",
        "- TIMESTAMP : 제품이 공정에 들어간 시각\n",
        "- LINE : 제품이 들어간 공정 LINE 종류 ('T050304', 'T050307', 'T100304', 'T100306', 'T010306', 'T010305' 존재)\n",
        "- PRODUCT_CODE : 제품의 CODE 번호 ('A_31', 'T_31', 'O_31' 존재)\n",
        "- X_1 ~ X_2875 : 공정 과정에서 추출되어 비식별화된 변수\n",
        "- 06.13.2022~09.08.2022 DATA\n",
        "\n",
        "\n",
        "\n",
        "**2. test.csv [파일]**\n",
        "- PRODUCT_ID : 제품의 고유 ID\n",
        "- TIMESTAMP : 제품이 공정에 들어간 시각\n",
        "- LINE : 제품이 들어간 공정 LINE 종류 ('T050304', 'T050307', 'T100304', 'T100306', 'T010306', 'T010305' 존재)\n",
        "- PRODUCT_CODE : 제품의 CODE 번호 ('A_31', 'T_31', 'O_31' 존재)\n",
        "- X_1 ~ X_2875 : 공정 과정에서 추출되어 비식별화된 변수\n",
        "- 09.09.2022~11.05.2022 DATA \n",
        "\n",
        "**3. sample_submission.csv [파일] - 제출 양식**\n",
        "- PRODUCT_ID : 제품의 고유 ID\n",
        "- Y_Class : 예측한 제품 품질 상태\n",
        "    - 0 : 적정 기준 미달 (부적합)\n",
        "    - 1 : 적합\n",
        "    - 2 : 적정 기준 초과 (부적합)\n",
        "\n",
        "- 실제 공정 과정에서의 데이터로, 보안상의 이유로 일부 변수가 비식별화 처리 되었습니다. (X변수)\n",
        "- 'LINE', 'PRODUCT_CODE'는 Train / Test 모두 동일한 종류가 존재합니다."
      ],
      "metadata": {
        "id": "AQlbReiWmbvJ"
      }
    },
    {
      "cell_type": "markdown",
      "source": [
        "## DATA LEAKAGE - RULE \n",
        "1. 대표적인 Data Leakage에 해당하는 사례\n",
        "    - Label Encoding 시 Test 데이터로부터 Encoder를 fit 시키는 경우\n",
        "    - Scaler 사용 시 Test 데이터로부터 Scaler를 fit 시키는 경우\n",
        "    Test 데이터에 대한 결측치 보간 시 Test 데이터의 통계 정보(평균, 최빈값 등)를 사용하는 경우\n",
        "    - 파생변수를 생성할 시 2개 이상의 Test 데이터들의 정보를 활용할 경우\n",
        "    - Test 데이터들의 이동 평균을 활용하는 경우\n",
        "    - Test 데이터들을 모델 학습에 활용하는 경우 (이번 해커톤에서는 Pseudo-Labeling도 허용하지 않습니다)\n",
        "    - Test 데이터에 pandas의 get_dummies() 함수를 적용하는 경우\n",
        "        - (=) Test DATA로 Encoder를 fitting 한 것과 같으므로\n",
        "        - ==> Encoder를 Train data로 fitting 한 후, Test data에 Transform (GOOD)  \n",
        "    - Test 데이터의 index 정보 혹은 row 개수 정보를 활용하는 경우\n",
        "    - Test 데이터로부터 EDA를 진행한 결과(인사이트)를 전처리, 모델 학습에 적용하는 경우\n",
        "    - 이 밖의 Test 데이터들의 정보를 모델 학습에 활용하는 모든 경우\n",
        "\n",
        "\n",
        "2. 대표적인 Data Leakage에 해당하지 않는 사례\n",
        "    - 독립적인 샘플(행(row)) 내에서의 모든 연산 혹은 파생 변수 생성\n",
        "        - 예를 들어, Test['C'] = Test['A'] + Test['B']와 같이 독립적인 샘플 내에서 A Column과 B Column을 더한 새로운 파생 변수 C Column을 생성하는 경우\n",
        "    - Train 데이터의 통계 정보를 Test 데이터에 적용하여 전처리하는 경우 혹은 파생 변수를 생성하는 경우\n",
        "    - Test 데이터의 결측치를 Train 데이터의 통계 정보를 바탕으로 보간하는 경우 \n"
      ],
      "metadata": {
        "id": "WcRYcvVrk-xf"
      }
    },
    {
      "cell_type": "markdown",
      "source": [
        "# MODULE IMPORT"
      ],
      "metadata": {
        "id": "7c9x-uVynqst"
      }
    },
    {
      "cell_type": "code",
      "source": [
        "import pandas as pd\n",
        "import random\n",
        "import os\n",
        "import numpy as np\n",
        "import matplotlib.pyplot as plt \n",
        "import seaborn as sns\n",
        "\n",
        "from sklearn.preprocessing import LabelEncoder\n",
        "from sklearn.ensemble import RandomForestClassifier\n",
        "\n",
        "from sklearn.model_selection import train_test_split \n",
        "from sklearn.metrics import accuracy_score, classification_report, f1_score\n",
        "\n",
        "import tensorflow as tf \n",
        "\n",
        "# warning message delete \n",
        "import warnings\n",
        "warnings.simplefilter(action=\"ignore\", category=FutureWarning)\n",
        "\n",
        "# google drive mount\n",
        "from google.colab import drive\n",
        "drive.mount('/content/drive')\n",
        "\n",
        "def seed_everything(seed):\n",
        "    random.seed(seed)\n",
        "    os.environ['PYTHONHASHSEED'] = str(seed)\n",
        "    np.random.seed(seed)\n",
        "seed_everything(37)"
      ],
      "metadata": {
        "id": "N524BAv7ohSr",
        "colab": {
          "base_uri": "https://localhost:8080/"
        },
        "outputId": "275f31c6-c997-4458-8f66-695c1bd47aba"
      },
      "execution_count": 35,
      "outputs": [
        {
          "output_type": "stream",
          "name": "stdout",
          "text": [
            "Drive already mounted at /content/drive; to attempt to forcibly remount, call drive.mount(\"/content/drive\", force_remount=True).\n"
          ]
        }
      ]
    },
    {
      "cell_type": "markdown",
      "source": [
        "# 0.Data Load"
      ],
      "metadata": {
        "id": "RYf_ZaTJ9vgg"
      }
    },
    {
      "cell_type": "code",
      "source": [
        "train_df = pd.read_csv('/content/drive/MyDrive/train.csv')\n",
        "train_df = train_df.drop(columns=['PRODUCT_ID', 'TIMESTAMP'])"
      ],
      "metadata": {
        "id": "kLBoulM6u2Fb"
      },
      "execution_count": 3,
      "outputs": []
    },
    {
      "cell_type": "code",
      "source": [
        "test_df = pd.read_csv('/content/drive/MyDrive/test.csv')\n",
        "test_df = test_df.drop(columns=['PRODUCT_ID','TIMESTAMP'])"
      ],
      "metadata": {
        "id": "vOExaTnZCvnk"
      },
      "execution_count": 9,
      "outputs": []
    },
    {
      "cell_type": "markdown",
      "source": [
        "# 1.Preprocessing"
      ],
      "metadata": {
        "id": "tZ1zuCbwEzul"
      }
    },
    {
      "cell_type": "code",
      "source": [
        "train_df.fillna(0, inplace=True)\n",
        "test_df.fillna(0, inplace=True)"
      ],
      "metadata": {
        "id": "DfBC_b8LE1wD"
      },
      "execution_count": 20,
      "outputs": []
    },
    {
      "cell_type": "code",
      "source": [
        "train_df.describe()"
      ],
      "metadata": {
        "colab": {
          "base_uri": "https://localhost:8080/",
          "height": 394
        },
        "id": "OgpZHxOeFaug",
        "outputId": "dbb9c7ea-1bd6-456d-8571-720f17b1726c"
      },
      "execution_count": 11,
      "outputs": [
        {
          "output_type": "execute_result",
          "data": {
            "text/plain": [
              "          Y_Class   Y_Quality         X_1         X_2    X_3    X_4  \\\n",
              "count  598.000000  598.000000  598.000000  598.000000  598.0  598.0   \n",
              "mean     1.025084    0.530896    2.239130   95.071906    0.0   45.0   \n",
              "std      0.565069    0.007401    4.505497    3.136725    0.0    0.0   \n",
              "min      0.000000    0.500856    1.000000   87.000000    0.0   45.0   \n",
              "25%      1.000000    0.527535    2.000000   94.000000    0.0   45.0   \n",
              "50%      1.000000    0.530436    2.000000   95.000000    0.0   45.0   \n",
              "75%      1.000000    0.533433    2.000000   95.000000    0.0   45.0   \n",
              "max      2.000000    0.578841  103.000000  102.000000    0.0   45.0   \n",
              "\n",
              "              X_5    X_6         X_7         X_8  ...      X_2866      X_2867  \\\n",
              "count  598.000000  598.0  598.000000  598.000000  ...  598.000000  598.000000   \n",
              "mean    10.229097    0.0   47.219064   10.028428  ...   52.987258   55.537492   \n",
              "std      0.420604    0.0    3.830212    0.166332  ...    3.018107    3.425509   \n",
              "min     10.000000    0.0   45.000000   10.000000  ...   32.120000   31.700000   \n",
              "25%     10.000000    0.0   45.000000   10.000000  ...   53.425000   55.925000   \n",
              "50%     10.000000    0.0   45.000000   10.000000  ...   53.425000   55.925000   \n",
              "75%     10.000000    0.0   50.000000   10.000000  ...   53.425000   55.925000   \n",
              "max     11.000000    0.0   62.000000   11.000000  ...   60.240000   68.660000   \n",
              "\n",
              "           X_2868      X_2869      X_2870  X_2871  X_2872  X_2873  X_2874  \\\n",
              "count  598.000000  598.000000  598.000000   598.0     0.0     0.0     0.0   \n",
              "mean    51.150000   55.419950   65.392458     1.0     NaN     NaN     NaN   \n",
              "std      2.996354    4.002222    1.928109     0.0     NaN     NaN     NaN   \n",
              "min     32.560000   30.490000   61.670000     1.0     NaN     NaN     NaN   \n",
              "25%     51.460000   56.175000   65.140000     1.0     NaN     NaN     NaN   \n",
              "50%     51.460000   56.175000   65.140000     1.0     NaN     NaN     NaN   \n",
              "75%     51.460000   56.175000   65.140000     1.0     NaN     NaN     NaN   \n",
              "max     60.410000   59.930000   79.750000     1.0     NaN     NaN     NaN   \n",
              "\n",
              "       X_2875  \n",
              "count     0.0  \n",
              "mean      NaN  \n",
              "std       NaN  \n",
              "min       NaN  \n",
              "25%       NaN  \n",
              "50%       NaN  \n",
              "75%       NaN  \n",
              "max       NaN  \n",
              "\n",
              "[8 rows x 2877 columns]"
            ],
            "text/html": [
              "\n",
              "  <div id=\"df-cd7b1149-f52e-4107-8c8c-4b77dbc2e782\">\n",
              "    <div class=\"colab-df-container\">\n",
              "      <div>\n",
              "<style scoped>\n",
              "    .dataframe tbody tr th:only-of-type {\n",
              "        vertical-align: middle;\n",
              "    }\n",
              "\n",
              "    .dataframe tbody tr th {\n",
              "        vertical-align: top;\n",
              "    }\n",
              "\n",
              "    .dataframe thead th {\n",
              "        text-align: right;\n",
              "    }\n",
              "</style>\n",
              "<table border=\"1\" class=\"dataframe\">\n",
              "  <thead>\n",
              "    <tr style=\"text-align: right;\">\n",
              "      <th></th>\n",
              "      <th>Y_Class</th>\n",
              "      <th>Y_Quality</th>\n",
              "      <th>X_1</th>\n",
              "      <th>X_2</th>\n",
              "      <th>X_3</th>\n",
              "      <th>X_4</th>\n",
              "      <th>X_5</th>\n",
              "      <th>X_6</th>\n",
              "      <th>X_7</th>\n",
              "      <th>X_8</th>\n",
              "      <th>...</th>\n",
              "      <th>X_2866</th>\n",
              "      <th>X_2867</th>\n",
              "      <th>X_2868</th>\n",
              "      <th>X_2869</th>\n",
              "      <th>X_2870</th>\n",
              "      <th>X_2871</th>\n",
              "      <th>X_2872</th>\n",
              "      <th>X_2873</th>\n",
              "      <th>X_2874</th>\n",
              "      <th>X_2875</th>\n",
              "    </tr>\n",
              "  </thead>\n",
              "  <tbody>\n",
              "    <tr>\n",
              "      <th>count</th>\n",
              "      <td>598.000000</td>\n",
              "      <td>598.000000</td>\n",
              "      <td>598.000000</td>\n",
              "      <td>598.000000</td>\n",
              "      <td>598.0</td>\n",
              "      <td>598.0</td>\n",
              "      <td>598.000000</td>\n",
              "      <td>598.0</td>\n",
              "      <td>598.000000</td>\n",
              "      <td>598.000000</td>\n",
              "      <td>...</td>\n",
              "      <td>598.000000</td>\n",
              "      <td>598.000000</td>\n",
              "      <td>598.000000</td>\n",
              "      <td>598.000000</td>\n",
              "      <td>598.000000</td>\n",
              "      <td>598.0</td>\n",
              "      <td>0.0</td>\n",
              "      <td>0.0</td>\n",
              "      <td>0.0</td>\n",
              "      <td>0.0</td>\n",
              "    </tr>\n",
              "    <tr>\n",
              "      <th>mean</th>\n",
              "      <td>1.025084</td>\n",
              "      <td>0.530896</td>\n",
              "      <td>2.239130</td>\n",
              "      <td>95.071906</td>\n",
              "      <td>0.0</td>\n",
              "      <td>45.0</td>\n",
              "      <td>10.229097</td>\n",
              "      <td>0.0</td>\n",
              "      <td>47.219064</td>\n",
              "      <td>10.028428</td>\n",
              "      <td>...</td>\n",
              "      <td>52.987258</td>\n",
              "      <td>55.537492</td>\n",
              "      <td>51.150000</td>\n",
              "      <td>55.419950</td>\n",
              "      <td>65.392458</td>\n",
              "      <td>1.0</td>\n",
              "      <td>NaN</td>\n",
              "      <td>NaN</td>\n",
              "      <td>NaN</td>\n",
              "      <td>NaN</td>\n",
              "    </tr>\n",
              "    <tr>\n",
              "      <th>std</th>\n",
              "      <td>0.565069</td>\n",
              "      <td>0.007401</td>\n",
              "      <td>4.505497</td>\n",
              "      <td>3.136725</td>\n",
              "      <td>0.0</td>\n",
              "      <td>0.0</td>\n",
              "      <td>0.420604</td>\n",
              "      <td>0.0</td>\n",
              "      <td>3.830212</td>\n",
              "      <td>0.166332</td>\n",
              "      <td>...</td>\n",
              "      <td>3.018107</td>\n",
              "      <td>3.425509</td>\n",
              "      <td>2.996354</td>\n",
              "      <td>4.002222</td>\n",
              "      <td>1.928109</td>\n",
              "      <td>0.0</td>\n",
              "      <td>NaN</td>\n",
              "      <td>NaN</td>\n",
              "      <td>NaN</td>\n",
              "      <td>NaN</td>\n",
              "    </tr>\n",
              "    <tr>\n",
              "      <th>min</th>\n",
              "      <td>0.000000</td>\n",
              "      <td>0.500856</td>\n",
              "      <td>1.000000</td>\n",
              "      <td>87.000000</td>\n",
              "      <td>0.0</td>\n",
              "      <td>45.0</td>\n",
              "      <td>10.000000</td>\n",
              "      <td>0.0</td>\n",
              "      <td>45.000000</td>\n",
              "      <td>10.000000</td>\n",
              "      <td>...</td>\n",
              "      <td>32.120000</td>\n",
              "      <td>31.700000</td>\n",
              "      <td>32.560000</td>\n",
              "      <td>30.490000</td>\n",
              "      <td>61.670000</td>\n",
              "      <td>1.0</td>\n",
              "      <td>NaN</td>\n",
              "      <td>NaN</td>\n",
              "      <td>NaN</td>\n",
              "      <td>NaN</td>\n",
              "    </tr>\n",
              "    <tr>\n",
              "      <th>25%</th>\n",
              "      <td>1.000000</td>\n",
              "      <td>0.527535</td>\n",
              "      <td>2.000000</td>\n",
              "      <td>94.000000</td>\n",
              "      <td>0.0</td>\n",
              "      <td>45.0</td>\n",
              "      <td>10.000000</td>\n",
              "      <td>0.0</td>\n",
              "      <td>45.000000</td>\n",
              "      <td>10.000000</td>\n",
              "      <td>...</td>\n",
              "      <td>53.425000</td>\n",
              "      <td>55.925000</td>\n",
              "      <td>51.460000</td>\n",
              "      <td>56.175000</td>\n",
              "      <td>65.140000</td>\n",
              "      <td>1.0</td>\n",
              "      <td>NaN</td>\n",
              "      <td>NaN</td>\n",
              "      <td>NaN</td>\n",
              "      <td>NaN</td>\n",
              "    </tr>\n",
              "    <tr>\n",
              "      <th>50%</th>\n",
              "      <td>1.000000</td>\n",
              "      <td>0.530436</td>\n",
              "      <td>2.000000</td>\n",
              "      <td>95.000000</td>\n",
              "      <td>0.0</td>\n",
              "      <td>45.0</td>\n",
              "      <td>10.000000</td>\n",
              "      <td>0.0</td>\n",
              "      <td>45.000000</td>\n",
              "      <td>10.000000</td>\n",
              "      <td>...</td>\n",
              "      <td>53.425000</td>\n",
              "      <td>55.925000</td>\n",
              "      <td>51.460000</td>\n",
              "      <td>56.175000</td>\n",
              "      <td>65.140000</td>\n",
              "      <td>1.0</td>\n",
              "      <td>NaN</td>\n",
              "      <td>NaN</td>\n",
              "      <td>NaN</td>\n",
              "      <td>NaN</td>\n",
              "    </tr>\n",
              "    <tr>\n",
              "      <th>75%</th>\n",
              "      <td>1.000000</td>\n",
              "      <td>0.533433</td>\n",
              "      <td>2.000000</td>\n",
              "      <td>95.000000</td>\n",
              "      <td>0.0</td>\n",
              "      <td>45.0</td>\n",
              "      <td>10.000000</td>\n",
              "      <td>0.0</td>\n",
              "      <td>50.000000</td>\n",
              "      <td>10.000000</td>\n",
              "      <td>...</td>\n",
              "      <td>53.425000</td>\n",
              "      <td>55.925000</td>\n",
              "      <td>51.460000</td>\n",
              "      <td>56.175000</td>\n",
              "      <td>65.140000</td>\n",
              "      <td>1.0</td>\n",
              "      <td>NaN</td>\n",
              "      <td>NaN</td>\n",
              "      <td>NaN</td>\n",
              "      <td>NaN</td>\n",
              "    </tr>\n",
              "    <tr>\n",
              "      <th>max</th>\n",
              "      <td>2.000000</td>\n",
              "      <td>0.578841</td>\n",
              "      <td>103.000000</td>\n",
              "      <td>102.000000</td>\n",
              "      <td>0.0</td>\n",
              "      <td>45.0</td>\n",
              "      <td>11.000000</td>\n",
              "      <td>0.0</td>\n",
              "      <td>62.000000</td>\n",
              "      <td>11.000000</td>\n",
              "      <td>...</td>\n",
              "      <td>60.240000</td>\n",
              "      <td>68.660000</td>\n",
              "      <td>60.410000</td>\n",
              "      <td>59.930000</td>\n",
              "      <td>79.750000</td>\n",
              "      <td>1.0</td>\n",
              "      <td>NaN</td>\n",
              "      <td>NaN</td>\n",
              "      <td>NaN</td>\n",
              "      <td>NaN</td>\n",
              "    </tr>\n",
              "  </tbody>\n",
              "</table>\n",
              "<p>8 rows × 2877 columns</p>\n",
              "</div>\n",
              "      <button class=\"colab-df-convert\" onclick=\"convertToInteractive('df-cd7b1149-f52e-4107-8c8c-4b77dbc2e782')\"\n",
              "              title=\"Convert this dataframe to an interactive table.\"\n",
              "              style=\"display:none;\">\n",
              "        \n",
              "  <svg xmlns=\"http://www.w3.org/2000/svg\" height=\"24px\"viewBox=\"0 0 24 24\"\n",
              "       width=\"24px\">\n",
              "    <path d=\"M0 0h24v24H0V0z\" fill=\"none\"/>\n",
              "    <path d=\"M18.56 5.44l.94 2.06.94-2.06 2.06-.94-2.06-.94-.94-2.06-.94 2.06-2.06.94zm-11 1L8.5 8.5l.94-2.06 2.06-.94-2.06-.94L8.5 2.5l-.94 2.06-2.06.94zm10 10l.94 2.06.94-2.06 2.06-.94-2.06-.94-.94-2.06-.94 2.06-2.06.94z\"/><path d=\"M17.41 7.96l-1.37-1.37c-.4-.4-.92-.59-1.43-.59-.52 0-1.04.2-1.43.59L10.3 9.45l-7.72 7.72c-.78.78-.78 2.05 0 2.83L4 21.41c.39.39.9.59 1.41.59.51 0 1.02-.2 1.41-.59l7.78-7.78 2.81-2.81c.8-.78.8-2.07 0-2.86zM5.41 20L4 18.59l7.72-7.72 1.47 1.35L5.41 20z\"/>\n",
              "  </svg>\n",
              "      </button>\n",
              "      \n",
              "  <style>\n",
              "    .colab-df-container {\n",
              "      display:flex;\n",
              "      flex-wrap:wrap;\n",
              "      gap: 12px;\n",
              "    }\n",
              "\n",
              "    .colab-df-convert {\n",
              "      background-color: #E8F0FE;\n",
              "      border: none;\n",
              "      border-radius: 50%;\n",
              "      cursor: pointer;\n",
              "      display: none;\n",
              "      fill: #1967D2;\n",
              "      height: 32px;\n",
              "      padding: 0 0 0 0;\n",
              "      width: 32px;\n",
              "    }\n",
              "\n",
              "    .colab-df-convert:hover {\n",
              "      background-color: #E2EBFA;\n",
              "      box-shadow: 0px 1px 2px rgba(60, 64, 67, 0.3), 0px 1px 3px 1px rgba(60, 64, 67, 0.15);\n",
              "      fill: #174EA6;\n",
              "    }\n",
              "\n",
              "    [theme=dark] .colab-df-convert {\n",
              "      background-color: #3B4455;\n",
              "      fill: #D2E3FC;\n",
              "    }\n",
              "\n",
              "    [theme=dark] .colab-df-convert:hover {\n",
              "      background-color: #434B5C;\n",
              "      box-shadow: 0px 1px 3px 1px rgba(0, 0, 0, 0.15);\n",
              "      filter: drop-shadow(0px 1px 2px rgba(0, 0, 0, 0.3));\n",
              "      fill: #FFFFFF;\n",
              "    }\n",
              "  </style>\n",
              "\n",
              "      <script>\n",
              "        const buttonEl =\n",
              "          document.querySelector('#df-cd7b1149-f52e-4107-8c8c-4b77dbc2e782 button.colab-df-convert');\n",
              "        buttonEl.style.display =\n",
              "          google.colab.kernel.accessAllowed ? 'block' : 'none';\n",
              "\n",
              "        async function convertToInteractive(key) {\n",
              "          const element = document.querySelector('#df-cd7b1149-f52e-4107-8c8c-4b77dbc2e782');\n",
              "          const dataTable =\n",
              "            await google.colab.kernel.invokeFunction('convertToInteractive',\n",
              "                                                     [key], {});\n",
              "          if (!dataTable) return;\n",
              "\n",
              "          const docLinkHtml = 'Like what you see? Visit the ' +\n",
              "            '<a target=\"_blank\" href=https://colab.research.google.com/notebooks/data_table.ipynb>data table notebook</a>'\n",
              "            + ' to learn more about interactive tables.';\n",
              "          element.innerHTML = '';\n",
              "          dataTable['output_type'] = 'display_data';\n",
              "          await google.colab.output.renderOutput(dataTable, element);\n",
              "          const docLink = document.createElement('div');\n",
              "          docLink.innerHTML = docLinkHtml;\n",
              "          element.appendChild(docLink);\n",
              "        }\n",
              "      </script>\n",
              "    </div>\n",
              "  </div>\n",
              "  "
            ]
          },
          "metadata": {},
          "execution_count": 11
        }
      ]
    },
    {
      "cell_type": "code",
      "source": [
        "# # Label Encoding \n",
        "from sklearn.preprocessing import LabelEncoder\n",
        "encoder = LabelEncoder()\n",
        "col = ['LINE', 'PRODUCT_CODE']\n",
        "\n",
        "for i in col:\n",
        "    train_df[i] = encoder.fit_transform(train_df[i])\n",
        "    test_df[i] = encoder.fit_transform(test_df[i])\n",
        "\n",
        "# # correlation\n",
        "# # print(train_x[['Y_Quality', 'line_pcode']].corr()) "
      ],
      "metadata": {
        "id": "wWsCTcAI7gsq"
      },
      "execution_count": 21,
      "outputs": []
    },
    {
      "cell_type": "code",
      "source": [],
      "metadata": {
        "id": "8eF-67lGE16e"
      },
      "execution_count": 21,
      "outputs": []
    },
    {
      "cell_type": "code",
      "source": [],
      "metadata": {
        "id": "wJDyjUcxE1-2"
      },
      "execution_count": 21,
      "outputs": []
    },
    {
      "cell_type": "markdown",
      "source": [
        "# 2.Modeling_ML"
      ],
      "metadata": {
        "id": "7GodRp6O-5TM"
      }
    },
    {
      "cell_type": "code",
      "source": [
        "X_train = train_df.drop(columns=['Y_Class','Y_Quality'])\n",
        "y_train = train_df['Y_Quality']\n",
        "\n",
        "test_x = test_df.drop(columns=['Y_Quality'])"
      ],
      "metadata": {
        "id": "mtzzkA9n_flg"
      },
      "execution_count": 120,
      "outputs": []
    },
    {
      "cell_type": "code",
      "source": [
        "test_x.isnull().sum()"
      ],
      "metadata": {
        "colab": {
          "base_uri": "https://localhost:8080/"
        },
        "outputId": "7eca25aa-bfce-4a58-f902-831580baf7cf",
        "id": "TTEMi25a_fli"
      },
      "execution_count": 121,
      "outputs": [
        {
          "output_type": "execute_result",
          "data": {
            "text/plain": [
              "LINE            0\n",
              "PRODUCT_CODE    0\n",
              "X_1             0\n",
              "X_2             0\n",
              "X_3             0\n",
              "               ..\n",
              "X_2871          0\n",
              "X_2872          0\n",
              "X_2873          0\n",
              "X_2874          0\n",
              "X_2875          0\n",
              "Length: 2877, dtype: int64"
            ]
          },
          "metadata": {},
          "execution_count": 121
        }
      ]
    },
    {
      "cell_type": "markdown",
      "source": [
        "## Y_Quality 예측"
      ],
      "metadata": {
        "id": "Aveyf4DbuLHD"
      }
    },
    {
      "cell_type": "code",
      "source": [
        "from lightgbm import LGBMRegressor\n",
        "\n",
        "RF = LGBMRegressor(random_state=37).fit(X_train, y_train) \n",
        "print('Done.') "
      ],
      "metadata": {
        "id": "U7pCY5HPsv4Q",
        "colab": {
          "base_uri": "https://localhost:8080/"
        },
        "outputId": "63a7e658-809e-4344-9c51-5daac9bdc7c0"
      },
      "execution_count": 122,
      "outputs": [
        {
          "output_type": "stream",
          "name": "stdout",
          "text": [
            "Done.\n"
          ]
        }
      ]
    },
    {
      "cell_type": "code",
      "source": [
        "preds=RF.predict(test_x)  \n",
        "print('Done.')"
      ],
      "metadata": {
        "id": "N08krIFjsv-M",
        "colab": {
          "base_uri": "https://localhost:8080/"
        },
        "outputId": "26a90dd5-909a-4cfb-c751-81801fde0469"
      },
      "execution_count": 123,
      "outputs": [
        {
          "output_type": "stream",
          "name": "stdout",
          "text": [
            "Done.\n"
          ]
        }
      ]
    },
    {
      "cell_type": "code",
      "source": [
        "test_x['Y_Quality'] = preds\n",
        "test_x  "
      ],
      "metadata": {
        "id": "ykSx7MEFswDT",
        "colab": {
          "base_uri": "https://localhost:8080/",
          "height": 488
        },
        "outputId": "8cf45d16-5fea-4082-9387-1071f1d93802"
      },
      "execution_count": 124,
      "outputs": [
        {
          "output_type": "execute_result",
          "data": {
            "text/plain": [
              "     LINE  PRODUCT_CODE  X_1   X_2  X_3   X_4   X_5  X_6   X_7   X_8  ...  \\\n",
              "0       5             2  2.0  94.0  0.0  45.0  10.0  0.0  51.0  10.0  ...   \n",
              "1       4             2  2.0  93.0  0.0  45.0  11.0  0.0  45.0  10.0  ...   \n",
              "2       4             2  2.0  95.0  0.0  45.0  11.0  0.0  45.0  10.0  ...   \n",
              "3       0             0  2.0  95.0  0.0  45.0  10.0  0.0  50.0  10.0  ...   \n",
              "4       1             0  2.0  95.0  0.0  45.0  10.0  0.0  50.0  10.0  ...   \n",
              "..    ...           ...  ...   ...  ...   ...   ...  ...   ...   ...  ...   \n",
              "305     5             2  2.0  91.0  0.0  45.0  10.0  0.0  51.0  10.0  ...   \n",
              "306     4             2  2.0  96.0  0.0  45.0  11.0  0.0  45.0  10.0  ...   \n",
              "307     5             2  2.0  91.0  0.0  45.0  10.0  0.0  50.0  10.0  ...   \n",
              "308     5             2  2.0  95.0  0.0  45.0  10.0  0.0  51.0  10.0  ...   \n",
              "309     5             2  2.0  87.0  0.0  45.0  10.0  0.0  51.0  10.0  ...   \n",
              "\n",
              "     X_2867  X_2868  X_2869  X_2870  X_2871  X_2872  X_2873  X_2874  X_2875  \\\n",
              "0    53.655  51.175  55.605   63.17     1.0   258.7   257.5   261.7   236.3   \n",
              "1    53.655  51.175  55.605   63.17     1.0   258.7   257.5   261.7   236.3   \n",
              "2    53.655  51.175  55.605   63.17     1.0   258.7   257.5   261.7   236.3   \n",
              "3    53.655  51.175  55.605   63.17     1.0   258.7   257.5   261.7   236.3   \n",
              "4    53.655  51.175  55.605   63.17     1.0   258.7   257.5   261.7   236.3   \n",
              "..      ...     ...     ...     ...     ...     ...     ...     ...     ...   \n",
              "305  53.655  51.175  55.605   63.17     1.0   258.7   257.5   261.7   236.3   \n",
              "306  53.655  51.175  55.605   63.17     1.0   258.7   257.5   261.7   236.3   \n",
              "307  53.655  51.175  55.605   63.17     1.0   258.7   257.5   261.7   236.3   \n",
              "308  53.655  51.175  55.605   63.17     1.0   258.7   257.5   261.7   236.3   \n",
              "309  53.655  51.175  55.605   63.17     1.0   258.7   257.5   261.7   236.3   \n",
              "\n",
              "     Y_Quality  \n",
              "0     0.529678  \n",
              "1     0.528602  \n",
              "2     0.528209  \n",
              "3     0.529686  \n",
              "4     0.534285  \n",
              "..         ...  \n",
              "305   0.529028  \n",
              "306   0.528367  \n",
              "307   0.528809  \n",
              "308   0.528702  \n",
              "309   0.528607  \n",
              "\n",
              "[310 rows x 2878 columns]"
            ],
            "text/html": [
              "\n",
              "  <div id=\"df-f5109c44-2e2c-4ff8-9ca9-d9345246a592\">\n",
              "    <div class=\"colab-df-container\">\n",
              "      <div>\n",
              "<style scoped>\n",
              "    .dataframe tbody tr th:only-of-type {\n",
              "        vertical-align: middle;\n",
              "    }\n",
              "\n",
              "    .dataframe tbody tr th {\n",
              "        vertical-align: top;\n",
              "    }\n",
              "\n",
              "    .dataframe thead th {\n",
              "        text-align: right;\n",
              "    }\n",
              "</style>\n",
              "<table border=\"1\" class=\"dataframe\">\n",
              "  <thead>\n",
              "    <tr style=\"text-align: right;\">\n",
              "      <th></th>\n",
              "      <th>LINE</th>\n",
              "      <th>PRODUCT_CODE</th>\n",
              "      <th>X_1</th>\n",
              "      <th>X_2</th>\n",
              "      <th>X_3</th>\n",
              "      <th>X_4</th>\n",
              "      <th>X_5</th>\n",
              "      <th>X_6</th>\n",
              "      <th>X_7</th>\n",
              "      <th>X_8</th>\n",
              "      <th>...</th>\n",
              "      <th>X_2867</th>\n",
              "      <th>X_2868</th>\n",
              "      <th>X_2869</th>\n",
              "      <th>X_2870</th>\n",
              "      <th>X_2871</th>\n",
              "      <th>X_2872</th>\n",
              "      <th>X_2873</th>\n",
              "      <th>X_2874</th>\n",
              "      <th>X_2875</th>\n",
              "      <th>Y_Quality</th>\n",
              "    </tr>\n",
              "  </thead>\n",
              "  <tbody>\n",
              "    <tr>\n",
              "      <th>0</th>\n",
              "      <td>5</td>\n",
              "      <td>2</td>\n",
              "      <td>2.0</td>\n",
              "      <td>94.0</td>\n",
              "      <td>0.0</td>\n",
              "      <td>45.0</td>\n",
              "      <td>10.0</td>\n",
              "      <td>0.0</td>\n",
              "      <td>51.0</td>\n",
              "      <td>10.0</td>\n",
              "      <td>...</td>\n",
              "      <td>53.655</td>\n",
              "      <td>51.175</td>\n",
              "      <td>55.605</td>\n",
              "      <td>63.17</td>\n",
              "      <td>1.0</td>\n",
              "      <td>258.7</td>\n",
              "      <td>257.5</td>\n",
              "      <td>261.7</td>\n",
              "      <td>236.3</td>\n",
              "      <td>0.529678</td>\n",
              "    </tr>\n",
              "    <tr>\n",
              "      <th>1</th>\n",
              "      <td>4</td>\n",
              "      <td>2</td>\n",
              "      <td>2.0</td>\n",
              "      <td>93.0</td>\n",
              "      <td>0.0</td>\n",
              "      <td>45.0</td>\n",
              "      <td>11.0</td>\n",
              "      <td>0.0</td>\n",
              "      <td>45.0</td>\n",
              "      <td>10.0</td>\n",
              "      <td>...</td>\n",
              "      <td>53.655</td>\n",
              "      <td>51.175</td>\n",
              "      <td>55.605</td>\n",
              "      <td>63.17</td>\n",
              "      <td>1.0</td>\n",
              "      <td>258.7</td>\n",
              "      <td>257.5</td>\n",
              "      <td>261.7</td>\n",
              "      <td>236.3</td>\n",
              "      <td>0.528602</td>\n",
              "    </tr>\n",
              "    <tr>\n",
              "      <th>2</th>\n",
              "      <td>4</td>\n",
              "      <td>2</td>\n",
              "      <td>2.0</td>\n",
              "      <td>95.0</td>\n",
              "      <td>0.0</td>\n",
              "      <td>45.0</td>\n",
              "      <td>11.0</td>\n",
              "      <td>0.0</td>\n",
              "      <td>45.0</td>\n",
              "      <td>10.0</td>\n",
              "      <td>...</td>\n",
              "      <td>53.655</td>\n",
              "      <td>51.175</td>\n",
              "      <td>55.605</td>\n",
              "      <td>63.17</td>\n",
              "      <td>1.0</td>\n",
              "      <td>258.7</td>\n",
              "      <td>257.5</td>\n",
              "      <td>261.7</td>\n",
              "      <td>236.3</td>\n",
              "      <td>0.528209</td>\n",
              "    </tr>\n",
              "    <tr>\n",
              "      <th>3</th>\n",
              "      <td>0</td>\n",
              "      <td>0</td>\n",
              "      <td>2.0</td>\n",
              "      <td>95.0</td>\n",
              "      <td>0.0</td>\n",
              "      <td>45.0</td>\n",
              "      <td>10.0</td>\n",
              "      <td>0.0</td>\n",
              "      <td>50.0</td>\n",
              "      <td>10.0</td>\n",
              "      <td>...</td>\n",
              "      <td>53.655</td>\n",
              "      <td>51.175</td>\n",
              "      <td>55.605</td>\n",
              "      <td>63.17</td>\n",
              "      <td>1.0</td>\n",
              "      <td>258.7</td>\n",
              "      <td>257.5</td>\n",
              "      <td>261.7</td>\n",
              "      <td>236.3</td>\n",
              "      <td>0.529686</td>\n",
              "    </tr>\n",
              "    <tr>\n",
              "      <th>4</th>\n",
              "      <td>1</td>\n",
              "      <td>0</td>\n",
              "      <td>2.0</td>\n",
              "      <td>95.0</td>\n",
              "      <td>0.0</td>\n",
              "      <td>45.0</td>\n",
              "      <td>10.0</td>\n",
              "      <td>0.0</td>\n",
              "      <td>50.0</td>\n",
              "      <td>10.0</td>\n",
              "      <td>...</td>\n",
              "      <td>53.655</td>\n",
              "      <td>51.175</td>\n",
              "      <td>55.605</td>\n",
              "      <td>63.17</td>\n",
              "      <td>1.0</td>\n",
              "      <td>258.7</td>\n",
              "      <td>257.5</td>\n",
              "      <td>261.7</td>\n",
              "      <td>236.3</td>\n",
              "      <td>0.534285</td>\n",
              "    </tr>\n",
              "    <tr>\n",
              "      <th>...</th>\n",
              "      <td>...</td>\n",
              "      <td>...</td>\n",
              "      <td>...</td>\n",
              "      <td>...</td>\n",
              "      <td>...</td>\n",
              "      <td>...</td>\n",
              "      <td>...</td>\n",
              "      <td>...</td>\n",
              "      <td>...</td>\n",
              "      <td>...</td>\n",
              "      <td>...</td>\n",
              "      <td>...</td>\n",
              "      <td>...</td>\n",
              "      <td>...</td>\n",
              "      <td>...</td>\n",
              "      <td>...</td>\n",
              "      <td>...</td>\n",
              "      <td>...</td>\n",
              "      <td>...</td>\n",
              "      <td>...</td>\n",
              "      <td>...</td>\n",
              "    </tr>\n",
              "    <tr>\n",
              "      <th>305</th>\n",
              "      <td>5</td>\n",
              "      <td>2</td>\n",
              "      <td>2.0</td>\n",
              "      <td>91.0</td>\n",
              "      <td>0.0</td>\n",
              "      <td>45.0</td>\n",
              "      <td>10.0</td>\n",
              "      <td>0.0</td>\n",
              "      <td>51.0</td>\n",
              "      <td>10.0</td>\n",
              "      <td>...</td>\n",
              "      <td>53.655</td>\n",
              "      <td>51.175</td>\n",
              "      <td>55.605</td>\n",
              "      <td>63.17</td>\n",
              "      <td>1.0</td>\n",
              "      <td>258.7</td>\n",
              "      <td>257.5</td>\n",
              "      <td>261.7</td>\n",
              "      <td>236.3</td>\n",
              "      <td>0.529028</td>\n",
              "    </tr>\n",
              "    <tr>\n",
              "      <th>306</th>\n",
              "      <td>4</td>\n",
              "      <td>2</td>\n",
              "      <td>2.0</td>\n",
              "      <td>96.0</td>\n",
              "      <td>0.0</td>\n",
              "      <td>45.0</td>\n",
              "      <td>11.0</td>\n",
              "      <td>0.0</td>\n",
              "      <td>45.0</td>\n",
              "      <td>10.0</td>\n",
              "      <td>...</td>\n",
              "      <td>53.655</td>\n",
              "      <td>51.175</td>\n",
              "      <td>55.605</td>\n",
              "      <td>63.17</td>\n",
              "      <td>1.0</td>\n",
              "      <td>258.7</td>\n",
              "      <td>257.5</td>\n",
              "      <td>261.7</td>\n",
              "      <td>236.3</td>\n",
              "      <td>0.528367</td>\n",
              "    </tr>\n",
              "    <tr>\n",
              "      <th>307</th>\n",
              "      <td>5</td>\n",
              "      <td>2</td>\n",
              "      <td>2.0</td>\n",
              "      <td>91.0</td>\n",
              "      <td>0.0</td>\n",
              "      <td>45.0</td>\n",
              "      <td>10.0</td>\n",
              "      <td>0.0</td>\n",
              "      <td>50.0</td>\n",
              "      <td>10.0</td>\n",
              "      <td>...</td>\n",
              "      <td>53.655</td>\n",
              "      <td>51.175</td>\n",
              "      <td>55.605</td>\n",
              "      <td>63.17</td>\n",
              "      <td>1.0</td>\n",
              "      <td>258.7</td>\n",
              "      <td>257.5</td>\n",
              "      <td>261.7</td>\n",
              "      <td>236.3</td>\n",
              "      <td>0.528809</td>\n",
              "    </tr>\n",
              "    <tr>\n",
              "      <th>308</th>\n",
              "      <td>5</td>\n",
              "      <td>2</td>\n",
              "      <td>2.0</td>\n",
              "      <td>95.0</td>\n",
              "      <td>0.0</td>\n",
              "      <td>45.0</td>\n",
              "      <td>10.0</td>\n",
              "      <td>0.0</td>\n",
              "      <td>51.0</td>\n",
              "      <td>10.0</td>\n",
              "      <td>...</td>\n",
              "      <td>53.655</td>\n",
              "      <td>51.175</td>\n",
              "      <td>55.605</td>\n",
              "      <td>63.17</td>\n",
              "      <td>1.0</td>\n",
              "      <td>258.7</td>\n",
              "      <td>257.5</td>\n",
              "      <td>261.7</td>\n",
              "      <td>236.3</td>\n",
              "      <td>0.528702</td>\n",
              "    </tr>\n",
              "    <tr>\n",
              "      <th>309</th>\n",
              "      <td>5</td>\n",
              "      <td>2</td>\n",
              "      <td>2.0</td>\n",
              "      <td>87.0</td>\n",
              "      <td>0.0</td>\n",
              "      <td>45.0</td>\n",
              "      <td>10.0</td>\n",
              "      <td>0.0</td>\n",
              "      <td>51.0</td>\n",
              "      <td>10.0</td>\n",
              "      <td>...</td>\n",
              "      <td>53.655</td>\n",
              "      <td>51.175</td>\n",
              "      <td>55.605</td>\n",
              "      <td>63.17</td>\n",
              "      <td>1.0</td>\n",
              "      <td>258.7</td>\n",
              "      <td>257.5</td>\n",
              "      <td>261.7</td>\n",
              "      <td>236.3</td>\n",
              "      <td>0.528607</td>\n",
              "    </tr>\n",
              "  </tbody>\n",
              "</table>\n",
              "<p>310 rows × 2878 columns</p>\n",
              "</div>\n",
              "      <button class=\"colab-df-convert\" onclick=\"convertToInteractive('df-f5109c44-2e2c-4ff8-9ca9-d9345246a592')\"\n",
              "              title=\"Convert this dataframe to an interactive table.\"\n",
              "              style=\"display:none;\">\n",
              "        \n",
              "  <svg xmlns=\"http://www.w3.org/2000/svg\" height=\"24px\"viewBox=\"0 0 24 24\"\n",
              "       width=\"24px\">\n",
              "    <path d=\"M0 0h24v24H0V0z\" fill=\"none\"/>\n",
              "    <path d=\"M18.56 5.44l.94 2.06.94-2.06 2.06-.94-2.06-.94-.94-2.06-.94 2.06-2.06.94zm-11 1L8.5 8.5l.94-2.06 2.06-.94-2.06-.94L8.5 2.5l-.94 2.06-2.06.94zm10 10l.94 2.06.94-2.06 2.06-.94-2.06-.94-.94-2.06-.94 2.06-2.06.94z\"/><path d=\"M17.41 7.96l-1.37-1.37c-.4-.4-.92-.59-1.43-.59-.52 0-1.04.2-1.43.59L10.3 9.45l-7.72 7.72c-.78.78-.78 2.05 0 2.83L4 21.41c.39.39.9.59 1.41.59.51 0 1.02-.2 1.41-.59l7.78-7.78 2.81-2.81c.8-.78.8-2.07 0-2.86zM5.41 20L4 18.59l7.72-7.72 1.47 1.35L5.41 20z\"/>\n",
              "  </svg>\n",
              "      </button>\n",
              "      \n",
              "  <style>\n",
              "    .colab-df-container {\n",
              "      display:flex;\n",
              "      flex-wrap:wrap;\n",
              "      gap: 12px;\n",
              "    }\n",
              "\n",
              "    .colab-df-convert {\n",
              "      background-color: #E8F0FE;\n",
              "      border: none;\n",
              "      border-radius: 50%;\n",
              "      cursor: pointer;\n",
              "      display: none;\n",
              "      fill: #1967D2;\n",
              "      height: 32px;\n",
              "      padding: 0 0 0 0;\n",
              "      width: 32px;\n",
              "    }\n",
              "\n",
              "    .colab-df-convert:hover {\n",
              "      background-color: #E2EBFA;\n",
              "      box-shadow: 0px 1px 2px rgba(60, 64, 67, 0.3), 0px 1px 3px 1px rgba(60, 64, 67, 0.15);\n",
              "      fill: #174EA6;\n",
              "    }\n",
              "\n",
              "    [theme=dark] .colab-df-convert {\n",
              "      background-color: #3B4455;\n",
              "      fill: #D2E3FC;\n",
              "    }\n",
              "\n",
              "    [theme=dark] .colab-df-convert:hover {\n",
              "      background-color: #434B5C;\n",
              "      box-shadow: 0px 1px 3px 1px rgba(0, 0, 0, 0.15);\n",
              "      filter: drop-shadow(0px 1px 2px rgba(0, 0, 0, 0.3));\n",
              "      fill: #FFFFFF;\n",
              "    }\n",
              "  </style>\n",
              "\n",
              "      <script>\n",
              "        const buttonEl =\n",
              "          document.querySelector('#df-f5109c44-2e2c-4ff8-9ca9-d9345246a592 button.colab-df-convert');\n",
              "        buttonEl.style.display =\n",
              "          google.colab.kernel.accessAllowed ? 'block' : 'none';\n",
              "\n",
              "        async function convertToInteractive(key) {\n",
              "          const element = document.querySelector('#df-f5109c44-2e2c-4ff8-9ca9-d9345246a592');\n",
              "          const dataTable =\n",
              "            await google.colab.kernel.invokeFunction('convertToInteractive',\n",
              "                                                     [key], {});\n",
              "          if (!dataTable) return;\n",
              "\n",
              "          const docLinkHtml = 'Like what you see? Visit the ' +\n",
              "            '<a target=\"_blank\" href=https://colab.research.google.com/notebooks/data_table.ipynb>data table notebook</a>'\n",
              "            + ' to learn more about interactive tables.';\n",
              "          element.innerHTML = '';\n",
              "          dataTable['output_type'] = 'display_data';\n",
              "          await google.colab.output.renderOutput(dataTable, element);\n",
              "          const docLink = document.createElement('div');\n",
              "          docLink.innerHTML = docLinkHtml;\n",
              "          element.appendChild(docLink);\n",
              "        }\n",
              "      </script>\n",
              "    </div>\n",
              "  </div>\n",
              "  "
            ]
          },
          "metadata": {},
          "execution_count": 124
        }
      ]
    },
    {
      "cell_type": "code",
      "source": [
        "sns.countplot(x=preds);"
      ],
      "metadata": {
        "colab": {
          "base_uri": "https://localhost:8080/",
          "height": 265
        },
        "id": "bP9e3szwGvDU",
        "outputId": "9b1e8dcf-cbcf-447d-865c-ff6095316c82"
      },
      "execution_count": 125,
      "outputs": [
        {
          "output_type": "display_data",
          "data": {
            "text/plain": [
              "<Figure size 432x288 with 1 Axes>"
            ],
            "image/png": "[encoded data removed]"
          },
          "metadata": {
            "needs_background": "light"
          }
        }
      ]
    },
    {
      "cell_type": "markdown",
      "source": [
        "## 다시 Y_Class 예측"
      ],
      "metadata": {
        "id": "UgNEMkg7uGNe"
      }
    },
    {
      "cell_type": "code",
      "source": [
        "# X_train = train_df\n",
        "X_train = train_df.drop(columns=['Y_Class'])\n",
        "y_train = train_df['Y_Class']"
      ],
      "metadata": {
        "id": "XyiKQJUeuHOu"
      },
      "execution_count": 150,
      "outputs": []
    },
    {
      "cell_type": "code",
      "source": [
        "X_train = pd.DataFrame(train_df['Y_Quality'])\n",
        "y_train = train_df['Y_Class']   "
      ],
      "metadata": {
        "id": "FajYD-pCuHT-"
      },
      "execution_count": 151,
      "outputs": []
    },
    {
      "cell_type": "code",
      "source": [
        "X_train.isnull().sum()"
      ],
      "metadata": {
        "colab": {
          "base_uri": "https://localhost:8080/"
        },
        "id": "WV4E6K-JyShA",
        "outputId": "2ecee2df-3de2-426b-9d9b-e68f4aeb853b"
      },
      "execution_count": 152,
      "outputs": [
        {
          "output_type": "execute_result",
          "data": {
            "text/plain": [
              "Y_Quality    0\n",
              "dtype: int64"
            ]
          },
          "metadata": {},
          "execution_count": 152
        }
      ]
    },
    {
      "cell_type": "code",
      "source": [
        "X_train"
      ],
      "metadata": {
        "colab": {
          "base_uri": "https://localhost:8080/",
          "height": 424
        },
        "id": "96Be5f46uHZf",
        "outputId": "58ba59ff-e79e-4762-b93c-6ea935c4b9fa"
      },
      "execution_count": 153,
      "outputs": [
        {
          "output_type": "execute_result",
          "data": {
            "text/plain": [
              "     Y_Quality\n",
              "0     0.533433\n",
              "1     0.541819\n",
              "2     0.531267\n",
              "3     0.537325\n",
              "4     0.531590\n",
              "..         ...\n",
              "593   0.526546\n",
              "594   0.524022\n",
              "595   0.521289\n",
              "596   0.531375\n",
              "597   0.533702\n",
              "\n",
              "[598 rows x 1 columns]"
            ],
            "text/html": [
              "\n",
              "  <div id=\"df-40599f83-c878-4cab-8975-6f7342101e53\">\n",
              "    <div class=\"colab-df-container\">\n",
              "      <div>\n",
              "<style scoped>\n",
              "    .dataframe tbody tr th:only-of-type {\n",
              "        vertical-align: middle;\n",
              "    }\n",
              "\n",
              "    .dataframe tbody tr th {\n",
              "        vertical-align: top;\n",
              "    }\n",
              "\n",
              "    .dataframe thead th {\n",
              "        text-align: right;\n",
              "    }\n",
              "</style>\n",
              "<table border=\"1\" class=\"dataframe\">\n",
              "  <thead>\n",
              "    <tr style=\"text-align: right;\">\n",
              "      <th></th>\n",
              "      <th>Y_Quality</th>\n",
              "    </tr>\n",
              "  </thead>\n",
              "  <tbody>\n",
              "    <tr>\n",
              "      <th>0</th>\n",
              "      <td>0.533433</td>\n",
              "    </tr>\n",
              "    <tr>\n",
              "      <th>1</th>\n",
              "      <td>0.541819</td>\n",
              "    </tr>\n",
              "    <tr>\n",
              "      <th>2</th>\n",
              "      <td>0.531267</td>\n",
              "    </tr>\n",
              "    <tr>\n",
              "      <th>3</th>\n",
              "      <td>0.537325</td>\n",
              "    </tr>\n",
              "    <tr>\n",
              "      <th>4</th>\n",
              "      <td>0.531590</td>\n",
              "    </tr>\n",
              "    <tr>\n",
              "      <th>...</th>\n",
              "      <td>...</td>\n",
              "    </tr>\n",
              "    <tr>\n",
              "      <th>593</th>\n",
              "      <td>0.526546</td>\n",
              "    </tr>\n",
              "    <tr>\n",
              "      <th>594</th>\n",
              "      <td>0.524022</td>\n",
              "    </tr>\n",
              "    <tr>\n",
              "      <th>595</th>\n",
              "      <td>0.521289</td>\n",
              "    </tr>\n",
              "    <tr>\n",
              "      <th>596</th>\n",
              "      <td>0.531375</td>\n",
              "    </tr>\n",
              "    <tr>\n",
              "      <th>597</th>\n",
              "      <td>0.533702</td>\n",
              "    </tr>\n",
              "  </tbody>\n",
              "</table>\n",
              "<p>598 rows × 1 columns</p>\n",
              "</div>\n",
              "      <button class=\"colab-df-convert\" onclick=\"convertToInteractive('df-40599f83-c878-4cab-8975-6f7342101e53')\"\n",
              "              title=\"Convert this dataframe to an interactive table.\"\n",
              "              style=\"display:none;\">\n",
              "        \n",
              "  <svg xmlns=\"http://www.w3.org/2000/svg\" height=\"24px\"viewBox=\"0 0 24 24\"\n",
              "       width=\"24px\">\n",
              "    <path d=\"M0 0h24v24H0V0z\" fill=\"none\"/>\n",
              "    <path d=\"M18.56 5.44l.94 2.06.94-2.06 2.06-.94-2.06-.94-.94-2.06-.94 2.06-2.06.94zm-11 1L8.5 8.5l.94-2.06 2.06-.94-2.06-.94L8.5 2.5l-.94 2.06-2.06.94zm10 10l.94 2.06.94-2.06 2.06-.94-2.06-.94-.94-2.06-.94 2.06-2.06.94z\"/><path d=\"M17.41 7.96l-1.37-1.37c-.4-.4-.92-.59-1.43-.59-.52 0-1.04.2-1.43.59L10.3 9.45l-7.72 7.72c-.78.78-.78 2.05 0 2.83L4 21.41c.39.39.9.59 1.41.59.51 0 1.02-.2 1.41-.59l7.78-7.78 2.81-2.81c.8-.78.8-2.07 0-2.86zM5.41 20L4 18.59l7.72-7.72 1.47 1.35L5.41 20z\"/>\n",
              "  </svg>\n",
              "      </button>\n",
              "      \n",
              "  <style>\n",
              "    .colab-df-container {\n",
              "      display:flex;\n",
              "      flex-wrap:wrap;\n",
              "      gap: 12px;\n",
              "    }\n",
              "\n",
              "    .colab-df-convert {\n",
              "      background-color: #E8F0FE;\n",
              "      border: none;\n",
              "      border-radius: 50%;\n",
              "      cursor: pointer;\n",
              "      display: none;\n",
              "      fill: #1967D2;\n",
              "      height: 32px;\n",
              "      padding: 0 0 0 0;\n",
              "      width: 32px;\n",
              "    }\n",
              "\n",
              "    .colab-df-convert:hover {\n",
              "      background-color: #E2EBFA;\n",
              "      box-shadow: 0px 1px 2px rgba(60, 64, 67, 0.3), 0px 1px 3px 1px rgba(60, 64, 67, 0.15);\n",
              "      fill: #174EA6;\n",
              "    }\n",
              "\n",
              "    [theme=dark] .colab-df-convert {\n",
              "      background-color: #3B4455;\n",
              "      fill: #D2E3FC;\n",
              "    }\n",
              "\n",
              "    [theme=dark] .colab-df-convert:hover {\n",
              "      background-color: #434B5C;\n",
              "      box-shadow: 0px 1px 3px 1px rgba(0, 0, 0, 0.15);\n",
              "      filter: drop-shadow(0px 1px 2px rgba(0, 0, 0, 0.3));\n",
              "      fill: #FFFFFF;\n",
              "    }\n",
              "  </style>\n",
              "\n",
              "      <script>\n",
              "        const buttonEl =\n",
              "          document.querySelector('#df-40599f83-c878-4cab-8975-6f7342101e53 button.colab-df-convert');\n",
              "        buttonEl.style.display =\n",
              "          google.colab.kernel.accessAllowed ? 'block' : 'none';\n",
              "\n",
              "        async function convertToInteractive(key) {\n",
              "          const element = document.querySelector('#df-40599f83-c878-4cab-8975-6f7342101e53');\n",
              "          const dataTable =\n",
              "            await google.colab.kernel.invokeFunction('convertToInteractive',\n",
              "                                                     [key], {});\n",
              "          if (!dataTable) return;\n",
              "\n",
              "          const docLinkHtml = 'Like what you see? Visit the ' +\n",
              "            '<a target=\"_blank\" href=https://colab.research.google.com/notebooks/data_table.ipynb>data table notebook</a>'\n",
              "            + ' to learn more about interactive tables.';\n",
              "          element.innerHTML = '';\n",
              "          dataTable['output_type'] = 'display_data';\n",
              "          await google.colab.output.renderOutput(dataTable, element);\n",
              "          const docLink = document.createElement('div');\n",
              "          docLink.innerHTML = docLinkHtml;\n",
              "          element.appendChild(docLink);\n",
              "        }\n",
              "      </script>\n",
              "    </div>\n",
              "  </div>\n",
              "  "
            ]
          },
          "metadata": {},
          "execution_count": 153
        }
      ]
    },
    {
      "cell_type": "code",
      "source": [
        "from lightgbm import LGBMClassifier\n",
        "\n",
        "RF =  LGBMClassifier(random_state=37).fit(X_train, y_train)\n",
        "print('Done.')"
      ],
      "metadata": {
        "colab": {
          "base_uri": "https://localhost:8080/"
        },
        "id": "ov8uVwu2uHfF",
        "outputId": "a2f7c6cf-67e8-41e0-c58c-25c6d86a5ff9"
      },
      "execution_count": 154,
      "outputs": [
        {
          "output_type": "stream",
          "name": "stdout",
          "text": [
            "Done.\n"
          ]
        }
      ]
    },
    {
      "cell_type": "code",
      "source": [
        "# test_x\n",
        "# test_x = test_x['Y_Quality']\n",
        "# test_x = test_x.drop(columns=['LINE//','PRODUCT_CODE'])\n",
        "# test_x = test_x['Y_Quality']  \n",
        "test_x"
      ],
      "metadata": {
        "colab": {
          "base_uri": "https://localhost:8080/"
        },
        "id": "b4_T3w6sv3SA",
        "outputId": "3b028367-90d6-4777-b512-4280e492deba"
      },
      "execution_count": 156,
      "outputs": [
        {
          "output_type": "execute_result",
          "data": {
            "text/plain": [
              "0      0.529678\n",
              "1      0.528602\n",
              "2      0.528209\n",
              "3      0.529686\n",
              "4      0.534285\n",
              "         ...   \n",
              "305    0.529028\n",
              "306    0.528367\n",
              "307    0.528809\n",
              "308    0.528702\n",
              "309    0.528607\n",
              "Name: Y_Quality, Length: 310, dtype: float64"
            ]
          },
          "metadata": {},
          "execution_count": 156
        }
      ]
    },
    {
      "cell_type": "code",
      "source": [
        "test_x = pd.DataFrame(test_x)\n",
        "\n",
        "preds = RF.predict(test_x)  \n",
        "print('Done.')   "
      ],
      "metadata": {
        "colab": {
          "base_uri": "https://localhost:8080/"
        },
        "id": "mncvR7m1wE-3",
        "outputId": "10c126ce-fc8c-4053-f175-123cd90654cc"
      },
      "execution_count": 157,
      "outputs": [
        {
          "output_type": "stream",
          "name": "stdout",
          "text": [
            "Done.\n"
          ]
        }
      ]
    },
    {
      "cell_type": "code",
      "source": [
        "preds"
      ],
      "metadata": {
        "colab": {
          "base_uri": "https://localhost:8080/"
        },
        "id": "GVailz2p8_VT",
        "outputId": "9b746a12-ba22-4eed-e8e7-f92d38761972"
      },
      "execution_count": 158,
      "outputs": [
        {
          "output_type": "execute_result",
          "data": {
            "text/plain": [
              "array([1, 1, 1, 1, 1, 1, 2, 0, 0, 2, 2, 2, 2, 1, 0, 1, 1, 1, 1, 1, 1, 1,\n",
              "       1, 1, 1, 1, 1, 1, 1, 1, 1, 1, 1, 1, 1, 0, 1, 1, 2, 1, 2, 1, 0, 1,\n",
              "       1, 1, 1, 0, 1, 1, 1, 0, 0, 0, 0, 1, 1, 1, 1, 1, 1, 0, 1, 1, 0, 0,\n",
              "       0, 1, 1, 1, 1, 1, 2, 1, 1, 1, 1, 1, 1, 1, 1, 1, 1, 1, 1, 1, 1, 2,\n",
              "       1, 1, 1, 1, 1, 1, 1, 1, 1, 1, 1, 1, 1, 1, 1, 1, 1, 1, 1, 1, 1, 1,\n",
              "       1, 1, 1, 1, 2, 2, 1, 1, 1, 1, 1, 1, 1, 1, 1, 1, 1, 1, 2, 2, 1, 1,\n",
              "       1, 1, 1, 1, 1, 1, 1, 1, 1, 1, 1, 1, 1, 1, 1, 1, 1, 1, 1, 1, 1, 1,\n",
              "       1, 1, 1, 1, 1, 1, 1, 1, 1, 1, 1, 1, 1, 1, 1, 1, 1, 1, 1, 1, 1, 1,\n",
              "       1, 1, 1, 1, 1, 1, 1, 1, 1, 1, 1, 1, 1, 1, 1, 1, 1, 1, 1, 1, 1, 1,\n",
              "       1, 1, 1, 1, 1, 1, 1, 1, 1, 1, 1, 1, 1, 1, 1, 1, 1, 1, 1, 1, 1, 1,\n",
              "       1, 1, 1, 1, 1, 1, 1, 1, 1, 1, 1, 1, 1, 1, 1, 1, 1, 1, 1, 1, 1, 1,\n",
              "       1, 1, 1, 1, 1, 1, 1, 1, 1, 1, 1, 1, 1, 1, 1, 1, 1, 1, 2, 1, 1, 1,\n",
              "       1, 1, 1, 1, 1, 1, 1, 1, 1, 1, 1, 1, 1, 1, 1, 1, 1, 2, 1, 2, 1, 1,\n",
              "       1, 1, 1, 1, 1, 1, 1, 1, 1, 1, 1, 1, 1, 1, 1, 1, 1, 1, 1, 1, 1, 1,\n",
              "       1, 1])"
            ]
          },
          "metadata": {},
          "execution_count": 158
        }
      ]
    },
    {
      "cell_type": "code",
      "source": [
        "sns.countplot(x=preds);"
      ],
      "metadata": {
        "colab": {
          "base_uri": "https://localhost:8080/",
          "height": 265
        },
        "id": "5ajeXCsP9Awa",
        "outputId": "35532af4-1f13-4ec6-e96d-c0959dd21ef3"
      },
      "execution_count": 159,
      "outputs": [
        {
          "output_type": "display_data",
          "data": {
            "text/plain": [
              "<Figure size 432x288 with 1 Axes>"
            ],
            "image/png": "[encoded data removed]"
          },
          "metadata": {
            "needs_background": "light"
          }
        }
      ]
    },
    {
      "cell_type": "code",
      "source": [
        "submit = pd.read_csv('/content/drive/MyDrive/sample_submission.csv')  \n",
        "\n",
        "submit['Y_Class'] = preds \n",
        "submit.to_csv('smartFactory_submission.csv', index=False)  "
      ],
      "metadata": {
        "id": "zAzbAiHOj1CW"
      },
      "execution_count": 144,
      "outputs": []
    },
    {
      "cell_type": "markdown",
      "source": [
        "## 2.2 LGBM"
      ],
      "metadata": {
        "id": "tDwqd38J9J_o"
      }
    },
    {
      "cell_type": "code",
      "source": [
        "# X_train = train_df\n",
        "X_train = train_df.drop(columns=['Y_Class', 'Y_Quality'])\n",
        "y_train = train_df[ 'Y_Quality']\n",
        "\n",
        "X_train\n",
        "\n",
        "X_train, X_test, y_train, y_test = train_test_split(X_train, y_train, \n",
        "                                                    test_size=0.2,\n",
        "                                                    random_state=2023)\n"
      ],
      "metadata": {
        "id": "KFN1bugBdlhh"
      },
      "execution_count": 97,
      "outputs": []
    },
    {
      "cell_type": "code",
      "source": [
        "LGBM_predict"
      ],
      "metadata": {
        "colab": {
          "base_uri": "https://localhost:8080/",
          "height": 287
        },
        "id": "TRZaKL7Vh_1P",
        "outputId": "b8117800-739c-4974-9e62-c88d7b1b104b"
      },
      "execution_count": 100,
      "outputs": [
        {
          "output_type": "error",
          "ename": "AttributeError",
          "evalue": "ignored",
          "traceback": [
            "\u001b[0;31m---------------------------------------------------------------------------\u001b[0m",
            "\u001b[0;31mAttributeError\u001b[0m                            Traceback (most recent call last)",
            "\u001b[0;32m<ipython-input-100-1d6d89cbe800>\u001b[0m in \u001b[0;36m<module>\u001b[0;34m\u001b[0m\n\u001b[0;32m----> 1\u001b[0;31m \u001b[0mLGBM_predict\u001b[0m\u001b[0;34m.\u001b[0m\u001b[0munique\u001b[0m\u001b[0;34m(\u001b[0m\u001b[0;34m)\u001b[0m\u001b[0;34m\u001b[0m\u001b[0;34m\u001b[0m\u001b[0m\n\u001b[0m",
            "\u001b[0;32m/usr/local/lib/python3.8/dist-packages/tensorflow/python/framework/ops.py\u001b[0m in \u001b[0;36m__getattr__\u001b[0;34m(self, name)\u001b[0m\n\u001b[1;32m    442\u001b[0m         \u001b[0mnp_config\u001b[0m\u001b[0;34m.\u001b[0m\u001b[0menable_numpy_behavior\u001b[0m\u001b[0;34m(\u001b[0m\u001b[0;34m)\u001b[0m\u001b[0;34m\u001b[0m\u001b[0;34m\u001b[0m\u001b[0m\n\u001b[1;32m    443\u001b[0m       \"\"\")\n\u001b[0;32m--> 444\u001b[0;31m     \u001b[0mself\u001b[0m\u001b[0;34m.\u001b[0m\u001b[0m__getattribute__\u001b[0m\u001b[0;34m(\u001b[0m\u001b[0mname\u001b[0m\u001b[0;34m)\u001b[0m\u001b[0;34m\u001b[0m\u001b[0;34m\u001b[0m\u001b[0m\n\u001b[0m\u001b[1;32m    445\u001b[0m \u001b[0;34m\u001b[0m\u001b[0m\n\u001b[1;32m    446\u001b[0m   \u001b[0;34m@\u001b[0m\u001b[0mstaticmethod\u001b[0m\u001b[0;34m\u001b[0m\u001b[0;34m\u001b[0m\u001b[0m\n",
            "\u001b[0;31mAttributeError\u001b[0m: 'tensorflow.python.framework.ops.EagerTensor' object has no attribute 'unique'"
          ]
        }
      ]
    },
    {
      "cell_type": "code",
      "source": [
        "# hyperparameter - sensitive to setting\n",
        "## ==> setting is recommended.\n",
        "from lightgbm import LGBMRegressor\n",
        "\n",
        "LGBM_model = LGBMRegressor()\n",
        "LGBM_model.fit(X_train, y_train) \n",
        "\n",
        "LGBM_predict = tf.cast(LGBM_model.predict(X_test) > 0.5, \n",
        "                       dtype = tf.float32)\n",
        "\n",
        "print('Accuracy = ', accuracy_score(LGBM_predict, y_test))\n",
        "print('Test Report = \\n', classification_report(LGBM_predict, y_test))"
      ],
      "metadata": {
        "colab": {
          "base_uri": "https://localhost:8080/",
          "height": 363
        },
        "id": "zkR1yc5gb9DT",
        "outputId": "4feedfc3-f6ca-4ac8-f655-cc9d64664d26"
      },
      "execution_count": 98,
      "outputs": [
        {
          "output_type": "error",
          "ename": "ValueError",
          "evalue": "ignored",
          "traceback": [
            "\u001b[0;31m---------------------------------------------------------------------------\u001b[0m",
            "\u001b[0;31mValueError\u001b[0m                                Traceback (most recent call last)",
            "\u001b[0;32m<ipython-input-98-1709eabcc725>\u001b[0m in \u001b[0;36m<module>\u001b[0;34m\u001b[0m\n\u001b[1;32m      9\u001b[0m                        dtype = tf.float32)\n\u001b[1;32m     10\u001b[0m \u001b[0;34m\u001b[0m\u001b[0m\n\u001b[0;32m---> 11\u001b[0;31m \u001b[0mprint\u001b[0m\u001b[0;34m(\u001b[0m\u001b[0;34m'Accuracy = '\u001b[0m\u001b[0;34m,\u001b[0m \u001b[0maccuracy_score\u001b[0m\u001b[0;34m(\u001b[0m\u001b[0mLGBM_predict\u001b[0m\u001b[0;34m,\u001b[0m \u001b[0my_test\u001b[0m\u001b[0;34m)\u001b[0m\u001b[0;34m)\u001b[0m\u001b[0;34m\u001b[0m\u001b[0;34m\u001b[0m\u001b[0m\n\u001b[0m\u001b[1;32m     12\u001b[0m \u001b[0mprint\u001b[0m\u001b[0;34m(\u001b[0m\u001b[0;34m'Test Report = \\n'\u001b[0m\u001b[0;34m,\u001b[0m \u001b[0mclassification_report\u001b[0m\u001b[0;34m(\u001b[0m\u001b[0mLGBM_predict\u001b[0m\u001b[0;34m,\u001b[0m \u001b[0my_test\u001b[0m\u001b[0;34m)\u001b[0m\u001b[0;34m)\u001b[0m\u001b[0;34m\u001b[0m\u001b[0;34m\u001b[0m\u001b[0m\n",
            "\u001b[0;32m/usr/local/lib/python3.8/dist-packages/sklearn/metrics/_classification.py\u001b[0m in \u001b[0;36maccuracy_score\u001b[0;34m(y_true, y_pred, normalize, sample_weight)\u001b[0m\n\u001b[1;32m    209\u001b[0m \u001b[0;34m\u001b[0m\u001b[0m\n\u001b[1;32m    210\u001b[0m     \u001b[0;31m# Compute accuracy for each possible representation\u001b[0m\u001b[0;34m\u001b[0m\u001b[0;34m\u001b[0m\u001b[0;34m\u001b[0m\u001b[0m\n\u001b[0;32m--> 211\u001b[0;31m     \u001b[0my_type\u001b[0m\u001b[0;34m,\u001b[0m \u001b[0my_true\u001b[0m\u001b[0;34m,\u001b[0m \u001b[0my_pred\u001b[0m \u001b[0;34m=\u001b[0m \u001b[0m_check_targets\u001b[0m\u001b[0;34m(\u001b[0m\u001b[0my_true\u001b[0m\u001b[0;34m,\u001b[0m \u001b[0my_pred\u001b[0m\u001b[0;34m)\u001b[0m\u001b[0;34m\u001b[0m\u001b[0;34m\u001b[0m\u001b[0m\n\u001b[0m\u001b[1;32m    212\u001b[0m     \u001b[0mcheck_consistent_length\u001b[0m\u001b[0;34m(\u001b[0m\u001b[0my_true\u001b[0m\u001b[0;34m,\u001b[0m \u001b[0my_pred\u001b[0m\u001b[0;34m,\u001b[0m \u001b[0msample_weight\u001b[0m\u001b[0;34m)\u001b[0m\u001b[0;34m\u001b[0m\u001b[0;34m\u001b[0m\u001b[0m\n\u001b[1;32m    213\u001b[0m     \u001b[0;32mif\u001b[0m \u001b[0my_type\u001b[0m\u001b[0;34m.\u001b[0m\u001b[0mstartswith\u001b[0m\u001b[0;34m(\u001b[0m\u001b[0;34m\"multilabel\"\u001b[0m\u001b[0;34m)\u001b[0m\u001b[0;34m:\u001b[0m\u001b[0;34m\u001b[0m\u001b[0;34m\u001b[0m\u001b[0m\n",
            "\u001b[0;32m/usr/local/lib/python3.8/dist-packages/sklearn/metrics/_classification.py\u001b[0m in \u001b[0;36m_check_targets\u001b[0;34m(y_true, y_pred)\u001b[0m\n\u001b[1;32m     91\u001b[0m \u001b[0;34m\u001b[0m\u001b[0m\n\u001b[1;32m     92\u001b[0m     \u001b[0;32mif\u001b[0m \u001b[0mlen\u001b[0m\u001b[0;34m(\u001b[0m\u001b[0my_type\u001b[0m\u001b[0;34m)\u001b[0m \u001b[0;34m>\u001b[0m \u001b[0;36m1\u001b[0m\u001b[0;34m:\u001b[0m\u001b[0;34m\u001b[0m\u001b[0;34m\u001b[0m\u001b[0m\n\u001b[0;32m---> 93\u001b[0;31m         raise ValueError(\n\u001b[0m\u001b[1;32m     94\u001b[0m             \"Classification metrics can't handle a mix of {0} and {1} targets\".format(\n\u001b[1;32m     95\u001b[0m                 \u001b[0mtype_true\u001b[0m\u001b[0;34m,\u001b[0m \u001b[0mtype_pred\u001b[0m\u001b[0;34m\u001b[0m\u001b[0;34m\u001b[0m\u001b[0m\n",
            "\u001b[0;31mValueError\u001b[0m: Classification metrics can't handle a mix of binary and continuous targets"
          ]
        }
      ]
    },
    {
      "cell_type": "code",
      "source": [
        "test_x"
      ],
      "metadata": {
        "id": "NYVZCLOYhc8R"
      },
      "execution_count": null,
      "outputs": []
    },
    {
      "cell_type": "code",
      "source": [
        "# test_x = np.array(test_df, dtype=np.float32)\n",
        "selected_model = LGBM_model \n",
        "\n",
        "preds = selected_model.predict(X_test)  \n",
        "preds"
      ],
      "metadata": {
        "colab": {
          "base_uri": "https://localhost:8080/"
        },
        "id": "KoaYYU4cW-BK",
        "outputId": "9a7b92fb-3e72-4151-f74e-e0a16a05b715"
      },
      "execution_count": 107,
      "outputs": [
        {
          "output_type": "execute_result",
          "data": {
            "text/plain": [
              "array([0.53310923, 0.53223024, 0.5260877 , 0.52744809, 0.53759755,\n",
              "       0.52917383, 0.54680975, 0.53308618, 0.52643875, 0.52535791,\n",
              "       0.5309208 , 0.53306318, 0.53079174, 0.52536068, 0.5274276 ,\n",
              "       0.52877657, 0.5308988 , 0.52890682, 0.53804044, 0.52789641,\n",
              "       0.52463569, 0.54101943, 0.52850936, 0.52402062, 0.53225013,\n",
              "       0.53200989, 0.53158695, 0.53260727, 0.52427421, 0.53761232,\n",
              "       0.53054934, 0.53043546, 0.53486683, 0.53679109, 0.53160065,\n",
              "       0.53550438, 0.53568535, 0.52527255, 0.52839768, 0.53253834,\n",
              "       0.5302371 , 0.52947414, 0.53280961, 0.53011716, 0.5395518 ,\n",
              "       0.54453405, 0.5303831 , 0.52895279, 0.53313805, 0.53021627,\n",
              "       0.52955482, 0.53063437, 0.53307292, 0.53447204, 0.52469023,\n",
              "       0.52538527, 0.53126407, 0.52940268, 0.52975659, 0.53372918,\n",
              "       0.52838287, 0.53283463, 0.53448245, 0.53021195, 0.52735026,\n",
              "       0.53508706, 0.55020271, 0.52562205, 0.52936526, 0.52141026,\n",
              "       0.52979985, 0.52966006, 0.53099211, 0.52804962, 0.53160599,\n",
              "       0.52976895, 0.52819926, 0.52798559, 0.52530069, 0.52812132,\n",
              "       0.52913448, 0.53174909, 0.53535645, 0.53112051, 0.53336994,\n",
              "       0.52115908, 0.52687227, 0.53679996, 0.53142374, 0.53473898,\n",
              "       0.53250382, 0.53225924, 0.53193807, 0.53086285, 0.52818608,\n",
              "       0.53070967, 0.53210794, 0.52980896, 0.5302722 , 0.53288971,\n",
              "       0.52986429, 0.53033095, 0.53360074, 0.53302957, 0.5313392 ,\n",
              "       0.52879783, 0.5317492 , 0.53265446, 0.52902323, 0.53084915,\n",
              "       0.53089735, 0.53158974, 0.53237764, 0.53201619, 0.53240883,\n",
              "       0.53384538, 0.53032614, 0.52070939, 0.53006627, 0.52968064])"
            ]
          },
          "metadata": {},
          "execution_count": 107
        }
      ]
    },
    {
      "cell_type": "code",
      "source": [
        "sns.countplot(x=preds);"
      ],
      "metadata": {
        "colab": {
          "base_uri": "https://localhost:8080/",
          "height": 265
        },
        "id": "tnCYxu30eM6R",
        "outputId": "3b5c726a-f189-4650-bd2b-277ed5d7633d"
      },
      "execution_count": 108,
      "outputs": [
        {
          "output_type": "display_data",
          "data": {
            "text/plain": [
              "<Figure size 432x288 with 1 Axes>"
            ],
            "image/png": "[encoded data removed]"
          },
          "metadata": {
            "needs_background": "light"
          }
        }
      ]
    },
    {
      "cell_type": "code",
      "source": [],
      "metadata": {
        "id": "gWwKvwMiizn4"
      },
      "execution_count": null,
      "outputs": []
    },
    {
      "cell_type": "code",
      "source": [
        "# X_train = train_df\n",
        "X_train = train_df.drop(columns=['Y_Class'])\n",
        "y_train = train_df['Y_Class']"
      ],
      "metadata": {
        "id": "LwGlb3aMi3QC"
      },
      "execution_count": 109,
      "outputs": []
    },
    {
      "cell_type": "code",
      "source": [
        "X_train = pd.DataFrame(train_df['Y_Quality'])\n",
        "y_train = train_df['Y_Class']   "
      ],
      "metadata": {
        "id": "lB4kcG3ti3QC"
      },
      "execution_count": 110,
      "outputs": []
    },
    {
      "cell_type": "code",
      "source": [
        "# hyperparameter - sensitive to setting\n",
        "## ==> setting is recommended.\n",
        "from lightgbm import LGBMClassifier\n",
        "\n",
        "LGBM_model = LGBMClassifier()\n",
        "LGBM_model.fit(X_train, y_train) \n",
        "\n",
        "LGBM_predict = tf.cast(LGBM_model.predict(X_test) > 0.5, \n",
        "                       dtype = tf.float32)\n",
        "\n",
        "print('Accuracy = ', accuracy_score(LGBM_predict, y_test))\n",
        "print('Test Report = \\n', classification_report(LGBM_predict, y_test))"
      ],
      "metadata": {
        "colab": {
          "base_uri": "https://localhost:8080/",
          "height": 398
        },
        "outputId": "308a0e7a-53a6-4c77-ce79-0ec6cd2d4769",
        "id": "Wj20sRCfiwi6"
      },
      "execution_count": 112,
      "outputs": [
        {
          "output_type": "error",
          "ename": "ValueError",
          "evalue": "ignored",
          "traceback": [
            "\u001b[0;31m---------------------------------------------------------------------------\u001b[0m",
            "\u001b[0;31mValueError\u001b[0m                                Traceback (most recent call last)",
            "\u001b[0;32m<ipython-input-112-50b0a9e393b8>\u001b[0m in \u001b[0;36m<module>\u001b[0;34m\u001b[0m\n\u001b[1;32m      6\u001b[0m \u001b[0mLGBM_model\u001b[0m\u001b[0;34m.\u001b[0m\u001b[0mfit\u001b[0m\u001b[0;34m(\u001b[0m\u001b[0mX_train\u001b[0m\u001b[0;34m,\u001b[0m \u001b[0my_train\u001b[0m\u001b[0;34m)\u001b[0m\u001b[0;34m\u001b[0m\u001b[0;34m\u001b[0m\u001b[0m\n\u001b[1;32m      7\u001b[0m \u001b[0;34m\u001b[0m\u001b[0m\n\u001b[0;32m----> 8\u001b[0;31m LGBM_predict = tf.cast(LGBM_model.predict(X_test) > 0.5, \n\u001b[0m\u001b[1;32m      9\u001b[0m                        dtype = tf.float32)\n\u001b[1;32m     10\u001b[0m \u001b[0;34m\u001b[0m\u001b[0m\n",
            "\u001b[0;32m/usr/local/lib/python3.8/dist-packages/lightgbm/sklearn.py\u001b[0m in \u001b[0;36mpredict\u001b[0;34m(self, X, raw_score, num_iteration, pred_leaf, pred_contrib, **kwargs)\u001b[0m\n\u001b[1;32m    750\u001b[0m                 pred_leaf=False, pred_contrib=False, **kwargs):\n\u001b[1;32m    751\u001b[0m         \u001b[0;34m\"\"\"Docstring is inherited from the LGBMModel.\"\"\"\u001b[0m\u001b[0;34m\u001b[0m\u001b[0;34m\u001b[0m\u001b[0m\n\u001b[0;32m--> 752\u001b[0;31m         result = self.predict_proba(X, raw_score, num_iteration,\n\u001b[0m\u001b[1;32m    753\u001b[0m                                     pred_leaf, pred_contrib, **kwargs)\n\u001b[1;32m    754\u001b[0m         \u001b[0;32mif\u001b[0m \u001b[0mraw_score\u001b[0m \u001b[0;32mor\u001b[0m \u001b[0mpred_leaf\u001b[0m \u001b[0;32mor\u001b[0m \u001b[0mpred_contrib\u001b[0m\u001b[0;34m:\u001b[0m\u001b[0;34m\u001b[0m\u001b[0;34m\u001b[0m\u001b[0m\n",
            "\u001b[0;32m/usr/local/lib/python3.8/dist-packages/lightgbm/sklearn.py\u001b[0m in \u001b[0;36mpredict_proba\u001b[0;34m(self, X, raw_score, num_iteration, pred_leaf, pred_contrib, **kwargs)\u001b[0m\n\u001b[1;32m    797\u001b[0m             \u001b[0mIf\u001b[0m\u001b[0;31m \u001b[0m\u001b[0;31m`\u001b[0m\u001b[0;31m`\u001b[0m\u001b[0mpred_contrib\u001b[0m\u001b[0;34m=\u001b[0m\u001b[0;32mTrue\u001b[0m\u001b[0;31m`\u001b[0m\u001b[0;31m`\u001b[0m\u001b[0;34m,\u001b[0m \u001b[0mthe\u001b[0m \u001b[0meach\u001b[0m \u001b[0mfeature\u001b[0m \u001b[0mcontributions\u001b[0m \u001b[0;32mfor\u001b[0m \u001b[0meach\u001b[0m \u001b[0msample\u001b[0m\u001b[0;34m.\u001b[0m\u001b[0;34m\u001b[0m\u001b[0;34m\u001b[0m\u001b[0m\n\u001b[1;32m    798\u001b[0m         \"\"\"\n\u001b[0;32m--> 799\u001b[0;31m         result = super(LGBMClassifier, self).predict(X, raw_score, num_iteration,\n\u001b[0m\u001b[1;32m    800\u001b[0m                                                      pred_leaf, pred_contrib, **kwargs)\n\u001b[1;32m    801\u001b[0m         \u001b[0;32mif\u001b[0m \u001b[0mself\u001b[0m\u001b[0;34m.\u001b[0m\u001b[0m_n_classes\u001b[0m \u001b[0;34m>\u001b[0m \u001b[0;36m2\u001b[0m \u001b[0;32mor\u001b[0m \u001b[0mraw_score\u001b[0m \u001b[0;32mor\u001b[0m \u001b[0mpred_leaf\u001b[0m \u001b[0;32mor\u001b[0m \u001b[0mpred_contrib\u001b[0m\u001b[0;34m:\u001b[0m\u001b[0;34m\u001b[0m\u001b[0;34m\u001b[0m\u001b[0m\n",
            "\u001b[0;32m/usr/local/lib/python3.8/dist-packages/lightgbm/sklearn.py\u001b[0m in \u001b[0;36mpredict\u001b[0;34m(self, X, raw_score, num_iteration, pred_leaf, pred_contrib, **kwargs)\u001b[0m\n\u001b[1;32m    600\u001b[0m         \u001b[0mn_features\u001b[0m \u001b[0;34m=\u001b[0m \u001b[0mX\u001b[0m\u001b[0;34m.\u001b[0m\u001b[0mshape\u001b[0m\u001b[0;34m[\u001b[0m\u001b[0;36m1\u001b[0m\u001b[0;34m]\u001b[0m\u001b[0;34m\u001b[0m\u001b[0;34m\u001b[0m\u001b[0m\n\u001b[1;32m    601\u001b[0m         \u001b[0;32mif\u001b[0m \u001b[0mself\u001b[0m\u001b[0;34m.\u001b[0m\u001b[0m_n_features\u001b[0m \u001b[0;34m!=\u001b[0m \u001b[0mn_features\u001b[0m\u001b[0;34m:\u001b[0m\u001b[0;34m\u001b[0m\u001b[0;34m\u001b[0m\u001b[0m\n\u001b[0;32m--> 602\u001b[0;31m             raise ValueError(\"Number of features of the model must \"\n\u001b[0m\u001b[1;32m    603\u001b[0m                              \u001b[0;34m\"match the input. Model n_features_ is %s and \"\u001b[0m\u001b[0;34m\u001b[0m\u001b[0;34m\u001b[0m\u001b[0m\n\u001b[1;32m    604\u001b[0m                              \u001b[0;34m\"input n_features is %s \"\u001b[0m\u001b[0;34m\u001b[0m\u001b[0;34m\u001b[0m\u001b[0m\n",
            "\u001b[0;31mValueError\u001b[0m: Number of features of the model must match the input. Model n_features_ is 1 and input n_features is 2877 "
          ]
        }
      ]
    },
    {
      "cell_type": "code",
      "source": [],
      "metadata": {
        "id": "5DJpEAaaity-"
      },
      "execution_count": null,
      "outputs": []
    },
    {
      "cell_type": "markdown",
      "source": [
        "## 2.3 XGBoost"
      ],
      "metadata": {
        "id": "WOGzYAlUfOsh"
      }
    },
    {
      "cell_type": "code",
      "source": [],
      "metadata": {
        "id": "ePm6VW7CfO65"
      },
      "execution_count": null,
      "outputs": []
    },
    {
      "cell_type": "code",
      "source": [
        "# hyperparameter setting isn't needed. \n",
        "from xgboost import XGBClassifier\n",
        "\n",
        "Xgboost_model = XGBClassifier()\n",
        "Xgboost_model.fit(X_train, y_train, eval_metric='aucpr')\n",
        "\n",
        "Xg_predict = tf.cast(Xgboost_model.predict(X_test) > 0.5, \n",
        "                     dtype = tf.float32)\n",
        "\n",
        "print('Accuracy = ', accuracy_score(Xg_predict, y_test))\n",
        "print('Test Report = \\n', classification_report(Xg_predict, y_test))"
      ],
      "metadata": {
        "colab": {
          "base_uri": "https://localhost:8080/"
        },
        "id": "Zr2sMkCVbHVC",
        "outputId": "310c8b7b-bd17-440c-f6c8-e8c78dccdcd5"
      },
      "execution_count": 80,
      "outputs": [
        {
          "output_type": "stream",
          "name": "stdout",
          "text": [
            "Accuracy =  0.725\n",
            "Test Report = \n",
            "               precision    recall  f1-score   support\n",
            "\n",
            "         0.0       0.40      0.67      0.50         9\n",
            "         1.0       1.00      0.73      0.84       111\n",
            "         2.0       0.00      0.00      0.00         0\n",
            "\n",
            "    accuracy                           0.73       120\n",
            "   macro avg       0.47      0.47      0.45       120\n",
            "weighted avg       0.95      0.72      0.82       120\n",
            "\n"
          ]
        },
        {
          "output_type": "stream",
          "name": "stderr",
          "text": [
            "/usr/local/lib/python3.8/dist-packages/sklearn/metrics/_classification.py:1318: UndefinedMetricWarning: Recall and F-score are ill-defined and being set to 0.0 in labels with no true samples. Use `zero_division` parameter to control this behavior.\n",
            "  _warn_prf(average, modifier, msg_start, len(result))\n",
            "/usr/local/lib/python3.8/dist-packages/sklearn/metrics/_classification.py:1318: UndefinedMetricWarning: Recall and F-score are ill-defined and being set to 0.0 in labels with no true samples. Use `zero_division` parameter to control this behavior.\n",
            "  _warn_prf(average, modifier, msg_start, len(result))\n",
            "/usr/local/lib/python3.8/dist-packages/sklearn/metrics/_classification.py:1318: UndefinedMetricWarning: Recall and F-score are ill-defined and being set to 0.0 in labels with no true samples. Use `zero_division` parameter to control this behavior.\n",
            "  _warn_prf(average, modifier, msg_start, len(result))\n"
          ]
        }
      ]
    },
    {
      "cell_type": "code",
      "source": [],
      "metadata": {
        "id": "aXeh36DbfO_c"
      },
      "execution_count": 80,
      "outputs": []
    },
    {
      "cell_type": "code",
      "source": [
        "# test_x = np.array(test_df, dtype=np.float32)\n",
        "selected_model = Xgboost_model \n",
        "\n",
        "preds = test_x['Y_Quality']  \n",
        "preds"
      ],
      "metadata": {
        "colab": {
          "base_uri": "https://localhost:8080/"
        },
        "outputId": "a0ec0fae-6236-4ece-de89-bc70ae825536",
        "id": "dW2Sratzfbc-"
      },
      "execution_count": 135,
      "outputs": [
        {
          "output_type": "execute_result",
          "data": {
            "text/plain": [
              "0      0.529678\n",
              "1      0.528602\n",
              "2      0.528209\n",
              "3      0.529686\n",
              "4      0.534285\n",
              "         ...   \n",
              "305    0.529028\n",
              "306    0.528367\n",
              "307    0.528809\n",
              "308    0.528702\n",
              "309    0.528607\n",
              "Name: Y_Quality, Length: 310, dtype: float64"
            ]
          },
          "metadata": {},
          "execution_count": 135
        }
      ]
    },
    {
      "cell_type": "code",
      "source": [
        "sns.countplot(x=preds);"
      ],
      "metadata": {
        "colab": {
          "base_uri": "https://localhost:8080/",
          "height": 280
        },
        "outputId": "374b0bbb-43ac-4033-aa26-6bcb442c3687",
        "id": "xF15aG3LfbdA"
      },
      "execution_count": 105,
      "outputs": [
        {
          "output_type": "display_data",
          "data": {
            "text/plain": [
              "<Figure size 432x288 with 1 Axes>"
            ],
            "image/png": "[encoded data removed]"
          },
          "metadata": {
            "needs_background": "light"
          }
        }
      ]
    },
    {
      "cell_type": "code",
      "source": [],
      "metadata": {
        "id": "vX3cInMfguQY"
      },
      "execution_count": null,
      "outputs": []
    }
  ]
}