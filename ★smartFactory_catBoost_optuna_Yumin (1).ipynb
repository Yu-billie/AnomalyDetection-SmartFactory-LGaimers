{
 "cells": [
  {
   "cell_type": "code",
   "execution_count": 4,
   "id": "hC6xTjdGA-rj",
   "metadata": {
    "colab": {
     "base_uri": "https://localhost:8080/"
    },
    "id": "hC6xTjdGA-rj",
    "outputId": "d8190ed1-f644-4646-bc52-0774a6befdb2"
   },
   "outputs": [
    {
     "name": "stdout",
     "output_type": "stream",
     "text": [
      "Collecting catboost\n",
      "  Using cached catboost-1.1.1-cp39-none-win_amd64.whl (74.0 MB)\n",
      "Requirement already satisfied: scipy in c:\\users\\user\\.anaconda\\navigator\\logs\\anaconda(cau) install\\lib\\site-packages (from catboost) (1.7.1)\n",
      "Requirement already satisfied: plotly in c:\\users\\user\\.anaconda\\navigator\\logs\\anaconda(cau) install\\lib\\site-packages (from catboost) (5.13.0)\n",
      "Requirement already satisfied: pandas>=0.24.0 in c:\\users\\user\\.anaconda\\navigator\\logs\\anaconda(cau) install\\lib\\site-packages (from catboost) (1.3.4)\n",
      "Requirement already satisfied: numpy>=1.16.0 in c:\\users\\user\\.anaconda\\navigator\\logs\\anaconda(cau) install\\lib\\site-packages (from catboost) (1.20.3)\n",
      "Requirement already satisfied: six in c:\\users\\user\\.anaconda\\navigator\\logs\\anaconda(cau) install\\lib\\site-packages (from catboost) (1.16.0)\n",
      "Requirement already satisfied: matplotlib in c:\\users\\user\\.anaconda\\navigator\\logs\\anaconda(cau) install\\lib\\site-packages (from catboost) (3.4.3)\n",
      "Collecting graphviz\n",
      "  Using cached graphviz-0.20.1-py3-none-any.whl (47 kB)\n",
      "Requirement already satisfied: pytz>=2017.3 in c:\\users\\user\\.anaconda\\navigator\\logs\\anaconda(cau) install\\lib\\site-packages (from pandas>=0.24.0->catboost) (2021.3)\n",
      "Requirement already satisfied: python-dateutil>=2.7.3 in c:\\users\\user\\.anaconda\\navigator\\logs\\anaconda(cau) install\\lib\\site-packages (from pandas>=0.24.0->catboost) (2.8.2)\n",
      "Requirement already satisfied: kiwisolver>=1.0.1 in c:\\users\\user\\.anaconda\\navigator\\logs\\anaconda(cau) install\\lib\\site-packages (from matplotlib->catboost) (1.3.1)\n",
      "Requirement already satisfied: pyparsing>=2.2.1 in c:\\users\\user\\.anaconda\\navigator\\logs\\anaconda(cau) install\\lib\\site-packages (from matplotlib->catboost) (3.0.4)\n",
      "Requirement already satisfied: pillow>=6.2.0 in c:\\users\\user\\.anaconda\\navigator\\logs\\anaconda(cau) install\\lib\\site-packages (from matplotlib->catboost) (8.4.0)\n",
      "Requirement already satisfied: cycler>=0.10 in c:\\users\\user\\.anaconda\\navigator\\logs\\anaconda(cau) install\\lib\\site-packages (from matplotlib->catboost) (0.10.0)\n",
      "Requirement already satisfied: tenacity>=6.2.0 in c:\\users\\user\\.anaconda\\navigator\\logs\\anaconda(cau) install\\lib\\site-packages (from plotly->catboost) (8.2.1)\n",
      "Installing collected packages: graphviz, catboost\n",
      "Successfully installed catboost-1.1.1 graphviz-0.20.1\n",
      "Collecting optuna\n",
      "  Using cached optuna-3.1.0-py3-none-any.whl (365 kB)\n",
      "Collecting colorlog\n",
      "  Using cached colorlog-6.7.0-py2.py3-none-any.whl (11 kB)\n",
      "Requirement already satisfied: tqdm in c:\\users\\user\\.anaconda\\navigator\\logs\\anaconda(cau) install\\lib\\site-packages (from optuna) (4.62.3)\n",
      "Requirement already satisfied: numpy in c:\\users\\user\\.anaconda\\navigator\\logs\\anaconda(cau) install\\lib\\site-packages (from optuna) (1.20.3)\n",
      "Requirement already satisfied: sqlalchemy>=1.3.0 in c:\\users\\user\\.anaconda\\navigator\\logs\\anaconda(cau) install\\lib\\site-packages (from optuna) (1.4.22)\n",
      "Collecting alembic>=1.5.0\n",
      "  Using cached alembic-1.9.4-py3-none-any.whl (210 kB)\n",
      "Requirement already satisfied: PyYAML in c:\\users\\user\\.anaconda\\navigator\\logs\\anaconda(cau) install\\lib\\site-packages (from optuna) (6.0)\n",
      "Collecting cmaes>=0.9.1\n",
      "  Using cached cmaes-0.9.1-py3-none-any.whl (21 kB)\n",
      "Requirement already satisfied: packaging>=20.0 in c:\\users\\user\\.anaconda\\navigator\\logs\\anaconda(cau) install\\lib\\site-packages (from optuna) (21.0)\n",
      "Collecting Mako\n",
      "  Using cached Mako-1.2.4-py3-none-any.whl (78 kB)\n",
      "Requirement already satisfied: pyparsing>=2.0.2 in c:\\users\\user\\.anaconda\\navigator\\logs\\anaconda(cau) install\\lib\\site-packages (from packaging>=20.0->optuna) (3.0.4)\n",
      "Requirement already satisfied: greenlet!=0.4.17 in c:\\users\\user\\.anaconda\\navigator\\logs\\anaconda(cau) install\\lib\\site-packages (from sqlalchemy>=1.3.0->optuna) (1.1.1)\n",
      "Requirement already satisfied: colorama in c:\\users\\user\\.anaconda\\navigator\\logs\\anaconda(cau) install\\lib\\site-packages (from colorlog->optuna) (0.4.4)\n",
      "Requirement already satisfied: MarkupSafe>=0.9.2 in c:\\users\\user\\.anaconda\\navigator\\logs\\anaconda(cau) install\\lib\\site-packages (from Mako->alembic>=1.5.0->optuna) (1.1.1)\n",
      "Installing collected packages: Mako, colorlog, cmaes, alembic, optuna\n",
      "Successfully installed Mako-1.2.4 alembic-1.9.4 cmaes-0.9.1 colorlog-6.7.0 optuna-3.1.0\n"
     ]
    }
   ],
   "source": [
    "!pip install catboost\n",
    "!pip install optuna"
   ]
  },
  {
   "cell_type": "code",
   "execution_count": 9,
   "id": "9b5f48b3",
   "metadata": {},
   "outputs": [
    {
     "name": "stdout",
     "output_type": "stream",
     "text": [
      "Collecting tensorflow\n",
      "  Using cached tensorflow-2.11.0-cp39-cp39-win_amd64.whl (1.9 kB)\n",
      "Collecting tensorflow-intel==2.11.0\n",
      "  Using cached tensorflow_intel-2.11.0-cp39-cp39-win_amd64.whl (266.3 MB)\n",
      "Collecting google-pasta>=0.1.1\n",
      "  Using cached google_pasta-0.2.0-py3-none-any.whl (57 kB)\n",
      "Collecting flatbuffers>=2.0\n",
      "  Using cached flatbuffers-23.1.21-py2.py3-none-any.whl (26 kB)\n",
      "Requirement already satisfied: wrapt>=1.11.0 in c:\\users\\user\\.anaconda\\navigator\\logs\\anaconda(cau) install\\lib\\site-packages (from tensorflow-intel==2.11.0->tensorflow) (1.12.1)\n",
      "Requirement already satisfied: numpy>=1.20 in c:\\users\\user\\.anaconda\\navigator\\logs\\anaconda(cau) install\\lib\\site-packages (from tensorflow-intel==2.11.0->tensorflow) (1.20.3)\n",
      "Collecting keras<2.12,>=2.11.0\n",
      "  Using cached keras-2.11.0-py2.py3-none-any.whl (1.7 MB)\n",
      "Collecting tensorflow-estimator<2.12,>=2.11.0\n",
      "  Using cached tensorflow_estimator-2.11.0-py2.py3-none-any.whl (439 kB)\n",
      "Collecting tensorboard<2.12,>=2.11\n",
      "  Using cached tensorboard-2.11.2-py3-none-any.whl (6.0 MB)\n",
      "Collecting astunparse>=1.6.0\n",
      "  Using cached astunparse-1.6.3-py2.py3-none-any.whl (12 kB)\n",
      "Collecting absl-py>=1.0.0\n",
      "  Using cached absl_py-1.4.0-py3-none-any.whl (126 kB)\n",
      "Collecting libclang>=13.0.0\n",
      "  Using cached libclang-15.0.6.1-py2.py3-none-win_amd64.whl (23.2 MB)\n",
      "Requirement already satisfied: packaging in c:\\users\\user\\.anaconda\\navigator\\logs\\anaconda(cau) install\\lib\\site-packages (from tensorflow-intel==2.11.0->tensorflow) (21.0)\n",
      "Collecting termcolor>=1.1.0\n",
      "  Using cached termcolor-2.2.0-py3-none-any.whl (6.6 kB)\n",
      "Collecting tensorflow-io-gcs-filesystem>=0.23.1\n",
      "  Using cached tensorflow_io_gcs_filesystem-0.30.0-cp39-cp39-win_amd64.whl (1.5 MB)\n",
      "Collecting opt-einsum>=2.3.2\n",
      "  Using cached opt_einsum-3.3.0-py3-none-any.whl (65 kB)\n",
      "Requirement already satisfied: six>=1.12.0 in c:\\users\\user\\.anaconda\\navigator\\logs\\anaconda(cau) install\\lib\\site-packages (from tensorflow-intel==2.11.0->tensorflow) (1.16.0)\n",
      "Collecting gast<=0.4.0,>=0.2.1\n",
      "  Using cached gast-0.4.0-py3-none-any.whl (9.8 kB)\n",
      "Collecting protobuf<3.20,>=3.9.2\n",
      "  Using cached protobuf-3.19.6-cp39-cp39-win_amd64.whl (895 kB)\n",
      "Collecting grpcio<2.0,>=1.24.3\n",
      "  Using cached grpcio-1.51.3-cp39-cp39-win_amd64.whl (3.7 MB)\n",
      "Requirement already satisfied: h5py>=2.9.0 in c:\\users\\user\\.anaconda\\navigator\\logs\\anaconda(cau) install\\lib\\site-packages (from tensorflow-intel==2.11.0->tensorflow) (3.2.1)\n",
      "Requirement already satisfied: typing-extensions>=3.6.6 in c:\\users\\user\\.anaconda\\navigator\\logs\\anaconda(cau) install\\lib\\site-packages (from tensorflow-intel==2.11.0->tensorflow) (3.10.0.2)\n",
      "Requirement already satisfied: setuptools in c:\\users\\user\\.anaconda\\navigator\\logs\\anaconda(cau) install\\lib\\site-packages (from tensorflow-intel==2.11.0->tensorflow) (58.0.4)\n",
      "Requirement already satisfied: wheel<1.0,>=0.23.0 in c:\\users\\user\\.anaconda\\navigator\\logs\\anaconda(cau) install\\lib\\site-packages (from astunparse>=1.6.0->tensorflow-intel==2.11.0->tensorflow) (0.37.0)\n",
      "Requirement already satisfied: werkzeug>=1.0.1 in c:\\users\\user\\.anaconda\\navigator\\logs\\anaconda(cau) install\\lib\\site-packages (from tensorboard<2.12,>=2.11->tensorflow-intel==2.11.0->tensorflow) (2.0.2)\n",
      "Collecting google-auth-oauthlib<0.5,>=0.4.1\n",
      "  Using cached google_auth_oauthlib-0.4.6-py2.py3-none-any.whl (18 kB)\n",
      "Requirement already satisfied: requests<3,>=2.21.0 in c:\\users\\user\\.anaconda\\navigator\\logs\\anaconda(cau) install\\lib\\site-packages (from tensorboard<2.12,>=2.11->tensorflow-intel==2.11.0->tensorflow) (2.26.0)\n",
      "Collecting tensorboard-plugin-wit>=1.6.0\n",
      "  Using cached tensorboard_plugin_wit-1.8.1-py3-none-any.whl (781 kB)\n",
      "Collecting google-auth<3,>=1.6.3\n",
      "  Using cached google_auth-2.16.1-py2.py3-none-any.whl (177 kB)\n",
      "Collecting markdown>=2.6.8\n",
      "  Using cached Markdown-3.4.1-py3-none-any.whl (93 kB)\n",
      "Collecting tensorboard-data-server<0.7.0,>=0.6.0\n",
      "  Using cached tensorboard_data_server-0.6.1-py3-none-any.whl (2.4 kB)\n",
      "Collecting cachetools<6.0,>=2.0.0\n",
      "  Using cached cachetools-5.3.0-py3-none-any.whl (9.3 kB)\n",
      "Collecting rsa<5,>=3.1.4\n",
      "  Using cached rsa-4.9-py3-none-any.whl (34 kB)\n",
      "Collecting pyasn1-modules>=0.2.1\n",
      "  Using cached pyasn1_modules-0.2.8-py2.py3-none-any.whl (155 kB)\n",
      "Collecting requests-oauthlib>=0.7.0\n",
      "  Using cached requests_oauthlib-1.3.1-py2.py3-none-any.whl (23 kB)\n",
      "Requirement already satisfied: importlib-metadata>=4.4 in c:\\users\\user\\.anaconda\\navigator\\logs\\anaconda(cau) install\\lib\\site-packages (from markdown>=2.6.8->tensorboard<2.12,>=2.11->tensorflow-intel==2.11.0->tensorflow) (4.8.1)\n",
      "Requirement already satisfied: zipp>=0.5 in c:\\users\\user\\.anaconda\\navigator\\logs\\anaconda(cau) install\\lib\\site-packages (from importlib-metadata>=4.4->markdown>=2.6.8->tensorboard<2.12,>=2.11->tensorflow-intel==2.11.0->tensorflow) (3.6.0)\n",
      "Collecting pyasn1<0.5.0,>=0.4.6\n",
      "  Using cached pyasn1-0.4.8-py2.py3-none-any.whl (77 kB)\n",
      "Requirement already satisfied: certifi>=2017.4.17 in c:\\users\\user\\.anaconda\\navigator\\logs\\anaconda(cau) install\\lib\\site-packages (from requests<3,>=2.21.0->tensorboard<2.12,>=2.11->tensorflow-intel==2.11.0->tensorflow) (2021.10.8)\n",
      "Requirement already satisfied: urllib3<1.27,>=1.21.1 in c:\\users\\user\\.anaconda\\navigator\\logs\\anaconda(cau) install\\lib\\site-packages (from requests<3,>=2.21.0->tensorboard<2.12,>=2.11->tensorflow-intel==2.11.0->tensorflow) (1.26.7)\n",
      "Requirement already satisfied: charset-normalizer~=2.0.0 in c:\\users\\user\\.anaconda\\navigator\\logs\\anaconda(cau) install\\lib\\site-packages (from requests<3,>=2.21.0->tensorboard<2.12,>=2.11->tensorflow-intel==2.11.0->tensorflow) (2.0.4)\n",
      "Requirement already satisfied: idna<4,>=2.5 in c:\\users\\user\\.anaconda\\navigator\\logs\\anaconda(cau) install\\lib\\site-packages (from requests<3,>=2.21.0->tensorboard<2.12,>=2.11->tensorflow-intel==2.11.0->tensorflow) (3.2)\n",
      "Collecting oauthlib>=3.0.0\n",
      "  Using cached oauthlib-3.2.2-py3-none-any.whl (151 kB)\n",
      "Requirement already satisfied: pyparsing>=2.0.2 in c:\\users\\user\\.anaconda\\navigator\\logs\\anaconda(cau) install\\lib\\site-packages (from packaging->tensorflow-intel==2.11.0->tensorflow) (3.0.4)\n",
      "Installing collected packages: pyasn1, rsa, pyasn1-modules, oauthlib, cachetools, requests-oauthlib, google-auth, tensorboard-plugin-wit, tensorboard-data-server, protobuf, markdown, grpcio, google-auth-oauthlib, absl-py, termcolor, tensorflow-io-gcs-filesystem, tensorflow-estimator, tensorboard, opt-einsum, libclang, keras, google-pasta, gast, flatbuffers, astunparse, tensorflow-intel, tensorflow\n",
      "Successfully installed absl-py-1.4.0 astunparse-1.6.3 cachetools-5.3.0 flatbuffers-23.1.21 gast-0.4.0 google-auth-2.16.1 google-auth-oauthlib-0.4.6 google-pasta-0.2.0 grpcio-1.51.3 keras-2.11.0 libclang-15.0.6.1 markdown-3.4.1 oauthlib-3.2.2 opt-einsum-3.3.0 protobuf-3.19.6 pyasn1-0.4.8 pyasn1-modules-0.2.8 requests-oauthlib-1.3.1 rsa-4.9 tensorboard-2.11.2 tensorboard-data-server-0.6.1 tensorboard-plugin-wit-1.8.1 tensorflow-2.11.0 tensorflow-estimator-2.11.0 tensorflow-intel-2.11.0 tensorflow-io-gcs-filesystem-0.30.0 termcolor-2.2.0\n"
     ]
    }
   ],
   "source": [
    "!pip install tensorflow"
   ]
  },
  {
   "cell_type": "code",
   "execution_count": 10,
   "id": "94682a80",
   "metadata": {
    "colab": {
     "base_uri": "https://localhost:8080/"
    },
    "id": "94682a80",
    "outputId": "0d6c6e92-9eee-4833-c6bb-8c4555d5c8e4"
   },
   "outputs": [],
   "source": [
    "import pandas as pd\n",
    "import random\n",
    "import os\n",
    "import numpy as np\n",
    "import matplotlib.pyplot as plt   \n",
    "\n",
    "from sklearn.preprocessing import LabelEncoder\n",
    "from sklearn.model_selection import train_test_split\n",
    "\n",
    "import tensorflow as tf\n",
    "from tensorflow.keras import regularizers\n",
    "from keras.models import Sequential\n",
    "from keras.layers import Dense,Dropout, Activation\n",
    "\n",
    "from sklearn.metrics import f1_score\n",
    "from catboost import CatBoostClassifier\n",
    "\n",
    "\n",
    "import optuna\n",
    "from optuna.samplers import TPESampler\n",
    "from optuna import Trial\n",
    "\n",
    "# from google.colab import drive  # GoodleDrive mount \n",
    "# drive.mount('/content/drive')"
   ]
  },
  {
   "cell_type": "code",
   "execution_count": 25,
   "id": "6d28a6c9",
   "metadata": {
    "id": "6d28a6c9"
   },
   "outputs": [],
   "source": [
    "train_df = pd.read_csv('C://Users//user//OneDrive//open//train.csv')\n",
    "test_df = pd.read_csv('C:/Users/user/OneDrive/open/test.csv')\n",
    "submit = pd.read_csv('C:/Users/user/OneDrive/open/sample_submission.csv')"
   ]
  },
  {
   "cell_type": "code",
   "execution_count": 26,
   "id": "kLBoulM6u2Fb",
   "metadata": {
    "id": "kLBoulM6u2Fb"
   },
   "outputs": [],
   "source": [
    "# train_df = pd.read_csv('/content/drive/MyDrive/train.csv')\n",
    "# test_df = pd.read_csv('/content/drive/MyDrive/test.csv')"
   ]
  },
  {
   "cell_type": "code",
   "execution_count": 39,
   "id": "f75f9df6",
   "metadata": {
    "id": "f75f9df6"
   },
   "outputs": [],
   "source": [
    "train_x = train_df.drop(columns=['PRODUCT_ID', 'TIMESTAMP', 'Y_Class'])\n",
    "train_y = train_df['Y_Class']\n",
    "\n",
    "test_x = test_df.drop(columns=['PRODUCT_ID', 'TIMESTAMP'])\n",
    "# test_x = test_df"
   ]
  },
  {
   "cell_type": "markdown",
   "id": "wqkW_3EbQxj1",
   "metadata": {
    "id": "wqkW_3EbQxj1"
   },
   "source": [
    "# 1.preprocessing\n",
    "- Label Encoding\n",
    "- Missing values fillna(0) \n",
    "- scaling: StandardScaler"
   ]
  },
  {
   "cell_type": "code",
   "execution_count": 40,
   "id": "c66d3bf4",
   "metadata": {
    "colab": {
     "base_uri": "https://localhost:8080/"
    },
    "id": "c66d3bf4",
    "outputId": "f4f7912a-e484-4664-884f-eae5d9a8f640"
   },
   "outputs": [
    {
     "name": "stdout",
     "output_type": "stream",
     "text": [
      "Done.\n"
     ]
    }
   ],
   "source": [
    "# qualitative to quantitative\n",
    "qual_col = ['LINE', 'PRODUCT_CODE']\n",
    "\n",
    "for i in qual_col:\n",
    "    le = LabelEncoder()    # TRY one-hot encoding \n",
    "    le = le.fit(train_x[i])\n",
    "    train_x[i] = le.transform(train_x[i])\n",
    "    \n",
    "    for label in np.unique(test_x[i]): \n",
    "        if label not in le.classes_: \n",
    "            le.classes_ = np.append(le.classes_, label)\n",
    "    test_x[i] = le.transform(test_x[i]) \n",
    "print('Done.')  \n"
   ]
  },
  {
   "cell_type": "code",
   "execution_count": 41,
   "id": "5dc3e419",
   "metadata": {
    "id": "5dc3e419"
   },
   "outputs": [],
   "source": [
    "# Missing Values \n",
    "train_x = train_x.fillna(0)\n",
    "test_x = test_x.fillna(0)"
   ]
  },
  {
   "cell_type": "code",
   "execution_count": 70,
   "id": "f42862a2",
   "metadata": {
    "id": "f42862a2"
   },
   "outputs": [],
   "source": [
    "from sklearn.preprocessing import StandardScaler\n",
    "\n",
    "stdsc = StandardScaler()\n",
    "\n",
    "X_train_std = stdsc.fit_transform(train_x)\n",
    "X_test_std = stdsc.transform(test_x)  "
   ]
  },
  {
   "cell_type": "code",
   "execution_count": 55,
   "id": "fa987a0c",
   "metadata": {
    "id": "fa987a0c",
    "outputId": "81c4e49c-0e47-4c2a-efbd-1116ef13f72e"
   },
   "outputs": [],
   "source": [
    "# X_train_std"
   ]
  },
  {
   "cell_type": "code",
   "execution_count": 71,
   "id": "1a75269c",
   "metadata": {
    "id": "1a75269c"
   },
   "outputs": [],
   "source": [
    "X_train, X_test, y_train, y_test = train_test_split(X_train_std, train_y,\n",
    "                                                   test_size=0.3,\n",
    "                                                   random_state=37)"
   ]
  },
  {
   "cell_type": "markdown",
   "id": "HgRXZthuQD4I",
   "metadata": {
    "id": "HgRXZthuQD4I"
   },
   "source": [
    "# 2.Sequential Model"
   ]
  },
  {
   "cell_type": "code",
   "execution_count": 72,
   "id": "83ee1fde",
   "metadata": {
    "colab": {
     "base_uri": "https://localhost:8080/"
    },
    "id": "83ee1fde",
    "outputId": "629fd41c-550a-4f69-ba90-9a5944861a3a",
    "scrolled": false
   },
   "outputs": [
    {
     "name": "stdout",
     "output_type": "stream",
     "text": [
      "Model: \"sequential_5\"\n",
      "_________________________________________________________________\n",
      " Layer (type)                Output Shape              Param #   \n",
      "=================================================================\n",
      " dense_10 (Dense)            (None, 512)               1474048   \n",
      "                                                                 \n",
      " dense_11 (Dense)            (None, 3)                 1539      \n",
      "                                                                 \n",
      "=================================================================\n",
      "Total params: 1,475,587\n",
      "Trainable params: 1,475,587\n",
      "Non-trainable params: 0\n",
      "_________________________________________________________________\n"
     ]
    }
   ],
   "source": [
    "model = Sequential([\n",
    "          Dense(512, activation='relu',input_shape=(2878,)),\n",
    "          Dense(3, activation='softmax')])\n",
    "\n",
    "model.summary()"
   ]
  },
  {
   "cell_type": "code",
   "execution_count": 73,
   "id": "52b8e615",
   "metadata": {
    "colab": {
     "base_uri": "https://localhost:8080/"
    },
    "id": "52b8e615",
    "outputId": "48d50e19-36a9-42c5-8837-0a6214f1402f",
    "scrolled": true
   },
   "outputs": [
    {
     "name": "stdout",
     "output_type": "stream",
     "text": [
      "Epoch 1/10\n",
      "6/6 [==============================] - 1s 53ms/step - loss: 4.3302 - accuracy: 0.5126 - val_loss: 3.4874 - val_accuracy: 0.5583\n",
      "Epoch 2/10\n",
      "6/6 [==============================] - 0s 37ms/step - loss: 2.5803 - accuracy: 0.5628 - val_loss: 3.9042 - val_accuracy: 0.6667\n",
      "Epoch 3/10\n",
      "6/6 [==============================] - 0s 38ms/step - loss: 2.7223 - accuracy: 0.6904 - val_loss: 3.2307 - val_accuracy: 0.6833\n",
      "Epoch 4/10\n",
      "6/6 [==============================] - 0s 34ms/step - loss: 1.6359 - accuracy: 0.6485 - val_loss: 2.7764 - val_accuracy: 0.6167\n",
      "Epoch 5/10\n",
      "6/6 [==============================] - 0s 30ms/step - loss: 1.4885 - accuracy: 0.7385 - val_loss: 1.5380 - val_accuracy: 0.6750\n",
      "Epoch 6/10\n",
      "6/6 [==============================] - 0s 31ms/step - loss: 0.9898 - accuracy: 0.6611 - val_loss: 2.0354 - val_accuracy: 0.6167\n",
      "Epoch 7/10\n",
      "6/6 [==============================] - 0s 42ms/step - loss: 1.2626 - accuracy: 0.7155 - val_loss: 1.7675 - val_accuracy: 0.6917\n",
      "Epoch 8/10\n",
      "6/6 [==============================] - 0s 39ms/step - loss: 0.8540 - accuracy: 0.7343 - val_loss: 1.8311 - val_accuracy: 0.6250\n",
      "Epoch 9/10\n",
      "6/6 [==============================] - 0s 41ms/step - loss: 0.8310 - accuracy: 0.7615 - val_loss: 1.7061 - val_accuracy: 0.6917\n",
      "Epoch 10/10\n",
      "6/6 [==============================] - 0s 28ms/step - loss: 0.8826 - accuracy: 0.7887 - val_loss: 1.6356 - val_accuracy: 0.6250\n"
     ]
    }
   ],
   "source": [
    "model.compile(optimizer='adam',\n",
    "                   loss='sparse_categorical_crossentropy',\n",
    "                   metrics=['accuracy'])\n",
    "     \n",
    "# X_train = pd.DataFrame(X_train).drop(columns=['X_1'])\n",
    "history = model.fit(X_train_std,\n",
    "                    train_y,\n",
    "                    epochs=10,\n",
    "                    batch_size=80,\n",
    "                    validation_split=0.2) \n",
    "\n",
    "\n"
   ]
  },
  {
   "cell_type": "code",
   "execution_count": 74,
   "id": "f5a8c473",
   "metadata": {
    "colab": {
     "base_uri": "https://localhost:8080/",
     "height": 295
    },
    "id": "f5a8c473",
    "outputId": "a5e063c6-cdda-48a7-97e8-c651f791725a"
   },
   "outputs": [
    {
     "data": {
      "image/png": "[encoded data removed]",
      "text/plain": [
       "<Figure size 432x288 with 1 Axes>"
      ]
     },
     "metadata": {
      "needs_background": "light"
     },
     "output_type": "display_data"
    }
   ],
   "source": [
    "loss = history.history[\"loss\"]\n",
    "val_loss = history.history[\"val_loss\"]\n",
    "epochs = range(1, len(loss) + 1)\n",
    "plt.plot(epochs, loss, \"bo\", label=\"Training loss\")\n",
    "plt.plot(epochs, val_loss, \"b\", label=\"Validation loss\")\n",
    "plt.title(\"Training and validation loss\")\n",
    "plt.xlabel(\"Epochs\")\n",
    "plt.ylabel(\"Loss\")\n",
    "plt.legend()   \n",
    "plt.show()"
   ]
  },
  {
   "cell_type": "code",
   "execution_count": 75,
   "id": "026847cf",
   "metadata": {
    "colab": {
     "base_uri": "https://localhost:8080/",
     "height": 295
    },
    "id": "026847cf",
    "outputId": "da089c2a-9665-4fb3-9b90-8496f4f4ab2c"
   },
   "outputs": [
    {
     "data": {
      "image/png": "[encoded data removed]",
      "text/plain": [
       "<Figure size 432x288 with 1 Axes>"
      ]
     },
     "metadata": {
      "needs_background": "light"
     },
     "output_type": "display_data"
    }
   ],
   "source": [
    "plt.clf()\n",
    "acc = history.history[\"accuracy\"]\n",
    "val_acc = history.history[\"val_accuracy\"]\n",
    "plt.plot(epochs, acc, \"bo\", label=\"Training accuracy\")\n",
    "plt.plot(epochs, val_acc, \"b\", label=\"Validation accuracy\")\n",
    "plt.title(\"Training and validation accuracy\")\n",
    "plt.xlabel(\"Epochs\")\n",
    "plt.ylabel(\"Accuracy\")\n",
    "plt.legend()\n",
    "plt.show() \n"
   ]
  },
  {
   "cell_type": "code",
   "execution_count": 76,
   "id": "27e457a9",
   "metadata": {
    "colab": {
     "base_uri": "https://localhost:8080/"
    },
    "id": "27e457a9",
    "outputId": "931587c8-b6eb-4029-a962-123b309a381d"
   },
   "outputs": [
    {
     "data": {
      "text/plain": [
       "array([[-0.85592158, -0.71324153, -1.17783182, ...,  0.        ,\n",
       "         0.        ,  0.        ],\n",
       "       [ 0.18187866,  0.46174038,  0.85784283, ...,  0.        ,\n",
       "         0.        ,  0.        ],\n",
       "       [-0.46119267, -1.88822344, -1.17783182, ...,  0.        ,\n",
       "         0.        ,  0.        ],\n",
       "       ...,\n",
       "       [-0.67347484,  0.46174038, -0.1599945 , ...,  0.        ,\n",
       "         0.        ,  0.        ],\n",
       "       [-0.34120702,  1.04923134,  0.85784283, ...,  0.        ,\n",
       "         0.        ,  0.        ],\n",
       "       [-0.54919633, -1.30073248, -1.17783182, ...,  0.        ,\n",
       "         0.        ,  0.        ]])"
      ]
     },
     "execution_count": 76,
     "metadata": {},
     "output_type": "execute_result"
    }
   ],
   "source": [
    "X_train"
   ]
  },
  {
   "cell_type": "code",
   "execution_count": 77,
   "id": "2fab4505",
   "metadata": {
    "id": "2fab4505"
   },
   "outputs": [],
   "source": [
    "X_test_std = stdsc.transform(test_x)    \n"
   ]
  },
  {
   "cell_type": "code",
   "execution_count": null,
   "id": "2afZOBbYFMpy",
   "metadata": {
    "id": "2afZOBbYFMpy"
   },
   "outputs": [],
   "source": [
    "\n",
    "# a = pd.DataFrame(test_x.iloc[:,-1:])\n",
    "# test_x = pd.concat([test_x ,a ])"
   ]
  },
  {
   "cell_type": "code",
   "execution_count": 78,
   "id": "57a8de60",
   "metadata": {
    "colab": {
     "base_uri": "https://localhost:8080/"
    },
    "id": "57a8de60",
    "outputId": "aac13e33-4b10-44bc-b2f2-bcaf4f881598",
    "scrolled": true
   },
   "outputs": [
    {
     "ename": "ValueError",
     "evalue": "in user code:\n\n    File \"C:\\Users\\user\\.anaconda\\navigator\\logs\\anaconda(CAU) install\\lib\\site-packages\\keras\\engine\\training.py\", line 2137, in predict_function  *\n        return step_function(self, iterator)\n    File \"C:\\Users\\user\\.anaconda\\navigator\\logs\\anaconda(CAU) install\\lib\\site-packages\\keras\\engine\\training.py\", line 2123, in step_function  **\n        outputs = model.distribute_strategy.run(run_step, args=(data,))\n    File \"C:\\Users\\user\\.anaconda\\navigator\\logs\\anaconda(CAU) install\\lib\\site-packages\\keras\\engine\\training.py\", line 2111, in run_step  **\n        outputs = model.predict_step(data)\n    File \"C:\\Users\\user\\.anaconda\\navigator\\logs\\anaconda(CAU) install\\lib\\site-packages\\keras\\engine\\training.py\", line 2079, in predict_step\n        return self(x, training=False)\n    File \"C:\\Users\\user\\.anaconda\\navigator\\logs\\anaconda(CAU) install\\lib\\site-packages\\keras\\utils\\traceback_utils.py\", line 70, in error_handler\n        raise e.with_traceback(filtered_tb) from None\n    File \"C:\\Users\\user\\.anaconda\\navigator\\logs\\anaconda(CAU) install\\lib\\site-packages\\keras\\engine\\input_spec.py\", line 295, in assert_input_compatibility\n        raise ValueError(\n\n    ValueError: Input 0 of layer \"sequential_5\" is incompatible with the layer: expected shape=(None, 2878), found shape=(None, 2877)\n",
     "output_type": "error",
     "traceback": [
      "\u001b[1;31m---------------------------------------------------------------------------\u001b[0m",
      "\u001b[1;31mValueError\u001b[0m                                Traceback (most recent call last)",
      "\u001b[1;32m~\\AppData\\Local\\Temp/ipykernel_20532/1788366406.py\u001b[0m in \u001b[0;36m<module>\u001b[1;34m\u001b[0m\n\u001b[1;32m----> 1\u001b[1;33m \u001b[0mpreds\u001b[0m \u001b[1;33m=\u001b[0m \u001b[0mmodel\u001b[0m\u001b[1;33m.\u001b[0m\u001b[0mpredict\u001b[0m\u001b[1;33m(\u001b[0m\u001b[0mX_test_std\u001b[0m\u001b[1;33m)\u001b[0m\u001b[1;33m\u001b[0m\u001b[1;33m\u001b[0m\u001b[0m\n\u001b[0m\u001b[0;32m      2\u001b[0m \u001b[1;33m\u001b[0m\u001b[0m\n\u001b[0;32m      3\u001b[0m \u001b[0mpreds\u001b[0m\u001b[1;33m\u001b[0m\u001b[1;33m\u001b[0m\u001b[0m\n",
      "\u001b[1;32m~\\.anaconda\\navigator\\logs\\anaconda(CAU) install\\lib\\site-packages\\keras\\utils\\traceback_utils.py\u001b[0m in \u001b[0;36merror_handler\u001b[1;34m(*args, **kwargs)\u001b[0m\n\u001b[0;32m     68\u001b[0m             \u001b[1;31m# To get the full stack trace, call:\u001b[0m\u001b[1;33m\u001b[0m\u001b[1;33m\u001b[0m\u001b[0m\n\u001b[0;32m     69\u001b[0m             \u001b[1;31m# `tf.debugging.disable_traceback_filtering()`\u001b[0m\u001b[1;33m\u001b[0m\u001b[1;33m\u001b[0m\u001b[0m\n\u001b[1;32m---> 70\u001b[1;33m             \u001b[1;32mraise\u001b[0m \u001b[0me\u001b[0m\u001b[1;33m.\u001b[0m\u001b[0mwith_traceback\u001b[0m\u001b[1;33m(\u001b[0m\u001b[0mfiltered_tb\u001b[0m\u001b[1;33m)\u001b[0m \u001b[1;32mfrom\u001b[0m \u001b[1;32mNone\u001b[0m\u001b[1;33m\u001b[0m\u001b[1;33m\u001b[0m\u001b[0m\n\u001b[0m\u001b[0;32m     71\u001b[0m         \u001b[1;32mfinally\u001b[0m\u001b[1;33m:\u001b[0m\u001b[1;33m\u001b[0m\u001b[1;33m\u001b[0m\u001b[0m\n\u001b[0;32m     72\u001b[0m             \u001b[1;32mdel\u001b[0m \u001b[0mfiltered_tb\u001b[0m\u001b[1;33m\u001b[0m\u001b[1;33m\u001b[0m\u001b[0m\n",
      "\u001b[1;32m~\\.anaconda\\navigator\\logs\\anaconda(CAU) install\\lib\\site-packages\\keras\\engine\\training.py\u001b[0m in \u001b[0;36mtf__predict_function\u001b[1;34m(iterator)\u001b[0m\n\u001b[0;32m     13\u001b[0m                 \u001b[1;32mtry\u001b[0m\u001b[1;33m:\u001b[0m\u001b[1;33m\u001b[0m\u001b[1;33m\u001b[0m\u001b[0m\n\u001b[0;32m     14\u001b[0m                     \u001b[0mdo_return\u001b[0m \u001b[1;33m=\u001b[0m \u001b[1;32mTrue\u001b[0m\u001b[1;33m\u001b[0m\u001b[1;33m\u001b[0m\u001b[0m\n\u001b[1;32m---> 15\u001b[1;33m                     \u001b[0mretval_\u001b[0m \u001b[1;33m=\u001b[0m \u001b[0mag__\u001b[0m\u001b[1;33m.\u001b[0m\u001b[0mconverted_call\u001b[0m\u001b[1;33m(\u001b[0m\u001b[0mag__\u001b[0m\u001b[1;33m.\u001b[0m\u001b[0mld\u001b[0m\u001b[1;33m(\u001b[0m\u001b[0mstep_function\u001b[0m\u001b[1;33m)\u001b[0m\u001b[1;33m,\u001b[0m \u001b[1;33m(\u001b[0m\u001b[0mag__\u001b[0m\u001b[1;33m.\u001b[0m\u001b[0mld\u001b[0m\u001b[1;33m(\u001b[0m\u001b[0mself\u001b[0m\u001b[1;33m)\u001b[0m\u001b[1;33m,\u001b[0m \u001b[0mag__\u001b[0m\u001b[1;33m.\u001b[0m\u001b[0mld\u001b[0m\u001b[1;33m(\u001b[0m\u001b[0miterator\u001b[0m\u001b[1;33m)\u001b[0m\u001b[1;33m)\u001b[0m\u001b[1;33m,\u001b[0m \u001b[1;32mNone\u001b[0m\u001b[1;33m,\u001b[0m \u001b[0mfscope\u001b[0m\u001b[1;33m)\u001b[0m\u001b[1;33m\u001b[0m\u001b[1;33m\u001b[0m\u001b[0m\n\u001b[0m\u001b[0;32m     16\u001b[0m                 \u001b[1;32mexcept\u001b[0m\u001b[1;33m:\u001b[0m\u001b[1;33m\u001b[0m\u001b[1;33m\u001b[0m\u001b[0m\n\u001b[0;32m     17\u001b[0m                     \u001b[0mdo_return\u001b[0m \u001b[1;33m=\u001b[0m \u001b[1;32mFalse\u001b[0m\u001b[1;33m\u001b[0m\u001b[1;33m\u001b[0m\u001b[0m\n",
      "\u001b[1;31mValueError\u001b[0m: in user code:\n\n    File \"C:\\Users\\user\\.anaconda\\navigator\\logs\\anaconda(CAU) install\\lib\\site-packages\\keras\\engine\\training.py\", line 2137, in predict_function  *\n        return step_function(self, iterator)\n    File \"C:\\Users\\user\\.anaconda\\navigator\\logs\\anaconda(CAU) install\\lib\\site-packages\\keras\\engine\\training.py\", line 2123, in step_function  **\n        outputs = model.distribute_strategy.run(run_step, args=(data,))\n    File \"C:\\Users\\user\\.anaconda\\navigator\\logs\\anaconda(CAU) install\\lib\\site-packages\\keras\\engine\\training.py\", line 2111, in run_step  **\n        outputs = model.predict_step(data)\n    File \"C:\\Users\\user\\.anaconda\\navigator\\logs\\anaconda(CAU) install\\lib\\site-packages\\keras\\engine\\training.py\", line 2079, in predict_step\n        return self(x, training=False)\n    File \"C:\\Users\\user\\.anaconda\\navigator\\logs\\anaconda(CAU) install\\lib\\site-packages\\keras\\utils\\traceback_utils.py\", line 70, in error_handler\n        raise e.with_traceback(filtered_tb) from None\n    File \"C:\\Users\\user\\.anaconda\\navigator\\logs\\anaconda(CAU) install\\lib\\site-packages\\keras\\engine\\input_spec.py\", line 295, in assert_input_compatibility\n        raise ValueError(\n\n    ValueError: Input 0 of layer \"sequential_5\" is incompatible with the layer: expected shape=(None, 2878), found shape=(None, 2877)\n"
     ]
    }
   ],
   "source": [
    "preds = model.predict(X_test_std)\n",
    "\n",
    "preds"
   ]
  },
  {
   "cell_type": "code",
   "execution_count": null,
   "id": "Cyfb21qOt4dn",
   "metadata": {
    "id": "Cyfb21qOt4dn"
   },
   "outputs": [],
   "source": [
    "submit = pd.read_csv('/content/drive/MyDrive/sample_submission.csv')  \n",
    "\n",
    "submit['Y_Class'] = preds \n",
    "submit.to_csv('smartFactory_submission17.csv', index=False)  "
   ]
  },
  {
   "cell_type": "code",
   "execution_count": null,
   "id": "14993522",
   "metadata": {
    "id": "14993522"
   },
   "outputs": [],
   "source": [
    "submit['Y_Class'] = preds\n",
    "     \n",
    "\n",
    "submit.to_csv('C:/Users/user/OneDrive/open/mid_submission-MLP.csv', index=False)\n",
    "# submit.to_csv('mid_submission-MLP.csv', index=False)"
   ]
  },
  {
   "cell_type": "markdown",
   "id": "yreBA4JMQPJ9",
   "metadata": {
    "id": "yreBA4JMQPJ9"
   },
   "source": [
    "# 3.catBoost classifier "
   ]
  },
  {
   "cell_type": "code",
   "execution_count": null,
   "id": "e7f4ff7b",
   "metadata": {
    "id": "e7f4ff7b"
   },
   "outputs": [],
   "source": [
    "X_train, X_test, y_train, y_test =train_test_split(train_x, train_y,\n",
    "                                                   test_size=0.3,\n",
    "                                                   random_state=37)\n",
    "     \n",
    "\n",
    "def objective(trial):\n",
    "    model = CatBoostClassifier(\n",
    "        iterations=trial.suggest_int(\"iterations\", 100, 1000),\n",
    "        learning_rate=trial.suggest_float(\"learning_rate\", 1e-3, 1e-1, log=True),\n",
    "        depth=trial.suggest_int(\"depth\", 4, 10),\n",
    "        l2_leaf_reg=trial.suggest_float(\"l2_leaf_reg\", 1e-8, 100.0, log=True),\n",
    "        bootstrap_type=trial.suggest_categorical(\"bootstrap_type\", [\"Bayesian\"]),\n",
    "        random_strength=trial.suggest_float(\"random_strength\", 1e-8, 10.0, log=True),\n",
    "        bagging_temperature=trial.suggest_float(\"bagging_temperature\", 0.0, 10.0),\n",
    "        od_type=trial.suggest_categorical(\"od_type\", [\"IncToDec\", \"Iter\"]),\n",
    "        od_wait=trial.suggest_int(\"od_wait\", 10, 50),\n",
    "        verbose=False\n",
    "    )\n",
    "    model.fit(X_train, y_train)\n",
    "    y_pred = model.predict(X_test)\n",
    "    return f1_score(y_test, y_pred, average='macro')\n",
    "     \n",
    "# hyper-parameter tuning with OPTUNA  \n",
    "optuna.logging.set_verbosity(optuna.logging.WARNING)\n",
    "\n",
    "sampler = TPESampler(seed=316)\n",
    "study = optuna.create_study(study_name=\"catboost\", direction=\"maximize\", sampler=sampler)\n",
    "study.optimize(objective, n_trials=10)"
   ]
  },
  {
   "cell_type": "code",
   "execution_count": null,
   "id": "4ee90ada",
   "metadata": {
    "id": "4ee90ada"
   },
   "outputs": [],
   "source": [
    "print(\"Number of finished trials: \", len(study.trials))\n",
    "print(\"Best trial:\")\n",
    "trial = study.best_trial\n",
    "print(\"  Value: \", trial.value)\n",
    "print(\"  Params: \",trial.params)"
   ]
  },
  {
   "cell_type": "code",
   "execution_count": null,
   "id": "b32047d8",
   "metadata": {
    "id": "b32047d8"
   },
   "outputs": [],
   "source": [
    "print(\"Best Score:\", study.best_value)\n",
    "print(\"Best trial:\", study.best_trial.params)"
   ]
  },
  {
   "cell_type": "code",
   "execution_count": null,
   "id": "2e5dd359",
   "metadata": {
    "id": "2e5dd359"
   },
   "outputs": [],
   "source": [
    "from sklearn.metrics import classification_report\n",
    "print(classification_report(y_pred, y_test))"
   ]
  },
  {
   "cell_type": "code",
   "execution_count": null,
   "id": "91bbd3b7",
   "metadata": {
    "id": "91bbd3b7"
   },
   "outputs": [],
   "source": [
    "import pickle\n",
    "pickle.dump(model, open(\"catboost_model.pkl\", \"wb\"))\n",
    "     \n",
    "\n",
    "optuna.visualization.plot_optimization_history(study)\n",
    "     \n",
    "\n",
    "optuna.visualization.plot_parallel_coordinate(study)\n",
    "     \n",
    "\n",
    "# 각 파라미터들의 상관관계\n",
    "optuna.visualization.plot_contour(\n",
    "    study,\n",
    "    params=[\n",
    "        \"iterations\",\n",
    "        \"learning_rate\",\n",
    "        \"depth\",\n",
    "        \"l2_leaf_reg\",\n",
    "        \"bootstrap_type\",\n",
    "        \"random_strength\",\n",
    "        \"bagging_temperature\",\n",
    "        \"od_type\",\n",
    "        \"od_wait\"\n",
    "        ],\n",
    ")"
   ]
  },
  {
   "cell_type": "code",
   "execution_count": null,
   "id": "fab2a838",
   "metadata": {
    "id": "fab2a838"
   },
   "outputs": [],
   "source": [
    "# 하이퍼파라미터 중요도\n",
    "optuna.visualization.plot_param_importances(study)"
   ]
  },
  {
   "cell_type": "code",
   "execution_count": null,
   "id": "e534f3a3",
   "metadata": {
    "id": "e534f3a3"
   },
   "outputs": [],
   "source": [
    "preds = model.predict(test_x)\n",
    "     \n",
    "\n",
    "preds"
   ]
  },
  {
   "cell_type": "code",
   "execution_count": null,
   "id": "b687c6a1",
   "metadata": {
    "id": "b687c6a1"
   },
   "outputs": [],
   "source": [
    "submit = pd.read_csv('C:/Users/user/OneDrive/open/sample_submission.csv')\n",
    "submit['Y_Class'] = preds\n",
    "\n",
    "submit.to_csv('C:/Users/user/OneDrive/open/smartFactory_submission_MLP.csv', index=False)\n",
    "# submit.to_csv('smartFactory_submission.csv', index=False)"
   ]
  },
  {
   "cell_type": "code",
   "execution_count": null,
   "id": "20a97788",
   "metadata": {
    "id": "20a97788"
   },
   "outputs": [],
   "source": []
  },
  {
   "cell_type": "code",
   "execution_count": null,
   "id": "c9c15ce7",
   "metadata": {
    "id": "c9c15ce7",
    "scrolled": true
   },
   "outputs": [],
   "source": [
    "# BEST OUTPUT \n",
    "# a = pd.read_csv('C:/Users/user/Downloads/smartFactory_submission18.csv')\n",
    "# sns.countplot(x='Y_Class', data=a)"
   ]
  },
  {
   "cell_type": "code",
   "execution_count": null,
   "id": "369e67a9",
   "metadata": {
    "id": "369e67a9"
   },
   "outputs": [],
   "source": []
  }
 ],
 "metadata": {
  "accelerator": "GPU",
  "colab": {
   "provenance": []
  },
  "gpuClass": "standard",
  "kernelspec": {
   "display_name": "Python 3 (ipykernel)",
   "language": "python",
   "name": "python3"
  },
  "language_info": {
   "codemirror_mode": {
    "name": "ipython",
    "version": 3
   },
   "file_extension": ".py",
   "mimetype": "text/x-python",
   "name": "python",
   "nbconvert_exporter": "python",
   "pygments_lexer": "ipython3",
   "version": "3.9.7"
  }
 },
 "nbformat": 4,
 "nbformat_minor": 5
}
