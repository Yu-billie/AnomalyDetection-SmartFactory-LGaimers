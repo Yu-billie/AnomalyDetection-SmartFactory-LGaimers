{
  "nbformat": 4,
  "nbformat_minor": 0,
  "metadata": {
    "colab": {
      "provenance": [],
      "toc_visible": true,
      "collapsed_sections": [
        "iw0f-7TDF9wW"
      ]
    },
    "kernelspec": {
      "name": "python3",
      "display_name": "Python 3"
    },
    "language_info": {
      "name": "python"
    },
    "accelerator": "GPU",
    "gpuClass": "standard"
  },
  "cells": [
    {
      "cell_type": "markdown",
      "source": [
        "LG AI hackathon Smart Factory\n",
        "[대회 링크](https://dacon.io/competitions/official/236055/overview/description)"
      ],
      "metadata": {
        "id": "7Nq-Y7oIvUIC"
      }
    },
    {
      "cell_type": "markdown",
      "source": [
        "# Data Description\n",
        "\n",
        "**1. train.csv [파일]**\n",
        "- PRODUCT_ID : 제품의 고유 ID\n",
        "- Y_Class : 제품 품질 상태(Target) \n",
        "    - 0 : 적정 기준 미달 (부적합)\n",
        "    - 1 : 적합\n",
        "    - 2 : 적정 기준 초과 (부적합)\n",
        "- Y_Quality : 제품 품질 관련 정량적 수치\n",
        "- TIMESTAMP : 제품이 공정에 들어간 시각\n",
        "- LINE : 제품이 들어간 공정 LINE 종류 ('T050304', 'T050307', 'T100304', 'T100306', 'T010306', 'T010305' 존재)\n",
        "- PRODUCT_CODE : 제품의 CODE 번호 ('A_31', 'T_31', 'O_31' 존재)\n",
        "- X_1 ~ X_2875 : 공정 과정에서 추출되어 비식별화된 변수\n",
        "- 06.13.2022~09.08.2022 DATA\n",
        "\n",
        "\n",
        "\n",
        "**2. test.csv [파일]**\n",
        "- PRODUCT_ID : 제품의 고유 ID\n",
        "- TIMESTAMP : 제품이 공정에 들어간 시각\n",
        "- LINE : 제품이 들어간 공정 LINE 종류 ('T050304', 'T050307', 'T100304', 'T100306', 'T010306', 'T010305' 존재)\n",
        "- PRODUCT_CODE : 제품의 CODE 번호 ('A_31', 'T_31', 'O_31' 존재)\n",
        "- X_1 ~ X_2875 : 공정 과정에서 추출되어 비식별화된 변수\n",
        "- 09.09.2022~11.05.2022 DATA \n",
        "\n",
        "**3. sample_submission.csv [파일] - 제출 양식**\n",
        "- PRODUCT_ID : 제품의 고유 ID\n",
        "- Y_Class : 예측한 제품 품질 상태\n",
        "    - 0 : 적정 기준 미달 (부적합)\n",
        "    - 1 : 적합\n",
        "    - 2 : 적정 기준 초과 (부적합)\n",
        "\n",
        "- 실제 공정 과정에서의 데이터로, 보안상의 이유로 일부 변수가 비식별화 처리 되었습니다. (X변수)\n",
        "- 'LINE', 'PRODUCT_CODE'는 Train / Test 모두 동일한 종류가 존재합니다."
      ],
      "metadata": {
        "id": "AQlbReiWmbvJ"
      }
    },
    {
      "cell_type": "markdown",
      "source": [
        "## DATA LEAKAGE - RULE \n",
        "1. 대표적인 Data Leakage에 해당하는 사례\n",
        "    - Label Encoding 시 Test 데이터로부터 Encoder를 fit 시키는 경우\n",
        "    - Scaler 사용 시 Test 데이터로부터 Scaler를 fit 시키는 경우\n",
        "    Test 데이터에 대한 결측치 보간 시 Test 데이터의 통계 정보(평균, 최빈값 등)를 사용하는 경우\n",
        "    - 파생변수를 생성할 시 2개 이상의 Test 데이터들의 정보를 활용할 경우\n",
        "    - Test 데이터들의 이동 평균을 활용하는 경우\n",
        "    - Test 데이터들을 모델 학습에 활용하는 경우 (이번 해커톤에서는 Pseudo-Labeling도 허용하지 않습니다)\n",
        "    - Test 데이터에 pandas의 get_dummies() 함수를 적용하는 경우\n",
        "        - (=) Test DATA로 Encoder를 fitting 한 것과 같으므로\n",
        "        - ==> Encoder를 Train data로 fitting 한 후, Test data에 Transform (GOOD)  \n",
        "    - Test 데이터의 index 정보 혹은 row 개수 정보를 활용하는 경우\n",
        "    - Test 데이터로부터 EDA를 진행한 결과(인사이트)를 전처리, 모델 학습에 적용하는 경우\n",
        "    - 이 밖의 Test 데이터들의 정보를 모델 학습에 활용하는 모든 경우\n",
        "\n",
        "\n",
        "2. 대표적인 Data Leakage에 해당하지 않는 사례\n",
        "    - 독립적인 샘플(행(row)) 내에서의 모든 연산 혹은 파생 변수 생성\n",
        "        - 예를 들어, Test['C'] = Test['A'] + Test['B']와 같이 독립적인 샘플 내에서 A Column과 B Column을 더한 새로운 파생 변수 C Column을 생성하는 경우\n",
        "    - Train 데이터의 통계 정보를 Test 데이터에 적용하여 전처리하는 경우 혹은 파생 변수를 생성하는 경우\n",
        "    - Test 데이터의 결측치를 Train 데이터의 통계 정보를 바탕으로 보간하는 경우 \n"
      ],
      "metadata": {
        "id": "WcRYcvVrk-xf"
      }
    },
    {
      "cell_type": "markdown",
      "source": [
        "# MODULE IMPORT"
      ],
      "metadata": {
        "id": "7c9x-uVynqst"
      }
    },
    {
      "cell_type": "code",
      "source": [
        "import pandas as pd\n",
        "import random\n",
        "import os\n",
        "import numpy as np\n",
        "import matplotlib.pyplot as plt \n",
        "import seaborn as sns\n",
        "import tensorflow as tf\n",
        "\n",
        "from sklearn.preprocessing import LabelEncoder\n",
        "from sklearn.ensemble import RandomForestClassifier\n",
        "\n",
        "from sklearn.model_selection import train_test_split \n",
        "from sklearn.metrics import accuracy_score, classification_report, f1_score\n",
        "\n",
        "# warning message delete \n",
        "import warnings\n",
        "warnings.simplefilter(action=\"ignore\", category=FutureWarning)\n",
        "\n",
        "# google drive mount\n",
        "from google.colab import drive\n",
        "drive.mount('/content/drive')\n",
        "\n",
        "def seed_everything(seed):\n",
        "    random.seed(seed)\n",
        "    os.environ['PYTHONHASHSEED'] = str(seed)\n",
        "    np.random.seed(seed)\n",
        "\n",
        "seed_everything(37)"
      ],
      "metadata": {
        "id": "N524BAv7ohSr",
        "colab": {
          "base_uri": "https://localhost:8080/"
        },
        "outputId": "c6455934-0b2a-478a-a27c-76235c7ad60d"
      },
      "execution_count": 425,
      "outputs": [
        {
          "output_type": "stream",
          "name": "stdout",
          "text": [
            "Drive already mounted at /content/drive; to attempt to forcibly remount, call drive.mount(\"/content/drive\", force_remount=True).\n"
          ]
        }
      ]
    },
    {
      "cell_type": "markdown",
      "source": [
        "# 0.Data Load"
      ],
      "metadata": {
        "id": "RYf_ZaTJ9vgg"
      }
    },
    {
      "cell_type": "code",
      "source": [
        "train_df = pd.read_csv('/content/drive/MyDrive/train.csv')\n",
        "train_df = train_df.drop(columns=['PRODUCT_ID', 'TIMESTAMP'])"
      ],
      "metadata": {
        "id": "kLBoulM6u2Fb"
      },
      "execution_count": 553,
      "outputs": []
    },
    {
      "cell_type": "code",
      "source": [
        "test_df = pd.read_csv('/content/drive/MyDrive/test.csv')\n",
        "test_df = test_df.drop(columns=['PRODUCT_ID','TIMESTAMP'])"
      ],
      "metadata": {
        "id": "vOExaTnZCvnk"
      },
      "execution_count": 585,
      "outputs": []
    },
    {
      "cell_type": "markdown",
      "source": [
        "# 1.Pre-processing"
      ],
      "metadata": {
        "id": "f5Kb__mmD7CN"
      }
    },
    {
      "cell_type": "markdown",
      "source": [
        "## 1.1 EDA\n",
        "1. `Y_Quality` and `X features`: \n",
        "    - NOT high correlation, yet  "
      ],
      "metadata": {
        "id": "iw0f-7TDF9wW"
      }
    },
    {
      "cell_type": "code",
      "source": [
        "Xs = train_df.iloc[:,4:].columns\n",
        "null_count = train_df.isnull().sum().to_dict()\n",
        "cols = pd.DataFrame({i for i in null_count if null_count[i]<250 and i in Xs})\n",
        "cols_name = list(cols[0])  # not_all_NAN features name in list "
      ],
      "metadata": {
        "id": "Xteo4cvno0Ys"
      },
      "execution_count": 313,
      "outputs": []
    },
    {
      "cell_type": "code",
      "source": [
        "# heatmap: `random X features` and `Y_Quality` correlation \n",
        "import random\n",
        "a = ['Y_Quality']\n",
        "\n",
        "for i in range(20):\n",
        "    num = random.randint(1,2875)\n",
        "    a.append(cols_name[i])\n",
        "\n",
        "corr = train_df[a].corr()  # correlation matrix\n",
        "fig, ax = plt.subplots(figsize=(15,10))\n",
        "sns.heatmap(corr, annot=True, fmt='.2f', cmap='Blues', linewidths=2);"
      ],
      "metadata": {
        "colab": {
          "base_uri": "https://localhost:8080/",
          "height": 632
        },
        "id": "E1vfXTKcK9Dt",
        "outputId": "32327156-52f9-4eef-d2a5-27128d27ce67"
      },
      "execution_count": 314,
      "outputs": [
        {
          "output_type": "display_data",
          "data": {
            "text/plain": [
              "<Figure size 1080x720 with 2 Axes>"
            ],
            "image/png": "[encoded data removed]"
          },
          "metadata": {
            "needs_background": "light"
          }
        }
      ]
    },
    {
      "cell_type": "code",
      "source": [
        "train_df.describe()"
      ],
      "metadata": {
        "colab": {
          "base_uri": "https://localhost:8080/",
          "height": 394
        },
        "id": "CSsAygIgDU2f",
        "outputId": "1794c97b-d9a6-4ee3-f126-3c799b8e5bc2"
      },
      "execution_count": 315,
      "outputs": [
        {
          "output_type": "execute_result",
          "data": {
            "text/plain": [
              "          Y_Class   Y_Quality         X_1         X_2    X_3    X_4  \\\n",
              "count  598.000000  598.000000  349.000000  349.000000  349.0  349.0   \n",
              "mean     1.025084    0.530896    2.409742   95.123209    0.0   45.0   \n",
              "std      0.565069    0.007401    5.895256    4.107640    0.0    0.0   \n",
              "min      0.000000    0.500856    1.000000   87.000000    0.0   45.0   \n",
              "25%      1.000000    0.527535    2.000000   93.000000    0.0   45.0   \n",
              "50%      1.000000    0.530436    2.000000   95.000000    0.0   45.0   \n",
              "75%      1.000000    0.533433    2.000000   98.000000    0.0   45.0   \n",
              "max      2.000000    0.578841  103.000000  102.000000    0.0   45.0   \n",
              "\n",
              "              X_5    X_6         X_7         X_8  ...      X_2866     X_2867  \\\n",
              "count  349.000000  349.0  349.000000  349.000000  ...  100.000000  100.00000   \n",
              "mean    10.392550    0.0   48.802292   10.048711  ...   50.807300   53.60770   \n",
              "std      0.489019    0.0    4.373824    0.215571  ...    7.011828    8.13899   \n",
              "min     10.000000    0.0   45.000000   10.000000  ...   32.120000   31.70000   \n",
              "25%     10.000000    0.0   45.000000   10.000000  ...   49.485000   52.20000   \n",
              "50%     10.000000    0.0   45.000000   10.000000  ...   53.425000   55.92500   \n",
              "75%     11.000000    0.0   51.000000   10.000000  ...   55.287500   58.97500   \n",
              "max     11.000000    0.0   62.000000   11.000000  ...   60.240000   68.66000   \n",
              "\n",
              "           X_2868      X_2869     X_2870  X_2871  X_2872  X_2873  X_2874  \\\n",
              "count  100.000000  100.000000  100.00000    99.0     0.0     0.0     0.0   \n",
              "mean    49.606200   51.659800   66.64970     1.0     NaN     NaN     NaN   \n",
              "std      7.158917    8.913065    4.52781     0.0     NaN     NaN     NaN   \n",
              "min     32.560000   30.490000   61.67000     1.0     NaN     NaN     NaN   \n",
              "25%     42.160000   49.915000   63.64500     1.0     NaN     NaN     NaN   \n",
              "50%     51.460000   56.175000   65.14000     1.0     NaN     NaN     NaN   \n",
              "75%     55.030000   57.175000   67.11500     1.0     NaN     NaN     NaN   \n",
              "max     60.410000   59.930000   79.75000     1.0     NaN     NaN     NaN   \n",
              "\n",
              "       X_2875  \n",
              "count     0.0  \n",
              "mean      NaN  \n",
              "std       NaN  \n",
              "min       NaN  \n",
              "25%       NaN  \n",
              "50%       NaN  \n",
              "75%       NaN  \n",
              "max       NaN  \n",
              "\n",
              "[8 rows x 2877 columns]"
            ],
            "text/html": [
              "\n",
              "  <div id=\"df-84fab10b-2c70-433c-8576-044a100d0ab4\">\n",
              "    <div class=\"colab-df-container\">\n",
              "      <div>\n",
              "<style scoped>\n",
              "    .dataframe tbody tr th:only-of-type {\n",
              "        vertical-align: middle;\n",
              "    }\n",
              "\n",
              "    .dataframe tbody tr th {\n",
              "        vertical-align: top;\n",
              "    }\n",
              "\n",
              "    .dataframe thead th {\n",
              "        text-align: right;\n",
              "    }\n",
              "</style>\n",
              "<table border=\"1\" class=\"dataframe\">\n",
              "  <thead>\n",
              "    <tr style=\"text-align: right;\">\n",
              "      <th></th>\n",
              "      <th>Y_Class</th>\n",
              "      <th>Y_Quality</th>\n",
              "      <th>X_1</th>\n",
              "      <th>X_2</th>\n",
              "      <th>X_3</th>\n",
              "      <th>X_4</th>\n",
              "      <th>X_5</th>\n",
              "      <th>X_6</th>\n",
              "      <th>X_7</th>\n",
              "      <th>X_8</th>\n",
              "      <th>...</th>\n",
              "      <th>X_2866</th>\n",
              "      <th>X_2867</th>\n",
              "      <th>X_2868</th>\n",
              "      <th>X_2869</th>\n",
              "      <th>X_2870</th>\n",
              "      <th>X_2871</th>\n",
              "      <th>X_2872</th>\n",
              "      <th>X_2873</th>\n",
              "      <th>X_2874</th>\n",
              "      <th>X_2875</th>\n",
              "    </tr>\n",
              "  </thead>\n",
              "  <tbody>\n",
              "    <tr>\n",
              "      <th>count</th>\n",
              "      <td>598.000000</td>\n",
              "      <td>598.000000</td>\n",
              "      <td>349.000000</td>\n",
              "      <td>349.000000</td>\n",
              "      <td>349.0</td>\n",
              "      <td>349.0</td>\n",
              "      <td>349.000000</td>\n",
              "      <td>349.0</td>\n",
              "      <td>349.000000</td>\n",
              "      <td>349.000000</td>\n",
              "      <td>...</td>\n",
              "      <td>100.000000</td>\n",
              "      <td>100.00000</td>\n",
              "      <td>100.000000</td>\n",
              "      <td>100.000000</td>\n",
              "      <td>100.00000</td>\n",
              "      <td>99.0</td>\n",
              "      <td>0.0</td>\n",
              "      <td>0.0</td>\n",
              "      <td>0.0</td>\n",
              "      <td>0.0</td>\n",
              "    </tr>\n",
              "    <tr>\n",
              "      <th>mean</th>\n",
              "      <td>1.025084</td>\n",
              "      <td>0.530896</td>\n",
              "      <td>2.409742</td>\n",
              "      <td>95.123209</td>\n",
              "      <td>0.0</td>\n",
              "      <td>45.0</td>\n",
              "      <td>10.392550</td>\n",
              "      <td>0.0</td>\n",
              "      <td>48.802292</td>\n",
              "      <td>10.048711</td>\n",
              "      <td>...</td>\n",
              "      <td>50.807300</td>\n",
              "      <td>53.60770</td>\n",
              "      <td>49.606200</td>\n",
              "      <td>51.659800</td>\n",
              "      <td>66.64970</td>\n",
              "      <td>1.0</td>\n",
              "      <td>NaN</td>\n",
              "      <td>NaN</td>\n",
              "      <td>NaN</td>\n",
              "      <td>NaN</td>\n",
              "    </tr>\n",
              "    <tr>\n",
              "      <th>std</th>\n",
              "      <td>0.565069</td>\n",
              "      <td>0.007401</td>\n",
              "      <td>5.895256</td>\n",
              "      <td>4.107640</td>\n",
              "      <td>0.0</td>\n",
              "      <td>0.0</td>\n",
              "      <td>0.489019</td>\n",
              "      <td>0.0</td>\n",
              "      <td>4.373824</td>\n",
              "      <td>0.215571</td>\n",
              "      <td>...</td>\n",
              "      <td>7.011828</td>\n",
              "      <td>8.13899</td>\n",
              "      <td>7.158917</td>\n",
              "      <td>8.913065</td>\n",
              "      <td>4.52781</td>\n",
              "      <td>0.0</td>\n",
              "      <td>NaN</td>\n",
              "      <td>NaN</td>\n",
              "      <td>NaN</td>\n",
              "      <td>NaN</td>\n",
              "    </tr>\n",
              "    <tr>\n",
              "      <th>min</th>\n",
              "      <td>0.000000</td>\n",
              "      <td>0.500856</td>\n",
              "      <td>1.000000</td>\n",
              "      <td>87.000000</td>\n",
              "      <td>0.0</td>\n",
              "      <td>45.0</td>\n",
              "      <td>10.000000</td>\n",
              "      <td>0.0</td>\n",
              "      <td>45.000000</td>\n",
              "      <td>10.000000</td>\n",
              "      <td>...</td>\n",
              "      <td>32.120000</td>\n",
              "      <td>31.70000</td>\n",
              "      <td>32.560000</td>\n",
              "      <td>30.490000</td>\n",
              "      <td>61.67000</td>\n",
              "      <td>1.0</td>\n",
              "      <td>NaN</td>\n",
              "      <td>NaN</td>\n",
              "      <td>NaN</td>\n",
              "      <td>NaN</td>\n",
              "    </tr>\n",
              "    <tr>\n",
              "      <th>25%</th>\n",
              "      <td>1.000000</td>\n",
              "      <td>0.527535</td>\n",
              "      <td>2.000000</td>\n",
              "      <td>93.000000</td>\n",
              "      <td>0.0</td>\n",
              "      <td>45.0</td>\n",
              "      <td>10.000000</td>\n",
              "      <td>0.0</td>\n",
              "      <td>45.000000</td>\n",
              "      <td>10.000000</td>\n",
              "      <td>...</td>\n",
              "      <td>49.485000</td>\n",
              "      <td>52.20000</td>\n",
              "      <td>42.160000</td>\n",
              "      <td>49.915000</td>\n",
              "      <td>63.64500</td>\n",
              "      <td>1.0</td>\n",
              "      <td>NaN</td>\n",
              "      <td>NaN</td>\n",
              "      <td>NaN</td>\n",
              "      <td>NaN</td>\n",
              "    </tr>\n",
              "    <tr>\n",
              "      <th>50%</th>\n",
              "      <td>1.000000</td>\n",
              "      <td>0.530436</td>\n",
              "      <td>2.000000</td>\n",
              "      <td>95.000000</td>\n",
              "      <td>0.0</td>\n",
              "      <td>45.0</td>\n",
              "      <td>10.000000</td>\n",
              "      <td>0.0</td>\n",
              "      <td>45.000000</td>\n",
              "      <td>10.000000</td>\n",
              "      <td>...</td>\n",
              "      <td>53.425000</td>\n",
              "      <td>55.92500</td>\n",
              "      <td>51.460000</td>\n",
              "      <td>56.175000</td>\n",
              "      <td>65.14000</td>\n",
              "      <td>1.0</td>\n",
              "      <td>NaN</td>\n",
              "      <td>NaN</td>\n",
              "      <td>NaN</td>\n",
              "      <td>NaN</td>\n",
              "    </tr>\n",
              "    <tr>\n",
              "      <th>75%</th>\n",
              "      <td>1.000000</td>\n",
              "      <td>0.533433</td>\n",
              "      <td>2.000000</td>\n",
              "      <td>98.000000</td>\n",
              "      <td>0.0</td>\n",
              "      <td>45.0</td>\n",
              "      <td>11.000000</td>\n",
              "      <td>0.0</td>\n",
              "      <td>51.000000</td>\n",
              "      <td>10.000000</td>\n",
              "      <td>...</td>\n",
              "      <td>55.287500</td>\n",
              "      <td>58.97500</td>\n",
              "      <td>55.030000</td>\n",
              "      <td>57.175000</td>\n",
              "      <td>67.11500</td>\n",
              "      <td>1.0</td>\n",
              "      <td>NaN</td>\n",
              "      <td>NaN</td>\n",
              "      <td>NaN</td>\n",
              "      <td>NaN</td>\n",
              "    </tr>\n",
              "    <tr>\n",
              "      <th>max</th>\n",
              "      <td>2.000000</td>\n",
              "      <td>0.578841</td>\n",
              "      <td>103.000000</td>\n",
              "      <td>102.000000</td>\n",
              "      <td>0.0</td>\n",
              "      <td>45.0</td>\n",
              "      <td>11.000000</td>\n",
              "      <td>0.0</td>\n",
              "      <td>62.000000</td>\n",
              "      <td>11.000000</td>\n",
              "      <td>...</td>\n",
              "      <td>60.240000</td>\n",
              "      <td>68.66000</td>\n",
              "      <td>60.410000</td>\n",
              "      <td>59.930000</td>\n",
              "      <td>79.75000</td>\n",
              "      <td>1.0</td>\n",
              "      <td>NaN</td>\n",
              "      <td>NaN</td>\n",
              "      <td>NaN</td>\n",
              "      <td>NaN</td>\n",
              "    </tr>\n",
              "  </tbody>\n",
              "</table>\n",
              "<p>8 rows × 2877 columns</p>\n",
              "</div>\n",
              "      <button class=\"colab-df-convert\" onclick=\"convertToInteractive('df-84fab10b-2c70-433c-8576-044a100d0ab4')\"\n",
              "              title=\"Convert this dataframe to an interactive table.\"\n",
              "              style=\"display:none;\">\n",
              "        \n",
              "  <svg xmlns=\"http://www.w3.org/2000/svg\" height=\"24px\"viewBox=\"0 0 24 24\"\n",
              "       width=\"24px\">\n",
              "    <path d=\"M0 0h24v24H0V0z\" fill=\"none\"/>\n",
              "    <path d=\"M18.56 5.44l.94 2.06.94-2.06 2.06-.94-2.06-.94-.94-2.06-.94 2.06-2.06.94zm-11 1L8.5 8.5l.94-2.06 2.06-.94-2.06-.94L8.5 2.5l-.94 2.06-2.06.94zm10 10l.94 2.06.94-2.06 2.06-.94-2.06-.94-.94-2.06-.94 2.06-2.06.94z\"/><path d=\"M17.41 7.96l-1.37-1.37c-.4-.4-.92-.59-1.43-.59-.52 0-1.04.2-1.43.59L10.3 9.45l-7.72 7.72c-.78.78-.78 2.05 0 2.83L4 21.41c.39.39.9.59 1.41.59.51 0 1.02-.2 1.41-.59l7.78-7.78 2.81-2.81c.8-.78.8-2.07 0-2.86zM5.41 20L4 18.59l7.72-7.72 1.47 1.35L5.41 20z\"/>\n",
              "  </svg>\n",
              "      </button>\n",
              "      \n",
              "  <style>\n",
              "    .colab-df-container {\n",
              "      display:flex;\n",
              "      flex-wrap:wrap;\n",
              "      gap: 12px;\n",
              "    }\n",
              "\n",
              "    .colab-df-convert {\n",
              "      background-color: #E8F0FE;\n",
              "      border: none;\n",
              "      border-radius: 50%;\n",
              "      cursor: pointer;\n",
              "      display: none;\n",
              "      fill: #1967D2;\n",
              "      height: 32px;\n",
              "      padding: 0 0 0 0;\n",
              "      width: 32px;\n",
              "    }\n",
              "\n",
              "    .colab-df-convert:hover {\n",
              "      background-color: #E2EBFA;\n",
              "      box-shadow: 0px 1px 2px rgba(60, 64, 67, 0.3), 0px 1px 3px 1px rgba(60, 64, 67, 0.15);\n",
              "      fill: #174EA6;\n",
              "    }\n",
              "\n",
              "    [theme=dark] .colab-df-convert {\n",
              "      background-color: #3B4455;\n",
              "      fill: #D2E3FC;\n",
              "    }\n",
              "\n",
              "    [theme=dark] .colab-df-convert:hover {\n",
              "      background-color: #434B5C;\n",
              "      box-shadow: 0px 1px 3px 1px rgba(0, 0, 0, 0.15);\n",
              "      filter: drop-shadow(0px 1px 2px rgba(0, 0, 0, 0.3));\n",
              "      fill: #FFFFFF;\n",
              "    }\n",
              "  </style>\n",
              "\n",
              "      <script>\n",
              "        const buttonEl =\n",
              "          document.querySelector('#df-84fab10b-2c70-433c-8576-044a100d0ab4 button.colab-df-convert');\n",
              "        buttonEl.style.display =\n",
              "          google.colab.kernel.accessAllowed ? 'block' : 'none';\n",
              "\n",
              "        async function convertToInteractive(key) {\n",
              "          const element = document.querySelector('#df-84fab10b-2c70-433c-8576-044a100d0ab4');\n",
              "          const dataTable =\n",
              "            await google.colab.kernel.invokeFunction('convertToInteractive',\n",
              "                                                     [key], {});\n",
              "          if (!dataTable) return;\n",
              "\n",
              "          const docLinkHtml = 'Like what you see? Visit the ' +\n",
              "            '<a target=\"_blank\" href=https://colab.research.google.com/notebooks/data_table.ipynb>data table notebook</a>'\n",
              "            + ' to learn more about interactive tables.';\n",
              "          element.innerHTML = '';\n",
              "          dataTable['output_type'] = 'display_data';\n",
              "          await google.colab.output.renderOutput(dataTable, element);\n",
              "          const docLink = document.createElement('div');\n",
              "          docLink.innerHTML = docLinkHtml;\n",
              "          element.appendChild(docLink);\n",
              "        }\n",
              "      </script>\n",
              "    </div>\n",
              "  </div>\n",
              "  "
            ]
          },
          "metadata": {},
          "execution_count": 315
        }
      ]
    },
    {
      "cell_type": "code",
      "source": [
        "# UNBALANCED data --> metrics: precision, recall, f1-score \n",
        "sns.countplot(x='Y_Class', data=train_df);"
      ],
      "metadata": {
        "colab": {
          "base_uri": "https://localhost:8080/",
          "height": 280
        },
        "id": "Yw54I6dqY1yt",
        "outputId": "dbaaa41f-1646-4245-f831-a8b74e628177"
      },
      "execution_count": 316,
      "outputs": [
        {
          "output_type": "display_data",
          "data": {
            "text/plain": [
              "<Figure size 432x288 with 1 Axes>"
            ],
            "image/png": "[encoded data removed]"
          },
          "metadata": {
            "needs_background": "light"
          }
        }
      ]
    },
    {
      "cell_type": "markdown",
      "source": [
        "## 1.2 Merge & Encoding\n",
        "1. Merge `LINE` & `PRODUCT_CODE` & `Y_Class`columns by JOIN function\n",
        "    - set the joined column name as `line_pcode_class`\n",
        "2. Label encoding \n",
        "    - encode qualitative into quantitative"
      ],
      "metadata": {
        "id": "E9UrfEIwMJ7z"
      }
    },
    {
      "cell_type": "code",
      "source": [
        "train_df.describe()"
      ],
      "metadata": {
        "colab": {
          "base_uri": "https://localhost:8080/",
          "height": 394
        },
        "id": "rAm6ArCGWFzj",
        "outputId": "c3e1a009-2652-468f-846e-0d14ccfc3ab0"
      },
      "execution_count": 541,
      "outputs": [
        {
          "output_type": "execute_result",
          "data": {
            "text/plain": [
              "          Y_Class   Y_Quality         X_1         X_2    X_3    X_4  \\\n",
              "count  598.000000  598.000000  349.000000  349.000000  349.0  349.0   \n",
              "mean     1.025084    0.530896    2.409742   95.123209    0.0   45.0   \n",
              "std      0.565069    0.007401    5.895256    4.107640    0.0    0.0   \n",
              "min      0.000000    0.500856    1.000000   87.000000    0.0   45.0   \n",
              "25%      1.000000    0.527535    2.000000   93.000000    0.0   45.0   \n",
              "50%      1.000000    0.530436    2.000000   95.000000    0.0   45.0   \n",
              "75%      1.000000    0.533433    2.000000   98.000000    0.0   45.0   \n",
              "max      2.000000    0.578841  103.000000  102.000000    0.0   45.0   \n",
              "\n",
              "              X_5    X_6         X_7         X_8  ...      X_2866     X_2867  \\\n",
              "count  349.000000  349.0  349.000000  349.000000  ...  100.000000  100.00000   \n",
              "mean    10.392550    0.0   48.802292   10.048711  ...   50.807300   53.60770   \n",
              "std      0.489019    0.0    4.373824    0.215571  ...    7.011828    8.13899   \n",
              "min     10.000000    0.0   45.000000   10.000000  ...   32.120000   31.70000   \n",
              "25%     10.000000    0.0   45.000000   10.000000  ...   49.485000   52.20000   \n",
              "50%     10.000000    0.0   45.000000   10.000000  ...   53.425000   55.92500   \n",
              "75%     11.000000    0.0   51.000000   10.000000  ...   55.287500   58.97500   \n",
              "max     11.000000    0.0   62.000000   11.000000  ...   60.240000   68.66000   \n",
              "\n",
              "           X_2868      X_2869     X_2870  X_2871  X_2872  X_2873  X_2874  \\\n",
              "count  100.000000  100.000000  100.00000    99.0     0.0     0.0     0.0   \n",
              "mean    49.606200   51.659800   66.64970     1.0     NaN     NaN     NaN   \n",
              "std      7.158917    8.913065    4.52781     0.0     NaN     NaN     NaN   \n",
              "min     32.560000   30.490000   61.67000     1.0     NaN     NaN     NaN   \n",
              "25%     42.160000   49.915000   63.64500     1.0     NaN     NaN     NaN   \n",
              "50%     51.460000   56.175000   65.14000     1.0     NaN     NaN     NaN   \n",
              "75%     55.030000   57.175000   67.11500     1.0     NaN     NaN     NaN   \n",
              "max     60.410000   59.930000   79.75000     1.0     NaN     NaN     NaN   \n",
              "\n",
              "       X_2875  \n",
              "count     0.0  \n",
              "mean      NaN  \n",
              "std       NaN  \n",
              "min       NaN  \n",
              "25%       NaN  \n",
              "50%       NaN  \n",
              "75%       NaN  \n",
              "max       NaN  \n",
              "\n",
              "[8 rows x 2877 columns]"
            ],
            "text/html": [
              "\n",
              "  <div id=\"df-3d9a763d-7158-492c-8c19-4056dc36ea2b\">\n",
              "    <div class=\"colab-df-container\">\n",
              "      <div>\n",
              "<style scoped>\n",
              "    .dataframe tbody tr th:only-of-type {\n",
              "        vertical-align: middle;\n",
              "    }\n",
              "\n",
              "    .dataframe tbody tr th {\n",
              "        vertical-align: top;\n",
              "    }\n",
              "\n",
              "    .dataframe thead th {\n",
              "        text-align: right;\n",
              "    }\n",
              "</style>\n",
              "<table border=\"1\" class=\"dataframe\">\n",
              "  <thead>\n",
              "    <tr style=\"text-align: right;\">\n",
              "      <th></th>\n",
              "      <th>Y_Class</th>\n",
              "      <th>Y_Quality</th>\n",
              "      <th>X_1</th>\n",
              "      <th>X_2</th>\n",
              "      <th>X_3</th>\n",
              "      <th>X_4</th>\n",
              "      <th>X_5</th>\n",
              "      <th>X_6</th>\n",
              "      <th>X_7</th>\n",
              "      <th>X_8</th>\n",
              "      <th>...</th>\n",
              "      <th>X_2866</th>\n",
              "      <th>X_2867</th>\n",
              "      <th>X_2868</th>\n",
              "      <th>X_2869</th>\n",
              "      <th>X_2870</th>\n",
              "      <th>X_2871</th>\n",
              "      <th>X_2872</th>\n",
              "      <th>X_2873</th>\n",
              "      <th>X_2874</th>\n",
              "      <th>X_2875</th>\n",
              "    </tr>\n",
              "  </thead>\n",
              "  <tbody>\n",
              "    <tr>\n",
              "      <th>count</th>\n",
              "      <td>598.000000</td>\n",
              "      <td>598.000000</td>\n",
              "      <td>349.000000</td>\n",
              "      <td>349.000000</td>\n",
              "      <td>349.0</td>\n",
              "      <td>349.0</td>\n",
              "      <td>349.000000</td>\n",
              "      <td>349.0</td>\n",
              "      <td>349.000000</td>\n",
              "      <td>349.000000</td>\n",
              "      <td>...</td>\n",
              "      <td>100.000000</td>\n",
              "      <td>100.00000</td>\n",
              "      <td>100.000000</td>\n",
              "      <td>100.000000</td>\n",
              "      <td>100.00000</td>\n",
              "      <td>99.0</td>\n",
              "      <td>0.0</td>\n",
              "      <td>0.0</td>\n",
              "      <td>0.0</td>\n",
              "      <td>0.0</td>\n",
              "    </tr>\n",
              "    <tr>\n",
              "      <th>mean</th>\n",
              "      <td>1.025084</td>\n",
              "      <td>0.530896</td>\n",
              "      <td>2.409742</td>\n",
              "      <td>95.123209</td>\n",
              "      <td>0.0</td>\n",
              "      <td>45.0</td>\n",
              "      <td>10.392550</td>\n",
              "      <td>0.0</td>\n",
              "      <td>48.802292</td>\n",
              "      <td>10.048711</td>\n",
              "      <td>...</td>\n",
              "      <td>50.807300</td>\n",
              "      <td>53.60770</td>\n",
              "      <td>49.606200</td>\n",
              "      <td>51.659800</td>\n",
              "      <td>66.64970</td>\n",
              "      <td>1.0</td>\n",
              "      <td>NaN</td>\n",
              "      <td>NaN</td>\n",
              "      <td>NaN</td>\n",
              "      <td>NaN</td>\n",
              "    </tr>\n",
              "    <tr>\n",
              "      <th>std</th>\n",
              "      <td>0.565069</td>\n",
              "      <td>0.007401</td>\n",
              "      <td>5.895256</td>\n",
              "      <td>4.107640</td>\n",
              "      <td>0.0</td>\n",
              "      <td>0.0</td>\n",
              "      <td>0.489019</td>\n",
              "      <td>0.0</td>\n",
              "      <td>4.373824</td>\n",
              "      <td>0.215571</td>\n",
              "      <td>...</td>\n",
              "      <td>7.011828</td>\n",
              "      <td>8.13899</td>\n",
              "      <td>7.158917</td>\n",
              "      <td>8.913065</td>\n",
              "      <td>4.52781</td>\n",
              "      <td>0.0</td>\n",
              "      <td>NaN</td>\n",
              "      <td>NaN</td>\n",
              "      <td>NaN</td>\n",
              "      <td>NaN</td>\n",
              "    </tr>\n",
              "    <tr>\n",
              "      <th>min</th>\n",
              "      <td>0.000000</td>\n",
              "      <td>0.500856</td>\n",
              "      <td>1.000000</td>\n",
              "      <td>87.000000</td>\n",
              "      <td>0.0</td>\n",
              "      <td>45.0</td>\n",
              "      <td>10.000000</td>\n",
              "      <td>0.0</td>\n",
              "      <td>45.000000</td>\n",
              "      <td>10.000000</td>\n",
              "      <td>...</td>\n",
              "      <td>32.120000</td>\n",
              "      <td>31.70000</td>\n",
              "      <td>32.560000</td>\n",
              "      <td>30.490000</td>\n",
              "      <td>61.67000</td>\n",
              "      <td>1.0</td>\n",
              "      <td>NaN</td>\n",
              "      <td>NaN</td>\n",
              "      <td>NaN</td>\n",
              "      <td>NaN</td>\n",
              "    </tr>\n",
              "    <tr>\n",
              "      <th>25%</th>\n",
              "      <td>1.000000</td>\n",
              "      <td>0.527535</td>\n",
              "      <td>2.000000</td>\n",
              "      <td>93.000000</td>\n",
              "      <td>0.0</td>\n",
              "      <td>45.0</td>\n",
              "      <td>10.000000</td>\n",
              "      <td>0.0</td>\n",
              "      <td>45.000000</td>\n",
              "      <td>10.000000</td>\n",
              "      <td>...</td>\n",
              "      <td>49.485000</td>\n",
              "      <td>52.20000</td>\n",
              "      <td>42.160000</td>\n",
              "      <td>49.915000</td>\n",
              "      <td>63.64500</td>\n",
              "      <td>1.0</td>\n",
              "      <td>NaN</td>\n",
              "      <td>NaN</td>\n",
              "      <td>NaN</td>\n",
              "      <td>NaN</td>\n",
              "    </tr>\n",
              "    <tr>\n",
              "      <th>50%</th>\n",
              "      <td>1.000000</td>\n",
              "      <td>0.530436</td>\n",
              "      <td>2.000000</td>\n",
              "      <td>95.000000</td>\n",
              "      <td>0.0</td>\n",
              "      <td>45.0</td>\n",
              "      <td>10.000000</td>\n",
              "      <td>0.0</td>\n",
              "      <td>45.000000</td>\n",
              "      <td>10.000000</td>\n",
              "      <td>...</td>\n",
              "      <td>53.425000</td>\n",
              "      <td>55.92500</td>\n",
              "      <td>51.460000</td>\n",
              "      <td>56.175000</td>\n",
              "      <td>65.14000</td>\n",
              "      <td>1.0</td>\n",
              "      <td>NaN</td>\n",
              "      <td>NaN</td>\n",
              "      <td>NaN</td>\n",
              "      <td>NaN</td>\n",
              "    </tr>\n",
              "    <tr>\n",
              "      <th>75%</th>\n",
              "      <td>1.000000</td>\n",
              "      <td>0.533433</td>\n",
              "      <td>2.000000</td>\n",
              "      <td>98.000000</td>\n",
              "      <td>0.0</td>\n",
              "      <td>45.0</td>\n",
              "      <td>11.000000</td>\n",
              "      <td>0.0</td>\n",
              "      <td>51.000000</td>\n",
              "      <td>10.000000</td>\n",
              "      <td>...</td>\n",
              "      <td>55.287500</td>\n",
              "      <td>58.97500</td>\n",
              "      <td>55.030000</td>\n",
              "      <td>57.175000</td>\n",
              "      <td>67.11500</td>\n",
              "      <td>1.0</td>\n",
              "      <td>NaN</td>\n",
              "      <td>NaN</td>\n",
              "      <td>NaN</td>\n",
              "      <td>NaN</td>\n",
              "    </tr>\n",
              "    <tr>\n",
              "      <th>max</th>\n",
              "      <td>2.000000</td>\n",
              "      <td>0.578841</td>\n",
              "      <td>103.000000</td>\n",
              "      <td>102.000000</td>\n",
              "      <td>0.0</td>\n",
              "      <td>45.0</td>\n",
              "      <td>11.000000</td>\n",
              "      <td>0.0</td>\n",
              "      <td>62.000000</td>\n",
              "      <td>11.000000</td>\n",
              "      <td>...</td>\n",
              "      <td>60.240000</td>\n",
              "      <td>68.66000</td>\n",
              "      <td>60.410000</td>\n",
              "      <td>59.930000</td>\n",
              "      <td>79.75000</td>\n",
              "      <td>1.0</td>\n",
              "      <td>NaN</td>\n",
              "      <td>NaN</td>\n",
              "      <td>NaN</td>\n",
              "      <td>NaN</td>\n",
              "    </tr>\n",
              "  </tbody>\n",
              "</table>\n",
              "<p>8 rows × 2877 columns</p>\n",
              "</div>\n",
              "      <button class=\"colab-df-convert\" onclick=\"convertToInteractive('df-3d9a763d-7158-492c-8c19-4056dc36ea2b')\"\n",
              "              title=\"Convert this dataframe to an interactive table.\"\n",
              "              style=\"display:none;\">\n",
              "        \n",
              "  <svg xmlns=\"http://www.w3.org/2000/svg\" height=\"24px\"viewBox=\"0 0 24 24\"\n",
              "       width=\"24px\">\n",
              "    <path d=\"M0 0h24v24H0V0z\" fill=\"none\"/>\n",
              "    <path d=\"M18.56 5.44l.94 2.06.94-2.06 2.06-.94-2.06-.94-.94-2.06-.94 2.06-2.06.94zm-11 1L8.5 8.5l.94-2.06 2.06-.94-2.06-.94L8.5 2.5l-.94 2.06-2.06.94zm10 10l.94 2.06.94-2.06 2.06-.94-2.06-.94-.94-2.06-.94 2.06-2.06.94z\"/><path d=\"M17.41 7.96l-1.37-1.37c-.4-.4-.92-.59-1.43-.59-.52 0-1.04.2-1.43.59L10.3 9.45l-7.72 7.72c-.78.78-.78 2.05 0 2.83L4 21.41c.39.39.9.59 1.41.59.51 0 1.02-.2 1.41-.59l7.78-7.78 2.81-2.81c.8-.78.8-2.07 0-2.86zM5.41 20L4 18.59l7.72-7.72 1.47 1.35L5.41 20z\"/>\n",
              "  </svg>\n",
              "      </button>\n",
              "      \n",
              "  <style>\n",
              "    .colab-df-container {\n",
              "      display:flex;\n",
              "      flex-wrap:wrap;\n",
              "      gap: 12px;\n",
              "    }\n",
              "\n",
              "    .colab-df-convert {\n",
              "      background-color: #E8F0FE;\n",
              "      border: none;\n",
              "      border-radius: 50%;\n",
              "      cursor: pointer;\n",
              "      display: none;\n",
              "      fill: #1967D2;\n",
              "      height: 32px;\n",
              "      padding: 0 0 0 0;\n",
              "      width: 32px;\n",
              "    }\n",
              "\n",
              "    .colab-df-convert:hover {\n",
              "      background-color: #E2EBFA;\n",
              "      box-shadow: 0px 1px 2px rgba(60, 64, 67, 0.3), 0px 1px 3px 1px rgba(60, 64, 67, 0.15);\n",
              "      fill: #174EA6;\n",
              "    }\n",
              "\n",
              "    [theme=dark] .colab-df-convert {\n",
              "      background-color: #3B4455;\n",
              "      fill: #D2E3FC;\n",
              "    }\n",
              "\n",
              "    [theme=dark] .colab-df-convert:hover {\n",
              "      background-color: #434B5C;\n",
              "      box-shadow: 0px 1px 3px 1px rgba(0, 0, 0, 0.15);\n",
              "      filter: drop-shadow(0px 1px 2px rgba(0, 0, 0, 0.3));\n",
              "      fill: #FFFFFF;\n",
              "    }\n",
              "  </style>\n",
              "\n",
              "      <script>\n",
              "        const buttonEl =\n",
              "          document.querySelector('#df-3d9a763d-7158-492c-8c19-4056dc36ea2b button.colab-df-convert');\n",
              "        buttonEl.style.display =\n",
              "          google.colab.kernel.accessAllowed ? 'block' : 'none';\n",
              "\n",
              "        async function convertToInteractive(key) {\n",
              "          const element = document.querySelector('#df-3d9a763d-7158-492c-8c19-4056dc36ea2b');\n",
              "          const dataTable =\n",
              "            await google.colab.kernel.invokeFunction('convertToInteractive',\n",
              "                                                     [key], {});\n",
              "          if (!dataTable) return;\n",
              "\n",
              "          const docLinkHtml = 'Like what you see? Visit the ' +\n",
              "            '<a target=\"_blank\" href=https://colab.research.google.com/notebooks/data_table.ipynb>data table notebook</a>'\n",
              "            + ' to learn more about interactive tables.';\n",
              "          element.innerHTML = '';\n",
              "          dataTable['output_type'] = 'display_data';\n",
              "          await google.colab.output.renderOutput(dataTable, element);\n",
              "          const docLink = document.createElement('div');\n",
              "          docLink.innerHTML = docLinkHtml;\n",
              "          element.appendChild(docLink);\n",
              "        }\n",
              "      </script>\n",
              "    </div>\n",
              "  </div>\n",
              "  "
            ]
          },
          "metadata": {},
          "execution_count": 541
        }
      ]
    },
    {
      "cell_type": "code",
      "source": [
        "# train_df['Y_Class'] = train_df['Y_Class'].astype(str)\n",
        "\n",
        "col = ['LINE', 'PRODUCT_CODE']\n",
        "train_df['line_pcode'] = train_df[col].apply(lambda row: ':'.join(row.values), axis=1)\n",
        "train_df = train_df.drop(columns=['LINE', 'PRODUCT_CODE'])  \n",
        "\n",
        "print(train_df['line_pcode'].value_counts())  "
      ],
      "metadata": {
        "colab": {
          "base_uri": "https://localhost:8080/"
        },
        "id": "GqgXqn8c12dV",
        "outputId": "26923173-5819-4ac6-fd81-f52ecf506d3e"
      },
      "execution_count": 555,
      "outputs": [
        {
          "output_type": "stream",
          "name": "stdout",
          "text": [
            "T100304:T_31    172\n",
            "T100306:T_31    171\n",
            "T050304:A_31     78\n",
            "T010306:A_31     70\n",
            "T010305:A_31     59\n",
            "T050307:A_31     42\n",
            "T100304:O_31      3\n",
            "T100306:O_31      3\n",
            "Name: line_pcode, dtype: int64\n"
          ]
        }
      ]
    },
    {
      "cell_type": "code",
      "source": [
        "# Label Encoding \n",
        "from sklearn.preprocessing import LabelEncoder\n",
        "encoder = LabelEncoder()\n",
        "col = ['line_pcode']\n",
        "\n",
        "for i in col:\n",
        "    train_df[i] = encoder.fit_transform(train_df[i])\n",
        "\n",
        "# correlation\n",
        "# print(train_x[['Y_Quality', 'line_pcode']].corr()) "
      ],
      "metadata": {
        "id": "wWsCTcAI7gsq"
      },
      "execution_count": 558,
      "outputs": []
    },
    {
      "cell_type": "code",
      "source": [
        "train_df.line_pcode.unique()"
      ],
      "metadata": {
        "colab": {
          "base_uri": "https://localhost:8080/"
        },
        "id": "Z7Mcr_nz3NPa",
        "outputId": "4c866b5a-ed36-497e-bb2e-3fd5a2008186"
      },
      "execution_count": 559,
      "outputs": [
        {
          "output_type": "execute_result",
          "data": {
            "text/plain": [
              "array([2, 3, 5, 7, 1, 0, 4, 6])"
            ]
          },
          "metadata": {},
          "execution_count": 559
        }
      ]
    },
    {
      "cell_type": "code",
      "source": [
        "# line_pcode & Y_Class  \n",
        "# sns.countplot(train_df, col='Y_Class', hue='line_pcode');\n",
        "\n",
        "# f = sns.FacetGrid(train_x, col=\"Y_Class\")  \n",
        "# f.map_dataframe(sns.histplot, x=\"line_pcode\", binwidth=0.9);    "
      ],
      "metadata": {
        "id": "BpxzjBdCvxdd"
      },
      "execution_count": 545,
      "outputs": []
    },
    {
      "cell_type": "markdown",
      "source": [
        "## 1.3 Missing Values\n",
        "- [fill out NaN with Column's && Group's mean](https://rfriend.tistory.com/402) "
      ],
      "metadata": {
        "id": "qfIq2KqeFZdt"
      }
    },
    {
      "cell_type": "code",
      "source": [
        "# 1) features that have only 'NaN' \n",
        "## Total 81 features only have 'NaN' \n",
        "miss_dic = train_df.isnull().sum().to_dict()\n",
        "all_NaN = pd.DataFrame({i for i in miss_dic if miss_dic[i]==598})\n",
        "all_NaN_name = list(all_NaN[0])  # all_NaN features name in list \n",
        "print(len(all_NaN_name))  "
      ],
      "metadata": {
        "colab": {
          "base_uri": "https://localhost:8080/"
        },
        "outputId": "cdc4e351-0352-488e-a484-e0116d58fce4",
        "id": "tmQ4DYKrFZdu"
      },
      "execution_count": 560,
      "outputs": [
        {
          "output_type": "stream",
          "name": "stdout",
          "text": [
            "82\n"
          ]
        }
      ]
    },
    {
      "cell_type": "code",
      "source": [
        "all_NaN2 = pd.DataFrame(np.zeros((82,82)), columns=list(all_NaN[0]))\n",
        "\n",
        "for i in all_NaN_name: \n",
        "    train_df[i] = train_df[i].apply(lambda x: 0)\n",
        "train_df.X_2686.isnull().sum()  # e.g. check whether or not it's perfectly fill with ZERO "
      ],
      "metadata": {
        "colab": {
          "base_uri": "https://localhost:8080/"
        },
        "outputId": "229a7a45-b2ea-4fea-b74a-59db960ba26b",
        "id": "aE5B1BfPFZdu"
      },
      "execution_count": 561,
      "outputs": [
        {
          "output_type": "execute_result",
          "data": {
            "text/plain": [
              "0"
            ]
          },
          "metadata": {},
          "execution_count": 561
        }
      ]
    },
    {
      "cell_type": "code",
      "source": [
        "train_df.isnull().sum().sum()"
      ],
      "metadata": {
        "colab": {
          "base_uri": "https://localhost:8080/"
        },
        "id": "Seh70wI5oyz3",
        "outputId": "7ea3fca8-5037-40db-8b85-bdd2b6e45f75"
      },
      "execution_count": 562,
      "outputs": [
        {
          "output_type": "execute_result",
          "data": {
            "text/plain": [
              "1123798"
            ]
          },
          "metadata": {},
          "execution_count": 562
        }
      ]
    },
    {
      "cell_type": "code",
      "source": [
        "# 2) fill NaN with the feature's `line_pcde` grouped mean \n",
        "fill_group_mean = lambda g: g.fillna(g.mean())\n",
        "train_df.groupby('line_pcode').apply(fill_group_mean)\n",
        "train_df.isnull().sum().sum()"
      ],
      "metadata": {
        "colab": {
          "base_uri": "https://localhost:8080/"
        },
        "id": "5C_CETzulQ2E",
        "outputId": "d750a311-beab-4833-eb02-26be57d771af"
      },
      "execution_count": 563,
      "outputs": [
        {
          "output_type": "execute_result",
          "data": {
            "text/plain": [
              "1123798"
            ]
          },
          "metadata": {},
          "execution_count": 563
        }
      ]
    },
    {
      "cell_type": "code",
      "source": [
        "# 3) fillout remaining NaN with the feature's MEAN \n",
        "cols = train_df.iloc[:,2:].columns\n",
        "for i in cols: \n",
        "    train_df[i].fillna(train_df[i].mean(), inplace=True)\n",
        "train_df.describe()"
      ],
      "metadata": {
        "colab": {
          "base_uri": "https://localhost:8080/",
          "height": 394
        },
        "id": "HzrSWDpYFzU8",
        "outputId": "8e7188a4-9f03-4495-d6ce-8074de4eb1e9"
      },
      "execution_count": 564,
      "outputs": [
        {
          "output_type": "execute_result",
          "data": {
            "text/plain": [
              "          Y_Class   Y_Quality         X_1         X_2    X_3    X_4  \\\n",
              "count  598.000000  598.000000  598.000000  598.000000  598.0  598.0   \n",
              "mean     1.025084    0.530896    2.409742   95.123209    0.0   45.0   \n",
              "std      0.565069    0.007401    4.500960    3.136136    0.0    0.0   \n",
              "min      0.000000    0.500856    1.000000   87.000000    0.0   45.0   \n",
              "25%      1.000000    0.527535    2.000000   94.000000    0.0   45.0   \n",
              "50%      1.000000    0.530436    2.000000   95.123209    0.0   45.0   \n",
              "75%      1.000000    0.533433    2.409742   95.123209    0.0   45.0   \n",
              "max      2.000000    0.578841  103.000000  102.000000    0.0   45.0   \n",
              "\n",
              "             X_5    X_6         X_7         X_8  ...     X_2867      X_2868  \\\n",
              "count  598.00000  598.0  598.000000  598.000000  ...  598.00000  598.000000   \n",
              "mean    10.39255    0.0   48.802292   10.048711  ...   53.60770   49.606200   \n",
              "std      0.37336    0.0    3.339364    0.164586  ...    3.31437    2.915263   \n",
              "min     10.00000    0.0   45.000000   10.000000  ...   31.70000   32.560000   \n",
              "25%     10.00000    0.0   45.000000   10.000000  ...   53.60770   49.606200   \n",
              "50%     10.39255    0.0   48.802292   10.000000  ...   53.60770   49.606200   \n",
              "75%     10.39255    0.0   50.000000   10.048711  ...   53.60770   49.606200   \n",
              "max     11.00000    0.0   62.000000   11.000000  ...   68.66000   60.410000   \n",
              "\n",
              "          X_2869     X_2870  X_2871  X_2872  X_2873  X_2874  X_2875  \\\n",
              "count  598.00000  598.00000   598.0   598.0   598.0   598.0   598.0   \n",
              "mean    51.65980   66.64970     1.0     0.0     0.0     0.0     0.0   \n",
              "std      3.62959    1.84382     0.0     0.0     0.0     0.0     0.0   \n",
              "min     30.49000   61.67000     1.0     0.0     0.0     0.0     0.0   \n",
              "25%     51.65980   66.64970     1.0     0.0     0.0     0.0     0.0   \n",
              "50%     51.65980   66.64970     1.0     0.0     0.0     0.0     0.0   \n",
              "75%     51.65980   66.64970     1.0     0.0     0.0     0.0     0.0   \n",
              "max     59.93000   79.75000     1.0     0.0     0.0     0.0     0.0   \n",
              "\n",
              "       line_pcode  \n",
              "count  598.000000  \n",
              "mean     4.078595  \n",
              "std      2.471718  \n",
              "min      0.000000  \n",
              "25%      2.000000  \n",
              "50%      5.000000  \n",
              "75%      7.000000  \n",
              "max      7.000000  \n",
              "\n",
              "[8 rows x 2878 columns]"
            ],
            "text/html": [
              "\n",
              "  <div id=\"df-f82855e0-a240-471c-9cbd-27b3137fd11c\">\n",
              "    <div class=\"colab-df-container\">\n",
              "      <div>\n",
              "<style scoped>\n",
              "    .dataframe tbody tr th:only-of-type {\n",
              "        vertical-align: middle;\n",
              "    }\n",
              "\n",
              "    .dataframe tbody tr th {\n",
              "        vertical-align: top;\n",
              "    }\n",
              "\n",
              "    .dataframe thead th {\n",
              "        text-align: right;\n",
              "    }\n",
              "</style>\n",
              "<table border=\"1\" class=\"dataframe\">\n",
              "  <thead>\n",
              "    <tr style=\"text-align: right;\">\n",
              "      <th></th>\n",
              "      <th>Y_Class</th>\n",
              "      <th>Y_Quality</th>\n",
              "      <th>X_1</th>\n",
              "      <th>X_2</th>\n",
              "      <th>X_3</th>\n",
              "      <th>X_4</th>\n",
              "      <th>X_5</th>\n",
              "      <th>X_6</th>\n",
              "      <th>X_7</th>\n",
              "      <th>X_8</th>\n",
              "      <th>...</th>\n",
              "      <th>X_2867</th>\n",
              "      <th>X_2868</th>\n",
              "      <th>X_2869</th>\n",
              "      <th>X_2870</th>\n",
              "      <th>X_2871</th>\n",
              "      <th>X_2872</th>\n",
              "      <th>X_2873</th>\n",
              "      <th>X_2874</th>\n",
              "      <th>X_2875</th>\n",
              "      <th>line_pcode</th>\n",
              "    </tr>\n",
              "  </thead>\n",
              "  <tbody>\n",
              "    <tr>\n",
              "      <th>count</th>\n",
              "      <td>598.000000</td>\n",
              "      <td>598.000000</td>\n",
              "      <td>598.000000</td>\n",
              "      <td>598.000000</td>\n",
              "      <td>598.0</td>\n",
              "      <td>598.0</td>\n",
              "      <td>598.00000</td>\n",
              "      <td>598.0</td>\n",
              "      <td>598.000000</td>\n",
              "      <td>598.000000</td>\n",
              "      <td>...</td>\n",
              "      <td>598.00000</td>\n",
              "      <td>598.000000</td>\n",
              "      <td>598.00000</td>\n",
              "      <td>598.00000</td>\n",
              "      <td>598.0</td>\n",
              "      <td>598.0</td>\n",
              "      <td>598.0</td>\n",
              "      <td>598.0</td>\n",
              "      <td>598.0</td>\n",
              "      <td>598.000000</td>\n",
              "    </tr>\n",
              "    <tr>\n",
              "      <th>mean</th>\n",
              "      <td>1.025084</td>\n",
              "      <td>0.530896</td>\n",
              "      <td>2.409742</td>\n",
              "      <td>95.123209</td>\n",
              "      <td>0.0</td>\n",
              "      <td>45.0</td>\n",
              "      <td>10.39255</td>\n",
              "      <td>0.0</td>\n",
              "      <td>48.802292</td>\n",
              "      <td>10.048711</td>\n",
              "      <td>...</td>\n",
              "      <td>53.60770</td>\n",
              "      <td>49.606200</td>\n",
              "      <td>51.65980</td>\n",
              "      <td>66.64970</td>\n",
              "      <td>1.0</td>\n",
              "      <td>0.0</td>\n",
              "      <td>0.0</td>\n",
              "      <td>0.0</td>\n",
              "      <td>0.0</td>\n",
              "      <td>4.078595</td>\n",
              "    </tr>\n",
              "    <tr>\n",
              "      <th>std</th>\n",
              "      <td>0.565069</td>\n",
              "      <td>0.007401</td>\n",
              "      <td>4.500960</td>\n",
              "      <td>3.136136</td>\n",
              "      <td>0.0</td>\n",
              "      <td>0.0</td>\n",
              "      <td>0.37336</td>\n",
              "      <td>0.0</td>\n",
              "      <td>3.339364</td>\n",
              "      <td>0.164586</td>\n",
              "      <td>...</td>\n",
              "      <td>3.31437</td>\n",
              "      <td>2.915263</td>\n",
              "      <td>3.62959</td>\n",
              "      <td>1.84382</td>\n",
              "      <td>0.0</td>\n",
              "      <td>0.0</td>\n",
              "      <td>0.0</td>\n",
              "      <td>0.0</td>\n",
              "      <td>0.0</td>\n",
              "      <td>2.471718</td>\n",
              "    </tr>\n",
              "    <tr>\n",
              "      <th>min</th>\n",
              "      <td>0.000000</td>\n",
              "      <td>0.500856</td>\n",
              "      <td>1.000000</td>\n",
              "      <td>87.000000</td>\n",
              "      <td>0.0</td>\n",
              "      <td>45.0</td>\n",
              "      <td>10.00000</td>\n",
              "      <td>0.0</td>\n",
              "      <td>45.000000</td>\n",
              "      <td>10.000000</td>\n",
              "      <td>...</td>\n",
              "      <td>31.70000</td>\n",
              "      <td>32.560000</td>\n",
              "      <td>30.49000</td>\n",
              "      <td>61.67000</td>\n",
              "      <td>1.0</td>\n",
              "      <td>0.0</td>\n",
              "      <td>0.0</td>\n",
              "      <td>0.0</td>\n",
              "      <td>0.0</td>\n",
              "      <td>0.000000</td>\n",
              "    </tr>\n",
              "    <tr>\n",
              "      <th>25%</th>\n",
              "      <td>1.000000</td>\n",
              "      <td>0.527535</td>\n",
              "      <td>2.000000</td>\n",
              "      <td>94.000000</td>\n",
              "      <td>0.0</td>\n",
              "      <td>45.0</td>\n",
              "      <td>10.00000</td>\n",
              "      <td>0.0</td>\n",
              "      <td>45.000000</td>\n",
              "      <td>10.000000</td>\n",
              "      <td>...</td>\n",
              "      <td>53.60770</td>\n",
              "      <td>49.606200</td>\n",
              "      <td>51.65980</td>\n",
              "      <td>66.64970</td>\n",
              "      <td>1.0</td>\n",
              "      <td>0.0</td>\n",
              "      <td>0.0</td>\n",
              "      <td>0.0</td>\n",
              "      <td>0.0</td>\n",
              "      <td>2.000000</td>\n",
              "    </tr>\n",
              "    <tr>\n",
              "      <th>50%</th>\n",
              "      <td>1.000000</td>\n",
              "      <td>0.530436</td>\n",
              "      <td>2.000000</td>\n",
              "      <td>95.123209</td>\n",
              "      <td>0.0</td>\n",
              "      <td>45.0</td>\n",
              "      <td>10.39255</td>\n",
              "      <td>0.0</td>\n",
              "      <td>48.802292</td>\n",
              "      <td>10.000000</td>\n",
              "      <td>...</td>\n",
              "      <td>53.60770</td>\n",
              "      <td>49.606200</td>\n",
              "      <td>51.65980</td>\n",
              "      <td>66.64970</td>\n",
              "      <td>1.0</td>\n",
              "      <td>0.0</td>\n",
              "      <td>0.0</td>\n",
              "      <td>0.0</td>\n",
              "      <td>0.0</td>\n",
              "      <td>5.000000</td>\n",
              "    </tr>\n",
              "    <tr>\n",
              "      <th>75%</th>\n",
              "      <td>1.000000</td>\n",
              "      <td>0.533433</td>\n",
              "      <td>2.409742</td>\n",
              "      <td>95.123209</td>\n",
              "      <td>0.0</td>\n",
              "      <td>45.0</td>\n",
              "      <td>10.39255</td>\n",
              "      <td>0.0</td>\n",
              "      <td>50.000000</td>\n",
              "      <td>10.048711</td>\n",
              "      <td>...</td>\n",
              "      <td>53.60770</td>\n",
              "      <td>49.606200</td>\n",
              "      <td>51.65980</td>\n",
              "      <td>66.64970</td>\n",
              "      <td>1.0</td>\n",
              "      <td>0.0</td>\n",
              "      <td>0.0</td>\n",
              "      <td>0.0</td>\n",
              "      <td>0.0</td>\n",
              "      <td>7.000000</td>\n",
              "    </tr>\n",
              "    <tr>\n",
              "      <th>max</th>\n",
              "      <td>2.000000</td>\n",
              "      <td>0.578841</td>\n",
              "      <td>103.000000</td>\n",
              "      <td>102.000000</td>\n",
              "      <td>0.0</td>\n",
              "      <td>45.0</td>\n",
              "      <td>11.00000</td>\n",
              "      <td>0.0</td>\n",
              "      <td>62.000000</td>\n",
              "      <td>11.000000</td>\n",
              "      <td>...</td>\n",
              "      <td>68.66000</td>\n",
              "      <td>60.410000</td>\n",
              "      <td>59.93000</td>\n",
              "      <td>79.75000</td>\n",
              "      <td>1.0</td>\n",
              "      <td>0.0</td>\n",
              "      <td>0.0</td>\n",
              "      <td>0.0</td>\n",
              "      <td>0.0</td>\n",
              "      <td>7.000000</td>\n",
              "    </tr>\n",
              "  </tbody>\n",
              "</table>\n",
              "<p>8 rows × 2878 columns</p>\n",
              "</div>\n",
              "      <button class=\"colab-df-convert\" onclick=\"convertToInteractive('df-f82855e0-a240-471c-9cbd-27b3137fd11c')\"\n",
              "              title=\"Convert this dataframe to an interactive table.\"\n",
              "              style=\"display:none;\">\n",
              "        \n",
              "  <svg xmlns=\"http://www.w3.org/2000/svg\" height=\"24px\"viewBox=\"0 0 24 24\"\n",
              "       width=\"24px\">\n",
              "    <path d=\"M0 0h24v24H0V0z\" fill=\"none\"/>\n",
              "    <path d=\"M18.56 5.44l.94 2.06.94-2.06 2.06-.94-2.06-.94-.94-2.06-.94 2.06-2.06.94zm-11 1L8.5 8.5l.94-2.06 2.06-.94-2.06-.94L8.5 2.5l-.94 2.06-2.06.94zm10 10l.94 2.06.94-2.06 2.06-.94-2.06-.94-.94-2.06-.94 2.06-2.06.94z\"/><path d=\"M17.41 7.96l-1.37-1.37c-.4-.4-.92-.59-1.43-.59-.52 0-1.04.2-1.43.59L10.3 9.45l-7.72 7.72c-.78.78-.78 2.05 0 2.83L4 21.41c.39.39.9.59 1.41.59.51 0 1.02-.2 1.41-.59l7.78-7.78 2.81-2.81c.8-.78.8-2.07 0-2.86zM5.41 20L4 18.59l7.72-7.72 1.47 1.35L5.41 20z\"/>\n",
              "  </svg>\n",
              "      </button>\n",
              "      \n",
              "  <style>\n",
              "    .colab-df-container {\n",
              "      display:flex;\n",
              "      flex-wrap:wrap;\n",
              "      gap: 12px;\n",
              "    }\n",
              "\n",
              "    .colab-df-convert {\n",
              "      background-color: #E8F0FE;\n",
              "      border: none;\n",
              "      border-radius: 50%;\n",
              "      cursor: pointer;\n",
              "      display: none;\n",
              "      fill: #1967D2;\n",
              "      height: 32px;\n",
              "      padding: 0 0 0 0;\n",
              "      width: 32px;\n",
              "    }\n",
              "\n",
              "    .colab-df-convert:hover {\n",
              "      background-color: #E2EBFA;\n",
              "      box-shadow: 0px 1px 2px rgba(60, 64, 67, 0.3), 0px 1px 3px 1px rgba(60, 64, 67, 0.15);\n",
              "      fill: #174EA6;\n",
              "    }\n",
              "\n",
              "    [theme=dark] .colab-df-convert {\n",
              "      background-color: #3B4455;\n",
              "      fill: #D2E3FC;\n",
              "    }\n",
              "\n",
              "    [theme=dark] .colab-df-convert:hover {\n",
              "      background-color: #434B5C;\n",
              "      box-shadow: 0px 1px 3px 1px rgba(0, 0, 0, 0.15);\n",
              "      filter: drop-shadow(0px 1px 2px rgba(0, 0, 0, 0.3));\n",
              "      fill: #FFFFFF;\n",
              "    }\n",
              "  </style>\n",
              "\n",
              "      <script>\n",
              "        const buttonEl =\n",
              "          document.querySelector('#df-f82855e0-a240-471c-9cbd-27b3137fd11c button.colab-df-convert');\n",
              "        buttonEl.style.display =\n",
              "          google.colab.kernel.accessAllowed ? 'block' : 'none';\n",
              "\n",
              "        async function convertToInteractive(key) {\n",
              "          const element = document.querySelector('#df-f82855e0-a240-471c-9cbd-27b3137fd11c');\n",
              "          const dataTable =\n",
              "            await google.colab.kernel.invokeFunction('convertToInteractive',\n",
              "                                                     [key], {});\n",
              "          if (!dataTable) return;\n",
              "\n",
              "          const docLinkHtml = 'Like what you see? Visit the ' +\n",
              "            '<a target=\"_blank\" href=https://colab.research.google.com/notebooks/data_table.ipynb>data table notebook</a>'\n",
              "            + ' to learn more about interactive tables.';\n",
              "          element.innerHTML = '';\n",
              "          dataTable['output_type'] = 'display_data';\n",
              "          await google.colab.output.renderOutput(dataTable, element);\n",
              "          const docLink = document.createElement('div');\n",
              "          docLink.innerHTML = docLinkHtml;\n",
              "          element.appendChild(docLink);\n",
              "        }\n",
              "      </script>\n",
              "    </div>\n",
              "  </div>\n",
              "  "
            ]
          },
          "metadata": {},
          "execution_count": 564
        }
      ]
    },
    {
      "cell_type": "code",
      "source": [
        "# 4) check the remaining NULL \n",
        "miss_dic = train_df.isnull().sum().to_dict()\n",
        "check = {i for i in miss_dic if miss_dic[i]>0}\n",
        "check  # all_NaN features name in list   "
      ],
      "metadata": {
        "colab": {
          "base_uri": "https://localhost:8080/"
        },
        "id": "YthctslpG5cd",
        "outputId": "c7c0a182-3ab5-4333-f862-ace718196826"
      },
      "execution_count": 565,
      "outputs": [
        {
          "output_type": "execute_result",
          "data": {
            "text/plain": [
              "set()"
            ]
          },
          "metadata": {},
          "execution_count": 565
        }
      ]
    },
    {
      "cell_type": "markdown",
      "source": [
        "## 1.4 Scaling\n",
        "\n",
        "[outlier Dection: IsolationForest](https://scikit-learn.org/stable/auto_examples/miscellaneous/plot_anomaly_comparison.html)\n",
        "- Standarization OR Normalization"
      ],
      "metadata": {
        "id": "4038bXsY3ngy"
      }
    },
    {
      "cell_type": "markdown",
      "source": [
        "### 1.4.1 Outliers"
      ],
      "metadata": {
        "id": "3KvQyKbDHavB"
      }
    },
    {
      "cell_type": "code",
      "source": [
        "# outlier (replace 1Q, 3Q with MEDIAN)\n",
        "# xs = list(train_df.iloc[:, 6:].columns)\n",
        "# def outlier(df):\n",
        "#     for col in xs: \n",
        "#         q1 = train_df[col].quantile(0.25)\n",
        "#         q3 = train_df[col].quantile(0.75)\n",
        "#         median = train_df[col].quantile(0.50)\n",
        "\n",
        "#         train_df[col] = np.where(train_df[col]<q1, median, train_df[col])\n",
        "#         train_df[col] = np.where(train_df[col]>q3, median, train_df[col])\n",
        "\n",
        "# train_df "
      ],
      "metadata": {
        "id": "nJuv_OqajZze"
      },
      "execution_count": 326,
      "outputs": []
    },
    {
      "cell_type": "markdown",
      "source": [
        "## 1.5 Test_df Preprocessing"
      ],
      "metadata": {
        "id": "AQf-saI4BQyu"
      }
    },
    {
      "cell_type": "code",
      "source": [
        "# Merge \n",
        "col = ['LINE', 'PRODUCT_CODE']\n",
        "test_df['line_pcode'] = test_df[col].apply(lambda row: ':'.join(row.values), axis=1)\n",
        "test_df = test_df.drop(columns=['LINE', 'PRODUCT_CODE'])\n",
        "\n",
        "# Label Encoding \n",
        "from sklearn.preprocessing import LabelEncoder\n",
        "encoder = LabelEncoder()\n",
        "col = ['line_pcode']\n",
        "\n",
        "for i in col:\n",
        "    test_df[i] = encoder.fit_transform(test_df[i])"
      ],
      "metadata": {
        "id": "nT3nx4o7B085"
      },
      "execution_count": 586,
      "outputs": []
    },
    {
      "cell_type": "code",
      "source": [
        "# Missing Values\n",
        "# 1) features that have only 'NaN' without any recorded values \n",
        "## Total 506 features only have 'NaN' \n",
        "miss_dic = test_df.isnull().sum().to_dict()\n",
        "all_nan = pd.DataFrame({i for i in miss_dic if miss_dic[i]==310})\n",
        "all_nan_name = list(all_nan[0])  # all_NaN features name in list \n",
        "\n",
        "for i in all_nan_name: \n",
        "    test_df[i].fillna(0, inplace=True)\n",
        "test_df.X_2277.isnull().sum()  # e.g. check whether or not it's perfectly fill with ZERO "
      ],
      "metadata": {
        "colab": {
          "base_uri": "https://localhost:8080/"
        },
        "outputId": "3418853d-cf0b-4907-fb91-c28ad31a1d24",
        "id": "9vLY-L_IBQy5"
      },
      "execution_count": 587,
      "outputs": [
        {
          "output_type": "execute_result",
          "data": {
            "text/plain": [
              "0"
            ]
          },
          "metadata": {},
          "execution_count": 587
        }
      ]
    },
    {
      "cell_type": "code",
      "source": [
        "print(len(test_df['line_pcode'].unique()))\n",
        "print(test_df.isnull().sum().sum())"
      ],
      "metadata": {
        "colab": {
          "base_uri": "https://localhost:8080/"
        },
        "id": "_7VrI1t3C5tK",
        "outputId": "aa38adb4-e05a-4a92-b7f1-5f6a002007c2"
      },
      "execution_count": 589,
      "outputs": [
        {
          "output_type": "stream",
          "name": "stdout",
          "text": [
            "8\n",
            "491347\n"
          ]
        }
      ]
    },
    {
      "cell_type": "code",
      "source": [
        "# 2) fill NaN with the feature's `line_pcde` grouped mean \n",
        "fill_group_mean = lambda g: g.fillna(g.mean())\n",
        "test_df.groupby('line_pcode').apply(fill_group_mean)\n",
        "test_df.isnull().sum().sum()"
      ],
      "metadata": {
        "colab": {
          "base_uri": "https://localhost:8080/"
        },
        "outputId": "c208d32d-abf5-48c3-c1b4-fc93f31695d0",
        "id": "se7WLEdQrokm"
      },
      "execution_count": 590,
      "outputs": [
        {
          "output_type": "execute_result",
          "data": {
            "text/plain": [
              "491347"
            ]
          },
          "metadata": {},
          "execution_count": 590
        }
      ]
    },
    {
      "cell_type": "code",
      "source": [
        "# 3) fillout remaining NaN with the feature's MEAN \n",
        "cols = test_df.iloc[:,:].columns\n",
        "for i in cols: \n",
        "    test_df[i].fillna(test_df[i].mean(), inplace=True)\n",
        "test_df.describe()"
      ],
      "metadata": {
        "colab": {
          "base_uri": "https://localhost:8080/",
          "height": 394
        },
        "outputId": "54af7566-050b-4d55-bcf4-c136c483785d",
        "id": "pNDoPbW5rokn"
      },
      "execution_count": 596,
      "outputs": [
        {
          "output_type": "execute_result",
          "data": {
            "text/plain": [
              "              X_1         X_2    X_3    X_4         X_5    X_6         X_7  \\\n",
              "count  310.000000  310.000000  310.0  310.0  310.000000  310.0  310.000000   \n",
              "mean     4.337449   94.448560    0.0   45.0   10.271605    0.0   48.485597   \n",
              "std     14.711941    3.595263    0.0    0.0    0.394436    0.0    3.303768   \n",
              "min      1.000000   87.000000    0.0   45.0   10.000000    0.0   45.000000   \n",
              "25%      2.000000   93.000000    0.0   45.0   10.000000    0.0   45.000000   \n",
              "50%      2.000000   94.448560    0.0   45.0   10.000000    0.0   48.485597   \n",
              "75%      2.000000   96.000000    0.0   45.0   10.271605    0.0   50.000000   \n",
              "max    154.000000  102.000000    0.0   45.0   11.000000    0.0   67.000000   \n",
              "\n",
              "              X_8         X_9   X_10  ...      X_2867      X_2868      X_2869  \\\n",
              "count  310.000000  310.000000  310.0  ...  310.000000  310.000000  310.000000   \n",
              "mean    10.012346   42.407407    2.0  ...   53.014706   49.994412   54.202353   \n",
              "std      0.097923    9.276526    0.0  ...    1.448128    1.998771    1.117486   \n",
              "min     10.000000   31.000000    2.0  ...   41.630000   39.850000   47.820000   \n",
              "25%     10.000000   31.000000    2.0  ...   53.014706   49.994412   54.202353   \n",
              "50%     10.000000   42.407407    2.0  ...   53.014706   49.994412   54.202353   \n",
              "75%     10.000000   52.000000    2.0  ...   53.014706   49.994412   54.202353   \n",
              "max     11.000000   52.000000    2.0  ...   60.490000   60.310000   58.290000   \n",
              "\n",
              "           X_2870      X_2871      X_2872      X_2873      X_2874      X_2875  \\\n",
              "count  310.000000  310.000000  310.000000  310.000000  310.000000  310.000000   \n",
              "mean    63.806176    0.974359  247.988889  251.888889  243.300000  228.844444   \n",
              "std      0.628799    0.056154    4.097781    3.230763    5.715889    3.139910   \n",
              "min     60.720000    0.000000  199.000000  214.600000  169.700000  191.900000   \n",
              "25%     63.806176    0.974359  247.988889  251.888889  243.300000  228.844444   \n",
              "50%     63.806176    0.974359  247.988889  251.888889  243.300000  228.844444   \n",
              "75%     63.806176    0.974359  247.988889  251.888889  243.300000  228.844444   \n",
              "max     67.240000    1.000000  268.000000  278.600000  271.400000  245.600000   \n",
              "\n",
              "       line_pcode  \n",
              "count  310.000000  \n",
              "mean     5.138710  \n",
              "std      2.064522  \n",
              "min      0.000000  \n",
              "25%      5.000000  \n",
              "50%      5.000000  \n",
              "75%      7.000000  \n",
              "max      7.000000  \n",
              "\n",
              "[8 rows x 2876 columns]"
            ],
            "text/html": [
              "\n",
              "  <div id=\"df-c57318cb-f43a-41a6-b212-d3a9d018b5cb\">\n",
              "    <div class=\"colab-df-container\">\n",
              "      <div>\n",
              "<style scoped>\n",
              "    .dataframe tbody tr th:only-of-type {\n",
              "        vertical-align: middle;\n",
              "    }\n",
              "\n",
              "    .dataframe tbody tr th {\n",
              "        vertical-align: top;\n",
              "    }\n",
              "\n",
              "    .dataframe thead th {\n",
              "        text-align: right;\n",
              "    }\n",
              "</style>\n",
              "<table border=\"1\" class=\"dataframe\">\n",
              "  <thead>\n",
              "    <tr style=\"text-align: right;\">\n",
              "      <th></th>\n",
              "      <th>X_1</th>\n",
              "      <th>X_2</th>\n",
              "      <th>X_3</th>\n",
              "      <th>X_4</th>\n",
              "      <th>X_5</th>\n",
              "      <th>X_6</th>\n",
              "      <th>X_7</th>\n",
              "      <th>X_8</th>\n",
              "      <th>X_9</th>\n",
              "      <th>X_10</th>\n",
              "      <th>...</th>\n",
              "      <th>X_2867</th>\n",
              "      <th>X_2868</th>\n",
              "      <th>X_2869</th>\n",
              "      <th>X_2870</th>\n",
              "      <th>X_2871</th>\n",
              "      <th>X_2872</th>\n",
              "      <th>X_2873</th>\n",
              "      <th>X_2874</th>\n",
              "      <th>X_2875</th>\n",
              "      <th>line_pcode</th>\n",
              "    </tr>\n",
              "  </thead>\n",
              "  <tbody>\n",
              "    <tr>\n",
              "      <th>count</th>\n",
              "      <td>310.000000</td>\n",
              "      <td>310.000000</td>\n",
              "      <td>310.0</td>\n",
              "      <td>310.0</td>\n",
              "      <td>310.000000</td>\n",
              "      <td>310.0</td>\n",
              "      <td>310.000000</td>\n",
              "      <td>310.000000</td>\n",
              "      <td>310.000000</td>\n",
              "      <td>310.0</td>\n",
              "      <td>...</td>\n",
              "      <td>310.000000</td>\n",
              "      <td>310.000000</td>\n",
              "      <td>310.000000</td>\n",
              "      <td>310.000000</td>\n",
              "      <td>310.000000</td>\n",
              "      <td>310.000000</td>\n",
              "      <td>310.000000</td>\n",
              "      <td>310.000000</td>\n",
              "      <td>310.000000</td>\n",
              "      <td>310.000000</td>\n",
              "    </tr>\n",
              "    <tr>\n",
              "      <th>mean</th>\n",
              "      <td>4.337449</td>\n",
              "      <td>94.448560</td>\n",
              "      <td>0.0</td>\n",
              "      <td>45.0</td>\n",
              "      <td>10.271605</td>\n",
              "      <td>0.0</td>\n",
              "      <td>48.485597</td>\n",
              "      <td>10.012346</td>\n",
              "      <td>42.407407</td>\n",
              "      <td>2.0</td>\n",
              "      <td>...</td>\n",
              "      <td>53.014706</td>\n",
              "      <td>49.994412</td>\n",
              "      <td>54.202353</td>\n",
              "      <td>63.806176</td>\n",
              "      <td>0.974359</td>\n",
              "      <td>247.988889</td>\n",
              "      <td>251.888889</td>\n",
              "      <td>243.300000</td>\n",
              "      <td>228.844444</td>\n",
              "      <td>5.138710</td>\n",
              "    </tr>\n",
              "    <tr>\n",
              "      <th>std</th>\n",
              "      <td>14.711941</td>\n",
              "      <td>3.595263</td>\n",
              "      <td>0.0</td>\n",
              "      <td>0.0</td>\n",
              "      <td>0.394436</td>\n",
              "      <td>0.0</td>\n",
              "      <td>3.303768</td>\n",
              "      <td>0.097923</td>\n",
              "      <td>9.276526</td>\n",
              "      <td>0.0</td>\n",
              "      <td>...</td>\n",
              "      <td>1.448128</td>\n",
              "      <td>1.998771</td>\n",
              "      <td>1.117486</td>\n",
              "      <td>0.628799</td>\n",
              "      <td>0.056154</td>\n",
              "      <td>4.097781</td>\n",
              "      <td>3.230763</td>\n",
              "      <td>5.715889</td>\n",
              "      <td>3.139910</td>\n",
              "      <td>2.064522</td>\n",
              "    </tr>\n",
              "    <tr>\n",
              "      <th>min</th>\n",
              "      <td>1.000000</td>\n",
              "      <td>87.000000</td>\n",
              "      <td>0.0</td>\n",
              "      <td>45.0</td>\n",
              "      <td>10.000000</td>\n",
              "      <td>0.0</td>\n",
              "      <td>45.000000</td>\n",
              "      <td>10.000000</td>\n",
              "      <td>31.000000</td>\n",
              "      <td>2.0</td>\n",
              "      <td>...</td>\n",
              "      <td>41.630000</td>\n",
              "      <td>39.850000</td>\n",
              "      <td>47.820000</td>\n",
              "      <td>60.720000</td>\n",
              "      <td>0.000000</td>\n",
              "      <td>199.000000</td>\n",
              "      <td>214.600000</td>\n",
              "      <td>169.700000</td>\n",
              "      <td>191.900000</td>\n",
              "      <td>0.000000</td>\n",
              "    </tr>\n",
              "    <tr>\n",
              "      <th>25%</th>\n",
              "      <td>2.000000</td>\n",
              "      <td>93.000000</td>\n",
              "      <td>0.0</td>\n",
              "      <td>45.0</td>\n",
              "      <td>10.000000</td>\n",
              "      <td>0.0</td>\n",
              "      <td>45.000000</td>\n",
              "      <td>10.000000</td>\n",
              "      <td>31.000000</td>\n",
              "      <td>2.0</td>\n",
              "      <td>...</td>\n",
              "      <td>53.014706</td>\n",
              "      <td>49.994412</td>\n",
              "      <td>54.202353</td>\n",
              "      <td>63.806176</td>\n",
              "      <td>0.974359</td>\n",
              "      <td>247.988889</td>\n",
              "      <td>251.888889</td>\n",
              "      <td>243.300000</td>\n",
              "      <td>228.844444</td>\n",
              "      <td>5.000000</td>\n",
              "    </tr>\n",
              "    <tr>\n",
              "      <th>50%</th>\n",
              "      <td>2.000000</td>\n",
              "      <td>94.448560</td>\n",
              "      <td>0.0</td>\n",
              "      <td>45.0</td>\n",
              "      <td>10.000000</td>\n",
              "      <td>0.0</td>\n",
              "      <td>48.485597</td>\n",
              "      <td>10.000000</td>\n",
              "      <td>42.407407</td>\n",
              "      <td>2.0</td>\n",
              "      <td>...</td>\n",
              "      <td>53.014706</td>\n",
              "      <td>49.994412</td>\n",
              "      <td>54.202353</td>\n",
              "      <td>63.806176</td>\n",
              "      <td>0.974359</td>\n",
              "      <td>247.988889</td>\n",
              "      <td>251.888889</td>\n",
              "      <td>243.300000</td>\n",
              "      <td>228.844444</td>\n",
              "      <td>5.000000</td>\n",
              "    </tr>\n",
              "    <tr>\n",
              "      <th>75%</th>\n",
              "      <td>2.000000</td>\n",
              "      <td>96.000000</td>\n",
              "      <td>0.0</td>\n",
              "      <td>45.0</td>\n",
              "      <td>10.271605</td>\n",
              "      <td>0.0</td>\n",
              "      <td>50.000000</td>\n",
              "      <td>10.000000</td>\n",
              "      <td>52.000000</td>\n",
              "      <td>2.0</td>\n",
              "      <td>...</td>\n",
              "      <td>53.014706</td>\n",
              "      <td>49.994412</td>\n",
              "      <td>54.202353</td>\n",
              "      <td>63.806176</td>\n",
              "      <td>0.974359</td>\n",
              "      <td>247.988889</td>\n",
              "      <td>251.888889</td>\n",
              "      <td>243.300000</td>\n",
              "      <td>228.844444</td>\n",
              "      <td>7.000000</td>\n",
              "    </tr>\n",
              "    <tr>\n",
              "      <th>max</th>\n",
              "      <td>154.000000</td>\n",
              "      <td>102.000000</td>\n",
              "      <td>0.0</td>\n",
              "      <td>45.0</td>\n",
              "      <td>11.000000</td>\n",
              "      <td>0.0</td>\n",
              "      <td>67.000000</td>\n",
              "      <td>11.000000</td>\n",
              "      <td>52.000000</td>\n",
              "      <td>2.0</td>\n",
              "      <td>...</td>\n",
              "      <td>60.490000</td>\n",
              "      <td>60.310000</td>\n",
              "      <td>58.290000</td>\n",
              "      <td>67.240000</td>\n",
              "      <td>1.000000</td>\n",
              "      <td>268.000000</td>\n",
              "      <td>278.600000</td>\n",
              "      <td>271.400000</td>\n",
              "      <td>245.600000</td>\n",
              "      <td>7.000000</td>\n",
              "    </tr>\n",
              "  </tbody>\n",
              "</table>\n",
              "<p>8 rows × 2876 columns</p>\n",
              "</div>\n",
              "      <button class=\"colab-df-convert\" onclick=\"convertToInteractive('df-c57318cb-f43a-41a6-b212-d3a9d018b5cb')\"\n",
              "              title=\"Convert this dataframe to an interactive table.\"\n",
              "              style=\"display:none;\">\n",
              "        \n",
              "  <svg xmlns=\"http://www.w3.org/2000/svg\" height=\"24px\"viewBox=\"0 0 24 24\"\n",
              "       width=\"24px\">\n",
              "    <path d=\"M0 0h24v24H0V0z\" fill=\"none\"/>\n",
              "    <path d=\"M18.56 5.44l.94 2.06.94-2.06 2.06-.94-2.06-.94-.94-2.06-.94 2.06-2.06.94zm-11 1L8.5 8.5l.94-2.06 2.06-.94-2.06-.94L8.5 2.5l-.94 2.06-2.06.94zm10 10l.94 2.06.94-2.06 2.06-.94-2.06-.94-.94-2.06-.94 2.06-2.06.94z\"/><path d=\"M17.41 7.96l-1.37-1.37c-.4-.4-.92-.59-1.43-.59-.52 0-1.04.2-1.43.59L10.3 9.45l-7.72 7.72c-.78.78-.78 2.05 0 2.83L4 21.41c.39.39.9.59 1.41.59.51 0 1.02-.2 1.41-.59l7.78-7.78 2.81-2.81c.8-.78.8-2.07 0-2.86zM5.41 20L4 18.59l7.72-7.72 1.47 1.35L5.41 20z\"/>\n",
              "  </svg>\n",
              "      </button>\n",
              "      \n",
              "  <style>\n",
              "    .colab-df-container {\n",
              "      display:flex;\n",
              "      flex-wrap:wrap;\n",
              "      gap: 12px;\n",
              "    }\n",
              "\n",
              "    .colab-df-convert {\n",
              "      background-color: #E8F0FE;\n",
              "      border: none;\n",
              "      border-radius: 50%;\n",
              "      cursor: pointer;\n",
              "      display: none;\n",
              "      fill: #1967D2;\n",
              "      height: 32px;\n",
              "      padding: 0 0 0 0;\n",
              "      width: 32px;\n",
              "    }\n",
              "\n",
              "    .colab-df-convert:hover {\n",
              "      background-color: #E2EBFA;\n",
              "      box-shadow: 0px 1px 2px rgba(60, 64, 67, 0.3), 0px 1px 3px 1px rgba(60, 64, 67, 0.15);\n",
              "      fill: #174EA6;\n",
              "    }\n",
              "\n",
              "    [theme=dark] .colab-df-convert {\n",
              "      background-color: #3B4455;\n",
              "      fill: #D2E3FC;\n",
              "    }\n",
              "\n",
              "    [theme=dark] .colab-df-convert:hover {\n",
              "      background-color: #434B5C;\n",
              "      box-shadow: 0px 1px 3px 1px rgba(0, 0, 0, 0.15);\n",
              "      filter: drop-shadow(0px 1px 2px rgba(0, 0, 0, 0.3));\n",
              "      fill: #FFFFFF;\n",
              "    }\n",
              "  </style>\n",
              "\n",
              "      <script>\n",
              "        const buttonEl =\n",
              "          document.querySelector('#df-c57318cb-f43a-41a6-b212-d3a9d018b5cb button.colab-df-convert');\n",
              "        buttonEl.style.display =\n",
              "          google.colab.kernel.accessAllowed ? 'block' : 'none';\n",
              "\n",
              "        async function convertToInteractive(key) {\n",
              "          const element = document.querySelector('#df-c57318cb-f43a-41a6-b212-d3a9d018b5cb');\n",
              "          const dataTable =\n",
              "            await google.colab.kernel.invokeFunction('convertToInteractive',\n",
              "                                                     [key], {});\n",
              "          if (!dataTable) return;\n",
              "\n",
              "          const docLinkHtml = 'Like what you see? Visit the ' +\n",
              "            '<a target=\"_blank\" href=https://colab.research.google.com/notebooks/data_table.ipynb>data table notebook</a>'\n",
              "            + ' to learn more about interactive tables.';\n",
              "          element.innerHTML = '';\n",
              "          dataTable['output_type'] = 'display_data';\n",
              "          await google.colab.output.renderOutput(dataTable, element);\n",
              "          const docLink = document.createElement('div');\n",
              "          docLink.innerHTML = docLinkHtml;\n",
              "          element.appendChild(docLink);\n",
              "        }\n",
              "      </script>\n",
              "    </div>\n",
              "  </div>\n",
              "  "
            ]
          },
          "metadata": {},
          "execution_count": 596
        }
      ]
    },
    {
      "cell_type": "code",
      "source": [
        "# 4) check the remaining NULL \n",
        "miss_dic = test_df.isnull().sum().to_dict()\n",
        "check = {i for i in miss_dic if miss_dic[i]>0}\n",
        "check  # all_NaN features name in list   "
      ],
      "metadata": {
        "colab": {
          "base_uri": "https://localhost:8080/"
        },
        "outputId": "1aa37b63-1cee-4ffb-fd7a-0dd3a6c75ddb",
        "id": "P-vVEt6EHe7p"
      },
      "execution_count": 597,
      "outputs": [
        {
          "output_type": "execute_result",
          "data": {
            "text/plain": [
              "set()"
            ]
          },
          "metadata": {},
          "execution_count": 597
        }
      ]
    },
    {
      "cell_type": "code",
      "source": [
        "# outlier (replace 1Q, 3Q with MEDIAN)\n",
        "xs = list(test_df.iloc[:, 6:].columns)\n",
        "def outlier(df):\n",
        "    for col in xs: \n",
        "        q1 = test_df[col].quantile(0.25)\n",
        "        q3 = test_df[col].quantile(0.75)\n",
        "        median = test_df[col].quantile(0.50)\n",
        "\n",
        "        test_df[col] = np.where(test_df[col]>q3, median, test_df[col])\n",
        "\n",
        "test_df.describe()"
      ],
      "metadata": {
        "colab": {
          "base_uri": "https://localhost:8080/",
          "height": 394
        },
        "outputId": "6d5634f2-07a3-49ce-bb2b-24e50245ce75",
        "id": "skEOybzqBQy6"
      },
      "execution_count": 593,
      "outputs": [
        {
          "output_type": "execute_result",
          "data": {
            "text/plain": [
              "              X_1         X_2    X_3    X_4         X_5    X_6         X_7  \\\n",
              "count  243.000000  243.000000  310.0  310.0  310.000000  310.0  310.000000   \n",
              "mean     4.337449   94.448560    0.0   45.0   10.271605    0.0   48.485597   \n",
              "std     16.624229    4.062582    0.0    0.0    0.394436    0.0    3.303768   \n",
              "min      1.000000   87.000000    0.0   45.0   10.000000    0.0   45.000000   \n",
              "25%      2.000000   91.000000    0.0   45.0   10.000000    0.0   45.000000   \n",
              "50%      2.000000   95.000000    0.0   45.0   10.000000    0.0   48.485597   \n",
              "75%      2.000000   97.000000    0.0   45.0   10.271605    0.0   50.000000   \n",
              "max    154.000000  102.000000    0.0   45.0   11.000000    0.0   67.000000   \n",
              "\n",
              "              X_8         X_9   X_10  ...      X_2867      X_2868      X_2869  \\\n",
              "count  310.000000  310.000000  310.0  ...  310.000000  310.000000  310.000000   \n",
              "mean    10.012346   42.407407    2.0  ...   53.014706   49.994412   54.202353   \n",
              "std      0.097923    9.276526    0.0  ...    1.448128    1.998771    1.117486   \n",
              "min     10.000000   31.000000    2.0  ...   41.630000   39.850000   47.820000   \n",
              "25%     10.000000   31.000000    2.0  ...   53.014706   49.994412   54.202353   \n",
              "50%     10.000000   42.407407    2.0  ...   53.014706   49.994412   54.202353   \n",
              "75%     10.000000   52.000000    2.0  ...   53.014706   49.994412   54.202353   \n",
              "max     11.000000   52.000000    2.0  ...   60.490000   60.310000   58.290000   \n",
              "\n",
              "           X_2870      X_2871      X_2872      X_2873      X_2874      X_2875  \\\n",
              "count  310.000000  310.000000  310.000000  310.000000  310.000000  310.000000   \n",
              "mean    63.806176    0.974359  247.988889  251.888889  243.300000  228.844444   \n",
              "std      0.628799    0.056154    4.097781    3.230763    5.715889    3.139910   \n",
              "min     60.720000    0.000000  199.000000  214.600000  169.700000  191.900000   \n",
              "25%     63.806176    0.974359  247.988889  251.888889  243.300000  228.844444   \n",
              "50%     63.806176    0.974359  247.988889  251.888889  243.300000  228.844444   \n",
              "75%     63.806176    0.974359  247.988889  251.888889  243.300000  228.844444   \n",
              "max     67.240000    1.000000  268.000000  278.600000  271.400000  245.600000   \n",
              "\n",
              "       line_pcode  \n",
              "count  310.000000  \n",
              "mean     5.138710  \n",
              "std      2.064522  \n",
              "min      0.000000  \n",
              "25%      5.000000  \n",
              "50%      5.000000  \n",
              "75%      7.000000  \n",
              "max      7.000000  \n",
              "\n",
              "[8 rows x 2876 columns]"
            ],
            "text/html": [
              "\n",
              "  <div id=\"df-7c61e671-90e2-46a2-99a2-e86bce3c1455\">\n",
              "    <div class=\"colab-df-container\">\n",
              "      <div>\n",
              "<style scoped>\n",
              "    .dataframe tbody tr th:only-of-type {\n",
              "        vertical-align: middle;\n",
              "    }\n",
              "\n",
              "    .dataframe tbody tr th {\n",
              "        vertical-align: top;\n",
              "    }\n",
              "\n",
              "    .dataframe thead th {\n",
              "        text-align: right;\n",
              "    }\n",
              "</style>\n",
              "<table border=\"1\" class=\"dataframe\">\n",
              "  <thead>\n",
              "    <tr style=\"text-align: right;\">\n",
              "      <th></th>\n",
              "      <th>X_1</th>\n",
              "      <th>X_2</th>\n",
              "      <th>X_3</th>\n",
              "      <th>X_4</th>\n",
              "      <th>X_5</th>\n",
              "      <th>X_6</th>\n",
              "      <th>X_7</th>\n",
              "      <th>X_8</th>\n",
              "      <th>X_9</th>\n",
              "      <th>X_10</th>\n",
              "      <th>...</th>\n",
              "      <th>X_2867</th>\n",
              "      <th>X_2868</th>\n",
              "      <th>X_2869</th>\n",
              "      <th>X_2870</th>\n",
              "      <th>X_2871</th>\n",
              "      <th>X_2872</th>\n",
              "      <th>X_2873</th>\n",
              "      <th>X_2874</th>\n",
              "      <th>X_2875</th>\n",
              "      <th>line_pcode</th>\n",
              "    </tr>\n",
              "  </thead>\n",
              "  <tbody>\n",
              "    <tr>\n",
              "      <th>count</th>\n",
              "      <td>243.000000</td>\n",
              "      <td>243.000000</td>\n",
              "      <td>310.0</td>\n",
              "      <td>310.0</td>\n",
              "      <td>310.000000</td>\n",
              "      <td>310.0</td>\n",
              "      <td>310.000000</td>\n",
              "      <td>310.000000</td>\n",
              "      <td>310.000000</td>\n",
              "      <td>310.0</td>\n",
              "      <td>...</td>\n",
              "      <td>310.000000</td>\n",
              "      <td>310.000000</td>\n",
              "      <td>310.000000</td>\n",
              "      <td>310.000000</td>\n",
              "      <td>310.000000</td>\n",
              "      <td>310.000000</td>\n",
              "      <td>310.000000</td>\n",
              "      <td>310.000000</td>\n",
              "      <td>310.000000</td>\n",
              "      <td>310.000000</td>\n",
              "    </tr>\n",
              "    <tr>\n",
              "      <th>mean</th>\n",
              "      <td>4.337449</td>\n",
              "      <td>94.448560</td>\n",
              "      <td>0.0</td>\n",
              "      <td>45.0</td>\n",
              "      <td>10.271605</td>\n",
              "      <td>0.0</td>\n",
              "      <td>48.485597</td>\n",
              "      <td>10.012346</td>\n",
              "      <td>42.407407</td>\n",
              "      <td>2.0</td>\n",
              "      <td>...</td>\n",
              "      <td>53.014706</td>\n",
              "      <td>49.994412</td>\n",
              "      <td>54.202353</td>\n",
              "      <td>63.806176</td>\n",
              "      <td>0.974359</td>\n",
              "      <td>247.988889</td>\n",
              "      <td>251.888889</td>\n",
              "      <td>243.300000</td>\n",
              "      <td>228.844444</td>\n",
              "      <td>5.138710</td>\n",
              "    </tr>\n",
              "    <tr>\n",
              "      <th>std</th>\n",
              "      <td>16.624229</td>\n",
              "      <td>4.062582</td>\n",
              "      <td>0.0</td>\n",
              "      <td>0.0</td>\n",
              "      <td>0.394436</td>\n",
              "      <td>0.0</td>\n",
              "      <td>3.303768</td>\n",
              "      <td>0.097923</td>\n",
              "      <td>9.276526</td>\n",
              "      <td>0.0</td>\n",
              "      <td>...</td>\n",
              "      <td>1.448128</td>\n",
              "      <td>1.998771</td>\n",
              "      <td>1.117486</td>\n",
              "      <td>0.628799</td>\n",
              "      <td>0.056154</td>\n",
              "      <td>4.097781</td>\n",
              "      <td>3.230763</td>\n",
              "      <td>5.715889</td>\n",
              "      <td>3.139910</td>\n",
              "      <td>2.064522</td>\n",
              "    </tr>\n",
              "    <tr>\n",
              "      <th>min</th>\n",
              "      <td>1.000000</td>\n",
              "      <td>87.000000</td>\n",
              "      <td>0.0</td>\n",
              "      <td>45.0</td>\n",
              "      <td>10.000000</td>\n",
              "      <td>0.0</td>\n",
              "      <td>45.000000</td>\n",
              "      <td>10.000000</td>\n",
              "      <td>31.000000</td>\n",
              "      <td>2.0</td>\n",
              "      <td>...</td>\n",
              "      <td>41.630000</td>\n",
              "      <td>39.850000</td>\n",
              "      <td>47.820000</td>\n",
              "      <td>60.720000</td>\n",
              "      <td>0.000000</td>\n",
              "      <td>199.000000</td>\n",
              "      <td>214.600000</td>\n",
              "      <td>169.700000</td>\n",
              "      <td>191.900000</td>\n",
              "      <td>0.000000</td>\n",
              "    </tr>\n",
              "    <tr>\n",
              "      <th>25%</th>\n",
              "      <td>2.000000</td>\n",
              "      <td>91.000000</td>\n",
              "      <td>0.0</td>\n",
              "      <td>45.0</td>\n",
              "      <td>10.000000</td>\n",
              "      <td>0.0</td>\n",
              "      <td>45.000000</td>\n",
              "      <td>10.000000</td>\n",
              "      <td>31.000000</td>\n",
              "      <td>2.0</td>\n",
              "      <td>...</td>\n",
              "      <td>53.014706</td>\n",
              "      <td>49.994412</td>\n",
              "      <td>54.202353</td>\n",
              "      <td>63.806176</td>\n",
              "      <td>0.974359</td>\n",
              "      <td>247.988889</td>\n",
              "      <td>251.888889</td>\n",
              "      <td>243.300000</td>\n",
              "      <td>228.844444</td>\n",
              "      <td>5.000000</td>\n",
              "    </tr>\n",
              "    <tr>\n",
              "      <th>50%</th>\n",
              "      <td>2.000000</td>\n",
              "      <td>95.000000</td>\n",
              "      <td>0.0</td>\n",
              "      <td>45.0</td>\n",
              "      <td>10.000000</td>\n",
              "      <td>0.0</td>\n",
              "      <td>48.485597</td>\n",
              "      <td>10.000000</td>\n",
              "      <td>42.407407</td>\n",
              "      <td>2.0</td>\n",
              "      <td>...</td>\n",
              "      <td>53.014706</td>\n",
              "      <td>49.994412</td>\n",
              "      <td>54.202353</td>\n",
              "      <td>63.806176</td>\n",
              "      <td>0.974359</td>\n",
              "      <td>247.988889</td>\n",
              "      <td>251.888889</td>\n",
              "      <td>243.300000</td>\n",
              "      <td>228.844444</td>\n",
              "      <td>5.000000</td>\n",
              "    </tr>\n",
              "    <tr>\n",
              "      <th>75%</th>\n",
              "      <td>2.000000</td>\n",
              "      <td>97.000000</td>\n",
              "      <td>0.0</td>\n",
              "      <td>45.0</td>\n",
              "      <td>10.271605</td>\n",
              "      <td>0.0</td>\n",
              "      <td>50.000000</td>\n",
              "      <td>10.000000</td>\n",
              "      <td>52.000000</td>\n",
              "      <td>2.0</td>\n",
              "      <td>...</td>\n",
              "      <td>53.014706</td>\n",
              "      <td>49.994412</td>\n",
              "      <td>54.202353</td>\n",
              "      <td>63.806176</td>\n",
              "      <td>0.974359</td>\n",
              "      <td>247.988889</td>\n",
              "      <td>251.888889</td>\n",
              "      <td>243.300000</td>\n",
              "      <td>228.844444</td>\n",
              "      <td>7.000000</td>\n",
              "    </tr>\n",
              "    <tr>\n",
              "      <th>max</th>\n",
              "      <td>154.000000</td>\n",
              "      <td>102.000000</td>\n",
              "      <td>0.0</td>\n",
              "      <td>45.0</td>\n",
              "      <td>11.000000</td>\n",
              "      <td>0.0</td>\n",
              "      <td>67.000000</td>\n",
              "      <td>11.000000</td>\n",
              "      <td>52.000000</td>\n",
              "      <td>2.0</td>\n",
              "      <td>...</td>\n",
              "      <td>60.490000</td>\n",
              "      <td>60.310000</td>\n",
              "      <td>58.290000</td>\n",
              "      <td>67.240000</td>\n",
              "      <td>1.000000</td>\n",
              "      <td>268.000000</td>\n",
              "      <td>278.600000</td>\n",
              "      <td>271.400000</td>\n",
              "      <td>245.600000</td>\n",
              "      <td>7.000000</td>\n",
              "    </tr>\n",
              "  </tbody>\n",
              "</table>\n",
              "<p>8 rows × 2876 columns</p>\n",
              "</div>\n",
              "      <button class=\"colab-df-convert\" onclick=\"convertToInteractive('df-7c61e671-90e2-46a2-99a2-e86bce3c1455')\"\n",
              "              title=\"Convert this dataframe to an interactive table.\"\n",
              "              style=\"display:none;\">\n",
              "        \n",
              "  <svg xmlns=\"http://www.w3.org/2000/svg\" height=\"24px\"viewBox=\"0 0 24 24\"\n",
              "       width=\"24px\">\n",
              "    <path d=\"M0 0h24v24H0V0z\" fill=\"none\"/>\n",
              "    <path d=\"M18.56 5.44l.94 2.06.94-2.06 2.06-.94-2.06-.94-.94-2.06-.94 2.06-2.06.94zm-11 1L8.5 8.5l.94-2.06 2.06-.94-2.06-.94L8.5 2.5l-.94 2.06-2.06.94zm10 10l.94 2.06.94-2.06 2.06-.94-2.06-.94-.94-2.06-.94 2.06-2.06.94z\"/><path d=\"M17.41 7.96l-1.37-1.37c-.4-.4-.92-.59-1.43-.59-.52 0-1.04.2-1.43.59L10.3 9.45l-7.72 7.72c-.78.78-.78 2.05 0 2.83L4 21.41c.39.39.9.59 1.41.59.51 0 1.02-.2 1.41-.59l7.78-7.78 2.81-2.81c.8-.78.8-2.07 0-2.86zM5.41 20L4 18.59l7.72-7.72 1.47 1.35L5.41 20z\"/>\n",
              "  </svg>\n",
              "      </button>\n",
              "      \n",
              "  <style>\n",
              "    .colab-df-container {\n",
              "      display:flex;\n",
              "      flex-wrap:wrap;\n",
              "      gap: 12px;\n",
              "    }\n",
              "\n",
              "    .colab-df-convert {\n",
              "      background-color: #E8F0FE;\n",
              "      border: none;\n",
              "      border-radius: 50%;\n",
              "      cursor: pointer;\n",
              "      display: none;\n",
              "      fill: #1967D2;\n",
              "      height: 32px;\n",
              "      padding: 0 0 0 0;\n",
              "      width: 32px;\n",
              "    }\n",
              "\n",
              "    .colab-df-convert:hover {\n",
              "      background-color: #E2EBFA;\n",
              "      box-shadow: 0px 1px 2px rgba(60, 64, 67, 0.3), 0px 1px 3px 1px rgba(60, 64, 67, 0.15);\n",
              "      fill: #174EA6;\n",
              "    }\n",
              "\n",
              "    [theme=dark] .colab-df-convert {\n",
              "      background-color: #3B4455;\n",
              "      fill: #D2E3FC;\n",
              "    }\n",
              "\n",
              "    [theme=dark] .colab-df-convert:hover {\n",
              "      background-color: #434B5C;\n",
              "      box-shadow: 0px 1px 3px 1px rgba(0, 0, 0, 0.15);\n",
              "      filter: drop-shadow(0px 1px 2px rgba(0, 0, 0, 0.3));\n",
              "      fill: #FFFFFF;\n",
              "    }\n",
              "  </style>\n",
              "\n",
              "      <script>\n",
              "        const buttonEl =\n",
              "          document.querySelector('#df-7c61e671-90e2-46a2-99a2-e86bce3c1455 button.colab-df-convert');\n",
              "        buttonEl.style.display =\n",
              "          google.colab.kernel.accessAllowed ? 'block' : 'none';\n",
              "\n",
              "        async function convertToInteractive(key) {\n",
              "          const element = document.querySelector('#df-7c61e671-90e2-46a2-99a2-e86bce3c1455');\n",
              "          const dataTable =\n",
              "            await google.colab.kernel.invokeFunction('convertToInteractive',\n",
              "                                                     [key], {});\n",
              "          if (!dataTable) return;\n",
              "\n",
              "          const docLinkHtml = 'Like what you see? Visit the ' +\n",
              "            '<a target=\"_blank\" href=https://colab.research.google.com/notebooks/data_table.ipynb>data table notebook</a>'\n",
              "            + ' to learn more about interactive tables.';\n",
              "          element.innerHTML = '';\n",
              "          dataTable['output_type'] = 'display_data';\n",
              "          await google.colab.output.renderOutput(dataTable, element);\n",
              "          const docLink = document.createElement('div');\n",
              "          docLink.innerHTML = docLinkHtml;\n",
              "          element.appendChild(docLink);\n",
              "        }\n",
              "      </script>\n",
              "    </div>\n",
              "  </div>\n",
              "  "
            ]
          },
          "metadata": {},
          "execution_count": 593
        }
      ]
    },
    {
      "cell_type": "markdown",
      "source": [
        "# 2.Modeling_ML"
      ],
      "metadata": {
        "id": "7GodRp6O-5TM"
      }
    },
    {
      "cell_type": "code",
      "source": [
        "train_df['Y_Class'] = train_df['Y_Class'].astype(float)\n",
        "X_train = train_df.drop(columns=['Y_Class','Y_Quality'])\n",
        "y_train = train_df['Y_Quality']\n",
        "\n",
        "test_x = test_df"
      ],
      "metadata": {
        "id": "mtzzkA9n_flg"
      },
      "execution_count": 427,
      "outputs": []
    },
    {
      "cell_type": "code",
      "source": [
        "test_x.isnull().sum()"
      ],
      "metadata": {
        "colab": {
          "base_uri": "https://localhost:8080/"
        },
        "outputId": "66aef5b0-dd94-417c-cf22-2926b279ef30",
        "id": "TTEMi25a_fli"
      },
      "execution_count": 337,
      "outputs": [
        {
          "output_type": "execute_result",
          "data": {
            "text/plain": [
              "X_1           0\n",
              "X_2           0\n",
              "X_3           0\n",
              "X_4           0\n",
              "X_5           0\n",
              "             ..\n",
              "X_2872        0\n",
              "X_2873        0\n",
              "X_2874        0\n",
              "X_2875        0\n",
              "line_pcode    0\n",
              "Length: 2876, dtype: int64"
            ]
          },
          "metadata": {},
          "execution_count": 337
        }
      ]
    },
    {
      "cell_type": "markdown",
      "source": [
        "## Y_Quality 예측"
      ],
      "metadata": {
        "id": "Aveyf4DbuLHD"
      }
    },
    {
      "cell_type": "code",
      "source": [
        "from sklearn.ensemble import GradientBoostingRegressor   \n",
        "\n",
        "RF = GradientBoostingRegressor(random_state=37).fit(X_train, y_train) \n",
        "print('Done.') "
      ],
      "metadata": {
        "id": "U7pCY5HPsv4Q",
        "colab": {
          "base_uri": "https://localhost:8080/"
        },
        "outputId": "449d1a73-95e0-4dd8-98fb-f9eed20c0d21"
      },
      "execution_count": 338,
      "outputs": [
        {
          "output_type": "stream",
          "name": "stdout",
          "text": [
            "Done.\n"
          ]
        }
      ]
    },
    {
      "cell_type": "code",
      "source": [
        "preds=RF.predict(test_x)  \n",
        "print('Done.')"
      ],
      "metadata": {
        "colab": {
          "base_uri": "https://localhost:8080/"
        },
        "outputId": "8bae4ee4-d71a-4b4a-94f7-1fec444c3c69",
        "id": "Hpn3cF6CVVgM"
      },
      "execution_count": 339,
      "outputs": [
        {
          "output_type": "stream",
          "name": "stdout",
          "text": [
            "Done.\n"
          ]
        }
      ]
    },
    {
      "cell_type": "code",
      "source": [
        "test_x['Y_Quality'] = preds\n",
        "test_x  "
      ],
      "metadata": {
        "colab": {
          "base_uri": "https://localhost:8080/",
          "height": 488
        },
        "outputId": "c6b2566f-979a-4f68-92ad-56fe410f2e66",
        "id": "xPXPRUoYVVgM"
      },
      "execution_count": 340,
      "outputs": [
        {
          "output_type": "execute_result",
          "data": {
            "text/plain": [
              "          X_1       X_2  X_3   X_4        X_5  X_6        X_7        X_8  \\\n",
              "0    2.000000  94.00000  0.0  45.0  10.000000  0.0  51.000000  10.000000   \n",
              "1    2.000000  93.00000  0.0  45.0  11.000000  0.0  45.000000  10.000000   \n",
              "2    2.000000  95.00000  0.0  45.0  11.000000  0.0  45.000000  10.000000   \n",
              "3    4.337449  94.44856  0.0  45.0  10.271605  0.0  48.485597  10.012346   \n",
              "4    4.337449  94.44856  0.0  45.0  10.271605  0.0  48.485597  10.012346   \n",
              "..        ...       ...  ...   ...        ...  ...        ...        ...   \n",
              "305  2.000000  91.00000  0.0  45.0  10.000000  0.0  51.000000  10.000000   \n",
              "306  2.000000  96.00000  0.0  45.0  11.000000  0.0  45.000000  10.000000   \n",
              "307  2.000000  91.00000  0.0  45.0  10.000000  0.0  50.000000  10.000000   \n",
              "308  2.000000  95.00000  0.0  45.0  10.000000  0.0  51.000000  10.000000   \n",
              "309  2.000000  87.00000  0.0  45.0  10.000000  0.0  51.000000  10.000000   \n",
              "\n",
              "           X_9  X_10  ...     X_2868     X_2869     X_2870    X_2871  \\\n",
              "0    52.000000   2.0  ...  49.994412  54.202353  63.806176  0.974359   \n",
              "1    31.000000   2.0  ...  49.994412  54.202353  63.806176  0.974359   \n",
              "2    31.000000   2.0  ...  49.994412  54.202353  63.806176  0.974359   \n",
              "3    42.407407   2.0  ...  49.994412  54.202353  63.806176  0.974359   \n",
              "4    42.407407   2.0  ...  49.994412  54.202353  63.806176  0.974359   \n",
              "..         ...   ...  ...        ...        ...        ...       ...   \n",
              "305  52.000000   2.0  ...  49.994412  54.202353  63.806176  0.974359   \n",
              "306  31.000000   2.0  ...  49.994412  54.202353  63.806176  0.974359   \n",
              "307  52.000000   2.0  ...  49.994412  54.202353  63.806176  0.974359   \n",
              "308  52.000000   2.0  ...  49.994412  54.202353  63.806176  0.974359   \n",
              "309  52.000000   2.0  ...  49.994412  54.202353  63.806176  0.974359   \n",
              "\n",
              "         X_2872      X_2873  X_2874      X_2875  line_pcode  Y_Quality  \n",
              "0    247.988889  251.888889   243.3  228.844444           7   0.529572  \n",
              "1    247.988889  251.888889   243.3  228.844444           5   0.526419  \n",
              "2    247.988889  251.888889   243.3  228.844444           5   0.527665  \n",
              "3    247.988889  251.888889   243.3  228.844444           0   0.524745  \n",
              "4    247.988889  251.888889   243.3  228.844444           1   0.532461  \n",
              "..          ...         ...     ...         ...         ...        ...  \n",
              "305  247.988889  251.888889   243.3  228.844444           7   0.529465  \n",
              "306  247.988889  251.888889   243.3  228.844444           5   0.527537  \n",
              "307  247.988889  251.888889   243.3  228.844444           7   0.529178  \n",
              "308  247.988889  251.888889   243.3  228.844444           7   0.529647  \n",
              "309  247.988889  251.888889   243.3  228.844444           7   0.529542  \n",
              "\n",
              "[310 rows x 2877 columns]"
            ],
            "text/html": [
              "\n",
              "  <div id=\"df-1cecf377-2b08-4971-b895-8b9b6c0c5890\">\n",
              "    <div class=\"colab-df-container\">\n",
              "      <div>\n",
              "<style scoped>\n",
              "    .dataframe tbody tr th:only-of-type {\n",
              "        vertical-align: middle;\n",
              "    }\n",
              "\n",
              "    .dataframe tbody tr th {\n",
              "        vertical-align: top;\n",
              "    }\n",
              "\n",
              "    .dataframe thead th {\n",
              "        text-align: right;\n",
              "    }\n",
              "</style>\n",
              "<table border=\"1\" class=\"dataframe\">\n",
              "  <thead>\n",
              "    <tr style=\"text-align: right;\">\n",
              "      <th></th>\n",
              "      <th>X_1</th>\n",
              "      <th>X_2</th>\n",
              "      <th>X_3</th>\n",
              "      <th>X_4</th>\n",
              "      <th>X_5</th>\n",
              "      <th>X_6</th>\n",
              "      <th>X_7</th>\n",
              "      <th>X_8</th>\n",
              "      <th>X_9</th>\n",
              "      <th>X_10</th>\n",
              "      <th>...</th>\n",
              "      <th>X_2868</th>\n",
              "      <th>X_2869</th>\n",
              "      <th>X_2870</th>\n",
              "      <th>X_2871</th>\n",
              "      <th>X_2872</th>\n",
              "      <th>X_2873</th>\n",
              "      <th>X_2874</th>\n",
              "      <th>X_2875</th>\n",
              "      <th>line_pcode</th>\n",
              "      <th>Y_Quality</th>\n",
              "    </tr>\n",
              "  </thead>\n",
              "  <tbody>\n",
              "    <tr>\n",
              "      <th>0</th>\n",
              "      <td>2.000000</td>\n",
              "      <td>94.00000</td>\n",
              "      <td>0.0</td>\n",
              "      <td>45.0</td>\n",
              "      <td>10.000000</td>\n",
              "      <td>0.0</td>\n",
              "      <td>51.000000</td>\n",
              "      <td>10.000000</td>\n",
              "      <td>52.000000</td>\n",
              "      <td>2.0</td>\n",
              "      <td>...</td>\n",
              "      <td>49.994412</td>\n",
              "      <td>54.202353</td>\n",
              "      <td>63.806176</td>\n",
              "      <td>0.974359</td>\n",
              "      <td>247.988889</td>\n",
              "      <td>251.888889</td>\n",
              "      <td>243.3</td>\n",
              "      <td>228.844444</td>\n",
              "      <td>7</td>\n",
              "      <td>0.529572</td>\n",
              "    </tr>\n",
              "    <tr>\n",
              "      <th>1</th>\n",
              "      <td>2.000000</td>\n",
              "      <td>93.00000</td>\n",
              "      <td>0.0</td>\n",
              "      <td>45.0</td>\n",
              "      <td>11.000000</td>\n",
              "      <td>0.0</td>\n",
              "      <td>45.000000</td>\n",
              "      <td>10.000000</td>\n",
              "      <td>31.000000</td>\n",
              "      <td>2.0</td>\n",
              "      <td>...</td>\n",
              "      <td>49.994412</td>\n",
              "      <td>54.202353</td>\n",
              "      <td>63.806176</td>\n",
              "      <td>0.974359</td>\n",
              "      <td>247.988889</td>\n",
              "      <td>251.888889</td>\n",
              "      <td>243.3</td>\n",
              "      <td>228.844444</td>\n",
              "      <td>5</td>\n",
              "      <td>0.526419</td>\n",
              "    </tr>\n",
              "    <tr>\n",
              "      <th>2</th>\n",
              "      <td>2.000000</td>\n",
              "      <td>95.00000</td>\n",
              "      <td>0.0</td>\n",
              "      <td>45.0</td>\n",
              "      <td>11.000000</td>\n",
              "      <td>0.0</td>\n",
              "      <td>45.000000</td>\n",
              "      <td>10.000000</td>\n",
              "      <td>31.000000</td>\n",
              "      <td>2.0</td>\n",
              "      <td>...</td>\n",
              "      <td>49.994412</td>\n",
              "      <td>54.202353</td>\n",
              "      <td>63.806176</td>\n",
              "      <td>0.974359</td>\n",
              "      <td>247.988889</td>\n",
              "      <td>251.888889</td>\n",
              "      <td>243.3</td>\n",
              "      <td>228.844444</td>\n",
              "      <td>5</td>\n",
              "      <td>0.527665</td>\n",
              "    </tr>\n",
              "    <tr>\n",
              "      <th>3</th>\n",
              "      <td>4.337449</td>\n",
              "      <td>94.44856</td>\n",
              "      <td>0.0</td>\n",
              "      <td>45.0</td>\n",
              "      <td>10.271605</td>\n",
              "      <td>0.0</td>\n",
              "      <td>48.485597</td>\n",
              "      <td>10.012346</td>\n",
              "      <td>42.407407</td>\n",
              "      <td>2.0</td>\n",
              "      <td>...</td>\n",
              "      <td>49.994412</td>\n",
              "      <td>54.202353</td>\n",
              "      <td>63.806176</td>\n",
              "      <td>0.974359</td>\n",
              "      <td>247.988889</td>\n",
              "      <td>251.888889</td>\n",
              "      <td>243.3</td>\n",
              "      <td>228.844444</td>\n",
              "      <td>0</td>\n",
              "      <td>0.524745</td>\n",
              "    </tr>\n",
              "    <tr>\n",
              "      <th>4</th>\n",
              "      <td>4.337449</td>\n",
              "      <td>94.44856</td>\n",
              "      <td>0.0</td>\n",
              "      <td>45.0</td>\n",
              "      <td>10.271605</td>\n",
              "      <td>0.0</td>\n",
              "      <td>48.485597</td>\n",
              "      <td>10.012346</td>\n",
              "      <td>42.407407</td>\n",
              "      <td>2.0</td>\n",
              "      <td>...</td>\n",
              "      <td>49.994412</td>\n",
              "      <td>54.202353</td>\n",
              "      <td>63.806176</td>\n",
              "      <td>0.974359</td>\n",
              "      <td>247.988889</td>\n",
              "      <td>251.888889</td>\n",
              "      <td>243.3</td>\n",
              "      <td>228.844444</td>\n",
              "      <td>1</td>\n",
              "      <td>0.532461</td>\n",
              "    </tr>\n",
              "    <tr>\n",
              "      <th>...</th>\n",
              "      <td>...</td>\n",
              "      <td>...</td>\n",
              "      <td>...</td>\n",
              "      <td>...</td>\n",
              "      <td>...</td>\n",
              "      <td>...</td>\n",
              "      <td>...</td>\n",
              "      <td>...</td>\n",
              "      <td>...</td>\n",
              "      <td>...</td>\n",
              "      <td>...</td>\n",
              "      <td>...</td>\n",
              "      <td>...</td>\n",
              "      <td>...</td>\n",
              "      <td>...</td>\n",
              "      <td>...</td>\n",
              "      <td>...</td>\n",
              "      <td>...</td>\n",
              "      <td>...</td>\n",
              "      <td>...</td>\n",
              "      <td>...</td>\n",
              "    </tr>\n",
              "    <tr>\n",
              "      <th>305</th>\n",
              "      <td>2.000000</td>\n",
              "      <td>91.00000</td>\n",
              "      <td>0.0</td>\n",
              "      <td>45.0</td>\n",
              "      <td>10.000000</td>\n",
              "      <td>0.0</td>\n",
              "      <td>51.000000</td>\n",
              "      <td>10.000000</td>\n",
              "      <td>52.000000</td>\n",
              "      <td>2.0</td>\n",
              "      <td>...</td>\n",
              "      <td>49.994412</td>\n",
              "      <td>54.202353</td>\n",
              "      <td>63.806176</td>\n",
              "      <td>0.974359</td>\n",
              "      <td>247.988889</td>\n",
              "      <td>251.888889</td>\n",
              "      <td>243.3</td>\n",
              "      <td>228.844444</td>\n",
              "      <td>7</td>\n",
              "      <td>0.529465</td>\n",
              "    </tr>\n",
              "    <tr>\n",
              "      <th>306</th>\n",
              "      <td>2.000000</td>\n",
              "      <td>96.00000</td>\n",
              "      <td>0.0</td>\n",
              "      <td>45.0</td>\n",
              "      <td>11.000000</td>\n",
              "      <td>0.0</td>\n",
              "      <td>45.000000</td>\n",
              "      <td>10.000000</td>\n",
              "      <td>31.000000</td>\n",
              "      <td>2.0</td>\n",
              "      <td>...</td>\n",
              "      <td>49.994412</td>\n",
              "      <td>54.202353</td>\n",
              "      <td>63.806176</td>\n",
              "      <td>0.974359</td>\n",
              "      <td>247.988889</td>\n",
              "      <td>251.888889</td>\n",
              "      <td>243.3</td>\n",
              "      <td>228.844444</td>\n",
              "      <td>5</td>\n",
              "      <td>0.527537</td>\n",
              "    </tr>\n",
              "    <tr>\n",
              "      <th>307</th>\n",
              "      <td>2.000000</td>\n",
              "      <td>91.00000</td>\n",
              "      <td>0.0</td>\n",
              "      <td>45.0</td>\n",
              "      <td>10.000000</td>\n",
              "      <td>0.0</td>\n",
              "      <td>50.000000</td>\n",
              "      <td>10.000000</td>\n",
              "      <td>52.000000</td>\n",
              "      <td>2.0</td>\n",
              "      <td>...</td>\n",
              "      <td>49.994412</td>\n",
              "      <td>54.202353</td>\n",
              "      <td>63.806176</td>\n",
              "      <td>0.974359</td>\n",
              "      <td>247.988889</td>\n",
              "      <td>251.888889</td>\n",
              "      <td>243.3</td>\n",
              "      <td>228.844444</td>\n",
              "      <td>7</td>\n",
              "      <td>0.529178</td>\n",
              "    </tr>\n",
              "    <tr>\n",
              "      <th>308</th>\n",
              "      <td>2.000000</td>\n",
              "      <td>95.00000</td>\n",
              "      <td>0.0</td>\n",
              "      <td>45.0</td>\n",
              "      <td>10.000000</td>\n",
              "      <td>0.0</td>\n",
              "      <td>51.000000</td>\n",
              "      <td>10.000000</td>\n",
              "      <td>52.000000</td>\n",
              "      <td>2.0</td>\n",
              "      <td>...</td>\n",
              "      <td>49.994412</td>\n",
              "      <td>54.202353</td>\n",
              "      <td>63.806176</td>\n",
              "      <td>0.974359</td>\n",
              "      <td>247.988889</td>\n",
              "      <td>251.888889</td>\n",
              "      <td>243.3</td>\n",
              "      <td>228.844444</td>\n",
              "      <td>7</td>\n",
              "      <td>0.529647</td>\n",
              "    </tr>\n",
              "    <tr>\n",
              "      <th>309</th>\n",
              "      <td>2.000000</td>\n",
              "      <td>87.00000</td>\n",
              "      <td>0.0</td>\n",
              "      <td>45.0</td>\n",
              "      <td>10.000000</td>\n",
              "      <td>0.0</td>\n",
              "      <td>51.000000</td>\n",
              "      <td>10.000000</td>\n",
              "      <td>52.000000</td>\n",
              "      <td>2.0</td>\n",
              "      <td>...</td>\n",
              "      <td>49.994412</td>\n",
              "      <td>54.202353</td>\n",
              "      <td>63.806176</td>\n",
              "      <td>0.974359</td>\n",
              "      <td>247.988889</td>\n",
              "      <td>251.888889</td>\n",
              "      <td>243.3</td>\n",
              "      <td>228.844444</td>\n",
              "      <td>7</td>\n",
              "      <td>0.529542</td>\n",
              "    </tr>\n",
              "  </tbody>\n",
              "</table>\n",
              "<p>310 rows × 2877 columns</p>\n",
              "</div>\n",
              "      <button class=\"colab-df-convert\" onclick=\"convertToInteractive('df-1cecf377-2b08-4971-b895-8b9b6c0c5890')\"\n",
              "              title=\"Convert this dataframe to an interactive table.\"\n",
              "              style=\"display:none;\">\n",
              "        \n",
              "  <svg xmlns=\"http://www.w3.org/2000/svg\" height=\"24px\"viewBox=\"0 0 24 24\"\n",
              "       width=\"24px\">\n",
              "    <path d=\"M0 0h24v24H0V0z\" fill=\"none\"/>\n",
              "    <path d=\"M18.56 5.44l.94 2.06.94-2.06 2.06-.94-2.06-.94-.94-2.06-.94 2.06-2.06.94zm-11 1L8.5 8.5l.94-2.06 2.06-.94-2.06-.94L8.5 2.5l-.94 2.06-2.06.94zm10 10l.94 2.06.94-2.06 2.06-.94-2.06-.94-.94-2.06-.94 2.06-2.06.94z\"/><path d=\"M17.41 7.96l-1.37-1.37c-.4-.4-.92-.59-1.43-.59-.52 0-1.04.2-1.43.59L10.3 9.45l-7.72 7.72c-.78.78-.78 2.05 0 2.83L4 21.41c.39.39.9.59 1.41.59.51 0 1.02-.2 1.41-.59l7.78-7.78 2.81-2.81c.8-.78.8-2.07 0-2.86zM5.41 20L4 18.59l7.72-7.72 1.47 1.35L5.41 20z\"/>\n",
              "  </svg>\n",
              "      </button>\n",
              "      \n",
              "  <style>\n",
              "    .colab-df-container {\n",
              "      display:flex;\n",
              "      flex-wrap:wrap;\n",
              "      gap: 12px;\n",
              "    }\n",
              "\n",
              "    .colab-df-convert {\n",
              "      background-color: #E8F0FE;\n",
              "      border: none;\n",
              "      border-radius: 50%;\n",
              "      cursor: pointer;\n",
              "      display: none;\n",
              "      fill: #1967D2;\n",
              "      height: 32px;\n",
              "      padding: 0 0 0 0;\n",
              "      width: 32px;\n",
              "    }\n",
              "\n",
              "    .colab-df-convert:hover {\n",
              "      background-color: #E2EBFA;\n",
              "      box-shadow: 0px 1px 2px rgba(60, 64, 67, 0.3), 0px 1px 3px 1px rgba(60, 64, 67, 0.15);\n",
              "      fill: #174EA6;\n",
              "    }\n",
              "\n",
              "    [theme=dark] .colab-df-convert {\n",
              "      background-color: #3B4455;\n",
              "      fill: #D2E3FC;\n",
              "    }\n",
              "\n",
              "    [theme=dark] .colab-df-convert:hover {\n",
              "      background-color: #434B5C;\n",
              "      box-shadow: 0px 1px 3px 1px rgba(0, 0, 0, 0.15);\n",
              "      filter: drop-shadow(0px 1px 2px rgba(0, 0, 0, 0.3));\n",
              "      fill: #FFFFFF;\n",
              "    }\n",
              "  </style>\n",
              "\n",
              "      <script>\n",
              "        const buttonEl =\n",
              "          document.querySelector('#df-1cecf377-2b08-4971-b895-8b9b6c0c5890 button.colab-df-convert');\n",
              "        buttonEl.style.display =\n",
              "          google.colab.kernel.accessAllowed ? 'block' : 'none';\n",
              "\n",
              "        async function convertToInteractive(key) {\n",
              "          const element = document.querySelector('#df-1cecf377-2b08-4971-b895-8b9b6c0c5890');\n",
              "          const dataTable =\n",
              "            await google.colab.kernel.invokeFunction('convertToInteractive',\n",
              "                                                     [key], {});\n",
              "          if (!dataTable) return;\n",
              "\n",
              "          const docLinkHtml = 'Like what you see? Visit the ' +\n",
              "            '<a target=\"_blank\" href=https://colab.research.google.com/notebooks/data_table.ipynb>data table notebook</a>'\n",
              "            + ' to learn more about interactive tables.';\n",
              "          element.innerHTML = '';\n",
              "          dataTable['output_type'] = 'display_data';\n",
              "          await google.colab.output.renderOutput(dataTable, element);\n",
              "          const docLink = document.createElement('div');\n",
              "          docLink.innerHTML = docLinkHtml;\n",
              "          element.appendChild(docLink);\n",
              "        }\n",
              "      </script>\n",
              "    </div>\n",
              "  </div>\n",
              "  "
            ]
          },
          "metadata": {},
          "execution_count": 340
        }
      ]
    },
    {
      "cell_type": "code",
      "source": [
        "sns.countplot(x=preds);"
      ],
      "metadata": {
        "colab": {
          "base_uri": "https://localhost:8080/",
          "height": 265
        },
        "id": "bP9e3szwGvDU",
        "outputId": "01b4b50b-b355-49d2-b9fc-497cc38ff7b6"
      },
      "execution_count": 341,
      "outputs": [
        {
          "output_type": "display_data",
          "data": {
            "text/plain": [
              "<Figure size 432x288 with 1 Axes>"
            ],
            "image/png": "[encoded data removed]"
          },
          "metadata": {
            "needs_background": "light"
          }
        }
      ]
    },
    {
      "cell_type": "markdown",
      "source": [
        "## 다시 Y_Class 예측"
      ],
      "metadata": {
        "id": "UgNEMkg7uGNe"
      }
    },
    {
      "cell_type": "code",
      "source": [
        "# X_train = train_df\n",
        "X_train = train_df.drop(columns=['Y_Class'])\n",
        "X_train = pd.DataFrame(train_df['Y_Quality'])\n",
        "y_train = train_df['Y_Class']"
      ],
      "metadata": {
        "id": "XyiKQJUeuHOu"
      },
      "execution_count": 342,
      "outputs": []
    },
    {
      "cell_type": "code",
      "source": [
        "X_train.isnull().sum()"
      ],
      "metadata": {
        "colab": {
          "base_uri": "https://localhost:8080/"
        },
        "outputId": "6c183c65-4567-4a15-b41a-ce01f10a9762",
        "id": "Plefo87K5yqD"
      },
      "execution_count": 343,
      "outputs": [
        {
          "output_type": "execute_result",
          "data": {
            "text/plain": [
              "Y_Quality    0\n",
              "dtype: int64"
            ]
          },
          "metadata": {},
          "execution_count": 343
        }
      ]
    },
    {
      "cell_type": "code",
      "source": [
        "from sklearn.ensemble import GradientBoostingClassifier\n",
        "\n",
        "RF =  GradientBoostingClassifier(random_state=37).fit(X_train, y_train)\n",
        "print('Done.')"
      ],
      "metadata": {
        "colab": {
          "base_uri": "https://localhost:8080/"
        },
        "id": "ov8uVwu2uHfF",
        "outputId": "465d29de-93a4-48ad-fbb2-e7e0c1e9365c"
      },
      "execution_count": 344,
      "outputs": [
        {
          "output_type": "stream",
          "name": "stdout",
          "text": [
            "Done.\n"
          ]
        }
      ]
    },
    {
      "cell_type": "code",
      "source": [
        "test_x\n",
        "# test_x = test_x.drop(columns=['LINE//','PRODUCT_CODE'])\n",
        "# test_x = test_x['Y_Quality']  \n",
        "test_x = pd.DataFrame(test_x, columns=['Y_Quality'])\n",
        "# test_x = test_x['Y_Quality']"
      ],
      "metadata": {
        "id": "T0ovkbQa57OV"
      },
      "execution_count": 345,
      "outputs": []
    },
    {
      "cell_type": "code",
      "source": [
        "test_x = pd.DataFrame(test_x)\n",
        "\n",
        "preds = RF.predict(test_x)  \n",
        "print('Done.')   "
      ],
      "metadata": {
        "colab": {
          "base_uri": "https://localhost:8080/"
        },
        "id": "mncvR7m1wE-3",
        "outputId": "52cc36b7-d51c-4027-9cd6-64833def9cde"
      },
      "execution_count": 346,
      "outputs": [
        {
          "output_type": "stream",
          "name": "stdout",
          "text": [
            "Done.\n"
          ]
        }
      ]
    },
    {
      "cell_type": "code",
      "source": [
        "preds"
      ],
      "metadata": {
        "colab": {
          "base_uri": "https://localhost:8080/"
        },
        "id": "GVailz2p8_VT",
        "outputId": "068a13dd-31ad-4aa6-9d72-df7a4ad8fc7e"
      },
      "execution_count": 347,
      "outputs": [
        {
          "output_type": "execute_result",
          "data": {
            "text/plain": [
              "array(['1', '1', '1', '0', '1', '1', '1', '1', '1', '1', '1', '1', '1',\n",
              "       '1', '0', '1', '1', '1', '1', '1', '1', '1', '1', '1', '1', '1',\n",
              "       '1', '1', '1', '1', '1', '1', '0', '1', '1', '0', '1', '0', '2',\n",
              "       '1', '1', '1', '1', '1', '1', '1', '1', '0', '1', '0', '1', '0',\n",
              "       '1', '0', '1', '0', '1', '1', '0', '0', '0', '1', '1', '1', '1',\n",
              "       '0', '1', '1', '0', '1', '1', '0', '1', '1', '1', '1', '1', '1',\n",
              "       '1', '1', '1', '1', '1', '1', '1', '1', '0', '1', '0', '0', '1',\n",
              "       '1', '1', '1', '1', '1', '1', '1', '1', '1', '1', '1', '1', '1',\n",
              "       '1', '1', '1', '1', '1', '1', '1', '1', '1', '1', '1', '1', '1',\n",
              "       '1', '1', '1', '1', '1', '1', '1', '1', '1', '1', '1', '1', '1',\n",
              "       '1', '1', '1', '1', '1', '1', '1', '1', '1', '1', '1', '0', '0',\n",
              "       '1', '1', '1', '1', '1', '1', '1', '1', '1', '1', '1', '1', '1',\n",
              "       '1', '1', '1', '1', '1', '1', '1', '1', '1', '1', '1', '1', '1',\n",
              "       '1', '1', '1', '1', '1', '1', '1', '1', '1', '1', '1', '1', '1',\n",
              "       '1', '1', '1', '1', '1', '1', '1', '1', '1', '1', '1', '1', '1',\n",
              "       '1', '1', '1', '1', '1', '1', '1', '1', '1', '1', '1', '1', '0',\n",
              "       '1', '1', '1', '1', '1', '1', '1', '1', '1', '1', '1', '1', '1',\n",
              "       '1', '1', '1', '1', '1', '1', '1', '1', '1', '1', '1', '1', '1',\n",
              "       '0', '1', '1', '1', '1', '1', '1', '1', '1', '1', '1', '1', '1',\n",
              "       '1', '1', '1', '1', '1', '1', '1', '1', '1', '1', '0', '1', '1',\n",
              "       '2', '1', '1', '2', '1', '1', '1', '1', '1', '1', '1', '1', '1',\n",
              "       '1', '1', '1', '1', '1', '1', '1', '1', '1', '1', '1', '1', '1',\n",
              "       '1', '1', '1', '1', '1', '1', '1', '1', '0', '1', '1', '1', '1',\n",
              "       '1', '1', '1', '1', '1', '1', '1', '1', '1', '1', '1'],\n",
              "      dtype=object)"
            ]
          },
          "metadata": {},
          "execution_count": 347
        }
      ]
    },
    {
      "cell_type": "code",
      "source": [
        "sns.countplot(x=preds, order=['0','1','2']);"
      ],
      "metadata": {
        "colab": {
          "base_uri": "https://localhost:8080/",
          "height": 265
        },
        "id": "5ajeXCsP9Awa",
        "outputId": "53bf6412-fba1-4122-fe62-a5d9159e0985"
      },
      "execution_count": 348,
      "outputs": [
        {
          "output_type": "display_data",
          "data": {
            "text/plain": [
              "<Figure size 432x288 with 1 Axes>"
            ],
            "image/png": "[encoded data removed]"
          },
          "metadata": {
            "needs_background": "light"
          }
        }
      ]
    },
    {
      "cell_type": "code",
      "source": [],
      "metadata": {
        "id": "q5miG4FKZgP8"
      },
      "execution_count": 348,
      "outputs": []
    },
    {
      "cell_type": "code",
      "source": [],
      "metadata": {
        "id": "l9KnrCyaZgWD"
      },
      "execution_count": 348,
      "outputs": []
    },
    {
      "cell_type": "markdown",
      "source": [
        "## 2.1 Random Forest"
      ],
      "metadata": {
        "id": "CTdljE99teLX"
      }
    },
    {
      "cell_type": "code",
      "source": [
        "X = train_df.drop(columns=['Y_Quality', 'Y_Class'])\n",
        "y = train_df[['Y_Quality']]"
      ],
      "metadata": {
        "id": "wn_Zsv5E8sfn"
      },
      "execution_count": 129,
      "outputs": []
    },
    {
      "cell_type": "code",
      "source": [
        "\n",
        "X_train, X_test, y_train, y_test = train_test_split(X, y,\n",
        "                                                  test_size=0.3,\n",
        "                                                  random_state=37)"
      ],
      "metadata": {
        "id": "Ye7HGX9nCJT5"
      },
      "execution_count": 130,
      "outputs": []
    },
    {
      "cell_type": "code",
      "source": [
        "y_train"
      ],
      "metadata": {
        "colab": {
          "base_uri": "https://localhost:8080/",
          "height": 424
        },
        "id": "AOlcQ7iC6lu9",
        "outputId": "bf8b01fc-c26f-4793-d011-a32d3794f065"
      },
      "execution_count": 131,
      "outputs": [
        {
          "output_type": "execute_result",
          "data": {
            "text/plain": [
              "     Y_Quality\n",
              "48    0.533273\n",
              "72    0.538095\n",
              "494   0.534827\n",
              "30    0.528646\n",
              "32    0.548592\n",
              "..         ...\n",
              "451   0.530294\n",
              "22    0.517719\n",
              "437   0.526906\n",
              "251   0.529097\n",
              "363   0.515892\n",
              "\n",
              "[418 rows x 1 columns]"
            ],
            "text/html": [
              "\n",
              "  <div id=\"df-c535e8f0-3ff2-4f5b-9931-1cc4858da16e\">\n",
              "    <div class=\"colab-df-container\">\n",
              "      <div>\n",
              "<style scoped>\n",
              "    .dataframe tbody tr th:only-of-type {\n",
              "        vertical-align: middle;\n",
              "    }\n",
              "\n",
              "    .dataframe tbody tr th {\n",
              "        vertical-align: top;\n",
              "    }\n",
              "\n",
              "    .dataframe thead th {\n",
              "        text-align: right;\n",
              "    }\n",
              "</style>\n",
              "<table border=\"1\" class=\"dataframe\">\n",
              "  <thead>\n",
              "    <tr style=\"text-align: right;\">\n",
              "      <th></th>\n",
              "      <th>Y_Quality</th>\n",
              "    </tr>\n",
              "  </thead>\n",
              "  <tbody>\n",
              "    <tr>\n",
              "      <th>48</th>\n",
              "      <td>0.533273</td>\n",
              "    </tr>\n",
              "    <tr>\n",
              "      <th>72</th>\n",
              "      <td>0.538095</td>\n",
              "    </tr>\n",
              "    <tr>\n",
              "      <th>494</th>\n",
              "      <td>0.534827</td>\n",
              "    </tr>\n",
              "    <tr>\n",
              "      <th>30</th>\n",
              "      <td>0.528646</td>\n",
              "    </tr>\n",
              "    <tr>\n",
              "      <th>32</th>\n",
              "      <td>0.548592</td>\n",
              "    </tr>\n",
              "    <tr>\n",
              "      <th>...</th>\n",
              "      <td>...</td>\n",
              "    </tr>\n",
              "    <tr>\n",
              "      <th>451</th>\n",
              "      <td>0.530294</td>\n",
              "    </tr>\n",
              "    <tr>\n",
              "      <th>22</th>\n",
              "      <td>0.517719</td>\n",
              "    </tr>\n",
              "    <tr>\n",
              "      <th>437</th>\n",
              "      <td>0.526906</td>\n",
              "    </tr>\n",
              "    <tr>\n",
              "      <th>251</th>\n",
              "      <td>0.529097</td>\n",
              "    </tr>\n",
              "    <tr>\n",
              "      <th>363</th>\n",
              "      <td>0.515892</td>\n",
              "    </tr>\n",
              "  </tbody>\n",
              "</table>\n",
              "<p>418 rows × 1 columns</p>\n",
              "</div>\n",
              "      <button class=\"colab-df-convert\" onclick=\"convertToInteractive('df-c535e8f0-3ff2-4f5b-9931-1cc4858da16e')\"\n",
              "              title=\"Convert this dataframe to an interactive table.\"\n",
              "              style=\"display:none;\">\n",
              "        \n",
              "  <svg xmlns=\"http://www.w3.org/2000/svg\" height=\"24px\"viewBox=\"0 0 24 24\"\n",
              "       width=\"24px\">\n",
              "    <path d=\"M0 0h24v24H0V0z\" fill=\"none\"/>\n",
              "    <path d=\"M18.56 5.44l.94 2.06.94-2.06 2.06-.94-2.06-.94-.94-2.06-.94 2.06-2.06.94zm-11 1L8.5 8.5l.94-2.06 2.06-.94-2.06-.94L8.5 2.5l-.94 2.06-2.06.94zm10 10l.94 2.06.94-2.06 2.06-.94-2.06-.94-.94-2.06-.94 2.06-2.06.94z\"/><path d=\"M17.41 7.96l-1.37-1.37c-.4-.4-.92-.59-1.43-.59-.52 0-1.04.2-1.43.59L10.3 9.45l-7.72 7.72c-.78.78-.78 2.05 0 2.83L4 21.41c.39.39.9.59 1.41.59.51 0 1.02-.2 1.41-.59l7.78-7.78 2.81-2.81c.8-.78.8-2.07 0-2.86zM5.41 20L4 18.59l7.72-7.72 1.47 1.35L5.41 20z\"/>\n",
              "  </svg>\n",
              "      </button>\n",
              "      \n",
              "  <style>\n",
              "    .colab-df-container {\n",
              "      display:flex;\n",
              "      flex-wrap:wrap;\n",
              "      gap: 12px;\n",
              "    }\n",
              "\n",
              "    .colab-df-convert {\n",
              "      background-color: #E8F0FE;\n",
              "      border: none;\n",
              "      border-radius: 50%;\n",
              "      cursor: pointer;\n",
              "      display: none;\n",
              "      fill: #1967D2;\n",
              "      height: 32px;\n",
              "      padding: 0 0 0 0;\n",
              "      width: 32px;\n",
              "    }\n",
              "\n",
              "    .colab-df-convert:hover {\n",
              "      background-color: #E2EBFA;\n",
              "      box-shadow: 0px 1px 2px rgba(60, 64, 67, 0.3), 0px 1px 3px 1px rgba(60, 64, 67, 0.15);\n",
              "      fill: #174EA6;\n",
              "    }\n",
              "\n",
              "    [theme=dark] .colab-df-convert {\n",
              "      background-color: #3B4455;\n",
              "      fill: #D2E3FC;\n",
              "    }\n",
              "\n",
              "    [theme=dark] .colab-df-convert:hover {\n",
              "      background-color: #434B5C;\n",
              "      box-shadow: 0px 1px 3px 1px rgba(0, 0, 0, 0.15);\n",
              "      filter: drop-shadow(0px 1px 2px rgba(0, 0, 0, 0.3));\n",
              "      fill: #FFFFFF;\n",
              "    }\n",
              "  </style>\n",
              "\n",
              "      <script>\n",
              "        const buttonEl =\n",
              "          document.querySelector('#df-c535e8f0-3ff2-4f5b-9931-1cc4858da16e button.colab-df-convert');\n",
              "        buttonEl.style.display =\n",
              "          google.colab.kernel.accessAllowed ? 'block' : 'none';\n",
              "\n",
              "        async function convertToInteractive(key) {\n",
              "          const element = document.querySelector('#df-c535e8f0-3ff2-4f5b-9931-1cc4858da16e');\n",
              "          const dataTable =\n",
              "            await google.colab.kernel.invokeFunction('convertToInteractive',\n",
              "                                                     [key], {});\n",
              "          if (!dataTable) return;\n",
              "\n",
              "          const docLinkHtml = 'Like what you see? Visit the ' +\n",
              "            '<a target=\"_blank\" href=https://colab.research.google.com/notebooks/data_table.ipynb>data table notebook</a>'\n",
              "            + ' to learn more about interactive tables.';\n",
              "          element.innerHTML = '';\n",
              "          dataTable['output_type'] = 'display_data';\n",
              "          await google.colab.output.renderOutput(dataTable, element);\n",
              "          const docLink = document.createElement('div');\n",
              "          docLink.innerHTML = docLinkHtml;\n",
              "          element.appendChild(docLink);\n",
              "        }\n",
              "      </script>\n",
              "    </div>\n",
              "  </div>\n",
              "  "
            ]
          },
          "metadata": {},
          "execution_count": 131
        }
      ]
    },
    {
      "cell_type": "code",
      "source": [
        "from sklearn.ensemble import RandomForestRegressor\n",
        "\n",
        "RF_model = RandomForestRegressor(n_estimators = 10,\n",
        "                                            oob_score=False)\n",
        "RF_fitted = RF_model.fit(X_train, y_train)\n",
        "preds = tf.cast(RF_fitted.predict(X_test) > 0.5, \n",
        "                     dtype = tf.float32)\n",
        "\n",
        "# print('Accuracy = ', accuracy_score(RF_predict, y_test))\n",
        "# print(\"Test Report = \\n\", classification_report(RF_predict, y_test))"
      ],
      "metadata": {
        "id": "6NU83x3q-YAO",
        "colab": {
          "base_uri": "https://localhost:8080/"
        },
        "outputId": "49e99e02-c3f0-443f-b158-5fb71b69c053"
      },
      "execution_count": 132,
      "outputs": [
        {
          "output_type": "stream",
          "name": "stderr",
          "text": [
            "<ipython-input-132-8cbca3e2ef17>:5: DataConversionWarning: A column-vector y was passed when a 1d array was expected. Please change the shape of y to (n_samples,), for example using ravel().\n",
            "  RF_fitted = RF_model.fit(X_train, y_train)\n"
          ]
        }
      ]
    },
    {
      "cell_type": "code",
      "source": [
        "print(RF_fitted.score(X_train, y_train))\n",
        "print(RF_fitted.score(X_test, y_test))"
      ],
      "metadata": {
        "colab": {
          "base_uri": "https://localhost:8080/"
        },
        "id": "NusO0ggVBZ1i",
        "outputId": "b7488833-b428-4f3e-c34e-7a8ae0e357fb"
      },
      "execution_count": 133,
      "outputs": [
        {
          "output_type": "stream",
          "name": "stdout",
          "text": [
            "0.908770671112057\n",
            "0.4940122172033936\n"
          ]
        }
      ]
    },
    {
      "cell_type": "code",
      "source": [],
      "metadata": {
        "id": "grkSLiFf-Ht5"
      },
      "execution_count": null,
      "outputs": []
    },
    {
      "cell_type": "code",
      "source": [],
      "metadata": {
        "id": "samQfNa3ExTK"
      },
      "execution_count": null,
      "outputs": []
    },
    {
      "cell_type": "code",
      "source": [
        "# X_train = train_df\n",
        "X_train = train_df.drop(columns=['Y_Class'])\n",
        "X_train = pd.DataFrame(train_df['Y_Quality'])\n",
        "y_train = train_df['Y_Class']"
      ],
      "metadata": {
        "id": "UP6A5NUUA48X"
      },
      "execution_count": 154,
      "outputs": []
    },
    {
      "cell_type": "code",
      "source": [
        "X_train.isnull().sum()"
      ],
      "metadata": {
        "colab": {
          "base_uri": "https://localhost:8080/"
        },
        "id": "WV4E6K-JyShA",
        "outputId": "ee323a36-265a-4dfa-cc53-d316c98652fa"
      },
      "execution_count": 155,
      "outputs": [
        {
          "output_type": "execute_result",
          "data": {
            "text/plain": [
              "Y_Quality    0\n",
              "dtype: int64"
            ]
          },
          "metadata": {},
          "execution_count": 155
        }
      ]
    },
    {
      "cell_type": "code",
      "source": [
        "from sklearn.ensemble import GradientBoostingClassifier\n",
        "\n",
        "GBC_model =  GradientBoostingClassifier(random_state=37).fit(X_train, y_train)\n",
        "print('Done.')"
      ],
      "metadata": {
        "colab": {
          "base_uri": "https://localhost:8080/"
        },
        "outputId": "71846bca-8548-4f13-9353-6caf939aae5f",
        "id": "s14AkzOuA48Z"
      },
      "execution_count": 156,
      "outputs": [
        {
          "output_type": "stream",
          "name": "stdout",
          "text": [
            "Done.\n"
          ]
        }
      ]
    },
    {
      "cell_type": "code",
      "source": [
        "test_x\n",
        "# test_x = test_x.drop(columns=['LINE//','PRODUCT_CODE'])\n",
        "# test_x = test_x['Y_Quality']  \n",
        "test_x = pd.DataFrame(test_x, columns=['Y_Quality'])\n",
        "# test_x = test_x['Y_Quality']"
      ],
      "metadata": {
        "id": "b4_T3w6sv3SA"
      },
      "execution_count": 157,
      "outputs": []
    },
    {
      "cell_type": "code",
      "source": [
        "test_x.isnull().sum()"
      ],
      "metadata": {
        "colab": {
          "base_uri": "https://localhost:8080/"
        },
        "id": "UNOiP_f83OEB",
        "outputId": "7cb450e9-813a-4b7e-da73-c39a97a3eb61"
      },
      "execution_count": 158,
      "outputs": [
        {
          "output_type": "execute_result",
          "data": {
            "text/plain": [
              "Y_Quality    0\n",
              "dtype: int64"
            ]
          },
          "metadata": {},
          "execution_count": 158
        }
      ]
    },
    {
      "cell_type": "code",
      "source": [
        "preds = GBC_model.predict(test_x)  \n",
        "print('Done.')   "
      ],
      "metadata": {
        "colab": {
          "base_uri": "https://localhost:8080/"
        },
        "outputId": "de421847-558f-48cc-f8f1-fee6c00b33f6",
        "id": "78FJ_QCIA48Z"
      },
      "execution_count": 159,
      "outputs": [
        {
          "output_type": "stream",
          "name": "stdout",
          "text": [
            "Done.\n"
          ]
        }
      ]
    },
    {
      "cell_type": "code",
      "source": [
        "preds"
      ],
      "metadata": {
        "colab": {
          "base_uri": "https://localhost:8080/"
        },
        "outputId": "5eb9b6b1-7151-416c-de18-300e949b6e52",
        "id": "KM0yYXivA48a"
      },
      "execution_count": 160,
      "outputs": [
        {
          "output_type": "execute_result",
          "data": {
            "text/plain": [
              "array(['1', '1', '1', '0', '0', '0', '0', '2', '2', '0', '0', '0', '0',\n",
              "       '1', '2', '1', '1', '1', '1', '1', '1', '1', '1', '1', '1', '1',\n",
              "       '1', '1', '1', '1', '1', '1', '1', '1', '1', '2', '1', '0', '0',\n",
              "       '0', '0', '2', '2', '1', '1', '1', '1', '1', '1', '1', '1', '1',\n",
              "       '2', '2', '2', '1', '1', '1', '1', '1', '1', '2', '1', '1', '2',\n",
              "       '2', '2', '1', '1', '1', '1', '0', '0', '1', '1', '1', '1', '1',\n",
              "       '1', '0', '1', '1', '1', '1', '1', '1', '0', '0', '0', '0', '1',\n",
              "       '1', '1', '1', '1', '1', '1', '1', '1', '1', '1', '1', '1', '1',\n",
              "       '1', '1', '1', '1', '1', '0', '1', '1', '1', '1', '0', '0', '0',\n",
              "       '0', '1', '1', '1', '1', '1', '1', '1', '1', '1', '1', '0', '0',\n",
              "       '1', '1', '1', '1', '1', '1', '1', '1', '1', '1', '1', '0', '0',\n",
              "       '1', '1', '1', '1', '1', '1', '1', '1', '1', '1', '1', '1', '1',\n",
              "       '1', '1', '1', '1', '1', '1', '1', '1', '1', '1', '1', '1', '1',\n",
              "       '1', '1', '1', '1', '1', '1', '1', '1', '1', '1', '1', '1', '1',\n",
              "       '1', '1', '1', '1', '1', '1', '1', '1', '1', '1', '1', '1', '1',\n",
              "       '1', '1', '1', '1', '1', '1', '1', '1', '1', '1', '1', '1', '1',\n",
              "       '1', '1', '1', '1', '1', '1', '1', '1', '1', '1', '1', '1', '1',\n",
              "       '1', '1', '1', '1', '1', '1', '1', '1', '1', '1', '1', '1', '1',\n",
              "       '1', '1', '1', '1', '1', '1', '1', '1', '1', '1', '1', '1', '1',\n",
              "       '1', '1', '1', '1', '1', '1', '1', '1', '1', '1', '1', '1', '1',\n",
              "       '1', '1', '1', '1', '1', '1', '1', '1', '1', '1', '1', '1', '1',\n",
              "       '1', '1', '1', '1', '1', '1', '1', '1', '1', '1', '1', '1', '1',\n",
              "       '1', '1', '1', '1', '1', '1', '1', '1', '1', '1', '1', '1', '1',\n",
              "       '1', '1', '1', '1', '1', '1', '1', '1', '1', '1', '1'],\n",
              "      dtype=object)"
            ]
          },
          "metadata": {},
          "execution_count": 160
        }
      ]
    },
    {
      "cell_type": "code",
      "source": [
        "sns.countplot(x=preds, order=['0','1','2']);"
      ],
      "metadata": {
        "colab": {
          "base_uri": "https://localhost:8080/",
          "height": 265
        },
        "outputId": "e413ede9-b0a6-4700-8f1c-e32cf41afe03",
        "id": "uKShnOj5A48a"
      },
      "execution_count": 161,
      "outputs": [
        {
          "output_type": "display_data",
          "data": {
            "text/plain": [
              "<Figure size 432x288 with 1 Axes>"
            ],
            "image/png": "[encoded data removed]"
          },
          "metadata": {
            "needs_background": "light"
          }
        }
      ]
    },
    {
      "cell_type": "markdown",
      "source": [
        "# 3.Modeling_DL"
      ],
      "metadata": {
        "id": "Vl05J9tpExbR"
      }
    },
    {
      "cell_type": "code",
      "source": [],
      "metadata": {
        "id": "IFIeaDruExgK"
      },
      "execution_count": null,
      "outputs": []
    },
    {
      "cell_type": "code",
      "source": [],
      "metadata": {
        "id": "Rut5hjM1Exna"
      },
      "execution_count": null,
      "outputs": []
    },
    {
      "cell_type": "markdown",
      "source": [
        "# 4.Model Comparison"
      ],
      "metadata": {
        "id": "1YwpCO-LHGWh"
      }
    },
    {
      "cell_type": "code",
      "source": [],
      "metadata": {
        "id": "_51zBFdKHGcp"
      },
      "execution_count": null,
      "outputs": []
    },
    {
      "cell_type": "code",
      "source": [],
      "metadata": {
        "id": "3s2Na48HHGhp"
      },
      "execution_count": null,
      "outputs": []
    },
    {
      "cell_type": "code",
      "source": [],
      "metadata": {
        "id": "gSZlZQe8HGno"
      },
      "execution_count": null,
      "outputs": []
    },
    {
      "cell_type": "markdown",
      "source": [
        "# 5.Inference\n",
        "- finally, performs perdiction for test set"
      ],
      "metadata": {
        "id": "ex7768-Ktt2u"
      }
    },
    {
      "cell_type": "code",
      "source": [
        "test_x.describe()"
      ],
      "metadata": {
        "colab": {
          "base_uri": "https://localhost:8080/",
          "height": 394
        },
        "id": "o6wlxZ63-aor",
        "outputId": "32f17b5c-c4eb-40c2-8206-40e971365b07"
      },
      "execution_count": null,
      "outputs": [
        {
          "output_type": "execute_result",
          "data": {
            "text/plain": [
              "              X_1         X_2         X_3         X_4         X_5         X_6  \\\n",
              "count  310.000000  310.000000  310.000000  310.000000  310.000000  310.000000   \n",
              "mean     4.121721   74.757204    0.721721   35.995914    8.773334    0.721721   \n",
              "std     14.760337   37.749826    1.775472   17.211959    3.095255    1.775472   \n",
              "min      0.850000    0.850000    0.000000    0.850000    0.850000    0.000000   \n",
              "25%      2.000000   87.250000    0.000000   45.000000   10.000000    0.000000   \n",
              "50%      2.000000   93.000000    0.000000   45.000000   10.000000    0.000000   \n",
              "75%      2.000000   96.000000    0.000000   45.000000   10.000000    0.000000   \n",
              "max    154.000000  102.000000    7.330645   45.000000   11.000000    7.330645   \n",
              "\n",
              "              X_7         X_8         X_9        X_10  ...      X_2867  \\\n",
              "count  310.000000  310.000000  310.000000  310.000000  ...  310.000000   \n",
              "mean    38.728172    8.570108   33.963656    2.289463  ...    5.979528   \n",
              "std     18.936568    2.972388   18.620747    1.249758  ...   16.614796   \n",
              "min      0.850000    0.850000    0.850000    0.850000  ...    0.000000   \n",
              "25%     45.000000   10.000000   31.000000    2.000000  ...    0.000000   \n",
              "50%     45.000000   10.000000   31.000000    2.000000  ...    0.000000   \n",
              "75%     50.000000   10.000000   52.000000    2.000000  ...    0.000000   \n",
              "max     67.000000   11.000000   52.000000    7.330645  ...   60.490000   \n",
              "\n",
              "           X_2868      X_2869      X_2870      X_2871      X_2872      X_2873  \\\n",
              "count  310.000000  310.000000  310.000000  310.000000  310.000000  310.000000   \n",
              "mean     5.648270    6.109786    7.163109    0.201613    7.805342    7.918567   \n",
              "std     15.734697   16.959788   19.936360    0.389399   41.834183   42.411567   \n",
              "min      0.000000    0.000000    0.000000    0.000000    0.000000    0.000000   \n",
              "25%      0.000000    0.000000    0.000000    0.000000    0.000000    0.000000   \n",
              "50%      0.000000    0.000000    0.000000    0.000000    0.000000    0.000000   \n",
              "75%      0.000000    0.000000    0.000000    0.000000    0.000000    0.000000   \n",
              "max     60.310000   58.290000   67.240000    1.000000  268.000000  278.600000   \n",
              "\n",
              "           X_2874      X_2875  line_pcode  \n",
              "count  310.000000  310.000000  310.000000  \n",
              "mean     7.669213    7.249535    5.138710  \n",
              "std     41.243141   38.544468    2.064522  \n",
              "min      0.000000    0.000000    0.000000  \n",
              "25%      0.000000    0.000000    5.000000  \n",
              "50%      0.000000    0.000000    5.000000  \n",
              "75%      0.000000    0.000000    7.000000  \n",
              "max    271.400000  245.600000    7.000000  \n",
              "\n",
              "[8 rows x 2876 columns]"
            ],
            "text/html": [
              "\n",
              "  <div id=\"df-c9f1e4d9-1b5b-49ae-a050-489d1d2c3a61\">\n",
              "    <div class=\"colab-df-container\">\n",
              "      <div>\n",
              "<style scoped>\n",
              "    .dataframe tbody tr th:only-of-type {\n",
              "        vertical-align: middle;\n",
              "    }\n",
              "\n",
              "    .dataframe tbody tr th {\n",
              "        vertical-align: top;\n",
              "    }\n",
              "\n",
              "    .dataframe thead th {\n",
              "        text-align: right;\n",
              "    }\n",
              "</style>\n",
              "<table border=\"1\" class=\"dataframe\">\n",
              "  <thead>\n",
              "    <tr style=\"text-align: right;\">\n",
              "      <th></th>\n",
              "      <th>X_1</th>\n",
              "      <th>X_2</th>\n",
              "      <th>X_3</th>\n",
              "      <th>X_4</th>\n",
              "      <th>X_5</th>\n",
              "      <th>X_6</th>\n",
              "      <th>X_7</th>\n",
              "      <th>X_8</th>\n",
              "      <th>X_9</th>\n",
              "      <th>X_10</th>\n",
              "      <th>...</th>\n",
              "      <th>X_2867</th>\n",
              "      <th>X_2868</th>\n",
              "      <th>X_2869</th>\n",
              "      <th>X_2870</th>\n",
              "      <th>X_2871</th>\n",
              "      <th>X_2872</th>\n",
              "      <th>X_2873</th>\n",
              "      <th>X_2874</th>\n",
              "      <th>X_2875</th>\n",
              "      <th>line_pcode</th>\n",
              "    </tr>\n",
              "  </thead>\n",
              "  <tbody>\n",
              "    <tr>\n",
              "      <th>count</th>\n",
              "      <td>310.000000</td>\n",
              "      <td>310.000000</td>\n",
              "      <td>310.000000</td>\n",
              "      <td>310.000000</td>\n",
              "      <td>310.000000</td>\n",
              "      <td>310.000000</td>\n",
              "      <td>310.000000</td>\n",
              "      <td>310.000000</td>\n",
              "      <td>310.000000</td>\n",
              "      <td>310.000000</td>\n",
              "      <td>...</td>\n",
              "      <td>310.000000</td>\n",
              "      <td>310.000000</td>\n",
              "      <td>310.000000</td>\n",
              "      <td>310.000000</td>\n",
              "      <td>310.000000</td>\n",
              "      <td>310.000000</td>\n",
              "      <td>310.000000</td>\n",
              "      <td>310.000000</td>\n",
              "      <td>310.000000</td>\n",
              "      <td>310.000000</td>\n",
              "    </tr>\n",
              "    <tr>\n",
              "      <th>mean</th>\n",
              "      <td>4.121721</td>\n",
              "      <td>74.757204</td>\n",
              "      <td>0.721721</td>\n",
              "      <td>35.995914</td>\n",
              "      <td>8.773334</td>\n",
              "      <td>0.721721</td>\n",
              "      <td>38.728172</td>\n",
              "      <td>8.570108</td>\n",
              "      <td>33.963656</td>\n",
              "      <td>2.289463</td>\n",
              "      <td>...</td>\n",
              "      <td>5.979528</td>\n",
              "      <td>5.648270</td>\n",
              "      <td>6.109786</td>\n",
              "      <td>7.163109</td>\n",
              "      <td>0.201613</td>\n",
              "      <td>7.805342</td>\n",
              "      <td>7.918567</td>\n",
              "      <td>7.669213</td>\n",
              "      <td>7.249535</td>\n",
              "      <td>5.138710</td>\n",
              "    </tr>\n",
              "    <tr>\n",
              "      <th>std</th>\n",
              "      <td>14.760337</td>\n",
              "      <td>37.749826</td>\n",
              "      <td>1.775472</td>\n",
              "      <td>17.211959</td>\n",
              "      <td>3.095255</td>\n",
              "      <td>1.775472</td>\n",
              "      <td>18.936568</td>\n",
              "      <td>2.972388</td>\n",
              "      <td>18.620747</td>\n",
              "      <td>1.249758</td>\n",
              "      <td>...</td>\n",
              "      <td>16.614796</td>\n",
              "      <td>15.734697</td>\n",
              "      <td>16.959788</td>\n",
              "      <td>19.936360</td>\n",
              "      <td>0.389399</td>\n",
              "      <td>41.834183</td>\n",
              "      <td>42.411567</td>\n",
              "      <td>41.243141</td>\n",
              "      <td>38.544468</td>\n",
              "      <td>2.064522</td>\n",
              "    </tr>\n",
              "    <tr>\n",
              "      <th>min</th>\n",
              "      <td>0.850000</td>\n",
              "      <td>0.850000</td>\n",
              "      <td>0.000000</td>\n",
              "      <td>0.850000</td>\n",
              "      <td>0.850000</td>\n",
              "      <td>0.000000</td>\n",
              "      <td>0.850000</td>\n",
              "      <td>0.850000</td>\n",
              "      <td>0.850000</td>\n",
              "      <td>0.850000</td>\n",
              "      <td>...</td>\n",
              "      <td>0.000000</td>\n",
              "      <td>0.000000</td>\n",
              "      <td>0.000000</td>\n",
              "      <td>0.000000</td>\n",
              "      <td>0.000000</td>\n",
              "      <td>0.000000</td>\n",
              "      <td>0.000000</td>\n",
              "      <td>0.000000</td>\n",
              "      <td>0.000000</td>\n",
              "      <td>0.000000</td>\n",
              "    </tr>\n",
              "    <tr>\n",
              "      <th>25%</th>\n",
              "      <td>2.000000</td>\n",
              "      <td>87.250000</td>\n",
              "      <td>0.000000</td>\n",
              "      <td>45.000000</td>\n",
              "      <td>10.000000</td>\n",
              "      <td>0.000000</td>\n",
              "      <td>45.000000</td>\n",
              "      <td>10.000000</td>\n",
              "      <td>31.000000</td>\n",
              "      <td>2.000000</td>\n",
              "      <td>...</td>\n",
              "      <td>0.000000</td>\n",
              "      <td>0.000000</td>\n",
              "      <td>0.000000</td>\n",
              "      <td>0.000000</td>\n",
              "      <td>0.000000</td>\n",
              "      <td>0.000000</td>\n",
              "      <td>0.000000</td>\n",
              "      <td>0.000000</td>\n",
              "      <td>0.000000</td>\n",
              "      <td>5.000000</td>\n",
              "    </tr>\n",
              "    <tr>\n",
              "      <th>50%</th>\n",
              "      <td>2.000000</td>\n",
              "      <td>93.000000</td>\n",
              "      <td>0.000000</td>\n",
              "      <td>45.000000</td>\n",
              "      <td>10.000000</td>\n",
              "      <td>0.000000</td>\n",
              "      <td>45.000000</td>\n",
              "      <td>10.000000</td>\n",
              "      <td>31.000000</td>\n",
              "      <td>2.000000</td>\n",
              "      <td>...</td>\n",
              "      <td>0.000000</td>\n",
              "      <td>0.000000</td>\n",
              "      <td>0.000000</td>\n",
              "      <td>0.000000</td>\n",
              "      <td>0.000000</td>\n",
              "      <td>0.000000</td>\n",
              "      <td>0.000000</td>\n",
              "      <td>0.000000</td>\n",
              "      <td>0.000000</td>\n",
              "      <td>5.000000</td>\n",
              "    </tr>\n",
              "    <tr>\n",
              "      <th>75%</th>\n",
              "      <td>2.000000</td>\n",
              "      <td>96.000000</td>\n",
              "      <td>0.000000</td>\n",
              "      <td>45.000000</td>\n",
              "      <td>10.000000</td>\n",
              "      <td>0.000000</td>\n",
              "      <td>50.000000</td>\n",
              "      <td>10.000000</td>\n",
              "      <td>52.000000</td>\n",
              "      <td>2.000000</td>\n",
              "      <td>...</td>\n",
              "      <td>0.000000</td>\n",
              "      <td>0.000000</td>\n",
              "      <td>0.000000</td>\n",
              "      <td>0.000000</td>\n",
              "      <td>0.000000</td>\n",
              "      <td>0.000000</td>\n",
              "      <td>0.000000</td>\n",
              "      <td>0.000000</td>\n",
              "      <td>0.000000</td>\n",
              "      <td>7.000000</td>\n",
              "    </tr>\n",
              "    <tr>\n",
              "      <th>max</th>\n",
              "      <td>154.000000</td>\n",
              "      <td>102.000000</td>\n",
              "      <td>7.330645</td>\n",
              "      <td>45.000000</td>\n",
              "      <td>11.000000</td>\n",
              "      <td>7.330645</td>\n",
              "      <td>67.000000</td>\n",
              "      <td>11.000000</td>\n",
              "      <td>52.000000</td>\n",
              "      <td>7.330645</td>\n",
              "      <td>...</td>\n",
              "      <td>60.490000</td>\n",
              "      <td>60.310000</td>\n",
              "      <td>58.290000</td>\n",
              "      <td>67.240000</td>\n",
              "      <td>1.000000</td>\n",
              "      <td>268.000000</td>\n",
              "      <td>278.600000</td>\n",
              "      <td>271.400000</td>\n",
              "      <td>245.600000</td>\n",
              "      <td>7.000000</td>\n",
              "    </tr>\n",
              "  </tbody>\n",
              "</table>\n",
              "<p>8 rows × 2876 columns</p>\n",
              "</div>\n",
              "      <button class=\"colab-df-convert\" onclick=\"convertToInteractive('df-c9f1e4d9-1b5b-49ae-a050-489d1d2c3a61')\"\n",
              "              title=\"Convert this dataframe to an interactive table.\"\n",
              "              style=\"display:none;\">\n",
              "        \n",
              "  <svg xmlns=\"http://www.w3.org/2000/svg\" height=\"24px\"viewBox=\"0 0 24 24\"\n",
              "       width=\"24px\">\n",
              "    <path d=\"M0 0h24v24H0V0z\" fill=\"none\"/>\n",
              "    <path d=\"M18.56 5.44l.94 2.06.94-2.06 2.06-.94-2.06-.94-.94-2.06-.94 2.06-2.06.94zm-11 1L8.5 8.5l.94-2.06 2.06-.94-2.06-.94L8.5 2.5l-.94 2.06-2.06.94zm10 10l.94 2.06.94-2.06 2.06-.94-2.06-.94-.94-2.06-.94 2.06-2.06.94z\"/><path d=\"M17.41 7.96l-1.37-1.37c-.4-.4-.92-.59-1.43-.59-.52 0-1.04.2-1.43.59L10.3 9.45l-7.72 7.72c-.78.78-.78 2.05 0 2.83L4 21.41c.39.39.9.59 1.41.59.51 0 1.02-.2 1.41-.59l7.78-7.78 2.81-2.81c.8-.78.8-2.07 0-2.86zM5.41 20L4 18.59l7.72-7.72 1.47 1.35L5.41 20z\"/>\n",
              "  </svg>\n",
              "      </button>\n",
              "      \n",
              "  <style>\n",
              "    .colab-df-container {\n",
              "      display:flex;\n",
              "      flex-wrap:wrap;\n",
              "      gap: 12px;\n",
              "    }\n",
              "\n",
              "    .colab-df-convert {\n",
              "      background-color: #E8F0FE;\n",
              "      border: none;\n",
              "      border-radius: 50%;\n",
              "      cursor: pointer;\n",
              "      display: none;\n",
              "      fill: #1967D2;\n",
              "      height: 32px;\n",
              "      padding: 0 0 0 0;\n",
              "      width: 32px;\n",
              "    }\n",
              "\n",
              "    .colab-df-convert:hover {\n",
              "      background-color: #E2EBFA;\n",
              "      box-shadow: 0px 1px 2px rgba(60, 64, 67, 0.3), 0px 1px 3px 1px rgba(60, 64, 67, 0.15);\n",
              "      fill: #174EA6;\n",
              "    }\n",
              "\n",
              "    [theme=dark] .colab-df-convert {\n",
              "      background-color: #3B4455;\n",
              "      fill: #D2E3FC;\n",
              "    }\n",
              "\n",
              "    [theme=dark] .colab-df-convert:hover {\n",
              "      background-color: #434B5C;\n",
              "      box-shadow: 0px 1px 3px 1px rgba(0, 0, 0, 0.15);\n",
              "      filter: drop-shadow(0px 1px 2px rgba(0, 0, 0, 0.3));\n",
              "      fill: #FFFFFF;\n",
              "    }\n",
              "  </style>\n",
              "\n",
              "      <script>\n",
              "        const buttonEl =\n",
              "          document.querySelector('#df-c9f1e4d9-1b5b-49ae-a050-489d1d2c3a61 button.colab-df-convert');\n",
              "        buttonEl.style.display =\n",
              "          google.colab.kernel.accessAllowed ? 'block' : 'none';\n",
              "\n",
              "        async function convertToInteractive(key) {\n",
              "          const element = document.querySelector('#df-c9f1e4d9-1b5b-49ae-a050-489d1d2c3a61');\n",
              "          const dataTable =\n",
              "            await google.colab.kernel.invokeFunction('convertToInteractive',\n",
              "                                                     [key], {});\n",
              "          if (!dataTable) return;\n",
              "\n",
              "          const docLinkHtml = 'Like what you see? Visit the ' +\n",
              "            '<a target=\"_blank\" href=https://colab.research.google.com/notebooks/data_table.ipynb>data table notebook</a>'\n",
              "            + ' to learn more about interactive tables.';\n",
              "          element.innerHTML = '';\n",
              "          dataTable['output_type'] = 'display_data';\n",
              "          await google.colab.output.renderOutput(dataTable, element);\n",
              "          const docLink = document.createElement('div');\n",
              "          docLink.innerHTML = docLinkHtml;\n",
              "          element.appendChild(docLink);\n",
              "        }\n",
              "      </script>\n",
              "    </div>\n",
              "  </div>\n",
              "  "
            ]
          },
          "metadata": {},
          "execution_count": 43
        }
      ]
    },
    {
      "cell_type": "code",
      "source": [
        "preds = RF_model.predict(test_x)\n",
        "print('Done.')"
      ],
      "metadata": {
        "colab": {
          "base_uri": "https://localhost:8080/"
        },
        "id": "sUcI9qjRtyU2",
        "outputId": "c694331b-5751-4ec6-a1ef-c778d7832eac"
      },
      "execution_count": null,
      "outputs": [
        {
          "output_type": "stream",
          "name": "stdout",
          "text": [
            "Done.\n"
          ]
        }
      ]
    },
    {
      "cell_type": "code",
      "source": [
        "test_x['Y_Class']=preds\n",
        "preds"
      ],
      "metadata": {
        "colab": {
          "base_uri": "https://localhost:8080/"
        },
        "id": "IYsJ59R8DvKQ",
        "outputId": "b1369c63-9d87-4ba4-d6e2-4a9d9fa04986"
      },
      "execution_count": null,
      "outputs": [
        {
          "output_type": "execute_result",
          "data": {
            "text/plain": [
              "array([2, 2, 2, 1, 1, 2, 1, 1, 2, 2, 1, 1, 2, 2, 0, 2, 2, 2, 2, 2, 2, 2,\n",
              "       2, 2, 2, 2, 2, 2, 2, 2, 2, 2, 2, 2, 2, 2, 2, 1, 2, 2, 2, 2, 0, 2,\n",
              "       2, 2, 2, 2, 2, 2, 2, 2, 0, 0, 2, 2, 2, 2, 2, 2, 2, 2, 2, 2, 0, 0,\n",
              "       0, 2, 2, 2, 2, 1, 2, 2, 2, 2, 2, 2, 2, 1, 2, 2, 2, 2, 2, 2, 0, 1,\n",
              "       0, 1, 2, 2, 2, 2, 2, 2, 2, 2, 2, 2, 2, 2, 2, 2, 2, 2, 2, 2, 2, 2,\n",
              "       2, 2, 2, 2, 2, 1, 1, 1, 2, 2, 2, 2, 2, 2, 2, 2, 2, 2, 2, 2, 2, 2,\n",
              "       2, 2, 2, 2, 2, 2, 2, 2, 2, 0, 1, 2, 2, 2, 2, 2, 2, 2, 2, 2, 2, 2,\n",
              "       2, 2, 2, 2, 2, 2, 2, 2, 2, 2, 2, 2, 2, 2, 2, 2, 2, 2, 2, 2, 2, 2,\n",
              "       2, 2, 2, 2, 2, 2, 2, 2, 2, 2, 2, 2, 2, 2, 2, 2, 2, 2, 2, 2, 2, 2,\n",
              "       2, 2, 2, 2, 2, 2, 2, 2, 2, 2, 2, 2, 2, 2, 2, 2, 2, 2, 2, 2, 2, 2,\n",
              "       2, 2, 2, 2, 2, 2, 2, 2, 2, 2, 2, 2, 2, 2, 2, 2, 2, 2, 2, 2, 2, 2,\n",
              "       2, 2, 2, 2, 2, 2, 2, 2, 2, 0, 2, 0, 2, 2, 2, 2, 2, 2, 2, 2, 2, 2,\n",
              "       2, 2, 2, 2, 2, 2, 2, 2, 2, 2, 2, 2, 2, 2, 2, 2, 2, 2, 2, 2, 2, 2,\n",
              "       2, 2, 2, 2, 2, 2, 2, 2, 2, 2, 2, 2, 2, 2, 2, 2, 2, 2, 2, 2, 2, 2,\n",
              "       2, 2])"
            ]
          },
          "metadata": {},
          "execution_count": 45
        }
      ]
    },
    {
      "cell_type": "code",
      "source": [
        "sns.countplot(x=preds);"
      ],
      "metadata": {
        "colab": {
          "base_uri": "https://localhost:8080/",
          "height": 265
        },
        "id": "TPukl7Nk2bH1",
        "outputId": "819848de-402a-4f15-9dba-bca0f78a0fbf"
      },
      "execution_count": null,
      "outputs": [
        {
          "output_type": "display_data",
          "data": {
            "text/plain": [
              "<Figure size 432x288 with 1 Axes>"
            ],
            "image/png": "[encoded data removed]"
          },
          "metadata": {
            "needs_background": "light"
          }
        }
      ]
    },
    {
      "cell_type": "code",
      "source": [],
      "metadata": {
        "id": "OhYKzO279lgJ"
      },
      "execution_count": null,
      "outputs": []
    },
    {
      "cell_type": "code",
      "source": [],
      "metadata": {
        "id": "jKpDM1Q29llQ"
      },
      "execution_count": null,
      "outputs": []
    },
    {
      "cell_type": "markdown",
      "source": [
        "# 6.Submit"
      ],
      "metadata": {
        "id": "zZCIp_9ct2bQ"
      }
    },
    {
      "cell_type": "code",
      "source": [
        "submit = pd.read_csv('/content/drive/MyDrive/sample_submission.csv')  \n",
        "\n",
        "submit['Y_Class'] = preds \n",
        "submit.to_csv('smartFactory_submission.csv', index=False)  "
      ],
      "metadata": {
        "id": "Cyfb21qOt4dn"
      },
      "execution_count": 349,
      "outputs": []
    },
    {
      "cell_type": "markdown",
      "source": [
        "# THE END\n"
      ],
      "metadata": {
        "id": "hcNFz5zguHMQ"
      }
    },
    {
      "cell_type": "code",
      "source": [
        "sns.countplot(x=preds, order=['0','1','2']);"
      ],
      "metadata": {
        "id": "l4x3CNe09oiT",
        "colab": {
          "base_uri": "https://localhost:8080/",
          "height": 265
        },
        "outputId": "b8e9c2a0-7cc3-4d40-e6d3-2c92b78fa8c5"
      },
      "execution_count": 350,
      "outputs": [
        {
          "output_type": "display_data",
          "data": {
            "text/plain": [
              "<Figure size 432x288 with 1 Axes>"
            ],
            "image/png": "[encoded data removed]"
          },
          "metadata": {
            "needs_background": "light"
          }
        }
      ]
    },
    {
      "cell_type": "code",
      "source": [],
      "metadata": {
        "id": "5asYFRqp7j0f"
      },
      "execution_count": null,
      "outputs": []
    }
  ]
}