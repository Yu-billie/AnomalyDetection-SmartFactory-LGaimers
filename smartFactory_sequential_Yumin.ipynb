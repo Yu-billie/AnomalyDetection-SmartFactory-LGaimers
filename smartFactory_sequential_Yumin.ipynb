{
  "cells": [
    {
      "cell_type": "code",
      "execution_count": null,
      "metadata": {
        "colab": {
          "base_uri": "https://localhost:8080/"
        },
        "outputId": "c74ed87a-784a-4d96-883e-0f65fd15758d",
        "id": "edWlZSskiEhV"
      },
      "outputs": [
        {
          "output_type": "stream",
          "name": "stdout",
          "text": [
            "Mounted at /content/drive\n"
          ]
        }
      ],
      "source": [
        "import pandas as pd\n",
        "import random\n",
        "import os\n",
        "import numpy as np\n",
        "import matplotlib.pyplot as plt   \n",
        "import matplotlib.patches as mpathces \n",
        "import seaborn as sns \n",
        "\n",
        "# sklearn \n",
        "from sklearn.preprocessing import LabelEncoder\n",
        "from sklearn.model_selection import train_test_split\n",
        "from sklearn.metrics import accuracy_score, classification_report, f1_score\n",
        "from sklearn.preprocessing import StandardScaler\n",
        "from sklearn.preprocessing import MinMaxScaler\n",
        "from sklearn.ensemble import VotingClassifier\n",
        "\n",
        "# sequential model modeling \n",
        "import tensorflow as tf\n",
        "from keras import regularizers\n",
        "from keras.models import Sequential\n",
        "from keras.layers import Dense,Dropout, Activation, BatchNormalization \n",
        "from keras import optimizers, metrics, callbacks\n",
        "\n",
        "# oversampling imbalanced learning \n",
        "from imblearn.over_sampling import SMOTE, BorderlineSMOTE, ADASYN, SVMSMOTE \n",
        "\n",
        "import optuna\n",
        "from optuna.samplers import TPESampler\n",
        "from optuna import Trial\n",
        "\n",
        "# GoodleDrive mount\n",
        "from google.colab import drive   \n",
        "drive.mount('/content/drive')"
      ],
      "id": "edWlZSskiEhV"
    },
    {
      "cell_type": "code",
      "execution_count": 2,
      "id": "94682a80",
      "metadata": {
        "colab": {
          "base_uri": "https://localhost:8080/"
        },
        "id": "94682a80",
        "outputId": "48c899d1-d535-44a1-eef8-3430860030a7"
      },
      "outputs": [
        {
          "output_type": "stream",
          "name": "stdout",
          "text": [
            "Mounted at /content/drive\n"
          ]
        }
      ],
      "source": [
        "import pandas as pd\n",
        "import random\n",
        "import os\n",
        "import numpy as np\n",
        "import matplotlib.pyplot as plt   \n",
        "import seaborn as sns \n",
        "\n",
        "from sklearn.preprocessing import LabelEncoder\n",
        "from sklearn.model_selection import train_test_split\n",
        "\n",
        "import tensorflow as tf\n",
        "from tensorflow.keras import regularizers\n",
        "from keras.models import Sequential\n",
        "from keras.layers import Dense,Dropout, Activation\n",
        "\n",
        "from sklearn.metrics import f1_score, classification_report\n",
        "from catboost import CatBoostClassifier\n",
        "\n",
        "\n",
        "import optuna\n",
        "from optuna.samplers import TPESampler\n",
        "from optuna import Trial\n",
        "\n",
        "from google.colab import drive  # GoodleDrive mount \n",
        "drive.mount('/content/drive')"
      ]
    },
    {
      "cell_type": "markdown",
      "id": "wqkW_3EbQxj1",
      "metadata": {
        "id": "wqkW_3EbQxj1"
      },
      "source": [
        "# 1.preprocessing\n",
        "1. Label Encoding: categorical values `LINE`, `PRODUCT_CODE`\n",
        "2. Missing values: fillna(0) \n",
        "3. scaling: StandardScaler"
      ]
    },
    {
      "cell_type": "code",
      "execution_count": null,
      "metadata": {
        "colab": {
          "base_uri": "https://localhost:8080/"
        },
        "outputId": "979289c3-9537-43af-e340-10bd15074c1a",
        "id": "FLHA36Z1iEhW"
      },
      "outputs": [
        {
          "output_type": "stream",
          "name": "stdout",
          "text": [
            "Epoch 1/10\n",
            "8/8 [==============================] - 4s 33ms/step - loss: 0.8584 - accuracy: 0.6695 - val_loss: 0.9085 - val_accuracy: 0.6333\n",
            "Epoch 2/10\n",
            "8/8 [==============================] - 0s 7ms/step - loss: 0.6826 - accuracy: 0.7364 - val_loss: 0.9080 - val_accuracy: 0.6417\n",
            "Epoch 3/10\n",
            "8/8 [==============================] - 0s 6ms/step - loss: 0.6440 - accuracy: 0.7385 - val_loss: 0.9296 - val_accuracy: 0.6500\n",
            "Epoch 4/10\n",
            "8/8 [==============================] - 0s 7ms/step - loss: 0.6474 - accuracy: 0.7636 - val_loss: 1.0604 - val_accuracy: 0.6250\n",
            "Epoch 5/10\n",
            "8/8 [==============================] - 0s 7ms/step - loss: 0.6232 - accuracy: 0.7720 - val_loss: 0.9168 - val_accuracy: 0.6250\n",
            "Epoch 6/10\n",
            "8/8 [==============================] - 0s 7ms/step - loss: 0.5536 - accuracy: 0.7971 - val_loss: 1.0447 - val_accuracy: 0.6250\n",
            "Epoch 7/10\n",
            "8/8 [==============================] - 0s 7ms/step - loss: 0.5530 - accuracy: 0.7929 - val_loss: 1.0145 - val_accuracy: 0.6250\n",
            "Epoch 8/10\n",
            "8/8 [==============================] - 0s 7ms/step - loss: 0.5615 - accuracy: 0.7845 - val_loss: 0.9686 - val_accuracy: 0.6333\n",
            "Epoch 9/10\n",
            "8/8 [==============================] - 0s 7ms/step - loss: 0.5240 - accuracy: 0.7929 - val_loss: 1.0133 - val_accuracy: 0.6250\n",
            "Epoch 10/10\n",
            "8/8 [==============================] - 0s 7ms/step - loss: 0.5401 - accuracy: 0.7887 - val_loss: 0.9969 - val_accuracy: 0.6417\n"
          ]
        }
      ],
      "source": [
        "train_df = pd.read_csv('/content/drive/MyDrive/train.csv')\n",
        "test_df = pd.read_csv('/content/drive/MyDrive/test.csv')\n",
        "submit = pd.read_csv('/content/drive/MyDrive/sample_submission.csv')\n",
        "\n",
        "train_x = train_df.drop(columns=['PRODUCT_ID', 'TIMESTAMP', 'Y_Class','Y_Quality'])\n",
        "train_y = train_df['Y_Class']\n",
        "test_x = test_df.drop(columns=['PRODUCT_ID', 'TIMESTAMP'])   \n",
        "\n",
        "# 1) qualitative to quantitative\n",
        "qual_col = ['LINE', 'PRODUCT_CODE']\n",
        "for i in qual_col:\n",
        "    le = LabelEncoder()    # TRY one-hot encoding \n",
        "    le = le.fit(train_x[i])\n",
        "    train_x[i] = le.transform(train_x[i])\n",
        "    for label in np.unique(test_x[i]): \n",
        "        if label not in le.classes_: \n",
        "            le.classes_ = np.append(le.classes_, label)\n",
        "    test_x[i] = le.transform(test_x[i]) \n",
        "\n",
        "# 2) Missing Values \n",
        "train_x = train_x.fillna(0)\n",
        "test_x = test_x.fillna(0)\n",
        "\n",
        "\n",
        "# 3) scaling: only `X_???` values (continuous)\n",
        "Xs = train_x.select_dtypes(include=float).iloc[:,1:].columns.tolist()\n",
        "scaler = StandardScaler().fit(train_x.loc[:, Xs])\n",
        "train_x.loc[:, Xs] = scaler.transform(train_x.loc[:, Xs])\n",
        "test_x.loc[:, Xs] = scaler.transform(test_x.loc[:, Xs])\n",
        "\n",
        "model = Sequential([\n",
        "        # Input layer: ReLU (decide input size according to dimension)\n",
        "        Dense(512, activation='relu', input_shape=(train_x.shape[-1],)),      \n",
        "\n",
        "        # layer2: softmax  (output layer)\n",
        "        Dense(3, activation='softmax')\n",
        "        ])\n",
        "\n",
        "\n",
        "model.compile(optimizer = optimizers.Adam(1e-4),  # decrease learning rate (default learning rate=1e-3) \n",
        "              loss='sparse_categorical_crossentropy',  # tow or more label classes (`Y_Class`: 0,1,2)\n",
        "              metrics=['accuracy'])\n",
        "\n",
        "history = model.fit(train_x, train_y,\n",
        "                    epochs=10,\n",
        "                    batch_size=64,  # batch size: 2^x && half of data size(598/2) \n",
        "                    validation_split=0.2,\n",
        "                    # callbacks=callbacks\n",
        "                    )   "
      ],
      "id": "FLHA36Z1iEhW"
    },
    {
      "cell_type": "code",
      "execution_count": null,
      "metadata": {
        "id": "57a8de60",
        "scrolled": true,
        "colab": {
          "base_uri": "https://localhost:8080/",
          "height": 466
        },
        "outputId": "4e115f24-88f7-40f3-dcfd-2f799186d7ab"
      },
      "outputs": [
        {
          "output_type": "stream",
          "name": "stdout",
          "text": [
            "10/10 [==============================] - 0s 2ms/step\n"
          ]
        },
        {
          "output_type": "error",
          "ename": "AttributeError",
          "evalue": "ignored",
          "traceback": [
            "\u001b[0;31m---------------------------------------------------------------------------\u001b[0m",
            "\u001b[0;31mAttributeError\u001b[0m                            Traceback (most recent call last)",
            "\u001b[0;32m<ipython-input-4-9d962316cb57>\u001b[0m in \u001b[0;36m<module>\u001b[0;34m\u001b[0m\n\u001b[1;32m      5\u001b[0m     \u001b[0ma\u001b[0m\u001b[0;34m.\u001b[0m\u001b[0mappend\u001b[0m\u001b[0;34m(\u001b[0m\u001b[0mi\u001b[0m\u001b[0;34m.\u001b[0m\u001b[0mindex\u001b[0m\u001b[0;34m(\u001b[0m\u001b[0mmax\u001b[0m\u001b[0;34m(\u001b[0m\u001b[0mi\u001b[0m\u001b[0;34m)\u001b[0m\u001b[0;34m)\u001b[0m\u001b[0;34m)\u001b[0m\u001b[0;34m\u001b[0m\u001b[0;34m\u001b[0m\u001b[0m\n\u001b[1;32m      6\u001b[0m \u001b[0msns\u001b[0m\u001b[0;34m.\u001b[0m\u001b[0mcountplot\u001b[0m\u001b[0;34m(\u001b[0m\u001b[0mx\u001b[0m\u001b[0;34m=\u001b[0m\u001b[0ma\u001b[0m\u001b[0;34m)\u001b[0m\u001b[0;34m;\u001b[0m\u001b[0;34m\u001b[0m\u001b[0;34m\u001b[0m\u001b[0m\n\u001b[0;32m----> 7\u001b[0;31m \u001b[0ma\u001b[0m\u001b[0;34m.\u001b[0m\u001b[0mreshape\u001b[0m\u001b[0;34m(\u001b[0m\u001b[0;34m[\u001b[0m\u001b[0;36m1\u001b[0m\u001b[0;34m,\u001b[0m\u001b[0;36m310\u001b[0m\u001b[0;34m]\u001b[0m\u001b[0;34m)\u001b[0m\u001b[0;34m\u001b[0m\u001b[0;34m\u001b[0m\u001b[0m\n\u001b[0m",
            "\u001b[0;31mAttributeError\u001b[0m: 'list' object has no attribute 'reshape'"
          ]
        },
        {
          "output_type": "display_data",
          "data": {
            "text/plain": [
              "<Figure size 432x288 with 1 Axes>"
            ],
            "image/png": "[encoded data removed]"
          },
          "metadata": {
            "needs_background": "light"
          }
        }
      ],
      "source": [
        "preds = model.predict(test_x)\n",
        "a=[]\n",
        "for i in preds: \n",
        "    i = list(i)\n",
        "    a.append(i.index(max(i)))\n",
        "sns.countplot(x=a);  "
      ],
      "id": "57a8de60"
    },
    {
      "cell_type": "code",
      "execution_count": null,
      "metadata": {
        "id": "b687c6a1"
      },
      "outputs": [],
      "source": [
        "submit = pd.read_csv('/content/drive/MyDrive/sample_submission.csv')\n",
        "submit['Y_Class'] = a\n",
        "\n",
        "submit.to_csv('ANN.stsc.trainx.b64-smartFactorySubmission.csv', index=False)"
      ],
      "id": "b687c6a1"
    },
    {
      "cell_type": "code",
      "execution_count": null,
      "metadata": {
        "colab": {
          "base_uri": "https://localhost:8080/",
          "height": 295
        },
        "id": "f5a8c473",
        "outputId": "fcd7e3ac-a62a-4577-db75-1845d8d40c27"
      },
      "outputs": [
        {
          "output_type": "display_data",
          "data": {
            "text/plain": [
              "<Figure size 1008x288 with 2 Axes>"
            ],
            "image/png": "[encoded data removed]"
          },
          "metadata": {
            "needs_background": "light"
          }
        }
      ],
      "source": [
        "epochs = range(1, len(history.history[\"loss\"]) + 1)\n",
        "\n",
        "fig, axes = plt.subplots(1,2,figsize=(14,4))\n",
        "ax= axes.flatten()\n",
        "a, b = ax[0], ax[1]\n",
        "\n",
        "a.plot(epochs, history.history[\"loss\"], \"bo\", label=\"Training loss\")\n",
        "a.plot(epochs, history.history[\"val_loss\"], \"b\", label=\"Validation loss\")\n",
        "a.set_title(\"Training and validation loss\")\n",
        "a.set_xlabel(\"Epochs\")\n",
        "a.set_ylabel(\"Loss\")\n",
        "a.legend()   \n",
        "\n",
        "b.plot(epochs, history.history[\"accuracy\"], \"bo\", label=\"Training accuracy\")\n",
        "b.plot(epochs, history.history[\"val_accuracy\"], \"b\", label=\"Validation accuracy\")\n",
        "b.set_title(\"Training and validation accuracy\")\n",
        "b.set_xlabel(\"Epochs\")\n",
        "b.set_ylabel(\"Accuracy\")\n",
        "b.legend();"
      ],
      "id": "f5a8c473"
    },
    {
      "cell_type": "code",
      "execution_count": null,
      "id": "369e67a9",
      "metadata": {
        "id": "369e67a9"
      },
      "outputs": [],
      "source": []
    }
  ],
  "metadata": {
    "accelerator": "GPU",
    "colab": {
      "provenance": [],
      "machine_shape": "hm",
      "toc_visible": true
    },
    "gpuClass": "premium",
    "kernelspec": {
      "display_name": "Python 3 (ipykernel)",
      "language": "python",
      "name": "python3"
    },
    "language_info": {
      "codemirror_mode": {
        "name": "ipython",
        "version": 3
      },
      "file_extension": ".py",
      "mimetype": "text/x-python",
      "name": "python",
      "nbconvert_exporter": "python",
      "pygments_lexer": "ipython3",
      "version": "3.9.7"
    }
  },
  "nbformat": 4,
  "nbformat_minor": 5
}